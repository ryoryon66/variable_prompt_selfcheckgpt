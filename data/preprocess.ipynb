{
 "cells": [
  {
   "cell_type": "code",
   "execution_count": 20,
   "metadata": {},
   "outputs": [],
   "source": [
    "import pandas as pd\n",
    "import re\n",
    "\n",
    "\n",
    "df = pd.read_csv('df_JAQKET.csv')\n",
    "\n",
    "df = df[:100]\n",
    "\n",
    "def sentence_splitter(s:str):\n",
    "    \n",
    "    # 文末表現一覧\n",
    "    end_pattern : str = r'[.。?！？!]'\n",
    "    \n",
    "    # 文末表現で分割\n",
    "    split_sentense = re.split(end_pattern, s)\n",
    "    \n",
    "    \n",
    "    \n",
    "    return split_sentense"
   ]
  },
  {
   "cell_type": "code",
   "execution_count": 21,
   "metadata": {},
   "outputs": [],
   "source": [
    "df[\"generated_answer\"] = df[\"generated_answer\"].apply(lambda x: x.replace(\"。\\n\", \"。\"))"
   ]
  },
  {
   "cell_type": "code",
   "execution_count": 22,
   "metadata": {},
   "outputs": [],
   "source": [
    "df[\"output_lines\"] = df[\"generated_answer\"].apply(lambda x: len(list(filter(lambda y: y != \"\", sentence_splitter(x)))))"
   ]
  },
  {
   "cell_type": "markdown",
   "metadata": {},
   "source": []
  },
  {
   "cell_type": "code",
   "execution_count": 23,
   "metadata": {},
   "outputs": [
    {
     "data": {
      "text/plain": [
       "0     1\n",
       "1     4\n",
       "2     1\n",
       "3     1\n",
       "4     1\n",
       "     ..\n",
       "95    1\n",
       "96    1\n",
       "97    1\n",
       "98    1\n",
       "99    1\n",
       "Name: output_lines, Length: 100, dtype: int64"
      ]
     },
     "execution_count": 23,
     "metadata": {},
     "output_type": "execute_result"
    }
   ],
   "source": [
    "df[\"output_lines\"]"
   ]
  },
  {
   "cell_type": "code",
   "execution_count": 24,
   "metadata": {},
   "outputs": [],
   "source": [
    "df[\"annot\"] = df[\"factuality\"].apply(lambda x: len(list(filter(lambda y: y != \"\", x.split(\",\")))))"
   ]
  },
  {
   "cell_type": "code",
   "execution_count": 25,
   "metadata": {},
   "outputs": [],
   "source": [
    "res = df[\"output_lines\"] == df[\"annot\"]"
   ]
  },
  {
   "cell_type": "code",
   "execution_count": 26,
   "metadata": {},
   "outputs": [
    {
     "data": {
      "text/plain": [
       "Series([], dtype: bool)"
      ]
     },
     "execution_count": 26,
     "metadata": {},
     "output_type": "execute_result"
    }
   ],
   "source": [
    "res[res == False]"
   ]
  },
  {
   "cell_type": "code",
   "execution_count": 27,
   "metadata": {},
   "outputs": [
    {
     "data": {
      "text/html": [
       "<div>\n",
       "<style scoped>\n",
       "    .dataframe tbody tr th:only-of-type {\n",
       "        vertical-align: middle;\n",
       "    }\n",
       "\n",
       "    .dataframe tbody tr th {\n",
       "        vertical-align: top;\n",
       "    }\n",
       "\n",
       "    .dataframe thead th {\n",
       "        text-align: right;\n",
       "    }\n",
       "</style>\n",
       "<table border=\"1\" class=\"dataframe\">\n",
       "  <thead>\n",
       "    <tr style=\"text-align: right;\">\n",
       "      <th></th>\n",
       "      <th>qid</th>\n",
       "      <th>question</th>\n",
       "      <th>answer</th>\n",
       "      <th>generated_answer</th>\n",
       "      <th>factuality</th>\n",
       "      <th>faithfulness</th>\n",
       "      <th>collapsed</th>\n",
       "      <th>Unnamed: 7</th>\n",
       "      <th>備考</th>\n",
       "      <th>output_lines</th>\n",
       "      <th>annot</th>\n",
       "    </tr>\n",
       "  </thead>\n",
       "  <tbody>\n",
       "    <tr>\n",
       "      <th>90</th>\n",
       "      <td>QA20CAPR-0181</td>\n",
       "      <td>オランダ語で「ロバ」という意味がある、絵を描くときにキャンバスを立てかける三脚の台を何という...</td>\n",
       "      <td>イーゼル</td>\n",
       "      <td>スツール・デ・コルヌ・ロバ・スタンド・セット オランダ語で「ロバ」という意味がある、絵を描く...</td>\n",
       "      <td>0,0</td>\n",
       "      <td>NaN</td>\n",
       "      <td>NaN</td>\n",
       "      <td>NaN</td>\n",
       "      <td>NaN</td>\n",
       "      <td>2</td>\n",
       "      <td>2</td>\n",
       "    </tr>\n",
       "  </tbody>\n",
       "</table>\n",
       "</div>"
      ],
      "text/plain": [
       "              qid                                           question answer  \\\n",
       "90  QA20CAPR-0181  オランダ語で「ロバ」という意味がある、絵を描くときにキャンバスを立てかける三脚の台を何という...   イーゼル   \n",
       "\n",
       "                                     generated_answer factuality faithfulness  \\\n",
       "90  スツール・デ・コルヌ・ロバ・スタンド・セット オランダ語で「ロバ」という意味がある、絵を描く...        0,0          NaN   \n",
       "\n",
       "    collapsed Unnamed: 7   備考  output_lines  annot  \n",
       "90        NaN        NaN  NaN             2      2  "
      ]
     },
     "execution_count": 27,
     "metadata": {},
     "output_type": "execute_result"
    }
   ],
   "source": [
    "df[90:91]"
   ]
  },
  {
   "cell_type": "code",
   "execution_count": null,
   "metadata": {},
   "outputs": [],
   "source": []
  },
  {
   "cell_type": "code",
   "execution_count": null,
   "metadata": {},
   "outputs": [],
   "source": []
  }
 ],
 "metadata": {
  "kernelspec": {
   "display_name": "Python 3",
   "language": "python",
   "name": "python3"
  },
  "language_info": {
   "codemirror_mode": {
    "name": "ipython",
    "version": 3
   },
   "file_extension": ".py",
   "mimetype": "text/x-python",
   "name": "python",
   "nbconvert_exporter": "python",
   "pygments_lexer": "ipython3",
   "version": "3.9.8"
  }
 },
 "nbformat": 4,
 "nbformat_minor": 2
}
