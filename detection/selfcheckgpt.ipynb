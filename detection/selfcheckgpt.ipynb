{
 "cells": [
  {
   "cell_type": "code",
   "execution_count": 1,
   "metadata": {},
   "outputs": [],
   "source": [
    "import sys \n",
    "import pandas as pd\n",
    "import logging\n",
    "\n",
    "sys.path.append('../')\n",
    "\n",
    "import utils.llm \n",
    "import utils.scoring\n",
    "\n",
    "logger = logging.getLogger()\n",
    "handler = logging.StreamHandler(sys.stdout)\n",
    "handler.setLevel(logging.INFO)\n",
    "logger.addHandler(handler)\n",
    "logger.setLevel(logging.INFO)\n",
    "\n",
    "DATA_DIR = '../data/'\n",
    "\n",
    "TEMPERATURE = 0.7\n",
    "SAMPLE_N = 5\n",
    "\n",
    "\n",
    "\n",
    "\n",
    "annotated_df = pd.read_csv(DATA_DIR + 'df_JAQKET.csv')\n",
    "\n",
    "num_questions = annotated_df.shape[0]\n",
    "\n",
    "num_questions = 100\n"
   ]
  },
  {
   "cell_type": "code",
   "execution_count": 2,
   "metadata": {},
   "outputs": [
    {
     "name": "stdout",
     "output_type": "stream",
     "text": [
      "\n",
      "===================================BUG REPORT===================================\n",
      "Welcome to bitsandbytes. For bug reports, please run\n",
      "\n",
      "python -m bitsandbytes\n",
      "\n",
      " and submit this information together with your error trace to: https://github.com/TimDettmers/bitsandbytes/issues\n",
      "================================================================================\n",
      "bin /home/ryoryon66/.pyenv/versions/3.9.8/lib/python3.9/site-packages/bitsandbytes/libbitsandbytes_cpu.so\n",
      "CUDA SETUP: WARNING! libcuda.so not found! Do you have a CUDA driver installed? If you are on a cluster, make sure you are on a CUDA machine!\n",
      "CUDA SETUP: CUDA runtime path found: /usr/local/cuda/lib64/libcudart.so\n",
      "CUDA SETUP: Loading binary /home/ryoryon66/.pyenv/versions/3.9.8/lib/python3.9/site-packages/bitsandbytes/libbitsandbytes_cpu.so...\n"
     ]
    },
    {
     "name": "stderr",
     "output_type": "stream",
     "text": [
      "/home/ryoryon66/.pyenv/versions/3.9.8/lib/python3.9/site-packages/bitsandbytes/cuda_setup/main.py:149: UserWarning: WARNING: No GPU detected! Check your CUDA paths. Proceeding to load CPU-only library...\n",
      "  warn(msg)\n"
     ]
    }
   ],
   "source": [
    "llm = utils.llm.LLM()"
   ]
  },
  {
   "cell_type": "code",
   "execution_count": 3,
   "metadata": {},
   "outputs": [],
   "source": [
    "import random\n",
    "\n",
    "\n",
    "def sampling(query:str,temperature:float,sample_n:int) -> list[str]:\n",
    "    \n",
    "    sampled = []\n",
    "    \n",
    "    for i in range(sample_n):\n",
    "        \n",
    "        # gen random string \n",
    "        # rs = ''.join(random.choices('abcdefghijklmnopqrstuvwxyz', k=20))\n",
    "        \n",
    "        # q = rs + \" \" + query\n",
    "        q = query\n",
    "        sampled.append(llm.generate(q,temperature))\n",
    "    \n",
    "    logger.info(\"sampled: {}\".format(sampled))\n",
    "    \n",
    "    return sampled\n",
    "\n",
    "def get_hallucination_score(query:str,output:str) -> tuple[list[float],list[float],list[float]]: \n",
    "    \n",
    "    sampled = sampling(query,TEMPERATURE,SAMPLE_N)\n",
    "    pr_scores,re_scores, f1_scores = utils.scoring.get_hallucination_score(output,sampled)\n",
    "    \n",
    "    logger.info(\"hallucination pr_scores: {}\".format(pr_scores))\n",
    "    logger.info(\"hallucination re_scores: {}\".format(re_scores))\n",
    "    logger.info(\"hallucination f1_scores: {}\".format(f1_scores))\n",
    "    \n",
    "    return pr_scores,re_scores, f1_scores\n",
    "\n",
    "\n"
   ]
  },
  {
   "cell_type": "code",
   "execution_count": 4,
   "metadata": {},
   "outputs": [],
   "source": [
    "# get_hallucination_score('京都大学の計算機科学コースで行う実験は何ですか','マリオAIを作成する実験です。')"
   ]
  },
  {
   "cell_type": "code",
   "execution_count": 5,
   "metadata": {},
   "outputs": [
    {
     "name": "stdout",
     "output_type": "stream",
     "text": [
      "processing 0 / 100\n",
      "QA20CAPR-0001 和名をハダカカメガイといい、実は巻き貝の一種とされている、その姿から「流氷の天使」と呼ばれる動物は何でしょう? マンタレイ\n",
      "sampled: ['ホッキョククジラ', 'オウムガイ科の一種、クリオネです。', 'マンタ', 'ホッキョクギツネ', 'オウムガイ科 オウムガイ属に属する貝の一種です。貝殻は透明で、真珠層と貝柱があります。オウムガイ科の貝類は世界中に広く分布していますが、日本や韓国の大部分では見られないとされています。']\n",
      "r_sentences\n",
      "['マンタレイ']\n",
      "マンタレイ\n"
     ]
    },
    {
     "name": "stderr",
     "output_type": "stream",
     "text": [
      "Some weights of the model checkpoint at bert-base-multilingual-cased were not used when initializing BertModel: ['cls.predictions.transform.dense.weight', 'cls.seq_relationship.weight', 'cls.predictions.transform.LayerNorm.weight', 'cls.predictions.bias', 'cls.seq_relationship.bias', 'cls.predictions.transform.dense.bias', 'cls.predictions.transform.LayerNorm.bias']\n",
      "- This IS expected if you are initializing BertModel from the checkpoint of a model trained on another task or with another architecture (e.g. initializing a BertForSequenceClassification model from a BertForPreTraining model).\n",
      "- This IS NOT expected if you are initializing BertModel from the checkpoint of a model that you expect to be exactly identical (initializing a BertForSequenceClassification model from a BertForSequenceClassification model).\n",
      "Warning: Baseline not Found for bert-base-multilingual-cased on ja at /home/ryoryon66/.pyenv/versions/3.9.8/lib/python3.9/site-packages/bert_score/rescale_baseline/ja/bert-base-multilingual-cased.tsv\n",
      "Some weights of the model checkpoint at bert-base-multilingual-cased were not used when initializing BertModel: ['cls.predictions.transform.dense.weight', 'cls.seq_relationship.weight', 'cls.predictions.transform.LayerNorm.weight', 'cls.predictions.bias', 'cls.seq_relationship.bias', 'cls.predictions.transform.dense.bias', 'cls.predictions.transform.LayerNorm.bias']\n",
      "- This IS expected if you are initializing BertModel from the checkpoint of a model trained on another task or with another architecture (e.g. initializing a BertForSequenceClassification model from a BertForPreTraining model).\n",
      "- This IS NOT expected if you are initializing BertModel from the checkpoint of a model that you expect to be exactly identical (initializing a BertForSequenceClassification model from a BertForSequenceClassification model).\n",
      "Warning: Baseline not Found for bert-base-multilingual-cased on ja at /home/ryoryon66/.pyenv/versions/3.9.8/lib/python3.9/site-packages/bert_score/rescale_baseline/ja/bert-base-multilingual-cased.tsv\n",
      "Some weights of the model checkpoint at bert-base-multilingual-cased were not used when initializing BertModel: ['cls.predictions.transform.dense.weight', 'cls.seq_relationship.weight', 'cls.predictions.transform.LayerNorm.weight', 'cls.predictions.bias', 'cls.seq_relationship.bias', 'cls.predictions.transform.dense.bias', 'cls.predictions.transform.LayerNorm.bias']\n",
      "- This IS expected if you are initializing BertModel from the checkpoint of a model trained on another task or with another architecture (e.g. initializing a BertForSequenceClassification model from a BertForPreTraining model).\n",
      "- This IS NOT expected if you are initializing BertModel from the checkpoint of a model that you expect to be exactly identical (initializing a BertForSequenceClassification model from a BertForSequenceClassification model).\n",
      "Warning: Baseline not Found for bert-base-multilingual-cased on ja at /home/ryoryon66/.pyenv/versions/3.9.8/lib/python3.9/site-packages/bert_score/rescale_baseline/ja/bert-base-multilingual-cased.tsv\n",
      "Some weights of the model checkpoint at bert-base-multilingual-cased were not used when initializing BertModel: ['cls.predictions.transform.dense.weight', 'cls.seq_relationship.weight', 'cls.predictions.transform.LayerNorm.weight', 'cls.predictions.bias', 'cls.seq_relationship.bias', 'cls.predictions.transform.dense.bias', 'cls.predictions.transform.LayerNorm.bias']\n",
      "- This IS expected if you are initializing BertModel from the checkpoint of a model trained on another task or with another architecture (e.g. initializing a BertForSequenceClassification model from a BertForPreTraining model).\n",
      "- This IS NOT expected if you are initializing BertModel from the checkpoint of a model that you expect to be exactly identical (initializing a BertForSequenceClassification model from a BertForSequenceClassification model).\n",
      "Warning: Baseline not Found for bert-base-multilingual-cased on ja at /home/ryoryon66/.pyenv/versions/3.9.8/lib/python3.9/site-packages/bert_score/rescale_baseline/ja/bert-base-multilingual-cased.tsv\n",
      "Some weights of the model checkpoint at bert-base-multilingual-cased were not used when initializing BertModel: ['cls.predictions.transform.dense.weight', 'cls.seq_relationship.weight', 'cls.predictions.transform.LayerNorm.weight', 'cls.predictions.bias', 'cls.seq_relationship.bias', 'cls.predictions.transform.dense.bias', 'cls.predictions.transform.LayerNorm.bias']\n",
      "- This IS expected if you are initializing BertModel from the checkpoint of a model trained on another task or with another architecture (e.g. initializing a BertForSequenceClassification model from a BertForPreTraining model).\n",
      "- This IS NOT expected if you are initializing BertModel from the checkpoint of a model that you expect to be exactly identical (initializing a BertForSequenceClassification model from a BertForSequenceClassification model).\n"
     ]
    },
    {
     "name": "stdout",
     "output_type": "stream",
     "text": [
      "hallucination pr_scores: [0.2779397964477539]\n",
      "hallucination re_scores: [0.3075794219970703]\n",
      "hallucination f1_scores: [0.29431746006011966]\n",
      "processing 1 / 100\n"
     ]
    },
    {
     "name": "stderr",
     "output_type": "stream",
     "text": [
      "Warning: Baseline not Found for bert-base-multilingual-cased on ja at /home/ryoryon66/.pyenv/versions/3.9.8/lib/python3.9/site-packages/bert_score/rescale_baseline/ja/bert-base-multilingual-cased.tsv\n",
      "/tmp/ipykernel_28939/1749957329.py:18: FutureWarning: The frame.append method is deprecated and will be removed from pandas in a future version. Use pandas.concat instead.\n",
      "  score_df = score_df.append({\n"
     ]
    },
    {
     "name": "stdout",
     "output_type": "stream",
     "text": [
      "QA20CAPR-0003 作家のルスティケロが、マルコ・ポーロから聞いた話をまとめた作品といえば何でしょう? 黄金の島 イタリア ヴェネツィア マルコ・ポーロは、1453年から1547年までヴェネツィア共和国の大使を務めていました。\n",
      "ルスティケロは、ヴェネツィアの大使として、マルコ・ポーロから聞いた話をまとめました。\n",
      "マルコ・ポーロは、ヴェネツィアの大使として、ヴェネツィアの文化や歴史について多くの著作を残しています。\n",
      "したがって、正解はマルコ・ポーロです。\n",
      "\n",
      "sampled: ['『ルスティケロの本』。 ルスティケロはイタリアの作家・旅行家でした。彼は17世紀のイタリアに滞在し、多くの文化や人々との出会いから様々な情報を収集しました。この本は、マルコ・ポーロや彼の旅に関する彼の情報と知識を集約したものです。', '『東方見聞録』です。', '『ルスティケロ・デッラ・コンコルディア』。 この作品は、マルコ・ポーロがイタリアから中国に旅した時の模様を、ルスティケロ自身が書き留めた著作です。 この作品は、マルコ・ポーロが自身の旅行記としてではなく、中国に関する著作として出版されたものです。', '『東方見聞録』。この本は、マルコ・ポーロによって書かれたものです。彼は多くの著作を残し、東洋の国々を旅して周りました。彼の旅行記の多くは、イスラム文化やインド帝国などのアジアの国々について語っています。この本は、イタリアからのマルコ・ポーロの帰国に触発されて書かれました。そのため、彼が見たことを記した本として非常に有名です。', '「ルスティケロの書」です。 この作品は、マルコ・ポーロによる旅の物語を、彼の友人であるルスティケロが書き留めたものであり、彼の経験や周囲の状況に合わせたアレンジが施されています。 彼の作品は、マルコ・ポーロとの友情と、彼についての印象的な描写で満ちています。']\n",
      "r_sentences\n",
      "['黄金の島 イタリア ヴェネツィア マルコ・ポーロは、1453年から1547年までヴェネツィア共和国の大使を務めていました', 'ルスティケロは、ヴェネツィアの大使として、マルコ・ポーロから聞いた話をまとめました', 'マルコ・ポーロは、ヴェネツィアの大使として、ヴェネツィアの文化や歴史について多くの著作を残しています', 'したがって、正解はマルコ・ポーロです']\n",
      "黄金の島 イタリア ヴェネツィア マルコ・ポーロは、1453年から1547年までヴェネツィア共和国の大使を務めていました\n"
     ]
    },
    {
     "name": "stderr",
     "output_type": "stream",
     "text": [
      "Some weights of the model checkpoint at bert-base-multilingual-cased were not used when initializing BertModel: ['cls.predictions.transform.dense.weight', 'cls.seq_relationship.weight', 'cls.predictions.transform.LayerNorm.weight', 'cls.predictions.bias', 'cls.seq_relationship.bias', 'cls.predictions.transform.dense.bias', 'cls.predictions.transform.LayerNorm.bias']\n",
      "- This IS expected if you are initializing BertModel from the checkpoint of a model trained on another task or with another architecture (e.g. initializing a BertForSequenceClassification model from a BertForPreTraining model).\n",
      "- This IS NOT expected if you are initializing BertModel from the checkpoint of a model that you expect to be exactly identical (initializing a BertForSequenceClassification model from a BertForSequenceClassification model).\n",
      "Warning: Baseline not Found for bert-base-multilingual-cased on ja at /home/ryoryon66/.pyenv/versions/3.9.8/lib/python3.9/site-packages/bert_score/rescale_baseline/ja/bert-base-multilingual-cased.tsv\n",
      "Some weights of the model checkpoint at bert-base-multilingual-cased were not used when initializing BertModel: ['cls.predictions.transform.dense.weight', 'cls.seq_relationship.weight', 'cls.predictions.transform.LayerNorm.weight', 'cls.predictions.bias', 'cls.seq_relationship.bias', 'cls.predictions.transform.dense.bias', 'cls.predictions.transform.LayerNorm.bias']\n",
      "- This IS expected if you are initializing BertModel from the checkpoint of a model trained on another task or with another architecture (e.g. initializing a BertForSequenceClassification model from a BertForPreTraining model).\n",
      "- This IS NOT expected if you are initializing BertModel from the checkpoint of a model that you expect to be exactly identical (initializing a BertForSequenceClassification model from a BertForSequenceClassification model).\n",
      "Warning: Baseline not Found for bert-base-multilingual-cased on ja at /home/ryoryon66/.pyenv/versions/3.9.8/lib/python3.9/site-packages/bert_score/rescale_baseline/ja/bert-base-multilingual-cased.tsv\n",
      "Some weights of the model checkpoint at bert-base-multilingual-cased were not used when initializing BertModel: ['cls.predictions.transform.dense.weight', 'cls.seq_relationship.weight', 'cls.predictions.transform.LayerNorm.weight', 'cls.predictions.bias', 'cls.seq_relationship.bias', 'cls.predictions.transform.dense.bias', 'cls.predictions.transform.LayerNorm.bias']\n",
      "- This IS expected if you are initializing BertModel from the checkpoint of a model trained on another task or with another architecture (e.g. initializing a BertForSequenceClassification model from a BertForPreTraining model).\n",
      "- This IS NOT expected if you are initializing BertModel from the checkpoint of a model that you expect to be exactly identical (initializing a BertForSequenceClassification model from a BertForSequenceClassification model).\n",
      "Warning: Baseline not Found for bert-base-multilingual-cased on ja at /home/ryoryon66/.pyenv/versions/3.9.8/lib/python3.9/site-packages/bert_score/rescale_baseline/ja/bert-base-multilingual-cased.tsv\n",
      "Some weights of the model checkpoint at bert-base-multilingual-cased were not used when initializing BertModel: ['cls.predictions.transform.dense.weight', 'cls.seq_relationship.weight', 'cls.predictions.transform.LayerNorm.weight', 'cls.predictions.bias', 'cls.seq_relationship.bias', 'cls.predictions.transform.dense.bias', 'cls.predictions.transform.LayerNorm.bias']\n",
      "- This IS expected if you are initializing BertModel from the checkpoint of a model trained on another task or with another architecture (e.g. initializing a BertForSequenceClassification model from a BertForPreTraining model).\n",
      "- This IS NOT expected if you are initializing BertModel from the checkpoint of a model that you expect to be exactly identical (initializing a BertForSequenceClassification model from a BertForSequenceClassification model).\n",
      "Warning: Baseline not Found for bert-base-multilingual-cased on ja at /home/ryoryon66/.pyenv/versions/3.9.8/lib/python3.9/site-packages/bert_score/rescale_baseline/ja/bert-base-multilingual-cased.tsv\n",
      "Some weights of the model checkpoint at bert-base-multilingual-cased were not used when initializing BertModel: ['cls.predictions.transform.dense.weight', 'cls.seq_relationship.weight', 'cls.predictions.transform.LayerNorm.weight', 'cls.predictions.bias', 'cls.seq_relationship.bias', 'cls.predictions.transform.dense.bias', 'cls.predictions.transform.LayerNorm.bias']\n",
      "- This IS expected if you are initializing BertModel from the checkpoint of a model trained on another task or with another architecture (e.g. initializing a BertForSequenceClassification model from a BertForPreTraining model).\n",
      "- This IS NOT expected if you are initializing BertModel from the checkpoint of a model that you expect to be exactly identical (initializing a BertForSequenceClassification model from a BertForSequenceClassification model).\n",
      "Warning: Baseline not Found for bert-base-multilingual-cased on ja at /home/ryoryon66/.pyenv/versions/3.9.8/lib/python3.9/site-packages/bert_score/rescale_baseline/ja/bert-base-multilingual-cased.tsv\n"
     ]
    },
    {
     "name": "stdout",
     "output_type": "stream",
     "text": [
      "ルスティケロは、ヴェネツィアの大使として、マルコ・ポーロから聞いた話をまとめました\n"
     ]
    },
    {
     "name": "stderr",
     "output_type": "stream",
     "text": [
      "Some weights of the model checkpoint at bert-base-multilingual-cased were not used when initializing BertModel: ['cls.predictions.transform.dense.weight', 'cls.seq_relationship.weight', 'cls.predictions.transform.LayerNorm.weight', 'cls.predictions.bias', 'cls.seq_relationship.bias', 'cls.predictions.transform.dense.bias', 'cls.predictions.transform.LayerNorm.bias']\n",
      "- This IS expected if you are initializing BertModel from the checkpoint of a model trained on another task or with another architecture (e.g. initializing a BertForSequenceClassification model from a BertForPreTraining model).\n",
      "- This IS NOT expected if you are initializing BertModel from the checkpoint of a model that you expect to be exactly identical (initializing a BertForSequenceClassification model from a BertForSequenceClassification model).\n",
      "Warning: Baseline not Found for bert-base-multilingual-cased on ja at /home/ryoryon66/.pyenv/versions/3.9.8/lib/python3.9/site-packages/bert_score/rescale_baseline/ja/bert-base-multilingual-cased.tsv\n",
      "Some weights of the model checkpoint at bert-base-multilingual-cased were not used when initializing BertModel: ['cls.predictions.transform.dense.weight', 'cls.seq_relationship.weight', 'cls.predictions.transform.LayerNorm.weight', 'cls.predictions.bias', 'cls.seq_relationship.bias', 'cls.predictions.transform.dense.bias', 'cls.predictions.transform.LayerNorm.bias']\n",
      "- This IS expected if you are initializing BertModel from the checkpoint of a model trained on another task or with another architecture (e.g. initializing a BertForSequenceClassification model from a BertForPreTraining model).\n",
      "- This IS NOT expected if you are initializing BertModel from the checkpoint of a model that you expect to be exactly identical (initializing a BertForSequenceClassification model from a BertForSequenceClassification model).\n",
      "Warning: Baseline not Found for bert-base-multilingual-cased on ja at /home/ryoryon66/.pyenv/versions/3.9.8/lib/python3.9/site-packages/bert_score/rescale_baseline/ja/bert-base-multilingual-cased.tsv\n",
      "Some weights of the model checkpoint at bert-base-multilingual-cased were not used when initializing BertModel: ['cls.predictions.transform.dense.weight', 'cls.seq_relationship.weight', 'cls.predictions.transform.LayerNorm.weight', 'cls.predictions.bias', 'cls.seq_relationship.bias', 'cls.predictions.transform.dense.bias', 'cls.predictions.transform.LayerNorm.bias']\n",
      "- This IS expected if you are initializing BertModel from the checkpoint of a model trained on another task or with another architecture (e.g. initializing a BertForSequenceClassification model from a BertForPreTraining model).\n",
      "- This IS NOT expected if you are initializing BertModel from the checkpoint of a model that you expect to be exactly identical (initializing a BertForSequenceClassification model from a BertForSequenceClassification model).\n",
      "Warning: Baseline not Found for bert-base-multilingual-cased on ja at /home/ryoryon66/.pyenv/versions/3.9.8/lib/python3.9/site-packages/bert_score/rescale_baseline/ja/bert-base-multilingual-cased.tsv\n",
      "Some weights of the model checkpoint at bert-base-multilingual-cased were not used when initializing BertModel: ['cls.predictions.transform.dense.weight', 'cls.seq_relationship.weight', 'cls.predictions.transform.LayerNorm.weight', 'cls.predictions.bias', 'cls.seq_relationship.bias', 'cls.predictions.transform.dense.bias', 'cls.predictions.transform.LayerNorm.bias']\n",
      "- This IS expected if you are initializing BertModel from the checkpoint of a model trained on another task or with another architecture (e.g. initializing a BertForSequenceClassification model from a BertForPreTraining model).\n",
      "- This IS NOT expected if you are initializing BertModel from the checkpoint of a model that you expect to be exactly identical (initializing a BertForSequenceClassification model from a BertForSequenceClassification model).\n",
      "Warning: Baseline not Found for bert-base-multilingual-cased on ja at /home/ryoryon66/.pyenv/versions/3.9.8/lib/python3.9/site-packages/bert_score/rescale_baseline/ja/bert-base-multilingual-cased.tsv\n",
      "Some weights of the model checkpoint at bert-base-multilingual-cased were not used when initializing BertModel: ['cls.predictions.transform.dense.weight', 'cls.seq_relationship.weight', 'cls.predictions.transform.LayerNorm.weight', 'cls.predictions.bias', 'cls.seq_relationship.bias', 'cls.predictions.transform.dense.bias', 'cls.predictions.transform.LayerNorm.bias']\n",
      "- This IS expected if you are initializing BertModel from the checkpoint of a model trained on another task or with another architecture (e.g. initializing a BertForSequenceClassification model from a BertForPreTraining model).\n",
      "- This IS NOT expected if you are initializing BertModel from the checkpoint of a model that you expect to be exactly identical (initializing a BertForSequenceClassification model from a BertForSequenceClassification model).\n",
      "Warning: Baseline not Found for bert-base-multilingual-cased on ja at /home/ryoryon66/.pyenv/versions/3.9.8/lib/python3.9/site-packages/bert_score/rescale_baseline/ja/bert-base-multilingual-cased.tsv\n"
     ]
    },
    {
     "name": "stdout",
     "output_type": "stream",
     "text": [
      "マルコ・ポーロは、ヴェネツィアの大使として、ヴェネツィアの文化や歴史について多くの著作を残しています\n"
     ]
    },
    {
     "name": "stderr",
     "output_type": "stream",
     "text": [
      "Some weights of the model checkpoint at bert-base-multilingual-cased were not used when initializing BertModel: ['cls.predictions.transform.dense.weight', 'cls.seq_relationship.weight', 'cls.predictions.transform.LayerNorm.weight', 'cls.predictions.bias', 'cls.seq_relationship.bias', 'cls.predictions.transform.dense.bias', 'cls.predictions.transform.LayerNorm.bias']\n",
      "- This IS expected if you are initializing BertModel from the checkpoint of a model trained on another task or with another architecture (e.g. initializing a BertForSequenceClassification model from a BertForPreTraining model).\n",
      "- This IS NOT expected if you are initializing BertModel from the checkpoint of a model that you expect to be exactly identical (initializing a BertForSequenceClassification model from a BertForSequenceClassification model).\n",
      "Warning: Baseline not Found for bert-base-multilingual-cased on ja at /home/ryoryon66/.pyenv/versions/3.9.8/lib/python3.9/site-packages/bert_score/rescale_baseline/ja/bert-base-multilingual-cased.tsv\n",
      "Some weights of the model checkpoint at bert-base-multilingual-cased were not used when initializing BertModel: ['cls.predictions.transform.dense.weight', 'cls.seq_relationship.weight', 'cls.predictions.transform.LayerNorm.weight', 'cls.predictions.bias', 'cls.seq_relationship.bias', 'cls.predictions.transform.dense.bias', 'cls.predictions.transform.LayerNorm.bias']\n",
      "- This IS expected if you are initializing BertModel from the checkpoint of a model trained on another task or with another architecture (e.g. initializing a BertForSequenceClassification model from a BertForPreTraining model).\n",
      "- This IS NOT expected if you are initializing BertModel from the checkpoint of a model that you expect to be exactly identical (initializing a BertForSequenceClassification model from a BertForSequenceClassification model).\n",
      "Warning: Baseline not Found for bert-base-multilingual-cased on ja at /home/ryoryon66/.pyenv/versions/3.9.8/lib/python3.9/site-packages/bert_score/rescale_baseline/ja/bert-base-multilingual-cased.tsv\n",
      "Some weights of the model checkpoint at bert-base-multilingual-cased were not used when initializing BertModel: ['cls.predictions.transform.dense.weight', 'cls.seq_relationship.weight', 'cls.predictions.transform.LayerNorm.weight', 'cls.predictions.bias', 'cls.seq_relationship.bias', 'cls.predictions.transform.dense.bias', 'cls.predictions.transform.LayerNorm.bias']\n",
      "- This IS expected if you are initializing BertModel from the checkpoint of a model trained on another task or with another architecture (e.g. initializing a BertForSequenceClassification model from a BertForPreTraining model).\n",
      "- This IS NOT expected if you are initializing BertModel from the checkpoint of a model that you expect to be exactly identical (initializing a BertForSequenceClassification model from a BertForSequenceClassification model).\n",
      "Warning: Baseline not Found for bert-base-multilingual-cased on ja at /home/ryoryon66/.pyenv/versions/3.9.8/lib/python3.9/site-packages/bert_score/rescale_baseline/ja/bert-base-multilingual-cased.tsv\n",
      "Some weights of the model checkpoint at bert-base-multilingual-cased were not used when initializing BertModel: ['cls.predictions.transform.dense.weight', 'cls.seq_relationship.weight', 'cls.predictions.transform.LayerNorm.weight', 'cls.predictions.bias', 'cls.seq_relationship.bias', 'cls.predictions.transform.dense.bias', 'cls.predictions.transform.LayerNorm.bias']\n",
      "- This IS expected if you are initializing BertModel from the checkpoint of a model trained on another task or with another architecture (e.g. initializing a BertForSequenceClassification model from a BertForPreTraining model).\n",
      "- This IS NOT expected if you are initializing BertModel from the checkpoint of a model that you expect to be exactly identical (initializing a BertForSequenceClassification model from a BertForSequenceClassification model).\n",
      "Warning: Baseline not Found for bert-base-multilingual-cased on ja at /home/ryoryon66/.pyenv/versions/3.9.8/lib/python3.9/site-packages/bert_score/rescale_baseline/ja/bert-base-multilingual-cased.tsv\n",
      "Some weights of the model checkpoint at bert-base-multilingual-cased were not used when initializing BertModel: ['cls.predictions.transform.dense.weight', 'cls.seq_relationship.weight', 'cls.predictions.transform.LayerNorm.weight', 'cls.predictions.bias', 'cls.seq_relationship.bias', 'cls.predictions.transform.dense.bias', 'cls.predictions.transform.LayerNorm.bias']\n",
      "- This IS expected if you are initializing BertModel from the checkpoint of a model trained on another task or with another architecture (e.g. initializing a BertForSequenceClassification model from a BertForPreTraining model).\n",
      "- This IS NOT expected if you are initializing BertModel from the checkpoint of a model that you expect to be exactly identical (initializing a BertForSequenceClassification model from a BertForSequenceClassification model).\n",
      "Warning: Baseline not Found for bert-base-multilingual-cased on ja at /home/ryoryon66/.pyenv/versions/3.9.8/lib/python3.9/site-packages/bert_score/rescale_baseline/ja/bert-base-multilingual-cased.tsv\n"
     ]
    },
    {
     "name": "stdout",
     "output_type": "stream",
     "text": [
      "したがって、正解はマルコ・ポーロです\n"
     ]
    },
    {
     "name": "stderr",
     "output_type": "stream",
     "text": [
      "Some weights of the model checkpoint at bert-base-multilingual-cased were not used when initializing BertModel: ['cls.predictions.transform.dense.weight', 'cls.seq_relationship.weight', 'cls.predictions.transform.LayerNorm.weight', 'cls.predictions.bias', 'cls.seq_relationship.bias', 'cls.predictions.transform.dense.bias', 'cls.predictions.transform.LayerNorm.bias']\n",
      "- This IS expected if you are initializing BertModel from the checkpoint of a model trained on another task or with another architecture (e.g. initializing a BertForSequenceClassification model from a BertForPreTraining model).\n",
      "- This IS NOT expected if you are initializing BertModel from the checkpoint of a model that you expect to be exactly identical (initializing a BertForSequenceClassification model from a BertForSequenceClassification model).\n",
      "Warning: Baseline not Found for bert-base-multilingual-cased on ja at /home/ryoryon66/.pyenv/versions/3.9.8/lib/python3.9/site-packages/bert_score/rescale_baseline/ja/bert-base-multilingual-cased.tsv\n",
      "Some weights of the model checkpoint at bert-base-multilingual-cased were not used when initializing BertModel: ['cls.predictions.transform.dense.weight', 'cls.seq_relationship.weight', 'cls.predictions.transform.LayerNorm.weight', 'cls.predictions.bias', 'cls.seq_relationship.bias', 'cls.predictions.transform.dense.bias', 'cls.predictions.transform.LayerNorm.bias']\n",
      "- This IS expected if you are initializing BertModel from the checkpoint of a model trained on another task or with another architecture (e.g. initializing a BertForSequenceClassification model from a BertForPreTraining model).\n",
      "- This IS NOT expected if you are initializing BertModel from the checkpoint of a model that you expect to be exactly identical (initializing a BertForSequenceClassification model from a BertForSequenceClassification model).\n",
      "Warning: Baseline not Found for bert-base-multilingual-cased on ja at /home/ryoryon66/.pyenv/versions/3.9.8/lib/python3.9/site-packages/bert_score/rescale_baseline/ja/bert-base-multilingual-cased.tsv\n",
      "Some weights of the model checkpoint at bert-base-multilingual-cased were not used when initializing BertModel: ['cls.predictions.transform.dense.weight', 'cls.seq_relationship.weight', 'cls.predictions.transform.LayerNorm.weight', 'cls.predictions.bias', 'cls.seq_relationship.bias', 'cls.predictions.transform.dense.bias', 'cls.predictions.transform.LayerNorm.bias']\n",
      "- This IS expected if you are initializing BertModel from the checkpoint of a model trained on another task or with another architecture (e.g. initializing a BertForSequenceClassification model from a BertForPreTraining model).\n",
      "- This IS NOT expected if you are initializing BertModel from the checkpoint of a model that you expect to be exactly identical (initializing a BertForSequenceClassification model from a BertForSequenceClassification model).\n",
      "Warning: Baseline not Found for bert-base-multilingual-cased on ja at /home/ryoryon66/.pyenv/versions/3.9.8/lib/python3.9/site-packages/bert_score/rescale_baseline/ja/bert-base-multilingual-cased.tsv\n",
      "Some weights of the model checkpoint at bert-base-multilingual-cased were not used when initializing BertModel: ['cls.predictions.transform.dense.weight', 'cls.seq_relationship.weight', 'cls.predictions.transform.LayerNorm.weight', 'cls.predictions.bias', 'cls.seq_relationship.bias', 'cls.predictions.transform.dense.bias', 'cls.predictions.transform.LayerNorm.bias']\n",
      "- This IS expected if you are initializing BertModel from the checkpoint of a model trained on another task or with another architecture (e.g. initializing a BertForSequenceClassification model from a BertForPreTraining model).\n",
      "- This IS NOT expected if you are initializing BertModel from the checkpoint of a model that you expect to be exactly identical (initializing a BertForSequenceClassification model from a BertForSequenceClassification model).\n",
      "Warning: Baseline not Found for bert-base-multilingual-cased on ja at /home/ryoryon66/.pyenv/versions/3.9.8/lib/python3.9/site-packages/bert_score/rescale_baseline/ja/bert-base-multilingual-cased.tsv\n",
      "Some weights of the model checkpoint at bert-base-multilingual-cased were not used when initializing BertModel: ['cls.predictions.transform.dense.weight', 'cls.seq_relationship.weight', 'cls.predictions.transform.LayerNorm.weight', 'cls.predictions.bias', 'cls.seq_relationship.bias', 'cls.predictions.transform.dense.bias', 'cls.predictions.transform.LayerNorm.bias']\n",
      "- This IS expected if you are initializing BertModel from the checkpoint of a model trained on another task or with another architecture (e.g. initializing a BertForSequenceClassification model from a BertForPreTraining model).\n",
      "- This IS NOT expected if you are initializing BertModel from the checkpoint of a model that you expect to be exactly identical (initializing a BertForSequenceClassification model from a BertForSequenceClassification model).\n"
     ]
    },
    {
     "name": "stdout",
     "output_type": "stream",
     "text": [
      "hallucination pr_scores: [0.34653526544570923, 0.26607000827789296, 0.2897722482681274, 0.24167813062667853]\n",
      "hallucination re_scores: [0.2877379298210145, 0.23800286054611205, 0.24998383522033696, 0.2871047377586365]\n",
      "hallucination f1_scores: [0.32035247087478647, 0.2599305272102356, 0.2731657147407531, 0.269773757457733]\n",
      "processing 2 / 100\n"
     ]
    },
    {
     "name": "stderr",
     "output_type": "stream",
     "text": [
      "Warning: Baseline not Found for bert-base-multilingual-cased on ja at /home/ryoryon66/.pyenv/versions/3.9.8/lib/python3.9/site-packages/bert_score/rescale_baseline/ja/bert-base-multilingual-cased.tsv\n",
      "/tmp/ipykernel_28939/1749957329.py:18: FutureWarning: The frame.append method is deprecated and will be removed from pandas in a future version. Use pandas.concat instead.\n",
      "  score_df = score_df.append({\n"
     ]
    },
    {
     "name": "stdout",
     "output_type": "stream",
     "text": [
      "QA20CAPR-0005 『騎士団長殺し』『1Q84』『ノルウェイの森』といった小説の作者は誰でしょう? 村上春樹\n",
      "sampled: ['村上春樹', '村上春樹氏、森沢明夫氏、フランツ・カフカ氏です。', '村上春樹。彼は多数のベストセラーや高い評価を受けた作品を発表しています。彼の作品は、世界的な大衆文化に非常に影響力があり、多くの読者を獲得しています。', '村上春樹', '村上春樹']\n",
      "r_sentences\n",
      "['村上春樹']\n",
      "村上春樹\n"
     ]
    },
    {
     "name": "stderr",
     "output_type": "stream",
     "text": [
      "Some weights of the model checkpoint at bert-base-multilingual-cased were not used when initializing BertModel: ['cls.predictions.transform.dense.weight', 'cls.seq_relationship.weight', 'cls.predictions.transform.LayerNorm.weight', 'cls.predictions.bias', 'cls.seq_relationship.bias', 'cls.predictions.transform.dense.bias', 'cls.predictions.transform.LayerNorm.bias']\n",
      "- This IS expected if you are initializing BertModel from the checkpoint of a model trained on another task or with another architecture (e.g. initializing a BertForSequenceClassification model from a BertForPreTraining model).\n",
      "- This IS NOT expected if you are initializing BertModel from the checkpoint of a model that you expect to be exactly identical (initializing a BertForSequenceClassification model from a BertForSequenceClassification model).\n",
      "Warning: Baseline not Found for bert-base-multilingual-cased on ja at /home/ryoryon66/.pyenv/versions/3.9.8/lib/python3.9/site-packages/bert_score/rescale_baseline/ja/bert-base-multilingual-cased.tsv\n",
      "Some weights of the model checkpoint at bert-base-multilingual-cased were not used when initializing BertModel: ['cls.predictions.transform.dense.weight', 'cls.seq_relationship.weight', 'cls.predictions.transform.LayerNorm.weight', 'cls.predictions.bias', 'cls.seq_relationship.bias', 'cls.predictions.transform.dense.bias', 'cls.predictions.transform.LayerNorm.bias']\n",
      "- This IS expected if you are initializing BertModel from the checkpoint of a model trained on another task or with another architecture (e.g. initializing a BertForSequenceClassification model from a BertForPreTraining model).\n",
      "- This IS NOT expected if you are initializing BertModel from the checkpoint of a model that you expect to be exactly identical (initializing a BertForSequenceClassification model from a BertForSequenceClassification model).\n",
      "Warning: Baseline not Found for bert-base-multilingual-cased on ja at /home/ryoryon66/.pyenv/versions/3.9.8/lib/python3.9/site-packages/bert_score/rescale_baseline/ja/bert-base-multilingual-cased.tsv\n",
      "Some weights of the model checkpoint at bert-base-multilingual-cased were not used when initializing BertModel: ['cls.predictions.transform.dense.weight', 'cls.seq_relationship.weight', 'cls.predictions.transform.LayerNorm.weight', 'cls.predictions.bias', 'cls.seq_relationship.bias', 'cls.predictions.transform.dense.bias', 'cls.predictions.transform.LayerNorm.bias']\n",
      "- This IS expected if you are initializing BertModel from the checkpoint of a model trained on another task or with another architecture (e.g. initializing a BertForSequenceClassification model from a BertForPreTraining model).\n",
      "- This IS NOT expected if you are initializing BertModel from the checkpoint of a model that you expect to be exactly identical (initializing a BertForSequenceClassification model from a BertForSequenceClassification model).\n",
      "Warning: Baseline not Found for bert-base-multilingual-cased on ja at /home/ryoryon66/.pyenv/versions/3.9.8/lib/python3.9/site-packages/bert_score/rescale_baseline/ja/bert-base-multilingual-cased.tsv\n",
      "Some weights of the model checkpoint at bert-base-multilingual-cased were not used when initializing BertModel: ['cls.predictions.transform.dense.weight', 'cls.seq_relationship.weight', 'cls.predictions.transform.LayerNorm.weight', 'cls.predictions.bias', 'cls.seq_relationship.bias', 'cls.predictions.transform.dense.bias', 'cls.predictions.transform.LayerNorm.bias']\n",
      "- This IS expected if you are initializing BertModel from the checkpoint of a model trained on another task or with another architecture (e.g. initializing a BertForSequenceClassification model from a BertForPreTraining model).\n",
      "- This IS NOT expected if you are initializing BertModel from the checkpoint of a model that you expect to be exactly identical (initializing a BertForSequenceClassification model from a BertForSequenceClassification model).\n",
      "Warning: Baseline not Found for bert-base-multilingual-cased on ja at /home/ryoryon66/.pyenv/versions/3.9.8/lib/python3.9/site-packages/bert_score/rescale_baseline/ja/bert-base-multilingual-cased.tsv\n",
      "Some weights of the model checkpoint at bert-base-multilingual-cased were not used when initializing BertModel: ['cls.predictions.transform.dense.weight', 'cls.seq_relationship.weight', 'cls.predictions.transform.LayerNorm.weight', 'cls.predictions.bias', 'cls.seq_relationship.bias', 'cls.predictions.transform.dense.bias', 'cls.predictions.transform.LayerNorm.bias']\n",
      "- This IS expected if you are initializing BertModel from the checkpoint of a model trained on another task or with another architecture (e.g. initializing a BertForSequenceClassification model from a BertForPreTraining model).\n",
      "- This IS NOT expected if you are initializing BertModel from the checkpoint of a model that you expect to be exactly identical (initializing a BertForSequenceClassification model from a BertForSequenceClassification model).\n"
     ]
    },
    {
     "name": "stdout",
     "output_type": "stream",
     "text": [
      "hallucination pr_scores: [0.033839106559753473]\n",
      "hallucination re_scores: [0.08103141784667972]\n",
      "hallucination f1_scores: [0.06134070158004762]\n",
      "processing 3 / 100\n"
     ]
    },
    {
     "name": "stderr",
     "output_type": "stream",
     "text": [
      "Warning: Baseline not Found for bert-base-multilingual-cased on ja at /home/ryoryon66/.pyenv/versions/3.9.8/lib/python3.9/site-packages/bert_score/rescale_baseline/ja/bert-base-multilingual-cased.tsv\n",
      "/tmp/ipykernel_28939/1749957329.py:18: FutureWarning: The frame.append method is deprecated and will be removed from pandas in a future version. Use pandas.concat instead.\n",
      "  score_df = score_df.append({\n"
     ]
    },
    {
     "name": "stdout",
     "output_type": "stream",
     "text": [
      "QA20CAPR-0007 サッカーで、コーナーキックやフリーキックのようにボールを止めた状態から始めるプレーのことを何というでしょう? ゴールキック(goal kick)といいます。\n",
      "\n",
      "sampled: ['ゴールポストに当てるプレー。', 'セットプレーと呼ばれます。', 'ゴールキック(Goal kick)またはペナルティキック(Take-off kick)と呼ばれます。サッカーでは、ゴールキックやペナルティキックは重要な得点源です。', 'ドロップゴール(ゴールキック)です。', 'ゴールキックと言います。']\n",
      "r_sentences\n",
      "['ゴールキック(goal kick)といいます']\n",
      "ゴールキック(goal kick)といいます\n"
     ]
    },
    {
     "name": "stderr",
     "output_type": "stream",
     "text": [
      "Some weights of the model checkpoint at bert-base-multilingual-cased were not used when initializing BertModel: ['cls.predictions.transform.dense.weight', 'cls.seq_relationship.weight', 'cls.predictions.transform.LayerNorm.weight', 'cls.predictions.bias', 'cls.seq_relationship.bias', 'cls.predictions.transform.dense.bias', 'cls.predictions.transform.LayerNorm.bias']\n",
      "- This IS expected if you are initializing BertModel from the checkpoint of a model trained on another task or with another architecture (e.g. initializing a BertForSequenceClassification model from a BertForPreTraining model).\n",
      "- This IS NOT expected if you are initializing BertModel from the checkpoint of a model that you expect to be exactly identical (initializing a BertForSequenceClassification model from a BertForSequenceClassification model).\n",
      "Warning: Baseline not Found for bert-base-multilingual-cased on ja at /home/ryoryon66/.pyenv/versions/3.9.8/lib/python3.9/site-packages/bert_score/rescale_baseline/ja/bert-base-multilingual-cased.tsv\n",
      "Some weights of the model checkpoint at bert-base-multilingual-cased were not used when initializing BertModel: ['cls.predictions.transform.dense.weight', 'cls.seq_relationship.weight', 'cls.predictions.transform.LayerNorm.weight', 'cls.predictions.bias', 'cls.seq_relationship.bias', 'cls.predictions.transform.dense.bias', 'cls.predictions.transform.LayerNorm.bias']\n",
      "- This IS expected if you are initializing BertModel from the checkpoint of a model trained on another task or with another architecture (e.g. initializing a BertForSequenceClassification model from a BertForPreTraining model).\n",
      "- This IS NOT expected if you are initializing BertModel from the checkpoint of a model that you expect to be exactly identical (initializing a BertForSequenceClassification model from a BertForSequenceClassification model).\n",
      "Warning: Baseline not Found for bert-base-multilingual-cased on ja at /home/ryoryon66/.pyenv/versions/3.9.8/lib/python3.9/site-packages/bert_score/rescale_baseline/ja/bert-base-multilingual-cased.tsv\n",
      "Some weights of the model checkpoint at bert-base-multilingual-cased were not used when initializing BertModel: ['cls.predictions.transform.dense.weight', 'cls.seq_relationship.weight', 'cls.predictions.transform.LayerNorm.weight', 'cls.predictions.bias', 'cls.seq_relationship.bias', 'cls.predictions.transform.dense.bias', 'cls.predictions.transform.LayerNorm.bias']\n",
      "- This IS expected if you are initializing BertModel from the checkpoint of a model trained on another task or with another architecture (e.g. initializing a BertForSequenceClassification model from a BertForPreTraining model).\n",
      "- This IS NOT expected if you are initializing BertModel from the checkpoint of a model that you expect to be exactly identical (initializing a BertForSequenceClassification model from a BertForSequenceClassification model).\n",
      "Warning: Baseline not Found for bert-base-multilingual-cased on ja at /home/ryoryon66/.pyenv/versions/3.9.8/lib/python3.9/site-packages/bert_score/rescale_baseline/ja/bert-base-multilingual-cased.tsv\n",
      "Some weights of the model checkpoint at bert-base-multilingual-cased were not used when initializing BertModel: ['cls.predictions.transform.dense.weight', 'cls.seq_relationship.weight', 'cls.predictions.transform.LayerNorm.weight', 'cls.predictions.bias', 'cls.seq_relationship.bias', 'cls.predictions.transform.dense.bias', 'cls.predictions.transform.LayerNorm.bias']\n",
      "- This IS expected if you are initializing BertModel from the checkpoint of a model trained on another task or with another architecture (e.g. initializing a BertForSequenceClassification model from a BertForPreTraining model).\n",
      "- This IS NOT expected if you are initializing BertModel from the checkpoint of a model that you expect to be exactly identical (initializing a BertForSequenceClassification model from a BertForSequenceClassification model).\n",
      "Warning: Baseline not Found for bert-base-multilingual-cased on ja at /home/ryoryon66/.pyenv/versions/3.9.8/lib/python3.9/site-packages/bert_score/rescale_baseline/ja/bert-base-multilingual-cased.tsv\n",
      "Some weights of the model checkpoint at bert-base-multilingual-cased were not used when initializing BertModel: ['cls.predictions.transform.dense.weight', 'cls.seq_relationship.weight', 'cls.predictions.transform.LayerNorm.weight', 'cls.predictions.bias', 'cls.seq_relationship.bias', 'cls.predictions.transform.dense.bias', 'cls.predictions.transform.LayerNorm.bias']\n",
      "- This IS expected if you are initializing BertModel from the checkpoint of a model trained on another task or with another architecture (e.g. initializing a BertForSequenceClassification model from a BertForPreTraining model).\n",
      "- This IS NOT expected if you are initializing BertModel from the checkpoint of a model that you expect to be exactly identical (initializing a BertForSequenceClassification model from a BertForSequenceClassification model).\n"
     ]
    },
    {
     "name": "stdout",
     "output_type": "stream",
     "text": [
      "hallucination pr_scores: [0.22520406246185293]\n",
      "hallucination re_scores: [0.2134673714637757]\n",
      "hallucination f1_scores: [0.22019673585891736]\n",
      "processing 4 / 100\n"
     ]
    },
    {
     "name": "stderr",
     "output_type": "stream",
     "text": [
      "Warning: Baseline not Found for bert-base-multilingual-cased on ja at /home/ryoryon66/.pyenv/versions/3.9.8/lib/python3.9/site-packages/bert_score/rescale_baseline/ja/bert-base-multilingual-cased.tsv\n",
      "/tmp/ipykernel_28939/1749957329.py:18: FutureWarning: The frame.append method is deprecated and will be removed from pandas in a future version. Use pandas.concat instead.\n",
      "  score_df = score_df.append({\n"
     ]
    },
    {
     "name": "stdout",
     "output_type": "stream",
     "text": [
      "QA20CAPR-0009 今から約140億年前に起こったとされる、宇宙の始まりの大爆発のことを何というでしょう? ビッグバン」といいます。\n",
      "\n",
      "sampled: ['ビッグバン。', 'ビッグバン', 'ビッグバン。', 'ビッグバン', 'ビッグバン']\n",
      "r_sentences\n",
      "['ビッグバン」といいます']\n",
      "ビッグバン」といいます\n"
     ]
    },
    {
     "name": "stderr",
     "output_type": "stream",
     "text": [
      "Some weights of the model checkpoint at bert-base-multilingual-cased were not used when initializing BertModel: ['cls.predictions.transform.dense.weight', 'cls.seq_relationship.weight', 'cls.predictions.transform.LayerNorm.weight', 'cls.predictions.bias', 'cls.seq_relationship.bias', 'cls.predictions.transform.dense.bias', 'cls.predictions.transform.LayerNorm.bias']\n",
      "- This IS expected if you are initializing BertModel from the checkpoint of a model trained on another task or with another architecture (e.g. initializing a BertForSequenceClassification model from a BertForPreTraining model).\n",
      "- This IS NOT expected if you are initializing BertModel from the checkpoint of a model that you expect to be exactly identical (initializing a BertForSequenceClassification model from a BertForSequenceClassification model).\n",
      "Warning: Baseline not Found for bert-base-multilingual-cased on ja at /home/ryoryon66/.pyenv/versions/3.9.8/lib/python3.9/site-packages/bert_score/rescale_baseline/ja/bert-base-multilingual-cased.tsv\n",
      "Some weights of the model checkpoint at bert-base-multilingual-cased were not used when initializing BertModel: ['cls.predictions.transform.dense.weight', 'cls.seq_relationship.weight', 'cls.predictions.transform.LayerNorm.weight', 'cls.predictions.bias', 'cls.seq_relationship.bias', 'cls.predictions.transform.dense.bias', 'cls.predictions.transform.LayerNorm.bias']\n",
      "- This IS expected if you are initializing BertModel from the checkpoint of a model trained on another task or with another architecture (e.g. initializing a BertForSequenceClassification model from a BertForPreTraining model).\n",
      "- This IS NOT expected if you are initializing BertModel from the checkpoint of a model that you expect to be exactly identical (initializing a BertForSequenceClassification model from a BertForSequenceClassification model).\n",
      "Warning: Baseline not Found for bert-base-multilingual-cased on ja at /home/ryoryon66/.pyenv/versions/3.9.8/lib/python3.9/site-packages/bert_score/rescale_baseline/ja/bert-base-multilingual-cased.tsv\n",
      "Some weights of the model checkpoint at bert-base-multilingual-cased were not used when initializing BertModel: ['cls.predictions.transform.dense.weight', 'cls.seq_relationship.weight', 'cls.predictions.transform.LayerNorm.weight', 'cls.predictions.bias', 'cls.seq_relationship.bias', 'cls.predictions.transform.dense.bias', 'cls.predictions.transform.LayerNorm.bias']\n",
      "- This IS expected if you are initializing BertModel from the checkpoint of a model trained on another task or with another architecture (e.g. initializing a BertForSequenceClassification model from a BertForPreTraining model).\n",
      "- This IS NOT expected if you are initializing BertModel from the checkpoint of a model that you expect to be exactly identical (initializing a BertForSequenceClassification model from a BertForSequenceClassification model).\n",
      "Warning: Baseline not Found for bert-base-multilingual-cased on ja at /home/ryoryon66/.pyenv/versions/3.9.8/lib/python3.9/site-packages/bert_score/rescale_baseline/ja/bert-base-multilingual-cased.tsv\n",
      "Some weights of the model checkpoint at bert-base-multilingual-cased were not used when initializing BertModel: ['cls.predictions.transform.dense.weight', 'cls.seq_relationship.weight', 'cls.predictions.transform.LayerNorm.weight', 'cls.predictions.bias', 'cls.seq_relationship.bias', 'cls.predictions.transform.dense.bias', 'cls.predictions.transform.LayerNorm.bias']\n",
      "- This IS expected if you are initializing BertModel from the checkpoint of a model trained on another task or with another architecture (e.g. initializing a BertForSequenceClassification model from a BertForPreTraining model).\n",
      "- This IS NOT expected if you are initializing BertModel from the checkpoint of a model that you expect to be exactly identical (initializing a BertForSequenceClassification model from a BertForSequenceClassification model).\n",
      "Warning: Baseline not Found for bert-base-multilingual-cased on ja at /home/ryoryon66/.pyenv/versions/3.9.8/lib/python3.9/site-packages/bert_score/rescale_baseline/ja/bert-base-multilingual-cased.tsv\n",
      "Some weights of the model checkpoint at bert-base-multilingual-cased were not used when initializing BertModel: ['cls.predictions.transform.dense.weight', 'cls.seq_relationship.weight', 'cls.predictions.transform.LayerNorm.weight', 'cls.predictions.bias', 'cls.seq_relationship.bias', 'cls.predictions.transform.dense.bias', 'cls.predictions.transform.LayerNorm.bias']\n",
      "- This IS expected if you are initializing BertModel from the checkpoint of a model trained on another task or with another architecture (e.g. initializing a BertForSequenceClassification model from a BertForPreTraining model).\n",
      "- This IS NOT expected if you are initializing BertModel from the checkpoint of a model that you expect to be exactly identical (initializing a BertForSequenceClassification model from a BertForSequenceClassification model).\n"
     ]
    },
    {
     "name": "stdout",
     "output_type": "stream",
     "text": [
      "hallucination pr_scores: [0.2448107600212098]\n",
      "hallucination re_scores: [0.13099884986877441]\n",
      "hallucination f1_scores: [0.19189232587814323]\n",
      "processing 5 / 100\n"
     ]
    },
    {
     "name": "stderr",
     "output_type": "stream",
     "text": [
      "Warning: Baseline not Found for bert-base-multilingual-cased on ja at /home/ryoryon66/.pyenv/versions/3.9.8/lib/python3.9/site-packages/bert_score/rescale_baseline/ja/bert-base-multilingual-cased.tsv\n",
      "/tmp/ipykernel_28939/1749957329.py:18: FutureWarning: The frame.append method is deprecated and will be removed from pandas in a future version. Use pandas.concat instead.\n",
      "  score_df = score_df.append({\n"
     ]
    },
    {
     "name": "stdout",
     "output_type": "stream",
     "text": [
      "QA20CAPR-0011 アメンボが水の上をすべることができるのはこの力を利用しているからである、液体がその表面積をできるだけ小さく保とうとする力を何というでしょう? 粘性抵抗力(ねばっこり)\n",
      "sampled: ['粘性抵抗力 液体の表面張力は、流体を滑らかな表面に維持する役割を果たします。これにより、液体内の粒子が互いに衝突して運動エネルギーを吸収することを防ぎます。', '粘性抵抗力(ねばっこいりょく)', 'ニュートンの運動の法則', '流抵抗運動(りゅうこうていねつうんどう) アメンボは、水の表面張力によって推進されています。これにより、物体に強い引力が生じます。そして、その物体が水中にある場合、物体と流体との摩擦が少なくなります。これにより、物体に強い引力が生じます。また、流抵抗運動とは、物体に働く力の一種です。', '摩擦係数 μ0 摩擦により生じる力。']\n",
      "r_sentences\n",
      "['粘性抵抗力(ねばっこり)']\n",
      "粘性抵抗力(ねばっこり)\n"
     ]
    },
    {
     "name": "stderr",
     "output_type": "stream",
     "text": [
      "Some weights of the model checkpoint at bert-base-multilingual-cased were not used when initializing BertModel: ['cls.predictions.transform.dense.weight', 'cls.seq_relationship.weight', 'cls.predictions.transform.LayerNorm.weight', 'cls.predictions.bias', 'cls.seq_relationship.bias', 'cls.predictions.transform.dense.bias', 'cls.predictions.transform.LayerNorm.bias']\n",
      "- This IS expected if you are initializing BertModel from the checkpoint of a model trained on another task or with another architecture (e.g. initializing a BertForSequenceClassification model from a BertForPreTraining model).\n",
      "- This IS NOT expected if you are initializing BertModel from the checkpoint of a model that you expect to be exactly identical (initializing a BertForSequenceClassification model from a BertForSequenceClassification model).\n",
      "Warning: Baseline not Found for bert-base-multilingual-cased on ja at /home/ryoryon66/.pyenv/versions/3.9.8/lib/python3.9/site-packages/bert_score/rescale_baseline/ja/bert-base-multilingual-cased.tsv\n",
      "Some weights of the model checkpoint at bert-base-multilingual-cased were not used when initializing BertModel: ['cls.predictions.transform.dense.weight', 'cls.seq_relationship.weight', 'cls.predictions.transform.LayerNorm.weight', 'cls.predictions.bias', 'cls.seq_relationship.bias', 'cls.predictions.transform.dense.bias', 'cls.predictions.transform.LayerNorm.bias']\n",
      "- This IS expected if you are initializing BertModel from the checkpoint of a model trained on another task or with another architecture (e.g. initializing a BertForSequenceClassification model from a BertForPreTraining model).\n",
      "- This IS NOT expected if you are initializing BertModel from the checkpoint of a model that you expect to be exactly identical (initializing a BertForSequenceClassification model from a BertForSequenceClassification model).\n",
      "Warning: Baseline not Found for bert-base-multilingual-cased on ja at /home/ryoryon66/.pyenv/versions/3.9.8/lib/python3.9/site-packages/bert_score/rescale_baseline/ja/bert-base-multilingual-cased.tsv\n",
      "Some weights of the model checkpoint at bert-base-multilingual-cased were not used when initializing BertModel: ['cls.predictions.transform.dense.weight', 'cls.seq_relationship.weight', 'cls.predictions.transform.LayerNorm.weight', 'cls.predictions.bias', 'cls.seq_relationship.bias', 'cls.predictions.transform.dense.bias', 'cls.predictions.transform.LayerNorm.bias']\n",
      "- This IS expected if you are initializing BertModel from the checkpoint of a model trained on another task or with another architecture (e.g. initializing a BertForSequenceClassification model from a BertForPreTraining model).\n",
      "- This IS NOT expected if you are initializing BertModel from the checkpoint of a model that you expect to be exactly identical (initializing a BertForSequenceClassification model from a BertForSequenceClassification model).\n",
      "Warning: Baseline not Found for bert-base-multilingual-cased on ja at /home/ryoryon66/.pyenv/versions/3.9.8/lib/python3.9/site-packages/bert_score/rescale_baseline/ja/bert-base-multilingual-cased.tsv\n",
      "Some weights of the model checkpoint at bert-base-multilingual-cased were not used when initializing BertModel: ['cls.predictions.transform.dense.weight', 'cls.seq_relationship.weight', 'cls.predictions.transform.LayerNorm.weight', 'cls.predictions.bias', 'cls.seq_relationship.bias', 'cls.predictions.transform.dense.bias', 'cls.predictions.transform.LayerNorm.bias']\n",
      "- This IS expected if you are initializing BertModel from the checkpoint of a model trained on another task or with another architecture (e.g. initializing a BertForSequenceClassification model from a BertForPreTraining model).\n",
      "- This IS NOT expected if you are initializing BertModel from the checkpoint of a model that you expect to be exactly identical (initializing a BertForSequenceClassification model from a BertForSequenceClassification model).\n",
      "Warning: Baseline not Found for bert-base-multilingual-cased on ja at /home/ryoryon66/.pyenv/versions/3.9.8/lib/python3.9/site-packages/bert_score/rescale_baseline/ja/bert-base-multilingual-cased.tsv\n",
      "Some weights of the model checkpoint at bert-base-multilingual-cased were not used when initializing BertModel: ['cls.predictions.transform.dense.weight', 'cls.seq_relationship.weight', 'cls.predictions.transform.LayerNorm.weight', 'cls.predictions.bias', 'cls.seq_relationship.bias', 'cls.predictions.transform.dense.bias', 'cls.predictions.transform.LayerNorm.bias']\n",
      "- This IS expected if you are initializing BertModel from the checkpoint of a model trained on another task or with another architecture (e.g. initializing a BertForSequenceClassification model from a BertForPreTraining model).\n",
      "- This IS NOT expected if you are initializing BertModel from the checkpoint of a model that you expect to be exactly identical (initializing a BertForSequenceClassification model from a BertForSequenceClassification model).\n"
     ]
    },
    {
     "name": "stdout",
     "output_type": "stream",
     "text": [
      "hallucination pr_scores: [0.2747790336608886]\n",
      "hallucination re_scores: [0.29435046911239626]\n",
      "hallucination f1_scores: [0.2855098605155945]\n",
      "processing 6 / 100\n"
     ]
    },
    {
     "name": "stderr",
     "output_type": "stream",
     "text": [
      "Warning: Baseline not Found for bert-base-multilingual-cased on ja at /home/ryoryon66/.pyenv/versions/3.9.8/lib/python3.9/site-packages/bert_score/rescale_baseline/ja/bert-base-multilingual-cased.tsv\n",
      "/tmp/ipykernel_28939/1749957329.py:18: FutureWarning: The frame.append method is deprecated and will be removed from pandas in a future version. Use pandas.concat instead.\n",
      "  score_df = score_df.append({\n"
     ]
    },
    {
     "name": "stdout",
     "output_type": "stream",
     "text": [
      "QA20CAPR-0013 日本では有明海と八代海のみに生息するハゼ科の魚で、作家・畑正憲の愛称にもなっているのは何でしょう? ムツゴロウ\n",
      "sampled: ['タナゴです。', 'ハリヨガクチビルデムチ。', 'ホタルジャコ科の一種のホタルジャコです。', 'チンコジグザラメ', 'ドチザメ']\n",
      "r_sentences\n",
      "['ムツゴロウ']\n",
      "ムツゴロウ\n"
     ]
    },
    {
     "name": "stderr",
     "output_type": "stream",
     "text": [
      "Some weights of the model checkpoint at bert-base-multilingual-cased were not used when initializing BertModel: ['cls.predictions.transform.dense.weight', 'cls.seq_relationship.weight', 'cls.predictions.transform.LayerNorm.weight', 'cls.predictions.bias', 'cls.seq_relationship.bias', 'cls.predictions.transform.dense.bias', 'cls.predictions.transform.LayerNorm.bias']\n",
      "- This IS expected if you are initializing BertModel from the checkpoint of a model trained on another task or with another architecture (e.g. initializing a BertForSequenceClassification model from a BertForPreTraining model).\n",
      "- This IS NOT expected if you are initializing BertModel from the checkpoint of a model that you expect to be exactly identical (initializing a BertForSequenceClassification model from a BertForSequenceClassification model).\n",
      "Warning: Baseline not Found for bert-base-multilingual-cased on ja at /home/ryoryon66/.pyenv/versions/3.9.8/lib/python3.9/site-packages/bert_score/rescale_baseline/ja/bert-base-multilingual-cased.tsv\n",
      "Some weights of the model checkpoint at bert-base-multilingual-cased were not used when initializing BertModel: ['cls.predictions.transform.dense.weight', 'cls.seq_relationship.weight', 'cls.predictions.transform.LayerNorm.weight', 'cls.predictions.bias', 'cls.seq_relationship.bias', 'cls.predictions.transform.dense.bias', 'cls.predictions.transform.LayerNorm.bias']\n",
      "- This IS expected if you are initializing BertModel from the checkpoint of a model trained on another task or with another architecture (e.g. initializing a BertForSequenceClassification model from a BertForPreTraining model).\n",
      "- This IS NOT expected if you are initializing BertModel from the checkpoint of a model that you expect to be exactly identical (initializing a BertForSequenceClassification model from a BertForSequenceClassification model).\n",
      "Warning: Baseline not Found for bert-base-multilingual-cased on ja at /home/ryoryon66/.pyenv/versions/3.9.8/lib/python3.9/site-packages/bert_score/rescale_baseline/ja/bert-base-multilingual-cased.tsv\n",
      "Some weights of the model checkpoint at bert-base-multilingual-cased were not used when initializing BertModel: ['cls.predictions.transform.dense.weight', 'cls.seq_relationship.weight', 'cls.predictions.transform.LayerNorm.weight', 'cls.predictions.bias', 'cls.seq_relationship.bias', 'cls.predictions.transform.dense.bias', 'cls.predictions.transform.LayerNorm.bias']\n",
      "- This IS expected if you are initializing BertModel from the checkpoint of a model trained on another task or with another architecture (e.g. initializing a BertForSequenceClassification model from a BertForPreTraining model).\n",
      "- This IS NOT expected if you are initializing BertModel from the checkpoint of a model that you expect to be exactly identical (initializing a BertForSequenceClassification model from a BertForSequenceClassification model).\n",
      "Warning: Baseline not Found for bert-base-multilingual-cased on ja at /home/ryoryon66/.pyenv/versions/3.9.8/lib/python3.9/site-packages/bert_score/rescale_baseline/ja/bert-base-multilingual-cased.tsv\n",
      "Some weights of the model checkpoint at bert-base-multilingual-cased were not used when initializing BertModel: ['cls.predictions.transform.dense.weight', 'cls.seq_relationship.weight', 'cls.predictions.transform.LayerNorm.weight', 'cls.predictions.bias', 'cls.seq_relationship.bias', 'cls.predictions.transform.dense.bias', 'cls.predictions.transform.LayerNorm.bias']\n",
      "- This IS expected if you are initializing BertModel from the checkpoint of a model trained on another task or with another architecture (e.g. initializing a BertForSequenceClassification model from a BertForPreTraining model).\n",
      "- This IS NOT expected if you are initializing BertModel from the checkpoint of a model that you expect to be exactly identical (initializing a BertForSequenceClassification model from a BertForSequenceClassification model).\n",
      "Warning: Baseline not Found for bert-base-multilingual-cased on ja at /home/ryoryon66/.pyenv/versions/3.9.8/lib/python3.9/site-packages/bert_score/rescale_baseline/ja/bert-base-multilingual-cased.tsv\n",
      "Some weights of the model checkpoint at bert-base-multilingual-cased were not used when initializing BertModel: ['cls.predictions.transform.dense.weight', 'cls.seq_relationship.weight', 'cls.predictions.transform.LayerNorm.weight', 'cls.predictions.bias', 'cls.seq_relationship.bias', 'cls.predictions.transform.dense.bias', 'cls.predictions.transform.LayerNorm.bias']\n",
      "- This IS expected if you are initializing BertModel from the checkpoint of a model trained on another task or with another architecture (e.g. initializing a BertForSequenceClassification model from a BertForPreTraining model).\n",
      "- This IS NOT expected if you are initializing BertModel from the checkpoint of a model that you expect to be exactly identical (initializing a BertForSequenceClassification model from a BertForSequenceClassification model).\n"
     ]
    },
    {
     "name": "stdout",
     "output_type": "stream",
     "text": [
      "hallucination pr_scores: [0.2598912596702576]\n",
      "hallucination re_scores: [0.2727479219436646]\n",
      "hallucination f1_scores: [0.2664884924888611]\n",
      "processing 7 / 100\n"
     ]
    },
    {
     "name": "stderr",
     "output_type": "stream",
     "text": [
      "Warning: Baseline not Found for bert-base-multilingual-cased on ja at /home/ryoryon66/.pyenv/versions/3.9.8/lib/python3.9/site-packages/bert_score/rescale_baseline/ja/bert-base-multilingual-cased.tsv\n",
      "/tmp/ipykernel_28939/1749957329.py:18: FutureWarning: The frame.append method is deprecated and will be removed from pandas in a future version. Use pandas.concat instead.\n",
      "  score_df = score_df.append({\n"
     ]
    },
    {
     "name": "stdout",
     "output_type": "stream",
     "text": [
      "QA20CAPR-0015 日本では1990年前後に訪れた、不動産や株などの価格が実態とかけ離れて高騰していく経済のことを、泡を意味する言葉から何経済というでしょう? バブル経済\n",
      "sampled: ['バブル経済。', 'バブル経済です。', 'バブル経済。', 'バブル経済と呼ばれています。', 'バブル経済です。']\n",
      "r_sentences\n",
      "['バブル経済']\n",
      "バブル経済\n"
     ]
    },
    {
     "name": "stderr",
     "output_type": "stream",
     "text": [
      "Some weights of the model checkpoint at bert-base-multilingual-cased were not used when initializing BertModel: ['cls.predictions.transform.dense.weight', 'cls.seq_relationship.weight', 'cls.predictions.transform.LayerNorm.weight', 'cls.predictions.bias', 'cls.seq_relationship.bias', 'cls.predictions.transform.dense.bias', 'cls.predictions.transform.LayerNorm.bias']\n",
      "- This IS expected if you are initializing BertModel from the checkpoint of a model trained on another task or with another architecture (e.g. initializing a BertForSequenceClassification model from a BertForPreTraining model).\n",
      "- This IS NOT expected if you are initializing BertModel from the checkpoint of a model that you expect to be exactly identical (initializing a BertForSequenceClassification model from a BertForSequenceClassification model).\n",
      "Warning: Baseline not Found for bert-base-multilingual-cased on ja at /home/ryoryon66/.pyenv/versions/3.9.8/lib/python3.9/site-packages/bert_score/rescale_baseline/ja/bert-base-multilingual-cased.tsv\n",
      "Some weights of the model checkpoint at bert-base-multilingual-cased were not used when initializing BertModel: ['cls.predictions.transform.dense.weight', 'cls.seq_relationship.weight', 'cls.predictions.transform.LayerNorm.weight', 'cls.predictions.bias', 'cls.seq_relationship.bias', 'cls.predictions.transform.dense.bias', 'cls.predictions.transform.LayerNorm.bias']\n",
      "- This IS expected if you are initializing BertModel from the checkpoint of a model trained on another task or with another architecture (e.g. initializing a BertForSequenceClassification model from a BertForPreTraining model).\n",
      "- This IS NOT expected if you are initializing BertModel from the checkpoint of a model that you expect to be exactly identical (initializing a BertForSequenceClassification model from a BertForSequenceClassification model).\n",
      "Warning: Baseline not Found for bert-base-multilingual-cased on ja at /home/ryoryon66/.pyenv/versions/3.9.8/lib/python3.9/site-packages/bert_score/rescale_baseline/ja/bert-base-multilingual-cased.tsv\n",
      "Some weights of the model checkpoint at bert-base-multilingual-cased were not used when initializing BertModel: ['cls.predictions.transform.dense.weight', 'cls.seq_relationship.weight', 'cls.predictions.transform.LayerNorm.weight', 'cls.predictions.bias', 'cls.seq_relationship.bias', 'cls.predictions.transform.dense.bias', 'cls.predictions.transform.LayerNorm.bias']\n",
      "- This IS expected if you are initializing BertModel from the checkpoint of a model trained on another task or with another architecture (e.g. initializing a BertForSequenceClassification model from a BertForPreTraining model).\n",
      "- This IS NOT expected if you are initializing BertModel from the checkpoint of a model that you expect to be exactly identical (initializing a BertForSequenceClassification model from a BertForSequenceClassification model).\n",
      "Warning: Baseline not Found for bert-base-multilingual-cased on ja at /home/ryoryon66/.pyenv/versions/3.9.8/lib/python3.9/site-packages/bert_score/rescale_baseline/ja/bert-base-multilingual-cased.tsv\n",
      "Some weights of the model checkpoint at bert-base-multilingual-cased were not used when initializing BertModel: ['cls.predictions.transform.dense.weight', 'cls.seq_relationship.weight', 'cls.predictions.transform.LayerNorm.weight', 'cls.predictions.bias', 'cls.seq_relationship.bias', 'cls.predictions.transform.dense.bias', 'cls.predictions.transform.LayerNorm.bias']\n",
      "- This IS expected if you are initializing BertModel from the checkpoint of a model trained on another task or with another architecture (e.g. initializing a BertForSequenceClassification model from a BertForPreTraining model).\n",
      "- This IS NOT expected if you are initializing BertModel from the checkpoint of a model that you expect to be exactly identical (initializing a BertForSequenceClassification model from a BertForSequenceClassification model).\n",
      "Warning: Baseline not Found for bert-base-multilingual-cased on ja at /home/ryoryon66/.pyenv/versions/3.9.8/lib/python3.9/site-packages/bert_score/rescale_baseline/ja/bert-base-multilingual-cased.tsv\n",
      "Some weights of the model checkpoint at bert-base-multilingual-cased were not used when initializing BertModel: ['cls.predictions.transform.dense.weight', 'cls.seq_relationship.weight', 'cls.predictions.transform.LayerNorm.weight', 'cls.predictions.bias', 'cls.seq_relationship.bias', 'cls.predictions.transform.dense.bias', 'cls.predictions.transform.LayerNorm.bias']\n",
      "- This IS expected if you are initializing BertModel from the checkpoint of a model trained on another task or with another architecture (e.g. initializing a BertForSequenceClassification model from a BertForPreTraining model).\n",
      "- This IS NOT expected if you are initializing BertModel from the checkpoint of a model that you expect to be exactly identical (initializing a BertForSequenceClassification model from a BertForSequenceClassification model).\n"
     ]
    },
    {
     "name": "stdout",
     "output_type": "stream",
     "text": [
      "hallucination pr_scores: [0.05069062709808353]\n",
      "hallucination re_scores: [0.11047371625900274]\n",
      "hallucination f1_scores: [0.08255188465118418]\n",
      "processing 8 / 100\n"
     ]
    },
    {
     "name": "stderr",
     "output_type": "stream",
     "text": [
      "Warning: Baseline not Found for bert-base-multilingual-cased on ja at /home/ryoryon66/.pyenv/versions/3.9.8/lib/python3.9/site-packages/bert_score/rescale_baseline/ja/bert-base-multilingual-cased.tsv\n",
      "/tmp/ipykernel_28939/1749957329.py:18: FutureWarning: The frame.append method is deprecated and will be removed from pandas in a future version. Use pandas.concat instead.\n",
      "  score_df = score_df.append({\n"
     ]
    },
    {
     "name": "stdout",
     "output_type": "stream",
     "text": [
      "QA20CAPR-0017 ウォーターゲート事件によって辞任に追い込まれた、時のアメリカ大統領は誰でしょう? ジェラルド・フォード。\n",
      "\n",
      "sampled: ['リチャード・ニクソン', 'ジェラルド・フォード。', 'リチャード・ニクソン。', 'リチャード・ニクソン。', 'ジェラルド・フォード。']\n",
      "r_sentences\n",
      "['ジェラルド・フォード']\n",
      "ジェラルド・フォード\n"
     ]
    },
    {
     "name": "stderr",
     "output_type": "stream",
     "text": [
      "Some weights of the model checkpoint at bert-base-multilingual-cased were not used when initializing BertModel: ['cls.predictions.transform.dense.weight', 'cls.seq_relationship.weight', 'cls.predictions.transform.LayerNorm.weight', 'cls.predictions.bias', 'cls.seq_relationship.bias', 'cls.predictions.transform.dense.bias', 'cls.predictions.transform.LayerNorm.bias']\n",
      "- This IS expected if you are initializing BertModel from the checkpoint of a model trained on another task or with another architecture (e.g. initializing a BertForSequenceClassification model from a BertForPreTraining model).\n",
      "- This IS NOT expected if you are initializing BertModel from the checkpoint of a model that you expect to be exactly identical (initializing a BertForSequenceClassification model from a BertForSequenceClassification model).\n",
      "Warning: Baseline not Found for bert-base-multilingual-cased on ja at /home/ryoryon66/.pyenv/versions/3.9.8/lib/python3.9/site-packages/bert_score/rescale_baseline/ja/bert-base-multilingual-cased.tsv\n",
      "Some weights of the model checkpoint at bert-base-multilingual-cased were not used when initializing BertModel: ['cls.predictions.transform.dense.weight', 'cls.seq_relationship.weight', 'cls.predictions.transform.LayerNorm.weight', 'cls.predictions.bias', 'cls.seq_relationship.bias', 'cls.predictions.transform.dense.bias', 'cls.predictions.transform.LayerNorm.bias']\n",
      "- This IS expected if you are initializing BertModel from the checkpoint of a model trained on another task or with another architecture (e.g. initializing a BertForSequenceClassification model from a BertForPreTraining model).\n",
      "- This IS NOT expected if you are initializing BertModel from the checkpoint of a model that you expect to be exactly identical (initializing a BertForSequenceClassification model from a BertForSequenceClassification model).\n",
      "Warning: Baseline not Found for bert-base-multilingual-cased on ja at /home/ryoryon66/.pyenv/versions/3.9.8/lib/python3.9/site-packages/bert_score/rescale_baseline/ja/bert-base-multilingual-cased.tsv\n",
      "Some weights of the model checkpoint at bert-base-multilingual-cased were not used when initializing BertModel: ['cls.predictions.transform.dense.weight', 'cls.seq_relationship.weight', 'cls.predictions.transform.LayerNorm.weight', 'cls.predictions.bias', 'cls.seq_relationship.bias', 'cls.predictions.transform.dense.bias', 'cls.predictions.transform.LayerNorm.bias']\n",
      "- This IS expected if you are initializing BertModel from the checkpoint of a model trained on another task or with another architecture (e.g. initializing a BertForSequenceClassification model from a BertForPreTraining model).\n",
      "- This IS NOT expected if you are initializing BertModel from the checkpoint of a model that you expect to be exactly identical (initializing a BertForSequenceClassification model from a BertForSequenceClassification model).\n",
      "Warning: Baseline not Found for bert-base-multilingual-cased on ja at /home/ryoryon66/.pyenv/versions/3.9.8/lib/python3.9/site-packages/bert_score/rescale_baseline/ja/bert-base-multilingual-cased.tsv\n",
      "Some weights of the model checkpoint at bert-base-multilingual-cased were not used when initializing BertModel: ['cls.predictions.transform.dense.weight', 'cls.seq_relationship.weight', 'cls.predictions.transform.LayerNorm.weight', 'cls.predictions.bias', 'cls.seq_relationship.bias', 'cls.predictions.transform.dense.bias', 'cls.predictions.transform.LayerNorm.bias']\n",
      "- This IS expected if you are initializing BertModel from the checkpoint of a model trained on another task or with another architecture (e.g. initializing a BertForSequenceClassification model from a BertForPreTraining model).\n",
      "- This IS NOT expected if you are initializing BertModel from the checkpoint of a model that you expect to be exactly identical (initializing a BertForSequenceClassification model from a BertForSequenceClassification model).\n",
      "Warning: Baseline not Found for bert-base-multilingual-cased on ja at /home/ryoryon66/.pyenv/versions/3.9.8/lib/python3.9/site-packages/bert_score/rescale_baseline/ja/bert-base-multilingual-cased.tsv\n",
      "Some weights of the model checkpoint at bert-base-multilingual-cased were not used when initializing BertModel: ['cls.predictions.transform.dense.weight', 'cls.seq_relationship.weight', 'cls.predictions.transform.LayerNorm.weight', 'cls.predictions.bias', 'cls.seq_relationship.bias', 'cls.predictions.transform.dense.bias', 'cls.predictions.transform.LayerNorm.bias']\n",
      "- This IS expected if you are initializing BertModel from the checkpoint of a model trained on another task or with another architecture (e.g. initializing a BertForSequenceClassification model from a BertForPreTraining model).\n",
      "- This IS NOT expected if you are initializing BertModel from the checkpoint of a model that you expect to be exactly identical (initializing a BertForSequenceClassification model from a BertForSequenceClassification model).\n"
     ]
    },
    {
     "name": "stdout",
     "output_type": "stream",
     "text": [
      "hallucination pr_scores: [0.084438693523407]\n",
      "hallucination re_scores: [0.0935177564620972]\n",
      "hallucination f1_scores: [0.08901854753494248]\n",
      "processing 9 / 100\n"
     ]
    },
    {
     "name": "stderr",
     "output_type": "stream",
     "text": [
      "Warning: Baseline not Found for bert-base-multilingual-cased on ja at /home/ryoryon66/.pyenv/versions/3.9.8/lib/python3.9/site-packages/bert_score/rescale_baseline/ja/bert-base-multilingual-cased.tsv\n",
      "/tmp/ipykernel_28939/1749957329.py:18: FutureWarning: The frame.append method is deprecated and will be removed from pandas in a future version. Use pandas.concat instead.\n",
      "  score_df = score_df.append({\n"
     ]
    },
    {
     "name": "stdout",
     "output_type": "stream",
     "text": [
      "QA20CAPR-0019 宋の杜黙の詩が律に合っていなかったことに由来する、誤りが多くていいかげんなことを表す言葉は何でしょう? 粗雑」です。\n",
      "\n",
      "sampled: ['「杜黙の詩は律に合わない」とは、中国の律(書道の一つ)が杜黙によって書かれたときに誤っていたため、その詩のスタイルが規範に合わなかったという意味です。この言葉は、唐代の書家である欧陽詢が書いた書にも当てはまります。書道家の欧陽詢が書いた書は、もともと中国の律に従って書かれましたが、後になって誤って規範に合わせた書体に変更されてしまいました。それにより、書のスタイルが規範から外れてしまったため、後に「欧陽詢は間違いが多い」と言われるようになりました。', '唐詩」とは、唐時代の詩を指します。 唐代の詩は、その後の中国国家の基礎を成し、その後の中国の文化発展に大きな役割を果たしました。唐詩は、日本の雅楽や中国の宮廷音楽にも影響を与えています。 唐詩は、当時の東アジアにおける重要な文化的伝統であり、今日でも高く評価されています。唐詩は、日本の文学や芸術においても重要な存在感を示しています。', '雑駁(ざっぱく)です。', '滑稽詩(唐突な詩形)。', '逸脱者(challenging)。 逸脱とは、ルールや習慣から外れた行為をする人のことを指します。 逸脱者とは、社会や周囲の規範に反したり、自分の信念に反する行為をする人のことです。 逸脱者はしばしば逸脱者と言われています。']\n",
      "r_sentences\n",
      "['粗雑」です']\n",
      "粗雑」です\n"
     ]
    },
    {
     "name": "stderr",
     "output_type": "stream",
     "text": [
      "Some weights of the model checkpoint at bert-base-multilingual-cased were not used when initializing BertModel: ['cls.predictions.transform.dense.weight', 'cls.seq_relationship.weight', 'cls.predictions.transform.LayerNorm.weight', 'cls.predictions.bias', 'cls.seq_relationship.bias', 'cls.predictions.transform.dense.bias', 'cls.predictions.transform.LayerNorm.bias']\n",
      "- This IS expected if you are initializing BertModel from the checkpoint of a model trained on another task or with another architecture (e.g. initializing a BertForSequenceClassification model from a BertForPreTraining model).\n",
      "- This IS NOT expected if you are initializing BertModel from the checkpoint of a model that you expect to be exactly identical (initializing a BertForSequenceClassification model from a BertForSequenceClassification model).\n",
      "Warning: Baseline not Found for bert-base-multilingual-cased on ja at /home/ryoryon66/.pyenv/versions/3.9.8/lib/python3.9/site-packages/bert_score/rescale_baseline/ja/bert-base-multilingual-cased.tsv\n",
      "Some weights of the model checkpoint at bert-base-multilingual-cased were not used when initializing BertModel: ['cls.predictions.transform.dense.weight', 'cls.seq_relationship.weight', 'cls.predictions.transform.LayerNorm.weight', 'cls.predictions.bias', 'cls.seq_relationship.bias', 'cls.predictions.transform.dense.bias', 'cls.predictions.transform.LayerNorm.bias']\n",
      "- This IS expected if you are initializing BertModel from the checkpoint of a model trained on another task or with another architecture (e.g. initializing a BertForSequenceClassification model from a BertForPreTraining model).\n",
      "- This IS NOT expected if you are initializing BertModel from the checkpoint of a model that you expect to be exactly identical (initializing a BertForSequenceClassification model from a BertForSequenceClassification model).\n",
      "Warning: Baseline not Found for bert-base-multilingual-cased on ja at /home/ryoryon66/.pyenv/versions/3.9.8/lib/python3.9/site-packages/bert_score/rescale_baseline/ja/bert-base-multilingual-cased.tsv\n",
      "Some weights of the model checkpoint at bert-base-multilingual-cased were not used when initializing BertModel: ['cls.predictions.transform.dense.weight', 'cls.seq_relationship.weight', 'cls.predictions.transform.LayerNorm.weight', 'cls.predictions.bias', 'cls.seq_relationship.bias', 'cls.predictions.transform.dense.bias', 'cls.predictions.transform.LayerNorm.bias']\n",
      "- This IS expected if you are initializing BertModel from the checkpoint of a model trained on another task or with another architecture (e.g. initializing a BertForSequenceClassification model from a BertForPreTraining model).\n",
      "- This IS NOT expected if you are initializing BertModel from the checkpoint of a model that you expect to be exactly identical (initializing a BertForSequenceClassification model from a BertForSequenceClassification model).\n",
      "Warning: Baseline not Found for bert-base-multilingual-cased on ja at /home/ryoryon66/.pyenv/versions/3.9.8/lib/python3.9/site-packages/bert_score/rescale_baseline/ja/bert-base-multilingual-cased.tsv\n",
      "Some weights of the model checkpoint at bert-base-multilingual-cased were not used when initializing BertModel: ['cls.predictions.transform.dense.weight', 'cls.seq_relationship.weight', 'cls.predictions.transform.LayerNorm.weight', 'cls.predictions.bias', 'cls.seq_relationship.bias', 'cls.predictions.transform.dense.bias', 'cls.predictions.transform.LayerNorm.bias']\n",
      "- This IS expected if you are initializing BertModel from the checkpoint of a model trained on another task or with another architecture (e.g. initializing a BertForSequenceClassification model from a BertForPreTraining model).\n",
      "- This IS NOT expected if you are initializing BertModel from the checkpoint of a model that you expect to be exactly identical (initializing a BertForSequenceClassification model from a BertForSequenceClassification model).\n",
      "Warning: Baseline not Found for bert-base-multilingual-cased on ja at /home/ryoryon66/.pyenv/versions/3.9.8/lib/python3.9/site-packages/bert_score/rescale_baseline/ja/bert-base-multilingual-cased.tsv\n",
      "Some weights of the model checkpoint at bert-base-multilingual-cased were not used when initializing BertModel: ['cls.predictions.transform.dense.weight', 'cls.seq_relationship.weight', 'cls.predictions.transform.LayerNorm.weight', 'cls.predictions.bias', 'cls.seq_relationship.bias', 'cls.predictions.transform.dense.bias', 'cls.predictions.transform.LayerNorm.bias']\n",
      "- This IS expected if you are initializing BertModel from the checkpoint of a model trained on another task or with another architecture (e.g. initializing a BertForSequenceClassification model from a BertForPreTraining model).\n",
      "- This IS NOT expected if you are initializing BertModel from the checkpoint of a model that you expect to be exactly identical (initializing a BertForSequenceClassification model from a BertForSequenceClassification model).\n"
     ]
    },
    {
     "name": "stdout",
     "output_type": "stream",
     "text": [
      "hallucination pr_scores: [0.2816828608512879]\n",
      "hallucination re_scores: [0.3493590593338012]\n",
      "hallucination f1_scores: [0.32335325479507443]\n",
      "processing 10 / 100\n"
     ]
    },
    {
     "name": "stderr",
     "output_type": "stream",
     "text": [
      "Warning: Baseline not Found for bert-base-multilingual-cased on ja at /home/ryoryon66/.pyenv/versions/3.9.8/lib/python3.9/site-packages/bert_score/rescale_baseline/ja/bert-base-multilingual-cased.tsv\n",
      "/tmp/ipykernel_28939/1749957329.py:18: FutureWarning: The frame.append method is deprecated and will be removed from pandas in a future version. Use pandas.concat instead.\n",
      "  score_df = score_df.append({\n"
     ]
    },
    {
     "name": "stdout",
     "output_type": "stream",
     "text": [
      "QA20CAPR-0021 毎年7月に「北海へそ祭り」が開催される、ラベンダー畑で有名な北海道の都市はどこでしょう? 富良野市です。\n",
      "\n",
      "sampled: ['富良野市', '富良野市', '富良野市', '富良野市', '富良野市']\n",
      "r_sentences\n",
      "['富良野市です']\n",
      "富良野市です\n"
     ]
    },
    {
     "name": "stderr",
     "output_type": "stream",
     "text": [
      "Some weights of the model checkpoint at bert-base-multilingual-cased were not used when initializing BertModel: ['cls.predictions.transform.dense.weight', 'cls.seq_relationship.weight', 'cls.predictions.transform.LayerNorm.weight', 'cls.predictions.bias', 'cls.seq_relationship.bias', 'cls.predictions.transform.dense.bias', 'cls.predictions.transform.LayerNorm.bias']\n",
      "- This IS expected if you are initializing BertModel from the checkpoint of a model trained on another task or with another architecture (e.g. initializing a BertForSequenceClassification model from a BertForPreTraining model).\n",
      "- This IS NOT expected if you are initializing BertModel from the checkpoint of a model that you expect to be exactly identical (initializing a BertForSequenceClassification model from a BertForSequenceClassification model).\n",
      "Warning: Baseline not Found for bert-base-multilingual-cased on ja at /home/ryoryon66/.pyenv/versions/3.9.8/lib/python3.9/site-packages/bert_score/rescale_baseline/ja/bert-base-multilingual-cased.tsv\n",
      "Some weights of the model checkpoint at bert-base-multilingual-cased were not used when initializing BertModel: ['cls.predictions.transform.dense.weight', 'cls.seq_relationship.weight', 'cls.predictions.transform.LayerNorm.weight', 'cls.predictions.bias', 'cls.seq_relationship.bias', 'cls.predictions.transform.dense.bias', 'cls.predictions.transform.LayerNorm.bias']\n",
      "- This IS expected if you are initializing BertModel from the checkpoint of a model trained on another task or with another architecture (e.g. initializing a BertForSequenceClassification model from a BertForPreTraining model).\n",
      "- This IS NOT expected if you are initializing BertModel from the checkpoint of a model that you expect to be exactly identical (initializing a BertForSequenceClassification model from a BertForSequenceClassification model).\n",
      "Warning: Baseline not Found for bert-base-multilingual-cased on ja at /home/ryoryon66/.pyenv/versions/3.9.8/lib/python3.9/site-packages/bert_score/rescale_baseline/ja/bert-base-multilingual-cased.tsv\n",
      "Some weights of the model checkpoint at bert-base-multilingual-cased were not used when initializing BertModel: ['cls.predictions.transform.dense.weight', 'cls.seq_relationship.weight', 'cls.predictions.transform.LayerNorm.weight', 'cls.predictions.bias', 'cls.seq_relationship.bias', 'cls.predictions.transform.dense.bias', 'cls.predictions.transform.LayerNorm.bias']\n",
      "- This IS expected if you are initializing BertModel from the checkpoint of a model trained on another task or with another architecture (e.g. initializing a BertForSequenceClassification model from a BertForPreTraining model).\n",
      "- This IS NOT expected if you are initializing BertModel from the checkpoint of a model that you expect to be exactly identical (initializing a BertForSequenceClassification model from a BertForSequenceClassification model).\n",
      "Warning: Baseline not Found for bert-base-multilingual-cased on ja at /home/ryoryon66/.pyenv/versions/3.9.8/lib/python3.9/site-packages/bert_score/rescale_baseline/ja/bert-base-multilingual-cased.tsv\n",
      "Some weights of the model checkpoint at bert-base-multilingual-cased were not used when initializing BertModel: ['cls.predictions.transform.dense.weight', 'cls.seq_relationship.weight', 'cls.predictions.transform.LayerNorm.weight', 'cls.predictions.bias', 'cls.seq_relationship.bias', 'cls.predictions.transform.dense.bias', 'cls.predictions.transform.LayerNorm.bias']\n",
      "- This IS expected if you are initializing BertModel from the checkpoint of a model trained on another task or with another architecture (e.g. initializing a BertForSequenceClassification model from a BertForPreTraining model).\n",
      "- This IS NOT expected if you are initializing BertModel from the checkpoint of a model that you expect to be exactly identical (initializing a BertForSequenceClassification model from a BertForSequenceClassification model).\n",
      "Warning: Baseline not Found for bert-base-multilingual-cased on ja at /home/ryoryon66/.pyenv/versions/3.9.8/lib/python3.9/site-packages/bert_score/rescale_baseline/ja/bert-base-multilingual-cased.tsv\n",
      "Some weights of the model checkpoint at bert-base-multilingual-cased were not used when initializing BertModel: ['cls.predictions.transform.dense.weight', 'cls.seq_relationship.weight', 'cls.predictions.transform.LayerNorm.weight', 'cls.predictions.bias', 'cls.seq_relationship.bias', 'cls.predictions.transform.dense.bias', 'cls.predictions.transform.LayerNorm.bias']\n",
      "- This IS expected if you are initializing BertModel from the checkpoint of a model trained on another task or with another architecture (e.g. initializing a BertForSequenceClassification model from a BertForPreTraining model).\n",
      "- This IS NOT expected if you are initializing BertModel from the checkpoint of a model that you expect to be exactly identical (initializing a BertForSequenceClassification model from a BertForSequenceClassification model).\n"
     ]
    },
    {
     "name": "stdout",
     "output_type": "stream",
     "text": [
      "hallucination pr_scores: [0.1725177764892579]\n",
      "hallucination re_scores: [0.08292698860168449]\n",
      "hallucination f1_scores: [0.1300228238105774]\n",
      "processing 11 / 100\n"
     ]
    },
    {
     "name": "stderr",
     "output_type": "stream",
     "text": [
      "Warning: Baseline not Found for bert-base-multilingual-cased on ja at /home/ryoryon66/.pyenv/versions/3.9.8/lib/python3.9/site-packages/bert_score/rescale_baseline/ja/bert-base-multilingual-cased.tsv\n",
      "/tmp/ipykernel_28939/1749957329.py:18: FutureWarning: The frame.append method is deprecated and will be removed from pandas in a future version. Use pandas.concat instead.\n",
      "  score_df = score_df.append({\n"
     ]
    },
    {
     "name": "stdout",
     "output_type": "stream",
     "text": [
      "QA20CAPR-0023 元々は仏教における持国天・増長天・広目天・多聞天のことを指していた、ある集団の中で特に秀でた4人の人物を意味する言葉は何でしょう? 四天王寺金堂の四天王像。\n",
      "\n",
      "sampled: ['四天王寺ワッソリ(四天王寺の祭り)とは、四天王寺の僧侶による祭りで、毎年5月3日に開催されます。この祭りは、四天王寺が日本で最も古い寺院の一つであり、多くの貴重な仏教美術品や宝物を有していることにちなんで名付けられました。四天王寺は、聖徳太子によって創建された日本最古の仏教寺院の一つです。', '四天王寺金堂の四天王。彼らは、東方を守る持国天、南方を守る増長天、西方を守る広目天、北方を守る多聞天で構成されています。', '四天王寺金堂の四天王像。', '四天王寺僧侶 4人衆。四天王寺の僧侶によって結成されたバンドです。 四天王寺僧侶によるロックバンドとして始まったバンドが四天王寺僧侶 4人衆と呼ばれています。出典:四天王寺僧侶 4人衆。四天王寺僧侶により結成されたロックバンドです。出典:四天王寺僧侶 4人衆。四天王寺僧侶によるロックバンドです。四天王寺僧侶によるロックバンドとして始まったバンドが四天王寺僧侶により結成されたロックバンドが四天王寺僧侶によるロックバンドです。出典:四天王寺僧侶によるロックバンドとして始まったバンドが四天王寺僧侶により結成されたロックバンドが四天王寺僧侶によるロックバンドです。 四天王寺僧侶によるロックバンドとして始まったバンドが四天王寺僧侶', '四天王寺金堂の四天王像。']\n",
      "r_sentences\n",
      "['四天王寺金堂の四天王像']\n",
      "四天王寺金堂の四天王像\n"
     ]
    },
    {
     "name": "stderr",
     "output_type": "stream",
     "text": [
      "Some weights of the model checkpoint at bert-base-multilingual-cased were not used when initializing BertModel: ['cls.predictions.transform.dense.weight', 'cls.seq_relationship.weight', 'cls.predictions.transform.LayerNorm.weight', 'cls.predictions.bias', 'cls.seq_relationship.bias', 'cls.predictions.transform.dense.bias', 'cls.predictions.transform.LayerNorm.bias']\n",
      "- This IS expected if you are initializing BertModel from the checkpoint of a model trained on another task or with another architecture (e.g. initializing a BertForSequenceClassification model from a BertForPreTraining model).\n",
      "- This IS NOT expected if you are initializing BertModel from the checkpoint of a model that you expect to be exactly identical (initializing a BertForSequenceClassification model from a BertForSequenceClassification model).\n",
      "Warning: Baseline not Found for bert-base-multilingual-cased on ja at /home/ryoryon66/.pyenv/versions/3.9.8/lib/python3.9/site-packages/bert_score/rescale_baseline/ja/bert-base-multilingual-cased.tsv\n",
      "Some weights of the model checkpoint at bert-base-multilingual-cased were not used when initializing BertModel: ['cls.predictions.transform.dense.weight', 'cls.seq_relationship.weight', 'cls.predictions.transform.LayerNorm.weight', 'cls.predictions.bias', 'cls.seq_relationship.bias', 'cls.predictions.transform.dense.bias', 'cls.predictions.transform.LayerNorm.bias']\n",
      "- This IS expected if you are initializing BertModel from the checkpoint of a model trained on another task or with another architecture (e.g. initializing a BertForSequenceClassification model from a BertForPreTraining model).\n",
      "- This IS NOT expected if you are initializing BertModel from the checkpoint of a model that you expect to be exactly identical (initializing a BertForSequenceClassification model from a BertForSequenceClassification model).\n",
      "Warning: Baseline not Found for bert-base-multilingual-cased on ja at /home/ryoryon66/.pyenv/versions/3.9.8/lib/python3.9/site-packages/bert_score/rescale_baseline/ja/bert-base-multilingual-cased.tsv\n",
      "Some weights of the model checkpoint at bert-base-multilingual-cased were not used when initializing BertModel: ['cls.predictions.transform.dense.weight', 'cls.seq_relationship.weight', 'cls.predictions.transform.LayerNorm.weight', 'cls.predictions.bias', 'cls.seq_relationship.bias', 'cls.predictions.transform.dense.bias', 'cls.predictions.transform.LayerNorm.bias']\n",
      "- This IS expected if you are initializing BertModel from the checkpoint of a model trained on another task or with another architecture (e.g. initializing a BertForSequenceClassification model from a BertForPreTraining model).\n",
      "- This IS NOT expected if you are initializing BertModel from the checkpoint of a model that you expect to be exactly identical (initializing a BertForSequenceClassification model from a BertForSequenceClassification model).\n",
      "Warning: Baseline not Found for bert-base-multilingual-cased on ja at /home/ryoryon66/.pyenv/versions/3.9.8/lib/python3.9/site-packages/bert_score/rescale_baseline/ja/bert-base-multilingual-cased.tsv\n",
      "Some weights of the model checkpoint at bert-base-multilingual-cased were not used when initializing BertModel: ['cls.predictions.transform.dense.weight', 'cls.seq_relationship.weight', 'cls.predictions.transform.LayerNorm.weight', 'cls.predictions.bias', 'cls.seq_relationship.bias', 'cls.predictions.transform.dense.bias', 'cls.predictions.transform.LayerNorm.bias']\n",
      "- This IS expected if you are initializing BertModel from the checkpoint of a model trained on another task or with another architecture (e.g. initializing a BertForSequenceClassification model from a BertForPreTraining model).\n",
      "- This IS NOT expected if you are initializing BertModel from the checkpoint of a model that you expect to be exactly identical (initializing a BertForSequenceClassification model from a BertForSequenceClassification model).\n",
      "Warning: Baseline not Found for bert-base-multilingual-cased on ja at /home/ryoryon66/.pyenv/versions/3.9.8/lib/python3.9/site-packages/bert_score/rescale_baseline/ja/bert-base-multilingual-cased.tsv\n",
      "Some weights of the model checkpoint at bert-base-multilingual-cased were not used when initializing BertModel: ['cls.predictions.transform.dense.weight', 'cls.seq_relationship.weight', 'cls.predictions.transform.LayerNorm.weight', 'cls.predictions.bias', 'cls.seq_relationship.bias', 'cls.predictions.transform.dense.bias', 'cls.predictions.transform.LayerNorm.bias']\n",
      "- This IS expected if you are initializing BertModel from the checkpoint of a model trained on another task or with another architecture (e.g. initializing a BertForSequenceClassification model from a BertForPreTraining model).\n",
      "- This IS NOT expected if you are initializing BertModel from the checkpoint of a model that you expect to be exactly identical (initializing a BertForSequenceClassification model from a BertForSequenceClassification model).\n"
     ]
    },
    {
     "name": "stdout",
     "output_type": "stream",
     "text": [
      "hallucination pr_scores: [0.10443842411041254]\n",
      "hallucination re_scores: [0.13145835399627676]\n",
      "hallucination f1_scores: [0.11895749568939201]\n",
      "processing 12 / 100\n"
     ]
    },
    {
     "name": "stderr",
     "output_type": "stream",
     "text": [
      "Warning: Baseline not Found for bert-base-multilingual-cased on ja at /home/ryoryon66/.pyenv/versions/3.9.8/lib/python3.9/site-packages/bert_score/rescale_baseline/ja/bert-base-multilingual-cased.tsv\n",
      "/tmp/ipykernel_28939/1749957329.py:18: FutureWarning: The frame.append method is deprecated and will be removed from pandas in a future version. Use pandas.concat instead.\n",
      "  score_df = score_df.append({\n"
     ]
    },
    {
     "name": "stdout",
     "output_type": "stream",
     "text": [
      "QA20CAPR-0025 テニスで、相手のサーブを返した打球により得点することを何というでしょう? リターン・ザ・ボール・ゲーム\n",
      "sampled: ['リターン・ザ・ボールと言います。', 'リターンエースといいます。', 'リターンエースショットといいます。', 'リターンエース」と言います。', 'リターンエース']\n",
      "r_sentences\n",
      "['リターン・ザ・ボール・ゲーム']\n",
      "リターン・ザ・ボール・ゲーム\n"
     ]
    },
    {
     "name": "stderr",
     "output_type": "stream",
     "text": [
      "Some weights of the model checkpoint at bert-base-multilingual-cased were not used when initializing BertModel: ['cls.predictions.transform.dense.weight', 'cls.seq_relationship.weight', 'cls.predictions.transform.LayerNorm.weight', 'cls.predictions.bias', 'cls.seq_relationship.bias', 'cls.predictions.transform.dense.bias', 'cls.predictions.transform.LayerNorm.bias']\n",
      "- This IS expected if you are initializing BertModel from the checkpoint of a model trained on another task or with another architecture (e.g. initializing a BertForSequenceClassification model from a BertForPreTraining model).\n",
      "- This IS NOT expected if you are initializing BertModel from the checkpoint of a model that you expect to be exactly identical (initializing a BertForSequenceClassification model from a BertForSequenceClassification model).\n",
      "Warning: Baseline not Found for bert-base-multilingual-cased on ja at /home/ryoryon66/.pyenv/versions/3.9.8/lib/python3.9/site-packages/bert_score/rescale_baseline/ja/bert-base-multilingual-cased.tsv\n",
      "Some weights of the model checkpoint at bert-base-multilingual-cased were not used when initializing BertModel: ['cls.predictions.transform.dense.weight', 'cls.seq_relationship.weight', 'cls.predictions.transform.LayerNorm.weight', 'cls.predictions.bias', 'cls.seq_relationship.bias', 'cls.predictions.transform.dense.bias', 'cls.predictions.transform.LayerNorm.bias']\n",
      "- This IS expected if you are initializing BertModel from the checkpoint of a model trained on another task or with another architecture (e.g. initializing a BertForSequenceClassification model from a BertForPreTraining model).\n",
      "- This IS NOT expected if you are initializing BertModel from the checkpoint of a model that you expect to be exactly identical (initializing a BertForSequenceClassification model from a BertForSequenceClassification model).\n",
      "Warning: Baseline not Found for bert-base-multilingual-cased on ja at /home/ryoryon66/.pyenv/versions/3.9.8/lib/python3.9/site-packages/bert_score/rescale_baseline/ja/bert-base-multilingual-cased.tsv\n",
      "Some weights of the model checkpoint at bert-base-multilingual-cased were not used when initializing BertModel: ['cls.predictions.transform.dense.weight', 'cls.seq_relationship.weight', 'cls.predictions.transform.LayerNorm.weight', 'cls.predictions.bias', 'cls.seq_relationship.bias', 'cls.predictions.transform.dense.bias', 'cls.predictions.transform.LayerNorm.bias']\n",
      "- This IS expected if you are initializing BertModel from the checkpoint of a model trained on another task or with another architecture (e.g. initializing a BertForSequenceClassification model from a BertForPreTraining model).\n",
      "- This IS NOT expected if you are initializing BertModel from the checkpoint of a model that you expect to be exactly identical (initializing a BertForSequenceClassification model from a BertForSequenceClassification model).\n",
      "Warning: Baseline not Found for bert-base-multilingual-cased on ja at /home/ryoryon66/.pyenv/versions/3.9.8/lib/python3.9/site-packages/bert_score/rescale_baseline/ja/bert-base-multilingual-cased.tsv\n",
      "Some weights of the model checkpoint at bert-base-multilingual-cased were not used when initializing BertModel: ['cls.predictions.transform.dense.weight', 'cls.seq_relationship.weight', 'cls.predictions.transform.LayerNorm.weight', 'cls.predictions.bias', 'cls.seq_relationship.bias', 'cls.predictions.transform.dense.bias', 'cls.predictions.transform.LayerNorm.bias']\n",
      "- This IS expected if you are initializing BertModel from the checkpoint of a model trained on another task or with another architecture (e.g. initializing a BertForSequenceClassification model from a BertForPreTraining model).\n",
      "- This IS NOT expected if you are initializing BertModel from the checkpoint of a model that you expect to be exactly identical (initializing a BertForSequenceClassification model from a BertForSequenceClassification model).\n",
      "Warning: Baseline not Found for bert-base-multilingual-cased on ja at /home/ryoryon66/.pyenv/versions/3.9.8/lib/python3.9/site-packages/bert_score/rescale_baseline/ja/bert-base-multilingual-cased.tsv\n",
      "Some weights of the model checkpoint at bert-base-multilingual-cased were not used when initializing BertModel: ['cls.predictions.transform.dense.weight', 'cls.seq_relationship.weight', 'cls.predictions.transform.LayerNorm.weight', 'cls.predictions.bias', 'cls.seq_relationship.bias', 'cls.predictions.transform.dense.bias', 'cls.predictions.transform.LayerNorm.bias']\n",
      "- This IS expected if you are initializing BertModel from the checkpoint of a model trained on another task or with another architecture (e.g. initializing a BertForSequenceClassification model from a BertForPreTraining model).\n",
      "- This IS NOT expected if you are initializing BertModel from the checkpoint of a model that you expect to be exactly identical (initializing a BertForSequenceClassification model from a BertForSequenceClassification model).\n"
     ]
    },
    {
     "name": "stdout",
     "output_type": "stream",
     "text": [
      "hallucination pr_scores: [0.24970996379852298]\n",
      "hallucination re_scores: [0.22423733472824095]\n",
      "hallucination f1_scores: [0.23789663314819337]\n",
      "processing 13 / 100\n"
     ]
    },
    {
     "name": "stderr",
     "output_type": "stream",
     "text": [
      "Warning: Baseline not Found for bert-base-multilingual-cased on ja at /home/ryoryon66/.pyenv/versions/3.9.8/lib/python3.9/site-packages/bert_score/rescale_baseline/ja/bert-base-multilingual-cased.tsv\n",
      "/tmp/ipykernel_28939/1749957329.py:18: FutureWarning: The frame.append method is deprecated and will be removed from pandas in a future version. Use pandas.concat instead.\n",
      "  score_df = score_df.append({\n"
     ]
    },
    {
     "name": "stdout",
     "output_type": "stream",
     "text": [
      "QA20CAPR-0027 スズメ、イシ、キンメなどの種類がある、縁起物の魚は何でしょう? フグ類です。\n",
      "\n",
      "sampled: ['金目鯛です。', '金目鯛。金目鯛は、東アジアや南太平洋の海産資源の主要な個体群の一つです。金目鯛は、通常、南日本やハワイ周辺の太平洋の暖かい海域に見られます。金目鯛は、釣りや養殖によって広く漁獲されています。', 'フクロウ。 彼らはしばしば金運や繁栄などの象徴とされています。 また、多くの文化では、フクロウは幸運の兆候と考えられています。', '金目鯛。金目鯛は、日本や中国など、アジアの暖かい海に広く分布している海洋産の小型海水魚です。金目鯛は、高級食材として人気があり、刺身や寿司などでよく食べられています。', 'カワウソやホッケもおすすめです。これらはどちらも人気があり、美しい魚です。カワウソは「幸運の魚」と呼ばれています。また、ホッケは漁獲量が少なく、希少な海藻の一種です。これらの種類は非常に人気があり、縁起の良い魚とされています。']\n",
      "r_sentences\n",
      "['フグ類です']\n",
      "フグ類です\n"
     ]
    },
    {
     "name": "stderr",
     "output_type": "stream",
     "text": [
      "Some weights of the model checkpoint at bert-base-multilingual-cased were not used when initializing BertModel: ['cls.predictions.transform.dense.weight', 'cls.seq_relationship.weight', 'cls.predictions.transform.LayerNorm.weight', 'cls.predictions.bias', 'cls.seq_relationship.bias', 'cls.predictions.transform.dense.bias', 'cls.predictions.transform.LayerNorm.bias']\n",
      "- This IS expected if you are initializing BertModel from the checkpoint of a model trained on another task or with another architecture (e.g. initializing a BertForSequenceClassification model from a BertForPreTraining model).\n",
      "- This IS NOT expected if you are initializing BertModel from the checkpoint of a model that you expect to be exactly identical (initializing a BertForSequenceClassification model from a BertForSequenceClassification model).\n",
      "Warning: Baseline not Found for bert-base-multilingual-cased on ja at /home/ryoryon66/.pyenv/versions/3.9.8/lib/python3.9/site-packages/bert_score/rescale_baseline/ja/bert-base-multilingual-cased.tsv\n",
      "Some weights of the model checkpoint at bert-base-multilingual-cased were not used when initializing BertModel: ['cls.predictions.transform.dense.weight', 'cls.seq_relationship.weight', 'cls.predictions.transform.LayerNorm.weight', 'cls.predictions.bias', 'cls.seq_relationship.bias', 'cls.predictions.transform.dense.bias', 'cls.predictions.transform.LayerNorm.bias']\n",
      "- This IS expected if you are initializing BertModel from the checkpoint of a model trained on another task or with another architecture (e.g. initializing a BertForSequenceClassification model from a BertForPreTraining model).\n",
      "- This IS NOT expected if you are initializing BertModel from the checkpoint of a model that you expect to be exactly identical (initializing a BertForSequenceClassification model from a BertForSequenceClassification model).\n",
      "Warning: Baseline not Found for bert-base-multilingual-cased on ja at /home/ryoryon66/.pyenv/versions/3.9.8/lib/python3.9/site-packages/bert_score/rescale_baseline/ja/bert-base-multilingual-cased.tsv\n",
      "Some weights of the model checkpoint at bert-base-multilingual-cased were not used when initializing BertModel: ['cls.predictions.transform.dense.weight', 'cls.seq_relationship.weight', 'cls.predictions.transform.LayerNorm.weight', 'cls.predictions.bias', 'cls.seq_relationship.bias', 'cls.predictions.transform.dense.bias', 'cls.predictions.transform.LayerNorm.bias']\n",
      "- This IS expected if you are initializing BertModel from the checkpoint of a model trained on another task or with another architecture (e.g. initializing a BertForSequenceClassification model from a BertForPreTraining model).\n",
      "- This IS NOT expected if you are initializing BertModel from the checkpoint of a model that you expect to be exactly identical (initializing a BertForSequenceClassification model from a BertForSequenceClassification model).\n",
      "Warning: Baseline not Found for bert-base-multilingual-cased on ja at /home/ryoryon66/.pyenv/versions/3.9.8/lib/python3.9/site-packages/bert_score/rescale_baseline/ja/bert-base-multilingual-cased.tsv\n",
      "Some weights of the model checkpoint at bert-base-multilingual-cased were not used when initializing BertModel: ['cls.predictions.transform.dense.weight', 'cls.seq_relationship.weight', 'cls.predictions.transform.LayerNorm.weight', 'cls.predictions.bias', 'cls.seq_relationship.bias', 'cls.predictions.transform.dense.bias', 'cls.predictions.transform.LayerNorm.bias']\n",
      "- This IS expected if you are initializing BertModel from the checkpoint of a model trained on another task or with another architecture (e.g. initializing a BertForSequenceClassification model from a BertForPreTraining model).\n",
      "- This IS NOT expected if you are initializing BertModel from the checkpoint of a model that you expect to be exactly identical (initializing a BertForSequenceClassification model from a BertForSequenceClassification model).\n",
      "Warning: Baseline not Found for bert-base-multilingual-cased on ja at /home/ryoryon66/.pyenv/versions/3.9.8/lib/python3.9/site-packages/bert_score/rescale_baseline/ja/bert-base-multilingual-cased.tsv\n",
      "Some weights of the model checkpoint at bert-base-multilingual-cased were not used when initializing BertModel: ['cls.predictions.transform.dense.weight', 'cls.seq_relationship.weight', 'cls.predictions.transform.LayerNorm.weight', 'cls.predictions.bias', 'cls.seq_relationship.bias', 'cls.predictions.transform.dense.bias', 'cls.predictions.transform.LayerNorm.bias']\n",
      "- This IS expected if you are initializing BertModel from the checkpoint of a model trained on another task or with another architecture (e.g. initializing a BertForSequenceClassification model from a BertForPreTraining model).\n",
      "- This IS NOT expected if you are initializing BertModel from the checkpoint of a model that you expect to be exactly identical (initializing a BertForSequenceClassification model from a BertForSequenceClassification model).\n"
     ]
    },
    {
     "name": "stdout",
     "output_type": "stream",
     "text": [
      "hallucination pr_scores: [0.24017518758773804]\n",
      "hallucination re_scores: [0.26398138999938964]\n",
      "hallucination f1_scores: [0.25775074958801275]\n",
      "processing 14 / 100\n"
     ]
    },
    {
     "name": "stderr",
     "output_type": "stream",
     "text": [
      "Warning: Baseline not Found for bert-base-multilingual-cased on ja at /home/ryoryon66/.pyenv/versions/3.9.8/lib/python3.9/site-packages/bert_score/rescale_baseline/ja/bert-base-multilingual-cased.tsv\n",
      "/tmp/ipykernel_28939/1749957329.py:18: FutureWarning: The frame.append method is deprecated and will be removed from pandas in a future version. Use pandas.concat instead.\n",
      "  score_df = score_df.append({\n"
     ]
    },
    {
     "name": "stdout",
     "output_type": "stream",
     "text": [
      "QA20CAPR-0029 『アルルの跳ね橋』や『ひまわり』などの作品で知られる、オランダの画家は誰でしょう? レンブラント・ファン・レイン\n",
      "sampled: ['フィンセント・ファン・ゴッホ', 'レンブラント・ファン・レイン', 'モネ', 'レンブラント・ファン・レイン', 'レンブラント・ファン・レイン']\n",
      "r_sentences\n",
      "['レンブラント・ファン・レイン']\n",
      "レンブラント・ファン・レイン\n"
     ]
    },
    {
     "name": "stderr",
     "output_type": "stream",
     "text": [
      "Some weights of the model checkpoint at bert-base-multilingual-cased were not used when initializing BertModel: ['cls.predictions.transform.dense.weight', 'cls.seq_relationship.weight', 'cls.predictions.transform.LayerNorm.weight', 'cls.predictions.bias', 'cls.seq_relationship.bias', 'cls.predictions.transform.dense.bias', 'cls.predictions.transform.LayerNorm.bias']\n",
      "- This IS expected if you are initializing BertModel from the checkpoint of a model trained on another task or with another architecture (e.g. initializing a BertForSequenceClassification model from a BertForPreTraining model).\n",
      "- This IS NOT expected if you are initializing BertModel from the checkpoint of a model that you expect to be exactly identical (initializing a BertForSequenceClassification model from a BertForSequenceClassification model).\n",
      "Warning: Baseline not Found for bert-base-multilingual-cased on ja at /home/ryoryon66/.pyenv/versions/3.9.8/lib/python3.9/site-packages/bert_score/rescale_baseline/ja/bert-base-multilingual-cased.tsv\n",
      "Some weights of the model checkpoint at bert-base-multilingual-cased were not used when initializing BertModel: ['cls.predictions.transform.dense.weight', 'cls.seq_relationship.weight', 'cls.predictions.transform.LayerNorm.weight', 'cls.predictions.bias', 'cls.seq_relationship.bias', 'cls.predictions.transform.dense.bias', 'cls.predictions.transform.LayerNorm.bias']\n",
      "- This IS expected if you are initializing BertModel from the checkpoint of a model trained on another task or with another architecture (e.g. initializing a BertForSequenceClassification model from a BertForPreTraining model).\n",
      "- This IS NOT expected if you are initializing BertModel from the checkpoint of a model that you expect to be exactly identical (initializing a BertForSequenceClassification model from a BertForSequenceClassification model).\n",
      "Warning: Baseline not Found for bert-base-multilingual-cased on ja at /home/ryoryon66/.pyenv/versions/3.9.8/lib/python3.9/site-packages/bert_score/rescale_baseline/ja/bert-base-multilingual-cased.tsv\n",
      "Some weights of the model checkpoint at bert-base-multilingual-cased were not used when initializing BertModel: ['cls.predictions.transform.dense.weight', 'cls.seq_relationship.weight', 'cls.predictions.transform.LayerNorm.weight', 'cls.predictions.bias', 'cls.seq_relationship.bias', 'cls.predictions.transform.dense.bias', 'cls.predictions.transform.LayerNorm.bias']\n",
      "- This IS expected if you are initializing BertModel from the checkpoint of a model trained on another task or with another architecture (e.g. initializing a BertForSequenceClassification model from a BertForPreTraining model).\n",
      "- This IS NOT expected if you are initializing BertModel from the checkpoint of a model that you expect to be exactly identical (initializing a BertForSequenceClassification model from a BertForSequenceClassification model).\n",
      "Warning: Baseline not Found for bert-base-multilingual-cased on ja at /home/ryoryon66/.pyenv/versions/3.9.8/lib/python3.9/site-packages/bert_score/rescale_baseline/ja/bert-base-multilingual-cased.tsv\n",
      "Some weights of the model checkpoint at bert-base-multilingual-cased were not used when initializing BertModel: ['cls.predictions.transform.dense.weight', 'cls.seq_relationship.weight', 'cls.predictions.transform.LayerNorm.weight', 'cls.predictions.bias', 'cls.seq_relationship.bias', 'cls.predictions.transform.dense.bias', 'cls.predictions.transform.LayerNorm.bias']\n",
      "- This IS expected if you are initializing BertModel from the checkpoint of a model trained on another task or with another architecture (e.g. initializing a BertForSequenceClassification model from a BertForPreTraining model).\n",
      "- This IS NOT expected if you are initializing BertModel from the checkpoint of a model that you expect to be exactly identical (initializing a BertForSequenceClassification model from a BertForSequenceClassification model).\n",
      "Warning: Baseline not Found for bert-base-multilingual-cased on ja at /home/ryoryon66/.pyenv/versions/3.9.8/lib/python3.9/site-packages/bert_score/rescale_baseline/ja/bert-base-multilingual-cased.tsv\n",
      "Some weights of the model checkpoint at bert-base-multilingual-cased were not used when initializing BertModel: ['cls.predictions.transform.dense.weight', 'cls.seq_relationship.weight', 'cls.predictions.transform.LayerNorm.weight', 'cls.predictions.bias', 'cls.seq_relationship.bias', 'cls.predictions.transform.dense.bias', 'cls.predictions.transform.LayerNorm.bias']\n",
      "- This IS expected if you are initializing BertModel from the checkpoint of a model trained on another task or with another architecture (e.g. initializing a BertForSequenceClassification model from a BertForPreTraining model).\n",
      "- This IS NOT expected if you are initializing BertModel from the checkpoint of a model that you expect to be exactly identical (initializing a BertForSequenceClassification model from a BertForSequenceClassification model).\n"
     ]
    },
    {
     "name": "stdout",
     "output_type": "stream",
     "text": [
      "hallucination pr_scores: [0.10573343038558958]\n",
      "hallucination re_scores: [0.08174444437026973]\n",
      "hallucination f1_scores: [0.09462858438491811]\n",
      "processing 15 / 100\n"
     ]
    },
    {
     "name": "stderr",
     "output_type": "stream",
     "text": [
      "Warning: Baseline not Found for bert-base-multilingual-cased on ja at /home/ryoryon66/.pyenv/versions/3.9.8/lib/python3.9/site-packages/bert_score/rescale_baseline/ja/bert-base-multilingual-cased.tsv\n",
      "/tmp/ipykernel_28939/1749957329.py:18: FutureWarning: The frame.append method is deprecated and will be removed from pandas in a future version. Use pandas.concat instead.\n",
      "  score_df = score_df.append({\n"
     ]
    },
    {
     "name": "stdout",
     "output_type": "stream",
     "text": [
      "QA20CAPR-0031 総北高校に通う小野田坂道を主人公とする、渡辺航の自転車漫画は何でしょう? 弱虫ペダルです。\n",
      "\n",
      "sampled: ['弱虫ペダルです。', '弱虫ペダルです。', '弱虫ペダルです。', '弱虫ペダルです。', '弱虫ペダルです。']\n",
      "r_sentences\n",
      "['弱虫ペダルです']\n",
      "弱虫ペダルです\n"
     ]
    },
    {
     "name": "stderr",
     "output_type": "stream",
     "text": [
      "Some weights of the model checkpoint at bert-base-multilingual-cased were not used when initializing BertModel: ['cls.predictions.transform.dense.weight', 'cls.seq_relationship.weight', 'cls.predictions.transform.LayerNorm.weight', 'cls.predictions.bias', 'cls.seq_relationship.bias', 'cls.predictions.transform.dense.bias', 'cls.predictions.transform.LayerNorm.bias']\n",
      "- This IS expected if you are initializing BertModel from the checkpoint of a model trained on another task or with another architecture (e.g. initializing a BertForSequenceClassification model from a BertForPreTraining model).\n",
      "- This IS NOT expected if you are initializing BertModel from the checkpoint of a model that you expect to be exactly identical (initializing a BertForSequenceClassification model from a BertForSequenceClassification model).\n",
      "Warning: Baseline not Found for bert-base-multilingual-cased on ja at /home/ryoryon66/.pyenv/versions/3.9.8/lib/python3.9/site-packages/bert_score/rescale_baseline/ja/bert-base-multilingual-cased.tsv\n",
      "Some weights of the model checkpoint at bert-base-multilingual-cased were not used when initializing BertModel: ['cls.predictions.transform.dense.weight', 'cls.seq_relationship.weight', 'cls.predictions.transform.LayerNorm.weight', 'cls.predictions.bias', 'cls.seq_relationship.bias', 'cls.predictions.transform.dense.bias', 'cls.predictions.transform.LayerNorm.bias']\n",
      "- This IS expected if you are initializing BertModel from the checkpoint of a model trained on another task or with another architecture (e.g. initializing a BertForSequenceClassification model from a BertForPreTraining model).\n",
      "- This IS NOT expected if you are initializing BertModel from the checkpoint of a model that you expect to be exactly identical (initializing a BertForSequenceClassification model from a BertForSequenceClassification model).\n",
      "Warning: Baseline not Found for bert-base-multilingual-cased on ja at /home/ryoryon66/.pyenv/versions/3.9.8/lib/python3.9/site-packages/bert_score/rescale_baseline/ja/bert-base-multilingual-cased.tsv\n",
      "Some weights of the model checkpoint at bert-base-multilingual-cased were not used when initializing BertModel: ['cls.predictions.transform.dense.weight', 'cls.seq_relationship.weight', 'cls.predictions.transform.LayerNorm.weight', 'cls.predictions.bias', 'cls.seq_relationship.bias', 'cls.predictions.transform.dense.bias', 'cls.predictions.transform.LayerNorm.bias']\n",
      "- This IS expected if you are initializing BertModel from the checkpoint of a model trained on another task or with another architecture (e.g. initializing a BertForSequenceClassification model from a BertForPreTraining model).\n",
      "- This IS NOT expected if you are initializing BertModel from the checkpoint of a model that you expect to be exactly identical (initializing a BertForSequenceClassification model from a BertForSequenceClassification model).\n",
      "Warning: Baseline not Found for bert-base-multilingual-cased on ja at /home/ryoryon66/.pyenv/versions/3.9.8/lib/python3.9/site-packages/bert_score/rescale_baseline/ja/bert-base-multilingual-cased.tsv\n",
      "Some weights of the model checkpoint at bert-base-multilingual-cased were not used when initializing BertModel: ['cls.predictions.transform.dense.weight', 'cls.seq_relationship.weight', 'cls.predictions.transform.LayerNorm.weight', 'cls.predictions.bias', 'cls.seq_relationship.bias', 'cls.predictions.transform.dense.bias', 'cls.predictions.transform.LayerNorm.bias']\n",
      "- This IS expected if you are initializing BertModel from the checkpoint of a model trained on another task or with another architecture (e.g. initializing a BertForSequenceClassification model from a BertForPreTraining model).\n",
      "- This IS NOT expected if you are initializing BertModel from the checkpoint of a model that you expect to be exactly identical (initializing a BertForSequenceClassification model from a BertForSequenceClassification model).\n",
      "Warning: Baseline not Found for bert-base-multilingual-cased on ja at /home/ryoryon66/.pyenv/versions/3.9.8/lib/python3.9/site-packages/bert_score/rescale_baseline/ja/bert-base-multilingual-cased.tsv\n",
      "Some weights of the model checkpoint at bert-base-multilingual-cased were not used when initializing BertModel: ['cls.predictions.transform.dense.weight', 'cls.seq_relationship.weight', 'cls.predictions.transform.LayerNorm.weight', 'cls.predictions.bias', 'cls.seq_relationship.bias', 'cls.predictions.transform.dense.bias', 'cls.predictions.transform.LayerNorm.bias']\n",
      "- This IS expected if you are initializing BertModel from the checkpoint of a model trained on another task or with another architecture (e.g. initializing a BertForSequenceClassification model from a BertForPreTraining model).\n",
      "- This IS NOT expected if you are initializing BertModel from the checkpoint of a model that you expect to be exactly identical (initializing a BertForSequenceClassification model from a BertForSequenceClassification model).\n"
     ]
    },
    {
     "name": "stdout",
     "output_type": "stream",
     "text": [
      "hallucination pr_scores: [5.551115123125783e-17]\n",
      "hallucination re_scores: [5.551115123125783e-17]\n",
      "hallucination f1_scores: [5.551115123125783e-17]\n",
      "processing 16 / 100\n"
     ]
    },
    {
     "name": "stderr",
     "output_type": "stream",
     "text": [
      "Warning: Baseline not Found for bert-base-multilingual-cased on ja at /home/ryoryon66/.pyenv/versions/3.9.8/lib/python3.9/site-packages/bert_score/rescale_baseline/ja/bert-base-multilingual-cased.tsv\n",
      "/tmp/ipykernel_28939/1749957329.py:18: FutureWarning: The frame.append method is deprecated and will be removed from pandas in a future version. Use pandas.concat instead.\n",
      "  score_df = score_df.append({\n"
     ]
    },
    {
     "name": "stdout",
     "output_type": "stream",
     "text": [
      "QA20CAPR-0033 提唱したドイツの統計学者の名に由来する、家計の支出に占める飲食費の割合を何というでしょう? エンゲル係数(または「食費」)とは、家庭における消費支出の測定値であり、所得と物価の関数です。\n",
      "提唱者にちなんで名付けられました。\n",
      "この指標は、所得と物価の変動に応じて増減します。\n",
      "\n",
      "sampled: ['フードバランスレート(Foodbalancerate)', 'バウムクーヘン係数', 'パンパード・アウトプット・パーセンテージ', 'パーチェスコスト比率', '家計支出における飲食費の割合とは、総支出のうち、家庭内の消費支出が占める割合のことです。この割合は、国民経済計算や国民生活水準分析などの多くの研究分野において重要な要素であり、さまざまな国々の家計支出データの比較や分析に使用されています。']\n",
      "r_sentences\n",
      "['エンゲル係数(または「食費」)とは、家庭における消費支出の測定値であり、所得と物価の関数です', '提唱者にちなんで名付けられました', 'この指標は、所得と物価の変動に応じて増減します']\n",
      "エンゲル係数(または「食費」)とは、家庭における消費支出の測定値であり、所得と物価の関数です\n"
     ]
    },
    {
     "name": "stderr",
     "output_type": "stream",
     "text": [
      "Some weights of the model checkpoint at bert-base-multilingual-cased were not used when initializing BertModel: ['cls.predictions.transform.dense.weight', 'cls.seq_relationship.weight', 'cls.predictions.transform.LayerNorm.weight', 'cls.predictions.bias', 'cls.seq_relationship.bias', 'cls.predictions.transform.dense.bias', 'cls.predictions.transform.LayerNorm.bias']\n",
      "- This IS expected if you are initializing BertModel from the checkpoint of a model trained on another task or with another architecture (e.g. initializing a BertForSequenceClassification model from a BertForPreTraining model).\n",
      "- This IS NOT expected if you are initializing BertModel from the checkpoint of a model that you expect to be exactly identical (initializing a BertForSequenceClassification model from a BertForSequenceClassification model).\n",
      "Warning: Baseline not Found for bert-base-multilingual-cased on ja at /home/ryoryon66/.pyenv/versions/3.9.8/lib/python3.9/site-packages/bert_score/rescale_baseline/ja/bert-base-multilingual-cased.tsv\n",
      "Some weights of the model checkpoint at bert-base-multilingual-cased were not used when initializing BertModel: ['cls.predictions.transform.dense.weight', 'cls.seq_relationship.weight', 'cls.predictions.transform.LayerNorm.weight', 'cls.predictions.bias', 'cls.seq_relationship.bias', 'cls.predictions.transform.dense.bias', 'cls.predictions.transform.LayerNorm.bias']\n",
      "- This IS expected if you are initializing BertModel from the checkpoint of a model trained on another task or with another architecture (e.g. initializing a BertForSequenceClassification model from a BertForPreTraining model).\n",
      "- This IS NOT expected if you are initializing BertModel from the checkpoint of a model that you expect to be exactly identical (initializing a BertForSequenceClassification model from a BertForSequenceClassification model).\n",
      "Warning: Baseline not Found for bert-base-multilingual-cased on ja at /home/ryoryon66/.pyenv/versions/3.9.8/lib/python3.9/site-packages/bert_score/rescale_baseline/ja/bert-base-multilingual-cased.tsv\n",
      "Some weights of the model checkpoint at bert-base-multilingual-cased were not used when initializing BertModel: ['cls.predictions.transform.dense.weight', 'cls.seq_relationship.weight', 'cls.predictions.transform.LayerNorm.weight', 'cls.predictions.bias', 'cls.seq_relationship.bias', 'cls.predictions.transform.dense.bias', 'cls.predictions.transform.LayerNorm.bias']\n",
      "- This IS expected if you are initializing BertModel from the checkpoint of a model trained on another task or with another architecture (e.g. initializing a BertForSequenceClassification model from a BertForPreTraining model).\n",
      "- This IS NOT expected if you are initializing BertModel from the checkpoint of a model that you expect to be exactly identical (initializing a BertForSequenceClassification model from a BertForSequenceClassification model).\n",
      "Warning: Baseline not Found for bert-base-multilingual-cased on ja at /home/ryoryon66/.pyenv/versions/3.9.8/lib/python3.9/site-packages/bert_score/rescale_baseline/ja/bert-base-multilingual-cased.tsv\n",
      "Some weights of the model checkpoint at bert-base-multilingual-cased were not used when initializing BertModel: ['cls.predictions.transform.dense.weight', 'cls.seq_relationship.weight', 'cls.predictions.transform.LayerNorm.weight', 'cls.predictions.bias', 'cls.seq_relationship.bias', 'cls.predictions.transform.dense.bias', 'cls.predictions.transform.LayerNorm.bias']\n",
      "- This IS expected if you are initializing BertModel from the checkpoint of a model trained on another task or with another architecture (e.g. initializing a BertForSequenceClassification model from a BertForPreTraining model).\n",
      "- This IS NOT expected if you are initializing BertModel from the checkpoint of a model that you expect to be exactly identical (initializing a BertForSequenceClassification model from a BertForSequenceClassification model).\n",
      "Warning: Baseline not Found for bert-base-multilingual-cased on ja at /home/ryoryon66/.pyenv/versions/3.9.8/lib/python3.9/site-packages/bert_score/rescale_baseline/ja/bert-base-multilingual-cased.tsv\n",
      "Some weights of the model checkpoint at bert-base-multilingual-cased were not used when initializing BertModel: ['cls.predictions.transform.dense.weight', 'cls.seq_relationship.weight', 'cls.predictions.transform.LayerNorm.weight', 'cls.predictions.bias', 'cls.seq_relationship.bias', 'cls.predictions.transform.dense.bias', 'cls.predictions.transform.LayerNorm.bias']\n",
      "- This IS expected if you are initializing BertModel from the checkpoint of a model trained on another task or with another architecture (e.g. initializing a BertForSequenceClassification model from a BertForPreTraining model).\n",
      "- This IS NOT expected if you are initializing BertModel from the checkpoint of a model that you expect to be exactly identical (initializing a BertForSequenceClassification model from a BertForSequenceClassification model).\n",
      "Warning: Baseline not Found for bert-base-multilingual-cased on ja at /home/ryoryon66/.pyenv/versions/3.9.8/lib/python3.9/site-packages/bert_score/rescale_baseline/ja/bert-base-multilingual-cased.tsv\n"
     ]
    },
    {
     "name": "stdout",
     "output_type": "stream",
     "text": [
      "提唱者にちなんで名付けられました\n"
     ]
    },
    {
     "name": "stderr",
     "output_type": "stream",
     "text": [
      "Some weights of the model checkpoint at bert-base-multilingual-cased were not used when initializing BertModel: ['cls.predictions.transform.dense.weight', 'cls.seq_relationship.weight', 'cls.predictions.transform.LayerNorm.weight', 'cls.predictions.bias', 'cls.seq_relationship.bias', 'cls.predictions.transform.dense.bias', 'cls.predictions.transform.LayerNorm.bias']\n",
      "- This IS expected if you are initializing BertModel from the checkpoint of a model trained on another task or with another architecture (e.g. initializing a BertForSequenceClassification model from a BertForPreTraining model).\n",
      "- This IS NOT expected if you are initializing BertModel from the checkpoint of a model that you expect to be exactly identical (initializing a BertForSequenceClassification model from a BertForSequenceClassification model).\n",
      "Warning: Baseline not Found for bert-base-multilingual-cased on ja at /home/ryoryon66/.pyenv/versions/3.9.8/lib/python3.9/site-packages/bert_score/rescale_baseline/ja/bert-base-multilingual-cased.tsv\n",
      "Some weights of the model checkpoint at bert-base-multilingual-cased were not used when initializing BertModel: ['cls.predictions.transform.dense.weight', 'cls.seq_relationship.weight', 'cls.predictions.transform.LayerNorm.weight', 'cls.predictions.bias', 'cls.seq_relationship.bias', 'cls.predictions.transform.dense.bias', 'cls.predictions.transform.LayerNorm.bias']\n",
      "- This IS expected if you are initializing BertModel from the checkpoint of a model trained on another task or with another architecture (e.g. initializing a BertForSequenceClassification model from a BertForPreTraining model).\n",
      "- This IS NOT expected if you are initializing BertModel from the checkpoint of a model that you expect to be exactly identical (initializing a BertForSequenceClassification model from a BertForSequenceClassification model).\n",
      "Warning: Baseline not Found for bert-base-multilingual-cased on ja at /home/ryoryon66/.pyenv/versions/3.9.8/lib/python3.9/site-packages/bert_score/rescale_baseline/ja/bert-base-multilingual-cased.tsv\n",
      "Some weights of the model checkpoint at bert-base-multilingual-cased were not used when initializing BertModel: ['cls.predictions.transform.dense.weight', 'cls.seq_relationship.weight', 'cls.predictions.transform.LayerNorm.weight', 'cls.predictions.bias', 'cls.seq_relationship.bias', 'cls.predictions.transform.dense.bias', 'cls.predictions.transform.LayerNorm.bias']\n",
      "- This IS expected if you are initializing BertModel from the checkpoint of a model trained on another task or with another architecture (e.g. initializing a BertForSequenceClassification model from a BertForPreTraining model).\n",
      "- This IS NOT expected if you are initializing BertModel from the checkpoint of a model that you expect to be exactly identical (initializing a BertForSequenceClassification model from a BertForSequenceClassification model).\n",
      "Warning: Baseline not Found for bert-base-multilingual-cased on ja at /home/ryoryon66/.pyenv/versions/3.9.8/lib/python3.9/site-packages/bert_score/rescale_baseline/ja/bert-base-multilingual-cased.tsv\n",
      "Some weights of the model checkpoint at bert-base-multilingual-cased were not used when initializing BertModel: ['cls.predictions.transform.dense.weight', 'cls.seq_relationship.weight', 'cls.predictions.transform.LayerNorm.weight', 'cls.predictions.bias', 'cls.seq_relationship.bias', 'cls.predictions.transform.dense.bias', 'cls.predictions.transform.LayerNorm.bias']\n",
      "- This IS expected if you are initializing BertModel from the checkpoint of a model trained on another task or with another architecture (e.g. initializing a BertForSequenceClassification model from a BertForPreTraining model).\n",
      "- This IS NOT expected if you are initializing BertModel from the checkpoint of a model that you expect to be exactly identical (initializing a BertForSequenceClassification model from a BertForSequenceClassification model).\n",
      "Warning: Baseline not Found for bert-base-multilingual-cased on ja at /home/ryoryon66/.pyenv/versions/3.9.8/lib/python3.9/site-packages/bert_score/rescale_baseline/ja/bert-base-multilingual-cased.tsv\n",
      "Some weights of the model checkpoint at bert-base-multilingual-cased were not used when initializing BertModel: ['cls.predictions.transform.dense.weight', 'cls.seq_relationship.weight', 'cls.predictions.transform.LayerNorm.weight', 'cls.predictions.bias', 'cls.seq_relationship.bias', 'cls.predictions.transform.dense.bias', 'cls.predictions.transform.LayerNorm.bias']\n",
      "- This IS expected if you are initializing BertModel from the checkpoint of a model trained on another task or with another architecture (e.g. initializing a BertForSequenceClassification model from a BertForPreTraining model).\n",
      "- This IS NOT expected if you are initializing BertModel from the checkpoint of a model that you expect to be exactly identical (initializing a BertForSequenceClassification model from a BertForSequenceClassification model).\n",
      "Warning: Baseline not Found for bert-base-multilingual-cased on ja at /home/ryoryon66/.pyenv/versions/3.9.8/lib/python3.9/site-packages/bert_score/rescale_baseline/ja/bert-base-multilingual-cased.tsv\n"
     ]
    },
    {
     "name": "stdout",
     "output_type": "stream",
     "text": [
      "この指標は、所得と物価の変動に応じて増減します\n"
     ]
    },
    {
     "name": "stderr",
     "output_type": "stream",
     "text": [
      "Some weights of the model checkpoint at bert-base-multilingual-cased were not used when initializing BertModel: ['cls.predictions.transform.dense.weight', 'cls.seq_relationship.weight', 'cls.predictions.transform.LayerNorm.weight', 'cls.predictions.bias', 'cls.seq_relationship.bias', 'cls.predictions.transform.dense.bias', 'cls.predictions.transform.LayerNorm.bias']\n",
      "- This IS expected if you are initializing BertModel from the checkpoint of a model trained on another task or with another architecture (e.g. initializing a BertForSequenceClassification model from a BertForPreTraining model).\n",
      "- This IS NOT expected if you are initializing BertModel from the checkpoint of a model that you expect to be exactly identical (initializing a BertForSequenceClassification model from a BertForSequenceClassification model).\n",
      "Warning: Baseline not Found for bert-base-multilingual-cased on ja at /home/ryoryon66/.pyenv/versions/3.9.8/lib/python3.9/site-packages/bert_score/rescale_baseline/ja/bert-base-multilingual-cased.tsv\n",
      "Some weights of the model checkpoint at bert-base-multilingual-cased were not used when initializing BertModel: ['cls.predictions.transform.dense.weight', 'cls.seq_relationship.weight', 'cls.predictions.transform.LayerNorm.weight', 'cls.predictions.bias', 'cls.seq_relationship.bias', 'cls.predictions.transform.dense.bias', 'cls.predictions.transform.LayerNorm.bias']\n",
      "- This IS expected if you are initializing BertModel from the checkpoint of a model trained on another task or with another architecture (e.g. initializing a BertForSequenceClassification model from a BertForPreTraining model).\n",
      "- This IS NOT expected if you are initializing BertModel from the checkpoint of a model that you expect to be exactly identical (initializing a BertForSequenceClassification model from a BertForSequenceClassification model).\n",
      "Warning: Baseline not Found for bert-base-multilingual-cased on ja at /home/ryoryon66/.pyenv/versions/3.9.8/lib/python3.9/site-packages/bert_score/rescale_baseline/ja/bert-base-multilingual-cased.tsv\n",
      "Some weights of the model checkpoint at bert-base-multilingual-cased were not used when initializing BertModel: ['cls.predictions.transform.dense.weight', 'cls.seq_relationship.weight', 'cls.predictions.transform.LayerNorm.weight', 'cls.predictions.bias', 'cls.seq_relationship.bias', 'cls.predictions.transform.dense.bias', 'cls.predictions.transform.LayerNorm.bias']\n",
      "- This IS expected if you are initializing BertModel from the checkpoint of a model trained on another task or with another architecture (e.g. initializing a BertForSequenceClassification model from a BertForPreTraining model).\n",
      "- This IS NOT expected if you are initializing BertModel from the checkpoint of a model that you expect to be exactly identical (initializing a BertForSequenceClassification model from a BertForSequenceClassification model).\n",
      "Warning: Baseline not Found for bert-base-multilingual-cased on ja at /home/ryoryon66/.pyenv/versions/3.9.8/lib/python3.9/site-packages/bert_score/rescale_baseline/ja/bert-base-multilingual-cased.tsv\n",
      "Some weights of the model checkpoint at bert-base-multilingual-cased were not used when initializing BertModel: ['cls.predictions.transform.dense.weight', 'cls.seq_relationship.weight', 'cls.predictions.transform.LayerNorm.weight', 'cls.predictions.bias', 'cls.seq_relationship.bias', 'cls.predictions.transform.dense.bias', 'cls.predictions.transform.LayerNorm.bias']\n",
      "- This IS expected if you are initializing BertModel from the checkpoint of a model trained on another task or with another architecture (e.g. initializing a BertForSequenceClassification model from a BertForPreTraining model).\n",
      "- This IS NOT expected if you are initializing BertModel from the checkpoint of a model that you expect to be exactly identical (initializing a BertForSequenceClassification model from a BertForSequenceClassification model).\n",
      "Warning: Baseline not Found for bert-base-multilingual-cased on ja at /home/ryoryon66/.pyenv/versions/3.9.8/lib/python3.9/site-packages/bert_score/rescale_baseline/ja/bert-base-multilingual-cased.tsv\n",
      "Some weights of the model checkpoint at bert-base-multilingual-cased were not used when initializing BertModel: ['cls.predictions.transform.dense.weight', 'cls.seq_relationship.weight', 'cls.predictions.transform.LayerNorm.weight', 'cls.predictions.bias', 'cls.seq_relationship.bias', 'cls.predictions.transform.dense.bias', 'cls.predictions.transform.LayerNorm.bias']\n",
      "- This IS expected if you are initializing BertModel from the checkpoint of a model trained on another task or with another architecture (e.g. initializing a BertForSequenceClassification model from a BertForPreTraining model).\n",
      "- This IS NOT expected if you are initializing BertModel from the checkpoint of a model that you expect to be exactly identical (initializing a BertForSequenceClassification model from a BertForSequenceClassification model).\n"
     ]
    },
    {
     "name": "stdout",
     "output_type": "stream",
     "text": [
      "hallucination pr_scores: [0.36991282701492295, 0.41930632591247563, 0.37214604616165176]\n",
      "hallucination re_scores: [0.3173640727996825, 0.41366995573043824, 0.3895036220550536]\n",
      "hallucination f1_scores: [0.34512037038803095, 0.41775279045104985, 0.3828537225723267]\n",
      "processing 17 / 100\n"
     ]
    },
    {
     "name": "stderr",
     "output_type": "stream",
     "text": [
      "Warning: Baseline not Found for bert-base-multilingual-cased on ja at /home/ryoryon66/.pyenv/versions/3.9.8/lib/python3.9/site-packages/bert_score/rescale_baseline/ja/bert-base-multilingual-cased.tsv\n",
      "/tmp/ipykernel_28939/1749957329.py:18: FutureWarning: The frame.append method is deprecated and will be removed from pandas in a future version. Use pandas.concat instead.\n",
      "  score_df = score_df.append({\n"
     ]
    },
    {
     "name": "stdout",
     "output_type": "stream",
     "text": [
      "QA20CAPR-0035 人気マンガの『ベルサイユのばら』や『エースをねらえ!』が連載された、集英社の少女向けマンガ雑誌は何でしょう? マーガレットコミックスです。\n",
      "\n",
      "sampled: ['マーガレット・別冊マーガレットです。', 'マーガレットコミックスです。', 'マーガレット・別冊マーガレットです。', 'マーガレット・別冊マーガレットです。', 'マーガレットです。 『ベルサイユのばら』は1974年に、『エースをねらえ!』は1974年から1979年まで連載されました。']\n",
      "r_sentences\n",
      "['マーガレットコミックスです']\n",
      "マーガレットコミックスです\n"
     ]
    },
    {
     "name": "stderr",
     "output_type": "stream",
     "text": [
      "Some weights of the model checkpoint at bert-base-multilingual-cased were not used when initializing BertModel: ['cls.predictions.transform.dense.weight', 'cls.seq_relationship.weight', 'cls.predictions.transform.LayerNorm.weight', 'cls.predictions.bias', 'cls.seq_relationship.bias', 'cls.predictions.transform.dense.bias', 'cls.predictions.transform.LayerNorm.bias']\n",
      "- This IS expected if you are initializing BertModel from the checkpoint of a model trained on another task or with another architecture (e.g. initializing a BertForSequenceClassification model from a BertForPreTraining model).\n",
      "- This IS NOT expected if you are initializing BertModel from the checkpoint of a model that you expect to be exactly identical (initializing a BertForSequenceClassification model from a BertForSequenceClassification model).\n",
      "Warning: Baseline not Found for bert-base-multilingual-cased on ja at /home/ryoryon66/.pyenv/versions/3.9.8/lib/python3.9/site-packages/bert_score/rescale_baseline/ja/bert-base-multilingual-cased.tsv\n",
      "Some weights of the model checkpoint at bert-base-multilingual-cased were not used when initializing BertModel: ['cls.predictions.transform.dense.weight', 'cls.seq_relationship.weight', 'cls.predictions.transform.LayerNorm.weight', 'cls.predictions.bias', 'cls.seq_relationship.bias', 'cls.predictions.transform.dense.bias', 'cls.predictions.transform.LayerNorm.bias']\n",
      "- This IS expected if you are initializing BertModel from the checkpoint of a model trained on another task or with another architecture (e.g. initializing a BertForSequenceClassification model from a BertForPreTraining model).\n",
      "- This IS NOT expected if you are initializing BertModel from the checkpoint of a model that you expect to be exactly identical (initializing a BertForSequenceClassification model from a BertForSequenceClassification model).\n",
      "Warning: Baseline not Found for bert-base-multilingual-cased on ja at /home/ryoryon66/.pyenv/versions/3.9.8/lib/python3.9/site-packages/bert_score/rescale_baseline/ja/bert-base-multilingual-cased.tsv\n",
      "Some weights of the model checkpoint at bert-base-multilingual-cased were not used when initializing BertModel: ['cls.predictions.transform.dense.weight', 'cls.seq_relationship.weight', 'cls.predictions.transform.LayerNorm.weight', 'cls.predictions.bias', 'cls.seq_relationship.bias', 'cls.predictions.transform.dense.bias', 'cls.predictions.transform.LayerNorm.bias']\n",
      "- This IS expected if you are initializing BertModel from the checkpoint of a model trained on another task or with another architecture (e.g. initializing a BertForSequenceClassification model from a BertForPreTraining model).\n",
      "- This IS NOT expected if you are initializing BertModel from the checkpoint of a model that you expect to be exactly identical (initializing a BertForSequenceClassification model from a BertForSequenceClassification model).\n",
      "Warning: Baseline not Found for bert-base-multilingual-cased on ja at /home/ryoryon66/.pyenv/versions/3.9.8/lib/python3.9/site-packages/bert_score/rescale_baseline/ja/bert-base-multilingual-cased.tsv\n",
      "Some weights of the model checkpoint at bert-base-multilingual-cased were not used when initializing BertModel: ['cls.predictions.transform.dense.weight', 'cls.seq_relationship.weight', 'cls.predictions.transform.LayerNorm.weight', 'cls.predictions.bias', 'cls.seq_relationship.bias', 'cls.predictions.transform.dense.bias', 'cls.predictions.transform.LayerNorm.bias']\n",
      "- This IS expected if you are initializing BertModel from the checkpoint of a model trained on another task or with another architecture (e.g. initializing a BertForSequenceClassification model from a BertForPreTraining model).\n",
      "- This IS NOT expected if you are initializing BertModel from the checkpoint of a model that you expect to be exactly identical (initializing a BertForSequenceClassification model from a BertForSequenceClassification model).\n",
      "Warning: Baseline not Found for bert-base-multilingual-cased on ja at /home/ryoryon66/.pyenv/versions/3.9.8/lib/python3.9/site-packages/bert_score/rescale_baseline/ja/bert-base-multilingual-cased.tsv\n",
      "Some weights of the model checkpoint at bert-base-multilingual-cased were not used when initializing BertModel: ['cls.predictions.transform.dense.weight', 'cls.seq_relationship.weight', 'cls.predictions.transform.LayerNorm.weight', 'cls.predictions.bias', 'cls.seq_relationship.bias', 'cls.predictions.transform.dense.bias', 'cls.predictions.transform.LayerNorm.bias']\n",
      "- This IS expected if you are initializing BertModel from the checkpoint of a model trained on another task or with another architecture (e.g. initializing a BertForSequenceClassification model from a BertForPreTraining model).\n",
      "- This IS NOT expected if you are initializing BertModel from the checkpoint of a model that you expect to be exactly identical (initializing a BertForSequenceClassification model from a BertForSequenceClassification model).\n"
     ]
    },
    {
     "name": "stdout",
     "output_type": "stream",
     "text": [
      "hallucination pr_scores: [0.10742352008819583]\n",
      "hallucination re_scores: [0.1089617490768433]\n",
      "hallucination f1_scores: [0.10836244821548449]\n",
      "processing 18 / 100\n"
     ]
    },
    {
     "name": "stderr",
     "output_type": "stream",
     "text": [
      "Warning: Baseline not Found for bert-base-multilingual-cased on ja at /home/ryoryon66/.pyenv/versions/3.9.8/lib/python3.9/site-packages/bert_score/rescale_baseline/ja/bert-base-multilingual-cased.tsv\n",
      "/tmp/ipykernel_28939/1749957329.py:18: FutureWarning: The frame.append method is deprecated and will be removed from pandas in a future version. Use pandas.concat instead.\n",
      "  score_df = score_df.append({\n"
     ]
    },
    {
     "name": "stdout",
     "output_type": "stream",
     "text": [
      "QA20CAPR-0037 火口で見つかった方解石の結晶を、ある宝石と間違ったことがその名の由来である、ハワイ・オアフ島を代表する観光地となっている火山は何でしょう? ダイヤモンドヘッド\n",
      "sampled: ['ダイヤモンドヘッド', 'ダイヤモンドヘッド', 'ダイヤモンドヘッド', 'ダイヤモンドヘッド', 'ダイヤモンドヘッド']\n",
      "r_sentences\n",
      "['ダイヤモンドヘッド']\n",
      "ダイヤモンドヘッド\n"
     ]
    },
    {
     "name": "stderr",
     "output_type": "stream",
     "text": [
      "Some weights of the model checkpoint at bert-base-multilingual-cased were not used when initializing BertModel: ['cls.predictions.transform.dense.weight', 'cls.seq_relationship.weight', 'cls.predictions.transform.LayerNorm.weight', 'cls.predictions.bias', 'cls.seq_relationship.bias', 'cls.predictions.transform.dense.bias', 'cls.predictions.transform.LayerNorm.bias']\n",
      "- This IS expected if you are initializing BertModel from the checkpoint of a model trained on another task or with another architecture (e.g. initializing a BertForSequenceClassification model from a BertForPreTraining model).\n",
      "- This IS NOT expected if you are initializing BertModel from the checkpoint of a model that you expect to be exactly identical (initializing a BertForSequenceClassification model from a BertForSequenceClassification model).\n",
      "Warning: Baseline not Found for bert-base-multilingual-cased on ja at /home/ryoryon66/.pyenv/versions/3.9.8/lib/python3.9/site-packages/bert_score/rescale_baseline/ja/bert-base-multilingual-cased.tsv\n",
      "Some weights of the model checkpoint at bert-base-multilingual-cased were not used when initializing BertModel: ['cls.predictions.transform.dense.weight', 'cls.seq_relationship.weight', 'cls.predictions.transform.LayerNorm.weight', 'cls.predictions.bias', 'cls.seq_relationship.bias', 'cls.predictions.transform.dense.bias', 'cls.predictions.transform.LayerNorm.bias']\n",
      "- This IS expected if you are initializing BertModel from the checkpoint of a model trained on another task or with another architecture (e.g. initializing a BertForSequenceClassification model from a BertForPreTraining model).\n",
      "- This IS NOT expected if you are initializing BertModel from the checkpoint of a model that you expect to be exactly identical (initializing a BertForSequenceClassification model from a BertForSequenceClassification model).\n",
      "Warning: Baseline not Found for bert-base-multilingual-cased on ja at /home/ryoryon66/.pyenv/versions/3.9.8/lib/python3.9/site-packages/bert_score/rescale_baseline/ja/bert-base-multilingual-cased.tsv\n",
      "Some weights of the model checkpoint at bert-base-multilingual-cased were not used when initializing BertModel: ['cls.predictions.transform.dense.weight', 'cls.seq_relationship.weight', 'cls.predictions.transform.LayerNorm.weight', 'cls.predictions.bias', 'cls.seq_relationship.bias', 'cls.predictions.transform.dense.bias', 'cls.predictions.transform.LayerNorm.bias']\n",
      "- This IS expected if you are initializing BertModel from the checkpoint of a model trained on another task or with another architecture (e.g. initializing a BertForSequenceClassification model from a BertForPreTraining model).\n",
      "- This IS NOT expected if you are initializing BertModel from the checkpoint of a model that you expect to be exactly identical (initializing a BertForSequenceClassification model from a BertForSequenceClassification model).\n",
      "Warning: Baseline not Found for bert-base-multilingual-cased on ja at /home/ryoryon66/.pyenv/versions/3.9.8/lib/python3.9/site-packages/bert_score/rescale_baseline/ja/bert-base-multilingual-cased.tsv\n",
      "Some weights of the model checkpoint at bert-base-multilingual-cased were not used when initializing BertModel: ['cls.predictions.transform.dense.weight', 'cls.seq_relationship.weight', 'cls.predictions.transform.LayerNorm.weight', 'cls.predictions.bias', 'cls.seq_relationship.bias', 'cls.predictions.transform.dense.bias', 'cls.predictions.transform.LayerNorm.bias']\n",
      "- This IS expected if you are initializing BertModel from the checkpoint of a model trained on another task or with another architecture (e.g. initializing a BertForSequenceClassification model from a BertForPreTraining model).\n",
      "- This IS NOT expected if you are initializing BertModel from the checkpoint of a model that you expect to be exactly identical (initializing a BertForSequenceClassification model from a BertForSequenceClassification model).\n",
      "Warning: Baseline not Found for bert-base-multilingual-cased on ja at /home/ryoryon66/.pyenv/versions/3.9.8/lib/python3.9/site-packages/bert_score/rescale_baseline/ja/bert-base-multilingual-cased.tsv\n",
      "Some weights of the model checkpoint at bert-base-multilingual-cased were not used when initializing BertModel: ['cls.predictions.transform.dense.weight', 'cls.seq_relationship.weight', 'cls.predictions.transform.LayerNorm.weight', 'cls.predictions.bias', 'cls.seq_relationship.bias', 'cls.predictions.transform.dense.bias', 'cls.predictions.transform.LayerNorm.bias']\n",
      "- This IS expected if you are initializing BertModel from the checkpoint of a model trained on another task or with another architecture (e.g. initializing a BertForSequenceClassification model from a BertForPreTraining model).\n",
      "- This IS NOT expected if you are initializing BertModel from the checkpoint of a model that you expect to be exactly identical (initializing a BertForSequenceClassification model from a BertForSequenceClassification model).\n"
     ]
    },
    {
     "name": "stdout",
     "output_type": "stream",
     "text": [
      "hallucination pr_scores: [5.551115123125783e-17]\n",
      "hallucination re_scores: [5.551115123125783e-17]\n",
      "hallucination f1_scores: [5.551115123125783e-17]\n",
      "processing 19 / 100\n"
     ]
    },
    {
     "name": "stderr",
     "output_type": "stream",
     "text": [
      "Warning: Baseline not Found for bert-base-multilingual-cased on ja at /home/ryoryon66/.pyenv/versions/3.9.8/lib/python3.9/site-packages/bert_score/rescale_baseline/ja/bert-base-multilingual-cased.tsv\n",
      "/tmp/ipykernel_28939/1749957329.py:18: FutureWarning: The frame.append method is deprecated and will be removed from pandas in a future version. Use pandas.concat instead.\n",
      "  score_df = score_df.append({\n"
     ]
    },
    {
     "name": "stdout",
     "output_type": "stream",
     "text": [
      "QA20CAPR-0039 「Nonprofit Organization」の略称である、非営利で活動を行う民間団体を意味するアルファベット3文字は何でしょう? NGO(非政府組織)です。\n",
      "\n",
      "sampled: ['NAFTA地域フォーラム、NAFTA地域フォーラム組織、地域社会フォーラムなどがあります。', 'NOP法人 Nonprofit Organization (NOP) は、米国の非営利団体であり、営利目的ではなく、投資や財産の保有を意図しない組織です。非営利団体であるため、利益を生み出すためのビジネス活動は行いません。非営利団体 Nonprofit Organization (NOP)は、慈善団体や社会貢献団体としての役割も果たしています。', 'NGO(エヌピーオー)、NPO(エヌピーオー)、nonprofit organismal organization(NPО)などがあります。', 'NGO(非政府組織) NGOとは、特定の目標やミッションを達成するために政府からの援助や資金を受けずに組織される社会運動です。NGOはしばしば、ボランティアや寄付によって運営されています。非営利団体であるため、NGOは市民の福祉を重要視しています。', 'NGO(非政府組織) NGOとは、公共利益の促進を使命とする、国内および国際的な社会貢献団体である。一般的に、NGOは政府からの資金援助や指導を受けず、非政府的な立場を維持している。また、NGOは社会的責任を重視しており、雇用創出や貧困削減などの社会問題に積極的に取り組んでいることが多い。']\n",
      "r_sentences\n",
      "['NGO(非政府組織)です']\n",
      "NGO(非政府組織)です\n"
     ]
    },
    {
     "name": "stderr",
     "output_type": "stream",
     "text": [
      "Some weights of the model checkpoint at bert-base-multilingual-cased were not used when initializing BertModel: ['cls.predictions.transform.dense.weight', 'cls.seq_relationship.weight', 'cls.predictions.transform.LayerNorm.weight', 'cls.predictions.bias', 'cls.seq_relationship.bias', 'cls.predictions.transform.dense.bias', 'cls.predictions.transform.LayerNorm.bias']\n",
      "- This IS expected if you are initializing BertModel from the checkpoint of a model trained on another task or with another architecture (e.g. initializing a BertForSequenceClassification model from a BertForPreTraining model).\n",
      "- This IS NOT expected if you are initializing BertModel from the checkpoint of a model that you expect to be exactly identical (initializing a BertForSequenceClassification model from a BertForSequenceClassification model).\n",
      "Warning: Baseline not Found for bert-base-multilingual-cased on ja at /home/ryoryon66/.pyenv/versions/3.9.8/lib/python3.9/site-packages/bert_score/rescale_baseline/ja/bert-base-multilingual-cased.tsv\n",
      "Some weights of the model checkpoint at bert-base-multilingual-cased were not used when initializing BertModel: ['cls.predictions.transform.dense.weight', 'cls.seq_relationship.weight', 'cls.predictions.transform.LayerNorm.weight', 'cls.predictions.bias', 'cls.seq_relationship.bias', 'cls.predictions.transform.dense.bias', 'cls.predictions.transform.LayerNorm.bias']\n",
      "- This IS expected if you are initializing BertModel from the checkpoint of a model trained on another task or with another architecture (e.g. initializing a BertForSequenceClassification model from a BertForPreTraining model).\n",
      "- This IS NOT expected if you are initializing BertModel from the checkpoint of a model that you expect to be exactly identical (initializing a BertForSequenceClassification model from a BertForSequenceClassification model).\n",
      "Warning: Baseline not Found for bert-base-multilingual-cased on ja at /home/ryoryon66/.pyenv/versions/3.9.8/lib/python3.9/site-packages/bert_score/rescale_baseline/ja/bert-base-multilingual-cased.tsv\n",
      "Some weights of the model checkpoint at bert-base-multilingual-cased were not used when initializing BertModel: ['cls.predictions.transform.dense.weight', 'cls.seq_relationship.weight', 'cls.predictions.transform.LayerNorm.weight', 'cls.predictions.bias', 'cls.seq_relationship.bias', 'cls.predictions.transform.dense.bias', 'cls.predictions.transform.LayerNorm.bias']\n",
      "- This IS expected if you are initializing BertModel from the checkpoint of a model trained on another task or with another architecture (e.g. initializing a BertForSequenceClassification model from a BertForPreTraining model).\n",
      "- This IS NOT expected if you are initializing BertModel from the checkpoint of a model that you expect to be exactly identical (initializing a BertForSequenceClassification model from a BertForSequenceClassification model).\n",
      "Warning: Baseline not Found for bert-base-multilingual-cased on ja at /home/ryoryon66/.pyenv/versions/3.9.8/lib/python3.9/site-packages/bert_score/rescale_baseline/ja/bert-base-multilingual-cased.tsv\n",
      "Some weights of the model checkpoint at bert-base-multilingual-cased were not used when initializing BertModel: ['cls.predictions.transform.dense.weight', 'cls.seq_relationship.weight', 'cls.predictions.transform.LayerNorm.weight', 'cls.predictions.bias', 'cls.seq_relationship.bias', 'cls.predictions.transform.dense.bias', 'cls.predictions.transform.LayerNorm.bias']\n",
      "- This IS expected if you are initializing BertModel from the checkpoint of a model trained on another task or with another architecture (e.g. initializing a BertForSequenceClassification model from a BertForPreTraining model).\n",
      "- This IS NOT expected if you are initializing BertModel from the checkpoint of a model that you expect to be exactly identical (initializing a BertForSequenceClassification model from a BertForSequenceClassification model).\n",
      "Warning: Baseline not Found for bert-base-multilingual-cased on ja at /home/ryoryon66/.pyenv/versions/3.9.8/lib/python3.9/site-packages/bert_score/rescale_baseline/ja/bert-base-multilingual-cased.tsv\n",
      "Some weights of the model checkpoint at bert-base-multilingual-cased were not used when initializing BertModel: ['cls.predictions.transform.dense.weight', 'cls.seq_relationship.weight', 'cls.predictions.transform.LayerNorm.weight', 'cls.predictions.bias', 'cls.seq_relationship.bias', 'cls.predictions.transform.dense.bias', 'cls.predictions.transform.LayerNorm.bias']\n",
      "- This IS expected if you are initializing BertModel from the checkpoint of a model trained on another task or with another architecture (e.g. initializing a BertForSequenceClassification model from a BertForPreTraining model).\n",
      "- This IS NOT expected if you are initializing BertModel from the checkpoint of a model that you expect to be exactly identical (initializing a BertForSequenceClassification model from a BertForSequenceClassification model).\n"
     ]
    },
    {
     "name": "stdout",
     "output_type": "stream",
     "text": [
      "hallucination pr_scores: [0.22791568040847782]\n",
      "hallucination re_scores: [0.33349267244338987]\n",
      "hallucination f1_scores: [0.2862091660499572]\n",
      "processing 20 / 100\n"
     ]
    },
    {
     "name": "stderr",
     "output_type": "stream",
     "text": [
      "Warning: Baseline not Found for bert-base-multilingual-cased on ja at /home/ryoryon66/.pyenv/versions/3.9.8/lib/python3.9/site-packages/bert_score/rescale_baseline/ja/bert-base-multilingual-cased.tsv\n",
      "/tmp/ipykernel_28939/1749957329.py:18: FutureWarning: The frame.append method is deprecated and will be removed from pandas in a future version. Use pandas.concat instead.\n",
      "  score_df = score_df.append({\n"
     ]
    },
    {
     "name": "stdout",
     "output_type": "stream",
     "text": [
      "QA20CAPR-0041 本名を國土郁音という、童謡『森のくまさん』の替え歌ネタで話題となったお笑い芸人は誰でしょう? くまモン\n",
      "sampled: ['たむらけんじ。', 'くまモン', 'ドリアン助川', 'クマゴロー・クマコロー', 'くまモン']\n",
      "r_sentences\n",
      "['くまモン']\n",
      "くまモン\n"
     ]
    },
    {
     "name": "stderr",
     "output_type": "stream",
     "text": [
      "Some weights of the model checkpoint at bert-base-multilingual-cased were not used when initializing BertModel: ['cls.predictions.transform.dense.weight', 'cls.seq_relationship.weight', 'cls.predictions.transform.LayerNorm.weight', 'cls.predictions.bias', 'cls.seq_relationship.bias', 'cls.predictions.transform.dense.bias', 'cls.predictions.transform.LayerNorm.bias']\n",
      "- This IS expected if you are initializing BertModel from the checkpoint of a model trained on another task or with another architecture (e.g. initializing a BertForSequenceClassification model from a BertForPreTraining model).\n",
      "- This IS NOT expected if you are initializing BertModel from the checkpoint of a model that you expect to be exactly identical (initializing a BertForSequenceClassification model from a BertForSequenceClassification model).\n",
      "Warning: Baseline not Found for bert-base-multilingual-cased on ja at /home/ryoryon66/.pyenv/versions/3.9.8/lib/python3.9/site-packages/bert_score/rescale_baseline/ja/bert-base-multilingual-cased.tsv\n",
      "Some weights of the model checkpoint at bert-base-multilingual-cased were not used when initializing BertModel: ['cls.predictions.transform.dense.weight', 'cls.seq_relationship.weight', 'cls.predictions.transform.LayerNorm.weight', 'cls.predictions.bias', 'cls.seq_relationship.bias', 'cls.predictions.transform.dense.bias', 'cls.predictions.transform.LayerNorm.bias']\n",
      "- This IS expected if you are initializing BertModel from the checkpoint of a model trained on another task or with another architecture (e.g. initializing a BertForSequenceClassification model from a BertForPreTraining model).\n",
      "- This IS NOT expected if you are initializing BertModel from the checkpoint of a model that you expect to be exactly identical (initializing a BertForSequenceClassification model from a BertForSequenceClassification model).\n",
      "Warning: Baseline not Found for bert-base-multilingual-cased on ja at /home/ryoryon66/.pyenv/versions/3.9.8/lib/python3.9/site-packages/bert_score/rescale_baseline/ja/bert-base-multilingual-cased.tsv\n",
      "Some weights of the model checkpoint at bert-base-multilingual-cased were not used when initializing BertModel: ['cls.predictions.transform.dense.weight', 'cls.seq_relationship.weight', 'cls.predictions.transform.LayerNorm.weight', 'cls.predictions.bias', 'cls.seq_relationship.bias', 'cls.predictions.transform.dense.bias', 'cls.predictions.transform.LayerNorm.bias']\n",
      "- This IS expected if you are initializing BertModel from the checkpoint of a model trained on another task or with another architecture (e.g. initializing a BertForSequenceClassification model from a BertForPreTraining model).\n",
      "- This IS NOT expected if you are initializing BertModel from the checkpoint of a model that you expect to be exactly identical (initializing a BertForSequenceClassification model from a BertForSequenceClassification model).\n",
      "Warning: Baseline not Found for bert-base-multilingual-cased on ja at /home/ryoryon66/.pyenv/versions/3.9.8/lib/python3.9/site-packages/bert_score/rescale_baseline/ja/bert-base-multilingual-cased.tsv\n",
      "Some weights of the model checkpoint at bert-base-multilingual-cased were not used when initializing BertModel: ['cls.predictions.transform.dense.weight', 'cls.seq_relationship.weight', 'cls.predictions.transform.LayerNorm.weight', 'cls.predictions.bias', 'cls.seq_relationship.bias', 'cls.predictions.transform.dense.bias', 'cls.predictions.transform.LayerNorm.bias']\n",
      "- This IS expected if you are initializing BertModel from the checkpoint of a model trained on another task or with another architecture (e.g. initializing a BertForSequenceClassification model from a BertForPreTraining model).\n",
      "- This IS NOT expected if you are initializing BertModel from the checkpoint of a model that you expect to be exactly identical (initializing a BertForSequenceClassification model from a BertForSequenceClassification model).\n",
      "Warning: Baseline not Found for bert-base-multilingual-cased on ja at /home/ryoryon66/.pyenv/versions/3.9.8/lib/python3.9/site-packages/bert_score/rescale_baseline/ja/bert-base-multilingual-cased.tsv\n",
      "Some weights of the model checkpoint at bert-base-multilingual-cased were not used when initializing BertModel: ['cls.predictions.transform.dense.weight', 'cls.seq_relationship.weight', 'cls.predictions.transform.LayerNorm.weight', 'cls.predictions.bias', 'cls.seq_relationship.bias', 'cls.predictions.transform.dense.bias', 'cls.predictions.transform.LayerNorm.bias']\n",
      "- This IS expected if you are initializing BertModel from the checkpoint of a model trained on another task or with another architecture (e.g. initializing a BertForSequenceClassification model from a BertForPreTraining model).\n",
      "- This IS NOT expected if you are initializing BertModel from the checkpoint of a model that you expect to be exactly identical (initializing a BertForSequenceClassification model from a BertForSequenceClassification model).\n"
     ]
    },
    {
     "name": "stdout",
     "output_type": "stream",
     "text": [
      "hallucination pr_scores: [0.14503794908523565]\n",
      "hallucination re_scores: [0.16332474946975706]\n",
      "hallucination f1_scores: [0.15439997911453235]\n",
      "processing 21 / 100\n"
     ]
    },
    {
     "name": "stderr",
     "output_type": "stream",
     "text": [
      "Warning: Baseline not Found for bert-base-multilingual-cased on ja at /home/ryoryon66/.pyenv/versions/3.9.8/lib/python3.9/site-packages/bert_score/rescale_baseline/ja/bert-base-multilingual-cased.tsv\n",
      "/tmp/ipykernel_28939/1749957329.py:18: FutureWarning: The frame.append method is deprecated and will be removed from pandas in a future version. Use pandas.concat instead.\n",
      "  score_df = score_df.append({\n"
     ]
    },
    {
     "name": "stdout",
     "output_type": "stream",
     "text": [
      "QA20CAPR-0043 神奈川県の城ケ島では「アマガニ」の名前で食べられている、体の成長に合わせ貝殻を次々と引っ越すことが特徴の甲殻類は何でしょう? ツノナシオシオグサガイ科の一種。\n",
      "\n",
      "sampled: ['キイロカワカゲエビ科の一種。', 'ムラサキイガイ科の一種。', 'カニビル カニビルとは、東南アジア原産の大型のカニで、日本や東アジアに広く分布しています。アマガニと呼ばれるこのカニは、インド洋から西太平洋の暖かい海と、日本周辺の浅い海に見られます。アマガニは、オスが卵を守る際に貝殻を次々に変える習性があり、貝殻を変えることによって、メスを引き付け、繁殖を促すことが知られています。', 'クモガニ科の一種。', 'カワヒバリガイ科の一種。']\n",
      "r_sentences\n",
      "['ツノナシオシオグサガイ科の一種']\n",
      "ツノナシオシオグサガイ科の一種\n"
     ]
    },
    {
     "name": "stderr",
     "output_type": "stream",
     "text": [
      "Some weights of the model checkpoint at bert-base-multilingual-cased were not used when initializing BertModel: ['cls.predictions.transform.dense.weight', 'cls.seq_relationship.weight', 'cls.predictions.transform.LayerNorm.weight', 'cls.predictions.bias', 'cls.seq_relationship.bias', 'cls.predictions.transform.dense.bias', 'cls.predictions.transform.LayerNorm.bias']\n",
      "- This IS expected if you are initializing BertModel from the checkpoint of a model trained on another task or with another architecture (e.g. initializing a BertForSequenceClassification model from a BertForPreTraining model).\n",
      "- This IS NOT expected if you are initializing BertModel from the checkpoint of a model that you expect to be exactly identical (initializing a BertForSequenceClassification model from a BertForSequenceClassification model).\n",
      "Warning: Baseline not Found for bert-base-multilingual-cased on ja at /home/ryoryon66/.pyenv/versions/3.9.8/lib/python3.9/site-packages/bert_score/rescale_baseline/ja/bert-base-multilingual-cased.tsv\n",
      "Some weights of the model checkpoint at bert-base-multilingual-cased were not used when initializing BertModel: ['cls.predictions.transform.dense.weight', 'cls.seq_relationship.weight', 'cls.predictions.transform.LayerNorm.weight', 'cls.predictions.bias', 'cls.seq_relationship.bias', 'cls.predictions.transform.dense.bias', 'cls.predictions.transform.LayerNorm.bias']\n",
      "- This IS expected if you are initializing BertModel from the checkpoint of a model trained on another task or with another architecture (e.g. initializing a BertForSequenceClassification model from a BertForPreTraining model).\n",
      "- This IS NOT expected if you are initializing BertModel from the checkpoint of a model that you expect to be exactly identical (initializing a BertForSequenceClassification model from a BertForSequenceClassification model).\n",
      "Warning: Baseline not Found for bert-base-multilingual-cased on ja at /home/ryoryon66/.pyenv/versions/3.9.8/lib/python3.9/site-packages/bert_score/rescale_baseline/ja/bert-base-multilingual-cased.tsv\n",
      "Some weights of the model checkpoint at bert-base-multilingual-cased were not used when initializing BertModel: ['cls.predictions.transform.dense.weight', 'cls.seq_relationship.weight', 'cls.predictions.transform.LayerNorm.weight', 'cls.predictions.bias', 'cls.seq_relationship.bias', 'cls.predictions.transform.dense.bias', 'cls.predictions.transform.LayerNorm.bias']\n",
      "- This IS expected if you are initializing BertModel from the checkpoint of a model trained on another task or with another architecture (e.g. initializing a BertForSequenceClassification model from a BertForPreTraining model).\n",
      "- This IS NOT expected if you are initializing BertModel from the checkpoint of a model that you expect to be exactly identical (initializing a BertForSequenceClassification model from a BertForSequenceClassification model).\n",
      "Warning: Baseline not Found for bert-base-multilingual-cased on ja at /home/ryoryon66/.pyenv/versions/3.9.8/lib/python3.9/site-packages/bert_score/rescale_baseline/ja/bert-base-multilingual-cased.tsv\n",
      "Some weights of the model checkpoint at bert-base-multilingual-cased were not used when initializing BertModel: ['cls.predictions.transform.dense.weight', 'cls.seq_relationship.weight', 'cls.predictions.transform.LayerNorm.weight', 'cls.predictions.bias', 'cls.seq_relationship.bias', 'cls.predictions.transform.dense.bias', 'cls.predictions.transform.LayerNorm.bias']\n",
      "- This IS expected if you are initializing BertModel from the checkpoint of a model trained on another task or with another architecture (e.g. initializing a BertForSequenceClassification model from a BertForPreTraining model).\n",
      "- This IS NOT expected if you are initializing BertModel from the checkpoint of a model that you expect to be exactly identical (initializing a BertForSequenceClassification model from a BertForSequenceClassification model).\n",
      "Warning: Baseline not Found for bert-base-multilingual-cased on ja at /home/ryoryon66/.pyenv/versions/3.9.8/lib/python3.9/site-packages/bert_score/rescale_baseline/ja/bert-base-multilingual-cased.tsv\n",
      "Some weights of the model checkpoint at bert-base-multilingual-cased were not used when initializing BertModel: ['cls.predictions.transform.dense.weight', 'cls.seq_relationship.weight', 'cls.predictions.transform.LayerNorm.weight', 'cls.predictions.bias', 'cls.seq_relationship.bias', 'cls.predictions.transform.dense.bias', 'cls.predictions.transform.LayerNorm.bias']\n",
      "- This IS expected if you are initializing BertModel from the checkpoint of a model trained on another task or with another architecture (e.g. initializing a BertForSequenceClassification model from a BertForPreTraining model).\n",
      "- This IS NOT expected if you are initializing BertModel from the checkpoint of a model that you expect to be exactly identical (initializing a BertForSequenceClassification model from a BertForSequenceClassification model).\n"
     ]
    },
    {
     "name": "stdout",
     "output_type": "stream",
     "text": [
      "hallucination pr_scores: [0.21807621717452996]\n",
      "hallucination re_scores: [0.19067571163177485]\n",
      "hallucination f1_scores: [0.20537655353546141]\n",
      "processing 22 / 100\n"
     ]
    },
    {
     "name": "stderr",
     "output_type": "stream",
     "text": [
      "Warning: Baseline not Found for bert-base-multilingual-cased on ja at /home/ryoryon66/.pyenv/versions/3.9.8/lib/python3.9/site-packages/bert_score/rescale_baseline/ja/bert-base-multilingual-cased.tsv\n",
      "/tmp/ipykernel_28939/1749957329.py:18: FutureWarning: The frame.append method is deprecated and will be removed from pandas in a future version. Use pandas.concat instead.\n",
      "  score_df = score_df.append({\n"
     ]
    },
    {
     "name": "stdout",
     "output_type": "stream",
     "text": [
      "QA20CAPR-0045 高菜めし、太平燕、辛子蓮根といえば、どこの都道府県の名物料理でしょう? 熊本県です。\n",
      "\n",
      "sampled: ['中国 東北部 中国の中央部 台湾 日本 九州地方 中国の北部 九州地方 中国の中央 中国南部 中国の中央 中国の中央部', '熊本 熊本県民の間で非常に人気のある料理であり、太平燕は中国福建省から伝わった料理です。辛子蓮根は、熊本市発祥の人気料理です。', '福岡県です。 高菜飯は、米、豚肉、ニラを混ぜた炒飯で、太平燕は中国風の麺料理です。辛子蓮根は、秋田県や岩手県などの東北地域で人気のある料理です。', '秋田県。 高菜めしは、秋田県の伝統的な家庭料理の一つです。 太平燕は、中国の麺料理で、中華料理店や台湾、日本など、様々な国々で人気があります。', '中国です。 高菜飯は、高菜、醤油、砂糖を混ぜ合わせて作られる日本の料理で、中国北部や中部地方で非常に人気があります。 太平燕も、高菜と小麦粉を使った中国の麺料理で、中国北部や中部地方で非常に人気があります。 高菜飯は、米粉や小麦を加えて作られます。']\n",
      "r_sentences\n",
      "['熊本県です']\n",
      "熊本県です\n"
     ]
    },
    {
     "name": "stderr",
     "output_type": "stream",
     "text": [
      "Some weights of the model checkpoint at bert-base-multilingual-cased were not used when initializing BertModel: ['cls.predictions.transform.dense.weight', 'cls.seq_relationship.weight', 'cls.predictions.transform.LayerNorm.weight', 'cls.predictions.bias', 'cls.seq_relationship.bias', 'cls.predictions.transform.dense.bias', 'cls.predictions.transform.LayerNorm.bias']\n",
      "- This IS expected if you are initializing BertModel from the checkpoint of a model trained on another task or with another architecture (e.g. initializing a BertForSequenceClassification model from a BertForPreTraining model).\n",
      "- This IS NOT expected if you are initializing BertModel from the checkpoint of a model that you expect to be exactly identical (initializing a BertForSequenceClassification model from a BertForSequenceClassification model).\n",
      "Warning: Baseline not Found for bert-base-multilingual-cased on ja at /home/ryoryon66/.pyenv/versions/3.9.8/lib/python3.9/site-packages/bert_score/rescale_baseline/ja/bert-base-multilingual-cased.tsv\n",
      "Some weights of the model checkpoint at bert-base-multilingual-cased were not used when initializing BertModel: ['cls.predictions.transform.dense.weight', 'cls.seq_relationship.weight', 'cls.predictions.transform.LayerNorm.weight', 'cls.predictions.bias', 'cls.seq_relationship.bias', 'cls.predictions.transform.dense.bias', 'cls.predictions.transform.LayerNorm.bias']\n",
      "- This IS expected if you are initializing BertModel from the checkpoint of a model trained on another task or with another architecture (e.g. initializing a BertForSequenceClassification model from a BertForPreTraining model).\n",
      "- This IS NOT expected if you are initializing BertModel from the checkpoint of a model that you expect to be exactly identical (initializing a BertForSequenceClassification model from a BertForSequenceClassification model).\n",
      "Warning: Baseline not Found for bert-base-multilingual-cased on ja at /home/ryoryon66/.pyenv/versions/3.9.8/lib/python3.9/site-packages/bert_score/rescale_baseline/ja/bert-base-multilingual-cased.tsv\n",
      "Some weights of the model checkpoint at bert-base-multilingual-cased were not used when initializing BertModel: ['cls.predictions.transform.dense.weight', 'cls.seq_relationship.weight', 'cls.predictions.transform.LayerNorm.weight', 'cls.predictions.bias', 'cls.seq_relationship.bias', 'cls.predictions.transform.dense.bias', 'cls.predictions.transform.LayerNorm.bias']\n",
      "- This IS expected if you are initializing BertModel from the checkpoint of a model trained on another task or with another architecture (e.g. initializing a BertForSequenceClassification model from a BertForPreTraining model).\n",
      "- This IS NOT expected if you are initializing BertModel from the checkpoint of a model that you expect to be exactly identical (initializing a BertForSequenceClassification model from a BertForSequenceClassification model).\n",
      "Warning: Baseline not Found for bert-base-multilingual-cased on ja at /home/ryoryon66/.pyenv/versions/3.9.8/lib/python3.9/site-packages/bert_score/rescale_baseline/ja/bert-base-multilingual-cased.tsv\n",
      "Some weights of the model checkpoint at bert-base-multilingual-cased were not used when initializing BertModel: ['cls.predictions.transform.dense.weight', 'cls.seq_relationship.weight', 'cls.predictions.transform.LayerNorm.weight', 'cls.predictions.bias', 'cls.seq_relationship.bias', 'cls.predictions.transform.dense.bias', 'cls.predictions.transform.LayerNorm.bias']\n",
      "- This IS expected if you are initializing BertModel from the checkpoint of a model trained on another task or with another architecture (e.g. initializing a BertForSequenceClassification model from a BertForPreTraining model).\n",
      "- This IS NOT expected if you are initializing BertModel from the checkpoint of a model that you expect to be exactly identical (initializing a BertForSequenceClassification model from a BertForSequenceClassification model).\n",
      "Warning: Baseline not Found for bert-base-multilingual-cased on ja at /home/ryoryon66/.pyenv/versions/3.9.8/lib/python3.9/site-packages/bert_score/rescale_baseline/ja/bert-base-multilingual-cased.tsv\n",
      "Some weights of the model checkpoint at bert-base-multilingual-cased were not used when initializing BertModel: ['cls.predictions.transform.dense.weight', 'cls.seq_relationship.weight', 'cls.predictions.transform.LayerNorm.weight', 'cls.predictions.bias', 'cls.seq_relationship.bias', 'cls.predictions.transform.dense.bias', 'cls.predictions.transform.LayerNorm.bias']\n",
      "- This IS expected if you are initializing BertModel from the checkpoint of a model trained on another task or with another architecture (e.g. initializing a BertForSequenceClassification model from a BertForPreTraining model).\n",
      "- This IS NOT expected if you are initializing BertModel from the checkpoint of a model that you expect to be exactly identical (initializing a BertForSequenceClassification model from a BertForSequenceClassification model).\n"
     ]
    },
    {
     "name": "stdout",
     "output_type": "stream",
     "text": [
      "hallucination pr_scores: [0.22292176485061652]\n",
      "hallucination re_scores: [0.24785747528076169]\n",
      "hallucination f1_scores: [0.2403533339500426]\n",
      "processing 23 / 100\n"
     ]
    },
    {
     "name": "stderr",
     "output_type": "stream",
     "text": [
      "Warning: Baseline not Found for bert-base-multilingual-cased on ja at /home/ryoryon66/.pyenv/versions/3.9.8/lib/python3.9/site-packages/bert_score/rescale_baseline/ja/bert-base-multilingual-cased.tsv\n",
      "/tmp/ipykernel_28939/1749957329.py:18: FutureWarning: The frame.append method is deprecated and will be removed from pandas in a future version. Use pandas.concat instead.\n",
      "  score_df = score_df.append({\n"
     ]
    },
    {
     "name": "stdout",
     "output_type": "stream",
     "text": [
      "QA20CAPR-0047 1994年のF1サンマリノGPでクラッシュし亡くなった、「音速の貴公子」の異名で知られたレーサーは誰でしょう? アイルトン・セナ 1994年のF1サンマリノGPで、アイルトン・セナは事故に巻き込まれて亡くなりました。\n",
      "彼は史上最高のドライバーの一人として広く認知されており、彼の死後も多くのファンや関係者によって惜しまれています。\n",
      "\n",
      "sampled: ['シューミ・バリチェロ 1994年のサンマリノGPでクラッシュし、その後脳出血を起こして亡くなりました。シューミ・バリチェロは、史上最年少のF1ドライバーであり、フェラーリやウィリアムズなどの名門チームに所属していました。', 'アイルトン・セナ 1994年のF1サンマリノGPで、予選中の事故によって亡くなったレーシングドライバーはアイルトン・セナです。彼は1990年代を代表する偉大なドライバーの一人として広く認知されており、彼の死は世界中のファンや関係者に大きな影響を与えました。', 'シューマッハ 1994年のF1サンマリノグランプリで、フェラーリのキミ・ライコネンと激しいバトルを繰り広げた。彼は、そのレース中の事故により若くしてこの世を去った伝説的なレーシングドライバーとして知られている。', 'シューミ・コネン', 'シューマッハ 1994年のF1サンマリノGPで、フェラーリのキミ・ライコネンと激しく競っていたシューマッハが、高速コーナーでコースアウトしてクラッシュしました。この事故により、シューマッハは右膝を複雑骨折し、長期の欠場を余儀なくされました。彼はF1史上最多の5回のワールドチャンピオンを獲得し、1994年のチャンピオンシップで2位に入りました。']\n",
      "r_sentences\n",
      "['アイルトン・セナ 1994年のF1サンマリノGPで、アイルトン・セナは事故に巻き込まれて亡くなりました', '彼は史上最高のドライバーの一人として広く認知されており、彼の死後も多くのファンや関係者によって惜しまれています']\n",
      "アイルトン・セナ 1994年のF1サンマリノGPで、アイルトン・セナは事故に巻き込まれて亡くなりました\n"
     ]
    },
    {
     "name": "stderr",
     "output_type": "stream",
     "text": [
      "Some weights of the model checkpoint at bert-base-multilingual-cased were not used when initializing BertModel: ['cls.predictions.transform.dense.weight', 'cls.seq_relationship.weight', 'cls.predictions.transform.LayerNorm.weight', 'cls.predictions.bias', 'cls.seq_relationship.bias', 'cls.predictions.transform.dense.bias', 'cls.predictions.transform.LayerNorm.bias']\n",
      "- This IS expected if you are initializing BertModel from the checkpoint of a model trained on another task or with another architecture (e.g. initializing a BertForSequenceClassification model from a BertForPreTraining model).\n",
      "- This IS NOT expected if you are initializing BertModel from the checkpoint of a model that you expect to be exactly identical (initializing a BertForSequenceClassification model from a BertForSequenceClassification model).\n",
      "Warning: Baseline not Found for bert-base-multilingual-cased on ja at /home/ryoryon66/.pyenv/versions/3.9.8/lib/python3.9/site-packages/bert_score/rescale_baseline/ja/bert-base-multilingual-cased.tsv\n",
      "Some weights of the model checkpoint at bert-base-multilingual-cased were not used when initializing BertModel: ['cls.predictions.transform.dense.weight', 'cls.seq_relationship.weight', 'cls.predictions.transform.LayerNorm.weight', 'cls.predictions.bias', 'cls.seq_relationship.bias', 'cls.predictions.transform.dense.bias', 'cls.predictions.transform.LayerNorm.bias']\n",
      "- This IS expected if you are initializing BertModel from the checkpoint of a model trained on another task or with another architecture (e.g. initializing a BertForSequenceClassification model from a BertForPreTraining model).\n",
      "- This IS NOT expected if you are initializing BertModel from the checkpoint of a model that you expect to be exactly identical (initializing a BertForSequenceClassification model from a BertForSequenceClassification model).\n",
      "Warning: Baseline not Found for bert-base-multilingual-cased on ja at /home/ryoryon66/.pyenv/versions/3.9.8/lib/python3.9/site-packages/bert_score/rescale_baseline/ja/bert-base-multilingual-cased.tsv\n",
      "Some weights of the model checkpoint at bert-base-multilingual-cased were not used when initializing BertModel: ['cls.predictions.transform.dense.weight', 'cls.seq_relationship.weight', 'cls.predictions.transform.LayerNorm.weight', 'cls.predictions.bias', 'cls.seq_relationship.bias', 'cls.predictions.transform.dense.bias', 'cls.predictions.transform.LayerNorm.bias']\n",
      "- This IS expected if you are initializing BertModel from the checkpoint of a model trained on another task or with another architecture (e.g. initializing a BertForSequenceClassification model from a BertForPreTraining model).\n",
      "- This IS NOT expected if you are initializing BertModel from the checkpoint of a model that you expect to be exactly identical (initializing a BertForSequenceClassification model from a BertForSequenceClassification model).\n",
      "Warning: Baseline not Found for bert-base-multilingual-cased on ja at /home/ryoryon66/.pyenv/versions/3.9.8/lib/python3.9/site-packages/bert_score/rescale_baseline/ja/bert-base-multilingual-cased.tsv\n",
      "Some weights of the model checkpoint at bert-base-multilingual-cased were not used when initializing BertModel: ['cls.predictions.transform.dense.weight', 'cls.seq_relationship.weight', 'cls.predictions.transform.LayerNorm.weight', 'cls.predictions.bias', 'cls.seq_relationship.bias', 'cls.predictions.transform.dense.bias', 'cls.predictions.transform.LayerNorm.bias']\n",
      "- This IS expected if you are initializing BertModel from the checkpoint of a model trained on another task or with another architecture (e.g. initializing a BertForSequenceClassification model from a BertForPreTraining model).\n",
      "- This IS NOT expected if you are initializing BertModel from the checkpoint of a model that you expect to be exactly identical (initializing a BertForSequenceClassification model from a BertForSequenceClassification model).\n",
      "Warning: Baseline not Found for bert-base-multilingual-cased on ja at /home/ryoryon66/.pyenv/versions/3.9.8/lib/python3.9/site-packages/bert_score/rescale_baseline/ja/bert-base-multilingual-cased.tsv\n",
      "Some weights of the model checkpoint at bert-base-multilingual-cased were not used when initializing BertModel: ['cls.predictions.transform.dense.weight', 'cls.seq_relationship.weight', 'cls.predictions.transform.LayerNorm.weight', 'cls.predictions.bias', 'cls.seq_relationship.bias', 'cls.predictions.transform.dense.bias', 'cls.predictions.transform.LayerNorm.bias']\n",
      "- This IS expected if you are initializing BertModel from the checkpoint of a model trained on another task or with another architecture (e.g. initializing a BertForSequenceClassification model from a BertForPreTraining model).\n",
      "- This IS NOT expected if you are initializing BertModel from the checkpoint of a model that you expect to be exactly identical (initializing a BertForSequenceClassification model from a BertForSequenceClassification model).\n",
      "Warning: Baseline not Found for bert-base-multilingual-cased on ja at /home/ryoryon66/.pyenv/versions/3.9.8/lib/python3.9/site-packages/bert_score/rescale_baseline/ja/bert-base-multilingual-cased.tsv\n"
     ]
    },
    {
     "name": "stdout",
     "output_type": "stream",
     "text": [
      "彼は史上最高のドライバーの一人として広く認知されており、彼の死後も多くのファンや関係者によって惜しまれています\n"
     ]
    },
    {
     "name": "stderr",
     "output_type": "stream",
     "text": [
      "Some weights of the model checkpoint at bert-base-multilingual-cased were not used when initializing BertModel: ['cls.predictions.transform.dense.weight', 'cls.seq_relationship.weight', 'cls.predictions.transform.LayerNorm.weight', 'cls.predictions.bias', 'cls.seq_relationship.bias', 'cls.predictions.transform.dense.bias', 'cls.predictions.transform.LayerNorm.bias']\n",
      "- This IS expected if you are initializing BertModel from the checkpoint of a model trained on another task or with another architecture (e.g. initializing a BertForSequenceClassification model from a BertForPreTraining model).\n",
      "- This IS NOT expected if you are initializing BertModel from the checkpoint of a model that you expect to be exactly identical (initializing a BertForSequenceClassification model from a BertForSequenceClassification model).\n",
      "Warning: Baseline not Found for bert-base-multilingual-cased on ja at /home/ryoryon66/.pyenv/versions/3.9.8/lib/python3.9/site-packages/bert_score/rescale_baseline/ja/bert-base-multilingual-cased.tsv\n",
      "Some weights of the model checkpoint at bert-base-multilingual-cased were not used when initializing BertModel: ['cls.predictions.transform.dense.weight', 'cls.seq_relationship.weight', 'cls.predictions.transform.LayerNorm.weight', 'cls.predictions.bias', 'cls.seq_relationship.bias', 'cls.predictions.transform.dense.bias', 'cls.predictions.transform.LayerNorm.bias']\n",
      "- This IS expected if you are initializing BertModel from the checkpoint of a model trained on another task or with another architecture (e.g. initializing a BertForSequenceClassification model from a BertForPreTraining model).\n",
      "- This IS NOT expected if you are initializing BertModel from the checkpoint of a model that you expect to be exactly identical (initializing a BertForSequenceClassification model from a BertForSequenceClassification model).\n",
      "Warning: Baseline not Found for bert-base-multilingual-cased on ja at /home/ryoryon66/.pyenv/versions/3.9.8/lib/python3.9/site-packages/bert_score/rescale_baseline/ja/bert-base-multilingual-cased.tsv\n",
      "Some weights of the model checkpoint at bert-base-multilingual-cased were not used when initializing BertModel: ['cls.predictions.transform.dense.weight', 'cls.seq_relationship.weight', 'cls.predictions.transform.LayerNorm.weight', 'cls.predictions.bias', 'cls.seq_relationship.bias', 'cls.predictions.transform.dense.bias', 'cls.predictions.transform.LayerNorm.bias']\n",
      "- This IS expected if you are initializing BertModel from the checkpoint of a model trained on another task or with another architecture (e.g. initializing a BertForSequenceClassification model from a BertForPreTraining model).\n",
      "- This IS NOT expected if you are initializing BertModel from the checkpoint of a model that you expect to be exactly identical (initializing a BertForSequenceClassification model from a BertForSequenceClassification model).\n",
      "Warning: Baseline not Found for bert-base-multilingual-cased on ja at /home/ryoryon66/.pyenv/versions/3.9.8/lib/python3.9/site-packages/bert_score/rescale_baseline/ja/bert-base-multilingual-cased.tsv\n",
      "Some weights of the model checkpoint at bert-base-multilingual-cased were not used when initializing BertModel: ['cls.predictions.transform.dense.weight', 'cls.seq_relationship.weight', 'cls.predictions.transform.LayerNorm.weight', 'cls.predictions.bias', 'cls.seq_relationship.bias', 'cls.predictions.transform.dense.bias', 'cls.predictions.transform.LayerNorm.bias']\n",
      "- This IS expected if you are initializing BertModel from the checkpoint of a model trained on another task or with another architecture (e.g. initializing a BertForSequenceClassification model from a BertForPreTraining model).\n",
      "- This IS NOT expected if you are initializing BertModel from the checkpoint of a model that you expect to be exactly identical (initializing a BertForSequenceClassification model from a BertForSequenceClassification model).\n",
      "Warning: Baseline not Found for bert-base-multilingual-cased on ja at /home/ryoryon66/.pyenv/versions/3.9.8/lib/python3.9/site-packages/bert_score/rescale_baseline/ja/bert-base-multilingual-cased.tsv\n",
      "Some weights of the model checkpoint at bert-base-multilingual-cased were not used when initializing BertModel: ['cls.predictions.transform.dense.weight', 'cls.seq_relationship.weight', 'cls.predictions.transform.LayerNorm.weight', 'cls.predictions.bias', 'cls.seq_relationship.bias', 'cls.predictions.transform.dense.bias', 'cls.predictions.transform.LayerNorm.bias']\n",
      "- This IS expected if you are initializing BertModel from the checkpoint of a model trained on another task or with another architecture (e.g. initializing a BertForSequenceClassification model from a BertForPreTraining model).\n",
      "- This IS NOT expected if you are initializing BertModel from the checkpoint of a model that you expect to be exactly identical (initializing a BertForSequenceClassification model from a BertForSequenceClassification model).\n"
     ]
    },
    {
     "name": "stdout",
     "output_type": "stream",
     "text": [
      "hallucination pr_scores: [0.24037840366363522, 0.3165364623069763]\n",
      "hallucination re_scores: [0.24457405805587762, 0.30928332805633557]\n",
      "hallucination f1_scores: [0.24333283901214608, 0.31337627172470084]\n",
      "processing 24 / 100\n"
     ]
    },
    {
     "name": "stderr",
     "output_type": "stream",
     "text": [
      "Warning: Baseline not Found for bert-base-multilingual-cased on ja at /home/ryoryon66/.pyenv/versions/3.9.8/lib/python3.9/site-packages/bert_score/rescale_baseline/ja/bert-base-multilingual-cased.tsv\n",
      "/tmp/ipykernel_28939/1749957329.py:18: FutureWarning: The frame.append method is deprecated and will be removed from pandas in a future version. Use pandas.concat instead.\n",
      "  score_df = score_df.append({\n"
     ]
    },
    {
     "name": "stdout",
     "output_type": "stream",
     "text": [
      "QA20CAPR-0049 ワルシャワにある空港にその名を残す、『革命のエチュード』や『子犬のワルツ』などのピアノ曲で知られるポーランドの作曲家は誰でしょう? フレデリック・ショパン\n",
      "sampled: ['フレデリック・ショパン', 'ショパン', 'フレデリック・ショパン', 'フレデリック・ショパン', 'フレデリック・ショパン']\n",
      "r_sentences\n",
      "['フレデリック・ショパン']\n",
      "フレデリック・ショパン\n"
     ]
    },
    {
     "name": "stderr",
     "output_type": "stream",
     "text": [
      "Some weights of the model checkpoint at bert-base-multilingual-cased were not used when initializing BertModel: ['cls.predictions.transform.dense.weight', 'cls.seq_relationship.weight', 'cls.predictions.transform.LayerNorm.weight', 'cls.predictions.bias', 'cls.seq_relationship.bias', 'cls.predictions.transform.dense.bias', 'cls.predictions.transform.LayerNorm.bias']\n",
      "- This IS expected if you are initializing BertModel from the checkpoint of a model trained on another task or with another architecture (e.g. initializing a BertForSequenceClassification model from a BertForPreTraining model).\n",
      "- This IS NOT expected if you are initializing BertModel from the checkpoint of a model that you expect to be exactly identical (initializing a BertForSequenceClassification model from a BertForSequenceClassification model).\n",
      "Warning: Baseline not Found for bert-base-multilingual-cased on ja at /home/ryoryon66/.pyenv/versions/3.9.8/lib/python3.9/site-packages/bert_score/rescale_baseline/ja/bert-base-multilingual-cased.tsv\n",
      "Some weights of the model checkpoint at bert-base-multilingual-cased were not used when initializing BertModel: ['cls.predictions.transform.dense.weight', 'cls.seq_relationship.weight', 'cls.predictions.transform.LayerNorm.weight', 'cls.predictions.bias', 'cls.seq_relationship.bias', 'cls.predictions.transform.dense.bias', 'cls.predictions.transform.LayerNorm.bias']\n",
      "- This IS expected if you are initializing BertModel from the checkpoint of a model trained on another task or with another architecture (e.g. initializing a BertForSequenceClassification model from a BertForPreTraining model).\n",
      "- This IS NOT expected if you are initializing BertModel from the checkpoint of a model that you expect to be exactly identical (initializing a BertForSequenceClassification model from a BertForSequenceClassification model).\n",
      "Warning: Baseline not Found for bert-base-multilingual-cased on ja at /home/ryoryon66/.pyenv/versions/3.9.8/lib/python3.9/site-packages/bert_score/rescale_baseline/ja/bert-base-multilingual-cased.tsv\n",
      "Some weights of the model checkpoint at bert-base-multilingual-cased were not used when initializing BertModel: ['cls.predictions.transform.dense.weight', 'cls.seq_relationship.weight', 'cls.predictions.transform.LayerNorm.weight', 'cls.predictions.bias', 'cls.seq_relationship.bias', 'cls.predictions.transform.dense.bias', 'cls.predictions.transform.LayerNorm.bias']\n",
      "- This IS expected if you are initializing BertModel from the checkpoint of a model trained on another task or with another architecture (e.g. initializing a BertForSequenceClassification model from a BertForPreTraining model).\n",
      "- This IS NOT expected if you are initializing BertModel from the checkpoint of a model that you expect to be exactly identical (initializing a BertForSequenceClassification model from a BertForSequenceClassification model).\n",
      "Warning: Baseline not Found for bert-base-multilingual-cased on ja at /home/ryoryon66/.pyenv/versions/3.9.8/lib/python3.9/site-packages/bert_score/rescale_baseline/ja/bert-base-multilingual-cased.tsv\n",
      "Some weights of the model checkpoint at bert-base-multilingual-cased were not used when initializing BertModel: ['cls.predictions.transform.dense.weight', 'cls.seq_relationship.weight', 'cls.predictions.transform.LayerNorm.weight', 'cls.predictions.bias', 'cls.seq_relationship.bias', 'cls.predictions.transform.dense.bias', 'cls.predictions.transform.LayerNorm.bias']\n",
      "- This IS expected if you are initializing BertModel from the checkpoint of a model trained on another task or with another architecture (e.g. initializing a BertForSequenceClassification model from a BertForPreTraining model).\n",
      "- This IS NOT expected if you are initializing BertModel from the checkpoint of a model that you expect to be exactly identical (initializing a BertForSequenceClassification model from a BertForSequenceClassification model).\n",
      "Warning: Baseline not Found for bert-base-multilingual-cased on ja at /home/ryoryon66/.pyenv/versions/3.9.8/lib/python3.9/site-packages/bert_score/rescale_baseline/ja/bert-base-multilingual-cased.tsv\n",
      "Some weights of the model checkpoint at bert-base-multilingual-cased were not used when initializing BertModel: ['cls.predictions.transform.dense.weight', 'cls.seq_relationship.weight', 'cls.predictions.transform.LayerNorm.weight', 'cls.predictions.bias', 'cls.seq_relationship.bias', 'cls.predictions.transform.dense.bias', 'cls.predictions.transform.LayerNorm.bias']\n",
      "- This IS expected if you are initializing BertModel from the checkpoint of a model trained on another task or with another architecture (e.g. initializing a BertForSequenceClassification model from a BertForPreTraining model).\n",
      "- This IS NOT expected if you are initializing BertModel from the checkpoint of a model that you expect to be exactly identical (initializing a BertForSequenceClassification model from a BertForSequenceClassification model).\n"
     ]
    },
    {
     "name": "stdout",
     "output_type": "stream",
     "text": [
      "hallucination pr_scores: [0.04228882789611821]\n",
      "hallucination re_scores: [0.02014900445938106]\n",
      "hallucination f1_scores: [0.03194496631622312]\n",
      "processing 25 / 100\n"
     ]
    },
    {
     "name": "stderr",
     "output_type": "stream",
     "text": [
      "Warning: Baseline not Found for bert-base-multilingual-cased on ja at /home/ryoryon66/.pyenv/versions/3.9.8/lib/python3.9/site-packages/bert_score/rescale_baseline/ja/bert-base-multilingual-cased.tsv\n",
      "/tmp/ipykernel_28939/1749957329.py:18: FutureWarning: The frame.append method is deprecated and will be removed from pandas in a future version. Use pandas.concat instead.\n",
      "  score_df = score_df.append({\n"
     ]
    },
    {
     "name": "stdout",
     "output_type": "stream",
     "text": [
      "QA20CAPR-0051 フラーレン、黒鉛、ダイヤモンドといえばいずれもどんな元素から出来ている物質でしょう? 炭素\n",
      "sampled: ['炭素(炭化水素)です。', '炭素、水素、窒素です。', '炭素です。', '炭素原子です。', '炭素です。']\n",
      "r_sentences\n",
      "['炭素']\n",
      "炭素\n"
     ]
    },
    {
     "name": "stderr",
     "output_type": "stream",
     "text": [
      "Some weights of the model checkpoint at bert-base-multilingual-cased were not used when initializing BertModel: ['cls.predictions.transform.dense.weight', 'cls.seq_relationship.weight', 'cls.predictions.transform.LayerNorm.weight', 'cls.predictions.bias', 'cls.seq_relationship.bias', 'cls.predictions.transform.dense.bias', 'cls.predictions.transform.LayerNorm.bias']\n",
      "- This IS expected if you are initializing BertModel from the checkpoint of a model trained on another task or with another architecture (e.g. initializing a BertForSequenceClassification model from a BertForPreTraining model).\n",
      "- This IS NOT expected if you are initializing BertModel from the checkpoint of a model that you expect to be exactly identical (initializing a BertForSequenceClassification model from a BertForSequenceClassification model).\n",
      "Warning: Baseline not Found for bert-base-multilingual-cased on ja at /home/ryoryon66/.pyenv/versions/3.9.8/lib/python3.9/site-packages/bert_score/rescale_baseline/ja/bert-base-multilingual-cased.tsv\n",
      "Some weights of the model checkpoint at bert-base-multilingual-cased were not used when initializing BertModel: ['cls.predictions.transform.dense.weight', 'cls.seq_relationship.weight', 'cls.predictions.transform.LayerNorm.weight', 'cls.predictions.bias', 'cls.seq_relationship.bias', 'cls.predictions.transform.dense.bias', 'cls.predictions.transform.LayerNorm.bias']\n",
      "- This IS expected if you are initializing BertModel from the checkpoint of a model trained on another task or with another architecture (e.g. initializing a BertForSequenceClassification model from a BertForPreTraining model).\n",
      "- This IS NOT expected if you are initializing BertModel from the checkpoint of a model that you expect to be exactly identical (initializing a BertForSequenceClassification model from a BertForSequenceClassification model).\n",
      "Warning: Baseline not Found for bert-base-multilingual-cased on ja at /home/ryoryon66/.pyenv/versions/3.9.8/lib/python3.9/site-packages/bert_score/rescale_baseline/ja/bert-base-multilingual-cased.tsv\n",
      "Some weights of the model checkpoint at bert-base-multilingual-cased were not used when initializing BertModel: ['cls.predictions.transform.dense.weight', 'cls.seq_relationship.weight', 'cls.predictions.transform.LayerNorm.weight', 'cls.predictions.bias', 'cls.seq_relationship.bias', 'cls.predictions.transform.dense.bias', 'cls.predictions.transform.LayerNorm.bias']\n",
      "- This IS expected if you are initializing BertModel from the checkpoint of a model trained on another task or with another architecture (e.g. initializing a BertForSequenceClassification model from a BertForPreTraining model).\n",
      "- This IS NOT expected if you are initializing BertModel from the checkpoint of a model that you expect to be exactly identical (initializing a BertForSequenceClassification model from a BertForSequenceClassification model).\n",
      "Warning: Baseline not Found for bert-base-multilingual-cased on ja at /home/ryoryon66/.pyenv/versions/3.9.8/lib/python3.9/site-packages/bert_score/rescale_baseline/ja/bert-base-multilingual-cased.tsv\n",
      "Some weights of the model checkpoint at bert-base-multilingual-cased were not used when initializing BertModel: ['cls.predictions.transform.dense.weight', 'cls.seq_relationship.weight', 'cls.predictions.transform.LayerNorm.weight', 'cls.predictions.bias', 'cls.seq_relationship.bias', 'cls.predictions.transform.dense.bias', 'cls.predictions.transform.LayerNorm.bias']\n",
      "- This IS expected if you are initializing BertModel from the checkpoint of a model trained on another task or with another architecture (e.g. initializing a BertForSequenceClassification model from a BertForPreTraining model).\n",
      "- This IS NOT expected if you are initializing BertModel from the checkpoint of a model that you expect to be exactly identical (initializing a BertForSequenceClassification model from a BertForSequenceClassification model).\n",
      "Warning: Baseline not Found for bert-base-multilingual-cased on ja at /home/ryoryon66/.pyenv/versions/3.9.8/lib/python3.9/site-packages/bert_score/rescale_baseline/ja/bert-base-multilingual-cased.tsv\n",
      "Some weights of the model checkpoint at bert-base-multilingual-cased were not used when initializing BertModel: ['cls.predictions.transform.dense.weight', 'cls.seq_relationship.weight', 'cls.predictions.transform.LayerNorm.weight', 'cls.predictions.bias', 'cls.seq_relationship.bias', 'cls.predictions.transform.dense.bias', 'cls.predictions.transform.LayerNorm.bias']\n",
      "- This IS expected if you are initializing BertModel from the checkpoint of a model trained on another task or with another architecture (e.g. initializing a BertForSequenceClassification model from a BertForPreTraining model).\n",
      "- This IS NOT expected if you are initializing BertModel from the checkpoint of a model that you expect to be exactly identical (initializing a BertForSequenceClassification model from a BertForSequenceClassification model).\n"
     ]
    },
    {
     "name": "stdout",
     "output_type": "stream",
     "text": [
      "hallucination pr_scores: [0.1681323885917663]\n",
      "hallucination re_scores: [0.26273028850555413]\n",
      "hallucination f1_scores: [0.2183173656463623]\n",
      "processing 26 / 100\n"
     ]
    },
    {
     "name": "stderr",
     "output_type": "stream",
     "text": [
      "Warning: Baseline not Found for bert-base-multilingual-cased on ja at /home/ryoryon66/.pyenv/versions/3.9.8/lib/python3.9/site-packages/bert_score/rescale_baseline/ja/bert-base-multilingual-cased.tsv\n",
      "/tmp/ipykernel_28939/1749957329.py:18: FutureWarning: The frame.append method is deprecated and will be removed from pandas in a future version. Use pandas.concat instead.\n",
      "  score_df = score_df.append({\n"
     ]
    },
    {
     "name": "stdout",
     "output_type": "stream",
     "text": [
      "QA20CAPR-0053 48面のテニスコートと1万人を収容する有明コロシアムが存在する、ゆりかもめの駅名にもなっている江東区の公園は何でしょう? 夢の島公園です。\n",
      "\n",
      "sampled: ['辰巳の森海浜公園です。', '夢の島公園です。', '清澄庭園です。', '辰巳の森海浜公園です。', '夢の島公園です。']\n",
      "r_sentences\n",
      "['夢の島公園です']\n",
      "夢の島公園です\n"
     ]
    },
    {
     "name": "stderr",
     "output_type": "stream",
     "text": [
      "Some weights of the model checkpoint at bert-base-multilingual-cased were not used when initializing BertModel: ['cls.predictions.transform.dense.weight', 'cls.seq_relationship.weight', 'cls.predictions.transform.LayerNorm.weight', 'cls.predictions.bias', 'cls.seq_relationship.bias', 'cls.predictions.transform.dense.bias', 'cls.predictions.transform.LayerNorm.bias']\n",
      "- This IS expected if you are initializing BertModel from the checkpoint of a model trained on another task or with another architecture (e.g. initializing a BertForSequenceClassification model from a BertForPreTraining model).\n",
      "- This IS NOT expected if you are initializing BertModel from the checkpoint of a model that you expect to be exactly identical (initializing a BertForSequenceClassification model from a BertForSequenceClassification model).\n",
      "Warning: Baseline not Found for bert-base-multilingual-cased on ja at /home/ryoryon66/.pyenv/versions/3.9.8/lib/python3.9/site-packages/bert_score/rescale_baseline/ja/bert-base-multilingual-cased.tsv\n",
      "Some weights of the model checkpoint at bert-base-multilingual-cased were not used when initializing BertModel: ['cls.predictions.transform.dense.weight', 'cls.seq_relationship.weight', 'cls.predictions.transform.LayerNorm.weight', 'cls.predictions.bias', 'cls.seq_relationship.bias', 'cls.predictions.transform.dense.bias', 'cls.predictions.transform.LayerNorm.bias']\n",
      "- This IS expected if you are initializing BertModel from the checkpoint of a model trained on another task or with another architecture (e.g. initializing a BertForSequenceClassification model from a BertForPreTraining model).\n",
      "- This IS NOT expected if you are initializing BertModel from the checkpoint of a model that you expect to be exactly identical (initializing a BertForSequenceClassification model from a BertForSequenceClassification model).\n",
      "Warning: Baseline not Found for bert-base-multilingual-cased on ja at /home/ryoryon66/.pyenv/versions/3.9.8/lib/python3.9/site-packages/bert_score/rescale_baseline/ja/bert-base-multilingual-cased.tsv\n",
      "Some weights of the model checkpoint at bert-base-multilingual-cased were not used when initializing BertModel: ['cls.predictions.transform.dense.weight', 'cls.seq_relationship.weight', 'cls.predictions.transform.LayerNorm.weight', 'cls.predictions.bias', 'cls.seq_relationship.bias', 'cls.predictions.transform.dense.bias', 'cls.predictions.transform.LayerNorm.bias']\n",
      "- This IS expected if you are initializing BertModel from the checkpoint of a model trained on another task or with another architecture (e.g. initializing a BertForSequenceClassification model from a BertForPreTraining model).\n",
      "- This IS NOT expected if you are initializing BertModel from the checkpoint of a model that you expect to be exactly identical (initializing a BertForSequenceClassification model from a BertForSequenceClassification model).\n",
      "Warning: Baseline not Found for bert-base-multilingual-cased on ja at /home/ryoryon66/.pyenv/versions/3.9.8/lib/python3.9/site-packages/bert_score/rescale_baseline/ja/bert-base-multilingual-cased.tsv\n",
      "Some weights of the model checkpoint at bert-base-multilingual-cased were not used when initializing BertModel: ['cls.predictions.transform.dense.weight', 'cls.seq_relationship.weight', 'cls.predictions.transform.LayerNorm.weight', 'cls.predictions.bias', 'cls.seq_relationship.bias', 'cls.predictions.transform.dense.bias', 'cls.predictions.transform.LayerNorm.bias']\n",
      "- This IS expected if you are initializing BertModel from the checkpoint of a model trained on another task or with another architecture (e.g. initializing a BertForSequenceClassification model from a BertForPreTraining model).\n",
      "- This IS NOT expected if you are initializing BertModel from the checkpoint of a model that you expect to be exactly identical (initializing a BertForSequenceClassification model from a BertForSequenceClassification model).\n",
      "Warning: Baseline not Found for bert-base-multilingual-cased on ja at /home/ryoryon66/.pyenv/versions/3.9.8/lib/python3.9/site-packages/bert_score/rescale_baseline/ja/bert-base-multilingual-cased.tsv\n",
      "Some weights of the model checkpoint at bert-base-multilingual-cased were not used when initializing BertModel: ['cls.predictions.transform.dense.weight', 'cls.seq_relationship.weight', 'cls.predictions.transform.LayerNorm.weight', 'cls.predictions.bias', 'cls.seq_relationship.bias', 'cls.predictions.transform.dense.bias', 'cls.predictions.transform.LayerNorm.bias']\n",
      "- This IS expected if you are initializing BertModel from the checkpoint of a model trained on another task or with another architecture (e.g. initializing a BertForSequenceClassification model from a BertForPreTraining model).\n",
      "- This IS NOT expected if you are initializing BertModel from the checkpoint of a model that you expect to be exactly identical (initializing a BertForSequenceClassification model from a BertForSequenceClassification model).\n"
     ]
    },
    {
     "name": "stdout",
     "output_type": "stream",
     "text": [
      "hallucination pr_scores: [0.07180464267730707]\n",
      "hallucination re_scores: [0.08630871772766119]\n",
      "hallucination f1_scores: [0.07923303842544543]\n",
      "processing 27 / 100\n"
     ]
    },
    {
     "name": "stderr",
     "output_type": "stream",
     "text": [
      "Warning: Baseline not Found for bert-base-multilingual-cased on ja at /home/ryoryon66/.pyenv/versions/3.9.8/lib/python3.9/site-packages/bert_score/rescale_baseline/ja/bert-base-multilingual-cased.tsv\n",
      "/tmp/ipykernel_28939/1749957329.py:18: FutureWarning: The frame.append method is deprecated and will be removed from pandas in a future version. Use pandas.concat instead.\n",
      "  score_df = score_df.append({\n"
     ]
    },
    {
     "name": "stdout",
     "output_type": "stream",
     "text": [
      "QA20CAPR-0055 「迫りくる危機」や「緊急事態宣言」といった拡張セットもある、プレイヤーがウイルス対策チームの一員となり、世界に蔓延する感染症を根絶するという内容のボードゲームは何でしょう? パンデミック:グローバル・ウォーです。\n",
      "\n",
      "sampled: ['パンデミック:グローバル・クライシスです。 https://www.amazon.com/Panded-World-Critical-Collection/dp/252865053/ プレイヤーは感染拡大を防止するためにグローバルな取り組みに参加します。 ゲームには、さまざまな国々からのウイルスのアウトブレイクが含まれています。 これらのアウトブレイクは、急速に広まり、世界的な大流行を引き起こしています。 プレイヤーは、ウイルスの拡散を防止し、治療法を開発するために協力します。 このゲームでは、プレイヤーは世界中にワクチンを配布し、ウイルスの流行を終', 'パンデミック:グローバル・ウォー:未来の世界(拡張キット)です。', 'パンデミックシミュレーション:パンデミック:東京決戦です。この拡張セットには、ウイルス感染拡大を防ぐワクチンの開発、医療従事者への援助、そしてウイルス感染の犠牲者に対する補償制度など、さまざまな社会現象が含まれています。また、災害時の対応、被災地の医療現場での作業、感染症の予防と治療に関する知識も含まれています。', 'ドミノ・ピザ・キャンペーン!ドミノ・ピザ・キャンペーンは、世界中に感染拡大しているウイルスから世界を守るために、ピザ配達員を派遣し、感染拡大を防止しようとするキャンペーンです。ドミノ・ピザ・キャンペーンは、ゲームプレイを通じて自然災害や危機などに関連する社会風刺的なテーマを取り入れています。ドミノ・ピザ・キャンペーンの拡張セットには、ウイルスとの戦いだけでなく、災害や紛争などの深刻な問題も含まれています。ドミノ・ピザ・キャンペーンは、ボードゲーム以外にも多くの出版物やメディアでも取り上げられています。', 'パンデミック:グローバル・ウォー:ワクチン接種キャンペーン。この拡張セットでは、ウイルス対策チームは世界中の国々を旅しながら、ワクチン接種キャンペーンを成功裏に進める必要があります。ゲームは、ワクチン接種キャンペーンによって、世界のウイルス流行を終わらせることを目指します。']\n",
      "r_sentences\n",
      "['パンデミック:グローバル・ウォーです']\n",
      "パンデミック:グローバル・ウォーです\n"
     ]
    },
    {
     "name": "stderr",
     "output_type": "stream",
     "text": [
      "Some weights of the model checkpoint at bert-base-multilingual-cased were not used when initializing BertModel: ['cls.predictions.transform.dense.weight', 'cls.seq_relationship.weight', 'cls.predictions.transform.LayerNorm.weight', 'cls.predictions.bias', 'cls.seq_relationship.bias', 'cls.predictions.transform.dense.bias', 'cls.predictions.transform.LayerNorm.bias']\n",
      "- This IS expected if you are initializing BertModel from the checkpoint of a model trained on another task or with another architecture (e.g. initializing a BertForSequenceClassification model from a BertForPreTraining model).\n",
      "- This IS NOT expected if you are initializing BertModel from the checkpoint of a model that you expect to be exactly identical (initializing a BertForSequenceClassification model from a BertForSequenceClassification model).\n",
      "Warning: Baseline not Found for bert-base-multilingual-cased on ja at /home/ryoryon66/.pyenv/versions/3.9.8/lib/python3.9/site-packages/bert_score/rescale_baseline/ja/bert-base-multilingual-cased.tsv\n",
      "Some weights of the model checkpoint at bert-base-multilingual-cased were not used when initializing BertModel: ['cls.predictions.transform.dense.weight', 'cls.seq_relationship.weight', 'cls.predictions.transform.LayerNorm.weight', 'cls.predictions.bias', 'cls.seq_relationship.bias', 'cls.predictions.transform.dense.bias', 'cls.predictions.transform.LayerNorm.bias']\n",
      "- This IS expected if you are initializing BertModel from the checkpoint of a model trained on another task or with another architecture (e.g. initializing a BertForSequenceClassification model from a BertForPreTraining model).\n",
      "- This IS NOT expected if you are initializing BertModel from the checkpoint of a model that you expect to be exactly identical (initializing a BertForSequenceClassification model from a BertForSequenceClassification model).\n",
      "Warning: Baseline not Found for bert-base-multilingual-cased on ja at /home/ryoryon66/.pyenv/versions/3.9.8/lib/python3.9/site-packages/bert_score/rescale_baseline/ja/bert-base-multilingual-cased.tsv\n",
      "Some weights of the model checkpoint at bert-base-multilingual-cased were not used when initializing BertModel: ['cls.predictions.transform.dense.weight', 'cls.seq_relationship.weight', 'cls.predictions.transform.LayerNorm.weight', 'cls.predictions.bias', 'cls.seq_relationship.bias', 'cls.predictions.transform.dense.bias', 'cls.predictions.transform.LayerNorm.bias']\n",
      "- This IS expected if you are initializing BertModel from the checkpoint of a model trained on another task or with another architecture (e.g. initializing a BertForSequenceClassification model from a BertForPreTraining model).\n",
      "- This IS NOT expected if you are initializing BertModel from the checkpoint of a model that you expect to be exactly identical (initializing a BertForSequenceClassification model from a BertForSequenceClassification model).\n",
      "Warning: Baseline not Found for bert-base-multilingual-cased on ja at /home/ryoryon66/.pyenv/versions/3.9.8/lib/python3.9/site-packages/bert_score/rescale_baseline/ja/bert-base-multilingual-cased.tsv\n",
      "Some weights of the model checkpoint at bert-base-multilingual-cased were not used when initializing BertModel: ['cls.predictions.transform.dense.weight', 'cls.seq_relationship.weight', 'cls.predictions.transform.LayerNorm.weight', 'cls.predictions.bias', 'cls.seq_relationship.bias', 'cls.predictions.transform.dense.bias', 'cls.predictions.transform.LayerNorm.bias']\n",
      "- This IS expected if you are initializing BertModel from the checkpoint of a model trained on another task or with another architecture (e.g. initializing a BertForSequenceClassification model from a BertForPreTraining model).\n",
      "- This IS NOT expected if you are initializing BertModel from the checkpoint of a model that you expect to be exactly identical (initializing a BertForSequenceClassification model from a BertForSequenceClassification model).\n",
      "Warning: Baseline not Found for bert-base-multilingual-cased on ja at /home/ryoryon66/.pyenv/versions/3.9.8/lib/python3.9/site-packages/bert_score/rescale_baseline/ja/bert-base-multilingual-cased.tsv\n",
      "Some weights of the model checkpoint at bert-base-multilingual-cased were not used when initializing BertModel: ['cls.predictions.transform.dense.weight', 'cls.seq_relationship.weight', 'cls.predictions.transform.LayerNorm.weight', 'cls.predictions.bias', 'cls.seq_relationship.bias', 'cls.predictions.transform.dense.bias', 'cls.predictions.transform.LayerNorm.bias']\n",
      "- This IS expected if you are initializing BertModel from the checkpoint of a model trained on another task or with another architecture (e.g. initializing a BertForSequenceClassification model from a BertForPreTraining model).\n",
      "- This IS NOT expected if you are initializing BertModel from the checkpoint of a model that you expect to be exactly identical (initializing a BertForSequenceClassification model from a BertForSequenceClassification model).\n"
     ]
    },
    {
     "name": "stdout",
     "output_type": "stream",
     "text": [
      "hallucination pr_scores: [0.17410219907760624]\n",
      "hallucination re_scores: [0.2019834399223327]\n",
      "hallucination f1_scores: [0.18889418840408323]\n",
      "processing 28 / 100\n"
     ]
    },
    {
     "name": "stderr",
     "output_type": "stream",
     "text": [
      "Warning: Baseline not Found for bert-base-multilingual-cased on ja at /home/ryoryon66/.pyenv/versions/3.9.8/lib/python3.9/site-packages/bert_score/rescale_baseline/ja/bert-base-multilingual-cased.tsv\n",
      "/tmp/ipykernel_28939/1749957329.py:18: FutureWarning: The frame.append method is deprecated and will be removed from pandas in a future version. Use pandas.concat instead.\n",
      "  score_df = score_df.append({\n"
     ]
    },
    {
     "name": "stdout",
     "output_type": "stream",
     "text": [
      "QA20CAPR-0057 美しい景観から「ドナウ川の真珠」とも呼ばれる、ハンガリーの首都はどこでしょう? ブダペストです。\n",
      "\n",
      "sampled: ['ブダペスト', 'ブダペスト', 'ブダペスト', 'ブダペストです。', 'ブダペストです。']\n",
      "r_sentences\n",
      "['ブダペストです']\n",
      "ブダペストです\n"
     ]
    },
    {
     "name": "stderr",
     "output_type": "stream",
     "text": [
      "Some weights of the model checkpoint at bert-base-multilingual-cased were not used when initializing BertModel: ['cls.predictions.transform.dense.weight', 'cls.seq_relationship.weight', 'cls.predictions.transform.LayerNorm.weight', 'cls.predictions.bias', 'cls.seq_relationship.bias', 'cls.predictions.transform.dense.bias', 'cls.predictions.transform.LayerNorm.bias']\n",
      "- This IS expected if you are initializing BertModel from the checkpoint of a model trained on another task or with another architecture (e.g. initializing a BertForSequenceClassification model from a BertForPreTraining model).\n",
      "- This IS NOT expected if you are initializing BertModel from the checkpoint of a model that you expect to be exactly identical (initializing a BertForSequenceClassification model from a BertForSequenceClassification model).\n",
      "Warning: Baseline not Found for bert-base-multilingual-cased on ja at /home/ryoryon66/.pyenv/versions/3.9.8/lib/python3.9/site-packages/bert_score/rescale_baseline/ja/bert-base-multilingual-cased.tsv\n",
      "Some weights of the model checkpoint at bert-base-multilingual-cased were not used when initializing BertModel: ['cls.predictions.transform.dense.weight', 'cls.seq_relationship.weight', 'cls.predictions.transform.LayerNorm.weight', 'cls.predictions.bias', 'cls.seq_relationship.bias', 'cls.predictions.transform.dense.bias', 'cls.predictions.transform.LayerNorm.bias']\n",
      "- This IS expected if you are initializing BertModel from the checkpoint of a model trained on another task or with another architecture (e.g. initializing a BertForSequenceClassification model from a BertForPreTraining model).\n",
      "- This IS NOT expected if you are initializing BertModel from the checkpoint of a model that you expect to be exactly identical (initializing a BertForSequenceClassification model from a BertForSequenceClassification model).\n",
      "Warning: Baseline not Found for bert-base-multilingual-cased on ja at /home/ryoryon66/.pyenv/versions/3.9.8/lib/python3.9/site-packages/bert_score/rescale_baseline/ja/bert-base-multilingual-cased.tsv\n",
      "Some weights of the model checkpoint at bert-base-multilingual-cased were not used when initializing BertModel: ['cls.predictions.transform.dense.weight', 'cls.seq_relationship.weight', 'cls.predictions.transform.LayerNorm.weight', 'cls.predictions.bias', 'cls.seq_relationship.bias', 'cls.predictions.transform.dense.bias', 'cls.predictions.transform.LayerNorm.bias']\n",
      "- This IS expected if you are initializing BertModel from the checkpoint of a model trained on another task or with another architecture (e.g. initializing a BertForSequenceClassification model from a BertForPreTraining model).\n",
      "- This IS NOT expected if you are initializing BertModel from the checkpoint of a model that you expect to be exactly identical (initializing a BertForSequenceClassification model from a BertForSequenceClassification model).\n",
      "Warning: Baseline not Found for bert-base-multilingual-cased on ja at /home/ryoryon66/.pyenv/versions/3.9.8/lib/python3.9/site-packages/bert_score/rescale_baseline/ja/bert-base-multilingual-cased.tsv\n",
      "Some weights of the model checkpoint at bert-base-multilingual-cased were not used when initializing BertModel: ['cls.predictions.transform.dense.weight', 'cls.seq_relationship.weight', 'cls.predictions.transform.LayerNorm.weight', 'cls.predictions.bias', 'cls.seq_relationship.bias', 'cls.predictions.transform.dense.bias', 'cls.predictions.transform.LayerNorm.bias']\n",
      "- This IS expected if you are initializing BertModel from the checkpoint of a model trained on another task or with another architecture (e.g. initializing a BertForSequenceClassification model from a BertForPreTraining model).\n",
      "- This IS NOT expected if you are initializing BertModel from the checkpoint of a model that you expect to be exactly identical (initializing a BertForSequenceClassification model from a BertForSequenceClassification model).\n",
      "Warning: Baseline not Found for bert-base-multilingual-cased on ja at /home/ryoryon66/.pyenv/versions/3.9.8/lib/python3.9/site-packages/bert_score/rescale_baseline/ja/bert-base-multilingual-cased.tsv\n",
      "Some weights of the model checkpoint at bert-base-multilingual-cased were not used when initializing BertModel: ['cls.predictions.transform.dense.weight', 'cls.seq_relationship.weight', 'cls.predictions.transform.LayerNorm.weight', 'cls.predictions.bias', 'cls.seq_relationship.bias', 'cls.predictions.transform.dense.bias', 'cls.predictions.transform.LayerNorm.bias']\n",
      "- This IS expected if you are initializing BertModel from the checkpoint of a model trained on another task or with another architecture (e.g. initializing a BertForSequenceClassification model from a BertForPreTraining model).\n",
      "- This IS NOT expected if you are initializing BertModel from the checkpoint of a model that you expect to be exactly identical (initializing a BertForSequenceClassification model from a BertForSequenceClassification model).\n"
     ]
    },
    {
     "name": "stdout",
     "output_type": "stream",
     "text": [
      "hallucination pr_scores: [0.11856901645660411]\n",
      "hallucination re_scores: [0.07162456512451176]\n",
      "hallucination f1_scores: [0.09618798494338987]\n",
      "processing 29 / 100\n"
     ]
    },
    {
     "name": "stderr",
     "output_type": "stream",
     "text": [
      "Warning: Baseline not Found for bert-base-multilingual-cased on ja at /home/ryoryon66/.pyenv/versions/3.9.8/lib/python3.9/site-packages/bert_score/rescale_baseline/ja/bert-base-multilingual-cased.tsv\n",
      "/tmp/ipykernel_28939/1749957329.py:18: FutureWarning: The frame.append method is deprecated and will be removed from pandas in a future version. Use pandas.concat instead.\n",
      "  score_df = score_df.append({\n"
     ]
    },
    {
     "name": "stdout",
     "output_type": "stream",
     "text": [
      "QA20CAPR-0059 NHKの大河ドラマ『花燃ゆ』で、主人公の杉文を演じた女優は誰でしょう? 井上真央さんです。\n",
      "\n",
      "sampled: ['井上真央さんです。', '井上真央さんです。', '井上真央さんです。', '井上真央さんです。', '井上真央さんです。']\n",
      "r_sentences\n",
      "['井上真央さんです']\n",
      "井上真央さんです\n"
     ]
    },
    {
     "name": "stderr",
     "output_type": "stream",
     "text": [
      "Some weights of the model checkpoint at bert-base-multilingual-cased were not used when initializing BertModel: ['cls.predictions.transform.dense.weight', 'cls.seq_relationship.weight', 'cls.predictions.transform.LayerNorm.weight', 'cls.predictions.bias', 'cls.seq_relationship.bias', 'cls.predictions.transform.dense.bias', 'cls.predictions.transform.LayerNorm.bias']\n",
      "- This IS expected if you are initializing BertModel from the checkpoint of a model trained on another task or with another architecture (e.g. initializing a BertForSequenceClassification model from a BertForPreTraining model).\n",
      "- This IS NOT expected if you are initializing BertModel from the checkpoint of a model that you expect to be exactly identical (initializing a BertForSequenceClassification model from a BertForSequenceClassification model).\n",
      "Warning: Baseline not Found for bert-base-multilingual-cased on ja at /home/ryoryon66/.pyenv/versions/3.9.8/lib/python3.9/site-packages/bert_score/rescale_baseline/ja/bert-base-multilingual-cased.tsv\n",
      "Some weights of the model checkpoint at bert-base-multilingual-cased were not used when initializing BertModel: ['cls.predictions.transform.dense.weight', 'cls.seq_relationship.weight', 'cls.predictions.transform.LayerNorm.weight', 'cls.predictions.bias', 'cls.seq_relationship.bias', 'cls.predictions.transform.dense.bias', 'cls.predictions.transform.LayerNorm.bias']\n",
      "- This IS expected if you are initializing BertModel from the checkpoint of a model trained on another task or with another architecture (e.g. initializing a BertForSequenceClassification model from a BertForPreTraining model).\n",
      "- This IS NOT expected if you are initializing BertModel from the checkpoint of a model that you expect to be exactly identical (initializing a BertForSequenceClassification model from a BertForSequenceClassification model).\n",
      "Warning: Baseline not Found for bert-base-multilingual-cased on ja at /home/ryoryon66/.pyenv/versions/3.9.8/lib/python3.9/site-packages/bert_score/rescale_baseline/ja/bert-base-multilingual-cased.tsv\n",
      "Some weights of the model checkpoint at bert-base-multilingual-cased were not used when initializing BertModel: ['cls.predictions.transform.dense.weight', 'cls.seq_relationship.weight', 'cls.predictions.transform.LayerNorm.weight', 'cls.predictions.bias', 'cls.seq_relationship.bias', 'cls.predictions.transform.dense.bias', 'cls.predictions.transform.LayerNorm.bias']\n",
      "- This IS expected if you are initializing BertModel from the checkpoint of a model trained on another task or with another architecture (e.g. initializing a BertForSequenceClassification model from a BertForPreTraining model).\n",
      "- This IS NOT expected if you are initializing BertModel from the checkpoint of a model that you expect to be exactly identical (initializing a BertForSequenceClassification model from a BertForSequenceClassification model).\n",
      "Warning: Baseline not Found for bert-base-multilingual-cased on ja at /home/ryoryon66/.pyenv/versions/3.9.8/lib/python3.9/site-packages/bert_score/rescale_baseline/ja/bert-base-multilingual-cased.tsv\n",
      "Some weights of the model checkpoint at bert-base-multilingual-cased were not used when initializing BertModel: ['cls.predictions.transform.dense.weight', 'cls.seq_relationship.weight', 'cls.predictions.transform.LayerNorm.weight', 'cls.predictions.bias', 'cls.seq_relationship.bias', 'cls.predictions.transform.dense.bias', 'cls.predictions.transform.LayerNorm.bias']\n",
      "- This IS expected if you are initializing BertModel from the checkpoint of a model trained on another task or with another architecture (e.g. initializing a BertForSequenceClassification model from a BertForPreTraining model).\n",
      "- This IS NOT expected if you are initializing BertModel from the checkpoint of a model that you expect to be exactly identical (initializing a BertForSequenceClassification model from a BertForSequenceClassification model).\n",
      "Warning: Baseline not Found for bert-base-multilingual-cased on ja at /home/ryoryon66/.pyenv/versions/3.9.8/lib/python3.9/site-packages/bert_score/rescale_baseline/ja/bert-base-multilingual-cased.tsv\n",
      "Some weights of the model checkpoint at bert-base-multilingual-cased were not used when initializing BertModel: ['cls.predictions.transform.dense.weight', 'cls.seq_relationship.weight', 'cls.predictions.transform.LayerNorm.weight', 'cls.predictions.bias', 'cls.seq_relationship.bias', 'cls.predictions.transform.dense.bias', 'cls.predictions.transform.LayerNorm.bias']\n",
      "- This IS expected if you are initializing BertModel from the checkpoint of a model trained on another task or with another architecture (e.g. initializing a BertForSequenceClassification model from a BertForPreTraining model).\n",
      "- This IS NOT expected if you are initializing BertModel from the checkpoint of a model that you expect to be exactly identical (initializing a BertForSequenceClassification model from a BertForSequenceClassification model).\n"
     ]
    },
    {
     "name": "stdout",
     "output_type": "stream",
     "text": [
      "hallucination pr_scores: [5.551115123125783e-17]\n",
      "hallucination re_scores: [5.551115123125783e-17]\n",
      "hallucination f1_scores: [5.551115123125783e-17]\n",
      "processing 30 / 100\n"
     ]
    },
    {
     "name": "stderr",
     "output_type": "stream",
     "text": [
      "Warning: Baseline not Found for bert-base-multilingual-cased on ja at /home/ryoryon66/.pyenv/versions/3.9.8/lib/python3.9/site-packages/bert_score/rescale_baseline/ja/bert-base-multilingual-cased.tsv\n",
      "/tmp/ipykernel_28939/1749957329.py:18: FutureWarning: The frame.append method is deprecated and will be removed from pandas in a future version. Use pandas.concat instead.\n",
      "  score_df = score_df.append({\n"
     ]
    },
    {
     "name": "stdout",
     "output_type": "stream",
     "text": [
      "QA20CAPR-0061 高さ170cmと250cmの2本の鉄棒を使用する、女子のみで行われる体操競技は何でしょう? 床体操です。\n",
      "\n",
      "sampled: ['ゆか。', '平均台です。', 'ゆか競技です。', 'ゆか。', 'ゆか(団体)です。']\n",
      "r_sentences\n",
      "['床体操です']\n",
      "床体操です\n"
     ]
    },
    {
     "name": "stderr",
     "output_type": "stream",
     "text": [
      "Some weights of the model checkpoint at bert-base-multilingual-cased were not used when initializing BertModel: ['cls.predictions.transform.dense.weight', 'cls.seq_relationship.weight', 'cls.predictions.transform.LayerNorm.weight', 'cls.predictions.bias', 'cls.seq_relationship.bias', 'cls.predictions.transform.dense.bias', 'cls.predictions.transform.LayerNorm.bias']\n",
      "- This IS expected if you are initializing BertModel from the checkpoint of a model trained on another task or with another architecture (e.g. initializing a BertForSequenceClassification model from a BertForPreTraining model).\n",
      "- This IS NOT expected if you are initializing BertModel from the checkpoint of a model that you expect to be exactly identical (initializing a BertForSequenceClassification model from a BertForSequenceClassification model).\n",
      "Warning: Baseline not Found for bert-base-multilingual-cased on ja at /home/ryoryon66/.pyenv/versions/3.9.8/lib/python3.9/site-packages/bert_score/rescale_baseline/ja/bert-base-multilingual-cased.tsv\n",
      "Some weights of the model checkpoint at bert-base-multilingual-cased were not used when initializing BertModel: ['cls.predictions.transform.dense.weight', 'cls.seq_relationship.weight', 'cls.predictions.transform.LayerNorm.weight', 'cls.predictions.bias', 'cls.seq_relationship.bias', 'cls.predictions.transform.dense.bias', 'cls.predictions.transform.LayerNorm.bias']\n",
      "- This IS expected if you are initializing BertModel from the checkpoint of a model trained on another task or with another architecture (e.g. initializing a BertForSequenceClassification model from a BertForPreTraining model).\n",
      "- This IS NOT expected if you are initializing BertModel from the checkpoint of a model that you expect to be exactly identical (initializing a BertForSequenceClassification model from a BertForSequenceClassification model).\n",
      "Warning: Baseline not Found for bert-base-multilingual-cased on ja at /home/ryoryon66/.pyenv/versions/3.9.8/lib/python3.9/site-packages/bert_score/rescale_baseline/ja/bert-base-multilingual-cased.tsv\n",
      "Some weights of the model checkpoint at bert-base-multilingual-cased were not used when initializing BertModel: ['cls.predictions.transform.dense.weight', 'cls.seq_relationship.weight', 'cls.predictions.transform.LayerNorm.weight', 'cls.predictions.bias', 'cls.seq_relationship.bias', 'cls.predictions.transform.dense.bias', 'cls.predictions.transform.LayerNorm.bias']\n",
      "- This IS expected if you are initializing BertModel from the checkpoint of a model trained on another task or with another architecture (e.g. initializing a BertForSequenceClassification model from a BertForPreTraining model).\n",
      "- This IS NOT expected if you are initializing BertModel from the checkpoint of a model that you expect to be exactly identical (initializing a BertForSequenceClassification model from a BertForSequenceClassification model).\n",
      "Warning: Baseline not Found for bert-base-multilingual-cased on ja at /home/ryoryon66/.pyenv/versions/3.9.8/lib/python3.9/site-packages/bert_score/rescale_baseline/ja/bert-base-multilingual-cased.tsv\n",
      "Some weights of the model checkpoint at bert-base-multilingual-cased were not used when initializing BertModel: ['cls.predictions.transform.dense.weight', 'cls.seq_relationship.weight', 'cls.predictions.transform.LayerNorm.weight', 'cls.predictions.bias', 'cls.seq_relationship.bias', 'cls.predictions.transform.dense.bias', 'cls.predictions.transform.LayerNorm.bias']\n",
      "- This IS expected if you are initializing BertModel from the checkpoint of a model trained on another task or with another architecture (e.g. initializing a BertForSequenceClassification model from a BertForPreTraining model).\n",
      "- This IS NOT expected if you are initializing BertModel from the checkpoint of a model that you expect to be exactly identical (initializing a BertForSequenceClassification model from a BertForSequenceClassification model).\n",
      "Warning: Baseline not Found for bert-base-multilingual-cased on ja at /home/ryoryon66/.pyenv/versions/3.9.8/lib/python3.9/site-packages/bert_score/rescale_baseline/ja/bert-base-multilingual-cased.tsv\n",
      "Some weights of the model checkpoint at bert-base-multilingual-cased were not used when initializing BertModel: ['cls.predictions.transform.dense.weight', 'cls.seq_relationship.weight', 'cls.predictions.transform.LayerNorm.weight', 'cls.predictions.bias', 'cls.seq_relationship.bias', 'cls.predictions.transform.dense.bias', 'cls.predictions.transform.LayerNorm.bias']\n",
      "- This IS expected if you are initializing BertModel from the checkpoint of a model trained on another task or with another architecture (e.g. initializing a BertForSequenceClassification model from a BertForPreTraining model).\n",
      "- This IS NOT expected if you are initializing BertModel from the checkpoint of a model that you expect to be exactly identical (initializing a BertForSequenceClassification model from a BertForSequenceClassification model).\n"
     ]
    },
    {
     "name": "stdout",
     "output_type": "stream",
     "text": [
      "hallucination pr_scores: [0.2595452666282654]\n",
      "hallucination re_scores: [0.261905312538147]\n",
      "hallucination f1_scores: [0.26120475530624393]\n",
      "processing 31 / 100\n"
     ]
    },
    {
     "name": "stderr",
     "output_type": "stream",
     "text": [
      "Warning: Baseline not Found for bert-base-multilingual-cased on ja at /home/ryoryon66/.pyenv/versions/3.9.8/lib/python3.9/site-packages/bert_score/rescale_baseline/ja/bert-base-multilingual-cased.tsv\n",
      "/tmp/ipykernel_28939/1749957329.py:18: FutureWarning: The frame.append method is deprecated and will be removed from pandas in a future version. Use pandas.concat instead.\n",
      "  score_df = score_df.append({\n"
     ]
    },
    {
     "name": "stdout",
     "output_type": "stream",
     "text": [
      "QA20CAPR-0063 「満月」を意味する名前がついた、もち米を焼いた皮に餡を詰めた和菓子は何でしょう? 月餅です。\n",
      "\n",
      "sampled: ['お月見団子。', '月餅です。', '月餅(げっちん)。', '月餅(げっちん)。', '月餅 台湾や中国の北部地域では人気のある伝統的なお菓子です。']\n",
      "r_sentences\n",
      "['月餅です']\n",
      "月餅です\n"
     ]
    },
    {
     "name": "stderr",
     "output_type": "stream",
     "text": [
      "Some weights of the model checkpoint at bert-base-multilingual-cased were not used when initializing BertModel: ['cls.predictions.transform.dense.weight', 'cls.seq_relationship.weight', 'cls.predictions.transform.LayerNorm.weight', 'cls.predictions.bias', 'cls.seq_relationship.bias', 'cls.predictions.transform.dense.bias', 'cls.predictions.transform.LayerNorm.bias']\n",
      "- This IS expected if you are initializing BertModel from the checkpoint of a model trained on another task or with another architecture (e.g. initializing a BertForSequenceClassification model from a BertForPreTraining model).\n",
      "- This IS NOT expected if you are initializing BertModel from the checkpoint of a model that you expect to be exactly identical (initializing a BertForSequenceClassification model from a BertForSequenceClassification model).\n",
      "Warning: Baseline not Found for bert-base-multilingual-cased on ja at /home/ryoryon66/.pyenv/versions/3.9.8/lib/python3.9/site-packages/bert_score/rescale_baseline/ja/bert-base-multilingual-cased.tsv\n",
      "Some weights of the model checkpoint at bert-base-multilingual-cased were not used when initializing BertModel: ['cls.predictions.transform.dense.weight', 'cls.seq_relationship.weight', 'cls.predictions.transform.LayerNorm.weight', 'cls.predictions.bias', 'cls.seq_relationship.bias', 'cls.predictions.transform.dense.bias', 'cls.predictions.transform.LayerNorm.bias']\n",
      "- This IS expected if you are initializing BertModel from the checkpoint of a model trained on another task or with another architecture (e.g. initializing a BertForSequenceClassification model from a BertForPreTraining model).\n",
      "- This IS NOT expected if you are initializing BertModel from the checkpoint of a model that you expect to be exactly identical (initializing a BertForSequenceClassification model from a BertForSequenceClassification model).\n",
      "Warning: Baseline not Found for bert-base-multilingual-cased on ja at /home/ryoryon66/.pyenv/versions/3.9.8/lib/python3.9/site-packages/bert_score/rescale_baseline/ja/bert-base-multilingual-cased.tsv\n",
      "Some weights of the model checkpoint at bert-base-multilingual-cased were not used when initializing BertModel: ['cls.predictions.transform.dense.weight', 'cls.seq_relationship.weight', 'cls.predictions.transform.LayerNorm.weight', 'cls.predictions.bias', 'cls.seq_relationship.bias', 'cls.predictions.transform.dense.bias', 'cls.predictions.transform.LayerNorm.bias']\n",
      "- This IS expected if you are initializing BertModel from the checkpoint of a model trained on another task or with another architecture (e.g. initializing a BertForSequenceClassification model from a BertForPreTraining model).\n",
      "- This IS NOT expected if you are initializing BertModel from the checkpoint of a model that you expect to be exactly identical (initializing a BertForSequenceClassification model from a BertForSequenceClassification model).\n",
      "Warning: Baseline not Found for bert-base-multilingual-cased on ja at /home/ryoryon66/.pyenv/versions/3.9.8/lib/python3.9/site-packages/bert_score/rescale_baseline/ja/bert-base-multilingual-cased.tsv\n",
      "Some weights of the model checkpoint at bert-base-multilingual-cased were not used when initializing BertModel: ['cls.predictions.transform.dense.weight', 'cls.seq_relationship.weight', 'cls.predictions.transform.LayerNorm.weight', 'cls.predictions.bias', 'cls.seq_relationship.bias', 'cls.predictions.transform.dense.bias', 'cls.predictions.transform.LayerNorm.bias']\n",
      "- This IS expected if you are initializing BertModel from the checkpoint of a model trained on another task or with another architecture (e.g. initializing a BertForSequenceClassification model from a BertForPreTraining model).\n",
      "- This IS NOT expected if you are initializing BertModel from the checkpoint of a model that you expect to be exactly identical (initializing a BertForSequenceClassification model from a BertForSequenceClassification model).\n",
      "Warning: Baseline not Found for bert-base-multilingual-cased on ja at /home/ryoryon66/.pyenv/versions/3.9.8/lib/python3.9/site-packages/bert_score/rescale_baseline/ja/bert-base-multilingual-cased.tsv\n",
      "Some weights of the model checkpoint at bert-base-multilingual-cased were not used when initializing BertModel: ['cls.predictions.transform.dense.weight', 'cls.seq_relationship.weight', 'cls.predictions.transform.LayerNorm.weight', 'cls.predictions.bias', 'cls.seq_relationship.bias', 'cls.predictions.transform.dense.bias', 'cls.predictions.transform.LayerNorm.bias']\n",
      "- This IS expected if you are initializing BertModel from the checkpoint of a model trained on another task or with another architecture (e.g. initializing a BertForSequenceClassification model from a BertForPreTraining model).\n",
      "- This IS NOT expected if you are initializing BertModel from the checkpoint of a model that you expect to be exactly identical (initializing a BertForSequenceClassification model from a BertForSequenceClassification model).\n"
     ]
    },
    {
     "name": "stdout",
     "output_type": "stream",
     "text": [
      "hallucination pr_scores: [0.17529840469360347]\n",
      "hallucination re_scores: [0.2577724695205688]\n",
      "hallucination f1_scores: [0.22079513072967524]\n",
      "processing 32 / 100\n"
     ]
    },
    {
     "name": "stderr",
     "output_type": "stream",
     "text": [
      "Warning: Baseline not Found for bert-base-multilingual-cased on ja at /home/ryoryon66/.pyenv/versions/3.9.8/lib/python3.9/site-packages/bert_score/rescale_baseline/ja/bert-base-multilingual-cased.tsv\n",
      "/tmp/ipykernel_28939/1749957329.py:18: FutureWarning: The frame.append method is deprecated and will be removed from pandas in a future version. Use pandas.concat instead.\n",
      "  score_df = score_df.append({\n"
     ]
    },
    {
     "name": "stdout",
     "output_type": "stream",
     "text": [
      "QA20CAPR-0065 一段進めた香車の下に王を入れて、周りを金や銀で守り固める将棋の戦法を、ある動物の名前をとって何というでしょう? 象牙将棋」と言います。\n",
      "\n",
      "sampled: ['象将棋」と言います。', '象戦法(ぞうせんほう)と呼びます。', '象牙将棋」と呼びます。', '象将棋」といいます。', '龍飛車」と言います。']\n",
      "r_sentences\n",
      "['象牙将棋」と言います']\n",
      "象牙将棋」と言います\n"
     ]
    },
    {
     "name": "stderr",
     "output_type": "stream",
     "text": [
      "Some weights of the model checkpoint at bert-base-multilingual-cased were not used when initializing BertModel: ['cls.predictions.transform.dense.weight', 'cls.seq_relationship.weight', 'cls.predictions.transform.LayerNorm.weight', 'cls.predictions.bias', 'cls.seq_relationship.bias', 'cls.predictions.transform.dense.bias', 'cls.predictions.transform.LayerNorm.bias']\n",
      "- This IS expected if you are initializing BertModel from the checkpoint of a model trained on another task or with another architecture (e.g. initializing a BertForSequenceClassification model from a BertForPreTraining model).\n",
      "- This IS NOT expected if you are initializing BertModel from the checkpoint of a model that you expect to be exactly identical (initializing a BertForSequenceClassification model from a BertForSequenceClassification model).\n",
      "Warning: Baseline not Found for bert-base-multilingual-cased on ja at /home/ryoryon66/.pyenv/versions/3.9.8/lib/python3.9/site-packages/bert_score/rescale_baseline/ja/bert-base-multilingual-cased.tsv\n",
      "Some weights of the model checkpoint at bert-base-multilingual-cased were not used when initializing BertModel: ['cls.predictions.transform.dense.weight', 'cls.seq_relationship.weight', 'cls.predictions.transform.LayerNorm.weight', 'cls.predictions.bias', 'cls.seq_relationship.bias', 'cls.predictions.transform.dense.bias', 'cls.predictions.transform.LayerNorm.bias']\n",
      "- This IS expected if you are initializing BertModel from the checkpoint of a model trained on another task or with another architecture (e.g. initializing a BertForSequenceClassification model from a BertForPreTraining model).\n",
      "- This IS NOT expected if you are initializing BertModel from the checkpoint of a model that you expect to be exactly identical (initializing a BertForSequenceClassification model from a BertForSequenceClassification model).\n",
      "Warning: Baseline not Found for bert-base-multilingual-cased on ja at /home/ryoryon66/.pyenv/versions/3.9.8/lib/python3.9/site-packages/bert_score/rescale_baseline/ja/bert-base-multilingual-cased.tsv\n",
      "Some weights of the model checkpoint at bert-base-multilingual-cased were not used when initializing BertModel: ['cls.predictions.transform.dense.weight', 'cls.seq_relationship.weight', 'cls.predictions.transform.LayerNorm.weight', 'cls.predictions.bias', 'cls.seq_relationship.bias', 'cls.predictions.transform.dense.bias', 'cls.predictions.transform.LayerNorm.bias']\n",
      "- This IS expected if you are initializing BertModel from the checkpoint of a model trained on another task or with another architecture (e.g. initializing a BertForSequenceClassification model from a BertForPreTraining model).\n",
      "- This IS NOT expected if you are initializing BertModel from the checkpoint of a model that you expect to be exactly identical (initializing a BertForSequenceClassification model from a BertForSequenceClassification model).\n",
      "Warning: Baseline not Found for bert-base-multilingual-cased on ja at /home/ryoryon66/.pyenv/versions/3.9.8/lib/python3.9/site-packages/bert_score/rescale_baseline/ja/bert-base-multilingual-cased.tsv\n",
      "Some weights of the model checkpoint at bert-base-multilingual-cased were not used when initializing BertModel: ['cls.predictions.transform.dense.weight', 'cls.seq_relationship.weight', 'cls.predictions.transform.LayerNorm.weight', 'cls.predictions.bias', 'cls.seq_relationship.bias', 'cls.predictions.transform.dense.bias', 'cls.predictions.transform.LayerNorm.bias']\n",
      "- This IS expected if you are initializing BertModel from the checkpoint of a model trained on another task or with another architecture (e.g. initializing a BertForSequenceClassification model from a BertForPreTraining model).\n",
      "- This IS NOT expected if you are initializing BertModel from the checkpoint of a model that you expect to be exactly identical (initializing a BertForSequenceClassification model from a BertForSequenceClassification model).\n",
      "Warning: Baseline not Found for bert-base-multilingual-cased on ja at /home/ryoryon66/.pyenv/versions/3.9.8/lib/python3.9/site-packages/bert_score/rescale_baseline/ja/bert-base-multilingual-cased.tsv\n",
      "Some weights of the model checkpoint at bert-base-multilingual-cased were not used when initializing BertModel: ['cls.predictions.transform.dense.weight', 'cls.seq_relationship.weight', 'cls.predictions.transform.LayerNorm.weight', 'cls.predictions.bias', 'cls.seq_relationship.bias', 'cls.predictions.transform.dense.bias', 'cls.predictions.transform.LayerNorm.bias']\n",
      "- This IS expected if you are initializing BertModel from the checkpoint of a model trained on another task or with another architecture (e.g. initializing a BertForSequenceClassification model from a BertForPreTraining model).\n",
      "- This IS NOT expected if you are initializing BertModel from the checkpoint of a model that you expect to be exactly identical (initializing a BertForSequenceClassification model from a BertForSequenceClassification model).\n"
     ]
    },
    {
     "name": "stdout",
     "output_type": "stream",
     "text": [
      "hallucination pr_scores: [0.09998610019683835]\n",
      "hallucination re_scores: [0.11109496355056758]\n",
      "hallucination f1_scores: [0.10644763708114618]\n",
      "processing 33 / 100\n"
     ]
    },
    {
     "name": "stderr",
     "output_type": "stream",
     "text": [
      "Warning: Baseline not Found for bert-base-multilingual-cased on ja at /home/ryoryon66/.pyenv/versions/3.9.8/lib/python3.9/site-packages/bert_score/rescale_baseline/ja/bert-base-multilingual-cased.tsv\n",
      "/tmp/ipykernel_28939/1749957329.py:18: FutureWarning: The frame.append method is deprecated and will be removed from pandas in a future version. Use pandas.concat instead.\n",
      "  score_df = score_df.append({\n"
     ]
    },
    {
     "name": "stdout",
     "output_type": "stream",
     "text": [
      "QA20CAPR-0067 水平型、こま型などの種類がある、太陽の方向によってできる影を利用した時計は何でしょう? 振り子時計です。\n",
      "\n",
      "sampled: ['太陽高度計(Solarium)。 https://www.amazon.com/Southern-Sky-Light-time-master/dp/043134206 。 水平型は、北向きに30度、南向きに45度の影ができる角度を示します。 こま型は、北向きに15度、南向きに20度の影ができます。 太陽高度計は、時計やその他の機器の精度を向上させるのに非常に重要です。 Solariumのような優れたモデルには、校正機能があり、基準となる表面に対して水平', 'クロックタイマーです。太陽が東から出る場合、時計は北向きに動きます。西から出る場合は南向きになります。これにより、影が時計の進行方向に投影され、その影が時間とともに移動します。', '太陽光パネルクロック。', 'セイコーの「太陽光タイド」です。', '太陽時計と呼ばれています。']\n",
      "r_sentences\n",
      "['振り子時計です']\n",
      "振り子時計です\n"
     ]
    },
    {
     "name": "stderr",
     "output_type": "stream",
     "text": [
      "Some weights of the model checkpoint at bert-base-multilingual-cased were not used when initializing BertModel: ['cls.predictions.transform.dense.weight', 'cls.seq_relationship.weight', 'cls.predictions.transform.LayerNorm.weight', 'cls.predictions.bias', 'cls.seq_relationship.bias', 'cls.predictions.transform.dense.bias', 'cls.predictions.transform.LayerNorm.bias']\n",
      "- This IS expected if you are initializing BertModel from the checkpoint of a model trained on another task or with another architecture (e.g. initializing a BertForSequenceClassification model from a BertForPreTraining model).\n",
      "- This IS NOT expected if you are initializing BertModel from the checkpoint of a model that you expect to be exactly identical (initializing a BertForSequenceClassification model from a BertForSequenceClassification model).\n",
      "Warning: Baseline not Found for bert-base-multilingual-cased on ja at /home/ryoryon66/.pyenv/versions/3.9.8/lib/python3.9/site-packages/bert_score/rescale_baseline/ja/bert-base-multilingual-cased.tsv\n",
      "Some weights of the model checkpoint at bert-base-multilingual-cased were not used when initializing BertModel: ['cls.predictions.transform.dense.weight', 'cls.seq_relationship.weight', 'cls.predictions.transform.LayerNorm.weight', 'cls.predictions.bias', 'cls.seq_relationship.bias', 'cls.predictions.transform.dense.bias', 'cls.predictions.transform.LayerNorm.bias']\n",
      "- This IS expected if you are initializing BertModel from the checkpoint of a model trained on another task or with another architecture (e.g. initializing a BertForSequenceClassification model from a BertForPreTraining model).\n",
      "- This IS NOT expected if you are initializing BertModel from the checkpoint of a model that you expect to be exactly identical (initializing a BertForSequenceClassification model from a BertForSequenceClassification model).\n",
      "Warning: Baseline not Found for bert-base-multilingual-cased on ja at /home/ryoryon66/.pyenv/versions/3.9.8/lib/python3.9/site-packages/bert_score/rescale_baseline/ja/bert-base-multilingual-cased.tsv\n",
      "Some weights of the model checkpoint at bert-base-multilingual-cased were not used when initializing BertModel: ['cls.predictions.transform.dense.weight', 'cls.seq_relationship.weight', 'cls.predictions.transform.LayerNorm.weight', 'cls.predictions.bias', 'cls.seq_relationship.bias', 'cls.predictions.transform.dense.bias', 'cls.predictions.transform.LayerNorm.bias']\n",
      "- This IS expected if you are initializing BertModel from the checkpoint of a model trained on another task or with another architecture (e.g. initializing a BertForSequenceClassification model from a BertForPreTraining model).\n",
      "- This IS NOT expected if you are initializing BertModel from the checkpoint of a model that you expect to be exactly identical (initializing a BertForSequenceClassification model from a BertForSequenceClassification model).\n",
      "Warning: Baseline not Found for bert-base-multilingual-cased on ja at /home/ryoryon66/.pyenv/versions/3.9.8/lib/python3.9/site-packages/bert_score/rescale_baseline/ja/bert-base-multilingual-cased.tsv\n",
      "Some weights of the model checkpoint at bert-base-multilingual-cased were not used when initializing BertModel: ['cls.predictions.transform.dense.weight', 'cls.seq_relationship.weight', 'cls.predictions.transform.LayerNorm.weight', 'cls.predictions.bias', 'cls.seq_relationship.bias', 'cls.predictions.transform.dense.bias', 'cls.predictions.transform.LayerNorm.bias']\n",
      "- This IS expected if you are initializing BertModel from the checkpoint of a model trained on another task or with another architecture (e.g. initializing a BertForSequenceClassification model from a BertForPreTraining model).\n",
      "- This IS NOT expected if you are initializing BertModel from the checkpoint of a model that you expect to be exactly identical (initializing a BertForSequenceClassification model from a BertForSequenceClassification model).\n",
      "Warning: Baseline not Found for bert-base-multilingual-cased on ja at /home/ryoryon66/.pyenv/versions/3.9.8/lib/python3.9/site-packages/bert_score/rescale_baseline/ja/bert-base-multilingual-cased.tsv\n",
      "Some weights of the model checkpoint at bert-base-multilingual-cased were not used when initializing BertModel: ['cls.predictions.transform.dense.weight', 'cls.seq_relationship.weight', 'cls.predictions.transform.LayerNorm.weight', 'cls.predictions.bias', 'cls.seq_relationship.bias', 'cls.predictions.transform.dense.bias', 'cls.predictions.transform.LayerNorm.bias']\n",
      "- This IS expected if you are initializing BertModel from the checkpoint of a model trained on another task or with another architecture (e.g. initializing a BertForSequenceClassification model from a BertForPreTraining model).\n",
      "- This IS NOT expected if you are initializing BertModel from the checkpoint of a model that you expect to be exactly identical (initializing a BertForSequenceClassification model from a BertForSequenceClassification model).\n"
     ]
    },
    {
     "name": "stdout",
     "output_type": "stream",
     "text": [
      "hallucination pr_scores: [0.28585047721862794]\n",
      "hallucination re_scores: [0.29759300947189327]\n",
      "hallucination f1_scores: [0.29801561832427986]\n",
      "processing 34 / 100\n"
     ]
    },
    {
     "name": "stderr",
     "output_type": "stream",
     "text": [
      "Warning: Baseline not Found for bert-base-multilingual-cased on ja at /home/ryoryon66/.pyenv/versions/3.9.8/lib/python3.9/site-packages/bert_score/rescale_baseline/ja/bert-base-multilingual-cased.tsv\n",
      "/tmp/ipykernel_28939/1749957329.py:18: FutureWarning: The frame.append method is deprecated and will be removed from pandas in a future version. Use pandas.concat instead.\n",
      "  score_df = score_df.append({\n"
     ]
    },
    {
     "name": "stdout",
     "output_type": "stream",
     "text": [
      "QA20CAPR-0069 フランス語で「稲妻」という意味がある、細長いシュークリームにチョコレートをかけたお菓子は何でしょう? ガレット・デ・ロワ フランス語で「稲妻」という意味がある、細長いシュークリームにチョコレートをかけたお菓子はガレット・デ・ロワです。\n",
      "\n",
      "sampled: ['クレーム・デ・ラ・レザン・ド・ノエル フランス語で「稲妻」という意味があります。 クレーム・デ・ラ・レザン・ド・ノエルは、フランス全土やロシアなど、世界中の多くの国々で人気のあるショートケーキです。', 'クレーム・パティシエール フランス語で「クレーム・パティシエール」とは、シュー生地に詰め物とガナッシュを混ぜ合わせたケーキの一種です。 クレーム・パティシエールを作るには、まず小麦粉、卵、牛乳を混ぜ合わせます。その後、砂糖を加えて混ぜ合わせます。その後、溶かしたバターを加えて混ぜ合わせます。最後に、ココアパウダーを加えて混ぜ合わせます。', 'クレーム・デ・ラ・パティスリー(cette de la pâte)。フランス人の家庭料理で、フランスの家庭菓子としては最も人気のあるものの一つです。このお菓子を作るには、まず小麦粉と卵を混ぜ合わせます。その後、溶かしたバターを加えて生地を作ります。生地ができたら、ロール状に成形します。最後に砂糖と牛乳を加え、生地を渦巻き状に流し入れます。その後、生地が完全に固まるまで焼くだけです。', 'シャンティ・デュ・フリュイ・コンフィチュール。 この料理を作るには、まず小麦粉、卵、砂糖を混ぜ合わせます。その後、溶かしたバターを加えて生地を作ります。生地が十分に膨らんだら、冷蔵庫から出したばかりの冷たい状態で作業します。次に、生地に溶かしたチョコレートをかけます。', 'コルヌ・コキッシュ フランスの菓子店『ラデュレ』が販売する「コルヌ・コキッシュ」です。 長さは19〜22cm程度で、中身はカスタードと生クリームの2層になっています。 価格は1つあたり30〜35ドル程度です。']\n",
      "r_sentences\n",
      "['ガレット・デ・ロワ フランス語で「稲妻」という意味がある、細長いシュークリームにチョコレートをかけたお菓子はガレット・デ・ロワです']\n",
      "ガレット・デ・ロワ フランス語で「稲妻」という意味がある、細長いシュークリームにチョコレートをかけたお菓子はガレット・デ・ロワです\n"
     ]
    },
    {
     "name": "stderr",
     "output_type": "stream",
     "text": [
      "Some weights of the model checkpoint at bert-base-multilingual-cased were not used when initializing BertModel: ['cls.predictions.transform.dense.weight', 'cls.seq_relationship.weight', 'cls.predictions.transform.LayerNorm.weight', 'cls.predictions.bias', 'cls.seq_relationship.bias', 'cls.predictions.transform.dense.bias', 'cls.predictions.transform.LayerNorm.bias']\n",
      "- This IS expected if you are initializing BertModel from the checkpoint of a model trained on another task or with another architecture (e.g. initializing a BertForSequenceClassification model from a BertForPreTraining model).\n",
      "- This IS NOT expected if you are initializing BertModel from the checkpoint of a model that you expect to be exactly identical (initializing a BertForSequenceClassification model from a BertForSequenceClassification model).\n",
      "Warning: Baseline not Found for bert-base-multilingual-cased on ja at /home/ryoryon66/.pyenv/versions/3.9.8/lib/python3.9/site-packages/bert_score/rescale_baseline/ja/bert-base-multilingual-cased.tsv\n",
      "Some weights of the model checkpoint at bert-base-multilingual-cased were not used when initializing BertModel: ['cls.predictions.transform.dense.weight', 'cls.seq_relationship.weight', 'cls.predictions.transform.LayerNorm.weight', 'cls.predictions.bias', 'cls.seq_relationship.bias', 'cls.predictions.transform.dense.bias', 'cls.predictions.transform.LayerNorm.bias']\n",
      "- This IS expected if you are initializing BertModel from the checkpoint of a model trained on another task or with another architecture (e.g. initializing a BertForSequenceClassification model from a BertForPreTraining model).\n",
      "- This IS NOT expected if you are initializing BertModel from the checkpoint of a model that you expect to be exactly identical (initializing a BertForSequenceClassification model from a BertForSequenceClassification model).\n",
      "Warning: Baseline not Found for bert-base-multilingual-cased on ja at /home/ryoryon66/.pyenv/versions/3.9.8/lib/python3.9/site-packages/bert_score/rescale_baseline/ja/bert-base-multilingual-cased.tsv\n",
      "Some weights of the model checkpoint at bert-base-multilingual-cased were not used when initializing BertModel: ['cls.predictions.transform.dense.weight', 'cls.seq_relationship.weight', 'cls.predictions.transform.LayerNorm.weight', 'cls.predictions.bias', 'cls.seq_relationship.bias', 'cls.predictions.transform.dense.bias', 'cls.predictions.transform.LayerNorm.bias']\n",
      "- This IS expected if you are initializing BertModel from the checkpoint of a model trained on another task or with another architecture (e.g. initializing a BertForSequenceClassification model from a BertForPreTraining model).\n",
      "- This IS NOT expected if you are initializing BertModel from the checkpoint of a model that you expect to be exactly identical (initializing a BertForSequenceClassification model from a BertForSequenceClassification model).\n",
      "Warning: Baseline not Found for bert-base-multilingual-cased on ja at /home/ryoryon66/.pyenv/versions/3.9.8/lib/python3.9/site-packages/bert_score/rescale_baseline/ja/bert-base-multilingual-cased.tsv\n",
      "Some weights of the model checkpoint at bert-base-multilingual-cased were not used when initializing BertModel: ['cls.predictions.transform.dense.weight', 'cls.seq_relationship.weight', 'cls.predictions.transform.LayerNorm.weight', 'cls.predictions.bias', 'cls.seq_relationship.bias', 'cls.predictions.transform.dense.bias', 'cls.predictions.transform.LayerNorm.bias']\n",
      "- This IS expected if you are initializing BertModel from the checkpoint of a model trained on another task or with another architecture (e.g. initializing a BertForSequenceClassification model from a BertForPreTraining model).\n",
      "- This IS NOT expected if you are initializing BertModel from the checkpoint of a model that you expect to be exactly identical (initializing a BertForSequenceClassification model from a BertForSequenceClassification model).\n",
      "Warning: Baseline not Found for bert-base-multilingual-cased on ja at /home/ryoryon66/.pyenv/versions/3.9.8/lib/python3.9/site-packages/bert_score/rescale_baseline/ja/bert-base-multilingual-cased.tsv\n",
      "Some weights of the model checkpoint at bert-base-multilingual-cased were not used when initializing BertModel: ['cls.predictions.transform.dense.weight', 'cls.seq_relationship.weight', 'cls.predictions.transform.LayerNorm.weight', 'cls.predictions.bias', 'cls.seq_relationship.bias', 'cls.predictions.transform.dense.bias', 'cls.predictions.transform.LayerNorm.bias']\n",
      "- This IS expected if you are initializing BertModel from the checkpoint of a model trained on another task or with another architecture (e.g. initializing a BertForSequenceClassification model from a BertForPreTraining model).\n",
      "- This IS NOT expected if you are initializing BertModel from the checkpoint of a model that you expect to be exactly identical (initializing a BertForSequenceClassification model from a BertForSequenceClassification model).\n"
     ]
    },
    {
     "name": "stdout",
     "output_type": "stream",
     "text": [
      "hallucination pr_scores: [0.32575815916061396]\n",
      "hallucination re_scores: [0.2629891872406006]\n",
      "hallucination f1_scores: [0.29637117385864264]\n",
      "processing 35 / 100\n"
     ]
    },
    {
     "name": "stderr",
     "output_type": "stream",
     "text": [
      "Warning: Baseline not Found for bert-base-multilingual-cased on ja at /home/ryoryon66/.pyenv/versions/3.9.8/lib/python3.9/site-packages/bert_score/rescale_baseline/ja/bert-base-multilingual-cased.tsv\n",
      "/tmp/ipykernel_28939/1749957329.py:18: FutureWarning: The frame.append method is deprecated and will be removed from pandas in a future version. Use pandas.concat instead.\n",
      "  score_df = score_df.append({\n"
     ]
    },
    {
     "name": "stdout",
     "output_type": "stream",
     "text": [
      "QA20CAPR-0071 サッカーで、前線の選手が敵を背にした状態で味方からのパスを貰い、攻撃の起点となるプレーを何というでしょう? クロスオーバープレー(cross-over)\n",
      "sampled: ['ゴールキック・リターンタッチダウンパス', 'バックパス(back-path)。', 'ランパード・ダイレクト・ゴール(Ranchard First-Goal)。', 'フォロースルー', 'スルーパス']\n",
      "r_sentences\n",
      "['クロスオーバープレー(cross-over)']\n",
      "クロスオーバープレー(cross-over)\n"
     ]
    },
    {
     "name": "stderr",
     "output_type": "stream",
     "text": [
      "Some weights of the model checkpoint at bert-base-multilingual-cased were not used when initializing BertModel: ['cls.predictions.transform.dense.weight', 'cls.seq_relationship.weight', 'cls.predictions.transform.LayerNorm.weight', 'cls.predictions.bias', 'cls.seq_relationship.bias', 'cls.predictions.transform.dense.bias', 'cls.predictions.transform.LayerNorm.bias']\n",
      "- This IS expected if you are initializing BertModel from the checkpoint of a model trained on another task or with another architecture (e.g. initializing a BertForSequenceClassification model from a BertForPreTraining model).\n",
      "- This IS NOT expected if you are initializing BertModel from the checkpoint of a model that you expect to be exactly identical (initializing a BertForSequenceClassification model from a BertForSequenceClassification model).\n",
      "Warning: Baseline not Found for bert-base-multilingual-cased on ja at /home/ryoryon66/.pyenv/versions/3.9.8/lib/python3.9/site-packages/bert_score/rescale_baseline/ja/bert-base-multilingual-cased.tsv\n",
      "Some weights of the model checkpoint at bert-base-multilingual-cased were not used when initializing BertModel: ['cls.predictions.transform.dense.weight', 'cls.seq_relationship.weight', 'cls.predictions.transform.LayerNorm.weight', 'cls.predictions.bias', 'cls.seq_relationship.bias', 'cls.predictions.transform.dense.bias', 'cls.predictions.transform.LayerNorm.bias']\n",
      "- This IS expected if you are initializing BertModel from the checkpoint of a model trained on another task or with another architecture (e.g. initializing a BertForSequenceClassification model from a BertForPreTraining model).\n",
      "- This IS NOT expected if you are initializing BertModel from the checkpoint of a model that you expect to be exactly identical (initializing a BertForSequenceClassification model from a BertForSequenceClassification model).\n",
      "Warning: Baseline not Found for bert-base-multilingual-cased on ja at /home/ryoryon66/.pyenv/versions/3.9.8/lib/python3.9/site-packages/bert_score/rescale_baseline/ja/bert-base-multilingual-cased.tsv\n",
      "Some weights of the model checkpoint at bert-base-multilingual-cased were not used when initializing BertModel: ['cls.predictions.transform.dense.weight', 'cls.seq_relationship.weight', 'cls.predictions.transform.LayerNorm.weight', 'cls.predictions.bias', 'cls.seq_relationship.bias', 'cls.predictions.transform.dense.bias', 'cls.predictions.transform.LayerNorm.bias']\n",
      "- This IS expected if you are initializing BertModel from the checkpoint of a model trained on another task or with another architecture (e.g. initializing a BertForSequenceClassification model from a BertForPreTraining model).\n",
      "- This IS NOT expected if you are initializing BertModel from the checkpoint of a model that you expect to be exactly identical (initializing a BertForSequenceClassification model from a BertForSequenceClassification model).\n",
      "Warning: Baseline not Found for bert-base-multilingual-cased on ja at /home/ryoryon66/.pyenv/versions/3.9.8/lib/python3.9/site-packages/bert_score/rescale_baseline/ja/bert-base-multilingual-cased.tsv\n",
      "Some weights of the model checkpoint at bert-base-multilingual-cased were not used when initializing BertModel: ['cls.predictions.transform.dense.weight', 'cls.seq_relationship.weight', 'cls.predictions.transform.LayerNorm.weight', 'cls.predictions.bias', 'cls.seq_relationship.bias', 'cls.predictions.transform.dense.bias', 'cls.predictions.transform.LayerNorm.bias']\n",
      "- This IS expected if you are initializing BertModel from the checkpoint of a model trained on another task or with another architecture (e.g. initializing a BertForSequenceClassification model from a BertForPreTraining model).\n",
      "- This IS NOT expected if you are initializing BertModel from the checkpoint of a model that you expect to be exactly identical (initializing a BertForSequenceClassification model from a BertForSequenceClassification model).\n",
      "Warning: Baseline not Found for bert-base-multilingual-cased on ja at /home/ryoryon66/.pyenv/versions/3.9.8/lib/python3.9/site-packages/bert_score/rescale_baseline/ja/bert-base-multilingual-cased.tsv\n",
      "Some weights of the model checkpoint at bert-base-multilingual-cased were not used when initializing BertModel: ['cls.predictions.transform.dense.weight', 'cls.seq_relationship.weight', 'cls.predictions.transform.LayerNorm.weight', 'cls.predictions.bias', 'cls.seq_relationship.bias', 'cls.predictions.transform.dense.bias', 'cls.predictions.transform.LayerNorm.bias']\n",
      "- This IS expected if you are initializing BertModel from the checkpoint of a model trained on another task or with another architecture (e.g. initializing a BertForSequenceClassification model from a BertForPreTraining model).\n",
      "- This IS NOT expected if you are initializing BertModel from the checkpoint of a model that you expect to be exactly identical (initializing a BertForSequenceClassification model from a BertForSequenceClassification model).\n"
     ]
    },
    {
     "name": "stdout",
     "output_type": "stream",
     "text": [
      "hallucination pr_scores: [0.313018274307251]\n",
      "hallucination re_scores: [0.2859824895858765]\n",
      "hallucination f1_scores: [0.3002526521682739]\n",
      "processing 36 / 100\n"
     ]
    },
    {
     "name": "stderr",
     "output_type": "stream",
     "text": [
      "Warning: Baseline not Found for bert-base-multilingual-cased on ja at /home/ryoryon66/.pyenv/versions/3.9.8/lib/python3.9/site-packages/bert_score/rescale_baseline/ja/bert-base-multilingual-cased.tsv\n",
      "/tmp/ipykernel_28939/1749957329.py:18: FutureWarning: The frame.append method is deprecated and will be removed from pandas in a future version. Use pandas.concat instead.\n",
      "  score_df = score_df.append({\n"
     ]
    },
    {
     "name": "stdout",
     "output_type": "stream",
     "text": [
      "QA20CAPR-0073 ギリシャ語の「暴君」と「とかげ」を合成した名前を持つ、約6550万年前に絶滅した史上最大級の肉食恐竜は何でしょう? ティラノサウルス・レックス\n",
      "sampled: ['ティラノサウルス・レックス', 'ティタノサウルス・レックス', 'ティタノサウルス・レックス', 'ティラノサウルス・レックス', 'ティラノサウルス・レックス']\n",
      "r_sentences\n",
      "['ティラノサウルス・レックス']\n",
      "ティラノサウルス・レックス\n"
     ]
    },
    {
     "name": "stderr",
     "output_type": "stream",
     "text": [
      "Some weights of the model checkpoint at bert-base-multilingual-cased were not used when initializing BertModel: ['cls.predictions.transform.dense.weight', 'cls.seq_relationship.weight', 'cls.predictions.transform.LayerNorm.weight', 'cls.predictions.bias', 'cls.seq_relationship.bias', 'cls.predictions.transform.dense.bias', 'cls.predictions.transform.LayerNorm.bias']\n",
      "- This IS expected if you are initializing BertModel from the checkpoint of a model trained on another task or with another architecture (e.g. initializing a BertForSequenceClassification model from a BertForPreTraining model).\n",
      "- This IS NOT expected if you are initializing BertModel from the checkpoint of a model that you expect to be exactly identical (initializing a BertForSequenceClassification model from a BertForSequenceClassification model).\n",
      "Warning: Baseline not Found for bert-base-multilingual-cased on ja at /home/ryoryon66/.pyenv/versions/3.9.8/lib/python3.9/site-packages/bert_score/rescale_baseline/ja/bert-base-multilingual-cased.tsv\n",
      "Some weights of the model checkpoint at bert-base-multilingual-cased were not used when initializing BertModel: ['cls.predictions.transform.dense.weight', 'cls.seq_relationship.weight', 'cls.predictions.transform.LayerNorm.weight', 'cls.predictions.bias', 'cls.seq_relationship.bias', 'cls.predictions.transform.dense.bias', 'cls.predictions.transform.LayerNorm.bias']\n",
      "- This IS expected if you are initializing BertModel from the checkpoint of a model trained on another task or with another architecture (e.g. initializing a BertForSequenceClassification model from a BertForPreTraining model).\n",
      "- This IS NOT expected if you are initializing BertModel from the checkpoint of a model that you expect to be exactly identical (initializing a BertForSequenceClassification model from a BertForSequenceClassification model).\n",
      "Warning: Baseline not Found for bert-base-multilingual-cased on ja at /home/ryoryon66/.pyenv/versions/3.9.8/lib/python3.9/site-packages/bert_score/rescale_baseline/ja/bert-base-multilingual-cased.tsv\n",
      "Some weights of the model checkpoint at bert-base-multilingual-cased were not used when initializing BertModel: ['cls.predictions.transform.dense.weight', 'cls.seq_relationship.weight', 'cls.predictions.transform.LayerNorm.weight', 'cls.predictions.bias', 'cls.seq_relationship.bias', 'cls.predictions.transform.dense.bias', 'cls.predictions.transform.LayerNorm.bias']\n",
      "- This IS expected if you are initializing BertModel from the checkpoint of a model trained on another task or with another architecture (e.g. initializing a BertForSequenceClassification model from a BertForPreTraining model).\n",
      "- This IS NOT expected if you are initializing BertModel from the checkpoint of a model that you expect to be exactly identical (initializing a BertForSequenceClassification model from a BertForSequenceClassification model).\n",
      "Warning: Baseline not Found for bert-base-multilingual-cased on ja at /home/ryoryon66/.pyenv/versions/3.9.8/lib/python3.9/site-packages/bert_score/rescale_baseline/ja/bert-base-multilingual-cased.tsv\n",
      "Some weights of the model checkpoint at bert-base-multilingual-cased were not used when initializing BertModel: ['cls.predictions.transform.dense.weight', 'cls.seq_relationship.weight', 'cls.predictions.transform.LayerNorm.weight', 'cls.predictions.bias', 'cls.seq_relationship.bias', 'cls.predictions.transform.dense.bias', 'cls.predictions.transform.LayerNorm.bias']\n",
      "- This IS expected if you are initializing BertModel from the checkpoint of a model trained on another task or with another architecture (e.g. initializing a BertForSequenceClassification model from a BertForPreTraining model).\n",
      "- This IS NOT expected if you are initializing BertModel from the checkpoint of a model that you expect to be exactly identical (initializing a BertForSequenceClassification model from a BertForSequenceClassification model).\n",
      "Warning: Baseline not Found for bert-base-multilingual-cased on ja at /home/ryoryon66/.pyenv/versions/3.9.8/lib/python3.9/site-packages/bert_score/rescale_baseline/ja/bert-base-multilingual-cased.tsv\n",
      "Some weights of the model checkpoint at bert-base-multilingual-cased were not used when initializing BertModel: ['cls.predictions.transform.dense.weight', 'cls.seq_relationship.weight', 'cls.predictions.transform.LayerNorm.weight', 'cls.predictions.bias', 'cls.seq_relationship.bias', 'cls.predictions.transform.dense.bias', 'cls.predictions.transform.LayerNorm.bias']\n",
      "- This IS expected if you are initializing BertModel from the checkpoint of a model trained on another task or with another architecture (e.g. initializing a BertForSequenceClassification model from a BertForPreTraining model).\n",
      "- This IS NOT expected if you are initializing BertModel from the checkpoint of a model that you expect to be exactly identical (initializing a BertForSequenceClassification model from a BertForSequenceClassification model).\n"
     ]
    },
    {
     "name": "stdout",
     "output_type": "stream",
     "text": [
      "hallucination pr_scores: [0.00950992107391363]\n",
      "hallucination re_scores: [0.00950992107391363]\n",
      "hallucination f1_scores: [0.00950992107391363]\n",
      "processing 37 / 100\n"
     ]
    },
    {
     "name": "stderr",
     "output_type": "stream",
     "text": [
      "Warning: Baseline not Found for bert-base-multilingual-cased on ja at /home/ryoryon66/.pyenv/versions/3.9.8/lib/python3.9/site-packages/bert_score/rescale_baseline/ja/bert-base-multilingual-cased.tsv\n",
      "/tmp/ipykernel_28939/1749957329.py:18: FutureWarning: The frame.append method is deprecated and will be removed from pandas in a future version. Use pandas.concat instead.\n",
      "  score_df = score_df.append({\n"
     ]
    },
    {
     "name": "stdout",
     "output_type": "stream",
     "text": [
      "QA20CAPR-0075 海外では「ジャパニーズヨーグルト」とも呼ばれる、米麹や酒粕から作られる伝統的な甘味飲料は何でしょう? 甘酒です。\n",
      "\n",
      "sampled: ['ああ、日本酒。米と米麴を発酵させた後、濾過して保存します。その後、砂糖を加えて発酵させます。それから、水を加えてアルコール分を除去します。そして、熟成させて完成です。', 'ああ、それは日本の甘酒です。米と米こうじを発酵させて作られます。米こうじは米に残り、その後、米中のデンプンが糖に変化します。そして、その糖がアルコールや甘みの強い風味を与えます。', '甘酒です。', '日本酒。', '牛乳かんてん。']\n",
      "r_sentences\n",
      "['甘酒です']\n",
      "甘酒です\n"
     ]
    },
    {
     "name": "stderr",
     "output_type": "stream",
     "text": [
      "Some weights of the model checkpoint at bert-base-multilingual-cased were not used when initializing BertModel: ['cls.predictions.transform.dense.weight', 'cls.seq_relationship.weight', 'cls.predictions.transform.LayerNorm.weight', 'cls.predictions.bias', 'cls.seq_relationship.bias', 'cls.predictions.transform.dense.bias', 'cls.predictions.transform.LayerNorm.bias']\n",
      "- This IS expected if you are initializing BertModel from the checkpoint of a model trained on another task or with another architecture (e.g. initializing a BertForSequenceClassification model from a BertForPreTraining model).\n",
      "- This IS NOT expected if you are initializing BertModel from the checkpoint of a model that you expect to be exactly identical (initializing a BertForSequenceClassification model from a BertForSequenceClassification model).\n",
      "Warning: Baseline not Found for bert-base-multilingual-cased on ja at /home/ryoryon66/.pyenv/versions/3.9.8/lib/python3.9/site-packages/bert_score/rescale_baseline/ja/bert-base-multilingual-cased.tsv\n",
      "Some weights of the model checkpoint at bert-base-multilingual-cased were not used when initializing BertModel: ['cls.predictions.transform.dense.weight', 'cls.seq_relationship.weight', 'cls.predictions.transform.LayerNorm.weight', 'cls.predictions.bias', 'cls.seq_relationship.bias', 'cls.predictions.transform.dense.bias', 'cls.predictions.transform.LayerNorm.bias']\n",
      "- This IS expected if you are initializing BertModel from the checkpoint of a model trained on another task or with another architecture (e.g. initializing a BertForSequenceClassification model from a BertForPreTraining model).\n",
      "- This IS NOT expected if you are initializing BertModel from the checkpoint of a model that you expect to be exactly identical (initializing a BertForSequenceClassification model from a BertForSequenceClassification model).\n",
      "Warning: Baseline not Found for bert-base-multilingual-cased on ja at /home/ryoryon66/.pyenv/versions/3.9.8/lib/python3.9/site-packages/bert_score/rescale_baseline/ja/bert-base-multilingual-cased.tsv\n",
      "Some weights of the model checkpoint at bert-base-multilingual-cased were not used when initializing BertModel: ['cls.predictions.transform.dense.weight', 'cls.seq_relationship.weight', 'cls.predictions.transform.LayerNorm.weight', 'cls.predictions.bias', 'cls.seq_relationship.bias', 'cls.predictions.transform.dense.bias', 'cls.predictions.transform.LayerNorm.bias']\n",
      "- This IS expected if you are initializing BertModel from the checkpoint of a model trained on another task or with another architecture (e.g. initializing a BertForSequenceClassification model from a BertForPreTraining model).\n",
      "- This IS NOT expected if you are initializing BertModel from the checkpoint of a model that you expect to be exactly identical (initializing a BertForSequenceClassification model from a BertForSequenceClassification model).\n",
      "Warning: Baseline not Found for bert-base-multilingual-cased on ja at /home/ryoryon66/.pyenv/versions/3.9.8/lib/python3.9/site-packages/bert_score/rescale_baseline/ja/bert-base-multilingual-cased.tsv\n",
      "Some weights of the model checkpoint at bert-base-multilingual-cased were not used when initializing BertModel: ['cls.predictions.transform.dense.weight', 'cls.seq_relationship.weight', 'cls.predictions.transform.LayerNorm.weight', 'cls.predictions.bias', 'cls.seq_relationship.bias', 'cls.predictions.transform.dense.bias', 'cls.predictions.transform.LayerNorm.bias']\n",
      "- This IS expected if you are initializing BertModel from the checkpoint of a model trained on another task or with another architecture (e.g. initializing a BertForSequenceClassification model from a BertForPreTraining model).\n",
      "- This IS NOT expected if you are initializing BertModel from the checkpoint of a model that you expect to be exactly identical (initializing a BertForSequenceClassification model from a BertForSequenceClassification model).\n",
      "Warning: Baseline not Found for bert-base-multilingual-cased on ja at /home/ryoryon66/.pyenv/versions/3.9.8/lib/python3.9/site-packages/bert_score/rescale_baseline/ja/bert-base-multilingual-cased.tsv\n",
      "Some weights of the model checkpoint at bert-base-multilingual-cased were not used when initializing BertModel: ['cls.predictions.transform.dense.weight', 'cls.seq_relationship.weight', 'cls.predictions.transform.LayerNorm.weight', 'cls.predictions.bias', 'cls.seq_relationship.bias', 'cls.predictions.transform.dense.bias', 'cls.predictions.transform.LayerNorm.bias']\n",
      "- This IS expected if you are initializing BertModel from the checkpoint of a model trained on another task or with another architecture (e.g. initializing a BertForSequenceClassification model from a BertForPreTraining model).\n",
      "- This IS NOT expected if you are initializing BertModel from the checkpoint of a model that you expect to be exactly identical (initializing a BertForSequenceClassification model from a BertForSequenceClassification model).\n"
     ]
    },
    {
     "name": "stdout",
     "output_type": "stream",
     "text": [
      "hallucination pr_scores: [0.18408354520797726]\n",
      "hallucination re_scores: [0.21424531936645513]\n",
      "hallucination f1_scores: [0.20041875839233395]\n",
      "processing 38 / 100\n"
     ]
    },
    {
     "name": "stderr",
     "output_type": "stream",
     "text": [
      "Warning: Baseline not Found for bert-base-multilingual-cased on ja at /home/ryoryon66/.pyenv/versions/3.9.8/lib/python3.9/site-packages/bert_score/rescale_baseline/ja/bert-base-multilingual-cased.tsv\n",
      "/tmp/ipykernel_28939/1749957329.py:18: FutureWarning: The frame.append method is deprecated and will be removed from pandas in a future version. Use pandas.concat instead.\n",
      "  score_df = score_df.append({\n"
     ]
    },
    {
     "name": "stdout",
     "output_type": "stream",
     "text": [
      "QA20CAPR-0077 縁結びの神とされる大国主が祭られており、毎年旧暦10月に全国の神様が集まるとされる島根県の神社はどこでしょう? 出雲大社\n",
      "sampled: ['出雲大社', '出雲大社 島根県出雲市大社町杵築東2852-3 2F 電話番号0853-22-7773 FAX 0853-22-7773 E-mail editor@jinjada.com 大国主神は縁結びの神として知られています。 旧暦10月には全国から多くの神々が出雲に集まります。', '出雲大社', '出雲大社 島根県出雲市にあります。', '出雲大社']\n",
      "r_sentences\n",
      "['出雲大社']\n",
      "出雲大社\n"
     ]
    },
    {
     "name": "stderr",
     "output_type": "stream",
     "text": [
      "Some weights of the model checkpoint at bert-base-multilingual-cased were not used when initializing BertModel: ['cls.predictions.transform.dense.weight', 'cls.seq_relationship.weight', 'cls.predictions.transform.LayerNorm.weight', 'cls.predictions.bias', 'cls.seq_relationship.bias', 'cls.predictions.transform.dense.bias', 'cls.predictions.transform.LayerNorm.bias']\n",
      "- This IS expected if you are initializing BertModel from the checkpoint of a model trained on another task or with another architecture (e.g. initializing a BertForSequenceClassification model from a BertForPreTraining model).\n",
      "- This IS NOT expected if you are initializing BertModel from the checkpoint of a model that you expect to be exactly identical (initializing a BertForSequenceClassification model from a BertForSequenceClassification model).\n",
      "Warning: Baseline not Found for bert-base-multilingual-cased on ja at /home/ryoryon66/.pyenv/versions/3.9.8/lib/python3.9/site-packages/bert_score/rescale_baseline/ja/bert-base-multilingual-cased.tsv\n",
      "Some weights of the model checkpoint at bert-base-multilingual-cased were not used when initializing BertModel: ['cls.predictions.transform.dense.weight', 'cls.seq_relationship.weight', 'cls.predictions.transform.LayerNorm.weight', 'cls.predictions.bias', 'cls.seq_relationship.bias', 'cls.predictions.transform.dense.bias', 'cls.predictions.transform.LayerNorm.bias']\n",
      "- This IS expected if you are initializing BertModel from the checkpoint of a model trained on another task or with another architecture (e.g. initializing a BertForSequenceClassification model from a BertForPreTraining model).\n",
      "- This IS NOT expected if you are initializing BertModel from the checkpoint of a model that you expect to be exactly identical (initializing a BertForSequenceClassification model from a BertForSequenceClassification model).\n",
      "Warning: Baseline not Found for bert-base-multilingual-cased on ja at /home/ryoryon66/.pyenv/versions/3.9.8/lib/python3.9/site-packages/bert_score/rescale_baseline/ja/bert-base-multilingual-cased.tsv\n",
      "Some weights of the model checkpoint at bert-base-multilingual-cased were not used when initializing BertModel: ['cls.predictions.transform.dense.weight', 'cls.seq_relationship.weight', 'cls.predictions.transform.LayerNorm.weight', 'cls.predictions.bias', 'cls.seq_relationship.bias', 'cls.predictions.transform.dense.bias', 'cls.predictions.transform.LayerNorm.bias']\n",
      "- This IS expected if you are initializing BertModel from the checkpoint of a model trained on another task or with another architecture (e.g. initializing a BertForSequenceClassification model from a BertForPreTraining model).\n",
      "- This IS NOT expected if you are initializing BertModel from the checkpoint of a model that you expect to be exactly identical (initializing a BertForSequenceClassification model from a BertForSequenceClassification model).\n",
      "Warning: Baseline not Found for bert-base-multilingual-cased on ja at /home/ryoryon66/.pyenv/versions/3.9.8/lib/python3.9/site-packages/bert_score/rescale_baseline/ja/bert-base-multilingual-cased.tsv\n",
      "Some weights of the model checkpoint at bert-base-multilingual-cased were not used when initializing BertModel: ['cls.predictions.transform.dense.weight', 'cls.seq_relationship.weight', 'cls.predictions.transform.LayerNorm.weight', 'cls.predictions.bias', 'cls.seq_relationship.bias', 'cls.predictions.transform.dense.bias', 'cls.predictions.transform.LayerNorm.bias']\n",
      "- This IS expected if you are initializing BertModel from the checkpoint of a model trained on another task or with another architecture (e.g. initializing a BertForSequenceClassification model from a BertForPreTraining model).\n",
      "- This IS NOT expected if you are initializing BertModel from the checkpoint of a model that you expect to be exactly identical (initializing a BertForSequenceClassification model from a BertForSequenceClassification model).\n",
      "Warning: Baseline not Found for bert-base-multilingual-cased on ja at /home/ryoryon66/.pyenv/versions/3.9.8/lib/python3.9/site-packages/bert_score/rescale_baseline/ja/bert-base-multilingual-cased.tsv\n",
      "Some weights of the model checkpoint at bert-base-multilingual-cased were not used when initializing BertModel: ['cls.predictions.transform.dense.weight', 'cls.seq_relationship.weight', 'cls.predictions.transform.LayerNorm.weight', 'cls.predictions.bias', 'cls.seq_relationship.bias', 'cls.predictions.transform.dense.bias', 'cls.predictions.transform.LayerNorm.bias']\n",
      "- This IS expected if you are initializing BertModel from the checkpoint of a model trained on another task or with another architecture (e.g. initializing a BertForSequenceClassification model from a BertForPreTraining model).\n",
      "- This IS NOT expected if you are initializing BertModel from the checkpoint of a model that you expect to be exactly identical (initializing a BertForSequenceClassification model from a BertForSequenceClassification model).\n"
     ]
    },
    {
     "name": "stdout",
     "output_type": "stream",
     "text": [
      "hallucination pr_scores: [0.07514259815216062]\n",
      "hallucination re_scores: [0.1282379865646363]\n",
      "hallucination f1_scores: [0.10897978544235226]\n",
      "processing 39 / 100\n"
     ]
    },
    {
     "name": "stderr",
     "output_type": "stream",
     "text": [
      "Warning: Baseline not Found for bert-base-multilingual-cased on ja at /home/ryoryon66/.pyenv/versions/3.9.8/lib/python3.9/site-packages/bert_score/rescale_baseline/ja/bert-base-multilingual-cased.tsv\n",
      "/tmp/ipykernel_28939/1749957329.py:18: FutureWarning: The frame.append method is deprecated and will be removed from pandas in a future version. Use pandas.concat instead.\n",
      "  score_df = score_df.append({\n"
     ]
    },
    {
     "name": "stdout",
     "output_type": "stream",
     "text": [
      "QA20CAPR-0079 車体に漫画やアニメのキャラクターなどの装飾を施した自動車のことを、俗に何というでしょう? 痛車(いたしゃ)とは、自動車のボディに漫画やアニメのキャラクターなどの装飾を施すことです。\n",
      "\n",
      "sampled: ['痛車(いたしゃ)とは、自動車の塗装や装飾において、漫画やアニメに関連する要素を強調した改造車両のことです。痛車は、若者を中心に非常に人気があり、注目を集めています。', '痛車(いたしゃ)と呼ばれています。', '痛車(いたしゃ)とは、車体にキャラクターやアニメのイラストなどを飾ったりする趣味の一種です。', '痛車(いたしゃ)と呼ばれています。', '痛車(いたしゃ)。']\n",
      "r_sentences\n",
      "['痛車(いたしゃ)とは、自動車のボディに漫画やアニメのキャラクターなどの装飾を施すことです']\n",
      "痛車(いたしゃ)とは、自動車のボディに漫画やアニメのキャラクターなどの装飾を施すことです\n"
     ]
    },
    {
     "name": "stderr",
     "output_type": "stream",
     "text": [
      "Some weights of the model checkpoint at bert-base-multilingual-cased were not used when initializing BertModel: ['cls.predictions.transform.dense.weight', 'cls.seq_relationship.weight', 'cls.predictions.transform.LayerNorm.weight', 'cls.predictions.bias', 'cls.seq_relationship.bias', 'cls.predictions.transform.dense.bias', 'cls.predictions.transform.LayerNorm.bias']\n",
      "- This IS expected if you are initializing BertModel from the checkpoint of a model trained on another task or with another architecture (e.g. initializing a BertForSequenceClassification model from a BertForPreTraining model).\n",
      "- This IS NOT expected if you are initializing BertModel from the checkpoint of a model that you expect to be exactly identical (initializing a BertForSequenceClassification model from a BertForSequenceClassification model).\n",
      "Warning: Baseline not Found for bert-base-multilingual-cased on ja at /home/ryoryon66/.pyenv/versions/3.9.8/lib/python3.9/site-packages/bert_score/rescale_baseline/ja/bert-base-multilingual-cased.tsv\n",
      "Some weights of the model checkpoint at bert-base-multilingual-cased were not used when initializing BertModel: ['cls.predictions.transform.dense.weight', 'cls.seq_relationship.weight', 'cls.predictions.transform.LayerNorm.weight', 'cls.predictions.bias', 'cls.seq_relationship.bias', 'cls.predictions.transform.dense.bias', 'cls.predictions.transform.LayerNorm.bias']\n",
      "- This IS expected if you are initializing BertModel from the checkpoint of a model trained on another task or with another architecture (e.g. initializing a BertForSequenceClassification model from a BertForPreTraining model).\n",
      "- This IS NOT expected if you are initializing BertModel from the checkpoint of a model that you expect to be exactly identical (initializing a BertForSequenceClassification model from a BertForSequenceClassification model).\n",
      "Warning: Baseline not Found for bert-base-multilingual-cased on ja at /home/ryoryon66/.pyenv/versions/3.9.8/lib/python3.9/site-packages/bert_score/rescale_baseline/ja/bert-base-multilingual-cased.tsv\n",
      "Some weights of the model checkpoint at bert-base-multilingual-cased were not used when initializing BertModel: ['cls.predictions.transform.dense.weight', 'cls.seq_relationship.weight', 'cls.predictions.transform.LayerNorm.weight', 'cls.predictions.bias', 'cls.seq_relationship.bias', 'cls.predictions.transform.dense.bias', 'cls.predictions.transform.LayerNorm.bias']\n",
      "- This IS expected if you are initializing BertModel from the checkpoint of a model trained on another task or with another architecture (e.g. initializing a BertForSequenceClassification model from a BertForPreTraining model).\n",
      "- This IS NOT expected if you are initializing BertModel from the checkpoint of a model that you expect to be exactly identical (initializing a BertForSequenceClassification model from a BertForSequenceClassification model).\n",
      "Warning: Baseline not Found for bert-base-multilingual-cased on ja at /home/ryoryon66/.pyenv/versions/3.9.8/lib/python3.9/site-packages/bert_score/rescale_baseline/ja/bert-base-multilingual-cased.tsv\n",
      "Some weights of the model checkpoint at bert-base-multilingual-cased were not used when initializing BertModel: ['cls.predictions.transform.dense.weight', 'cls.seq_relationship.weight', 'cls.predictions.transform.LayerNorm.weight', 'cls.predictions.bias', 'cls.seq_relationship.bias', 'cls.predictions.transform.dense.bias', 'cls.predictions.transform.LayerNorm.bias']\n",
      "- This IS expected if you are initializing BertModel from the checkpoint of a model trained on another task or with another architecture (e.g. initializing a BertForSequenceClassification model from a BertForPreTraining model).\n",
      "- This IS NOT expected if you are initializing BertModel from the checkpoint of a model that you expect to be exactly identical (initializing a BertForSequenceClassification model from a BertForSequenceClassification model).\n",
      "Warning: Baseline not Found for bert-base-multilingual-cased on ja at /home/ryoryon66/.pyenv/versions/3.9.8/lib/python3.9/site-packages/bert_score/rescale_baseline/ja/bert-base-multilingual-cased.tsv\n",
      "Some weights of the model checkpoint at bert-base-multilingual-cased were not used when initializing BertModel: ['cls.predictions.transform.dense.weight', 'cls.seq_relationship.weight', 'cls.predictions.transform.LayerNorm.weight', 'cls.predictions.bias', 'cls.seq_relationship.bias', 'cls.predictions.transform.dense.bias', 'cls.predictions.transform.LayerNorm.bias']\n",
      "- This IS expected if you are initializing BertModel from the checkpoint of a model trained on another task or with another architecture (e.g. initializing a BertForSequenceClassification model from a BertForPreTraining model).\n",
      "- This IS NOT expected if you are initializing BertModel from the checkpoint of a model that you expect to be exactly identical (initializing a BertForSequenceClassification model from a BertForSequenceClassification model).\n"
     ]
    },
    {
     "name": "stdout",
     "output_type": "stream",
     "text": [
      "hallucination pr_scores: [0.2560921549797057]\n",
      "hallucination re_scores: [0.1767877101898192]\n",
      "hallucination f1_scores: [0.2221969962120057]\n",
      "processing 40 / 100\n"
     ]
    },
    {
     "name": "stderr",
     "output_type": "stream",
     "text": [
      "Warning: Baseline not Found for bert-base-multilingual-cased on ja at /home/ryoryon66/.pyenv/versions/3.9.8/lib/python3.9/site-packages/bert_score/rescale_baseline/ja/bert-base-multilingual-cased.tsv\n",
      "/tmp/ipykernel_28939/1749957329.py:18: FutureWarning: The frame.append method is deprecated and will be removed from pandas in a future version. Use pandas.concat instead.\n",
      "  score_df = score_df.append({\n"
     ]
    },
    {
     "name": "stdout",
     "output_type": "stream",
     "text": [
      "QA20CAPR-0081 「白あえ」にも使われる、絹ごし、木綿などの種類がある食材は何でしょう? 豆腐です。\n",
      "\n",
      "sampled: ['豆腐。 白あえとは、米粉と水に砂糖を混ぜ、塩を加えて混ぜ合わせた生地から作られる料理です。主な材料には、小麦粉、卵、牛乳が使われます。', '豆腐です。', '豆腐です。', '豆腐です。', '豆腐。 白あえとは、主に豆腐をすりおろして卵黄と混ぜ合わせた料理です。 白あえを作るためには、まず豆腐を水切りしてボウルに入れます。次に、卵を加えて混ぜ合わせます。その後、砂糖を加えてよく混ぜ合わせます。最後に、塩と米酢を加えて味を整えたら完成です。']\n",
      "r_sentences\n",
      "['豆腐です']\n",
      "豆腐です\n"
     ]
    },
    {
     "name": "stderr",
     "output_type": "stream",
     "text": [
      "Some weights of the model checkpoint at bert-base-multilingual-cased were not used when initializing BertModel: ['cls.predictions.transform.dense.weight', 'cls.seq_relationship.weight', 'cls.predictions.transform.LayerNorm.weight', 'cls.predictions.bias', 'cls.seq_relationship.bias', 'cls.predictions.transform.dense.bias', 'cls.predictions.transform.LayerNorm.bias']\n",
      "- This IS expected if you are initializing BertModel from the checkpoint of a model trained on another task or with another architecture (e.g. initializing a BertForSequenceClassification model from a BertForPreTraining model).\n",
      "- This IS NOT expected if you are initializing BertModel from the checkpoint of a model that you expect to be exactly identical (initializing a BertForSequenceClassification model from a BertForSequenceClassification model).\n",
      "Warning: Baseline not Found for bert-base-multilingual-cased on ja at /home/ryoryon66/.pyenv/versions/3.9.8/lib/python3.9/site-packages/bert_score/rescale_baseline/ja/bert-base-multilingual-cased.tsv\n",
      "Some weights of the model checkpoint at bert-base-multilingual-cased were not used when initializing BertModel: ['cls.predictions.transform.dense.weight', 'cls.seq_relationship.weight', 'cls.predictions.transform.LayerNorm.weight', 'cls.predictions.bias', 'cls.seq_relationship.bias', 'cls.predictions.transform.dense.bias', 'cls.predictions.transform.LayerNorm.bias']\n",
      "- This IS expected if you are initializing BertModel from the checkpoint of a model trained on another task or with another architecture (e.g. initializing a BertForSequenceClassification model from a BertForPreTraining model).\n",
      "- This IS NOT expected if you are initializing BertModel from the checkpoint of a model that you expect to be exactly identical (initializing a BertForSequenceClassification model from a BertForSequenceClassification model).\n",
      "Warning: Baseline not Found for bert-base-multilingual-cased on ja at /home/ryoryon66/.pyenv/versions/3.9.8/lib/python3.9/site-packages/bert_score/rescale_baseline/ja/bert-base-multilingual-cased.tsv\n",
      "Some weights of the model checkpoint at bert-base-multilingual-cased were not used when initializing BertModel: ['cls.predictions.transform.dense.weight', 'cls.seq_relationship.weight', 'cls.predictions.transform.LayerNorm.weight', 'cls.predictions.bias', 'cls.seq_relationship.bias', 'cls.predictions.transform.dense.bias', 'cls.predictions.transform.LayerNorm.bias']\n",
      "- This IS expected if you are initializing BertModel from the checkpoint of a model trained on another task or with another architecture (e.g. initializing a BertForSequenceClassification model from a BertForPreTraining model).\n",
      "- This IS NOT expected if you are initializing BertModel from the checkpoint of a model that you expect to be exactly identical (initializing a BertForSequenceClassification model from a BertForSequenceClassification model).\n",
      "Warning: Baseline not Found for bert-base-multilingual-cased on ja at /home/ryoryon66/.pyenv/versions/3.9.8/lib/python3.9/site-packages/bert_score/rescale_baseline/ja/bert-base-multilingual-cased.tsv\n",
      "Some weights of the model checkpoint at bert-base-multilingual-cased were not used when initializing BertModel: ['cls.predictions.transform.dense.weight', 'cls.seq_relationship.weight', 'cls.predictions.transform.LayerNorm.weight', 'cls.predictions.bias', 'cls.seq_relationship.bias', 'cls.predictions.transform.dense.bias', 'cls.predictions.transform.LayerNorm.bias']\n",
      "- This IS expected if you are initializing BertModel from the checkpoint of a model trained on another task or with another architecture (e.g. initializing a BertForSequenceClassification model from a BertForPreTraining model).\n",
      "- This IS NOT expected if you are initializing BertModel from the checkpoint of a model that you expect to be exactly identical (initializing a BertForSequenceClassification model from a BertForSequenceClassification model).\n",
      "Warning: Baseline not Found for bert-base-multilingual-cased on ja at /home/ryoryon66/.pyenv/versions/3.9.8/lib/python3.9/site-packages/bert_score/rescale_baseline/ja/bert-base-multilingual-cased.tsv\n",
      "Some weights of the model checkpoint at bert-base-multilingual-cased were not used when initializing BertModel: ['cls.predictions.transform.dense.weight', 'cls.seq_relationship.weight', 'cls.predictions.transform.LayerNorm.weight', 'cls.predictions.bias', 'cls.seq_relationship.bias', 'cls.predictions.transform.dense.bias', 'cls.predictions.transform.LayerNorm.bias']\n",
      "- This IS expected if you are initializing BertModel from the checkpoint of a model trained on another task or with another architecture (e.g. initializing a BertForSequenceClassification model from a BertForPreTraining model).\n",
      "- This IS NOT expected if you are initializing BertModel from the checkpoint of a model that you expect to be exactly identical (initializing a BertForSequenceClassification model from a BertForSequenceClassification model).\n"
     ]
    },
    {
     "name": "stdout",
     "output_type": "stream",
     "text": [
      "hallucination pr_scores: [0.07694578170776373]\n",
      "hallucination re_scores: [0.039364337921142634]\n",
      "hallucination f1_scores: [0.05918796062469475]\n",
      "processing 41 / 100\n"
     ]
    },
    {
     "name": "stderr",
     "output_type": "stream",
     "text": [
      "Warning: Baseline not Found for bert-base-multilingual-cased on ja at /home/ryoryon66/.pyenv/versions/3.9.8/lib/python3.9/site-packages/bert_score/rescale_baseline/ja/bert-base-multilingual-cased.tsv\n",
      "/tmp/ipykernel_28939/1749957329.py:18: FutureWarning: The frame.append method is deprecated and will be removed from pandas in a future version. Use pandas.concat instead.\n",
      "  score_df = score_df.append({\n"
     ]
    },
    {
     "name": "stdout",
     "output_type": "stream",
     "text": [
      "QA20CAPR-0083 チェコにある温泉・カールスバートと似た泉質であったことから名が付いた、北海道の登別市にある温泉は何でしょう? 地獄谷温泉\n",
      "sampled: ['地獄谷温泉', '白老温泉', '地獄谷温泉', '大湯沼', '大湯沼']\n",
      "r_sentences\n",
      "['地獄谷温泉']\n",
      "地獄谷温泉\n"
     ]
    },
    {
     "name": "stderr",
     "output_type": "stream",
     "text": [
      "Some weights of the model checkpoint at bert-base-multilingual-cased were not used when initializing BertModel: ['cls.predictions.transform.dense.weight', 'cls.seq_relationship.weight', 'cls.predictions.transform.LayerNorm.weight', 'cls.predictions.bias', 'cls.seq_relationship.bias', 'cls.predictions.transform.dense.bias', 'cls.predictions.transform.LayerNorm.bias']\n",
      "- This IS expected if you are initializing BertModel from the checkpoint of a model trained on another task or with another architecture (e.g. initializing a BertForSequenceClassification model from a BertForPreTraining model).\n",
      "- This IS NOT expected if you are initializing BertModel from the checkpoint of a model that you expect to be exactly identical (initializing a BertForSequenceClassification model from a BertForSequenceClassification model).\n",
      "Warning: Baseline not Found for bert-base-multilingual-cased on ja at /home/ryoryon66/.pyenv/versions/3.9.8/lib/python3.9/site-packages/bert_score/rescale_baseline/ja/bert-base-multilingual-cased.tsv\n",
      "Some weights of the model checkpoint at bert-base-multilingual-cased were not used when initializing BertModel: ['cls.predictions.transform.dense.weight', 'cls.seq_relationship.weight', 'cls.predictions.transform.LayerNorm.weight', 'cls.predictions.bias', 'cls.seq_relationship.bias', 'cls.predictions.transform.dense.bias', 'cls.predictions.transform.LayerNorm.bias']\n",
      "- This IS expected if you are initializing BertModel from the checkpoint of a model trained on another task or with another architecture (e.g. initializing a BertForSequenceClassification model from a BertForPreTraining model).\n",
      "- This IS NOT expected if you are initializing BertModel from the checkpoint of a model that you expect to be exactly identical (initializing a BertForSequenceClassification model from a BertForSequenceClassification model).\n",
      "Warning: Baseline not Found for bert-base-multilingual-cased on ja at /home/ryoryon66/.pyenv/versions/3.9.8/lib/python3.9/site-packages/bert_score/rescale_baseline/ja/bert-base-multilingual-cased.tsv\n",
      "Some weights of the model checkpoint at bert-base-multilingual-cased were not used when initializing BertModel: ['cls.predictions.transform.dense.weight', 'cls.seq_relationship.weight', 'cls.predictions.transform.LayerNorm.weight', 'cls.predictions.bias', 'cls.seq_relationship.bias', 'cls.predictions.transform.dense.bias', 'cls.predictions.transform.LayerNorm.bias']\n",
      "- This IS expected if you are initializing BertModel from the checkpoint of a model trained on another task or with another architecture (e.g. initializing a BertForSequenceClassification model from a BertForPreTraining model).\n",
      "- This IS NOT expected if you are initializing BertModel from the checkpoint of a model that you expect to be exactly identical (initializing a BertForSequenceClassification model from a BertForSequenceClassification model).\n",
      "Warning: Baseline not Found for bert-base-multilingual-cased on ja at /home/ryoryon66/.pyenv/versions/3.9.8/lib/python3.9/site-packages/bert_score/rescale_baseline/ja/bert-base-multilingual-cased.tsv\n",
      "Some weights of the model checkpoint at bert-base-multilingual-cased were not used when initializing BertModel: ['cls.predictions.transform.dense.weight', 'cls.seq_relationship.weight', 'cls.predictions.transform.LayerNorm.weight', 'cls.predictions.bias', 'cls.seq_relationship.bias', 'cls.predictions.transform.dense.bias', 'cls.predictions.transform.LayerNorm.bias']\n",
      "- This IS expected if you are initializing BertModel from the checkpoint of a model trained on another task or with another architecture (e.g. initializing a BertForSequenceClassification model from a BertForPreTraining model).\n",
      "- This IS NOT expected if you are initializing BertModel from the checkpoint of a model that you expect to be exactly identical (initializing a BertForSequenceClassification model from a BertForSequenceClassification model).\n",
      "Warning: Baseline not Found for bert-base-multilingual-cased on ja at /home/ryoryon66/.pyenv/versions/3.9.8/lib/python3.9/site-packages/bert_score/rescale_baseline/ja/bert-base-multilingual-cased.tsv\n",
      "Some weights of the model checkpoint at bert-base-multilingual-cased were not used when initializing BertModel: ['cls.predictions.transform.dense.weight', 'cls.seq_relationship.weight', 'cls.predictions.transform.LayerNorm.weight', 'cls.predictions.bias', 'cls.seq_relationship.bias', 'cls.predictions.transform.dense.bias', 'cls.predictions.transform.LayerNorm.bias']\n",
      "- This IS expected if you are initializing BertModel from the checkpoint of a model trained on another task or with another architecture (e.g. initializing a BertForSequenceClassification model from a BertForPreTraining model).\n",
      "- This IS NOT expected if you are initializing BertModel from the checkpoint of a model that you expect to be exactly identical (initializing a BertForSequenceClassification model from a BertForSequenceClassification model).\n"
     ]
    },
    {
     "name": "stdout",
     "output_type": "stream",
     "text": [
      "hallucination pr_scores: [0.12387843132019047]\n",
      "hallucination re_scores: [0.11539740562438969]\n",
      "hallucination f1_scores: [0.11969052553176882]\n",
      "processing 42 / 100\n"
     ]
    },
    {
     "name": "stderr",
     "output_type": "stream",
     "text": [
      "Warning: Baseline not Found for bert-base-multilingual-cased on ja at /home/ryoryon66/.pyenv/versions/3.9.8/lib/python3.9/site-packages/bert_score/rescale_baseline/ja/bert-base-multilingual-cased.tsv\n",
      "/tmp/ipykernel_28939/1749957329.py:18: FutureWarning: The frame.append method is deprecated and will be removed from pandas in a future version. Use pandas.concat instead.\n",
      "  score_df = score_df.append({\n"
     ]
    },
    {
     "name": "stdout",
     "output_type": "stream",
     "text": [
      "QA20CAPR-0085 1907年に日本広告と日本電報通信社が合併して出来た、日本最大の広告代理店は何でしょう? 博報堂DYホールディングスです。\n",
      "\n",
      "sampled: ['電通です。', '電通です。', '博報堂DYホールディングスです。', '博報堂DYホールディングス。', '博報堂DYホールディングスです。']\n",
      "r_sentences\n",
      "['博報堂DYホールディングスです']\n",
      "博報堂DYホールディングスです\n"
     ]
    },
    {
     "name": "stderr",
     "output_type": "stream",
     "text": [
      "Some weights of the model checkpoint at bert-base-multilingual-cased were not used when initializing BertModel: ['cls.predictions.transform.dense.weight', 'cls.seq_relationship.weight', 'cls.predictions.transform.LayerNorm.weight', 'cls.predictions.bias', 'cls.seq_relationship.bias', 'cls.predictions.transform.dense.bias', 'cls.predictions.transform.LayerNorm.bias']\n",
      "- This IS expected if you are initializing BertModel from the checkpoint of a model trained on another task or with another architecture (e.g. initializing a BertForSequenceClassification model from a BertForPreTraining model).\n",
      "- This IS NOT expected if you are initializing BertModel from the checkpoint of a model that you expect to be exactly identical (initializing a BertForSequenceClassification model from a BertForSequenceClassification model).\n",
      "Warning: Baseline not Found for bert-base-multilingual-cased on ja at /home/ryoryon66/.pyenv/versions/3.9.8/lib/python3.9/site-packages/bert_score/rescale_baseline/ja/bert-base-multilingual-cased.tsv\n",
      "Some weights of the model checkpoint at bert-base-multilingual-cased were not used when initializing BertModel: ['cls.predictions.transform.dense.weight', 'cls.seq_relationship.weight', 'cls.predictions.transform.LayerNorm.weight', 'cls.predictions.bias', 'cls.seq_relationship.bias', 'cls.predictions.transform.dense.bias', 'cls.predictions.transform.LayerNorm.bias']\n",
      "- This IS expected if you are initializing BertModel from the checkpoint of a model trained on another task or with another architecture (e.g. initializing a BertForSequenceClassification model from a BertForPreTraining model).\n",
      "- This IS NOT expected if you are initializing BertModel from the checkpoint of a model that you expect to be exactly identical (initializing a BertForSequenceClassification model from a BertForSequenceClassification model).\n",
      "Warning: Baseline not Found for bert-base-multilingual-cased on ja at /home/ryoryon66/.pyenv/versions/3.9.8/lib/python3.9/site-packages/bert_score/rescale_baseline/ja/bert-base-multilingual-cased.tsv\n",
      "Some weights of the model checkpoint at bert-base-multilingual-cased were not used when initializing BertModel: ['cls.predictions.transform.dense.weight', 'cls.seq_relationship.weight', 'cls.predictions.transform.LayerNorm.weight', 'cls.predictions.bias', 'cls.seq_relationship.bias', 'cls.predictions.transform.dense.bias', 'cls.predictions.transform.LayerNorm.bias']\n",
      "- This IS expected if you are initializing BertModel from the checkpoint of a model trained on another task or with another architecture (e.g. initializing a BertForSequenceClassification model from a BertForPreTraining model).\n",
      "- This IS NOT expected if you are initializing BertModel from the checkpoint of a model that you expect to be exactly identical (initializing a BertForSequenceClassification model from a BertForSequenceClassification model).\n",
      "Warning: Baseline not Found for bert-base-multilingual-cased on ja at /home/ryoryon66/.pyenv/versions/3.9.8/lib/python3.9/site-packages/bert_score/rescale_baseline/ja/bert-base-multilingual-cased.tsv\n",
      "Some weights of the model checkpoint at bert-base-multilingual-cased were not used when initializing BertModel: ['cls.predictions.transform.dense.weight', 'cls.seq_relationship.weight', 'cls.predictions.transform.LayerNorm.weight', 'cls.predictions.bias', 'cls.seq_relationship.bias', 'cls.predictions.transform.dense.bias', 'cls.predictions.transform.LayerNorm.bias']\n",
      "- This IS expected if you are initializing BertModel from the checkpoint of a model trained on another task or with another architecture (e.g. initializing a BertForSequenceClassification model from a BertForPreTraining model).\n",
      "- This IS NOT expected if you are initializing BertModel from the checkpoint of a model that you expect to be exactly identical (initializing a BertForSequenceClassification model from a BertForSequenceClassification model).\n",
      "Warning: Baseline not Found for bert-base-multilingual-cased on ja at /home/ryoryon66/.pyenv/versions/3.9.8/lib/python3.9/site-packages/bert_score/rescale_baseline/ja/bert-base-multilingual-cased.tsv\n",
      "Some weights of the model checkpoint at bert-base-multilingual-cased were not used when initializing BertModel: ['cls.predictions.transform.dense.weight', 'cls.seq_relationship.weight', 'cls.predictions.transform.LayerNorm.weight', 'cls.predictions.bias', 'cls.seq_relationship.bias', 'cls.predictions.transform.dense.bias', 'cls.predictions.transform.LayerNorm.bias']\n",
      "- This IS expected if you are initializing BertModel from the checkpoint of a model trained on another task or with another architecture (e.g. initializing a BertForSequenceClassification model from a BertForPreTraining model).\n",
      "- This IS NOT expected if you are initializing BertModel from the checkpoint of a model that you expect to be exactly identical (initializing a BertForSequenceClassification model from a BertForSequenceClassification model).\n"
     ]
    },
    {
     "name": "stdout",
     "output_type": "stream",
     "text": [
      "hallucination pr_scores: [0.1384706974029542]\n",
      "hallucination re_scores: [0.09233906269073483]\n",
      "hallucination f1_scores: [0.11662687063217164]\n",
      "processing 43 / 100\n"
     ]
    },
    {
     "name": "stderr",
     "output_type": "stream",
     "text": [
      "Warning: Baseline not Found for bert-base-multilingual-cased on ja at /home/ryoryon66/.pyenv/versions/3.9.8/lib/python3.9/site-packages/bert_score/rescale_baseline/ja/bert-base-multilingual-cased.tsv\n",
      "/tmp/ipykernel_28939/1749957329.py:18: FutureWarning: The frame.append method is deprecated and will be removed from pandas in a future version. Use pandas.concat instead.\n",
      "  score_df = score_df.append({\n"
     ]
    },
    {
     "name": "stdout",
     "output_type": "stream",
     "text": [
      "QA20CAPR-0087 1セット28枚からなり、本来は「メキシカントレイン」や「ブロック」など様々な遊び方があるが、日本ではたくさん並べて倒すという使い方でほぼ楽しまれている遊具は何でしょう? ジェンガです。\n",
      "\n",
      "sampled: ['ジェンガ。', 'ジェンガ。 ジェンガは、2つの大きなブロックを積み重ね、相手よりも早く崩すことを競うゲームです。 多くのバリエーションがあり、中にはかなり複雑で高度なものもあります。', 'ジェンガ。', 'ジェンガ。', 'ジェンガ。']\n",
      "r_sentences\n",
      "['ジェンガです']\n",
      "ジェンガです\n"
     ]
    },
    {
     "name": "stderr",
     "output_type": "stream",
     "text": [
      "Some weights of the model checkpoint at bert-base-multilingual-cased were not used when initializing BertModel: ['cls.predictions.transform.dense.weight', 'cls.seq_relationship.weight', 'cls.predictions.transform.LayerNorm.weight', 'cls.predictions.bias', 'cls.seq_relationship.bias', 'cls.predictions.transform.dense.bias', 'cls.predictions.transform.LayerNorm.bias']\n",
      "- This IS expected if you are initializing BertModel from the checkpoint of a model trained on another task or with another architecture (e.g. initializing a BertForSequenceClassification model from a BertForPreTraining model).\n",
      "- This IS NOT expected if you are initializing BertModel from the checkpoint of a model that you expect to be exactly identical (initializing a BertForSequenceClassification model from a BertForSequenceClassification model).\n",
      "Warning: Baseline not Found for bert-base-multilingual-cased on ja at /home/ryoryon66/.pyenv/versions/3.9.8/lib/python3.9/site-packages/bert_score/rescale_baseline/ja/bert-base-multilingual-cased.tsv\n",
      "Some weights of the model checkpoint at bert-base-multilingual-cased were not used when initializing BertModel: ['cls.predictions.transform.dense.weight', 'cls.seq_relationship.weight', 'cls.predictions.transform.LayerNorm.weight', 'cls.predictions.bias', 'cls.seq_relationship.bias', 'cls.predictions.transform.dense.bias', 'cls.predictions.transform.LayerNorm.bias']\n",
      "- This IS expected if you are initializing BertModel from the checkpoint of a model trained on another task or with another architecture (e.g. initializing a BertForSequenceClassification model from a BertForPreTraining model).\n",
      "- This IS NOT expected if you are initializing BertModel from the checkpoint of a model that you expect to be exactly identical (initializing a BertForSequenceClassification model from a BertForSequenceClassification model).\n",
      "Warning: Baseline not Found for bert-base-multilingual-cased on ja at /home/ryoryon66/.pyenv/versions/3.9.8/lib/python3.9/site-packages/bert_score/rescale_baseline/ja/bert-base-multilingual-cased.tsv\n",
      "Some weights of the model checkpoint at bert-base-multilingual-cased were not used when initializing BertModel: ['cls.predictions.transform.dense.weight', 'cls.seq_relationship.weight', 'cls.predictions.transform.LayerNorm.weight', 'cls.predictions.bias', 'cls.seq_relationship.bias', 'cls.predictions.transform.dense.bias', 'cls.predictions.transform.LayerNorm.bias']\n",
      "- This IS expected if you are initializing BertModel from the checkpoint of a model trained on another task or with another architecture (e.g. initializing a BertForSequenceClassification model from a BertForPreTraining model).\n",
      "- This IS NOT expected if you are initializing BertModel from the checkpoint of a model that you expect to be exactly identical (initializing a BertForSequenceClassification model from a BertForSequenceClassification model).\n",
      "Warning: Baseline not Found for bert-base-multilingual-cased on ja at /home/ryoryon66/.pyenv/versions/3.9.8/lib/python3.9/site-packages/bert_score/rescale_baseline/ja/bert-base-multilingual-cased.tsv\n",
      "Some weights of the model checkpoint at bert-base-multilingual-cased were not used when initializing BertModel: ['cls.predictions.transform.dense.weight', 'cls.seq_relationship.weight', 'cls.predictions.transform.LayerNorm.weight', 'cls.predictions.bias', 'cls.seq_relationship.bias', 'cls.predictions.transform.dense.bias', 'cls.predictions.transform.LayerNorm.bias']\n",
      "- This IS expected if you are initializing BertModel from the checkpoint of a model trained on another task or with another architecture (e.g. initializing a BertForSequenceClassification model from a BertForPreTraining model).\n",
      "- This IS NOT expected if you are initializing BertModel from the checkpoint of a model that you expect to be exactly identical (initializing a BertForSequenceClassification model from a BertForSequenceClassification model).\n",
      "Warning: Baseline not Found for bert-base-multilingual-cased on ja at /home/ryoryon66/.pyenv/versions/3.9.8/lib/python3.9/site-packages/bert_score/rescale_baseline/ja/bert-base-multilingual-cased.tsv\n",
      "Some weights of the model checkpoint at bert-base-multilingual-cased were not used when initializing BertModel: ['cls.predictions.transform.dense.weight', 'cls.seq_relationship.weight', 'cls.predictions.transform.LayerNorm.weight', 'cls.predictions.bias', 'cls.seq_relationship.bias', 'cls.predictions.transform.dense.bias', 'cls.predictions.transform.LayerNorm.bias']\n",
      "- This IS expected if you are initializing BertModel from the checkpoint of a model trained on another task or with another architecture (e.g. initializing a BertForSequenceClassification model from a BertForPreTraining model).\n",
      "- This IS NOT expected if you are initializing BertModel from the checkpoint of a model that you expect to be exactly identical (initializing a BertForSequenceClassification model from a BertForSequenceClassification model).\n"
     ]
    },
    {
     "name": "stdout",
     "output_type": "stream",
     "text": [
      "hallucination pr_scores: [0.16518871784210218]\n",
      "hallucination re_scores: [0.09312437772750867]\n",
      "hallucination f1_scores: [0.13245760202407836]\n",
      "processing 44 / 100\n"
     ]
    },
    {
     "name": "stderr",
     "output_type": "stream",
     "text": [
      "Warning: Baseline not Found for bert-base-multilingual-cased on ja at /home/ryoryon66/.pyenv/versions/3.9.8/lib/python3.9/site-packages/bert_score/rescale_baseline/ja/bert-base-multilingual-cased.tsv\n",
      "/tmp/ipykernel_28939/1749957329.py:18: FutureWarning: The frame.append method is deprecated and will be removed from pandas in a future version. Use pandas.concat instead.\n",
      "  score_df = score_df.append({\n"
     ]
    },
    {
     "name": "stdout",
     "output_type": "stream",
     "text": [
      "QA20CAPR-0089 古代中国では太陽に住んでいるカラスの姿だとされていた、太陽の表面で周りより温度が低く色が違って見える点を何というでしょう? 彩雲(さいうん)または虹の環(こう)と呼ばれています。\n",
      "\n",
      "sampled: ['彩雲(さいうん)と呼ばれています。', '彩雲(さいうん)と呼ばれています。', '金色に輝く帯状の模様。金環日食など。', '彩雲(さいうん)', '彩雲(さいうん)または虹の環とも呼ばれる。']\n",
      "r_sentences\n",
      "['彩雲(さいうん)または虹の環(こう)と呼ばれています']\n",
      "彩雲(さいうん)または虹の環(こう)と呼ばれています\n"
     ]
    },
    {
     "name": "stderr",
     "output_type": "stream",
     "text": [
      "Some weights of the model checkpoint at bert-base-multilingual-cased were not used when initializing BertModel: ['cls.predictions.transform.dense.weight', 'cls.seq_relationship.weight', 'cls.predictions.transform.LayerNorm.weight', 'cls.predictions.bias', 'cls.seq_relationship.bias', 'cls.predictions.transform.dense.bias', 'cls.predictions.transform.LayerNorm.bias']\n",
      "- This IS expected if you are initializing BertModel from the checkpoint of a model trained on another task or with another architecture (e.g. initializing a BertForSequenceClassification model from a BertForPreTraining model).\n",
      "- This IS NOT expected if you are initializing BertModel from the checkpoint of a model that you expect to be exactly identical (initializing a BertForSequenceClassification model from a BertForSequenceClassification model).\n",
      "Warning: Baseline not Found for bert-base-multilingual-cased on ja at /home/ryoryon66/.pyenv/versions/3.9.8/lib/python3.9/site-packages/bert_score/rescale_baseline/ja/bert-base-multilingual-cased.tsv\n",
      "Some weights of the model checkpoint at bert-base-multilingual-cased were not used when initializing BertModel: ['cls.predictions.transform.dense.weight', 'cls.seq_relationship.weight', 'cls.predictions.transform.LayerNorm.weight', 'cls.predictions.bias', 'cls.seq_relationship.bias', 'cls.predictions.transform.dense.bias', 'cls.predictions.transform.LayerNorm.bias']\n",
      "- This IS expected if you are initializing BertModel from the checkpoint of a model trained on another task or with another architecture (e.g. initializing a BertForSequenceClassification model from a BertForPreTraining model).\n",
      "- This IS NOT expected if you are initializing BertModel from the checkpoint of a model that you expect to be exactly identical (initializing a BertForSequenceClassification model from a BertForSequenceClassification model).\n",
      "Warning: Baseline not Found for bert-base-multilingual-cased on ja at /home/ryoryon66/.pyenv/versions/3.9.8/lib/python3.9/site-packages/bert_score/rescale_baseline/ja/bert-base-multilingual-cased.tsv\n",
      "Some weights of the model checkpoint at bert-base-multilingual-cased were not used when initializing BertModel: ['cls.predictions.transform.dense.weight', 'cls.seq_relationship.weight', 'cls.predictions.transform.LayerNorm.weight', 'cls.predictions.bias', 'cls.seq_relationship.bias', 'cls.predictions.transform.dense.bias', 'cls.predictions.transform.LayerNorm.bias']\n",
      "- This IS expected if you are initializing BertModel from the checkpoint of a model trained on another task or with another architecture (e.g. initializing a BertForSequenceClassification model from a BertForPreTraining model).\n",
      "- This IS NOT expected if you are initializing BertModel from the checkpoint of a model that you expect to be exactly identical (initializing a BertForSequenceClassification model from a BertForSequenceClassification model).\n",
      "Warning: Baseline not Found for bert-base-multilingual-cased on ja at /home/ryoryon66/.pyenv/versions/3.9.8/lib/python3.9/site-packages/bert_score/rescale_baseline/ja/bert-base-multilingual-cased.tsv\n",
      "Some weights of the model checkpoint at bert-base-multilingual-cased were not used when initializing BertModel: ['cls.predictions.transform.dense.weight', 'cls.seq_relationship.weight', 'cls.predictions.transform.LayerNorm.weight', 'cls.predictions.bias', 'cls.seq_relationship.bias', 'cls.predictions.transform.dense.bias', 'cls.predictions.transform.LayerNorm.bias']\n",
      "- This IS expected if you are initializing BertModel from the checkpoint of a model trained on another task or with another architecture (e.g. initializing a BertForSequenceClassification model from a BertForPreTraining model).\n",
      "- This IS NOT expected if you are initializing BertModel from the checkpoint of a model that you expect to be exactly identical (initializing a BertForSequenceClassification model from a BertForSequenceClassification model).\n",
      "Warning: Baseline not Found for bert-base-multilingual-cased on ja at /home/ryoryon66/.pyenv/versions/3.9.8/lib/python3.9/site-packages/bert_score/rescale_baseline/ja/bert-base-multilingual-cased.tsv\n",
      "Some weights of the model checkpoint at bert-base-multilingual-cased were not used when initializing BertModel: ['cls.predictions.transform.dense.weight', 'cls.seq_relationship.weight', 'cls.predictions.transform.LayerNorm.weight', 'cls.predictions.bias', 'cls.seq_relationship.bias', 'cls.predictions.transform.dense.bias', 'cls.predictions.transform.LayerNorm.bias']\n",
      "- This IS expected if you are initializing BertModel from the checkpoint of a model trained on another task or with another architecture (e.g. initializing a BertForSequenceClassification model from a BertForPreTraining model).\n",
      "- This IS NOT expected if you are initializing BertModel from the checkpoint of a model that you expect to be exactly identical (initializing a BertForSequenceClassification model from a BertForSequenceClassification model).\n"
     ]
    },
    {
     "name": "stdout",
     "output_type": "stream",
     "text": [
      "hallucination pr_scores: [0.23444340229034435]\n",
      "hallucination re_scores: [0.14554816484451286]\n",
      "hallucination f1_scores: [0.19302548170089728]\n",
      "processing 45 / 100\n"
     ]
    },
    {
     "name": "stderr",
     "output_type": "stream",
     "text": [
      "Warning: Baseline not Found for bert-base-multilingual-cased on ja at /home/ryoryon66/.pyenv/versions/3.9.8/lib/python3.9/site-packages/bert_score/rescale_baseline/ja/bert-base-multilingual-cased.tsv\n",
      "/tmp/ipykernel_28939/1749957329.py:18: FutureWarning: The frame.append method is deprecated and will be removed from pandas in a future version. Use pandas.concat instead.\n",
      "  score_df = score_df.append({\n"
     ]
    },
    {
     "name": "stdout",
     "output_type": "stream",
     "text": [
      "QA20CAPR-0091 原子番号99の元素にもその名を残す、「光電効果」の説明や「特殊相対性理論」の提唱などの業績で知られる科学者は誰でしょう? アーネスト・ラザフォード\n",
      "sampled: ['アルベルト・アインシュタイン', 'アーネスト・ラザフォード', 'アーネスト・ラザフォード', 'アーネスト・ラザフォード', 'アインシュタイン']\n",
      "r_sentences\n",
      "['アーネスト・ラザフォード']\n",
      "アーネスト・ラザフォード\n"
     ]
    },
    {
     "name": "stderr",
     "output_type": "stream",
     "text": [
      "Some weights of the model checkpoint at bert-base-multilingual-cased were not used when initializing BertModel: ['cls.predictions.transform.dense.weight', 'cls.seq_relationship.weight', 'cls.predictions.transform.LayerNorm.weight', 'cls.predictions.bias', 'cls.seq_relationship.bias', 'cls.predictions.transform.dense.bias', 'cls.predictions.transform.LayerNorm.bias']\n",
      "- This IS expected if you are initializing BertModel from the checkpoint of a model trained on another task or with another architecture (e.g. initializing a BertForSequenceClassification model from a BertForPreTraining model).\n",
      "- This IS NOT expected if you are initializing BertModel from the checkpoint of a model that you expect to be exactly identical (initializing a BertForSequenceClassification model from a BertForSequenceClassification model).\n",
      "Warning: Baseline not Found for bert-base-multilingual-cased on ja at /home/ryoryon66/.pyenv/versions/3.9.8/lib/python3.9/site-packages/bert_score/rescale_baseline/ja/bert-base-multilingual-cased.tsv\n",
      "Some weights of the model checkpoint at bert-base-multilingual-cased were not used when initializing BertModel: ['cls.predictions.transform.dense.weight', 'cls.seq_relationship.weight', 'cls.predictions.transform.LayerNorm.weight', 'cls.predictions.bias', 'cls.seq_relationship.bias', 'cls.predictions.transform.dense.bias', 'cls.predictions.transform.LayerNorm.bias']\n",
      "- This IS expected if you are initializing BertModel from the checkpoint of a model trained on another task or with another architecture (e.g. initializing a BertForSequenceClassification model from a BertForPreTraining model).\n",
      "- This IS NOT expected if you are initializing BertModel from the checkpoint of a model that you expect to be exactly identical (initializing a BertForSequenceClassification model from a BertForSequenceClassification model).\n",
      "Warning: Baseline not Found for bert-base-multilingual-cased on ja at /home/ryoryon66/.pyenv/versions/3.9.8/lib/python3.9/site-packages/bert_score/rescale_baseline/ja/bert-base-multilingual-cased.tsv\n",
      "Some weights of the model checkpoint at bert-base-multilingual-cased were not used when initializing BertModel: ['cls.predictions.transform.dense.weight', 'cls.seq_relationship.weight', 'cls.predictions.transform.LayerNorm.weight', 'cls.predictions.bias', 'cls.seq_relationship.bias', 'cls.predictions.transform.dense.bias', 'cls.predictions.transform.LayerNorm.bias']\n",
      "- This IS expected if you are initializing BertModel from the checkpoint of a model trained on another task or with another architecture (e.g. initializing a BertForSequenceClassification model from a BertForPreTraining model).\n",
      "- This IS NOT expected if you are initializing BertModel from the checkpoint of a model that you expect to be exactly identical (initializing a BertForSequenceClassification model from a BertForSequenceClassification model).\n",
      "Warning: Baseline not Found for bert-base-multilingual-cased on ja at /home/ryoryon66/.pyenv/versions/3.9.8/lib/python3.9/site-packages/bert_score/rescale_baseline/ja/bert-base-multilingual-cased.tsv\n",
      "Some weights of the model checkpoint at bert-base-multilingual-cased were not used when initializing BertModel: ['cls.predictions.transform.dense.weight', 'cls.seq_relationship.weight', 'cls.predictions.transform.LayerNorm.weight', 'cls.predictions.bias', 'cls.seq_relationship.bias', 'cls.predictions.transform.dense.bias', 'cls.predictions.transform.LayerNorm.bias']\n",
      "- This IS expected if you are initializing BertModel from the checkpoint of a model trained on another task or with another architecture (e.g. initializing a BertForSequenceClassification model from a BertForPreTraining model).\n",
      "- This IS NOT expected if you are initializing BertModel from the checkpoint of a model that you expect to be exactly identical (initializing a BertForSequenceClassification model from a BertForSequenceClassification model).\n",
      "Warning: Baseline not Found for bert-base-multilingual-cased on ja at /home/ryoryon66/.pyenv/versions/3.9.8/lib/python3.9/site-packages/bert_score/rescale_baseline/ja/bert-base-multilingual-cased.tsv\n",
      "Some weights of the model checkpoint at bert-base-multilingual-cased were not used when initializing BertModel: ['cls.predictions.transform.dense.weight', 'cls.seq_relationship.weight', 'cls.predictions.transform.LayerNorm.weight', 'cls.predictions.bias', 'cls.seq_relationship.bias', 'cls.predictions.transform.dense.bias', 'cls.predictions.transform.LayerNorm.bias']\n",
      "- This IS expected if you are initializing BertModel from the checkpoint of a model trained on another task or with another architecture (e.g. initializing a BertForSequenceClassification model from a BertForPreTraining model).\n",
      "- This IS NOT expected if you are initializing BertModel from the checkpoint of a model that you expect to be exactly identical (initializing a BertForSequenceClassification model from a BertForSequenceClassification model).\n"
     ]
    },
    {
     "name": "stdout",
     "output_type": "stream",
     "text": [
      "hallucination pr_scores: [0.10022029876708974]\n",
      "hallucination re_scores: [0.11475235223770139]\n",
      "hallucination f1_scores: [0.10767441987991327]\n",
      "processing 46 / 100\n"
     ]
    },
    {
     "name": "stderr",
     "output_type": "stream",
     "text": [
      "Warning: Baseline not Found for bert-base-multilingual-cased on ja at /home/ryoryon66/.pyenv/versions/3.9.8/lib/python3.9/site-packages/bert_score/rescale_baseline/ja/bert-base-multilingual-cased.tsv\n",
      "/tmp/ipykernel_28939/1749957329.py:18: FutureWarning: The frame.append method is deprecated and will be removed from pandas in a future version. Use pandas.concat instead.\n",
      "  score_df = score_df.append({\n"
     ]
    },
    {
     "name": "stdout",
     "output_type": "stream",
     "text": [
      "QA20CAPR-0093 雑誌などで発表せず、直接単行本などで出版される小説のことを何というでしょう? オフ・ザ・ウォール」とは、アメリカのロックバンドU2が1979年にリリースしたアルバムです。\n",
      "このバンドはロックの殿堂入りを果たしています。\n",
      "オフ・ザ・ウォールは、アメリカや世界中で大ヒットを記録しました。\n",
      "オフ・ザ・ウォールは、ロック史上重要な作品として広く認知されています。\n",
      "\n",
      "sampled: ['同人誌などとも呼ばれます。 同人誌とは、小規模に発行される文学作品であり、サークルや個人が創作した作品を販売することを目的としています。', '秘匿出版(ひとくしゅりゅう)といいます。', 'オフ・ザ・ペーパーズ・フィクション。', '直木三十五賞など。 直木賞は、大衆文学における優れた業績に対して授与される文学賞です。大衆文学とは、大衆に広く読まれる小説のことです。直木賞は、大衆文学の最高峰とされています。', 'オフ・ザ・ウォール アメリカ文学の父と呼ばれるウォルター・ベンヤミンは、その死後も多くの論議を呼び、彼の芸術や思想の意義について再評価されています。ベンヤミンは、ドイツとフランスの文化を融合させた独自のスタイルを作り出し、社会の規範や制度に対する批判的な視点を持ち続けました。ベンヤミンの作品は、ロマン主義的な観点から解釈されることが多いですが、彼は同時にポストモダニズムの先駆者とされています。']\n",
      "r_sentences\n",
      "['オフ・ザ・ウォール」とは、アメリカのロックバンドU2が1979年にリリースしたアルバムです', 'このバンドはロックの殿堂入りを果たしています', 'オフ・ザ・ウォールは、アメリカや世界中で大ヒットを記録しました', 'オフ・ザ・ウォールは、ロック史上重要な作品として広く認知されています']\n",
      "オフ・ザ・ウォール」とは、アメリカのロックバンドU2が1979年にリリースしたアルバムです\n"
     ]
    },
    {
     "name": "stderr",
     "output_type": "stream",
     "text": [
      "Some weights of the model checkpoint at bert-base-multilingual-cased were not used when initializing BertModel: ['cls.predictions.transform.dense.weight', 'cls.seq_relationship.weight', 'cls.predictions.transform.LayerNorm.weight', 'cls.predictions.bias', 'cls.seq_relationship.bias', 'cls.predictions.transform.dense.bias', 'cls.predictions.transform.LayerNorm.bias']\n",
      "- This IS expected if you are initializing BertModel from the checkpoint of a model trained on another task or with another architecture (e.g. initializing a BertForSequenceClassification model from a BertForPreTraining model).\n",
      "- This IS NOT expected if you are initializing BertModel from the checkpoint of a model that you expect to be exactly identical (initializing a BertForSequenceClassification model from a BertForSequenceClassification model).\n",
      "Warning: Baseline not Found for bert-base-multilingual-cased on ja at /home/ryoryon66/.pyenv/versions/3.9.8/lib/python3.9/site-packages/bert_score/rescale_baseline/ja/bert-base-multilingual-cased.tsv\n",
      "Some weights of the model checkpoint at bert-base-multilingual-cased were not used when initializing BertModel: ['cls.predictions.transform.dense.weight', 'cls.seq_relationship.weight', 'cls.predictions.transform.LayerNorm.weight', 'cls.predictions.bias', 'cls.seq_relationship.bias', 'cls.predictions.transform.dense.bias', 'cls.predictions.transform.LayerNorm.bias']\n",
      "- This IS expected if you are initializing BertModel from the checkpoint of a model trained on another task or with another architecture (e.g. initializing a BertForSequenceClassification model from a BertForPreTraining model).\n",
      "- This IS NOT expected if you are initializing BertModel from the checkpoint of a model that you expect to be exactly identical (initializing a BertForSequenceClassification model from a BertForSequenceClassification model).\n",
      "Warning: Baseline not Found for bert-base-multilingual-cased on ja at /home/ryoryon66/.pyenv/versions/3.9.8/lib/python3.9/site-packages/bert_score/rescale_baseline/ja/bert-base-multilingual-cased.tsv\n",
      "Some weights of the model checkpoint at bert-base-multilingual-cased were not used when initializing BertModel: ['cls.predictions.transform.dense.weight', 'cls.seq_relationship.weight', 'cls.predictions.transform.LayerNorm.weight', 'cls.predictions.bias', 'cls.seq_relationship.bias', 'cls.predictions.transform.dense.bias', 'cls.predictions.transform.LayerNorm.bias']\n",
      "- This IS expected if you are initializing BertModel from the checkpoint of a model trained on another task or with another architecture (e.g. initializing a BertForSequenceClassification model from a BertForPreTraining model).\n",
      "- This IS NOT expected if you are initializing BertModel from the checkpoint of a model that you expect to be exactly identical (initializing a BertForSequenceClassification model from a BertForSequenceClassification model).\n",
      "Warning: Baseline not Found for bert-base-multilingual-cased on ja at /home/ryoryon66/.pyenv/versions/3.9.8/lib/python3.9/site-packages/bert_score/rescale_baseline/ja/bert-base-multilingual-cased.tsv\n",
      "Some weights of the model checkpoint at bert-base-multilingual-cased were not used when initializing BertModel: ['cls.predictions.transform.dense.weight', 'cls.seq_relationship.weight', 'cls.predictions.transform.LayerNorm.weight', 'cls.predictions.bias', 'cls.seq_relationship.bias', 'cls.predictions.transform.dense.bias', 'cls.predictions.transform.LayerNorm.bias']\n",
      "- This IS expected if you are initializing BertModel from the checkpoint of a model trained on another task or with another architecture (e.g. initializing a BertForSequenceClassification model from a BertForPreTraining model).\n",
      "- This IS NOT expected if you are initializing BertModel from the checkpoint of a model that you expect to be exactly identical (initializing a BertForSequenceClassification model from a BertForSequenceClassification model).\n",
      "Warning: Baseline not Found for bert-base-multilingual-cased on ja at /home/ryoryon66/.pyenv/versions/3.9.8/lib/python3.9/site-packages/bert_score/rescale_baseline/ja/bert-base-multilingual-cased.tsv\n",
      "Some weights of the model checkpoint at bert-base-multilingual-cased were not used when initializing BertModel: ['cls.predictions.transform.dense.weight', 'cls.seq_relationship.weight', 'cls.predictions.transform.LayerNorm.weight', 'cls.predictions.bias', 'cls.seq_relationship.bias', 'cls.predictions.transform.dense.bias', 'cls.predictions.transform.LayerNorm.bias']\n",
      "- This IS expected if you are initializing BertModel from the checkpoint of a model trained on another task or with another architecture (e.g. initializing a BertForSequenceClassification model from a BertForPreTraining model).\n",
      "- This IS NOT expected if you are initializing BertModel from the checkpoint of a model that you expect to be exactly identical (initializing a BertForSequenceClassification model from a BertForSequenceClassification model).\n",
      "Warning: Baseline not Found for bert-base-multilingual-cased on ja at /home/ryoryon66/.pyenv/versions/3.9.8/lib/python3.9/site-packages/bert_score/rescale_baseline/ja/bert-base-multilingual-cased.tsv\n"
     ]
    },
    {
     "name": "stdout",
     "output_type": "stream",
     "text": [
      "このバンドはロックの殿堂入りを果たしています\n"
     ]
    },
    {
     "name": "stderr",
     "output_type": "stream",
     "text": [
      "Some weights of the model checkpoint at bert-base-multilingual-cased were not used when initializing BertModel: ['cls.predictions.transform.dense.weight', 'cls.seq_relationship.weight', 'cls.predictions.transform.LayerNorm.weight', 'cls.predictions.bias', 'cls.seq_relationship.bias', 'cls.predictions.transform.dense.bias', 'cls.predictions.transform.LayerNorm.bias']\n",
      "- This IS expected if you are initializing BertModel from the checkpoint of a model trained on another task or with another architecture (e.g. initializing a BertForSequenceClassification model from a BertForPreTraining model).\n",
      "- This IS NOT expected if you are initializing BertModel from the checkpoint of a model that you expect to be exactly identical (initializing a BertForSequenceClassification model from a BertForSequenceClassification model).\n",
      "Warning: Baseline not Found for bert-base-multilingual-cased on ja at /home/ryoryon66/.pyenv/versions/3.9.8/lib/python3.9/site-packages/bert_score/rescale_baseline/ja/bert-base-multilingual-cased.tsv\n",
      "Some weights of the model checkpoint at bert-base-multilingual-cased were not used when initializing BertModel: ['cls.predictions.transform.dense.weight', 'cls.seq_relationship.weight', 'cls.predictions.transform.LayerNorm.weight', 'cls.predictions.bias', 'cls.seq_relationship.bias', 'cls.predictions.transform.dense.bias', 'cls.predictions.transform.LayerNorm.bias']\n",
      "- This IS expected if you are initializing BertModel from the checkpoint of a model trained on another task or with another architecture (e.g. initializing a BertForSequenceClassification model from a BertForPreTraining model).\n",
      "- This IS NOT expected if you are initializing BertModel from the checkpoint of a model that you expect to be exactly identical (initializing a BertForSequenceClassification model from a BertForSequenceClassification model).\n",
      "Warning: Baseline not Found for bert-base-multilingual-cased on ja at /home/ryoryon66/.pyenv/versions/3.9.8/lib/python3.9/site-packages/bert_score/rescale_baseline/ja/bert-base-multilingual-cased.tsv\n",
      "Some weights of the model checkpoint at bert-base-multilingual-cased were not used when initializing BertModel: ['cls.predictions.transform.dense.weight', 'cls.seq_relationship.weight', 'cls.predictions.transform.LayerNorm.weight', 'cls.predictions.bias', 'cls.seq_relationship.bias', 'cls.predictions.transform.dense.bias', 'cls.predictions.transform.LayerNorm.bias']\n",
      "- This IS expected if you are initializing BertModel from the checkpoint of a model trained on another task or with another architecture (e.g. initializing a BertForSequenceClassification model from a BertForPreTraining model).\n",
      "- This IS NOT expected if you are initializing BertModel from the checkpoint of a model that you expect to be exactly identical (initializing a BertForSequenceClassification model from a BertForSequenceClassification model).\n",
      "Warning: Baseline not Found for bert-base-multilingual-cased on ja at /home/ryoryon66/.pyenv/versions/3.9.8/lib/python3.9/site-packages/bert_score/rescale_baseline/ja/bert-base-multilingual-cased.tsv\n",
      "Some weights of the model checkpoint at bert-base-multilingual-cased were not used when initializing BertModel: ['cls.predictions.transform.dense.weight', 'cls.seq_relationship.weight', 'cls.predictions.transform.LayerNorm.weight', 'cls.predictions.bias', 'cls.seq_relationship.bias', 'cls.predictions.transform.dense.bias', 'cls.predictions.transform.LayerNorm.bias']\n",
      "- This IS expected if you are initializing BertModel from the checkpoint of a model trained on another task or with another architecture (e.g. initializing a BertForSequenceClassification model from a BertForPreTraining model).\n",
      "- This IS NOT expected if you are initializing BertModel from the checkpoint of a model that you expect to be exactly identical (initializing a BertForSequenceClassification model from a BertForSequenceClassification model).\n",
      "Warning: Baseline not Found for bert-base-multilingual-cased on ja at /home/ryoryon66/.pyenv/versions/3.9.8/lib/python3.9/site-packages/bert_score/rescale_baseline/ja/bert-base-multilingual-cased.tsv\n",
      "Some weights of the model checkpoint at bert-base-multilingual-cased were not used when initializing BertModel: ['cls.predictions.transform.dense.weight', 'cls.seq_relationship.weight', 'cls.predictions.transform.LayerNorm.weight', 'cls.predictions.bias', 'cls.seq_relationship.bias', 'cls.predictions.transform.dense.bias', 'cls.predictions.transform.LayerNorm.bias']\n",
      "- This IS expected if you are initializing BertModel from the checkpoint of a model trained on another task or with another architecture (e.g. initializing a BertForSequenceClassification model from a BertForPreTraining model).\n",
      "- This IS NOT expected if you are initializing BertModel from the checkpoint of a model that you expect to be exactly identical (initializing a BertForSequenceClassification model from a BertForSequenceClassification model).\n",
      "Warning: Baseline not Found for bert-base-multilingual-cased on ja at /home/ryoryon66/.pyenv/versions/3.9.8/lib/python3.9/site-packages/bert_score/rescale_baseline/ja/bert-base-multilingual-cased.tsv\n"
     ]
    },
    {
     "name": "stdout",
     "output_type": "stream",
     "text": [
      "オフ・ザ・ウォールは、アメリカや世界中で大ヒットを記録しました\n"
     ]
    },
    {
     "name": "stderr",
     "output_type": "stream",
     "text": [
      "Some weights of the model checkpoint at bert-base-multilingual-cased were not used when initializing BertModel: ['cls.predictions.transform.dense.weight', 'cls.seq_relationship.weight', 'cls.predictions.transform.LayerNorm.weight', 'cls.predictions.bias', 'cls.seq_relationship.bias', 'cls.predictions.transform.dense.bias', 'cls.predictions.transform.LayerNorm.bias']\n",
      "- This IS expected if you are initializing BertModel from the checkpoint of a model trained on another task or with another architecture (e.g. initializing a BertForSequenceClassification model from a BertForPreTraining model).\n",
      "- This IS NOT expected if you are initializing BertModel from the checkpoint of a model that you expect to be exactly identical (initializing a BertForSequenceClassification model from a BertForSequenceClassification model).\n",
      "Warning: Baseline not Found for bert-base-multilingual-cased on ja at /home/ryoryon66/.pyenv/versions/3.9.8/lib/python3.9/site-packages/bert_score/rescale_baseline/ja/bert-base-multilingual-cased.tsv\n",
      "Some weights of the model checkpoint at bert-base-multilingual-cased were not used when initializing BertModel: ['cls.predictions.transform.dense.weight', 'cls.seq_relationship.weight', 'cls.predictions.transform.LayerNorm.weight', 'cls.predictions.bias', 'cls.seq_relationship.bias', 'cls.predictions.transform.dense.bias', 'cls.predictions.transform.LayerNorm.bias']\n",
      "- This IS expected if you are initializing BertModel from the checkpoint of a model trained on another task or with another architecture (e.g. initializing a BertForSequenceClassification model from a BertForPreTraining model).\n",
      "- This IS NOT expected if you are initializing BertModel from the checkpoint of a model that you expect to be exactly identical (initializing a BertForSequenceClassification model from a BertForSequenceClassification model).\n",
      "Warning: Baseline not Found for bert-base-multilingual-cased on ja at /home/ryoryon66/.pyenv/versions/3.9.8/lib/python3.9/site-packages/bert_score/rescale_baseline/ja/bert-base-multilingual-cased.tsv\n",
      "Some weights of the model checkpoint at bert-base-multilingual-cased were not used when initializing BertModel: ['cls.predictions.transform.dense.weight', 'cls.seq_relationship.weight', 'cls.predictions.transform.LayerNorm.weight', 'cls.predictions.bias', 'cls.seq_relationship.bias', 'cls.predictions.transform.dense.bias', 'cls.predictions.transform.LayerNorm.bias']\n",
      "- This IS expected if you are initializing BertModel from the checkpoint of a model trained on another task or with another architecture (e.g. initializing a BertForSequenceClassification model from a BertForPreTraining model).\n",
      "- This IS NOT expected if you are initializing BertModel from the checkpoint of a model that you expect to be exactly identical (initializing a BertForSequenceClassification model from a BertForSequenceClassification model).\n",
      "Warning: Baseline not Found for bert-base-multilingual-cased on ja at /home/ryoryon66/.pyenv/versions/3.9.8/lib/python3.9/site-packages/bert_score/rescale_baseline/ja/bert-base-multilingual-cased.tsv\n",
      "Some weights of the model checkpoint at bert-base-multilingual-cased were not used when initializing BertModel: ['cls.predictions.transform.dense.weight', 'cls.seq_relationship.weight', 'cls.predictions.transform.LayerNorm.weight', 'cls.predictions.bias', 'cls.seq_relationship.bias', 'cls.predictions.transform.dense.bias', 'cls.predictions.transform.LayerNorm.bias']\n",
      "- This IS expected if you are initializing BertModel from the checkpoint of a model trained on another task or with another architecture (e.g. initializing a BertForSequenceClassification model from a BertForPreTraining model).\n",
      "- This IS NOT expected if you are initializing BertModel from the checkpoint of a model that you expect to be exactly identical (initializing a BertForSequenceClassification model from a BertForSequenceClassification model).\n",
      "Warning: Baseline not Found for bert-base-multilingual-cased on ja at /home/ryoryon66/.pyenv/versions/3.9.8/lib/python3.9/site-packages/bert_score/rescale_baseline/ja/bert-base-multilingual-cased.tsv\n",
      "Some weights of the model checkpoint at bert-base-multilingual-cased were not used when initializing BertModel: ['cls.predictions.transform.dense.weight', 'cls.seq_relationship.weight', 'cls.predictions.transform.LayerNorm.weight', 'cls.predictions.bias', 'cls.seq_relationship.bias', 'cls.predictions.transform.dense.bias', 'cls.predictions.transform.LayerNorm.bias']\n",
      "- This IS expected if you are initializing BertModel from the checkpoint of a model trained on another task or with another architecture (e.g. initializing a BertForSequenceClassification model from a BertForPreTraining model).\n",
      "- This IS NOT expected if you are initializing BertModel from the checkpoint of a model that you expect to be exactly identical (initializing a BertForSequenceClassification model from a BertForSequenceClassification model).\n",
      "Warning: Baseline not Found for bert-base-multilingual-cased on ja at /home/ryoryon66/.pyenv/versions/3.9.8/lib/python3.9/site-packages/bert_score/rescale_baseline/ja/bert-base-multilingual-cased.tsv\n"
     ]
    },
    {
     "name": "stdout",
     "output_type": "stream",
     "text": [
      "オフ・ザ・ウォールは、ロック史上重要な作品として広く認知されています\n"
     ]
    },
    {
     "name": "stderr",
     "output_type": "stream",
     "text": [
      "Some weights of the model checkpoint at bert-base-multilingual-cased were not used when initializing BertModel: ['cls.predictions.transform.dense.weight', 'cls.seq_relationship.weight', 'cls.predictions.transform.LayerNorm.weight', 'cls.predictions.bias', 'cls.seq_relationship.bias', 'cls.predictions.transform.dense.bias', 'cls.predictions.transform.LayerNorm.bias']\n",
      "- This IS expected if you are initializing BertModel from the checkpoint of a model trained on another task or with another architecture (e.g. initializing a BertForSequenceClassification model from a BertForPreTraining model).\n",
      "- This IS NOT expected if you are initializing BertModel from the checkpoint of a model that you expect to be exactly identical (initializing a BertForSequenceClassification model from a BertForSequenceClassification model).\n",
      "Warning: Baseline not Found for bert-base-multilingual-cased on ja at /home/ryoryon66/.pyenv/versions/3.9.8/lib/python3.9/site-packages/bert_score/rescale_baseline/ja/bert-base-multilingual-cased.tsv\n",
      "Some weights of the model checkpoint at bert-base-multilingual-cased were not used when initializing BertModel: ['cls.predictions.transform.dense.weight', 'cls.seq_relationship.weight', 'cls.predictions.transform.LayerNorm.weight', 'cls.predictions.bias', 'cls.seq_relationship.bias', 'cls.predictions.transform.dense.bias', 'cls.predictions.transform.LayerNorm.bias']\n",
      "- This IS expected if you are initializing BertModel from the checkpoint of a model trained on another task or with another architecture (e.g. initializing a BertForSequenceClassification model from a BertForPreTraining model).\n",
      "- This IS NOT expected if you are initializing BertModel from the checkpoint of a model that you expect to be exactly identical (initializing a BertForSequenceClassification model from a BertForSequenceClassification model).\n",
      "Warning: Baseline not Found for bert-base-multilingual-cased on ja at /home/ryoryon66/.pyenv/versions/3.9.8/lib/python3.9/site-packages/bert_score/rescale_baseline/ja/bert-base-multilingual-cased.tsv\n",
      "Some weights of the model checkpoint at bert-base-multilingual-cased were not used when initializing BertModel: ['cls.predictions.transform.dense.weight', 'cls.seq_relationship.weight', 'cls.predictions.transform.LayerNorm.weight', 'cls.predictions.bias', 'cls.seq_relationship.bias', 'cls.predictions.transform.dense.bias', 'cls.predictions.transform.LayerNorm.bias']\n",
      "- This IS expected if you are initializing BertModel from the checkpoint of a model trained on another task or with another architecture (e.g. initializing a BertForSequenceClassification model from a BertForPreTraining model).\n",
      "- This IS NOT expected if you are initializing BertModel from the checkpoint of a model that you expect to be exactly identical (initializing a BertForSequenceClassification model from a BertForSequenceClassification model).\n",
      "Warning: Baseline not Found for bert-base-multilingual-cased on ja at /home/ryoryon66/.pyenv/versions/3.9.8/lib/python3.9/site-packages/bert_score/rescale_baseline/ja/bert-base-multilingual-cased.tsv\n",
      "Some weights of the model checkpoint at bert-base-multilingual-cased were not used when initializing BertModel: ['cls.predictions.transform.dense.weight', 'cls.seq_relationship.weight', 'cls.predictions.transform.LayerNorm.weight', 'cls.predictions.bias', 'cls.seq_relationship.bias', 'cls.predictions.transform.dense.bias', 'cls.predictions.transform.LayerNorm.bias']\n",
      "- This IS expected if you are initializing BertModel from the checkpoint of a model trained on another task or with another architecture (e.g. initializing a BertForSequenceClassification model from a BertForPreTraining model).\n",
      "- This IS NOT expected if you are initializing BertModel from the checkpoint of a model that you expect to be exactly identical (initializing a BertForSequenceClassification model from a BertForSequenceClassification model).\n",
      "Warning: Baseline not Found for bert-base-multilingual-cased on ja at /home/ryoryon66/.pyenv/versions/3.9.8/lib/python3.9/site-packages/bert_score/rescale_baseline/ja/bert-base-multilingual-cased.tsv\n",
      "Some weights of the model checkpoint at bert-base-multilingual-cased were not used when initializing BertModel: ['cls.predictions.transform.dense.weight', 'cls.seq_relationship.weight', 'cls.predictions.transform.LayerNorm.weight', 'cls.predictions.bias', 'cls.seq_relationship.bias', 'cls.predictions.transform.dense.bias', 'cls.predictions.transform.LayerNorm.bias']\n",
      "- This IS expected if you are initializing BertModel from the checkpoint of a model trained on another task or with another architecture (e.g. initializing a BertForSequenceClassification model from a BertForPreTraining model).\n",
      "- This IS NOT expected if you are initializing BertModel from the checkpoint of a model that you expect to be exactly identical (initializing a BertForSequenceClassification model from a BertForSequenceClassification model).\n"
     ]
    },
    {
     "name": "stdout",
     "output_type": "stream",
     "text": [
      "hallucination pr_scores: [0.3798628807067871, 0.33065884113311783, 0.36093140840530397, 0.32919124364852903]\n",
      "hallucination re_scores: [0.3438011646270751, 0.3533708810806273, 0.3417816281318665, 0.30847353935241706]\n",
      "hallucination f1_scores: [0.36347995996475235, 0.3454631567001343, 0.3530328750610352, 0.32250541448593134]\n",
      "processing 47 / 100\n"
     ]
    },
    {
     "name": "stderr",
     "output_type": "stream",
     "text": [
      "Warning: Baseline not Found for bert-base-multilingual-cased on ja at /home/ryoryon66/.pyenv/versions/3.9.8/lib/python3.9/site-packages/bert_score/rescale_baseline/ja/bert-base-multilingual-cased.tsv\n",
      "/tmp/ipykernel_28939/1749957329.py:18: FutureWarning: The frame.append method is deprecated and will be removed from pandas in a future version. Use pandas.concat instead.\n",
      "  score_df = score_df.append({\n"
     ]
    },
    {
     "name": "stdout",
     "output_type": "stream",
     "text": [
      "QA20CAPR-0095 ドイツの教師リヒャルト・シルマンが提唱し世界に広まった、旅行者が格安で利用できる宿泊所を何というでしょう? ユースホステル」とは、会員制の宿泊施設で、青少年や若者に旅行者向けの宿泊と教育を提供するものです。\n",
      "リヒャルト・シルマンは、ユースホステル運動の中心的な推進者であり、ユースホステル運動は、旅行者の宿泊と教育の機会を増やすことによって、世界の観光を促進することを目的としています。\n",
      "\n",
      "sampled: ['ユースホステル', 'ホームステイ制度', 'ユースホステル」です。', 'ユースホステル', 'ホームステイ制度']\n",
      "r_sentences\n",
      "['ユースホステル」とは、会員制の宿泊施設で、青少年や若者に旅行者向けの宿泊と教育を提供するものです', 'リヒャルト・シルマンは、ユースホステル運動の中心的な推進者であり、ユースホステル運動は、旅行者の宿泊と教育の機会を増やすことによって、世界の観光を促進することを目的としています']\n",
      "ユースホステル」とは、会員制の宿泊施設で、青少年や若者に旅行者向けの宿泊と教育を提供するものです\n"
     ]
    },
    {
     "name": "stderr",
     "output_type": "stream",
     "text": [
      "Some weights of the model checkpoint at bert-base-multilingual-cased were not used when initializing BertModel: ['cls.predictions.transform.dense.weight', 'cls.seq_relationship.weight', 'cls.predictions.transform.LayerNorm.weight', 'cls.predictions.bias', 'cls.seq_relationship.bias', 'cls.predictions.transform.dense.bias', 'cls.predictions.transform.LayerNorm.bias']\n",
      "- This IS expected if you are initializing BertModel from the checkpoint of a model trained on another task or with another architecture (e.g. initializing a BertForSequenceClassification model from a BertForPreTraining model).\n",
      "- This IS NOT expected if you are initializing BertModel from the checkpoint of a model that you expect to be exactly identical (initializing a BertForSequenceClassification model from a BertForSequenceClassification model).\n",
      "Warning: Baseline not Found for bert-base-multilingual-cased on ja at /home/ryoryon66/.pyenv/versions/3.9.8/lib/python3.9/site-packages/bert_score/rescale_baseline/ja/bert-base-multilingual-cased.tsv\n",
      "Some weights of the model checkpoint at bert-base-multilingual-cased were not used when initializing BertModel: ['cls.predictions.transform.dense.weight', 'cls.seq_relationship.weight', 'cls.predictions.transform.LayerNorm.weight', 'cls.predictions.bias', 'cls.seq_relationship.bias', 'cls.predictions.transform.dense.bias', 'cls.predictions.transform.LayerNorm.bias']\n",
      "- This IS expected if you are initializing BertModel from the checkpoint of a model trained on another task or with another architecture (e.g. initializing a BertForSequenceClassification model from a BertForPreTraining model).\n",
      "- This IS NOT expected if you are initializing BertModel from the checkpoint of a model that you expect to be exactly identical (initializing a BertForSequenceClassification model from a BertForSequenceClassification model).\n",
      "Warning: Baseline not Found for bert-base-multilingual-cased on ja at /home/ryoryon66/.pyenv/versions/3.9.8/lib/python3.9/site-packages/bert_score/rescale_baseline/ja/bert-base-multilingual-cased.tsv\n",
      "Some weights of the model checkpoint at bert-base-multilingual-cased were not used when initializing BertModel: ['cls.predictions.transform.dense.weight', 'cls.seq_relationship.weight', 'cls.predictions.transform.LayerNorm.weight', 'cls.predictions.bias', 'cls.seq_relationship.bias', 'cls.predictions.transform.dense.bias', 'cls.predictions.transform.LayerNorm.bias']\n",
      "- This IS expected if you are initializing BertModel from the checkpoint of a model trained on another task or with another architecture (e.g. initializing a BertForSequenceClassification model from a BertForPreTraining model).\n",
      "- This IS NOT expected if you are initializing BertModel from the checkpoint of a model that you expect to be exactly identical (initializing a BertForSequenceClassification model from a BertForSequenceClassification model).\n",
      "Warning: Baseline not Found for bert-base-multilingual-cased on ja at /home/ryoryon66/.pyenv/versions/3.9.8/lib/python3.9/site-packages/bert_score/rescale_baseline/ja/bert-base-multilingual-cased.tsv\n",
      "Some weights of the model checkpoint at bert-base-multilingual-cased were not used when initializing BertModel: ['cls.predictions.transform.dense.weight', 'cls.seq_relationship.weight', 'cls.predictions.transform.LayerNorm.weight', 'cls.predictions.bias', 'cls.seq_relationship.bias', 'cls.predictions.transform.dense.bias', 'cls.predictions.transform.LayerNorm.bias']\n",
      "- This IS expected if you are initializing BertModel from the checkpoint of a model trained on another task or with another architecture (e.g. initializing a BertForSequenceClassification model from a BertForPreTraining model).\n",
      "- This IS NOT expected if you are initializing BertModel from the checkpoint of a model that you expect to be exactly identical (initializing a BertForSequenceClassification model from a BertForSequenceClassification model).\n",
      "Warning: Baseline not Found for bert-base-multilingual-cased on ja at /home/ryoryon66/.pyenv/versions/3.9.8/lib/python3.9/site-packages/bert_score/rescale_baseline/ja/bert-base-multilingual-cased.tsv\n",
      "Some weights of the model checkpoint at bert-base-multilingual-cased were not used when initializing BertModel: ['cls.predictions.transform.dense.weight', 'cls.seq_relationship.weight', 'cls.predictions.transform.LayerNorm.weight', 'cls.predictions.bias', 'cls.seq_relationship.bias', 'cls.predictions.transform.dense.bias', 'cls.predictions.transform.LayerNorm.bias']\n",
      "- This IS expected if you are initializing BertModel from the checkpoint of a model trained on another task or with another architecture (e.g. initializing a BertForSequenceClassification model from a BertForPreTraining model).\n",
      "- This IS NOT expected if you are initializing BertModel from the checkpoint of a model that you expect to be exactly identical (initializing a BertForSequenceClassification model from a BertForSequenceClassification model).\n",
      "Warning: Baseline not Found for bert-base-multilingual-cased on ja at /home/ryoryon66/.pyenv/versions/3.9.8/lib/python3.9/site-packages/bert_score/rescale_baseline/ja/bert-base-multilingual-cased.tsv\n"
     ]
    },
    {
     "name": "stdout",
     "output_type": "stream",
     "text": [
      "リヒャルト・シルマンは、ユースホステル運動の中心的な推進者であり、ユースホステル運動は、旅行者の宿泊と教育の機会を増やすことによって、世界の観光を促進することを目的としています\n"
     ]
    },
    {
     "name": "stderr",
     "output_type": "stream",
     "text": [
      "Some weights of the model checkpoint at bert-base-multilingual-cased were not used when initializing BertModel: ['cls.predictions.transform.dense.weight', 'cls.seq_relationship.weight', 'cls.predictions.transform.LayerNorm.weight', 'cls.predictions.bias', 'cls.seq_relationship.bias', 'cls.predictions.transform.dense.bias', 'cls.predictions.transform.LayerNorm.bias']\n",
      "- This IS expected if you are initializing BertModel from the checkpoint of a model trained on another task or with another architecture (e.g. initializing a BertForSequenceClassification model from a BertForPreTraining model).\n",
      "- This IS NOT expected if you are initializing BertModel from the checkpoint of a model that you expect to be exactly identical (initializing a BertForSequenceClassification model from a BertForSequenceClassification model).\n",
      "Warning: Baseline not Found for bert-base-multilingual-cased on ja at /home/ryoryon66/.pyenv/versions/3.9.8/lib/python3.9/site-packages/bert_score/rescale_baseline/ja/bert-base-multilingual-cased.tsv\n",
      "Some weights of the model checkpoint at bert-base-multilingual-cased were not used when initializing BertModel: ['cls.predictions.transform.dense.weight', 'cls.seq_relationship.weight', 'cls.predictions.transform.LayerNorm.weight', 'cls.predictions.bias', 'cls.seq_relationship.bias', 'cls.predictions.transform.dense.bias', 'cls.predictions.transform.LayerNorm.bias']\n",
      "- This IS expected if you are initializing BertModel from the checkpoint of a model trained on another task or with another architecture (e.g. initializing a BertForSequenceClassification model from a BertForPreTraining model).\n",
      "- This IS NOT expected if you are initializing BertModel from the checkpoint of a model that you expect to be exactly identical (initializing a BertForSequenceClassification model from a BertForSequenceClassification model).\n",
      "Warning: Baseline not Found for bert-base-multilingual-cased on ja at /home/ryoryon66/.pyenv/versions/3.9.8/lib/python3.9/site-packages/bert_score/rescale_baseline/ja/bert-base-multilingual-cased.tsv\n",
      "Some weights of the model checkpoint at bert-base-multilingual-cased were not used when initializing BertModel: ['cls.predictions.transform.dense.weight', 'cls.seq_relationship.weight', 'cls.predictions.transform.LayerNorm.weight', 'cls.predictions.bias', 'cls.seq_relationship.bias', 'cls.predictions.transform.dense.bias', 'cls.predictions.transform.LayerNorm.bias']\n",
      "- This IS expected if you are initializing BertModel from the checkpoint of a model trained on another task or with another architecture (e.g. initializing a BertForSequenceClassification model from a BertForPreTraining model).\n",
      "- This IS NOT expected if you are initializing BertModel from the checkpoint of a model that you expect to be exactly identical (initializing a BertForSequenceClassification model from a BertForSequenceClassification model).\n",
      "Warning: Baseline not Found for bert-base-multilingual-cased on ja at /home/ryoryon66/.pyenv/versions/3.9.8/lib/python3.9/site-packages/bert_score/rescale_baseline/ja/bert-base-multilingual-cased.tsv\n",
      "Some weights of the model checkpoint at bert-base-multilingual-cased were not used when initializing BertModel: ['cls.predictions.transform.dense.weight', 'cls.seq_relationship.weight', 'cls.predictions.transform.LayerNorm.weight', 'cls.predictions.bias', 'cls.seq_relationship.bias', 'cls.predictions.transform.dense.bias', 'cls.predictions.transform.LayerNorm.bias']\n",
      "- This IS expected if you are initializing BertModel from the checkpoint of a model trained on another task or with another architecture (e.g. initializing a BertForSequenceClassification model from a BertForPreTraining model).\n",
      "- This IS NOT expected if you are initializing BertModel from the checkpoint of a model that you expect to be exactly identical (initializing a BertForSequenceClassification model from a BertForSequenceClassification model).\n",
      "Warning: Baseline not Found for bert-base-multilingual-cased on ja at /home/ryoryon66/.pyenv/versions/3.9.8/lib/python3.9/site-packages/bert_score/rescale_baseline/ja/bert-base-multilingual-cased.tsv\n",
      "Some weights of the model checkpoint at bert-base-multilingual-cased were not used when initializing BertModel: ['cls.predictions.transform.dense.weight', 'cls.seq_relationship.weight', 'cls.predictions.transform.LayerNorm.weight', 'cls.predictions.bias', 'cls.seq_relationship.bias', 'cls.predictions.transform.dense.bias', 'cls.predictions.transform.LayerNorm.bias']\n",
      "- This IS expected if you are initializing BertModel from the checkpoint of a model trained on another task or with another architecture (e.g. initializing a BertForSequenceClassification model from a BertForPreTraining model).\n",
      "- This IS NOT expected if you are initializing BertModel from the checkpoint of a model that you expect to be exactly identical (initializing a BertForSequenceClassification model from a BertForSequenceClassification model).\n"
     ]
    },
    {
     "name": "stdout",
     "output_type": "stream",
     "text": [
      "hallucination pr_scores: [0.3941161751747132, 0.4200373172760011]\n",
      "hallucination re_scores: [0.22861356735229488, 0.27922432422637944]\n",
      "hallucination f1_scores: [0.32287969589233406, 0.3577367305755616]\n",
      "processing 48 / 100\n"
     ]
    },
    {
     "name": "stderr",
     "output_type": "stream",
     "text": [
      "Warning: Baseline not Found for bert-base-multilingual-cased on ja at /home/ryoryon66/.pyenv/versions/3.9.8/lib/python3.9/site-packages/bert_score/rescale_baseline/ja/bert-base-multilingual-cased.tsv\n",
      "/tmp/ipykernel_28939/1749957329.py:18: FutureWarning: The frame.append method is deprecated and will be removed from pandas in a future version. Use pandas.concat instead.\n",
      "  score_df = score_df.append({\n"
     ]
    },
    {
     "name": "stdout",
     "output_type": "stream",
     "text": [
      "QA20CAPR-0097 ラテン語で「走る人」という意味の言葉に由来する、パソコンで文字を入力する場所を示す線や記号を何というでしょう? TABLECONTEXT」と書かれたキーがあります。\n",
      "このキーは、画面の右上隅にあります。\n",
      "また、TABLECONTEXTキーを押しながら、スペースバーを押すことでも入力できます。\n",
      "これにより、テキストが選択され、入力できるようになります。\n",
      "\n",
      "sampled: ['TABLECONTEXTと呼ばれるものがあります。また、キーボードの周りに走って、手書き入力をする人もいます。最後に、タイピングとは関係ありませんが、タッチタイピングを学ぶことで、効率的にタイピングができるようになります。タッチタイピングを学ぶには、練習が必要です。練習を続けると、徐々に効率的になり、自分の考えを表現することができるようになります。', 'TABLEキー RUNキー TABLE_TEXT RUN SPACE ENTERキー RUN START KEY RUN CTRL + TABLEキー RUN CTRL + TABLE_TEXT SELECTキー RUN SPACE ENTERキー RUN CTRL + TABLEキー WordやExcelなどのMicrosoft Officeソフトウェアでは、TABLEキーを押して、画面の左上隅にある小さなTABLEボタンに表示されるテキストボックスに入力したい単語を入力します。これにより、スペルミスのある単語を簡単に修正', 'エンコードとは、コンピュータ上での文字の表示方法を決定するためのプロセスです。このプロセスは、アルファベットや数字などの文字集合の標準化と管理に大きく役立っています。コンピューターで使用されるさまざまな文字集合には、フォント、テキストサイズ、およびその他の重要な要素が含まれることが一般的です。フォントファミリーとは、コンピューターで表示される書体のセットであり、テキストの外観を定義します。標準フォントファミリーには、モリサワフォント、ダイナコムフォント、リョーセンフォントが含まれます。これらのフォントファミリーには、安定したアウトラインがあり、テキストの読みやすさを高めています。一方、手書き風のフォントファミリーには、読みやすいフォントがあり、', 'キーボードショートカットキー(Ctrl+Zなど)を使用することで、簡単に入力できます。また、WindowsではAlt+Tabキーを使用して文字入力に簡単に切り替えることができます。Macintoshでは、Command + Tabキーを押し続けることで文字入力に簡単に切り替えることができます。Microsoft Wordなどのテキストエディタでは、Enterキーを押すだけで簡単に入力することができます。', 'エンコード(タイプライターのようなもの)に関係があると思われるかもしれませんが、それは誤りです。ローマ字入力において、子音と母音の区切りを示すためにいくつかの重要な要素があります。最も重要なものは、「子音+母音」と呼ばれるものです。これにより、単語の正しい発音ができます。例えば、ローマ字入力において、QWERTYキーボードでは、k, t, kwなどは、子音と母音を区別するために使用されています。また、QWERTYキーボードでは、s, t, twなど、他のキーにもアクセント記号が使用されています。これらのアクセント記号により、子音と母音の']\n",
      "r_sentences\n",
      "['TABLECONTEXT」と書かれたキーがあります', 'このキーは、画面の右上隅にあります', 'また、TABLECONTEXTキーを押しながら、スペースバーを押すことでも入力できます', 'これにより、テキストが選択され、入力できるようになります']\n",
      "TABLECONTEXT」と書かれたキーがあります\n"
     ]
    },
    {
     "name": "stderr",
     "output_type": "stream",
     "text": [
      "Some weights of the model checkpoint at bert-base-multilingual-cased were not used when initializing BertModel: ['cls.predictions.transform.dense.weight', 'cls.seq_relationship.weight', 'cls.predictions.transform.LayerNorm.weight', 'cls.predictions.bias', 'cls.seq_relationship.bias', 'cls.predictions.transform.dense.bias', 'cls.predictions.transform.LayerNorm.bias']\n",
      "- This IS expected if you are initializing BertModel from the checkpoint of a model trained on another task or with another architecture (e.g. initializing a BertForSequenceClassification model from a BertForPreTraining model).\n",
      "- This IS NOT expected if you are initializing BertModel from the checkpoint of a model that you expect to be exactly identical (initializing a BertForSequenceClassification model from a BertForSequenceClassification model).\n",
      "Warning: Baseline not Found for bert-base-multilingual-cased on ja at /home/ryoryon66/.pyenv/versions/3.9.8/lib/python3.9/site-packages/bert_score/rescale_baseline/ja/bert-base-multilingual-cased.tsv\n",
      "Some weights of the model checkpoint at bert-base-multilingual-cased were not used when initializing BertModel: ['cls.predictions.transform.dense.weight', 'cls.seq_relationship.weight', 'cls.predictions.transform.LayerNorm.weight', 'cls.predictions.bias', 'cls.seq_relationship.bias', 'cls.predictions.transform.dense.bias', 'cls.predictions.transform.LayerNorm.bias']\n",
      "- This IS expected if you are initializing BertModel from the checkpoint of a model trained on another task or with another architecture (e.g. initializing a BertForSequenceClassification model from a BertForPreTraining model).\n",
      "- This IS NOT expected if you are initializing BertModel from the checkpoint of a model that you expect to be exactly identical (initializing a BertForSequenceClassification model from a BertForSequenceClassification model).\n",
      "Warning: Baseline not Found for bert-base-multilingual-cased on ja at /home/ryoryon66/.pyenv/versions/3.9.8/lib/python3.9/site-packages/bert_score/rescale_baseline/ja/bert-base-multilingual-cased.tsv\n",
      "Some weights of the model checkpoint at bert-base-multilingual-cased were not used when initializing BertModel: ['cls.predictions.transform.dense.weight', 'cls.seq_relationship.weight', 'cls.predictions.transform.LayerNorm.weight', 'cls.predictions.bias', 'cls.seq_relationship.bias', 'cls.predictions.transform.dense.bias', 'cls.predictions.transform.LayerNorm.bias']\n",
      "- This IS expected if you are initializing BertModel from the checkpoint of a model trained on another task or with another architecture (e.g. initializing a BertForSequenceClassification model from a BertForPreTraining model).\n",
      "- This IS NOT expected if you are initializing BertModel from the checkpoint of a model that you expect to be exactly identical (initializing a BertForSequenceClassification model from a BertForSequenceClassification model).\n",
      "Warning: Baseline not Found for bert-base-multilingual-cased on ja at /home/ryoryon66/.pyenv/versions/3.9.8/lib/python3.9/site-packages/bert_score/rescale_baseline/ja/bert-base-multilingual-cased.tsv\n",
      "Some weights of the model checkpoint at bert-base-multilingual-cased were not used when initializing BertModel: ['cls.predictions.transform.dense.weight', 'cls.seq_relationship.weight', 'cls.predictions.transform.LayerNorm.weight', 'cls.predictions.bias', 'cls.seq_relationship.bias', 'cls.predictions.transform.dense.bias', 'cls.predictions.transform.LayerNorm.bias']\n",
      "- This IS expected if you are initializing BertModel from the checkpoint of a model trained on another task or with another architecture (e.g. initializing a BertForSequenceClassification model from a BertForPreTraining model).\n",
      "- This IS NOT expected if you are initializing BertModel from the checkpoint of a model that you expect to be exactly identical (initializing a BertForSequenceClassification model from a BertForSequenceClassification model).\n",
      "Warning: Baseline not Found for bert-base-multilingual-cased on ja at /home/ryoryon66/.pyenv/versions/3.9.8/lib/python3.9/site-packages/bert_score/rescale_baseline/ja/bert-base-multilingual-cased.tsv\n",
      "Some weights of the model checkpoint at bert-base-multilingual-cased were not used when initializing BertModel: ['cls.predictions.transform.dense.weight', 'cls.seq_relationship.weight', 'cls.predictions.transform.LayerNorm.weight', 'cls.predictions.bias', 'cls.seq_relationship.bias', 'cls.predictions.transform.dense.bias', 'cls.predictions.transform.LayerNorm.bias']\n",
      "- This IS expected if you are initializing BertModel from the checkpoint of a model trained on another task or with another architecture (e.g. initializing a BertForSequenceClassification model from a BertForPreTraining model).\n",
      "- This IS NOT expected if you are initializing BertModel from the checkpoint of a model that you expect to be exactly identical (initializing a BertForSequenceClassification model from a BertForSequenceClassification model).\n",
      "Warning: Baseline not Found for bert-base-multilingual-cased on ja at /home/ryoryon66/.pyenv/versions/3.9.8/lib/python3.9/site-packages/bert_score/rescale_baseline/ja/bert-base-multilingual-cased.tsv\n"
     ]
    },
    {
     "name": "stdout",
     "output_type": "stream",
     "text": [
      "このキーは、画面の右上隅にあります\n"
     ]
    },
    {
     "name": "stderr",
     "output_type": "stream",
     "text": [
      "Some weights of the model checkpoint at bert-base-multilingual-cased were not used when initializing BertModel: ['cls.predictions.transform.dense.weight', 'cls.seq_relationship.weight', 'cls.predictions.transform.LayerNorm.weight', 'cls.predictions.bias', 'cls.seq_relationship.bias', 'cls.predictions.transform.dense.bias', 'cls.predictions.transform.LayerNorm.bias']\n",
      "- This IS expected if you are initializing BertModel from the checkpoint of a model trained on another task or with another architecture (e.g. initializing a BertForSequenceClassification model from a BertForPreTraining model).\n",
      "- This IS NOT expected if you are initializing BertModel from the checkpoint of a model that you expect to be exactly identical (initializing a BertForSequenceClassification model from a BertForSequenceClassification model).\n",
      "Warning: Baseline not Found for bert-base-multilingual-cased on ja at /home/ryoryon66/.pyenv/versions/3.9.8/lib/python3.9/site-packages/bert_score/rescale_baseline/ja/bert-base-multilingual-cased.tsv\n",
      "Some weights of the model checkpoint at bert-base-multilingual-cased were not used when initializing BertModel: ['cls.predictions.transform.dense.weight', 'cls.seq_relationship.weight', 'cls.predictions.transform.LayerNorm.weight', 'cls.predictions.bias', 'cls.seq_relationship.bias', 'cls.predictions.transform.dense.bias', 'cls.predictions.transform.LayerNorm.bias']\n",
      "- This IS expected if you are initializing BertModel from the checkpoint of a model trained on another task or with another architecture (e.g. initializing a BertForSequenceClassification model from a BertForPreTraining model).\n",
      "- This IS NOT expected if you are initializing BertModel from the checkpoint of a model that you expect to be exactly identical (initializing a BertForSequenceClassification model from a BertForSequenceClassification model).\n",
      "Warning: Baseline not Found for bert-base-multilingual-cased on ja at /home/ryoryon66/.pyenv/versions/3.9.8/lib/python3.9/site-packages/bert_score/rescale_baseline/ja/bert-base-multilingual-cased.tsv\n",
      "Some weights of the model checkpoint at bert-base-multilingual-cased were not used when initializing BertModel: ['cls.predictions.transform.dense.weight', 'cls.seq_relationship.weight', 'cls.predictions.transform.LayerNorm.weight', 'cls.predictions.bias', 'cls.seq_relationship.bias', 'cls.predictions.transform.dense.bias', 'cls.predictions.transform.LayerNorm.bias']\n",
      "- This IS expected if you are initializing BertModel from the checkpoint of a model trained on another task or with another architecture (e.g. initializing a BertForSequenceClassification model from a BertForPreTraining model).\n",
      "- This IS NOT expected if you are initializing BertModel from the checkpoint of a model that you expect to be exactly identical (initializing a BertForSequenceClassification model from a BertForSequenceClassification model).\n",
      "Warning: Baseline not Found for bert-base-multilingual-cased on ja at /home/ryoryon66/.pyenv/versions/3.9.8/lib/python3.9/site-packages/bert_score/rescale_baseline/ja/bert-base-multilingual-cased.tsv\n",
      "Some weights of the model checkpoint at bert-base-multilingual-cased were not used when initializing BertModel: ['cls.predictions.transform.dense.weight', 'cls.seq_relationship.weight', 'cls.predictions.transform.LayerNorm.weight', 'cls.predictions.bias', 'cls.seq_relationship.bias', 'cls.predictions.transform.dense.bias', 'cls.predictions.transform.LayerNorm.bias']\n",
      "- This IS expected if you are initializing BertModel from the checkpoint of a model trained on another task or with another architecture (e.g. initializing a BertForSequenceClassification model from a BertForPreTraining model).\n",
      "- This IS NOT expected if you are initializing BertModel from the checkpoint of a model that you expect to be exactly identical (initializing a BertForSequenceClassification model from a BertForSequenceClassification model).\n",
      "Warning: Baseline not Found for bert-base-multilingual-cased on ja at /home/ryoryon66/.pyenv/versions/3.9.8/lib/python3.9/site-packages/bert_score/rescale_baseline/ja/bert-base-multilingual-cased.tsv\n",
      "Some weights of the model checkpoint at bert-base-multilingual-cased were not used when initializing BertModel: ['cls.predictions.transform.dense.weight', 'cls.seq_relationship.weight', 'cls.predictions.transform.LayerNorm.weight', 'cls.predictions.bias', 'cls.seq_relationship.bias', 'cls.predictions.transform.dense.bias', 'cls.predictions.transform.LayerNorm.bias']\n",
      "- This IS expected if you are initializing BertModel from the checkpoint of a model trained on another task or with another architecture (e.g. initializing a BertForSequenceClassification model from a BertForPreTraining model).\n",
      "- This IS NOT expected if you are initializing BertModel from the checkpoint of a model that you expect to be exactly identical (initializing a BertForSequenceClassification model from a BertForSequenceClassification model).\n",
      "Warning: Baseline not Found for bert-base-multilingual-cased on ja at /home/ryoryon66/.pyenv/versions/3.9.8/lib/python3.9/site-packages/bert_score/rescale_baseline/ja/bert-base-multilingual-cased.tsv\n"
     ]
    },
    {
     "name": "stdout",
     "output_type": "stream",
     "text": [
      "また、TABLECONTEXTキーを押しながら、スペースバーを押すことでも入力できます\n"
     ]
    },
    {
     "name": "stderr",
     "output_type": "stream",
     "text": [
      "Some weights of the model checkpoint at bert-base-multilingual-cased were not used when initializing BertModel: ['cls.predictions.transform.dense.weight', 'cls.seq_relationship.weight', 'cls.predictions.transform.LayerNorm.weight', 'cls.predictions.bias', 'cls.seq_relationship.bias', 'cls.predictions.transform.dense.bias', 'cls.predictions.transform.LayerNorm.bias']\n",
      "- This IS expected if you are initializing BertModel from the checkpoint of a model trained on another task or with another architecture (e.g. initializing a BertForSequenceClassification model from a BertForPreTraining model).\n",
      "- This IS NOT expected if you are initializing BertModel from the checkpoint of a model that you expect to be exactly identical (initializing a BertForSequenceClassification model from a BertForSequenceClassification model).\n",
      "Warning: Baseline not Found for bert-base-multilingual-cased on ja at /home/ryoryon66/.pyenv/versions/3.9.8/lib/python3.9/site-packages/bert_score/rescale_baseline/ja/bert-base-multilingual-cased.tsv\n",
      "Some weights of the model checkpoint at bert-base-multilingual-cased were not used when initializing BertModel: ['cls.predictions.transform.dense.weight', 'cls.seq_relationship.weight', 'cls.predictions.transform.LayerNorm.weight', 'cls.predictions.bias', 'cls.seq_relationship.bias', 'cls.predictions.transform.dense.bias', 'cls.predictions.transform.LayerNorm.bias']\n",
      "- This IS expected if you are initializing BertModel from the checkpoint of a model trained on another task or with another architecture (e.g. initializing a BertForSequenceClassification model from a BertForPreTraining model).\n",
      "- This IS NOT expected if you are initializing BertModel from the checkpoint of a model that you expect to be exactly identical (initializing a BertForSequenceClassification model from a BertForSequenceClassification model).\n",
      "Warning: Baseline not Found for bert-base-multilingual-cased on ja at /home/ryoryon66/.pyenv/versions/3.9.8/lib/python3.9/site-packages/bert_score/rescale_baseline/ja/bert-base-multilingual-cased.tsv\n",
      "Some weights of the model checkpoint at bert-base-multilingual-cased were not used when initializing BertModel: ['cls.predictions.transform.dense.weight', 'cls.seq_relationship.weight', 'cls.predictions.transform.LayerNorm.weight', 'cls.predictions.bias', 'cls.seq_relationship.bias', 'cls.predictions.transform.dense.bias', 'cls.predictions.transform.LayerNorm.bias']\n",
      "- This IS expected if you are initializing BertModel from the checkpoint of a model trained on another task or with another architecture (e.g. initializing a BertForSequenceClassification model from a BertForPreTraining model).\n",
      "- This IS NOT expected if you are initializing BertModel from the checkpoint of a model that you expect to be exactly identical (initializing a BertForSequenceClassification model from a BertForSequenceClassification model).\n",
      "Warning: Baseline not Found for bert-base-multilingual-cased on ja at /home/ryoryon66/.pyenv/versions/3.9.8/lib/python3.9/site-packages/bert_score/rescale_baseline/ja/bert-base-multilingual-cased.tsv\n",
      "Some weights of the model checkpoint at bert-base-multilingual-cased were not used when initializing BertModel: ['cls.predictions.transform.dense.weight', 'cls.seq_relationship.weight', 'cls.predictions.transform.LayerNorm.weight', 'cls.predictions.bias', 'cls.seq_relationship.bias', 'cls.predictions.transform.dense.bias', 'cls.predictions.transform.LayerNorm.bias']\n",
      "- This IS expected if you are initializing BertModel from the checkpoint of a model trained on another task or with another architecture (e.g. initializing a BertForSequenceClassification model from a BertForPreTraining model).\n",
      "- This IS NOT expected if you are initializing BertModel from the checkpoint of a model that you expect to be exactly identical (initializing a BertForSequenceClassification model from a BertForSequenceClassification model).\n",
      "Warning: Baseline not Found for bert-base-multilingual-cased on ja at /home/ryoryon66/.pyenv/versions/3.9.8/lib/python3.9/site-packages/bert_score/rescale_baseline/ja/bert-base-multilingual-cased.tsv\n",
      "Some weights of the model checkpoint at bert-base-multilingual-cased were not used when initializing BertModel: ['cls.predictions.transform.dense.weight', 'cls.seq_relationship.weight', 'cls.predictions.transform.LayerNorm.weight', 'cls.predictions.bias', 'cls.seq_relationship.bias', 'cls.predictions.transform.dense.bias', 'cls.predictions.transform.LayerNorm.bias']\n",
      "- This IS expected if you are initializing BertModel from the checkpoint of a model trained on another task or with another architecture (e.g. initializing a BertForSequenceClassification model from a BertForPreTraining model).\n",
      "- This IS NOT expected if you are initializing BertModel from the checkpoint of a model that you expect to be exactly identical (initializing a BertForSequenceClassification model from a BertForSequenceClassification model).\n",
      "Warning: Baseline not Found for bert-base-multilingual-cased on ja at /home/ryoryon66/.pyenv/versions/3.9.8/lib/python3.9/site-packages/bert_score/rescale_baseline/ja/bert-base-multilingual-cased.tsv\n"
     ]
    },
    {
     "name": "stdout",
     "output_type": "stream",
     "text": [
      "これにより、テキストが選択され、入力できるようになります\n"
     ]
    },
    {
     "name": "stderr",
     "output_type": "stream",
     "text": [
      "Some weights of the model checkpoint at bert-base-multilingual-cased were not used when initializing BertModel: ['cls.predictions.transform.dense.weight', 'cls.seq_relationship.weight', 'cls.predictions.transform.LayerNorm.weight', 'cls.predictions.bias', 'cls.seq_relationship.bias', 'cls.predictions.transform.dense.bias', 'cls.predictions.transform.LayerNorm.bias']\n",
      "- This IS expected if you are initializing BertModel from the checkpoint of a model trained on another task or with another architecture (e.g. initializing a BertForSequenceClassification model from a BertForPreTraining model).\n",
      "- This IS NOT expected if you are initializing BertModel from the checkpoint of a model that you expect to be exactly identical (initializing a BertForSequenceClassification model from a BertForSequenceClassification model).\n",
      "Warning: Baseline not Found for bert-base-multilingual-cased on ja at /home/ryoryon66/.pyenv/versions/3.9.8/lib/python3.9/site-packages/bert_score/rescale_baseline/ja/bert-base-multilingual-cased.tsv\n",
      "Some weights of the model checkpoint at bert-base-multilingual-cased were not used when initializing BertModel: ['cls.predictions.transform.dense.weight', 'cls.seq_relationship.weight', 'cls.predictions.transform.LayerNorm.weight', 'cls.predictions.bias', 'cls.seq_relationship.bias', 'cls.predictions.transform.dense.bias', 'cls.predictions.transform.LayerNorm.bias']\n",
      "- This IS expected if you are initializing BertModel from the checkpoint of a model trained on another task or with another architecture (e.g. initializing a BertForSequenceClassification model from a BertForPreTraining model).\n",
      "- This IS NOT expected if you are initializing BertModel from the checkpoint of a model that you expect to be exactly identical (initializing a BertForSequenceClassification model from a BertForSequenceClassification model).\n",
      "Warning: Baseline not Found for bert-base-multilingual-cased on ja at /home/ryoryon66/.pyenv/versions/3.9.8/lib/python3.9/site-packages/bert_score/rescale_baseline/ja/bert-base-multilingual-cased.tsv\n",
      "Some weights of the model checkpoint at bert-base-multilingual-cased were not used when initializing BertModel: ['cls.predictions.transform.dense.weight', 'cls.seq_relationship.weight', 'cls.predictions.transform.LayerNorm.weight', 'cls.predictions.bias', 'cls.seq_relationship.bias', 'cls.predictions.transform.dense.bias', 'cls.predictions.transform.LayerNorm.bias']\n",
      "- This IS expected if you are initializing BertModel from the checkpoint of a model trained on another task or with another architecture (e.g. initializing a BertForSequenceClassification model from a BertForPreTraining model).\n",
      "- This IS NOT expected if you are initializing BertModel from the checkpoint of a model that you expect to be exactly identical (initializing a BertForSequenceClassification model from a BertForSequenceClassification model).\n",
      "Warning: Baseline not Found for bert-base-multilingual-cased on ja at /home/ryoryon66/.pyenv/versions/3.9.8/lib/python3.9/site-packages/bert_score/rescale_baseline/ja/bert-base-multilingual-cased.tsv\n",
      "Some weights of the model checkpoint at bert-base-multilingual-cased were not used when initializing BertModel: ['cls.predictions.transform.dense.weight', 'cls.seq_relationship.weight', 'cls.predictions.transform.LayerNorm.weight', 'cls.predictions.bias', 'cls.seq_relationship.bias', 'cls.predictions.transform.dense.bias', 'cls.predictions.transform.LayerNorm.bias']\n",
      "- This IS expected if you are initializing BertModel from the checkpoint of a model trained on another task or with another architecture (e.g. initializing a BertForSequenceClassification model from a BertForPreTraining model).\n",
      "- This IS NOT expected if you are initializing BertModel from the checkpoint of a model that you expect to be exactly identical (initializing a BertForSequenceClassification model from a BertForSequenceClassification model).\n",
      "Warning: Baseline not Found for bert-base-multilingual-cased on ja at /home/ryoryon66/.pyenv/versions/3.9.8/lib/python3.9/site-packages/bert_score/rescale_baseline/ja/bert-base-multilingual-cased.tsv\n",
      "Some weights of the model checkpoint at bert-base-multilingual-cased were not used when initializing BertModel: ['cls.predictions.transform.dense.weight', 'cls.seq_relationship.weight', 'cls.predictions.transform.LayerNorm.weight', 'cls.predictions.bias', 'cls.seq_relationship.bias', 'cls.predictions.transform.dense.bias', 'cls.predictions.transform.LayerNorm.bias']\n",
      "- This IS expected if you are initializing BertModel from the checkpoint of a model trained on another task or with another architecture (e.g. initializing a BertForSequenceClassification model from a BertForPreTraining model).\n",
      "- This IS NOT expected if you are initializing BertModel from the checkpoint of a model that you expect to be exactly identical (initializing a BertForSequenceClassification model from a BertForSequenceClassification model).\n"
     ]
    },
    {
     "name": "stdout",
     "output_type": "stream",
     "text": [
      "hallucination pr_scores: [0.2849180102348328, 0.2643771886825561, 0.2809919118881226, 0.24217966794967638]\n",
      "hallucination re_scores: [0.3037759065628051, 0.34059957265853874, 0.27361696958541865, 0.2835741519927978]\n",
      "hallucination f1_scores: [0.3018128156661987, 0.3211744308471679, 0.28676825761795044, 0.2679847955703736]\n",
      "processing 49 / 100\n"
     ]
    },
    {
     "name": "stderr",
     "output_type": "stream",
     "text": [
      "Warning: Baseline not Found for bert-base-multilingual-cased on ja at /home/ryoryon66/.pyenv/versions/3.9.8/lib/python3.9/site-packages/bert_score/rescale_baseline/ja/bert-base-multilingual-cased.tsv\n",
      "/tmp/ipykernel_28939/1749957329.py:18: FutureWarning: The frame.append method is deprecated and will be removed from pandas in a future version. Use pandas.concat instead.\n",
      "  score_df = score_df.append({\n"
     ]
    },
    {
     "name": "stdout",
     "output_type": "stream",
     "text": [
      "QA20CAPR-0099 かつてイギリスで活字の大きさを宝石の名前で呼んでいたことに由来する、印刷用語で難しい漢字などにつけられるふりがなを何というでしょう? ルビコン川を渡る(ruby connection)\n",
      "sampled: ['ルビを振る(振袖)', 'ルビ振り', 'ルビコン川', '象形文字(例:「岩」)や漢数字(例:「三」)などがあります。', '禀示(れいじ)']\n",
      "r_sentences\n",
      "['ルビコン川を渡る(ruby connection)']\n",
      "ルビコン川を渡る(ruby connection)\n"
     ]
    },
    {
     "name": "stderr",
     "output_type": "stream",
     "text": [
      "Some weights of the model checkpoint at bert-base-multilingual-cased were not used when initializing BertModel: ['cls.predictions.transform.dense.weight', 'cls.seq_relationship.weight', 'cls.predictions.transform.LayerNorm.weight', 'cls.predictions.bias', 'cls.seq_relationship.bias', 'cls.predictions.transform.dense.bias', 'cls.predictions.transform.LayerNorm.bias']\n",
      "- This IS expected if you are initializing BertModel from the checkpoint of a model trained on another task or with another architecture (e.g. initializing a BertForSequenceClassification model from a BertForPreTraining model).\n",
      "- This IS NOT expected if you are initializing BertModel from the checkpoint of a model that you expect to be exactly identical (initializing a BertForSequenceClassification model from a BertForSequenceClassification model).\n",
      "Warning: Baseline not Found for bert-base-multilingual-cased on ja at /home/ryoryon66/.pyenv/versions/3.9.8/lib/python3.9/site-packages/bert_score/rescale_baseline/ja/bert-base-multilingual-cased.tsv\n",
      "Some weights of the model checkpoint at bert-base-multilingual-cased were not used when initializing BertModel: ['cls.predictions.transform.dense.weight', 'cls.seq_relationship.weight', 'cls.predictions.transform.LayerNorm.weight', 'cls.predictions.bias', 'cls.seq_relationship.bias', 'cls.predictions.transform.dense.bias', 'cls.predictions.transform.LayerNorm.bias']\n",
      "- This IS expected if you are initializing BertModel from the checkpoint of a model trained on another task or with another architecture (e.g. initializing a BertForSequenceClassification model from a BertForPreTraining model).\n",
      "- This IS NOT expected if you are initializing BertModel from the checkpoint of a model that you expect to be exactly identical (initializing a BertForSequenceClassification model from a BertForSequenceClassification model).\n",
      "Warning: Baseline not Found for bert-base-multilingual-cased on ja at /home/ryoryon66/.pyenv/versions/3.9.8/lib/python3.9/site-packages/bert_score/rescale_baseline/ja/bert-base-multilingual-cased.tsv\n",
      "Some weights of the model checkpoint at bert-base-multilingual-cased were not used when initializing BertModel: ['cls.predictions.transform.dense.weight', 'cls.seq_relationship.weight', 'cls.predictions.transform.LayerNorm.weight', 'cls.predictions.bias', 'cls.seq_relationship.bias', 'cls.predictions.transform.dense.bias', 'cls.predictions.transform.LayerNorm.bias']\n",
      "- This IS expected if you are initializing BertModel from the checkpoint of a model trained on another task or with another architecture (e.g. initializing a BertForSequenceClassification model from a BertForPreTraining model).\n",
      "- This IS NOT expected if you are initializing BertModel from the checkpoint of a model that you expect to be exactly identical (initializing a BertForSequenceClassification model from a BertForSequenceClassification model).\n",
      "Warning: Baseline not Found for bert-base-multilingual-cased on ja at /home/ryoryon66/.pyenv/versions/3.9.8/lib/python3.9/site-packages/bert_score/rescale_baseline/ja/bert-base-multilingual-cased.tsv\n",
      "Some weights of the model checkpoint at bert-base-multilingual-cased were not used when initializing BertModel: ['cls.predictions.transform.dense.weight', 'cls.seq_relationship.weight', 'cls.predictions.transform.LayerNorm.weight', 'cls.predictions.bias', 'cls.seq_relationship.bias', 'cls.predictions.transform.dense.bias', 'cls.predictions.transform.LayerNorm.bias']\n",
      "- This IS expected if you are initializing BertModel from the checkpoint of a model trained on another task or with another architecture (e.g. initializing a BertForSequenceClassification model from a BertForPreTraining model).\n",
      "- This IS NOT expected if you are initializing BertModel from the checkpoint of a model that you expect to be exactly identical (initializing a BertForSequenceClassification model from a BertForSequenceClassification model).\n",
      "Warning: Baseline not Found for bert-base-multilingual-cased on ja at /home/ryoryon66/.pyenv/versions/3.9.8/lib/python3.9/site-packages/bert_score/rescale_baseline/ja/bert-base-multilingual-cased.tsv\n",
      "Some weights of the model checkpoint at bert-base-multilingual-cased were not used when initializing BertModel: ['cls.predictions.transform.dense.weight', 'cls.seq_relationship.weight', 'cls.predictions.transform.LayerNorm.weight', 'cls.predictions.bias', 'cls.seq_relationship.bias', 'cls.predictions.transform.dense.bias', 'cls.predictions.transform.LayerNorm.bias']\n",
      "- This IS expected if you are initializing BertModel from the checkpoint of a model trained on another task or with another architecture (e.g. initializing a BertForSequenceClassification model from a BertForPreTraining model).\n",
      "- This IS NOT expected if you are initializing BertModel from the checkpoint of a model that you expect to be exactly identical (initializing a BertForSequenceClassification model from a BertForSequenceClassification model).\n"
     ]
    },
    {
     "name": "stdout",
     "output_type": "stream",
     "text": [
      "hallucination pr_scores: [0.33957345485687257]\n",
      "hallucination re_scores: [0.29727958440780633]\n",
      "hallucination f1_scores: [0.31965247392654417]\n",
      "processing 50 / 100\n"
     ]
    },
    {
     "name": "stderr",
     "output_type": "stream",
     "text": [
      "Warning: Baseline not Found for bert-base-multilingual-cased on ja at /home/ryoryon66/.pyenv/versions/3.9.8/lib/python3.9/site-packages/bert_score/rescale_baseline/ja/bert-base-multilingual-cased.tsv\n",
      "/tmp/ipykernel_28939/1749957329.py:18: FutureWarning: The frame.append method is deprecated and will be removed from pandas in a future version. Use pandas.concat instead.\n",
      "  score_df = score_df.append({\n"
     ]
    },
    {
     "name": "stdout",
     "output_type": "stream",
     "text": [
      "QA20CAPR-0101 これを好んで食べたフランスの作家がその名の由来である、牛のヒレ肉の中でも中心にある最高級の部位を何というでしょう? シャトーブリアンステーキ」といいます。\n",
      "\n",
      "sampled: ['ロレイン・スミス(小説)、ジェラール・ド・ヴィリエ(料理)などの作家が好んだことから、ロレイン・スミスは「ローズ・ヴァランジュ」と呼んでいます。', 'シャトーブリアン」とは、フランス産の牛肉の中でも最も柔らかく風味豊かな部位であり、フランス王妃や貴族などの食卓に供されました。この料理は、フランス全土や南欧地方だけでなく、ロシアやドイツ、日本など、世界中の多くの国々でも人気があります。', 'ロワイヤル・ド・デュボア(royal du Parloux)とは、フランス全土で最も人気のあるステーキの一つです。この料理は、フランス南西部やスペインとの国境地帯に位置するミディ・ピレネー地方で非常に有名です。この地方の伝統的な料理には、赤身の肉に小麦粉と卵黄を混ぜ合わせ、塩を加えて生地を作り、薄く伸ばして折り畳んだ後、鉄板で焼く調理法があります。ロワイヤル・ド・デュボアを作るためには、まず、小麦粉、卵、牛乳を混ぜ合わせて生地を作ります。次に、フライパンで両', 'シャトーブリアン」といいます。', 'シャトーブリアン(chateaubrian)は、フランス料理で有名な牛肉の一つです。肩から腰部にかけてある非常に大きな筋肉であり、牛肉の中でも最も美味しい部分とされています。シャトーブリアンは、フランス料理ではステーキの中心的な存在として用いられています。']\n",
      "r_sentences\n",
      "['シャトーブリアンステーキ」といいます']\n",
      "シャトーブリアンステーキ」といいます\n"
     ]
    },
    {
     "name": "stderr",
     "output_type": "stream",
     "text": [
      "Some weights of the model checkpoint at bert-base-multilingual-cased were not used when initializing BertModel: ['cls.predictions.transform.dense.weight', 'cls.seq_relationship.weight', 'cls.predictions.transform.LayerNorm.weight', 'cls.predictions.bias', 'cls.seq_relationship.bias', 'cls.predictions.transform.dense.bias', 'cls.predictions.transform.LayerNorm.bias']\n",
      "- This IS expected if you are initializing BertModel from the checkpoint of a model trained on another task or with another architecture (e.g. initializing a BertForSequenceClassification model from a BertForPreTraining model).\n",
      "- This IS NOT expected if you are initializing BertModel from the checkpoint of a model that you expect to be exactly identical (initializing a BertForSequenceClassification model from a BertForSequenceClassification model).\n",
      "Warning: Baseline not Found for bert-base-multilingual-cased on ja at /home/ryoryon66/.pyenv/versions/3.9.8/lib/python3.9/site-packages/bert_score/rescale_baseline/ja/bert-base-multilingual-cased.tsv\n",
      "Some weights of the model checkpoint at bert-base-multilingual-cased were not used when initializing BertModel: ['cls.predictions.transform.dense.weight', 'cls.seq_relationship.weight', 'cls.predictions.transform.LayerNorm.weight', 'cls.predictions.bias', 'cls.seq_relationship.bias', 'cls.predictions.transform.dense.bias', 'cls.predictions.transform.LayerNorm.bias']\n",
      "- This IS expected if you are initializing BertModel from the checkpoint of a model trained on another task or with another architecture (e.g. initializing a BertForSequenceClassification model from a BertForPreTraining model).\n",
      "- This IS NOT expected if you are initializing BertModel from the checkpoint of a model that you expect to be exactly identical (initializing a BertForSequenceClassification model from a BertForSequenceClassification model).\n",
      "Warning: Baseline not Found for bert-base-multilingual-cased on ja at /home/ryoryon66/.pyenv/versions/3.9.8/lib/python3.9/site-packages/bert_score/rescale_baseline/ja/bert-base-multilingual-cased.tsv\n",
      "Some weights of the model checkpoint at bert-base-multilingual-cased were not used when initializing BertModel: ['cls.predictions.transform.dense.weight', 'cls.seq_relationship.weight', 'cls.predictions.transform.LayerNorm.weight', 'cls.predictions.bias', 'cls.seq_relationship.bias', 'cls.predictions.transform.dense.bias', 'cls.predictions.transform.LayerNorm.bias']\n",
      "- This IS expected if you are initializing BertModel from the checkpoint of a model trained on another task or with another architecture (e.g. initializing a BertForSequenceClassification model from a BertForPreTraining model).\n",
      "- This IS NOT expected if you are initializing BertModel from the checkpoint of a model that you expect to be exactly identical (initializing a BertForSequenceClassification model from a BertForSequenceClassification model).\n",
      "Warning: Baseline not Found for bert-base-multilingual-cased on ja at /home/ryoryon66/.pyenv/versions/3.9.8/lib/python3.9/site-packages/bert_score/rescale_baseline/ja/bert-base-multilingual-cased.tsv\n",
      "Some weights of the model checkpoint at bert-base-multilingual-cased were not used when initializing BertModel: ['cls.predictions.transform.dense.weight', 'cls.seq_relationship.weight', 'cls.predictions.transform.LayerNorm.weight', 'cls.predictions.bias', 'cls.seq_relationship.bias', 'cls.predictions.transform.dense.bias', 'cls.predictions.transform.LayerNorm.bias']\n",
      "- This IS expected if you are initializing BertModel from the checkpoint of a model trained on another task or with another architecture (e.g. initializing a BertForSequenceClassification model from a BertForPreTraining model).\n",
      "- This IS NOT expected if you are initializing BertModel from the checkpoint of a model that you expect to be exactly identical (initializing a BertForSequenceClassification model from a BertForSequenceClassification model).\n",
      "Warning: Baseline not Found for bert-base-multilingual-cased on ja at /home/ryoryon66/.pyenv/versions/3.9.8/lib/python3.9/site-packages/bert_score/rescale_baseline/ja/bert-base-multilingual-cased.tsv\n",
      "Some weights of the model checkpoint at bert-base-multilingual-cased were not used when initializing BertModel: ['cls.predictions.transform.dense.weight', 'cls.seq_relationship.weight', 'cls.predictions.transform.LayerNorm.weight', 'cls.predictions.bias', 'cls.seq_relationship.bias', 'cls.predictions.transform.dense.bias', 'cls.predictions.transform.LayerNorm.bias']\n",
      "- This IS expected if you are initializing BertModel from the checkpoint of a model trained on another task or with another architecture (e.g. initializing a BertForSequenceClassification model from a BertForPreTraining model).\n",
      "- This IS NOT expected if you are initializing BertModel from the checkpoint of a model that you expect to be exactly identical (initializing a BertForSequenceClassification model from a BertForSequenceClassification model).\n"
     ]
    },
    {
     "name": "stdout",
     "output_type": "stream",
     "text": [
      "hallucination pr_scores: [0.2430195927619933]\n",
      "hallucination re_scores: [0.2962910413742066]\n",
      "hallucination f1_scores: [0.27583128213882446]\n",
      "processing 51 / 100\n"
     ]
    },
    {
     "name": "stderr",
     "output_type": "stream",
     "text": [
      "Warning: Baseline not Found for bert-base-multilingual-cased on ja at /home/ryoryon66/.pyenv/versions/3.9.8/lib/python3.9/site-packages/bert_score/rescale_baseline/ja/bert-base-multilingual-cased.tsv\n",
      "/tmp/ipykernel_28939/1749957329.py:18: FutureWarning: The frame.append method is deprecated and will be removed from pandas in a future version. Use pandas.concat instead.\n",
      "  score_df = score_df.append({\n"
     ]
    },
    {
     "name": "stdout",
     "output_type": "stream",
     "text": [
      "QA20CAPR-0103 食事において、気分を変えたり口をさっぱりさせたりするために出されるちょっとしたおかずのことを、ある食器の名を用いた表現で何というでしょう? 小鉢料理(small plate)とは、小さな容器に詰められた料理のことです。\n",
      "このタイプの料理は、主に副菜や付け合わせとして提供されます。\n",
      "副菜とは、主菜の後に食べるおかずのことです。\n",
      "副菜とは、主に主菜の後に食べるおかずのことです。\n",
      "副菜とは、主に主菜の後に食べるおかずのことです。\n",
      "\n",
      "sampled: ['小鉢料理(スナップ)とは、通常、小さなボウルに入れられたおかずや副菜のことです。このタイプのおかずは、さまざまな種類があり、それぞれに名前がつけられています。例えば、にんにくスープやチリコンカンなどがあります。', '塩振りかけや小皿料理などと呼ばれています。', 'お新香(おしんこ)は、日本の食卓に欠かせない存在です。', '塩漬け卵のおひたし(Tasty-Taste)。', '小鉢の類いです。']\n",
      "r_sentences\n",
      "['小鉢料理(small plate)とは、小さな容器に詰められた料理のことです', 'このタイプの料理は、主に副菜や付け合わせとして提供されます', '副菜とは、主菜の後に食べるおかずのことです', '副菜とは、主に主菜の後に食べるおかずのことです', '副菜とは、主に主菜の後に食べるおかずのことです']\n",
      "小鉢料理(small plate)とは、小さな容器に詰められた料理のことです\n"
     ]
    },
    {
     "name": "stderr",
     "output_type": "stream",
     "text": [
      "Some weights of the model checkpoint at bert-base-multilingual-cased were not used when initializing BertModel: ['cls.predictions.transform.dense.weight', 'cls.seq_relationship.weight', 'cls.predictions.transform.LayerNorm.weight', 'cls.predictions.bias', 'cls.seq_relationship.bias', 'cls.predictions.transform.dense.bias', 'cls.predictions.transform.LayerNorm.bias']\n",
      "- This IS expected if you are initializing BertModel from the checkpoint of a model trained on another task or with another architecture (e.g. initializing a BertForSequenceClassification model from a BertForPreTraining model).\n",
      "- This IS NOT expected if you are initializing BertModel from the checkpoint of a model that you expect to be exactly identical (initializing a BertForSequenceClassification model from a BertForSequenceClassification model).\n",
      "Warning: Baseline not Found for bert-base-multilingual-cased on ja at /home/ryoryon66/.pyenv/versions/3.9.8/lib/python3.9/site-packages/bert_score/rescale_baseline/ja/bert-base-multilingual-cased.tsv\n",
      "Some weights of the model checkpoint at bert-base-multilingual-cased were not used when initializing BertModel: ['cls.predictions.transform.dense.weight', 'cls.seq_relationship.weight', 'cls.predictions.transform.LayerNorm.weight', 'cls.predictions.bias', 'cls.seq_relationship.bias', 'cls.predictions.transform.dense.bias', 'cls.predictions.transform.LayerNorm.bias']\n",
      "- This IS expected if you are initializing BertModel from the checkpoint of a model trained on another task or with another architecture (e.g. initializing a BertForSequenceClassification model from a BertForPreTraining model).\n",
      "- This IS NOT expected if you are initializing BertModel from the checkpoint of a model that you expect to be exactly identical (initializing a BertForSequenceClassification model from a BertForSequenceClassification model).\n",
      "Warning: Baseline not Found for bert-base-multilingual-cased on ja at /home/ryoryon66/.pyenv/versions/3.9.8/lib/python3.9/site-packages/bert_score/rescale_baseline/ja/bert-base-multilingual-cased.tsv\n",
      "Some weights of the model checkpoint at bert-base-multilingual-cased were not used when initializing BertModel: ['cls.predictions.transform.dense.weight', 'cls.seq_relationship.weight', 'cls.predictions.transform.LayerNorm.weight', 'cls.predictions.bias', 'cls.seq_relationship.bias', 'cls.predictions.transform.dense.bias', 'cls.predictions.transform.LayerNorm.bias']\n",
      "- This IS expected if you are initializing BertModel from the checkpoint of a model trained on another task or with another architecture (e.g. initializing a BertForSequenceClassification model from a BertForPreTraining model).\n",
      "- This IS NOT expected if you are initializing BertModel from the checkpoint of a model that you expect to be exactly identical (initializing a BertForSequenceClassification model from a BertForSequenceClassification model).\n",
      "Warning: Baseline not Found for bert-base-multilingual-cased on ja at /home/ryoryon66/.pyenv/versions/3.9.8/lib/python3.9/site-packages/bert_score/rescale_baseline/ja/bert-base-multilingual-cased.tsv\n",
      "Some weights of the model checkpoint at bert-base-multilingual-cased were not used when initializing BertModel: ['cls.predictions.transform.dense.weight', 'cls.seq_relationship.weight', 'cls.predictions.transform.LayerNorm.weight', 'cls.predictions.bias', 'cls.seq_relationship.bias', 'cls.predictions.transform.dense.bias', 'cls.predictions.transform.LayerNorm.bias']\n",
      "- This IS expected if you are initializing BertModel from the checkpoint of a model trained on another task or with another architecture (e.g. initializing a BertForSequenceClassification model from a BertForPreTraining model).\n",
      "- This IS NOT expected if you are initializing BertModel from the checkpoint of a model that you expect to be exactly identical (initializing a BertForSequenceClassification model from a BertForSequenceClassification model).\n",
      "Warning: Baseline not Found for bert-base-multilingual-cased on ja at /home/ryoryon66/.pyenv/versions/3.9.8/lib/python3.9/site-packages/bert_score/rescale_baseline/ja/bert-base-multilingual-cased.tsv\n",
      "Some weights of the model checkpoint at bert-base-multilingual-cased were not used when initializing BertModel: ['cls.predictions.transform.dense.weight', 'cls.seq_relationship.weight', 'cls.predictions.transform.LayerNorm.weight', 'cls.predictions.bias', 'cls.seq_relationship.bias', 'cls.predictions.transform.dense.bias', 'cls.predictions.transform.LayerNorm.bias']\n",
      "- This IS expected if you are initializing BertModel from the checkpoint of a model trained on another task or with another architecture (e.g. initializing a BertForSequenceClassification model from a BertForPreTraining model).\n",
      "- This IS NOT expected if you are initializing BertModel from the checkpoint of a model that you expect to be exactly identical (initializing a BertForSequenceClassification model from a BertForSequenceClassification model).\n",
      "Warning: Baseline not Found for bert-base-multilingual-cased on ja at /home/ryoryon66/.pyenv/versions/3.9.8/lib/python3.9/site-packages/bert_score/rescale_baseline/ja/bert-base-multilingual-cased.tsv\n"
     ]
    },
    {
     "name": "stdout",
     "output_type": "stream",
     "text": [
      "このタイプの料理は、主に副菜や付け合わせとして提供されます\n"
     ]
    },
    {
     "name": "stderr",
     "output_type": "stream",
     "text": [
      "Some weights of the model checkpoint at bert-base-multilingual-cased were not used when initializing BertModel: ['cls.predictions.transform.dense.weight', 'cls.seq_relationship.weight', 'cls.predictions.transform.LayerNorm.weight', 'cls.predictions.bias', 'cls.seq_relationship.bias', 'cls.predictions.transform.dense.bias', 'cls.predictions.transform.LayerNorm.bias']\n",
      "- This IS expected if you are initializing BertModel from the checkpoint of a model trained on another task or with another architecture (e.g. initializing a BertForSequenceClassification model from a BertForPreTraining model).\n",
      "- This IS NOT expected if you are initializing BertModel from the checkpoint of a model that you expect to be exactly identical (initializing a BertForSequenceClassification model from a BertForSequenceClassification model).\n",
      "Warning: Baseline not Found for bert-base-multilingual-cased on ja at /home/ryoryon66/.pyenv/versions/3.9.8/lib/python3.9/site-packages/bert_score/rescale_baseline/ja/bert-base-multilingual-cased.tsv\n",
      "Some weights of the model checkpoint at bert-base-multilingual-cased were not used when initializing BertModel: ['cls.predictions.transform.dense.weight', 'cls.seq_relationship.weight', 'cls.predictions.transform.LayerNorm.weight', 'cls.predictions.bias', 'cls.seq_relationship.bias', 'cls.predictions.transform.dense.bias', 'cls.predictions.transform.LayerNorm.bias']\n",
      "- This IS expected if you are initializing BertModel from the checkpoint of a model trained on another task or with another architecture (e.g. initializing a BertForSequenceClassification model from a BertForPreTraining model).\n",
      "- This IS NOT expected if you are initializing BertModel from the checkpoint of a model that you expect to be exactly identical (initializing a BertForSequenceClassification model from a BertForSequenceClassification model).\n",
      "Warning: Baseline not Found for bert-base-multilingual-cased on ja at /home/ryoryon66/.pyenv/versions/3.9.8/lib/python3.9/site-packages/bert_score/rescale_baseline/ja/bert-base-multilingual-cased.tsv\n",
      "Some weights of the model checkpoint at bert-base-multilingual-cased were not used when initializing BertModel: ['cls.predictions.transform.dense.weight', 'cls.seq_relationship.weight', 'cls.predictions.transform.LayerNorm.weight', 'cls.predictions.bias', 'cls.seq_relationship.bias', 'cls.predictions.transform.dense.bias', 'cls.predictions.transform.LayerNorm.bias']\n",
      "- This IS expected if you are initializing BertModel from the checkpoint of a model trained on another task or with another architecture (e.g. initializing a BertForSequenceClassification model from a BertForPreTraining model).\n",
      "- This IS NOT expected if you are initializing BertModel from the checkpoint of a model that you expect to be exactly identical (initializing a BertForSequenceClassification model from a BertForSequenceClassification model).\n",
      "Warning: Baseline not Found for bert-base-multilingual-cased on ja at /home/ryoryon66/.pyenv/versions/3.9.8/lib/python3.9/site-packages/bert_score/rescale_baseline/ja/bert-base-multilingual-cased.tsv\n",
      "Some weights of the model checkpoint at bert-base-multilingual-cased were not used when initializing BertModel: ['cls.predictions.transform.dense.weight', 'cls.seq_relationship.weight', 'cls.predictions.transform.LayerNorm.weight', 'cls.predictions.bias', 'cls.seq_relationship.bias', 'cls.predictions.transform.dense.bias', 'cls.predictions.transform.LayerNorm.bias']\n",
      "- This IS expected if you are initializing BertModel from the checkpoint of a model trained on another task or with another architecture (e.g. initializing a BertForSequenceClassification model from a BertForPreTraining model).\n",
      "- This IS NOT expected if you are initializing BertModel from the checkpoint of a model that you expect to be exactly identical (initializing a BertForSequenceClassification model from a BertForSequenceClassification model).\n",
      "Warning: Baseline not Found for bert-base-multilingual-cased on ja at /home/ryoryon66/.pyenv/versions/3.9.8/lib/python3.9/site-packages/bert_score/rescale_baseline/ja/bert-base-multilingual-cased.tsv\n",
      "Some weights of the model checkpoint at bert-base-multilingual-cased were not used when initializing BertModel: ['cls.predictions.transform.dense.weight', 'cls.seq_relationship.weight', 'cls.predictions.transform.LayerNorm.weight', 'cls.predictions.bias', 'cls.seq_relationship.bias', 'cls.predictions.transform.dense.bias', 'cls.predictions.transform.LayerNorm.bias']\n",
      "- This IS expected if you are initializing BertModel from the checkpoint of a model trained on another task or with another architecture (e.g. initializing a BertForSequenceClassification model from a BertForPreTraining model).\n",
      "- This IS NOT expected if you are initializing BertModel from the checkpoint of a model that you expect to be exactly identical (initializing a BertForSequenceClassification model from a BertForSequenceClassification model).\n",
      "Warning: Baseline not Found for bert-base-multilingual-cased on ja at /home/ryoryon66/.pyenv/versions/3.9.8/lib/python3.9/site-packages/bert_score/rescale_baseline/ja/bert-base-multilingual-cased.tsv\n"
     ]
    },
    {
     "name": "stdout",
     "output_type": "stream",
     "text": [
      "副菜とは、主菜の後に食べるおかずのことです\n"
     ]
    },
    {
     "name": "stderr",
     "output_type": "stream",
     "text": [
      "Some weights of the model checkpoint at bert-base-multilingual-cased were not used when initializing BertModel: ['cls.predictions.transform.dense.weight', 'cls.seq_relationship.weight', 'cls.predictions.transform.LayerNorm.weight', 'cls.predictions.bias', 'cls.seq_relationship.bias', 'cls.predictions.transform.dense.bias', 'cls.predictions.transform.LayerNorm.bias']\n",
      "- This IS expected if you are initializing BertModel from the checkpoint of a model trained on another task or with another architecture (e.g. initializing a BertForSequenceClassification model from a BertForPreTraining model).\n",
      "- This IS NOT expected if you are initializing BertModel from the checkpoint of a model that you expect to be exactly identical (initializing a BertForSequenceClassification model from a BertForSequenceClassification model).\n",
      "Warning: Baseline not Found for bert-base-multilingual-cased on ja at /home/ryoryon66/.pyenv/versions/3.9.8/lib/python3.9/site-packages/bert_score/rescale_baseline/ja/bert-base-multilingual-cased.tsv\n",
      "Some weights of the model checkpoint at bert-base-multilingual-cased were not used when initializing BertModel: ['cls.predictions.transform.dense.weight', 'cls.seq_relationship.weight', 'cls.predictions.transform.LayerNorm.weight', 'cls.predictions.bias', 'cls.seq_relationship.bias', 'cls.predictions.transform.dense.bias', 'cls.predictions.transform.LayerNorm.bias']\n",
      "- This IS expected if you are initializing BertModel from the checkpoint of a model trained on another task or with another architecture (e.g. initializing a BertForSequenceClassification model from a BertForPreTraining model).\n",
      "- This IS NOT expected if you are initializing BertModel from the checkpoint of a model that you expect to be exactly identical (initializing a BertForSequenceClassification model from a BertForSequenceClassification model).\n",
      "Warning: Baseline not Found for bert-base-multilingual-cased on ja at /home/ryoryon66/.pyenv/versions/3.9.8/lib/python3.9/site-packages/bert_score/rescale_baseline/ja/bert-base-multilingual-cased.tsv\n",
      "Some weights of the model checkpoint at bert-base-multilingual-cased were not used when initializing BertModel: ['cls.predictions.transform.dense.weight', 'cls.seq_relationship.weight', 'cls.predictions.transform.LayerNorm.weight', 'cls.predictions.bias', 'cls.seq_relationship.bias', 'cls.predictions.transform.dense.bias', 'cls.predictions.transform.LayerNorm.bias']\n",
      "- This IS expected if you are initializing BertModel from the checkpoint of a model trained on another task or with another architecture (e.g. initializing a BertForSequenceClassification model from a BertForPreTraining model).\n",
      "- This IS NOT expected if you are initializing BertModel from the checkpoint of a model that you expect to be exactly identical (initializing a BertForSequenceClassification model from a BertForSequenceClassification model).\n",
      "Warning: Baseline not Found for bert-base-multilingual-cased on ja at /home/ryoryon66/.pyenv/versions/3.9.8/lib/python3.9/site-packages/bert_score/rescale_baseline/ja/bert-base-multilingual-cased.tsv\n",
      "Some weights of the model checkpoint at bert-base-multilingual-cased were not used when initializing BertModel: ['cls.predictions.transform.dense.weight', 'cls.seq_relationship.weight', 'cls.predictions.transform.LayerNorm.weight', 'cls.predictions.bias', 'cls.seq_relationship.bias', 'cls.predictions.transform.dense.bias', 'cls.predictions.transform.LayerNorm.bias']\n",
      "- This IS expected if you are initializing BertModel from the checkpoint of a model trained on another task or with another architecture (e.g. initializing a BertForSequenceClassification model from a BertForPreTraining model).\n",
      "- This IS NOT expected if you are initializing BertModel from the checkpoint of a model that you expect to be exactly identical (initializing a BertForSequenceClassification model from a BertForSequenceClassification model).\n",
      "Warning: Baseline not Found for bert-base-multilingual-cased on ja at /home/ryoryon66/.pyenv/versions/3.9.8/lib/python3.9/site-packages/bert_score/rescale_baseline/ja/bert-base-multilingual-cased.tsv\n",
      "Some weights of the model checkpoint at bert-base-multilingual-cased were not used when initializing BertModel: ['cls.predictions.transform.dense.weight', 'cls.seq_relationship.weight', 'cls.predictions.transform.LayerNorm.weight', 'cls.predictions.bias', 'cls.seq_relationship.bias', 'cls.predictions.transform.dense.bias', 'cls.predictions.transform.LayerNorm.bias']\n",
      "- This IS expected if you are initializing BertModel from the checkpoint of a model trained on another task or with another architecture (e.g. initializing a BertForSequenceClassification model from a BertForPreTraining model).\n",
      "- This IS NOT expected if you are initializing BertModel from the checkpoint of a model that you expect to be exactly identical (initializing a BertForSequenceClassification model from a BertForSequenceClassification model).\n",
      "Warning: Baseline not Found for bert-base-multilingual-cased on ja at /home/ryoryon66/.pyenv/versions/3.9.8/lib/python3.9/site-packages/bert_score/rescale_baseline/ja/bert-base-multilingual-cased.tsv\n"
     ]
    },
    {
     "name": "stdout",
     "output_type": "stream",
     "text": [
      "副菜とは、主に主菜の後に食べるおかずのことです\n"
     ]
    },
    {
     "name": "stderr",
     "output_type": "stream",
     "text": [
      "Some weights of the model checkpoint at bert-base-multilingual-cased were not used when initializing BertModel: ['cls.predictions.transform.dense.weight', 'cls.seq_relationship.weight', 'cls.predictions.transform.LayerNorm.weight', 'cls.predictions.bias', 'cls.seq_relationship.bias', 'cls.predictions.transform.dense.bias', 'cls.predictions.transform.LayerNorm.bias']\n",
      "- This IS expected if you are initializing BertModel from the checkpoint of a model trained on another task or with another architecture (e.g. initializing a BertForSequenceClassification model from a BertForPreTraining model).\n",
      "- This IS NOT expected if you are initializing BertModel from the checkpoint of a model that you expect to be exactly identical (initializing a BertForSequenceClassification model from a BertForSequenceClassification model).\n",
      "Warning: Baseline not Found for bert-base-multilingual-cased on ja at /home/ryoryon66/.pyenv/versions/3.9.8/lib/python3.9/site-packages/bert_score/rescale_baseline/ja/bert-base-multilingual-cased.tsv\n",
      "Some weights of the model checkpoint at bert-base-multilingual-cased were not used when initializing BertModel: ['cls.predictions.transform.dense.weight', 'cls.seq_relationship.weight', 'cls.predictions.transform.LayerNorm.weight', 'cls.predictions.bias', 'cls.seq_relationship.bias', 'cls.predictions.transform.dense.bias', 'cls.predictions.transform.LayerNorm.bias']\n",
      "- This IS expected if you are initializing BertModel from the checkpoint of a model trained on another task or with another architecture (e.g. initializing a BertForSequenceClassification model from a BertForPreTraining model).\n",
      "- This IS NOT expected if you are initializing BertModel from the checkpoint of a model that you expect to be exactly identical (initializing a BertForSequenceClassification model from a BertForSequenceClassification model).\n",
      "Warning: Baseline not Found for bert-base-multilingual-cased on ja at /home/ryoryon66/.pyenv/versions/3.9.8/lib/python3.9/site-packages/bert_score/rescale_baseline/ja/bert-base-multilingual-cased.tsv\n",
      "Some weights of the model checkpoint at bert-base-multilingual-cased were not used when initializing BertModel: ['cls.predictions.transform.dense.weight', 'cls.seq_relationship.weight', 'cls.predictions.transform.LayerNorm.weight', 'cls.predictions.bias', 'cls.seq_relationship.bias', 'cls.predictions.transform.dense.bias', 'cls.predictions.transform.LayerNorm.bias']\n",
      "- This IS expected if you are initializing BertModel from the checkpoint of a model trained on another task or with another architecture (e.g. initializing a BertForSequenceClassification model from a BertForPreTraining model).\n",
      "- This IS NOT expected if you are initializing BertModel from the checkpoint of a model that you expect to be exactly identical (initializing a BertForSequenceClassification model from a BertForSequenceClassification model).\n",
      "Warning: Baseline not Found for bert-base-multilingual-cased on ja at /home/ryoryon66/.pyenv/versions/3.9.8/lib/python3.9/site-packages/bert_score/rescale_baseline/ja/bert-base-multilingual-cased.tsv\n",
      "Some weights of the model checkpoint at bert-base-multilingual-cased were not used when initializing BertModel: ['cls.predictions.transform.dense.weight', 'cls.seq_relationship.weight', 'cls.predictions.transform.LayerNorm.weight', 'cls.predictions.bias', 'cls.seq_relationship.bias', 'cls.predictions.transform.dense.bias', 'cls.predictions.transform.LayerNorm.bias']\n",
      "- This IS expected if you are initializing BertModel from the checkpoint of a model trained on another task or with another architecture (e.g. initializing a BertForSequenceClassification model from a BertForPreTraining model).\n",
      "- This IS NOT expected if you are initializing BertModel from the checkpoint of a model that you expect to be exactly identical (initializing a BertForSequenceClassification model from a BertForSequenceClassification model).\n",
      "Warning: Baseline not Found for bert-base-multilingual-cased on ja at /home/ryoryon66/.pyenv/versions/3.9.8/lib/python3.9/site-packages/bert_score/rescale_baseline/ja/bert-base-multilingual-cased.tsv\n",
      "Some weights of the model checkpoint at bert-base-multilingual-cased were not used when initializing BertModel: ['cls.predictions.transform.dense.weight', 'cls.seq_relationship.weight', 'cls.predictions.transform.LayerNorm.weight', 'cls.predictions.bias', 'cls.seq_relationship.bias', 'cls.predictions.transform.dense.bias', 'cls.predictions.transform.LayerNorm.bias']\n",
      "- This IS expected if you are initializing BertModel from the checkpoint of a model trained on another task or with another architecture (e.g. initializing a BertForSequenceClassification model from a BertForPreTraining model).\n",
      "- This IS NOT expected if you are initializing BertModel from the checkpoint of a model that you expect to be exactly identical (initializing a BertForSequenceClassification model from a BertForSequenceClassification model).\n",
      "Warning: Baseline not Found for bert-base-multilingual-cased on ja at /home/ryoryon66/.pyenv/versions/3.9.8/lib/python3.9/site-packages/bert_score/rescale_baseline/ja/bert-base-multilingual-cased.tsv\n"
     ]
    },
    {
     "name": "stdout",
     "output_type": "stream",
     "text": [
      "副菜とは、主に主菜の後に食べるおかずのことです\n"
     ]
    },
    {
     "name": "stderr",
     "output_type": "stream",
     "text": [
      "Some weights of the model checkpoint at bert-base-multilingual-cased were not used when initializing BertModel: ['cls.predictions.transform.dense.weight', 'cls.seq_relationship.weight', 'cls.predictions.transform.LayerNorm.weight', 'cls.predictions.bias', 'cls.seq_relationship.bias', 'cls.predictions.transform.dense.bias', 'cls.predictions.transform.LayerNorm.bias']\n",
      "- This IS expected if you are initializing BertModel from the checkpoint of a model trained on another task or with another architecture (e.g. initializing a BertForSequenceClassification model from a BertForPreTraining model).\n",
      "- This IS NOT expected if you are initializing BertModel from the checkpoint of a model that you expect to be exactly identical (initializing a BertForSequenceClassification model from a BertForSequenceClassification model).\n",
      "Warning: Baseline not Found for bert-base-multilingual-cased on ja at /home/ryoryon66/.pyenv/versions/3.9.8/lib/python3.9/site-packages/bert_score/rescale_baseline/ja/bert-base-multilingual-cased.tsv\n",
      "Some weights of the model checkpoint at bert-base-multilingual-cased were not used when initializing BertModel: ['cls.predictions.transform.dense.weight', 'cls.seq_relationship.weight', 'cls.predictions.transform.LayerNorm.weight', 'cls.predictions.bias', 'cls.seq_relationship.bias', 'cls.predictions.transform.dense.bias', 'cls.predictions.transform.LayerNorm.bias']\n",
      "- This IS expected if you are initializing BertModel from the checkpoint of a model trained on another task or with another architecture (e.g. initializing a BertForSequenceClassification model from a BertForPreTraining model).\n",
      "- This IS NOT expected if you are initializing BertModel from the checkpoint of a model that you expect to be exactly identical (initializing a BertForSequenceClassification model from a BertForSequenceClassification model).\n",
      "Warning: Baseline not Found for bert-base-multilingual-cased on ja at /home/ryoryon66/.pyenv/versions/3.9.8/lib/python3.9/site-packages/bert_score/rescale_baseline/ja/bert-base-multilingual-cased.tsv\n",
      "Some weights of the model checkpoint at bert-base-multilingual-cased were not used when initializing BertModel: ['cls.predictions.transform.dense.weight', 'cls.seq_relationship.weight', 'cls.predictions.transform.LayerNorm.weight', 'cls.predictions.bias', 'cls.seq_relationship.bias', 'cls.predictions.transform.dense.bias', 'cls.predictions.transform.LayerNorm.bias']\n",
      "- This IS expected if you are initializing BertModel from the checkpoint of a model trained on another task or with another architecture (e.g. initializing a BertForSequenceClassification model from a BertForPreTraining model).\n",
      "- This IS NOT expected if you are initializing BertModel from the checkpoint of a model that you expect to be exactly identical (initializing a BertForSequenceClassification model from a BertForSequenceClassification model).\n",
      "Warning: Baseline not Found for bert-base-multilingual-cased on ja at /home/ryoryon66/.pyenv/versions/3.9.8/lib/python3.9/site-packages/bert_score/rescale_baseline/ja/bert-base-multilingual-cased.tsv\n",
      "Some weights of the model checkpoint at bert-base-multilingual-cased were not used when initializing BertModel: ['cls.predictions.transform.dense.weight', 'cls.seq_relationship.weight', 'cls.predictions.transform.LayerNorm.weight', 'cls.predictions.bias', 'cls.seq_relationship.bias', 'cls.predictions.transform.dense.bias', 'cls.predictions.transform.LayerNorm.bias']\n",
      "- This IS expected if you are initializing BertModel from the checkpoint of a model trained on another task or with another architecture (e.g. initializing a BertForSequenceClassification model from a BertForPreTraining model).\n",
      "- This IS NOT expected if you are initializing BertModel from the checkpoint of a model that you expect to be exactly identical (initializing a BertForSequenceClassification model from a BertForSequenceClassification model).\n",
      "Warning: Baseline not Found for bert-base-multilingual-cased on ja at /home/ryoryon66/.pyenv/versions/3.9.8/lib/python3.9/site-packages/bert_score/rescale_baseline/ja/bert-base-multilingual-cased.tsv\n",
      "Some weights of the model checkpoint at bert-base-multilingual-cased were not used when initializing BertModel: ['cls.predictions.transform.dense.weight', 'cls.seq_relationship.weight', 'cls.predictions.transform.LayerNorm.weight', 'cls.predictions.bias', 'cls.seq_relationship.bias', 'cls.predictions.transform.dense.bias', 'cls.predictions.transform.LayerNorm.bias']\n",
      "- This IS expected if you are initializing BertModel from the checkpoint of a model trained on another task or with another architecture (e.g. initializing a BertForSequenceClassification model from a BertForPreTraining model).\n",
      "- This IS NOT expected if you are initializing BertModel from the checkpoint of a model that you expect to be exactly identical (initializing a BertForSequenceClassification model from a BertForSequenceClassification model).\n"
     ]
    },
    {
     "name": "stdout",
     "output_type": "stream",
     "text": [
      "hallucination pr_scores: [0.2738929986953734, 0.3345237612724305, 0.30075148344039915, 0.31173281669616704, 0.31173281669616704]\n",
      "hallucination re_scores: [0.2825714349746704, 0.332557773590088, 0.3189383506774902, 0.3231645584106446, 0.3231645584106446]\n",
      "hallucination f1_scores: [0.2791130423545838, 0.33383318185806277, 0.31052113771438594, 0.31794608831405646, 0.31794608831405646]\n",
      "processing 52 / 100\n"
     ]
    },
    {
     "name": "stderr",
     "output_type": "stream",
     "text": [
      "Warning: Baseline not Found for bert-base-multilingual-cased on ja at /home/ryoryon66/.pyenv/versions/3.9.8/lib/python3.9/site-packages/bert_score/rescale_baseline/ja/bert-base-multilingual-cased.tsv\n",
      "/tmp/ipykernel_28939/1749957329.py:18: FutureWarning: The frame.append method is deprecated and will be removed from pandas in a future version. Use pandas.concat instead.\n",
      "  score_df = score_df.append({\n"
     ]
    },
    {
     "name": "stdout",
     "output_type": "stream",
     "text": [
      "QA20CAPR-0105 エジソンが、電球のフィラメントに使ったことで有名な植物は何でしょう? 松ぼっくり\n",
      "sampled: ['クリプトン オキュラーライトです。', 'デンプン質肥料。', '竹。', 'キク科のタンポポ、セイヨウタンポポ、ヤナギタンポポなどがあります。', 'ライ麦。']\n",
      "r_sentences\n",
      "['松ぼっくり']\n",
      "松ぼっくり\n"
     ]
    },
    {
     "name": "stderr",
     "output_type": "stream",
     "text": [
      "Some weights of the model checkpoint at bert-base-multilingual-cased were not used when initializing BertModel: ['cls.predictions.transform.dense.weight', 'cls.seq_relationship.weight', 'cls.predictions.transform.LayerNorm.weight', 'cls.predictions.bias', 'cls.seq_relationship.bias', 'cls.predictions.transform.dense.bias', 'cls.predictions.transform.LayerNorm.bias']\n",
      "- This IS expected if you are initializing BertModel from the checkpoint of a model trained on another task or with another architecture (e.g. initializing a BertForSequenceClassification model from a BertForPreTraining model).\n",
      "- This IS NOT expected if you are initializing BertModel from the checkpoint of a model that you expect to be exactly identical (initializing a BertForSequenceClassification model from a BertForSequenceClassification model).\n",
      "Warning: Baseline not Found for bert-base-multilingual-cased on ja at /home/ryoryon66/.pyenv/versions/3.9.8/lib/python3.9/site-packages/bert_score/rescale_baseline/ja/bert-base-multilingual-cased.tsv\n",
      "Some weights of the model checkpoint at bert-base-multilingual-cased were not used when initializing BertModel: ['cls.predictions.transform.dense.weight', 'cls.seq_relationship.weight', 'cls.predictions.transform.LayerNorm.weight', 'cls.predictions.bias', 'cls.seq_relationship.bias', 'cls.predictions.transform.dense.bias', 'cls.predictions.transform.LayerNorm.bias']\n",
      "- This IS expected if you are initializing BertModel from the checkpoint of a model trained on another task or with another architecture (e.g. initializing a BertForSequenceClassification model from a BertForPreTraining model).\n",
      "- This IS NOT expected if you are initializing BertModel from the checkpoint of a model that you expect to be exactly identical (initializing a BertForSequenceClassification model from a BertForSequenceClassification model).\n",
      "Warning: Baseline not Found for bert-base-multilingual-cased on ja at /home/ryoryon66/.pyenv/versions/3.9.8/lib/python3.9/site-packages/bert_score/rescale_baseline/ja/bert-base-multilingual-cased.tsv\n",
      "Some weights of the model checkpoint at bert-base-multilingual-cased were not used when initializing BertModel: ['cls.predictions.transform.dense.weight', 'cls.seq_relationship.weight', 'cls.predictions.transform.LayerNorm.weight', 'cls.predictions.bias', 'cls.seq_relationship.bias', 'cls.predictions.transform.dense.bias', 'cls.predictions.transform.LayerNorm.bias']\n",
      "- This IS expected if you are initializing BertModel from the checkpoint of a model trained on another task or with another architecture (e.g. initializing a BertForSequenceClassification model from a BertForPreTraining model).\n",
      "- This IS NOT expected if you are initializing BertModel from the checkpoint of a model that you expect to be exactly identical (initializing a BertForSequenceClassification model from a BertForSequenceClassification model).\n",
      "Warning: Baseline not Found for bert-base-multilingual-cased on ja at /home/ryoryon66/.pyenv/versions/3.9.8/lib/python3.9/site-packages/bert_score/rescale_baseline/ja/bert-base-multilingual-cased.tsv\n",
      "Some weights of the model checkpoint at bert-base-multilingual-cased were not used when initializing BertModel: ['cls.predictions.transform.dense.weight', 'cls.seq_relationship.weight', 'cls.predictions.transform.LayerNorm.weight', 'cls.predictions.bias', 'cls.seq_relationship.bias', 'cls.predictions.transform.dense.bias', 'cls.predictions.transform.LayerNorm.bias']\n",
      "- This IS expected if you are initializing BertModel from the checkpoint of a model trained on another task or with another architecture (e.g. initializing a BertForSequenceClassification model from a BertForPreTraining model).\n",
      "- This IS NOT expected if you are initializing BertModel from the checkpoint of a model that you expect to be exactly identical (initializing a BertForSequenceClassification model from a BertForSequenceClassification model).\n",
      "Warning: Baseline not Found for bert-base-multilingual-cased on ja at /home/ryoryon66/.pyenv/versions/3.9.8/lib/python3.9/site-packages/bert_score/rescale_baseline/ja/bert-base-multilingual-cased.tsv\n",
      "Some weights of the model checkpoint at bert-base-multilingual-cased were not used when initializing BertModel: ['cls.predictions.transform.dense.weight', 'cls.seq_relationship.weight', 'cls.predictions.transform.LayerNorm.weight', 'cls.predictions.bias', 'cls.seq_relationship.bias', 'cls.predictions.transform.dense.bias', 'cls.predictions.transform.LayerNorm.bias']\n",
      "- This IS expected if you are initializing BertModel from the checkpoint of a model trained on another task or with another architecture (e.g. initializing a BertForSequenceClassification model from a BertForPreTraining model).\n",
      "- This IS NOT expected if you are initializing BertModel from the checkpoint of a model that you expect to be exactly identical (initializing a BertForSequenceClassification model from a BertForSequenceClassification model).\n"
     ]
    },
    {
     "name": "stdout",
     "output_type": "stream",
     "text": [
      "hallucination pr_scores: [0.31732212305068974]\n",
      "hallucination re_scores: [0.30618427991867064]\n",
      "hallucination f1_scores: [0.3125342965126038]\n",
      "processing 53 / 100\n"
     ]
    },
    {
     "name": "stderr",
     "output_type": "stream",
     "text": [
      "Warning: Baseline not Found for bert-base-multilingual-cased on ja at /home/ryoryon66/.pyenv/versions/3.9.8/lib/python3.9/site-packages/bert_score/rescale_baseline/ja/bert-base-multilingual-cased.tsv\n",
      "/tmp/ipykernel_28939/1749957329.py:18: FutureWarning: The frame.append method is deprecated and will be removed from pandas in a future version. Use pandas.concat instead.\n",
      "  score_df = score_df.append({\n"
     ]
    },
    {
     "name": "stdout",
     "output_type": "stream",
     "text": [
      "QA20CAPR-0107 沖縄県では、かつて鍋を洗う時に使ったことから「ナーベラー」とも呼ばれる食べ物は何でしょう? ヘチマです。\n",
      "\n",
      "sampled: ['ヘチマ料理です。', 'ヘチマです。', 'フーチバー(フーチバ)です。', 'タマネギ、ニンジン、ニラ。これらは、沖縄料理に欠かせない人気の材料です。', '島豆腐です。']\n",
      "r_sentences\n",
      "['ヘチマです']\n",
      "ヘチマです\n"
     ]
    },
    {
     "name": "stderr",
     "output_type": "stream",
     "text": [
      "Some weights of the model checkpoint at bert-base-multilingual-cased were not used when initializing BertModel: ['cls.predictions.transform.dense.weight', 'cls.seq_relationship.weight', 'cls.predictions.transform.LayerNorm.weight', 'cls.predictions.bias', 'cls.seq_relationship.bias', 'cls.predictions.transform.dense.bias', 'cls.predictions.transform.LayerNorm.bias']\n",
      "- This IS expected if you are initializing BertModel from the checkpoint of a model trained on another task or with another architecture (e.g. initializing a BertForSequenceClassification model from a BertForPreTraining model).\n",
      "- This IS NOT expected if you are initializing BertModel from the checkpoint of a model that you expect to be exactly identical (initializing a BertForSequenceClassification model from a BertForSequenceClassification model).\n",
      "Warning: Baseline not Found for bert-base-multilingual-cased on ja at /home/ryoryon66/.pyenv/versions/3.9.8/lib/python3.9/site-packages/bert_score/rescale_baseline/ja/bert-base-multilingual-cased.tsv\n",
      "Some weights of the model checkpoint at bert-base-multilingual-cased were not used when initializing BertModel: ['cls.predictions.transform.dense.weight', 'cls.seq_relationship.weight', 'cls.predictions.transform.LayerNorm.weight', 'cls.predictions.bias', 'cls.seq_relationship.bias', 'cls.predictions.transform.dense.bias', 'cls.predictions.transform.LayerNorm.bias']\n",
      "- This IS expected if you are initializing BertModel from the checkpoint of a model trained on another task or with another architecture (e.g. initializing a BertForSequenceClassification model from a BertForPreTraining model).\n",
      "- This IS NOT expected if you are initializing BertModel from the checkpoint of a model that you expect to be exactly identical (initializing a BertForSequenceClassification model from a BertForSequenceClassification model).\n",
      "Warning: Baseline not Found for bert-base-multilingual-cased on ja at /home/ryoryon66/.pyenv/versions/3.9.8/lib/python3.9/site-packages/bert_score/rescale_baseline/ja/bert-base-multilingual-cased.tsv\n",
      "Some weights of the model checkpoint at bert-base-multilingual-cased were not used when initializing BertModel: ['cls.predictions.transform.dense.weight', 'cls.seq_relationship.weight', 'cls.predictions.transform.LayerNorm.weight', 'cls.predictions.bias', 'cls.seq_relationship.bias', 'cls.predictions.transform.dense.bias', 'cls.predictions.transform.LayerNorm.bias']\n",
      "- This IS expected if you are initializing BertModel from the checkpoint of a model trained on another task or with another architecture (e.g. initializing a BertForSequenceClassification model from a BertForPreTraining model).\n",
      "- This IS NOT expected if you are initializing BertModel from the checkpoint of a model that you expect to be exactly identical (initializing a BertForSequenceClassification model from a BertForSequenceClassification model).\n",
      "Warning: Baseline not Found for bert-base-multilingual-cased on ja at /home/ryoryon66/.pyenv/versions/3.9.8/lib/python3.9/site-packages/bert_score/rescale_baseline/ja/bert-base-multilingual-cased.tsv\n",
      "Some weights of the model checkpoint at bert-base-multilingual-cased were not used when initializing BertModel: ['cls.predictions.transform.dense.weight', 'cls.seq_relationship.weight', 'cls.predictions.transform.LayerNorm.weight', 'cls.predictions.bias', 'cls.seq_relationship.bias', 'cls.predictions.transform.dense.bias', 'cls.predictions.transform.LayerNorm.bias']\n",
      "- This IS expected if you are initializing BertModel from the checkpoint of a model trained on another task or with another architecture (e.g. initializing a BertForSequenceClassification model from a BertForPreTraining model).\n",
      "- This IS NOT expected if you are initializing BertModel from the checkpoint of a model that you expect to be exactly identical (initializing a BertForSequenceClassification model from a BertForSequenceClassification model).\n",
      "Warning: Baseline not Found for bert-base-multilingual-cased on ja at /home/ryoryon66/.pyenv/versions/3.9.8/lib/python3.9/site-packages/bert_score/rescale_baseline/ja/bert-base-multilingual-cased.tsv\n",
      "Some weights of the model checkpoint at bert-base-multilingual-cased were not used when initializing BertModel: ['cls.predictions.transform.dense.weight', 'cls.seq_relationship.weight', 'cls.predictions.transform.LayerNorm.weight', 'cls.predictions.bias', 'cls.seq_relationship.bias', 'cls.predictions.transform.dense.bias', 'cls.predictions.transform.LayerNorm.bias']\n",
      "- This IS expected if you are initializing BertModel from the checkpoint of a model trained on another task or with another architecture (e.g. initializing a BertForSequenceClassification model from a BertForPreTraining model).\n",
      "- This IS NOT expected if you are initializing BertModel from the checkpoint of a model that you expect to be exactly identical (initializing a BertForSequenceClassification model from a BertForSequenceClassification model).\n"
     ]
    },
    {
     "name": "stdout",
     "output_type": "stream",
     "text": [
      "hallucination pr_scores: [0.15418421030044552]\n",
      "hallucination re_scores: [0.18140872716903683]\n",
      "hallucination f1_scores: [0.16832739114761347]\n",
      "processing 54 / 100\n"
     ]
    },
    {
     "name": "stderr",
     "output_type": "stream",
     "text": [
      "Warning: Baseline not Found for bert-base-multilingual-cased on ja at /home/ryoryon66/.pyenv/versions/3.9.8/lib/python3.9/site-packages/bert_score/rescale_baseline/ja/bert-base-multilingual-cased.tsv\n",
      "/tmp/ipykernel_28939/1749957329.py:18: FutureWarning: The frame.append method is deprecated and will be removed from pandas in a future version. Use pandas.concat instead.\n",
      "  score_df = score_df.append({\n"
     ]
    },
    {
     "name": "stdout",
     "output_type": "stream",
     "text": [
      "QA20CAPR-0109 1956年には南半球初のオリンピック開催地となった、オーストラリアの都市はどこでしょう? メルボルン\n",
      "sampled: ['メルボルン', 'メルボルン', 'メルボルン', 'メルボルン', 'メルボルン市です。']\n",
      "r_sentences\n",
      "['メルボルン']\n",
      "メルボルン\n"
     ]
    },
    {
     "name": "stderr",
     "output_type": "stream",
     "text": [
      "Some weights of the model checkpoint at bert-base-multilingual-cased were not used when initializing BertModel: ['cls.predictions.transform.dense.weight', 'cls.seq_relationship.weight', 'cls.predictions.transform.LayerNorm.weight', 'cls.predictions.bias', 'cls.seq_relationship.bias', 'cls.predictions.transform.dense.bias', 'cls.predictions.transform.LayerNorm.bias']\n",
      "- This IS expected if you are initializing BertModel from the checkpoint of a model trained on another task or with another architecture (e.g. initializing a BertForSequenceClassification model from a BertForPreTraining model).\n",
      "- This IS NOT expected if you are initializing BertModel from the checkpoint of a model that you expect to be exactly identical (initializing a BertForSequenceClassification model from a BertForSequenceClassification model).\n",
      "Warning: Baseline not Found for bert-base-multilingual-cased on ja at /home/ryoryon66/.pyenv/versions/3.9.8/lib/python3.9/site-packages/bert_score/rescale_baseline/ja/bert-base-multilingual-cased.tsv\n",
      "Some weights of the model checkpoint at bert-base-multilingual-cased were not used when initializing BertModel: ['cls.predictions.transform.dense.weight', 'cls.seq_relationship.weight', 'cls.predictions.transform.LayerNorm.weight', 'cls.predictions.bias', 'cls.seq_relationship.bias', 'cls.predictions.transform.dense.bias', 'cls.predictions.transform.LayerNorm.bias']\n",
      "- This IS expected if you are initializing BertModel from the checkpoint of a model trained on another task or with another architecture (e.g. initializing a BertForSequenceClassification model from a BertForPreTraining model).\n",
      "- This IS NOT expected if you are initializing BertModel from the checkpoint of a model that you expect to be exactly identical (initializing a BertForSequenceClassification model from a BertForSequenceClassification model).\n",
      "Warning: Baseline not Found for bert-base-multilingual-cased on ja at /home/ryoryon66/.pyenv/versions/3.9.8/lib/python3.9/site-packages/bert_score/rescale_baseline/ja/bert-base-multilingual-cased.tsv\n",
      "Some weights of the model checkpoint at bert-base-multilingual-cased were not used when initializing BertModel: ['cls.predictions.transform.dense.weight', 'cls.seq_relationship.weight', 'cls.predictions.transform.LayerNorm.weight', 'cls.predictions.bias', 'cls.seq_relationship.bias', 'cls.predictions.transform.dense.bias', 'cls.predictions.transform.LayerNorm.bias']\n",
      "- This IS expected if you are initializing BertModel from the checkpoint of a model trained on another task or with another architecture (e.g. initializing a BertForSequenceClassification model from a BertForPreTraining model).\n",
      "- This IS NOT expected if you are initializing BertModel from the checkpoint of a model that you expect to be exactly identical (initializing a BertForSequenceClassification model from a BertForSequenceClassification model).\n",
      "Warning: Baseline not Found for bert-base-multilingual-cased on ja at /home/ryoryon66/.pyenv/versions/3.9.8/lib/python3.9/site-packages/bert_score/rescale_baseline/ja/bert-base-multilingual-cased.tsv\n",
      "Some weights of the model checkpoint at bert-base-multilingual-cased were not used when initializing BertModel: ['cls.predictions.transform.dense.weight', 'cls.seq_relationship.weight', 'cls.predictions.transform.LayerNorm.weight', 'cls.predictions.bias', 'cls.seq_relationship.bias', 'cls.predictions.transform.dense.bias', 'cls.predictions.transform.LayerNorm.bias']\n",
      "- This IS expected if you are initializing BertModel from the checkpoint of a model trained on another task or with another architecture (e.g. initializing a BertForSequenceClassification model from a BertForPreTraining model).\n",
      "- This IS NOT expected if you are initializing BertModel from the checkpoint of a model that you expect to be exactly identical (initializing a BertForSequenceClassification model from a BertForSequenceClassification model).\n",
      "Warning: Baseline not Found for bert-base-multilingual-cased on ja at /home/ryoryon66/.pyenv/versions/3.9.8/lib/python3.9/site-packages/bert_score/rescale_baseline/ja/bert-base-multilingual-cased.tsv\n",
      "Some weights of the model checkpoint at bert-base-multilingual-cased were not used when initializing BertModel: ['cls.predictions.transform.dense.weight', 'cls.seq_relationship.weight', 'cls.predictions.transform.LayerNorm.weight', 'cls.predictions.bias', 'cls.seq_relationship.bias', 'cls.predictions.transform.dense.bias', 'cls.predictions.transform.LayerNorm.bias']\n",
      "- This IS expected if you are initializing BertModel from the checkpoint of a model trained on another task or with another architecture (e.g. initializing a BertForSequenceClassification model from a BertForPreTraining model).\n",
      "- This IS NOT expected if you are initializing BertModel from the checkpoint of a model that you expect to be exactly identical (initializing a BertForSequenceClassification model from a BertForSequenceClassification model).\n"
     ]
    },
    {
     "name": "stdout",
     "output_type": "stream",
     "text": [
      "hallucination pr_scores: [0.026775872707367004]\n",
      "hallucination re_scores: [0.0435245037078858]\n",
      "hallucination f1_scores: [0.03557559251785286]\n",
      "processing 55 / 100\n"
     ]
    },
    {
     "name": "stderr",
     "output_type": "stream",
     "text": [
      "Warning: Baseline not Found for bert-base-multilingual-cased on ja at /home/ryoryon66/.pyenv/versions/3.9.8/lib/python3.9/site-packages/bert_score/rescale_baseline/ja/bert-base-multilingual-cased.tsv\n",
      "/tmp/ipykernel_28939/1749957329.py:18: FutureWarning: The frame.append method is deprecated and will be removed from pandas in a future version. Use pandas.concat instead.\n",
      "  score_df = score_df.append({\n"
     ]
    },
    {
     "name": "stdout",
     "output_type": "stream",
     "text": [
      "QA20CAPR-0111 史上初めて公式戦で4回転フリップを成功させた男子フィギュアスケーターである、平昌五輪で銀メダルに輝いた日本のフィギュアスケート選手は誰でしょう? 羽生結弦選手です。\n",
      "\n",
      "sampled: ['宇野昌磨', '宇野昌磨', '羽生結弦', '宇野昌磨', '羽生結弦。']\n",
      "r_sentences\n",
      "['羽生結弦選手です']\n",
      "羽生結弦選手です\n"
     ]
    },
    {
     "name": "stderr",
     "output_type": "stream",
     "text": [
      "Some weights of the model checkpoint at bert-base-multilingual-cased were not used when initializing BertModel: ['cls.predictions.transform.dense.weight', 'cls.seq_relationship.weight', 'cls.predictions.transform.LayerNorm.weight', 'cls.predictions.bias', 'cls.seq_relationship.bias', 'cls.predictions.transform.dense.bias', 'cls.predictions.transform.LayerNorm.bias']\n",
      "- This IS expected if you are initializing BertModel from the checkpoint of a model trained on another task or with another architecture (e.g. initializing a BertForSequenceClassification model from a BertForPreTraining model).\n",
      "- This IS NOT expected if you are initializing BertModel from the checkpoint of a model that you expect to be exactly identical (initializing a BertForSequenceClassification model from a BertForSequenceClassification model).\n",
      "Warning: Baseline not Found for bert-base-multilingual-cased on ja at /home/ryoryon66/.pyenv/versions/3.9.8/lib/python3.9/site-packages/bert_score/rescale_baseline/ja/bert-base-multilingual-cased.tsv\n",
      "Some weights of the model checkpoint at bert-base-multilingual-cased were not used when initializing BertModel: ['cls.predictions.transform.dense.weight', 'cls.seq_relationship.weight', 'cls.predictions.transform.LayerNorm.weight', 'cls.predictions.bias', 'cls.seq_relationship.bias', 'cls.predictions.transform.dense.bias', 'cls.predictions.transform.LayerNorm.bias']\n",
      "- This IS expected if you are initializing BertModel from the checkpoint of a model trained on another task or with another architecture (e.g. initializing a BertForSequenceClassification model from a BertForPreTraining model).\n",
      "- This IS NOT expected if you are initializing BertModel from the checkpoint of a model that you expect to be exactly identical (initializing a BertForSequenceClassification model from a BertForSequenceClassification model).\n",
      "Warning: Baseline not Found for bert-base-multilingual-cased on ja at /home/ryoryon66/.pyenv/versions/3.9.8/lib/python3.9/site-packages/bert_score/rescale_baseline/ja/bert-base-multilingual-cased.tsv\n",
      "Some weights of the model checkpoint at bert-base-multilingual-cased were not used when initializing BertModel: ['cls.predictions.transform.dense.weight', 'cls.seq_relationship.weight', 'cls.predictions.transform.LayerNorm.weight', 'cls.predictions.bias', 'cls.seq_relationship.bias', 'cls.predictions.transform.dense.bias', 'cls.predictions.transform.LayerNorm.bias']\n",
      "- This IS expected if you are initializing BertModel from the checkpoint of a model trained on another task or with another architecture (e.g. initializing a BertForSequenceClassification model from a BertForPreTraining model).\n",
      "- This IS NOT expected if you are initializing BertModel from the checkpoint of a model that you expect to be exactly identical (initializing a BertForSequenceClassification model from a BertForSequenceClassification model).\n",
      "Warning: Baseline not Found for bert-base-multilingual-cased on ja at /home/ryoryon66/.pyenv/versions/3.9.8/lib/python3.9/site-packages/bert_score/rescale_baseline/ja/bert-base-multilingual-cased.tsv\n",
      "Some weights of the model checkpoint at bert-base-multilingual-cased were not used when initializing BertModel: ['cls.predictions.transform.dense.weight', 'cls.seq_relationship.weight', 'cls.predictions.transform.LayerNorm.weight', 'cls.predictions.bias', 'cls.seq_relationship.bias', 'cls.predictions.transform.dense.bias', 'cls.predictions.transform.LayerNorm.bias']\n",
      "- This IS expected if you are initializing BertModel from the checkpoint of a model trained on another task or with another architecture (e.g. initializing a BertForSequenceClassification model from a BertForPreTraining model).\n",
      "- This IS NOT expected if you are initializing BertModel from the checkpoint of a model that you expect to be exactly identical (initializing a BertForSequenceClassification model from a BertForSequenceClassification model).\n",
      "Warning: Baseline not Found for bert-base-multilingual-cased on ja at /home/ryoryon66/.pyenv/versions/3.9.8/lib/python3.9/site-packages/bert_score/rescale_baseline/ja/bert-base-multilingual-cased.tsv\n",
      "Some weights of the model checkpoint at bert-base-multilingual-cased were not used when initializing BertModel: ['cls.predictions.transform.dense.weight', 'cls.seq_relationship.weight', 'cls.predictions.transform.LayerNorm.weight', 'cls.predictions.bias', 'cls.seq_relationship.bias', 'cls.predictions.transform.dense.bias', 'cls.predictions.transform.LayerNorm.bias']\n",
      "- This IS expected if you are initializing BertModel from the checkpoint of a model trained on another task or with another architecture (e.g. initializing a BertForSequenceClassification model from a BertForPreTraining model).\n",
      "- This IS NOT expected if you are initializing BertModel from the checkpoint of a model that you expect to be exactly identical (initializing a BertForSequenceClassification model from a BertForSequenceClassification model).\n"
     ]
    },
    {
     "name": "stdout",
     "output_type": "stream",
     "text": [
      "hallucination pr_scores: [0.28715850114822394]\n",
      "hallucination re_scores: [0.20957686901092534]\n",
      "hallucination f1_scores: [0.2505556821823121]\n",
      "processing 56 / 100\n"
     ]
    },
    {
     "name": "stderr",
     "output_type": "stream",
     "text": [
      "Warning: Baseline not Found for bert-base-multilingual-cased on ja at /home/ryoryon66/.pyenv/versions/3.9.8/lib/python3.9/site-packages/bert_score/rescale_baseline/ja/bert-base-multilingual-cased.tsv\n",
      "/tmp/ipykernel_28939/1749957329.py:18: FutureWarning: The frame.append method is deprecated and will be removed from pandas in a future version. Use pandas.concat instead.\n",
      "  score_df = score_df.append({\n"
     ]
    },
    {
     "name": "stdout",
     "output_type": "stream",
     "text": [
      "QA20CAPR-0113 これを達成した時にお金が支払われる保険も存在する、ゴルフで最初の1打がそのままカップインすることを何というでしょう? ホールインワン保険」と言います。\n",
      "\n",
      "sampled: ['ホールインワン保険と呼ばれています。', 'ホールインワン保険」とは、ゴルフで最初の1打がカップインしたときに支払われる保険です。一般的には、ゴルフの初心者や中級者にとって有益な保険です。通常、保険会社に申請し、承認された場合にのみ保険に加入できます。', 'ホールインワン保険と呼ばれます。', 'ホールインワン保険です。', 'ホールインワン保険と呼ばれています。']\n",
      "r_sentences\n",
      "['ホールインワン保険」と言います']\n",
      "ホールインワン保険」と言います\n"
     ]
    },
    {
     "name": "stderr",
     "output_type": "stream",
     "text": [
      "Some weights of the model checkpoint at bert-base-multilingual-cased were not used when initializing BertModel: ['cls.predictions.transform.dense.weight', 'cls.seq_relationship.weight', 'cls.predictions.transform.LayerNorm.weight', 'cls.predictions.bias', 'cls.seq_relationship.bias', 'cls.predictions.transform.dense.bias', 'cls.predictions.transform.LayerNorm.bias']\n",
      "- This IS expected if you are initializing BertModel from the checkpoint of a model trained on another task or with another architecture (e.g. initializing a BertForSequenceClassification model from a BertForPreTraining model).\n",
      "- This IS NOT expected if you are initializing BertModel from the checkpoint of a model that you expect to be exactly identical (initializing a BertForSequenceClassification model from a BertForSequenceClassification model).\n",
      "Warning: Baseline not Found for bert-base-multilingual-cased on ja at /home/ryoryon66/.pyenv/versions/3.9.8/lib/python3.9/site-packages/bert_score/rescale_baseline/ja/bert-base-multilingual-cased.tsv\n",
      "Some weights of the model checkpoint at bert-base-multilingual-cased were not used when initializing BertModel: ['cls.predictions.transform.dense.weight', 'cls.seq_relationship.weight', 'cls.predictions.transform.LayerNorm.weight', 'cls.predictions.bias', 'cls.seq_relationship.bias', 'cls.predictions.transform.dense.bias', 'cls.predictions.transform.LayerNorm.bias']\n",
      "- This IS expected if you are initializing BertModel from the checkpoint of a model trained on another task or with another architecture (e.g. initializing a BertForSequenceClassification model from a BertForPreTraining model).\n",
      "- This IS NOT expected if you are initializing BertModel from the checkpoint of a model that you expect to be exactly identical (initializing a BertForSequenceClassification model from a BertForSequenceClassification model).\n",
      "Warning: Baseline not Found for bert-base-multilingual-cased on ja at /home/ryoryon66/.pyenv/versions/3.9.8/lib/python3.9/site-packages/bert_score/rescale_baseline/ja/bert-base-multilingual-cased.tsv\n",
      "Some weights of the model checkpoint at bert-base-multilingual-cased were not used when initializing BertModel: ['cls.predictions.transform.dense.weight', 'cls.seq_relationship.weight', 'cls.predictions.transform.LayerNorm.weight', 'cls.predictions.bias', 'cls.seq_relationship.bias', 'cls.predictions.transform.dense.bias', 'cls.predictions.transform.LayerNorm.bias']\n",
      "- This IS expected if you are initializing BertModel from the checkpoint of a model trained on another task or with another architecture (e.g. initializing a BertForSequenceClassification model from a BertForPreTraining model).\n",
      "- This IS NOT expected if you are initializing BertModel from the checkpoint of a model that you expect to be exactly identical (initializing a BertForSequenceClassification model from a BertForSequenceClassification model).\n",
      "Warning: Baseline not Found for bert-base-multilingual-cased on ja at /home/ryoryon66/.pyenv/versions/3.9.8/lib/python3.9/site-packages/bert_score/rescale_baseline/ja/bert-base-multilingual-cased.tsv\n",
      "Some weights of the model checkpoint at bert-base-multilingual-cased were not used when initializing BertModel: ['cls.predictions.transform.dense.weight', 'cls.seq_relationship.weight', 'cls.predictions.transform.LayerNorm.weight', 'cls.predictions.bias', 'cls.seq_relationship.bias', 'cls.predictions.transform.dense.bias', 'cls.predictions.transform.LayerNorm.bias']\n",
      "- This IS expected if you are initializing BertModel from the checkpoint of a model trained on another task or with another architecture (e.g. initializing a BertForSequenceClassification model from a BertForPreTraining model).\n",
      "- This IS NOT expected if you are initializing BertModel from the checkpoint of a model that you expect to be exactly identical (initializing a BertForSequenceClassification model from a BertForSequenceClassification model).\n",
      "Warning: Baseline not Found for bert-base-multilingual-cased on ja at /home/ryoryon66/.pyenv/versions/3.9.8/lib/python3.9/site-packages/bert_score/rescale_baseline/ja/bert-base-multilingual-cased.tsv\n",
      "Some weights of the model checkpoint at bert-base-multilingual-cased were not used when initializing BertModel: ['cls.predictions.transform.dense.weight', 'cls.seq_relationship.weight', 'cls.predictions.transform.LayerNorm.weight', 'cls.predictions.bias', 'cls.seq_relationship.bias', 'cls.predictions.transform.dense.bias', 'cls.predictions.transform.LayerNorm.bias']\n",
      "- This IS expected if you are initializing BertModel from the checkpoint of a model trained on another task or with another architecture (e.g. initializing a BertForSequenceClassification model from a BertForPreTraining model).\n",
      "- This IS NOT expected if you are initializing BertModel from the checkpoint of a model that you expect to be exactly identical (initializing a BertForSequenceClassification model from a BertForSequenceClassification model).\n"
     ]
    },
    {
     "name": "stdout",
     "output_type": "stream",
     "text": [
      "hallucination pr_scores: [0.14267153739929203]\n",
      "hallucination re_scores: [0.15410596132278448]\n",
      "hallucination f1_scores: [0.1493249654769898]\n",
      "processing 57 / 100\n"
     ]
    },
    {
     "name": "stderr",
     "output_type": "stream",
     "text": [
      "Warning: Baseline not Found for bert-base-multilingual-cased on ja at /home/ryoryon66/.pyenv/versions/3.9.8/lib/python3.9/site-packages/bert_score/rescale_baseline/ja/bert-base-multilingual-cased.tsv\n",
      "/tmp/ipykernel_28939/1749957329.py:18: FutureWarning: The frame.append method is deprecated and will be removed from pandas in a future version. Use pandas.concat instead.\n",
      "  score_df = score_df.append({\n"
     ]
    },
    {
     "name": "stdout",
     "output_type": "stream",
     "text": [
      "QA20CAPR-0115 左手で鋭い突きを繰り出す「牙突」を得意技とする、漫画『るろうに剣心』に登場する実在の剣士は誰でしょう? 瀬田宗次郎\n",
      "sampled: ['瀬田宗次郎 主人公・緋村剣心が使用する技。抜刀術の中でも最も高度な技とされています。', '相楽左之助', '瀬田宗次郎', '志々雄真実。', '左之瀬正雪(さのせまさゆき)']\n",
      "r_sentences\n",
      "['瀬田宗次郎']\n",
      "瀬田宗次郎\n"
     ]
    },
    {
     "name": "stderr",
     "output_type": "stream",
     "text": [
      "Some weights of the model checkpoint at bert-base-multilingual-cased were not used when initializing BertModel: ['cls.predictions.transform.dense.weight', 'cls.seq_relationship.weight', 'cls.predictions.transform.LayerNorm.weight', 'cls.predictions.bias', 'cls.seq_relationship.bias', 'cls.predictions.transform.dense.bias', 'cls.predictions.transform.LayerNorm.bias']\n",
      "- This IS expected if you are initializing BertModel from the checkpoint of a model trained on another task or with another architecture (e.g. initializing a BertForSequenceClassification model from a BertForPreTraining model).\n",
      "- This IS NOT expected if you are initializing BertModel from the checkpoint of a model that you expect to be exactly identical (initializing a BertForSequenceClassification model from a BertForSequenceClassification model).\n",
      "Warning: Baseline not Found for bert-base-multilingual-cased on ja at /home/ryoryon66/.pyenv/versions/3.9.8/lib/python3.9/site-packages/bert_score/rescale_baseline/ja/bert-base-multilingual-cased.tsv\n",
      "Some weights of the model checkpoint at bert-base-multilingual-cased were not used when initializing BertModel: ['cls.predictions.transform.dense.weight', 'cls.seq_relationship.weight', 'cls.predictions.transform.LayerNorm.weight', 'cls.predictions.bias', 'cls.seq_relationship.bias', 'cls.predictions.transform.dense.bias', 'cls.predictions.transform.LayerNorm.bias']\n",
      "- This IS expected if you are initializing BertModel from the checkpoint of a model trained on another task or with another architecture (e.g. initializing a BertForSequenceClassification model from a BertForPreTraining model).\n",
      "- This IS NOT expected if you are initializing BertModel from the checkpoint of a model that you expect to be exactly identical (initializing a BertForSequenceClassification model from a BertForSequenceClassification model).\n",
      "Warning: Baseline not Found for bert-base-multilingual-cased on ja at /home/ryoryon66/.pyenv/versions/3.9.8/lib/python3.9/site-packages/bert_score/rescale_baseline/ja/bert-base-multilingual-cased.tsv\n",
      "Some weights of the model checkpoint at bert-base-multilingual-cased were not used when initializing BertModel: ['cls.predictions.transform.dense.weight', 'cls.seq_relationship.weight', 'cls.predictions.transform.LayerNorm.weight', 'cls.predictions.bias', 'cls.seq_relationship.bias', 'cls.predictions.transform.dense.bias', 'cls.predictions.transform.LayerNorm.bias']\n",
      "- This IS expected if you are initializing BertModel from the checkpoint of a model trained on another task or with another architecture (e.g. initializing a BertForSequenceClassification model from a BertForPreTraining model).\n",
      "- This IS NOT expected if you are initializing BertModel from the checkpoint of a model that you expect to be exactly identical (initializing a BertForSequenceClassification model from a BertForSequenceClassification model).\n",
      "Warning: Baseline not Found for bert-base-multilingual-cased on ja at /home/ryoryon66/.pyenv/versions/3.9.8/lib/python3.9/site-packages/bert_score/rescale_baseline/ja/bert-base-multilingual-cased.tsv\n",
      "Some weights of the model checkpoint at bert-base-multilingual-cased were not used when initializing BertModel: ['cls.predictions.transform.dense.weight', 'cls.seq_relationship.weight', 'cls.predictions.transform.LayerNorm.weight', 'cls.predictions.bias', 'cls.seq_relationship.bias', 'cls.predictions.transform.dense.bias', 'cls.predictions.transform.LayerNorm.bias']\n",
      "- This IS expected if you are initializing BertModel from the checkpoint of a model trained on another task or with another architecture (e.g. initializing a BertForSequenceClassification model from a BertForPreTraining model).\n",
      "- This IS NOT expected if you are initializing BertModel from the checkpoint of a model that you expect to be exactly identical (initializing a BertForSequenceClassification model from a BertForSequenceClassification model).\n",
      "Warning: Baseline not Found for bert-base-multilingual-cased on ja at /home/ryoryon66/.pyenv/versions/3.9.8/lib/python3.9/site-packages/bert_score/rescale_baseline/ja/bert-base-multilingual-cased.tsv\n",
      "Some weights of the model checkpoint at bert-base-multilingual-cased were not used when initializing BertModel: ['cls.predictions.transform.dense.weight', 'cls.seq_relationship.weight', 'cls.predictions.transform.LayerNorm.weight', 'cls.predictions.bias', 'cls.seq_relationship.bias', 'cls.predictions.transform.dense.bias', 'cls.predictions.transform.LayerNorm.bias']\n",
      "- This IS expected if you are initializing BertModel from the checkpoint of a model trained on another task or with another architecture (e.g. initializing a BertForSequenceClassification model from a BertForPreTraining model).\n",
      "- This IS NOT expected if you are initializing BertModel from the checkpoint of a model that you expect to be exactly identical (initializing a BertForSequenceClassification model from a BertForSequenceClassification model).\n"
     ]
    },
    {
     "name": "stdout",
     "output_type": "stream",
     "text": [
      "hallucination pr_scores: [0.18215379714965818]\n",
      "hallucination re_scores: [0.23425968885421755]\n",
      "hallucination f1_scores: [0.211255419254303]\n",
      "processing 58 / 100\n"
     ]
    },
    {
     "name": "stderr",
     "output_type": "stream",
     "text": [
      "Warning: Baseline not Found for bert-base-multilingual-cased on ja at /home/ryoryon66/.pyenv/versions/3.9.8/lib/python3.9/site-packages/bert_score/rescale_baseline/ja/bert-base-multilingual-cased.tsv\n",
      "/tmp/ipykernel_28939/1749957329.py:18: FutureWarning: The frame.append method is deprecated and will be removed from pandas in a future version. Use pandas.concat instead.\n",
      "  score_df = score_df.append({\n"
     ]
    },
    {
     "name": "stdout",
     "output_type": "stream",
     "text": [
      "QA20CAPR-0117 漢字では「金偏に口」と書く、服をとめる時に使うものは何でしょう? ボタンです。\n",
      "\n",
      "sampled: ['ボタンです。', 'ボタンです。', 'ボタンです。金偏に口と書いて、その言葉は「お金を保管する口」という意味になります。衣服やジュエリーなどを留めるのに非常に便利な方法です。', 'ボタンです。', 'スナップボタンです。']\n",
      "r_sentences\n",
      "['ボタンです']\n",
      "ボタンです\n"
     ]
    },
    {
     "name": "stderr",
     "output_type": "stream",
     "text": [
      "Some weights of the model checkpoint at bert-base-multilingual-cased were not used when initializing BertModel: ['cls.predictions.transform.dense.weight', 'cls.seq_relationship.weight', 'cls.predictions.transform.LayerNorm.weight', 'cls.predictions.bias', 'cls.seq_relationship.bias', 'cls.predictions.transform.dense.bias', 'cls.predictions.transform.LayerNorm.bias']\n",
      "- This IS expected if you are initializing BertModel from the checkpoint of a model trained on another task or with another architecture (e.g. initializing a BertForSequenceClassification model from a BertForPreTraining model).\n",
      "- This IS NOT expected if you are initializing BertModel from the checkpoint of a model that you expect to be exactly identical (initializing a BertForSequenceClassification model from a BertForSequenceClassification model).\n",
      "Warning: Baseline not Found for bert-base-multilingual-cased on ja at /home/ryoryon66/.pyenv/versions/3.9.8/lib/python3.9/site-packages/bert_score/rescale_baseline/ja/bert-base-multilingual-cased.tsv\n",
      "Some weights of the model checkpoint at bert-base-multilingual-cased were not used when initializing BertModel: ['cls.predictions.transform.dense.weight', 'cls.seq_relationship.weight', 'cls.predictions.transform.LayerNorm.weight', 'cls.predictions.bias', 'cls.seq_relationship.bias', 'cls.predictions.transform.dense.bias', 'cls.predictions.transform.LayerNorm.bias']\n",
      "- This IS expected if you are initializing BertModel from the checkpoint of a model trained on another task or with another architecture (e.g. initializing a BertForSequenceClassification model from a BertForPreTraining model).\n",
      "- This IS NOT expected if you are initializing BertModel from the checkpoint of a model that you expect to be exactly identical (initializing a BertForSequenceClassification model from a BertForSequenceClassification model).\n",
      "Warning: Baseline not Found for bert-base-multilingual-cased on ja at /home/ryoryon66/.pyenv/versions/3.9.8/lib/python3.9/site-packages/bert_score/rescale_baseline/ja/bert-base-multilingual-cased.tsv\n",
      "Some weights of the model checkpoint at bert-base-multilingual-cased were not used when initializing BertModel: ['cls.predictions.transform.dense.weight', 'cls.seq_relationship.weight', 'cls.predictions.transform.LayerNorm.weight', 'cls.predictions.bias', 'cls.seq_relationship.bias', 'cls.predictions.transform.dense.bias', 'cls.predictions.transform.LayerNorm.bias']\n",
      "- This IS expected if you are initializing BertModel from the checkpoint of a model trained on another task or with another architecture (e.g. initializing a BertForSequenceClassification model from a BertForPreTraining model).\n",
      "- This IS NOT expected if you are initializing BertModel from the checkpoint of a model that you expect to be exactly identical (initializing a BertForSequenceClassification model from a BertForSequenceClassification model).\n",
      "Warning: Baseline not Found for bert-base-multilingual-cased on ja at /home/ryoryon66/.pyenv/versions/3.9.8/lib/python3.9/site-packages/bert_score/rescale_baseline/ja/bert-base-multilingual-cased.tsv\n",
      "Some weights of the model checkpoint at bert-base-multilingual-cased were not used when initializing BertModel: ['cls.predictions.transform.dense.weight', 'cls.seq_relationship.weight', 'cls.predictions.transform.LayerNorm.weight', 'cls.predictions.bias', 'cls.seq_relationship.bias', 'cls.predictions.transform.dense.bias', 'cls.predictions.transform.LayerNorm.bias']\n",
      "- This IS expected if you are initializing BertModel from the checkpoint of a model trained on another task or with another architecture (e.g. initializing a BertForSequenceClassification model from a BertForPreTraining model).\n",
      "- This IS NOT expected if you are initializing BertModel from the checkpoint of a model that you expect to be exactly identical (initializing a BertForSequenceClassification model from a BertForSequenceClassification model).\n",
      "Warning: Baseline not Found for bert-base-multilingual-cased on ja at /home/ryoryon66/.pyenv/versions/3.9.8/lib/python3.9/site-packages/bert_score/rescale_baseline/ja/bert-base-multilingual-cased.tsv\n",
      "Some weights of the model checkpoint at bert-base-multilingual-cased were not used when initializing BertModel: ['cls.predictions.transform.dense.weight', 'cls.seq_relationship.weight', 'cls.predictions.transform.LayerNorm.weight', 'cls.predictions.bias', 'cls.seq_relationship.bias', 'cls.predictions.transform.dense.bias', 'cls.predictions.transform.LayerNorm.bias']\n",
      "- This IS expected if you are initializing BertModel from the checkpoint of a model trained on another task or with another architecture (e.g. initializing a BertForSequenceClassification model from a BertForPreTraining model).\n",
      "- This IS NOT expected if you are initializing BertModel from the checkpoint of a model that you expect to be exactly identical (initializing a BertForSequenceClassification model from a BertForSequenceClassification model).\n"
     ]
    },
    {
     "name": "stdout",
     "output_type": "stream",
     "text": [
      "hallucination pr_scores: [0.013638544082641674]\n",
      "hallucination re_scores: [0.030466365814209057]\n",
      "hallucination f1_scores: [0.022450292110443193]\n",
      "processing 59 / 100\n"
     ]
    },
    {
     "name": "stderr",
     "output_type": "stream",
     "text": [
      "Warning: Baseline not Found for bert-base-multilingual-cased on ja at /home/ryoryon66/.pyenv/versions/3.9.8/lib/python3.9/site-packages/bert_score/rescale_baseline/ja/bert-base-multilingual-cased.tsv\n",
      "/tmp/ipykernel_28939/1749957329.py:18: FutureWarning: The frame.append method is deprecated and will be removed from pandas in a future version. Use pandas.concat instead.\n",
      "  score_df = score_df.append({\n"
     ]
    },
    {
     "name": "stdout",
     "output_type": "stream",
     "text": [
      "QA20CAPR-0119 1999年にメキシコシティに第1号店が誕生した、子供たちが色々な職業を体験できるテーマパークといえば何でしょう? ユニバーサル・スタジオ・ジャパンです。\n",
      "\n",
      "sampled: ['ディズニーランド・リゾート・メキシコ。', 'ディズニーランド・リゾート・メキシコです。', 'ディズニーランド・メキシコです。', 'コカ・コーラ・ゼロ・タウンです。', 'グアダラハラ・セントラル・メキシコ:マジック・キングダム・オブ・メキシコ 2009年4月23日 12:52 pm EST, Texas. テーマパークは、メキシコとアメリカの国境沿いに位置するグアダラハラ・セントラル・メキシコにあります。マジック・キングダム・オブ・メキシコでは、子供たちは様々な職業を体験することができます。その中には、動物の飼育や修理、衣装製作、トリック・オア・トリートなどがあります。このテーマパークは、メキシコとアメリカの両方に位置しています。']\n",
      "r_sentences\n",
      "['ユニバーサル・スタジオ・ジャパンです']\n",
      "ユニバーサル・スタジオ・ジャパンです\n"
     ]
    },
    {
     "name": "stderr",
     "output_type": "stream",
     "text": [
      "Some weights of the model checkpoint at bert-base-multilingual-cased were not used when initializing BertModel: ['cls.predictions.transform.dense.weight', 'cls.seq_relationship.weight', 'cls.predictions.transform.LayerNorm.weight', 'cls.predictions.bias', 'cls.seq_relationship.bias', 'cls.predictions.transform.dense.bias', 'cls.predictions.transform.LayerNorm.bias']\n",
      "- This IS expected if you are initializing BertModel from the checkpoint of a model trained on another task or with another architecture (e.g. initializing a BertForSequenceClassification model from a BertForPreTraining model).\n",
      "- This IS NOT expected if you are initializing BertModel from the checkpoint of a model that you expect to be exactly identical (initializing a BertForSequenceClassification model from a BertForSequenceClassification model).\n",
      "Warning: Baseline not Found for bert-base-multilingual-cased on ja at /home/ryoryon66/.pyenv/versions/3.9.8/lib/python3.9/site-packages/bert_score/rescale_baseline/ja/bert-base-multilingual-cased.tsv\n",
      "Some weights of the model checkpoint at bert-base-multilingual-cased were not used when initializing BertModel: ['cls.predictions.transform.dense.weight', 'cls.seq_relationship.weight', 'cls.predictions.transform.LayerNorm.weight', 'cls.predictions.bias', 'cls.seq_relationship.bias', 'cls.predictions.transform.dense.bias', 'cls.predictions.transform.LayerNorm.bias']\n",
      "- This IS expected if you are initializing BertModel from the checkpoint of a model trained on another task or with another architecture (e.g. initializing a BertForSequenceClassification model from a BertForPreTraining model).\n",
      "- This IS NOT expected if you are initializing BertModel from the checkpoint of a model that you expect to be exactly identical (initializing a BertForSequenceClassification model from a BertForSequenceClassification model).\n",
      "Warning: Baseline not Found for bert-base-multilingual-cased on ja at /home/ryoryon66/.pyenv/versions/3.9.8/lib/python3.9/site-packages/bert_score/rescale_baseline/ja/bert-base-multilingual-cased.tsv\n",
      "Some weights of the model checkpoint at bert-base-multilingual-cased were not used when initializing BertModel: ['cls.predictions.transform.dense.weight', 'cls.seq_relationship.weight', 'cls.predictions.transform.LayerNorm.weight', 'cls.predictions.bias', 'cls.seq_relationship.bias', 'cls.predictions.transform.dense.bias', 'cls.predictions.transform.LayerNorm.bias']\n",
      "- This IS expected if you are initializing BertModel from the checkpoint of a model trained on another task or with another architecture (e.g. initializing a BertForSequenceClassification model from a BertForPreTraining model).\n",
      "- This IS NOT expected if you are initializing BertModel from the checkpoint of a model that you expect to be exactly identical (initializing a BertForSequenceClassification model from a BertForSequenceClassification model).\n",
      "Warning: Baseline not Found for bert-base-multilingual-cased on ja at /home/ryoryon66/.pyenv/versions/3.9.8/lib/python3.9/site-packages/bert_score/rescale_baseline/ja/bert-base-multilingual-cased.tsv\n",
      "Some weights of the model checkpoint at bert-base-multilingual-cased were not used when initializing BertModel: ['cls.predictions.transform.dense.weight', 'cls.seq_relationship.weight', 'cls.predictions.transform.LayerNorm.weight', 'cls.predictions.bias', 'cls.seq_relationship.bias', 'cls.predictions.transform.dense.bias', 'cls.predictions.transform.LayerNorm.bias']\n",
      "- This IS expected if you are initializing BertModel from the checkpoint of a model trained on another task or with another architecture (e.g. initializing a BertForSequenceClassification model from a BertForPreTraining model).\n",
      "- This IS NOT expected if you are initializing BertModel from the checkpoint of a model that you expect to be exactly identical (initializing a BertForSequenceClassification model from a BertForSequenceClassification model).\n",
      "Warning: Baseline not Found for bert-base-multilingual-cased on ja at /home/ryoryon66/.pyenv/versions/3.9.8/lib/python3.9/site-packages/bert_score/rescale_baseline/ja/bert-base-multilingual-cased.tsv\n",
      "Some weights of the model checkpoint at bert-base-multilingual-cased were not used when initializing BertModel: ['cls.predictions.transform.dense.weight', 'cls.seq_relationship.weight', 'cls.predictions.transform.LayerNorm.weight', 'cls.predictions.bias', 'cls.seq_relationship.bias', 'cls.predictions.transform.dense.bias', 'cls.predictions.transform.LayerNorm.bias']\n",
      "- This IS expected if you are initializing BertModel from the checkpoint of a model trained on another task or with another architecture (e.g. initializing a BertForSequenceClassification model from a BertForPreTraining model).\n",
      "- This IS NOT expected if you are initializing BertModel from the checkpoint of a model that you expect to be exactly identical (initializing a BertForSequenceClassification model from a BertForSequenceClassification model).\n"
     ]
    },
    {
     "name": "stdout",
     "output_type": "stream",
     "text": [
      "hallucination pr_scores: [0.2506858944892882]\n",
      "hallucination re_scores: [0.27433063983917233]\n",
      "hallucination f1_scores: [0.26279345750808714]\n",
      "processing 60 / 100\n"
     ]
    },
    {
     "name": "stderr",
     "output_type": "stream",
     "text": [
      "Warning: Baseline not Found for bert-base-multilingual-cased on ja at /home/ryoryon66/.pyenv/versions/3.9.8/lib/python3.9/site-packages/bert_score/rescale_baseline/ja/bert-base-multilingual-cased.tsv\n",
      "/tmp/ipykernel_28939/1749957329.py:18: FutureWarning: The frame.append method is deprecated and will be removed from pandas in a future version. Use pandas.concat instead.\n",
      "  score_df = score_df.append({\n"
     ]
    },
    {
     "name": "stdout",
     "output_type": "stream",
     "text": [
      "QA20CAPR-0121 上皿天秤で重さをはかるときに、粉末などを乗せる紙を何というでしょう? スケールクロス(紙)\n",
      "sampled: ['折り紙用紙 折り紙用紙とは、折り紙を作るために使う紙のことです。上皿天秤で重さをはかるときは、粉末や液体などの物体を紙に乗せて、重量を測定する必要があります。粉末や液体の物品には、砂糖、塩、小麦粉、米粉、卵白、牛乳などが含まれます。折り紙用紙とは、折り紙を作るために使う、折り紙用の紙のことです。', '計量スプーンまたは計量カップ(スケール)といいます。', '計量用紙(ひょうりょうようし)。', '定規(じょうぎ)です。', 'メジャーカップといいます。']\n",
      "r_sentences\n",
      "['スケールクロス(紙)']\n",
      "スケールクロス(紙)\n"
     ]
    },
    {
     "name": "stderr",
     "output_type": "stream",
     "text": [
      "Some weights of the model checkpoint at bert-base-multilingual-cased were not used when initializing BertModel: ['cls.predictions.transform.dense.weight', 'cls.seq_relationship.weight', 'cls.predictions.transform.LayerNorm.weight', 'cls.predictions.bias', 'cls.seq_relationship.bias', 'cls.predictions.transform.dense.bias', 'cls.predictions.transform.LayerNorm.bias']\n",
      "- This IS expected if you are initializing BertModel from the checkpoint of a model trained on another task or with another architecture (e.g. initializing a BertForSequenceClassification model from a BertForPreTraining model).\n",
      "- This IS NOT expected if you are initializing BertModel from the checkpoint of a model that you expect to be exactly identical (initializing a BertForSequenceClassification model from a BertForSequenceClassification model).\n",
      "Warning: Baseline not Found for bert-base-multilingual-cased on ja at /home/ryoryon66/.pyenv/versions/3.9.8/lib/python3.9/site-packages/bert_score/rescale_baseline/ja/bert-base-multilingual-cased.tsv\n",
      "Some weights of the model checkpoint at bert-base-multilingual-cased were not used when initializing BertModel: ['cls.predictions.transform.dense.weight', 'cls.seq_relationship.weight', 'cls.predictions.transform.LayerNorm.weight', 'cls.predictions.bias', 'cls.seq_relationship.bias', 'cls.predictions.transform.dense.bias', 'cls.predictions.transform.LayerNorm.bias']\n",
      "- This IS expected if you are initializing BertModel from the checkpoint of a model trained on another task or with another architecture (e.g. initializing a BertForSequenceClassification model from a BertForPreTraining model).\n",
      "- This IS NOT expected if you are initializing BertModel from the checkpoint of a model that you expect to be exactly identical (initializing a BertForSequenceClassification model from a BertForSequenceClassification model).\n",
      "Warning: Baseline not Found for bert-base-multilingual-cased on ja at /home/ryoryon66/.pyenv/versions/3.9.8/lib/python3.9/site-packages/bert_score/rescale_baseline/ja/bert-base-multilingual-cased.tsv\n",
      "Some weights of the model checkpoint at bert-base-multilingual-cased were not used when initializing BertModel: ['cls.predictions.transform.dense.weight', 'cls.seq_relationship.weight', 'cls.predictions.transform.LayerNorm.weight', 'cls.predictions.bias', 'cls.seq_relationship.bias', 'cls.predictions.transform.dense.bias', 'cls.predictions.transform.LayerNorm.bias']\n",
      "- This IS expected if you are initializing BertModel from the checkpoint of a model trained on another task or with another architecture (e.g. initializing a BertForSequenceClassification model from a BertForPreTraining model).\n",
      "- This IS NOT expected if you are initializing BertModel from the checkpoint of a model that you expect to be exactly identical (initializing a BertForSequenceClassification model from a BertForSequenceClassification model).\n",
      "Warning: Baseline not Found for bert-base-multilingual-cased on ja at /home/ryoryon66/.pyenv/versions/3.9.8/lib/python3.9/site-packages/bert_score/rescale_baseline/ja/bert-base-multilingual-cased.tsv\n",
      "Some weights of the model checkpoint at bert-base-multilingual-cased were not used when initializing BertModel: ['cls.predictions.transform.dense.weight', 'cls.seq_relationship.weight', 'cls.predictions.transform.LayerNorm.weight', 'cls.predictions.bias', 'cls.seq_relationship.bias', 'cls.predictions.transform.dense.bias', 'cls.predictions.transform.LayerNorm.bias']\n",
      "- This IS expected if you are initializing BertModel from the checkpoint of a model trained on another task or with another architecture (e.g. initializing a BertForSequenceClassification model from a BertForPreTraining model).\n",
      "- This IS NOT expected if you are initializing BertModel from the checkpoint of a model that you expect to be exactly identical (initializing a BertForSequenceClassification model from a BertForSequenceClassification model).\n",
      "Warning: Baseline not Found for bert-base-multilingual-cased on ja at /home/ryoryon66/.pyenv/versions/3.9.8/lib/python3.9/site-packages/bert_score/rescale_baseline/ja/bert-base-multilingual-cased.tsv\n",
      "Some weights of the model checkpoint at bert-base-multilingual-cased were not used when initializing BertModel: ['cls.predictions.transform.dense.weight', 'cls.seq_relationship.weight', 'cls.predictions.transform.LayerNorm.weight', 'cls.predictions.bias', 'cls.seq_relationship.bias', 'cls.predictions.transform.dense.bias', 'cls.predictions.transform.LayerNorm.bias']\n",
      "- This IS expected if you are initializing BertModel from the checkpoint of a model trained on another task or with another architecture (e.g. initializing a BertForSequenceClassification model from a BertForPreTraining model).\n",
      "- This IS NOT expected if you are initializing BertModel from the checkpoint of a model that you expect to be exactly identical (initializing a BertForSequenceClassification model from a BertForSequenceClassification model).\n"
     ]
    },
    {
     "name": "stdout",
     "output_type": "stream",
     "text": [
      "hallucination pr_scores: [0.31881289482116704]\n",
      "hallucination re_scores: [0.3696353316307067]\n",
      "hallucination f1_scores: [0.3463394999504089]\n",
      "processing 61 / 100\n"
     ]
    },
    {
     "name": "stderr",
     "output_type": "stream",
     "text": [
      "Warning: Baseline not Found for bert-base-multilingual-cased on ja at /home/ryoryon66/.pyenv/versions/3.9.8/lib/python3.9/site-packages/bert_score/rescale_baseline/ja/bert-base-multilingual-cased.tsv\n",
      "/tmp/ipykernel_28939/1749957329.py:18: FutureWarning: The frame.append method is deprecated and will be removed from pandas in a future version. Use pandas.concat instead.\n",
      "  score_df = score_df.append({\n"
     ]
    },
    {
     "name": "stdout",
     "output_type": "stream",
     "text": [
      "QA20CAPR-0123 「マサラムービー」や「ボリウッド映画」といえば、どこの国で作られた映画のことでしょう? インド。\n",
      "\n",
      "sampled: ['インド、パキスタン、バングラデシュなどの国々です。', 'インドです。 「マサラムービー」とは、インドのムンバイやチェンナイなど、南インドの都市部を中心に製作される映画のことを指します。このタイプの映画は、ダンスや歌の要素を取り入れており、娯楽性が高く、インドだけでなく国際的にも高い評価を受けています。', 'インドです。', 'インド インドは、世界でもっとも豊かな国の一つであり、多くの文化や伝統があります。 マサラムービーとは、インドの娯楽産業におけるインド文化の誇張された描写であり、世界中の多くの人々に愛されています。ボリウッド映画は、インドの大衆文化の中心的存在となり、インド全土で広く上映されています。', 'インド。']\n",
      "r_sentences\n",
      "['インド']\n",
      "インド\n"
     ]
    },
    {
     "name": "stderr",
     "output_type": "stream",
     "text": [
      "Some weights of the model checkpoint at bert-base-multilingual-cased were not used when initializing BertModel: ['cls.predictions.transform.dense.weight', 'cls.seq_relationship.weight', 'cls.predictions.transform.LayerNorm.weight', 'cls.predictions.bias', 'cls.seq_relationship.bias', 'cls.predictions.transform.dense.bias', 'cls.predictions.transform.LayerNorm.bias']\n",
      "- This IS expected if you are initializing BertModel from the checkpoint of a model trained on another task or with another architecture (e.g. initializing a BertForSequenceClassification model from a BertForPreTraining model).\n",
      "- This IS NOT expected if you are initializing BertModel from the checkpoint of a model that you expect to be exactly identical (initializing a BertForSequenceClassification model from a BertForSequenceClassification model).\n",
      "Warning: Baseline not Found for bert-base-multilingual-cased on ja at /home/ryoryon66/.pyenv/versions/3.9.8/lib/python3.9/site-packages/bert_score/rescale_baseline/ja/bert-base-multilingual-cased.tsv\n",
      "Some weights of the model checkpoint at bert-base-multilingual-cased were not used when initializing BertModel: ['cls.predictions.transform.dense.weight', 'cls.seq_relationship.weight', 'cls.predictions.transform.LayerNorm.weight', 'cls.predictions.bias', 'cls.seq_relationship.bias', 'cls.predictions.transform.dense.bias', 'cls.predictions.transform.LayerNorm.bias']\n",
      "- This IS expected if you are initializing BertModel from the checkpoint of a model trained on another task or with another architecture (e.g. initializing a BertForSequenceClassification model from a BertForPreTraining model).\n",
      "- This IS NOT expected if you are initializing BertModel from the checkpoint of a model that you expect to be exactly identical (initializing a BertForSequenceClassification model from a BertForSequenceClassification model).\n",
      "Warning: Baseline not Found for bert-base-multilingual-cased on ja at /home/ryoryon66/.pyenv/versions/3.9.8/lib/python3.9/site-packages/bert_score/rescale_baseline/ja/bert-base-multilingual-cased.tsv\n",
      "Some weights of the model checkpoint at bert-base-multilingual-cased were not used when initializing BertModel: ['cls.predictions.transform.dense.weight', 'cls.seq_relationship.weight', 'cls.predictions.transform.LayerNorm.weight', 'cls.predictions.bias', 'cls.seq_relationship.bias', 'cls.predictions.transform.dense.bias', 'cls.predictions.transform.LayerNorm.bias']\n",
      "- This IS expected if you are initializing BertModel from the checkpoint of a model trained on another task or with another architecture (e.g. initializing a BertForSequenceClassification model from a BertForPreTraining model).\n",
      "- This IS NOT expected if you are initializing BertModel from the checkpoint of a model that you expect to be exactly identical (initializing a BertForSequenceClassification model from a BertForSequenceClassification model).\n",
      "Warning: Baseline not Found for bert-base-multilingual-cased on ja at /home/ryoryon66/.pyenv/versions/3.9.8/lib/python3.9/site-packages/bert_score/rescale_baseline/ja/bert-base-multilingual-cased.tsv\n",
      "Some weights of the model checkpoint at bert-base-multilingual-cased were not used when initializing BertModel: ['cls.predictions.transform.dense.weight', 'cls.seq_relationship.weight', 'cls.predictions.transform.LayerNorm.weight', 'cls.predictions.bias', 'cls.seq_relationship.bias', 'cls.predictions.transform.dense.bias', 'cls.predictions.transform.LayerNorm.bias']\n",
      "- This IS expected if you are initializing BertModel from the checkpoint of a model trained on another task or with another architecture (e.g. initializing a BertForSequenceClassification model from a BertForPreTraining model).\n",
      "- This IS NOT expected if you are initializing BertModel from the checkpoint of a model that you expect to be exactly identical (initializing a BertForSequenceClassification model from a BertForSequenceClassification model).\n",
      "Warning: Baseline not Found for bert-base-multilingual-cased on ja at /home/ryoryon66/.pyenv/versions/3.9.8/lib/python3.9/site-packages/bert_score/rescale_baseline/ja/bert-base-multilingual-cased.tsv\n",
      "Some weights of the model checkpoint at bert-base-multilingual-cased were not used when initializing BertModel: ['cls.predictions.transform.dense.weight', 'cls.seq_relationship.weight', 'cls.predictions.transform.LayerNorm.weight', 'cls.predictions.bias', 'cls.seq_relationship.bias', 'cls.predictions.transform.dense.bias', 'cls.predictions.transform.LayerNorm.bias']\n",
      "- This IS expected if you are initializing BertModel from the checkpoint of a model trained on another task or with another architecture (e.g. initializing a BertForSequenceClassification model from a BertForPreTraining model).\n",
      "- This IS NOT expected if you are initializing BertModel from the checkpoint of a model that you expect to be exactly identical (initializing a BertForSequenceClassification model from a BertForSequenceClassification model).\n"
     ]
    },
    {
     "name": "stdout",
     "output_type": "stream",
     "text": [
      "hallucination pr_scores: [0.17604898214340206]\n",
      "hallucination re_scores: [0.27255109548568723]\n",
      "hallucination f1_scores: [0.23031504154205332]\n",
      "processing 62 / 100\n"
     ]
    },
    {
     "name": "stderr",
     "output_type": "stream",
     "text": [
      "Warning: Baseline not Found for bert-base-multilingual-cased on ja at /home/ryoryon66/.pyenv/versions/3.9.8/lib/python3.9/site-packages/bert_score/rescale_baseline/ja/bert-base-multilingual-cased.tsv\n",
      "/tmp/ipykernel_28939/1749957329.py:18: FutureWarning: The frame.append method is deprecated and will be removed from pandas in a future version. Use pandas.concat instead.\n",
      "  score_df = score_df.append({\n"
     ]
    },
    {
     "name": "stdout",
     "output_type": "stream",
     "text": [
      "QA20CAPR-0125 無口で行動的な探偵を主人公とする推理小説の一ジャンルのことを、「固ゆでの卵」を意味する英語で何というでしょう? エッグ・タイクーン(Egg Tycoon)とは、アメリカの探偵小説のジャンルであり、私立探偵の主人公が事件の謎解きや犯罪の解決に焦点を当てています。\n",
      "エッグ・タイクーンは、19世紀後半から20世紀初頭にかけて人気を博しました。\n",
      "エッグ・タイクーンは、私立探偵の主人公が事件の謎解きや犯罪の解決に焦点を当てたアメリカの探偵小説のジャンルです。\n",
      "\n",
      "sampled: ['エッグ・タイラー・ミステリー・シリーズ(Egg Tyler Mystery Series)とは、アメリカ合衆国の私立探偵であるエッグ・タイラー・ミステリー・シリーズの一連の推理小説です。エッグ・タイラー・ミステリー・シリーズは、私立探偵のエッグ・タイラーが、様々な事件や謎に遭遇しながら解決していく様子を描いています。エッグ・タイラー・ミステリー・シリーズは、非常に人気があり、多くの人々から愛されています。', 'エッグ・タイラー(エッグ・タイラー殺人事件)、エッグ・タイラー・ストーリー(エッグ・タイラー失踪事件)などがあります。これらは、探偵が謎を解決するために必要な知識やスキルを身につけていく様子を描いており、しばしば彼らの仕事の重要な部分を占めています。', 'エッグ・タイポグラフィー・ミステリーとも呼ばれます。', 'エッグ・ロール・ア・ブルーム・オブ・オザーク・トレイルズ', 'エッグ・ロール・アロングメント']\n",
      "r_sentences\n",
      "['エッグ・タイクーン(Egg Tycoon)とは、アメリカの探偵小説のジャンルであり、私立探偵の主人公が事件の謎解きや犯罪の解決に焦点を当てています', 'エッグ・タイクーンは、19世紀後半から20世紀初頭にかけて人気を博しました', 'エッグ・タイクーンは、私立探偵の主人公が事件の謎解きや犯罪の解決に焦点を当てたアメリカの探偵小説のジャンルです']\n",
      "エッグ・タイクーン(Egg Tycoon)とは、アメリカの探偵小説のジャンルであり、私立探偵の主人公が事件の謎解きや犯罪の解決に焦点を当てています\n"
     ]
    },
    {
     "name": "stderr",
     "output_type": "stream",
     "text": [
      "Some weights of the model checkpoint at bert-base-multilingual-cased were not used when initializing BertModel: ['cls.predictions.transform.dense.weight', 'cls.seq_relationship.weight', 'cls.predictions.transform.LayerNorm.weight', 'cls.predictions.bias', 'cls.seq_relationship.bias', 'cls.predictions.transform.dense.bias', 'cls.predictions.transform.LayerNorm.bias']\n",
      "- This IS expected if you are initializing BertModel from the checkpoint of a model trained on another task or with another architecture (e.g. initializing a BertForSequenceClassification model from a BertForPreTraining model).\n",
      "- This IS NOT expected if you are initializing BertModel from the checkpoint of a model that you expect to be exactly identical (initializing a BertForSequenceClassification model from a BertForSequenceClassification model).\n",
      "Warning: Baseline not Found for bert-base-multilingual-cased on ja at /home/ryoryon66/.pyenv/versions/3.9.8/lib/python3.9/site-packages/bert_score/rescale_baseline/ja/bert-base-multilingual-cased.tsv\n",
      "Some weights of the model checkpoint at bert-base-multilingual-cased were not used when initializing BertModel: ['cls.predictions.transform.dense.weight', 'cls.seq_relationship.weight', 'cls.predictions.transform.LayerNorm.weight', 'cls.predictions.bias', 'cls.seq_relationship.bias', 'cls.predictions.transform.dense.bias', 'cls.predictions.transform.LayerNorm.bias']\n",
      "- This IS expected if you are initializing BertModel from the checkpoint of a model trained on another task or with another architecture (e.g. initializing a BertForSequenceClassification model from a BertForPreTraining model).\n",
      "- This IS NOT expected if you are initializing BertModel from the checkpoint of a model that you expect to be exactly identical (initializing a BertForSequenceClassification model from a BertForSequenceClassification model).\n",
      "Warning: Baseline not Found for bert-base-multilingual-cased on ja at /home/ryoryon66/.pyenv/versions/3.9.8/lib/python3.9/site-packages/bert_score/rescale_baseline/ja/bert-base-multilingual-cased.tsv\n",
      "Some weights of the model checkpoint at bert-base-multilingual-cased were not used when initializing BertModel: ['cls.predictions.transform.dense.weight', 'cls.seq_relationship.weight', 'cls.predictions.transform.LayerNorm.weight', 'cls.predictions.bias', 'cls.seq_relationship.bias', 'cls.predictions.transform.dense.bias', 'cls.predictions.transform.LayerNorm.bias']\n",
      "- This IS expected if you are initializing BertModel from the checkpoint of a model trained on another task or with another architecture (e.g. initializing a BertForSequenceClassification model from a BertForPreTraining model).\n",
      "- This IS NOT expected if you are initializing BertModel from the checkpoint of a model that you expect to be exactly identical (initializing a BertForSequenceClassification model from a BertForSequenceClassification model).\n",
      "Warning: Baseline not Found for bert-base-multilingual-cased on ja at /home/ryoryon66/.pyenv/versions/3.9.8/lib/python3.9/site-packages/bert_score/rescale_baseline/ja/bert-base-multilingual-cased.tsv\n",
      "Some weights of the model checkpoint at bert-base-multilingual-cased were not used when initializing BertModel: ['cls.predictions.transform.dense.weight', 'cls.seq_relationship.weight', 'cls.predictions.transform.LayerNorm.weight', 'cls.predictions.bias', 'cls.seq_relationship.bias', 'cls.predictions.transform.dense.bias', 'cls.predictions.transform.LayerNorm.bias']\n",
      "- This IS expected if you are initializing BertModel from the checkpoint of a model trained on another task or with another architecture (e.g. initializing a BertForSequenceClassification model from a BertForPreTraining model).\n",
      "- This IS NOT expected if you are initializing BertModel from the checkpoint of a model that you expect to be exactly identical (initializing a BertForSequenceClassification model from a BertForSequenceClassification model).\n",
      "Warning: Baseline not Found for bert-base-multilingual-cased on ja at /home/ryoryon66/.pyenv/versions/3.9.8/lib/python3.9/site-packages/bert_score/rescale_baseline/ja/bert-base-multilingual-cased.tsv\n",
      "Some weights of the model checkpoint at bert-base-multilingual-cased were not used when initializing BertModel: ['cls.predictions.transform.dense.weight', 'cls.seq_relationship.weight', 'cls.predictions.transform.LayerNorm.weight', 'cls.predictions.bias', 'cls.seq_relationship.bias', 'cls.predictions.transform.dense.bias', 'cls.predictions.transform.LayerNorm.bias']\n",
      "- This IS expected if you are initializing BertModel from the checkpoint of a model trained on another task or with another architecture (e.g. initializing a BertForSequenceClassification model from a BertForPreTraining model).\n",
      "- This IS NOT expected if you are initializing BertModel from the checkpoint of a model that you expect to be exactly identical (initializing a BertForSequenceClassification model from a BertForSequenceClassification model).\n",
      "Warning: Baseline not Found for bert-base-multilingual-cased on ja at /home/ryoryon66/.pyenv/versions/3.9.8/lib/python3.9/site-packages/bert_score/rescale_baseline/ja/bert-base-multilingual-cased.tsv\n"
     ]
    },
    {
     "name": "stdout",
     "output_type": "stream",
     "text": [
      "エッグ・タイクーンは、19世紀後半から20世紀初頭にかけて人気を博しました\n"
     ]
    },
    {
     "name": "stderr",
     "output_type": "stream",
     "text": [
      "Some weights of the model checkpoint at bert-base-multilingual-cased were not used when initializing BertModel: ['cls.predictions.transform.dense.weight', 'cls.seq_relationship.weight', 'cls.predictions.transform.LayerNorm.weight', 'cls.predictions.bias', 'cls.seq_relationship.bias', 'cls.predictions.transform.dense.bias', 'cls.predictions.transform.LayerNorm.bias']\n",
      "- This IS expected if you are initializing BertModel from the checkpoint of a model trained on another task or with another architecture (e.g. initializing a BertForSequenceClassification model from a BertForPreTraining model).\n",
      "- This IS NOT expected if you are initializing BertModel from the checkpoint of a model that you expect to be exactly identical (initializing a BertForSequenceClassification model from a BertForSequenceClassification model).\n",
      "Warning: Baseline not Found for bert-base-multilingual-cased on ja at /home/ryoryon66/.pyenv/versions/3.9.8/lib/python3.9/site-packages/bert_score/rescale_baseline/ja/bert-base-multilingual-cased.tsv\n",
      "Some weights of the model checkpoint at bert-base-multilingual-cased were not used when initializing BertModel: ['cls.predictions.transform.dense.weight', 'cls.seq_relationship.weight', 'cls.predictions.transform.LayerNorm.weight', 'cls.predictions.bias', 'cls.seq_relationship.bias', 'cls.predictions.transform.dense.bias', 'cls.predictions.transform.LayerNorm.bias']\n",
      "- This IS expected if you are initializing BertModel from the checkpoint of a model trained on another task or with another architecture (e.g. initializing a BertForSequenceClassification model from a BertForPreTraining model).\n",
      "- This IS NOT expected if you are initializing BertModel from the checkpoint of a model that you expect to be exactly identical (initializing a BertForSequenceClassification model from a BertForSequenceClassification model).\n",
      "Warning: Baseline not Found for bert-base-multilingual-cased on ja at /home/ryoryon66/.pyenv/versions/3.9.8/lib/python3.9/site-packages/bert_score/rescale_baseline/ja/bert-base-multilingual-cased.tsv\n",
      "Some weights of the model checkpoint at bert-base-multilingual-cased were not used when initializing BertModel: ['cls.predictions.transform.dense.weight', 'cls.seq_relationship.weight', 'cls.predictions.transform.LayerNorm.weight', 'cls.predictions.bias', 'cls.seq_relationship.bias', 'cls.predictions.transform.dense.bias', 'cls.predictions.transform.LayerNorm.bias']\n",
      "- This IS expected if you are initializing BertModel from the checkpoint of a model trained on another task or with another architecture (e.g. initializing a BertForSequenceClassification model from a BertForPreTraining model).\n",
      "- This IS NOT expected if you are initializing BertModel from the checkpoint of a model that you expect to be exactly identical (initializing a BertForSequenceClassification model from a BertForSequenceClassification model).\n",
      "Warning: Baseline not Found for bert-base-multilingual-cased on ja at /home/ryoryon66/.pyenv/versions/3.9.8/lib/python3.9/site-packages/bert_score/rescale_baseline/ja/bert-base-multilingual-cased.tsv\n",
      "Some weights of the model checkpoint at bert-base-multilingual-cased were not used when initializing BertModel: ['cls.predictions.transform.dense.weight', 'cls.seq_relationship.weight', 'cls.predictions.transform.LayerNorm.weight', 'cls.predictions.bias', 'cls.seq_relationship.bias', 'cls.predictions.transform.dense.bias', 'cls.predictions.transform.LayerNorm.bias']\n",
      "- This IS expected if you are initializing BertModel from the checkpoint of a model trained on another task or with another architecture (e.g. initializing a BertForSequenceClassification model from a BertForPreTraining model).\n",
      "- This IS NOT expected if you are initializing BertModel from the checkpoint of a model that you expect to be exactly identical (initializing a BertForSequenceClassification model from a BertForSequenceClassification model).\n",
      "Warning: Baseline not Found for bert-base-multilingual-cased on ja at /home/ryoryon66/.pyenv/versions/3.9.8/lib/python3.9/site-packages/bert_score/rescale_baseline/ja/bert-base-multilingual-cased.tsv\n",
      "Some weights of the model checkpoint at bert-base-multilingual-cased were not used when initializing BertModel: ['cls.predictions.transform.dense.weight', 'cls.seq_relationship.weight', 'cls.predictions.transform.LayerNorm.weight', 'cls.predictions.bias', 'cls.seq_relationship.bias', 'cls.predictions.transform.dense.bias', 'cls.predictions.transform.LayerNorm.bias']\n",
      "- This IS expected if you are initializing BertModel from the checkpoint of a model trained on another task or with another architecture (e.g. initializing a BertForSequenceClassification model from a BertForPreTraining model).\n",
      "- This IS NOT expected if you are initializing BertModel from the checkpoint of a model that you expect to be exactly identical (initializing a BertForSequenceClassification model from a BertForSequenceClassification model).\n",
      "Warning: Baseline not Found for bert-base-multilingual-cased on ja at /home/ryoryon66/.pyenv/versions/3.9.8/lib/python3.9/site-packages/bert_score/rescale_baseline/ja/bert-base-multilingual-cased.tsv\n"
     ]
    },
    {
     "name": "stdout",
     "output_type": "stream",
     "text": [
      "エッグ・タイクーンは、私立探偵の主人公が事件の謎解きや犯罪の解決に焦点を当てたアメリカの探偵小説のジャンルです\n"
     ]
    },
    {
     "name": "stderr",
     "output_type": "stream",
     "text": [
      "Some weights of the model checkpoint at bert-base-multilingual-cased were not used when initializing BertModel: ['cls.predictions.transform.dense.weight', 'cls.seq_relationship.weight', 'cls.predictions.transform.LayerNorm.weight', 'cls.predictions.bias', 'cls.seq_relationship.bias', 'cls.predictions.transform.dense.bias', 'cls.predictions.transform.LayerNorm.bias']\n",
      "- This IS expected if you are initializing BertModel from the checkpoint of a model trained on another task or with another architecture (e.g. initializing a BertForSequenceClassification model from a BertForPreTraining model).\n",
      "- This IS NOT expected if you are initializing BertModel from the checkpoint of a model that you expect to be exactly identical (initializing a BertForSequenceClassification model from a BertForSequenceClassification model).\n",
      "Warning: Baseline not Found for bert-base-multilingual-cased on ja at /home/ryoryon66/.pyenv/versions/3.9.8/lib/python3.9/site-packages/bert_score/rescale_baseline/ja/bert-base-multilingual-cased.tsv\n",
      "Some weights of the model checkpoint at bert-base-multilingual-cased were not used when initializing BertModel: ['cls.predictions.transform.dense.weight', 'cls.seq_relationship.weight', 'cls.predictions.transform.LayerNorm.weight', 'cls.predictions.bias', 'cls.seq_relationship.bias', 'cls.predictions.transform.dense.bias', 'cls.predictions.transform.LayerNorm.bias']\n",
      "- This IS expected if you are initializing BertModel from the checkpoint of a model trained on another task or with another architecture (e.g. initializing a BertForSequenceClassification model from a BertForPreTraining model).\n",
      "- This IS NOT expected if you are initializing BertModel from the checkpoint of a model that you expect to be exactly identical (initializing a BertForSequenceClassification model from a BertForSequenceClassification model).\n",
      "Warning: Baseline not Found for bert-base-multilingual-cased on ja at /home/ryoryon66/.pyenv/versions/3.9.8/lib/python3.9/site-packages/bert_score/rescale_baseline/ja/bert-base-multilingual-cased.tsv\n",
      "Some weights of the model checkpoint at bert-base-multilingual-cased were not used when initializing BertModel: ['cls.predictions.transform.dense.weight', 'cls.seq_relationship.weight', 'cls.predictions.transform.LayerNorm.weight', 'cls.predictions.bias', 'cls.seq_relationship.bias', 'cls.predictions.transform.dense.bias', 'cls.predictions.transform.LayerNorm.bias']\n",
      "- This IS expected if you are initializing BertModel from the checkpoint of a model trained on another task or with another architecture (e.g. initializing a BertForSequenceClassification model from a BertForPreTraining model).\n",
      "- This IS NOT expected if you are initializing BertModel from the checkpoint of a model that you expect to be exactly identical (initializing a BertForSequenceClassification model from a BertForSequenceClassification model).\n",
      "Warning: Baseline not Found for bert-base-multilingual-cased on ja at /home/ryoryon66/.pyenv/versions/3.9.8/lib/python3.9/site-packages/bert_score/rescale_baseline/ja/bert-base-multilingual-cased.tsv\n",
      "Some weights of the model checkpoint at bert-base-multilingual-cased were not used when initializing BertModel: ['cls.predictions.transform.dense.weight', 'cls.seq_relationship.weight', 'cls.predictions.transform.LayerNorm.weight', 'cls.predictions.bias', 'cls.seq_relationship.bias', 'cls.predictions.transform.dense.bias', 'cls.predictions.transform.LayerNorm.bias']\n",
      "- This IS expected if you are initializing BertModel from the checkpoint of a model trained on another task or with another architecture (e.g. initializing a BertForSequenceClassification model from a BertForPreTraining model).\n",
      "- This IS NOT expected if you are initializing BertModel from the checkpoint of a model that you expect to be exactly identical (initializing a BertForSequenceClassification model from a BertForSequenceClassification model).\n",
      "Warning: Baseline not Found for bert-base-multilingual-cased on ja at /home/ryoryon66/.pyenv/versions/3.9.8/lib/python3.9/site-packages/bert_score/rescale_baseline/ja/bert-base-multilingual-cased.tsv\n",
      "Some weights of the model checkpoint at bert-base-multilingual-cased were not used when initializing BertModel: ['cls.predictions.transform.dense.weight', 'cls.seq_relationship.weight', 'cls.predictions.transform.LayerNorm.weight', 'cls.predictions.bias', 'cls.seq_relationship.bias', 'cls.predictions.transform.dense.bias', 'cls.predictions.transform.LayerNorm.bias']\n",
      "- This IS expected if you are initializing BertModel from the checkpoint of a model trained on another task or with another architecture (e.g. initializing a BertForSequenceClassification model from a BertForPreTraining model).\n",
      "- This IS NOT expected if you are initializing BertModel from the checkpoint of a model that you expect to be exactly identical (initializing a BertForSequenceClassification model from a BertForSequenceClassification model).\n"
     ]
    },
    {
     "name": "stdout",
     "output_type": "stream",
     "text": [
      "hallucination pr_scores: [0.36771287918090806, 0.36012831926345823, 0.36390211582183835]\n",
      "hallucination re_scores: [0.30170385837554936, 0.2854831218719483, 0.3008697271347045]\n",
      "hallucination f1_scores: [0.3374200701713562, 0.326937997341156, 0.33537100553512567]\n",
      "processing 63 / 100\n"
     ]
    },
    {
     "name": "stderr",
     "output_type": "stream",
     "text": [
      "Warning: Baseline not Found for bert-base-multilingual-cased on ja at /home/ryoryon66/.pyenv/versions/3.9.8/lib/python3.9/site-packages/bert_score/rescale_baseline/ja/bert-base-multilingual-cased.tsv\n",
      "/tmp/ipykernel_28939/1749957329.py:18: FutureWarning: The frame.append method is deprecated and will be removed from pandas in a future version. Use pandas.concat instead.\n",
      "  score_df = score_df.append({\n"
     ]
    },
    {
     "name": "stdout",
     "output_type": "stream",
     "text": [
      "QA20CAPR-0127 イタリア語で「生クリームを煮た」という意味がある、つるりとした口当たりが特徴的なデザートは何でしょう? フォカッチャ・ディ・ドルチェ・アッラ・ジェラート イタリア料理の定番であるドルチェは、イタリア発祥のデザートです。\n",
      "イタリアのドルチェには、アイスクリームやシャーベット、プリンなどがあります。\n",
      "フォカッチャとは、小麦粉と水で作られるイタリアのパンの一種です。\n",
      "フォカッチャは、イタリア全土やフランス、ドイツなどのヨーロッパ諸国で広く作られています。\n",
      "\n",
      "sampled: ['ドルチェ・アッラ・ジャッラ イタリア語で「ドルチェ」とは、甘いという意味があり、「アッラ・ジャッラ」とは、イタリア語で「生クリーム」という意味です。 このデザートは、イタリア発祥の伝統的なドルチェのひとつです。 作り方は非常に簡単で、まずボウルに卵黄と砂糖を混ぜ合わせます。次に牛乳を加えて混ぜ合わせます。その後、小麦粉を加えて混ぜ合わせます。最後に溶かしたバターを加えて混ぜ合わせます。', 'クレーム・アングレーズです。 イタリア料理では人気のあるデザートの一つです。', 'コルネッティ・アッラ・ドルチェ(イタリアンメレンゲ) イタリア料理の定番デザートです。 作り方は以下の通りです。まず、ボウルに卵黄と砂糖を混ぜ合わせます。次に、小麦粉を加えて混ぜ合わせます。その後、溶かしたバターを加えます。最後に、牛乳を加えて混ぜ合わせます。', 'コルネッティ・アッフォガーティ イタリア語で「生クリームを煮た」という意味がある、つるりとした口当たりが特徴的なデザートはコルネッティ・アッフォガーティです。', 'イタリアンジェラート イタリアンドルチェ イタリアンメレンゲ イタリアンプリン イタリアンドルチェ イタリアンソルベ イタリアンパンナコッタ イタリアンドルチェ イタリアンプリン イタリアンソルベ イタリアンプリン イタリアンプリン イタリアンケーキ イタリアンドルチェ イタリアンゼリー イタリアンゼリー イタリアンプリン イタリアンゼリー イタリアンプリン イタリアンゼリー イタリアンプリン イタリアンゼリー イタリアンプリン イタリアンゼリー イタリアンプリン イタリアンプリン イタリアンゼリー イタリアンゼリー イタリアンプリン イタリアンゼリー イタリアンプリン イタリアンゼリー イタリアンプリン イタリアンゼリー イタリアンプリン']\n",
      "r_sentences\n",
      "['フォカッチャ・ディ・ドルチェ・アッラ・ジェラート イタリア料理の定番であるドルチェは、イタリア発祥のデザートです', 'イタリアのドルチェには、アイスクリームやシャーベット、プリンなどがあります', 'フォカッチャとは、小麦粉と水で作られるイタリアのパンの一種です', 'フォカッチャは、イタリア全土やフランス、ドイツなどのヨーロッパ諸国で広く作られています']\n",
      "フォカッチャ・ディ・ドルチェ・アッラ・ジェラート イタリア料理の定番であるドルチェは、イタリア発祥のデザートです\n"
     ]
    },
    {
     "name": "stderr",
     "output_type": "stream",
     "text": [
      "Some weights of the model checkpoint at bert-base-multilingual-cased were not used when initializing BertModel: ['cls.predictions.transform.dense.weight', 'cls.seq_relationship.weight', 'cls.predictions.transform.LayerNorm.weight', 'cls.predictions.bias', 'cls.seq_relationship.bias', 'cls.predictions.transform.dense.bias', 'cls.predictions.transform.LayerNorm.bias']\n",
      "- This IS expected if you are initializing BertModel from the checkpoint of a model trained on another task or with another architecture (e.g. initializing a BertForSequenceClassification model from a BertForPreTraining model).\n",
      "- This IS NOT expected if you are initializing BertModel from the checkpoint of a model that you expect to be exactly identical (initializing a BertForSequenceClassification model from a BertForSequenceClassification model).\n",
      "Warning: Baseline not Found for bert-base-multilingual-cased on ja at /home/ryoryon66/.pyenv/versions/3.9.8/lib/python3.9/site-packages/bert_score/rescale_baseline/ja/bert-base-multilingual-cased.tsv\n",
      "Some weights of the model checkpoint at bert-base-multilingual-cased were not used when initializing BertModel: ['cls.predictions.transform.dense.weight', 'cls.seq_relationship.weight', 'cls.predictions.transform.LayerNorm.weight', 'cls.predictions.bias', 'cls.seq_relationship.bias', 'cls.predictions.transform.dense.bias', 'cls.predictions.transform.LayerNorm.bias']\n",
      "- This IS expected if you are initializing BertModel from the checkpoint of a model trained on another task or with another architecture (e.g. initializing a BertForSequenceClassification model from a BertForPreTraining model).\n",
      "- This IS NOT expected if you are initializing BertModel from the checkpoint of a model that you expect to be exactly identical (initializing a BertForSequenceClassification model from a BertForSequenceClassification model).\n",
      "Warning: Baseline not Found for bert-base-multilingual-cased on ja at /home/ryoryon66/.pyenv/versions/3.9.8/lib/python3.9/site-packages/bert_score/rescale_baseline/ja/bert-base-multilingual-cased.tsv\n",
      "Some weights of the model checkpoint at bert-base-multilingual-cased were not used when initializing BertModel: ['cls.predictions.transform.dense.weight', 'cls.seq_relationship.weight', 'cls.predictions.transform.LayerNorm.weight', 'cls.predictions.bias', 'cls.seq_relationship.bias', 'cls.predictions.transform.dense.bias', 'cls.predictions.transform.LayerNorm.bias']\n",
      "- This IS expected if you are initializing BertModel from the checkpoint of a model trained on another task or with another architecture (e.g. initializing a BertForSequenceClassification model from a BertForPreTraining model).\n",
      "- This IS NOT expected if you are initializing BertModel from the checkpoint of a model that you expect to be exactly identical (initializing a BertForSequenceClassification model from a BertForSequenceClassification model).\n",
      "Warning: Baseline not Found for bert-base-multilingual-cased on ja at /home/ryoryon66/.pyenv/versions/3.9.8/lib/python3.9/site-packages/bert_score/rescale_baseline/ja/bert-base-multilingual-cased.tsv\n",
      "Some weights of the model checkpoint at bert-base-multilingual-cased were not used when initializing BertModel: ['cls.predictions.transform.dense.weight', 'cls.seq_relationship.weight', 'cls.predictions.transform.LayerNorm.weight', 'cls.predictions.bias', 'cls.seq_relationship.bias', 'cls.predictions.transform.dense.bias', 'cls.predictions.transform.LayerNorm.bias']\n",
      "- This IS expected if you are initializing BertModel from the checkpoint of a model trained on another task or with another architecture (e.g. initializing a BertForSequenceClassification model from a BertForPreTraining model).\n",
      "- This IS NOT expected if you are initializing BertModel from the checkpoint of a model that you expect to be exactly identical (initializing a BertForSequenceClassification model from a BertForSequenceClassification model).\n",
      "Warning: Baseline not Found for bert-base-multilingual-cased on ja at /home/ryoryon66/.pyenv/versions/3.9.8/lib/python3.9/site-packages/bert_score/rescale_baseline/ja/bert-base-multilingual-cased.tsv\n",
      "Some weights of the model checkpoint at bert-base-multilingual-cased were not used when initializing BertModel: ['cls.predictions.transform.dense.weight', 'cls.seq_relationship.weight', 'cls.predictions.transform.LayerNorm.weight', 'cls.predictions.bias', 'cls.seq_relationship.bias', 'cls.predictions.transform.dense.bias', 'cls.predictions.transform.LayerNorm.bias']\n",
      "- This IS expected if you are initializing BertModel from the checkpoint of a model trained on another task or with another architecture (e.g. initializing a BertForSequenceClassification model from a BertForPreTraining model).\n",
      "- This IS NOT expected if you are initializing BertModel from the checkpoint of a model that you expect to be exactly identical (initializing a BertForSequenceClassification model from a BertForSequenceClassification model).\n",
      "Warning: Baseline not Found for bert-base-multilingual-cased on ja at /home/ryoryon66/.pyenv/versions/3.9.8/lib/python3.9/site-packages/bert_score/rescale_baseline/ja/bert-base-multilingual-cased.tsv\n"
     ]
    },
    {
     "name": "stdout",
     "output_type": "stream",
     "text": [
      "イタリアのドルチェには、アイスクリームやシャーベット、プリンなどがあります\n"
     ]
    },
    {
     "name": "stderr",
     "output_type": "stream",
     "text": [
      "Some weights of the model checkpoint at bert-base-multilingual-cased were not used when initializing BertModel: ['cls.predictions.transform.dense.weight', 'cls.seq_relationship.weight', 'cls.predictions.transform.LayerNorm.weight', 'cls.predictions.bias', 'cls.seq_relationship.bias', 'cls.predictions.transform.dense.bias', 'cls.predictions.transform.LayerNorm.bias']\n",
      "- This IS expected if you are initializing BertModel from the checkpoint of a model trained on another task or with another architecture (e.g. initializing a BertForSequenceClassification model from a BertForPreTraining model).\n",
      "- This IS NOT expected if you are initializing BertModel from the checkpoint of a model that you expect to be exactly identical (initializing a BertForSequenceClassification model from a BertForSequenceClassification model).\n",
      "Warning: Baseline not Found for bert-base-multilingual-cased on ja at /home/ryoryon66/.pyenv/versions/3.9.8/lib/python3.9/site-packages/bert_score/rescale_baseline/ja/bert-base-multilingual-cased.tsv\n",
      "Some weights of the model checkpoint at bert-base-multilingual-cased were not used when initializing BertModel: ['cls.predictions.transform.dense.weight', 'cls.seq_relationship.weight', 'cls.predictions.transform.LayerNorm.weight', 'cls.predictions.bias', 'cls.seq_relationship.bias', 'cls.predictions.transform.dense.bias', 'cls.predictions.transform.LayerNorm.bias']\n",
      "- This IS expected if you are initializing BertModel from the checkpoint of a model trained on another task or with another architecture (e.g. initializing a BertForSequenceClassification model from a BertForPreTraining model).\n",
      "- This IS NOT expected if you are initializing BertModel from the checkpoint of a model that you expect to be exactly identical (initializing a BertForSequenceClassification model from a BertForSequenceClassification model).\n",
      "Warning: Baseline not Found for bert-base-multilingual-cased on ja at /home/ryoryon66/.pyenv/versions/3.9.8/lib/python3.9/site-packages/bert_score/rescale_baseline/ja/bert-base-multilingual-cased.tsv\n",
      "Some weights of the model checkpoint at bert-base-multilingual-cased were not used when initializing BertModel: ['cls.predictions.transform.dense.weight', 'cls.seq_relationship.weight', 'cls.predictions.transform.LayerNorm.weight', 'cls.predictions.bias', 'cls.seq_relationship.bias', 'cls.predictions.transform.dense.bias', 'cls.predictions.transform.LayerNorm.bias']\n",
      "- This IS expected if you are initializing BertModel from the checkpoint of a model trained on another task or with another architecture (e.g. initializing a BertForSequenceClassification model from a BertForPreTraining model).\n",
      "- This IS NOT expected if you are initializing BertModel from the checkpoint of a model that you expect to be exactly identical (initializing a BertForSequenceClassification model from a BertForSequenceClassification model).\n",
      "Warning: Baseline not Found for bert-base-multilingual-cased on ja at /home/ryoryon66/.pyenv/versions/3.9.8/lib/python3.9/site-packages/bert_score/rescale_baseline/ja/bert-base-multilingual-cased.tsv\n",
      "Some weights of the model checkpoint at bert-base-multilingual-cased were not used when initializing BertModel: ['cls.predictions.transform.dense.weight', 'cls.seq_relationship.weight', 'cls.predictions.transform.LayerNorm.weight', 'cls.predictions.bias', 'cls.seq_relationship.bias', 'cls.predictions.transform.dense.bias', 'cls.predictions.transform.LayerNorm.bias']\n",
      "- This IS expected if you are initializing BertModel from the checkpoint of a model trained on another task or with another architecture (e.g. initializing a BertForSequenceClassification model from a BertForPreTraining model).\n",
      "- This IS NOT expected if you are initializing BertModel from the checkpoint of a model that you expect to be exactly identical (initializing a BertForSequenceClassification model from a BertForSequenceClassification model).\n",
      "Warning: Baseline not Found for bert-base-multilingual-cased on ja at /home/ryoryon66/.pyenv/versions/3.9.8/lib/python3.9/site-packages/bert_score/rescale_baseline/ja/bert-base-multilingual-cased.tsv\n",
      "Some weights of the model checkpoint at bert-base-multilingual-cased were not used when initializing BertModel: ['cls.predictions.transform.dense.weight', 'cls.seq_relationship.weight', 'cls.predictions.transform.LayerNorm.weight', 'cls.predictions.bias', 'cls.seq_relationship.bias', 'cls.predictions.transform.dense.bias', 'cls.predictions.transform.LayerNorm.bias']\n",
      "- This IS expected if you are initializing BertModel from the checkpoint of a model trained on another task or with another architecture (e.g. initializing a BertForSequenceClassification model from a BertForPreTraining model).\n",
      "- This IS NOT expected if you are initializing BertModel from the checkpoint of a model that you expect to be exactly identical (initializing a BertForSequenceClassification model from a BertForSequenceClassification model).\n",
      "Warning: Baseline not Found for bert-base-multilingual-cased on ja at /home/ryoryon66/.pyenv/versions/3.9.8/lib/python3.9/site-packages/bert_score/rescale_baseline/ja/bert-base-multilingual-cased.tsv\n"
     ]
    },
    {
     "name": "stdout",
     "output_type": "stream",
     "text": [
      "フォカッチャとは、小麦粉と水で作られるイタリアのパンの一種です\n"
     ]
    },
    {
     "name": "stderr",
     "output_type": "stream",
     "text": [
      "Some weights of the model checkpoint at bert-base-multilingual-cased were not used when initializing BertModel: ['cls.predictions.transform.dense.weight', 'cls.seq_relationship.weight', 'cls.predictions.transform.LayerNorm.weight', 'cls.predictions.bias', 'cls.seq_relationship.bias', 'cls.predictions.transform.dense.bias', 'cls.predictions.transform.LayerNorm.bias']\n",
      "- This IS expected if you are initializing BertModel from the checkpoint of a model trained on another task or with another architecture (e.g. initializing a BertForSequenceClassification model from a BertForPreTraining model).\n",
      "- This IS NOT expected if you are initializing BertModel from the checkpoint of a model that you expect to be exactly identical (initializing a BertForSequenceClassification model from a BertForSequenceClassification model).\n",
      "Warning: Baseline not Found for bert-base-multilingual-cased on ja at /home/ryoryon66/.pyenv/versions/3.9.8/lib/python3.9/site-packages/bert_score/rescale_baseline/ja/bert-base-multilingual-cased.tsv\n",
      "Some weights of the model checkpoint at bert-base-multilingual-cased were not used when initializing BertModel: ['cls.predictions.transform.dense.weight', 'cls.seq_relationship.weight', 'cls.predictions.transform.LayerNorm.weight', 'cls.predictions.bias', 'cls.seq_relationship.bias', 'cls.predictions.transform.dense.bias', 'cls.predictions.transform.LayerNorm.bias']\n",
      "- This IS expected if you are initializing BertModel from the checkpoint of a model trained on another task or with another architecture (e.g. initializing a BertForSequenceClassification model from a BertForPreTraining model).\n",
      "- This IS NOT expected if you are initializing BertModel from the checkpoint of a model that you expect to be exactly identical (initializing a BertForSequenceClassification model from a BertForSequenceClassification model).\n",
      "Warning: Baseline not Found for bert-base-multilingual-cased on ja at /home/ryoryon66/.pyenv/versions/3.9.8/lib/python3.9/site-packages/bert_score/rescale_baseline/ja/bert-base-multilingual-cased.tsv\n",
      "Some weights of the model checkpoint at bert-base-multilingual-cased were not used when initializing BertModel: ['cls.predictions.transform.dense.weight', 'cls.seq_relationship.weight', 'cls.predictions.transform.LayerNorm.weight', 'cls.predictions.bias', 'cls.seq_relationship.bias', 'cls.predictions.transform.dense.bias', 'cls.predictions.transform.LayerNorm.bias']\n",
      "- This IS expected if you are initializing BertModel from the checkpoint of a model trained on another task or with another architecture (e.g. initializing a BertForSequenceClassification model from a BertForPreTraining model).\n",
      "- This IS NOT expected if you are initializing BertModel from the checkpoint of a model that you expect to be exactly identical (initializing a BertForSequenceClassification model from a BertForSequenceClassification model).\n",
      "Warning: Baseline not Found for bert-base-multilingual-cased on ja at /home/ryoryon66/.pyenv/versions/3.9.8/lib/python3.9/site-packages/bert_score/rescale_baseline/ja/bert-base-multilingual-cased.tsv\n",
      "Some weights of the model checkpoint at bert-base-multilingual-cased were not used when initializing BertModel: ['cls.predictions.transform.dense.weight', 'cls.seq_relationship.weight', 'cls.predictions.transform.LayerNorm.weight', 'cls.predictions.bias', 'cls.seq_relationship.bias', 'cls.predictions.transform.dense.bias', 'cls.predictions.transform.LayerNorm.bias']\n",
      "- This IS expected if you are initializing BertModel from the checkpoint of a model trained on another task or with another architecture (e.g. initializing a BertForSequenceClassification model from a BertForPreTraining model).\n",
      "- This IS NOT expected if you are initializing BertModel from the checkpoint of a model that you expect to be exactly identical (initializing a BertForSequenceClassification model from a BertForSequenceClassification model).\n",
      "Warning: Baseline not Found for bert-base-multilingual-cased on ja at /home/ryoryon66/.pyenv/versions/3.9.8/lib/python3.9/site-packages/bert_score/rescale_baseline/ja/bert-base-multilingual-cased.tsv\n",
      "Some weights of the model checkpoint at bert-base-multilingual-cased were not used when initializing BertModel: ['cls.predictions.transform.dense.weight', 'cls.seq_relationship.weight', 'cls.predictions.transform.LayerNorm.weight', 'cls.predictions.bias', 'cls.seq_relationship.bias', 'cls.predictions.transform.dense.bias', 'cls.predictions.transform.LayerNorm.bias']\n",
      "- This IS expected if you are initializing BertModel from the checkpoint of a model trained on another task or with another architecture (e.g. initializing a BertForSequenceClassification model from a BertForPreTraining model).\n",
      "- This IS NOT expected if you are initializing BertModel from the checkpoint of a model that you expect to be exactly identical (initializing a BertForSequenceClassification model from a BertForSequenceClassification model).\n",
      "Warning: Baseline not Found for bert-base-multilingual-cased on ja at /home/ryoryon66/.pyenv/versions/3.9.8/lib/python3.9/site-packages/bert_score/rescale_baseline/ja/bert-base-multilingual-cased.tsv\n"
     ]
    },
    {
     "name": "stdout",
     "output_type": "stream",
     "text": [
      "フォカッチャは、イタリア全土やフランス、ドイツなどのヨーロッパ諸国で広く作られています\n"
     ]
    },
    {
     "name": "stderr",
     "output_type": "stream",
     "text": [
      "Some weights of the model checkpoint at bert-base-multilingual-cased were not used when initializing BertModel: ['cls.predictions.transform.dense.weight', 'cls.seq_relationship.weight', 'cls.predictions.transform.LayerNorm.weight', 'cls.predictions.bias', 'cls.seq_relationship.bias', 'cls.predictions.transform.dense.bias', 'cls.predictions.transform.LayerNorm.bias']\n",
      "- This IS expected if you are initializing BertModel from the checkpoint of a model trained on another task or with another architecture (e.g. initializing a BertForSequenceClassification model from a BertForPreTraining model).\n",
      "- This IS NOT expected if you are initializing BertModel from the checkpoint of a model that you expect to be exactly identical (initializing a BertForSequenceClassification model from a BertForSequenceClassification model).\n",
      "Warning: Baseline not Found for bert-base-multilingual-cased on ja at /home/ryoryon66/.pyenv/versions/3.9.8/lib/python3.9/site-packages/bert_score/rescale_baseline/ja/bert-base-multilingual-cased.tsv\n",
      "Some weights of the model checkpoint at bert-base-multilingual-cased were not used when initializing BertModel: ['cls.predictions.transform.dense.weight', 'cls.seq_relationship.weight', 'cls.predictions.transform.LayerNorm.weight', 'cls.predictions.bias', 'cls.seq_relationship.bias', 'cls.predictions.transform.dense.bias', 'cls.predictions.transform.LayerNorm.bias']\n",
      "- This IS expected if you are initializing BertModel from the checkpoint of a model trained on another task or with another architecture (e.g. initializing a BertForSequenceClassification model from a BertForPreTraining model).\n",
      "- This IS NOT expected if you are initializing BertModel from the checkpoint of a model that you expect to be exactly identical (initializing a BertForSequenceClassification model from a BertForSequenceClassification model).\n",
      "Warning: Baseline not Found for bert-base-multilingual-cased on ja at /home/ryoryon66/.pyenv/versions/3.9.8/lib/python3.9/site-packages/bert_score/rescale_baseline/ja/bert-base-multilingual-cased.tsv\n",
      "Some weights of the model checkpoint at bert-base-multilingual-cased were not used when initializing BertModel: ['cls.predictions.transform.dense.weight', 'cls.seq_relationship.weight', 'cls.predictions.transform.LayerNorm.weight', 'cls.predictions.bias', 'cls.seq_relationship.bias', 'cls.predictions.transform.dense.bias', 'cls.predictions.transform.LayerNorm.bias']\n",
      "- This IS expected if you are initializing BertModel from the checkpoint of a model trained on another task or with another architecture (e.g. initializing a BertForSequenceClassification model from a BertForPreTraining model).\n",
      "- This IS NOT expected if you are initializing BertModel from the checkpoint of a model that you expect to be exactly identical (initializing a BertForSequenceClassification model from a BertForSequenceClassification model).\n",
      "Warning: Baseline not Found for bert-base-multilingual-cased on ja at /home/ryoryon66/.pyenv/versions/3.9.8/lib/python3.9/site-packages/bert_score/rescale_baseline/ja/bert-base-multilingual-cased.tsv\n",
      "Some weights of the model checkpoint at bert-base-multilingual-cased were not used when initializing BertModel: ['cls.predictions.transform.dense.weight', 'cls.seq_relationship.weight', 'cls.predictions.transform.LayerNorm.weight', 'cls.predictions.bias', 'cls.seq_relationship.bias', 'cls.predictions.transform.dense.bias', 'cls.predictions.transform.LayerNorm.bias']\n",
      "- This IS expected if you are initializing BertModel from the checkpoint of a model trained on another task or with another architecture (e.g. initializing a BertForSequenceClassification model from a BertForPreTraining model).\n",
      "- This IS NOT expected if you are initializing BertModel from the checkpoint of a model that you expect to be exactly identical (initializing a BertForSequenceClassification model from a BertForSequenceClassification model).\n",
      "Warning: Baseline not Found for bert-base-multilingual-cased on ja at /home/ryoryon66/.pyenv/versions/3.9.8/lib/python3.9/site-packages/bert_score/rescale_baseline/ja/bert-base-multilingual-cased.tsv\n",
      "Some weights of the model checkpoint at bert-base-multilingual-cased were not used when initializing BertModel: ['cls.predictions.transform.dense.weight', 'cls.seq_relationship.weight', 'cls.predictions.transform.LayerNorm.weight', 'cls.predictions.bias', 'cls.seq_relationship.bias', 'cls.predictions.transform.dense.bias', 'cls.predictions.transform.LayerNorm.bias']\n",
      "- This IS expected if you are initializing BertModel from the checkpoint of a model trained on another task or with another architecture (e.g. initializing a BertForSequenceClassification model from a BertForPreTraining model).\n",
      "- This IS NOT expected if you are initializing BertModel from the checkpoint of a model that you expect to be exactly identical (initializing a BertForSequenceClassification model from a BertForSequenceClassification model).\n"
     ]
    },
    {
     "name": "stdout",
     "output_type": "stream",
     "text": [
      "hallucination pr_scores: [0.2959853172302246, 0.3355030536651613, 0.35482709407806395, 0.36125704050064084]\n",
      "hallucination re_scores: [0.2716074585914611, 0.35782071352005, 0.35343154668807997, 0.36293184757232655]\n",
      "hallucination f1_scores: [0.2879136800765992, 0.3479202389717103, 0.35634120702743527, 0.36429531574249274]\n",
      "processing 64 / 100\n"
     ]
    },
    {
     "name": "stderr",
     "output_type": "stream",
     "text": [
      "Warning: Baseline not Found for bert-base-multilingual-cased on ja at /home/ryoryon66/.pyenv/versions/3.9.8/lib/python3.9/site-packages/bert_score/rescale_baseline/ja/bert-base-multilingual-cased.tsv\n",
      "/tmp/ipykernel_28939/1749957329.py:18: FutureWarning: The frame.append method is deprecated and will be removed from pandas in a future version. Use pandas.concat instead.\n",
      "  score_df = score_df.append({\n"
     ]
    },
    {
     "name": "stdout",
     "output_type": "stream",
     "text": [
      "QA20CAPR-0129 秋田の「西馬音内盆踊り」、岐阜の「郡上おどり」と並んで日本三大盆踊りと称される、毎年夏に徳島県で行われる盆踊りといえば何でしょう? 阿波踊りです。\n",
      "\n",
      "sampled: ['阿波踊り', '阿波踊', '阿波おどり', '阿波踊り', '阿波踊り']\n",
      "r_sentences\n",
      "['阿波踊りです']\n",
      "阿波踊りです\n"
     ]
    },
    {
     "name": "stderr",
     "output_type": "stream",
     "text": [
      "Some weights of the model checkpoint at bert-base-multilingual-cased were not used when initializing BertModel: ['cls.predictions.transform.dense.weight', 'cls.seq_relationship.weight', 'cls.predictions.transform.LayerNorm.weight', 'cls.predictions.bias', 'cls.seq_relationship.bias', 'cls.predictions.transform.dense.bias', 'cls.predictions.transform.LayerNorm.bias']\n",
      "- This IS expected if you are initializing BertModel from the checkpoint of a model trained on another task or with another architecture (e.g. initializing a BertForSequenceClassification model from a BertForPreTraining model).\n",
      "- This IS NOT expected if you are initializing BertModel from the checkpoint of a model that you expect to be exactly identical (initializing a BertForSequenceClassification model from a BertForSequenceClassification model).\n",
      "Warning: Baseline not Found for bert-base-multilingual-cased on ja at /home/ryoryon66/.pyenv/versions/3.9.8/lib/python3.9/site-packages/bert_score/rescale_baseline/ja/bert-base-multilingual-cased.tsv\n",
      "Some weights of the model checkpoint at bert-base-multilingual-cased were not used when initializing BertModel: ['cls.predictions.transform.dense.weight', 'cls.seq_relationship.weight', 'cls.predictions.transform.LayerNorm.weight', 'cls.predictions.bias', 'cls.seq_relationship.bias', 'cls.predictions.transform.dense.bias', 'cls.predictions.transform.LayerNorm.bias']\n",
      "- This IS expected if you are initializing BertModel from the checkpoint of a model trained on another task or with another architecture (e.g. initializing a BertForSequenceClassification model from a BertForPreTraining model).\n",
      "- This IS NOT expected if you are initializing BertModel from the checkpoint of a model that you expect to be exactly identical (initializing a BertForSequenceClassification model from a BertForSequenceClassification model).\n",
      "Warning: Baseline not Found for bert-base-multilingual-cased on ja at /home/ryoryon66/.pyenv/versions/3.9.8/lib/python3.9/site-packages/bert_score/rescale_baseline/ja/bert-base-multilingual-cased.tsv\n",
      "Some weights of the model checkpoint at bert-base-multilingual-cased were not used when initializing BertModel: ['cls.predictions.transform.dense.weight', 'cls.seq_relationship.weight', 'cls.predictions.transform.LayerNorm.weight', 'cls.predictions.bias', 'cls.seq_relationship.bias', 'cls.predictions.transform.dense.bias', 'cls.predictions.transform.LayerNorm.bias']\n",
      "- This IS expected if you are initializing BertModel from the checkpoint of a model trained on another task or with another architecture (e.g. initializing a BertForSequenceClassification model from a BertForPreTraining model).\n",
      "- This IS NOT expected if you are initializing BertModel from the checkpoint of a model that you expect to be exactly identical (initializing a BertForSequenceClassification model from a BertForSequenceClassification model).\n",
      "Warning: Baseline not Found for bert-base-multilingual-cased on ja at /home/ryoryon66/.pyenv/versions/3.9.8/lib/python3.9/site-packages/bert_score/rescale_baseline/ja/bert-base-multilingual-cased.tsv\n",
      "Some weights of the model checkpoint at bert-base-multilingual-cased were not used when initializing BertModel: ['cls.predictions.transform.dense.weight', 'cls.seq_relationship.weight', 'cls.predictions.transform.LayerNorm.weight', 'cls.predictions.bias', 'cls.seq_relationship.bias', 'cls.predictions.transform.dense.bias', 'cls.predictions.transform.LayerNorm.bias']\n",
      "- This IS expected if you are initializing BertModel from the checkpoint of a model trained on another task or with another architecture (e.g. initializing a BertForSequenceClassification model from a BertForPreTraining model).\n",
      "- This IS NOT expected if you are initializing BertModel from the checkpoint of a model that you expect to be exactly identical (initializing a BertForSequenceClassification model from a BertForSequenceClassification model).\n",
      "Warning: Baseline not Found for bert-base-multilingual-cased on ja at /home/ryoryon66/.pyenv/versions/3.9.8/lib/python3.9/site-packages/bert_score/rescale_baseline/ja/bert-base-multilingual-cased.tsv\n",
      "Some weights of the model checkpoint at bert-base-multilingual-cased were not used when initializing BertModel: ['cls.predictions.transform.dense.weight', 'cls.seq_relationship.weight', 'cls.predictions.transform.LayerNorm.weight', 'cls.predictions.bias', 'cls.seq_relationship.bias', 'cls.predictions.transform.dense.bias', 'cls.predictions.transform.LayerNorm.bias']\n",
      "- This IS expected if you are initializing BertModel from the checkpoint of a model trained on another task or with another architecture (e.g. initializing a BertForSequenceClassification model from a BertForPreTraining model).\n",
      "- This IS NOT expected if you are initializing BertModel from the checkpoint of a model that you expect to be exactly identical (initializing a BertForSequenceClassification model from a BertForSequenceClassification model).\n"
     ]
    },
    {
     "name": "stdout",
     "output_type": "stream",
     "text": [
      "hallucination pr_scores: [0.13086279630661016]\n",
      "hallucination re_scores: [0.09862209558486937]\n",
      "hallucination f1_scores: [0.11521681547164911]\n",
      "processing 65 / 100\n"
     ]
    },
    {
     "name": "stderr",
     "output_type": "stream",
     "text": [
      "Warning: Baseline not Found for bert-base-multilingual-cased on ja at /home/ryoryon66/.pyenv/versions/3.9.8/lib/python3.9/site-packages/bert_score/rescale_baseline/ja/bert-base-multilingual-cased.tsv\n",
      "/tmp/ipykernel_28939/1749957329.py:18: FutureWarning: The frame.append method is deprecated and will be removed from pandas in a future version. Use pandas.concat instead.\n",
      "  score_df = score_df.append({\n"
     ]
    },
    {
     "name": "stdout",
     "output_type": "stream",
     "text": [
      "QA20CAPR-0131 燧ケ岳の溶岩流により只見川がせきとめられてできたとされる湿原で、唱歌『夏の思い出』にも歌われているのは何でしょう? 尾瀬沼です。\n",
      "\n",
      "sampled: ['尾瀬沼', '尾瀬沼です。', '尾瀬沼です。', '尾瀬沼です。', '尾瀬沼です。']\n",
      "r_sentences\n",
      "['尾瀬沼です']\n",
      "尾瀬沼です\n"
     ]
    },
    {
     "name": "stderr",
     "output_type": "stream",
     "text": [
      "Some weights of the model checkpoint at bert-base-multilingual-cased were not used when initializing BertModel: ['cls.predictions.transform.dense.weight', 'cls.seq_relationship.weight', 'cls.predictions.transform.LayerNorm.weight', 'cls.predictions.bias', 'cls.seq_relationship.bias', 'cls.predictions.transform.dense.bias', 'cls.predictions.transform.LayerNorm.bias']\n",
      "- This IS expected if you are initializing BertModel from the checkpoint of a model trained on another task or with another architecture (e.g. initializing a BertForSequenceClassification model from a BertForPreTraining model).\n",
      "- This IS NOT expected if you are initializing BertModel from the checkpoint of a model that you expect to be exactly identical (initializing a BertForSequenceClassification model from a BertForSequenceClassification model).\n",
      "Warning: Baseline not Found for bert-base-multilingual-cased on ja at /home/ryoryon66/.pyenv/versions/3.9.8/lib/python3.9/site-packages/bert_score/rescale_baseline/ja/bert-base-multilingual-cased.tsv\n",
      "Some weights of the model checkpoint at bert-base-multilingual-cased were not used when initializing BertModel: ['cls.predictions.transform.dense.weight', 'cls.seq_relationship.weight', 'cls.predictions.transform.LayerNorm.weight', 'cls.predictions.bias', 'cls.seq_relationship.bias', 'cls.predictions.transform.dense.bias', 'cls.predictions.transform.LayerNorm.bias']\n",
      "- This IS expected if you are initializing BertModel from the checkpoint of a model trained on another task or with another architecture (e.g. initializing a BertForSequenceClassification model from a BertForPreTraining model).\n",
      "- This IS NOT expected if you are initializing BertModel from the checkpoint of a model that you expect to be exactly identical (initializing a BertForSequenceClassification model from a BertForSequenceClassification model).\n",
      "Warning: Baseline not Found for bert-base-multilingual-cased on ja at /home/ryoryon66/.pyenv/versions/3.9.8/lib/python3.9/site-packages/bert_score/rescale_baseline/ja/bert-base-multilingual-cased.tsv\n",
      "Some weights of the model checkpoint at bert-base-multilingual-cased were not used when initializing BertModel: ['cls.predictions.transform.dense.weight', 'cls.seq_relationship.weight', 'cls.predictions.transform.LayerNorm.weight', 'cls.predictions.bias', 'cls.seq_relationship.bias', 'cls.predictions.transform.dense.bias', 'cls.predictions.transform.LayerNorm.bias']\n",
      "- This IS expected if you are initializing BertModel from the checkpoint of a model trained on another task or with another architecture (e.g. initializing a BertForSequenceClassification model from a BertForPreTraining model).\n",
      "- This IS NOT expected if you are initializing BertModel from the checkpoint of a model that you expect to be exactly identical (initializing a BertForSequenceClassification model from a BertForSequenceClassification model).\n",
      "Warning: Baseline not Found for bert-base-multilingual-cased on ja at /home/ryoryon66/.pyenv/versions/3.9.8/lib/python3.9/site-packages/bert_score/rescale_baseline/ja/bert-base-multilingual-cased.tsv\n",
      "Some weights of the model checkpoint at bert-base-multilingual-cased were not used when initializing BertModel: ['cls.predictions.transform.dense.weight', 'cls.seq_relationship.weight', 'cls.predictions.transform.LayerNorm.weight', 'cls.predictions.bias', 'cls.seq_relationship.bias', 'cls.predictions.transform.dense.bias', 'cls.predictions.transform.LayerNorm.bias']\n",
      "- This IS expected if you are initializing BertModel from the checkpoint of a model trained on another task or with another architecture (e.g. initializing a BertForSequenceClassification model from a BertForPreTraining model).\n",
      "- This IS NOT expected if you are initializing BertModel from the checkpoint of a model that you expect to be exactly identical (initializing a BertForSequenceClassification model from a BertForSequenceClassification model).\n",
      "Warning: Baseline not Found for bert-base-multilingual-cased on ja at /home/ryoryon66/.pyenv/versions/3.9.8/lib/python3.9/site-packages/bert_score/rescale_baseline/ja/bert-base-multilingual-cased.tsv\n",
      "Some weights of the model checkpoint at bert-base-multilingual-cased were not used when initializing BertModel: ['cls.predictions.transform.dense.weight', 'cls.seq_relationship.weight', 'cls.predictions.transform.LayerNorm.weight', 'cls.predictions.bias', 'cls.seq_relationship.bias', 'cls.predictions.transform.dense.bias', 'cls.predictions.transform.LayerNorm.bias']\n",
      "- This IS expected if you are initializing BertModel from the checkpoint of a model trained on another task or with another architecture (e.g. initializing a BertForSequenceClassification model from a BertForPreTraining model).\n",
      "- This IS NOT expected if you are initializing BertModel from the checkpoint of a model that you expect to be exactly identical (initializing a BertForSequenceClassification model from a BertForSequenceClassification model).\n"
     ]
    },
    {
     "name": "stdout",
     "output_type": "stream",
     "text": [
      "hallucination pr_scores: [0.030249428749084484]\n",
      "hallucination re_scores: [0.01567580699920651]\n",
      "hallucination f1_scores: [0.02326254844665515]\n",
      "processing 66 / 100\n"
     ]
    },
    {
     "name": "stderr",
     "output_type": "stream",
     "text": [
      "Warning: Baseline not Found for bert-base-multilingual-cased on ja at /home/ryoryon66/.pyenv/versions/3.9.8/lib/python3.9/site-packages/bert_score/rescale_baseline/ja/bert-base-multilingual-cased.tsv\n",
      "/tmp/ipykernel_28939/1749957329.py:18: FutureWarning: The frame.append method is deprecated and will be removed from pandas in a future version. Use pandas.concat instead.\n",
      "  score_df = score_df.append({\n"
     ]
    },
    {
     "name": "stdout",
     "output_type": "stream",
     "text": [
      "QA20CAPR-0133 別名を「日本ダービー」という、皐月賞・菊花賞とともに中央競馬クラシック三冠を構成する重賞競走は何でしょう? セントライト記念競走\n",
      "sampled: ['天皇賞(春)', '東京優駿競走(日本ダービー)', '東京優駿(日本ダービー)', '天皇賞(春)', '天皇賞(春)']\n",
      "r_sentences\n",
      "['セントライト記念競走']\n",
      "セントライト記念競走\n"
     ]
    },
    {
     "name": "stderr",
     "output_type": "stream",
     "text": [
      "Some weights of the model checkpoint at bert-base-multilingual-cased were not used when initializing BertModel: ['cls.predictions.transform.dense.weight', 'cls.seq_relationship.weight', 'cls.predictions.transform.LayerNorm.weight', 'cls.predictions.bias', 'cls.seq_relationship.bias', 'cls.predictions.transform.dense.bias', 'cls.predictions.transform.LayerNorm.bias']\n",
      "- This IS expected if you are initializing BertModel from the checkpoint of a model trained on another task or with another architecture (e.g. initializing a BertForSequenceClassification model from a BertForPreTraining model).\n",
      "- This IS NOT expected if you are initializing BertModel from the checkpoint of a model that you expect to be exactly identical (initializing a BertForSequenceClassification model from a BertForSequenceClassification model).\n",
      "Warning: Baseline not Found for bert-base-multilingual-cased on ja at /home/ryoryon66/.pyenv/versions/3.9.8/lib/python3.9/site-packages/bert_score/rescale_baseline/ja/bert-base-multilingual-cased.tsv\n",
      "Some weights of the model checkpoint at bert-base-multilingual-cased were not used when initializing BertModel: ['cls.predictions.transform.dense.weight', 'cls.seq_relationship.weight', 'cls.predictions.transform.LayerNorm.weight', 'cls.predictions.bias', 'cls.seq_relationship.bias', 'cls.predictions.transform.dense.bias', 'cls.predictions.transform.LayerNorm.bias']\n",
      "- This IS expected if you are initializing BertModel from the checkpoint of a model trained on another task or with another architecture (e.g. initializing a BertForSequenceClassification model from a BertForPreTraining model).\n",
      "- This IS NOT expected if you are initializing BertModel from the checkpoint of a model that you expect to be exactly identical (initializing a BertForSequenceClassification model from a BertForSequenceClassification model).\n",
      "Warning: Baseline not Found for bert-base-multilingual-cased on ja at /home/ryoryon66/.pyenv/versions/3.9.8/lib/python3.9/site-packages/bert_score/rescale_baseline/ja/bert-base-multilingual-cased.tsv\n",
      "Some weights of the model checkpoint at bert-base-multilingual-cased were not used when initializing BertModel: ['cls.predictions.transform.dense.weight', 'cls.seq_relationship.weight', 'cls.predictions.transform.LayerNorm.weight', 'cls.predictions.bias', 'cls.seq_relationship.bias', 'cls.predictions.transform.dense.bias', 'cls.predictions.transform.LayerNorm.bias']\n",
      "- This IS expected if you are initializing BertModel from the checkpoint of a model trained on another task or with another architecture (e.g. initializing a BertForSequenceClassification model from a BertForPreTraining model).\n",
      "- This IS NOT expected if you are initializing BertModel from the checkpoint of a model that you expect to be exactly identical (initializing a BertForSequenceClassification model from a BertForSequenceClassification model).\n",
      "Warning: Baseline not Found for bert-base-multilingual-cased on ja at /home/ryoryon66/.pyenv/versions/3.9.8/lib/python3.9/site-packages/bert_score/rescale_baseline/ja/bert-base-multilingual-cased.tsv\n",
      "Some weights of the model checkpoint at bert-base-multilingual-cased were not used when initializing BertModel: ['cls.predictions.transform.dense.weight', 'cls.seq_relationship.weight', 'cls.predictions.transform.LayerNorm.weight', 'cls.predictions.bias', 'cls.seq_relationship.bias', 'cls.predictions.transform.dense.bias', 'cls.predictions.transform.LayerNorm.bias']\n",
      "- This IS expected if you are initializing BertModel from the checkpoint of a model trained on another task or with another architecture (e.g. initializing a BertForSequenceClassification model from a BertForPreTraining model).\n",
      "- This IS NOT expected if you are initializing BertModel from the checkpoint of a model that you expect to be exactly identical (initializing a BertForSequenceClassification model from a BertForSequenceClassification model).\n",
      "Warning: Baseline not Found for bert-base-multilingual-cased on ja at /home/ryoryon66/.pyenv/versions/3.9.8/lib/python3.9/site-packages/bert_score/rescale_baseline/ja/bert-base-multilingual-cased.tsv\n",
      "Some weights of the model checkpoint at bert-base-multilingual-cased were not used when initializing BertModel: ['cls.predictions.transform.dense.weight', 'cls.seq_relationship.weight', 'cls.predictions.transform.LayerNorm.weight', 'cls.predictions.bias', 'cls.seq_relationship.bias', 'cls.predictions.transform.dense.bias', 'cls.predictions.transform.LayerNorm.bias']\n",
      "- This IS expected if you are initializing BertModel from the checkpoint of a model trained on another task or with another architecture (e.g. initializing a BertForSequenceClassification model from a BertForPreTraining model).\n",
      "- This IS NOT expected if you are initializing BertModel from the checkpoint of a model that you expect to be exactly identical (initializing a BertForSequenceClassification model from a BertForSequenceClassification model).\n"
     ]
    },
    {
     "name": "stdout",
     "output_type": "stream",
     "text": [
      "hallucination pr_scores: [0.30857323408126824]\n",
      "hallucination re_scores: [0.30306740999221804]\n",
      "hallucination f1_scores: [0.30591703653335567]\n",
      "processing 67 / 100\n"
     ]
    },
    {
     "name": "stderr",
     "output_type": "stream",
     "text": [
      "Warning: Baseline not Found for bert-base-multilingual-cased on ja at /home/ryoryon66/.pyenv/versions/3.9.8/lib/python3.9/site-packages/bert_score/rescale_baseline/ja/bert-base-multilingual-cased.tsv\n",
      "/tmp/ipykernel_28939/1749957329.py:18: FutureWarning: The frame.append method is deprecated and will be removed from pandas in a future version. Use pandas.concat instead.\n",
      "  score_df = score_df.append({\n"
     ]
    },
    {
     "name": "stdout",
     "output_type": "stream",
     "text": [
      "QA20CAPR-0135 理科実験で使われるガスバーナーにある2つのネジとは、ガス調節ねじと、何調節ねじでしょう? パイロットねじです。\n",
      "\n",
      "sampled: ['調整ねじはガス調節ねじと呼ばれます。', 'パイロットねじです。', 'パイロットねじです。', '調節ねじは、ガスバーナーの操作を簡単にするために使用されます。調節ねじには、ネジ頭に小さな穴が開いており、ねじを緩めることでガスの流れをコントロールできます。一方、ガス調節ねじは、ねじとねじ山によって作られています。ねじを緩めることで、ガス流量を増やすことができます。', 'ガス調節ねじです。']\n",
      "r_sentences\n",
      "['パイロットねじです']\n",
      "パイロットねじです\n"
     ]
    },
    {
     "name": "stderr",
     "output_type": "stream",
     "text": [
      "Some weights of the model checkpoint at bert-base-multilingual-cased were not used when initializing BertModel: ['cls.predictions.transform.dense.weight', 'cls.seq_relationship.weight', 'cls.predictions.transform.LayerNorm.weight', 'cls.predictions.bias', 'cls.seq_relationship.bias', 'cls.predictions.transform.dense.bias', 'cls.predictions.transform.LayerNorm.bias']\n",
      "- This IS expected if you are initializing BertModel from the checkpoint of a model trained on another task or with another architecture (e.g. initializing a BertForSequenceClassification model from a BertForPreTraining model).\n",
      "- This IS NOT expected if you are initializing BertModel from the checkpoint of a model that you expect to be exactly identical (initializing a BertForSequenceClassification model from a BertForSequenceClassification model).\n",
      "Warning: Baseline not Found for bert-base-multilingual-cased on ja at /home/ryoryon66/.pyenv/versions/3.9.8/lib/python3.9/site-packages/bert_score/rescale_baseline/ja/bert-base-multilingual-cased.tsv\n",
      "Some weights of the model checkpoint at bert-base-multilingual-cased were not used when initializing BertModel: ['cls.predictions.transform.dense.weight', 'cls.seq_relationship.weight', 'cls.predictions.transform.LayerNorm.weight', 'cls.predictions.bias', 'cls.seq_relationship.bias', 'cls.predictions.transform.dense.bias', 'cls.predictions.transform.LayerNorm.bias']\n",
      "- This IS expected if you are initializing BertModel from the checkpoint of a model trained on another task or with another architecture (e.g. initializing a BertForSequenceClassification model from a BertForPreTraining model).\n",
      "- This IS NOT expected if you are initializing BertModel from the checkpoint of a model that you expect to be exactly identical (initializing a BertForSequenceClassification model from a BertForSequenceClassification model).\n",
      "Warning: Baseline not Found for bert-base-multilingual-cased on ja at /home/ryoryon66/.pyenv/versions/3.9.8/lib/python3.9/site-packages/bert_score/rescale_baseline/ja/bert-base-multilingual-cased.tsv\n",
      "Some weights of the model checkpoint at bert-base-multilingual-cased were not used when initializing BertModel: ['cls.predictions.transform.dense.weight', 'cls.seq_relationship.weight', 'cls.predictions.transform.LayerNorm.weight', 'cls.predictions.bias', 'cls.seq_relationship.bias', 'cls.predictions.transform.dense.bias', 'cls.predictions.transform.LayerNorm.bias']\n",
      "- This IS expected if you are initializing BertModel from the checkpoint of a model trained on another task or with another architecture (e.g. initializing a BertForSequenceClassification model from a BertForPreTraining model).\n",
      "- This IS NOT expected if you are initializing BertModel from the checkpoint of a model that you expect to be exactly identical (initializing a BertForSequenceClassification model from a BertForSequenceClassification model).\n",
      "Warning: Baseline not Found for bert-base-multilingual-cased on ja at /home/ryoryon66/.pyenv/versions/3.9.8/lib/python3.9/site-packages/bert_score/rescale_baseline/ja/bert-base-multilingual-cased.tsv\n",
      "Some weights of the model checkpoint at bert-base-multilingual-cased were not used when initializing BertModel: ['cls.predictions.transform.dense.weight', 'cls.seq_relationship.weight', 'cls.predictions.transform.LayerNorm.weight', 'cls.predictions.bias', 'cls.seq_relationship.bias', 'cls.predictions.transform.dense.bias', 'cls.predictions.transform.LayerNorm.bias']\n",
      "- This IS expected if you are initializing BertModel from the checkpoint of a model trained on another task or with another architecture (e.g. initializing a BertForSequenceClassification model from a BertForPreTraining model).\n",
      "- This IS NOT expected if you are initializing BertModel from the checkpoint of a model that you expect to be exactly identical (initializing a BertForSequenceClassification model from a BertForSequenceClassification model).\n",
      "Warning: Baseline not Found for bert-base-multilingual-cased on ja at /home/ryoryon66/.pyenv/versions/3.9.8/lib/python3.9/site-packages/bert_score/rescale_baseline/ja/bert-base-multilingual-cased.tsv\n",
      "Some weights of the model checkpoint at bert-base-multilingual-cased were not used when initializing BertModel: ['cls.predictions.transform.dense.weight', 'cls.seq_relationship.weight', 'cls.predictions.transform.LayerNorm.weight', 'cls.predictions.bias', 'cls.seq_relationship.bias', 'cls.predictions.transform.dense.bias', 'cls.predictions.transform.LayerNorm.bias']\n",
      "- This IS expected if you are initializing BertModel from the checkpoint of a model trained on another task or with another architecture (e.g. initializing a BertForSequenceClassification model from a BertForPreTraining model).\n",
      "- This IS NOT expected if you are initializing BertModel from the checkpoint of a model that you expect to be exactly identical (initializing a BertForSequenceClassification model from a BertForSequenceClassification model).\n"
     ]
    },
    {
     "name": "stdout",
     "output_type": "stream",
     "text": [
      "hallucination pr_scores: [0.1738813996315003]\n",
      "hallucination re_scores: [0.17446775436401363]\n",
      "hallucination f1_scores: [0.1750856399536133]\n",
      "processing 68 / 100\n"
     ]
    },
    {
     "name": "stderr",
     "output_type": "stream",
     "text": [
      "Warning: Baseline not Found for bert-base-multilingual-cased on ja at /home/ryoryon66/.pyenv/versions/3.9.8/lib/python3.9/site-packages/bert_score/rescale_baseline/ja/bert-base-multilingual-cased.tsv\n",
      "/tmp/ipykernel_28939/1749957329.py:18: FutureWarning: The frame.append method is deprecated and will be removed from pandas in a future version. Use pandas.concat instead.\n",
      "  score_df = score_df.append({\n"
     ]
    },
    {
     "name": "stdout",
     "output_type": "stream",
     "text": [
      "QA20CAPR-0137 νガンダムやサザビーといったモビルスーツが登場する、1988年に公開された『機動戦士ガンダム』シリーズのアニメ映画は何でしょう? ガンヘッド(1988)\n",
      "sampled: ['『機動戦士Ζガンダム』です。', '紅の豚', '紅の豚(スタジオジブリ製作)', '天空の城ラピュタです。', '∀ガンダム三部作(1988年〜1989年)、および∀ガンダム(1991年)。']\n",
      "r_sentences\n",
      "['ガンヘッド(1988)']\n",
      "ガンヘッド(1988)\n"
     ]
    },
    {
     "name": "stderr",
     "output_type": "stream",
     "text": [
      "Some weights of the model checkpoint at bert-base-multilingual-cased were not used when initializing BertModel: ['cls.predictions.transform.dense.weight', 'cls.seq_relationship.weight', 'cls.predictions.transform.LayerNorm.weight', 'cls.predictions.bias', 'cls.seq_relationship.bias', 'cls.predictions.transform.dense.bias', 'cls.predictions.transform.LayerNorm.bias']\n",
      "- This IS expected if you are initializing BertModel from the checkpoint of a model trained on another task or with another architecture (e.g. initializing a BertForSequenceClassification model from a BertForPreTraining model).\n",
      "- This IS NOT expected if you are initializing BertModel from the checkpoint of a model that you expect to be exactly identical (initializing a BertForSequenceClassification model from a BertForSequenceClassification model).\n",
      "Warning: Baseline not Found for bert-base-multilingual-cased on ja at /home/ryoryon66/.pyenv/versions/3.9.8/lib/python3.9/site-packages/bert_score/rescale_baseline/ja/bert-base-multilingual-cased.tsv\n",
      "Some weights of the model checkpoint at bert-base-multilingual-cased were not used when initializing BertModel: ['cls.predictions.transform.dense.weight', 'cls.seq_relationship.weight', 'cls.predictions.transform.LayerNorm.weight', 'cls.predictions.bias', 'cls.seq_relationship.bias', 'cls.predictions.transform.dense.bias', 'cls.predictions.transform.LayerNorm.bias']\n",
      "- This IS expected if you are initializing BertModel from the checkpoint of a model trained on another task or with another architecture (e.g. initializing a BertForSequenceClassification model from a BertForPreTraining model).\n",
      "- This IS NOT expected if you are initializing BertModel from the checkpoint of a model that you expect to be exactly identical (initializing a BertForSequenceClassification model from a BertForSequenceClassification model).\n",
      "Warning: Baseline not Found for bert-base-multilingual-cased on ja at /home/ryoryon66/.pyenv/versions/3.9.8/lib/python3.9/site-packages/bert_score/rescale_baseline/ja/bert-base-multilingual-cased.tsv\n",
      "Some weights of the model checkpoint at bert-base-multilingual-cased were not used when initializing BertModel: ['cls.predictions.transform.dense.weight', 'cls.seq_relationship.weight', 'cls.predictions.transform.LayerNorm.weight', 'cls.predictions.bias', 'cls.seq_relationship.bias', 'cls.predictions.transform.dense.bias', 'cls.predictions.transform.LayerNorm.bias']\n",
      "- This IS expected if you are initializing BertModel from the checkpoint of a model trained on another task or with another architecture (e.g. initializing a BertForSequenceClassification model from a BertForPreTraining model).\n",
      "- This IS NOT expected if you are initializing BertModel from the checkpoint of a model that you expect to be exactly identical (initializing a BertForSequenceClassification model from a BertForSequenceClassification model).\n",
      "Warning: Baseline not Found for bert-base-multilingual-cased on ja at /home/ryoryon66/.pyenv/versions/3.9.8/lib/python3.9/site-packages/bert_score/rescale_baseline/ja/bert-base-multilingual-cased.tsv\n",
      "Some weights of the model checkpoint at bert-base-multilingual-cased were not used when initializing BertModel: ['cls.predictions.transform.dense.weight', 'cls.seq_relationship.weight', 'cls.predictions.transform.LayerNorm.weight', 'cls.predictions.bias', 'cls.seq_relationship.bias', 'cls.predictions.transform.dense.bias', 'cls.predictions.transform.LayerNorm.bias']\n",
      "- This IS expected if you are initializing BertModel from the checkpoint of a model trained on another task or with another architecture (e.g. initializing a BertForSequenceClassification model from a BertForPreTraining model).\n",
      "- This IS NOT expected if you are initializing BertModel from the checkpoint of a model that you expect to be exactly identical (initializing a BertForSequenceClassification model from a BertForSequenceClassification model).\n",
      "Warning: Baseline not Found for bert-base-multilingual-cased on ja at /home/ryoryon66/.pyenv/versions/3.9.8/lib/python3.9/site-packages/bert_score/rescale_baseline/ja/bert-base-multilingual-cased.tsv\n",
      "Some weights of the model checkpoint at bert-base-multilingual-cased were not used when initializing BertModel: ['cls.predictions.transform.dense.weight', 'cls.seq_relationship.weight', 'cls.predictions.transform.LayerNorm.weight', 'cls.predictions.bias', 'cls.seq_relationship.bias', 'cls.predictions.transform.dense.bias', 'cls.predictions.transform.LayerNorm.bias']\n",
      "- This IS expected if you are initializing BertModel from the checkpoint of a model trained on another task or with another architecture (e.g. initializing a BertForSequenceClassification model from a BertForPreTraining model).\n",
      "- This IS NOT expected if you are initializing BertModel from the checkpoint of a model that you expect to be exactly identical (initializing a BertForSequenceClassification model from a BertForSequenceClassification model).\n"
     ]
    },
    {
     "name": "stdout",
     "output_type": "stream",
     "text": [
      "hallucination pr_scores: [0.31223961114883414]\n",
      "hallucination re_scores: [0.32296924591064463]\n",
      "hallucination f1_scores: [0.31796712875366206]\n",
      "processing 69 / 100\n"
     ]
    },
    {
     "name": "stderr",
     "output_type": "stream",
     "text": [
      "Warning: Baseline not Found for bert-base-multilingual-cased on ja at /home/ryoryon66/.pyenv/versions/3.9.8/lib/python3.9/site-packages/bert_score/rescale_baseline/ja/bert-base-multilingual-cased.tsv\n",
      "/tmp/ipykernel_28939/1749957329.py:18: FutureWarning: The frame.append method is deprecated and will be removed from pandas in a future version. Use pandas.concat instead.\n",
      "  score_df = score_df.append({\n"
     ]
    },
    {
     "name": "stdout",
     "output_type": "stream",
     "text": [
      "QA20CAPR-0139 日本の場合、生産額ベースでは約7割、カロリーベースでは約4割となっている、国民が消費する食料のうち、国内で生産された割合を指す指数は何でしょう? 食糧自給率(総合)です。\n",
      "\n",
      "sampled: ['米の生産額比率」です。', '純食料自給率(PALM)です。これは、国内における総食料供給量を国内生産量で割った値で、100%から70%の範囲に設定されています。', '米」です。', '食料自給率(カロリーベース)とは、国内の食料供給量を国内消費量で割った数字です。これは、日本で生産された食料のほぼ100%が国産であることを示す重要な指標です。一方、国内の食料需要が増加し続ける中、国内生産量を維持するためには、農業生産の拡大が必要不可欠です。そのため、食料自給率は農業生産の重要な側面を反映しており、食料安全保障や国内の持続可能性を確保するために重要な指標です。', '食糧自給率(カロリーベース)です。']\n",
      "r_sentences\n",
      "['食糧自給率(総合)です']\n",
      "食糧自給率(総合)です\n"
     ]
    },
    {
     "name": "stderr",
     "output_type": "stream",
     "text": [
      "Some weights of the model checkpoint at bert-base-multilingual-cased were not used when initializing BertModel: ['cls.predictions.transform.dense.weight', 'cls.seq_relationship.weight', 'cls.predictions.transform.LayerNorm.weight', 'cls.predictions.bias', 'cls.seq_relationship.bias', 'cls.predictions.transform.dense.bias', 'cls.predictions.transform.LayerNorm.bias']\n",
      "- This IS expected if you are initializing BertModel from the checkpoint of a model trained on another task or with another architecture (e.g. initializing a BertForSequenceClassification model from a BertForPreTraining model).\n",
      "- This IS NOT expected if you are initializing BertModel from the checkpoint of a model that you expect to be exactly identical (initializing a BertForSequenceClassification model from a BertForSequenceClassification model).\n",
      "Warning: Baseline not Found for bert-base-multilingual-cased on ja at /home/ryoryon66/.pyenv/versions/3.9.8/lib/python3.9/site-packages/bert_score/rescale_baseline/ja/bert-base-multilingual-cased.tsv\n",
      "Some weights of the model checkpoint at bert-base-multilingual-cased were not used when initializing BertModel: ['cls.predictions.transform.dense.weight', 'cls.seq_relationship.weight', 'cls.predictions.transform.LayerNorm.weight', 'cls.predictions.bias', 'cls.seq_relationship.bias', 'cls.predictions.transform.dense.bias', 'cls.predictions.transform.LayerNorm.bias']\n",
      "- This IS expected if you are initializing BertModel from the checkpoint of a model trained on another task or with another architecture (e.g. initializing a BertForSequenceClassification model from a BertForPreTraining model).\n",
      "- This IS NOT expected if you are initializing BertModel from the checkpoint of a model that you expect to be exactly identical (initializing a BertForSequenceClassification model from a BertForSequenceClassification model).\n",
      "Warning: Baseline not Found for bert-base-multilingual-cased on ja at /home/ryoryon66/.pyenv/versions/3.9.8/lib/python3.9/site-packages/bert_score/rescale_baseline/ja/bert-base-multilingual-cased.tsv\n",
      "Some weights of the model checkpoint at bert-base-multilingual-cased were not used when initializing BertModel: ['cls.predictions.transform.dense.weight', 'cls.seq_relationship.weight', 'cls.predictions.transform.LayerNorm.weight', 'cls.predictions.bias', 'cls.seq_relationship.bias', 'cls.predictions.transform.dense.bias', 'cls.predictions.transform.LayerNorm.bias']\n",
      "- This IS expected if you are initializing BertModel from the checkpoint of a model trained on another task or with another architecture (e.g. initializing a BertForSequenceClassification model from a BertForPreTraining model).\n",
      "- This IS NOT expected if you are initializing BertModel from the checkpoint of a model that you expect to be exactly identical (initializing a BertForSequenceClassification model from a BertForSequenceClassification model).\n",
      "Warning: Baseline not Found for bert-base-multilingual-cased on ja at /home/ryoryon66/.pyenv/versions/3.9.8/lib/python3.9/site-packages/bert_score/rescale_baseline/ja/bert-base-multilingual-cased.tsv\n",
      "Some weights of the model checkpoint at bert-base-multilingual-cased were not used when initializing BertModel: ['cls.predictions.transform.dense.weight', 'cls.seq_relationship.weight', 'cls.predictions.transform.LayerNorm.weight', 'cls.predictions.bias', 'cls.seq_relationship.bias', 'cls.predictions.transform.dense.bias', 'cls.predictions.transform.LayerNorm.bias']\n",
      "- This IS expected if you are initializing BertModel from the checkpoint of a model trained on another task or with another architecture (e.g. initializing a BertForSequenceClassification model from a BertForPreTraining model).\n",
      "- This IS NOT expected if you are initializing BertModel from the checkpoint of a model that you expect to be exactly identical (initializing a BertForSequenceClassification model from a BertForSequenceClassification model).\n",
      "Warning: Baseline not Found for bert-base-multilingual-cased on ja at /home/ryoryon66/.pyenv/versions/3.9.8/lib/python3.9/site-packages/bert_score/rescale_baseline/ja/bert-base-multilingual-cased.tsv\n",
      "Some weights of the model checkpoint at bert-base-multilingual-cased were not used when initializing BertModel: ['cls.predictions.transform.dense.weight', 'cls.seq_relationship.weight', 'cls.predictions.transform.LayerNorm.weight', 'cls.predictions.bias', 'cls.seq_relationship.bias', 'cls.predictions.transform.dense.bias', 'cls.predictions.transform.LayerNorm.bias']\n",
      "- This IS expected if you are initializing BertModel from the checkpoint of a model trained on another task or with another architecture (e.g. initializing a BertForSequenceClassification model from a BertForPreTraining model).\n",
      "- This IS NOT expected if you are initializing BertModel from the checkpoint of a model that you expect to be exactly identical (initializing a BertForSequenceClassification model from a BertForSequenceClassification model).\n"
     ]
    },
    {
     "name": "stdout",
     "output_type": "stream",
     "text": [
      "hallucination pr_scores: [0.18456311225891114]\n",
      "hallucination re_scores: [0.20300624370574938]\n",
      "hallucination f1_scores: [0.1951848983764648]\n",
      "processing 70 / 100\n"
     ]
    },
    {
     "name": "stderr",
     "output_type": "stream",
     "text": [
      "Warning: Baseline not Found for bert-base-multilingual-cased on ja at /home/ryoryon66/.pyenv/versions/3.9.8/lib/python3.9/site-packages/bert_score/rescale_baseline/ja/bert-base-multilingual-cased.tsv\n",
      "/tmp/ipykernel_28939/1749957329.py:18: FutureWarning: The frame.append method is deprecated and will be removed from pandas in a future version. Use pandas.concat instead.\n",
      "  score_df = score_df.append({\n"
     ]
    },
    {
     "name": "stdout",
     "output_type": "stream",
     "text": [
      "QA20CAPR-0141 シャフトと呼ばれる横棒にプレートと呼ばれる円盤状の重りを付けた、重量挙げに使われる器具は何でしょう? バーベルセット\n",
      "sampled: ['バーベルラックセット。', 'バーベルセットです。', 'バーベルセットまたはパワーリフティングセットと呼ばれます。', 'バーベルセットです。', 'バーベルセットです。']\n",
      "r_sentences\n",
      "['バーベルセット']\n",
      "バーベルセット\n"
     ]
    },
    {
     "name": "stderr",
     "output_type": "stream",
     "text": [
      "Some weights of the model checkpoint at bert-base-multilingual-cased were not used when initializing BertModel: ['cls.predictions.transform.dense.weight', 'cls.seq_relationship.weight', 'cls.predictions.transform.LayerNorm.weight', 'cls.predictions.bias', 'cls.seq_relationship.bias', 'cls.predictions.transform.dense.bias', 'cls.predictions.transform.LayerNorm.bias']\n",
      "- This IS expected if you are initializing BertModel from the checkpoint of a model trained on another task or with another architecture (e.g. initializing a BertForSequenceClassification model from a BertForPreTraining model).\n",
      "- This IS NOT expected if you are initializing BertModel from the checkpoint of a model that you expect to be exactly identical (initializing a BertForSequenceClassification model from a BertForSequenceClassification model).\n",
      "Warning: Baseline not Found for bert-base-multilingual-cased on ja at /home/ryoryon66/.pyenv/versions/3.9.8/lib/python3.9/site-packages/bert_score/rescale_baseline/ja/bert-base-multilingual-cased.tsv\n",
      "Some weights of the model checkpoint at bert-base-multilingual-cased were not used when initializing BertModel: ['cls.predictions.transform.dense.weight', 'cls.seq_relationship.weight', 'cls.predictions.transform.LayerNorm.weight', 'cls.predictions.bias', 'cls.seq_relationship.bias', 'cls.predictions.transform.dense.bias', 'cls.predictions.transform.LayerNorm.bias']\n",
      "- This IS expected if you are initializing BertModel from the checkpoint of a model trained on another task or with another architecture (e.g. initializing a BertForSequenceClassification model from a BertForPreTraining model).\n",
      "- This IS NOT expected if you are initializing BertModel from the checkpoint of a model that you expect to be exactly identical (initializing a BertForSequenceClassification model from a BertForSequenceClassification model).\n",
      "Warning: Baseline not Found for bert-base-multilingual-cased on ja at /home/ryoryon66/.pyenv/versions/3.9.8/lib/python3.9/site-packages/bert_score/rescale_baseline/ja/bert-base-multilingual-cased.tsv\n",
      "Some weights of the model checkpoint at bert-base-multilingual-cased were not used when initializing BertModel: ['cls.predictions.transform.dense.weight', 'cls.seq_relationship.weight', 'cls.predictions.transform.LayerNorm.weight', 'cls.predictions.bias', 'cls.seq_relationship.bias', 'cls.predictions.transform.dense.bias', 'cls.predictions.transform.LayerNorm.bias']\n",
      "- This IS expected if you are initializing BertModel from the checkpoint of a model trained on another task or with another architecture (e.g. initializing a BertForSequenceClassification model from a BertForPreTraining model).\n",
      "- This IS NOT expected if you are initializing BertModel from the checkpoint of a model that you expect to be exactly identical (initializing a BertForSequenceClassification model from a BertForSequenceClassification model).\n",
      "Warning: Baseline not Found for bert-base-multilingual-cased on ja at /home/ryoryon66/.pyenv/versions/3.9.8/lib/python3.9/site-packages/bert_score/rescale_baseline/ja/bert-base-multilingual-cased.tsv\n",
      "Some weights of the model checkpoint at bert-base-multilingual-cased were not used when initializing BertModel: ['cls.predictions.transform.dense.weight', 'cls.seq_relationship.weight', 'cls.predictions.transform.LayerNorm.weight', 'cls.predictions.bias', 'cls.seq_relationship.bias', 'cls.predictions.transform.dense.bias', 'cls.predictions.transform.LayerNorm.bias']\n",
      "- This IS expected if you are initializing BertModel from the checkpoint of a model trained on another task or with another architecture (e.g. initializing a BertForSequenceClassification model from a BertForPreTraining model).\n",
      "- This IS NOT expected if you are initializing BertModel from the checkpoint of a model that you expect to be exactly identical (initializing a BertForSequenceClassification model from a BertForSequenceClassification model).\n",
      "Warning: Baseline not Found for bert-base-multilingual-cased on ja at /home/ryoryon66/.pyenv/versions/3.9.8/lib/python3.9/site-packages/bert_score/rescale_baseline/ja/bert-base-multilingual-cased.tsv\n",
      "Some weights of the model checkpoint at bert-base-multilingual-cased were not used when initializing BertModel: ['cls.predictions.transform.dense.weight', 'cls.seq_relationship.weight', 'cls.predictions.transform.LayerNorm.weight', 'cls.predictions.bias', 'cls.seq_relationship.bias', 'cls.predictions.transform.dense.bias', 'cls.predictions.transform.LayerNorm.bias']\n",
      "- This IS expected if you are initializing BertModel from the checkpoint of a model trained on another task or with another architecture (e.g. initializing a BertForSequenceClassification model from a BertForPreTraining model).\n",
      "- This IS NOT expected if you are initializing BertModel from the checkpoint of a model that you expect to be exactly identical (initializing a BertForSequenceClassification model from a BertForSequenceClassification model).\n"
     ]
    },
    {
     "name": "stdout",
     "output_type": "stream",
     "text": [
      "hallucination pr_scores: [0.06780568361282358]\n",
      "hallucination re_scores: [0.1450913667678833]\n",
      "hallucination f1_scores: [0.10864211320877087]\n",
      "processing 71 / 100\n"
     ]
    },
    {
     "name": "stderr",
     "output_type": "stream",
     "text": [
      "Warning: Baseline not Found for bert-base-multilingual-cased on ja at /home/ryoryon66/.pyenv/versions/3.9.8/lib/python3.9/site-packages/bert_score/rescale_baseline/ja/bert-base-multilingual-cased.tsv\n",
      "/tmp/ipykernel_28939/1749957329.py:18: FutureWarning: The frame.append method is deprecated and will be removed from pandas in a future version. Use pandas.concat instead.\n",
      "  score_df = score_df.append({\n"
     ]
    },
    {
     "name": "stdout",
     "output_type": "stream",
     "text": [
      "QA20CAPR-0143 幕末に来日したアメリカ人医師の名にちなむ、「し」を「shi」、「つ」を「tsu」などとつづるローマ字の表記法を何式ローマ字というでしょう? サイクリック式ローマ字表記法(S式)\n",
      "sampled: ['kirilly-coxonai(キリル文字)', 'シーボルト式ローマ字', 'カナモジ式', 'E式ローマ字', 'サイクリック式ローマ字(S式)']\n",
      "r_sentences\n",
      "['サイクリック式ローマ字表記法(S式)']\n",
      "サイクリック式ローマ字表記法(S式)\n"
     ]
    },
    {
     "name": "stderr",
     "output_type": "stream",
     "text": [
      "Some weights of the model checkpoint at bert-base-multilingual-cased were not used when initializing BertModel: ['cls.predictions.transform.dense.weight', 'cls.seq_relationship.weight', 'cls.predictions.transform.LayerNorm.weight', 'cls.predictions.bias', 'cls.seq_relationship.bias', 'cls.predictions.transform.dense.bias', 'cls.predictions.transform.LayerNorm.bias']\n",
      "- This IS expected if you are initializing BertModel from the checkpoint of a model trained on another task or with another architecture (e.g. initializing a BertForSequenceClassification model from a BertForPreTraining model).\n",
      "- This IS NOT expected if you are initializing BertModel from the checkpoint of a model that you expect to be exactly identical (initializing a BertForSequenceClassification model from a BertForSequenceClassification model).\n",
      "Warning: Baseline not Found for bert-base-multilingual-cased on ja at /home/ryoryon66/.pyenv/versions/3.9.8/lib/python3.9/site-packages/bert_score/rescale_baseline/ja/bert-base-multilingual-cased.tsv\n",
      "Some weights of the model checkpoint at bert-base-multilingual-cased were not used when initializing BertModel: ['cls.predictions.transform.dense.weight', 'cls.seq_relationship.weight', 'cls.predictions.transform.LayerNorm.weight', 'cls.predictions.bias', 'cls.seq_relationship.bias', 'cls.predictions.transform.dense.bias', 'cls.predictions.transform.LayerNorm.bias']\n",
      "- This IS expected if you are initializing BertModel from the checkpoint of a model trained on another task or with another architecture (e.g. initializing a BertForSequenceClassification model from a BertForPreTraining model).\n",
      "- This IS NOT expected if you are initializing BertModel from the checkpoint of a model that you expect to be exactly identical (initializing a BertForSequenceClassification model from a BertForSequenceClassification model).\n",
      "Warning: Baseline not Found for bert-base-multilingual-cased on ja at /home/ryoryon66/.pyenv/versions/3.9.8/lib/python3.9/site-packages/bert_score/rescale_baseline/ja/bert-base-multilingual-cased.tsv\n",
      "Some weights of the model checkpoint at bert-base-multilingual-cased were not used when initializing BertModel: ['cls.predictions.transform.dense.weight', 'cls.seq_relationship.weight', 'cls.predictions.transform.LayerNorm.weight', 'cls.predictions.bias', 'cls.seq_relationship.bias', 'cls.predictions.transform.dense.bias', 'cls.predictions.transform.LayerNorm.bias']\n",
      "- This IS expected if you are initializing BertModel from the checkpoint of a model trained on another task or with another architecture (e.g. initializing a BertForSequenceClassification model from a BertForPreTraining model).\n",
      "- This IS NOT expected if you are initializing BertModel from the checkpoint of a model that you expect to be exactly identical (initializing a BertForSequenceClassification model from a BertForSequenceClassification model).\n",
      "Warning: Baseline not Found for bert-base-multilingual-cased on ja at /home/ryoryon66/.pyenv/versions/3.9.8/lib/python3.9/site-packages/bert_score/rescale_baseline/ja/bert-base-multilingual-cased.tsv\n",
      "Some weights of the model checkpoint at bert-base-multilingual-cased were not used when initializing BertModel: ['cls.predictions.transform.dense.weight', 'cls.seq_relationship.weight', 'cls.predictions.transform.LayerNorm.weight', 'cls.predictions.bias', 'cls.seq_relationship.bias', 'cls.predictions.transform.dense.bias', 'cls.predictions.transform.LayerNorm.bias']\n",
      "- This IS expected if you are initializing BertModel from the checkpoint of a model trained on another task or with another architecture (e.g. initializing a BertForSequenceClassification model from a BertForPreTraining model).\n",
      "- This IS NOT expected if you are initializing BertModel from the checkpoint of a model that you expect to be exactly identical (initializing a BertForSequenceClassification model from a BertForSequenceClassification model).\n",
      "Warning: Baseline not Found for bert-base-multilingual-cased on ja at /home/ryoryon66/.pyenv/versions/3.9.8/lib/python3.9/site-packages/bert_score/rescale_baseline/ja/bert-base-multilingual-cased.tsv\n",
      "Some weights of the model checkpoint at bert-base-multilingual-cased were not used when initializing BertModel: ['cls.predictions.transform.dense.weight', 'cls.seq_relationship.weight', 'cls.predictions.transform.LayerNorm.weight', 'cls.predictions.bias', 'cls.seq_relationship.bias', 'cls.predictions.transform.dense.bias', 'cls.predictions.transform.LayerNorm.bias']\n",
      "- This IS expected if you are initializing BertModel from the checkpoint of a model trained on another task or with another architecture (e.g. initializing a BertForSequenceClassification model from a BertForPreTraining model).\n",
      "- This IS NOT expected if you are initializing BertModel from the checkpoint of a model that you expect to be exactly identical (initializing a BertForSequenceClassification model from a BertForSequenceClassification model).\n"
     ]
    },
    {
     "name": "stdout",
     "output_type": "stream",
     "text": [
      "hallucination pr_scores: [0.24419069290161138]\n",
      "hallucination re_scores: [0.21772650480270378]\n",
      "hallucination f1_scores: [0.23157961368560778]\n",
      "processing 72 / 100\n"
     ]
    },
    {
     "name": "stderr",
     "output_type": "stream",
     "text": [
      "Warning: Baseline not Found for bert-base-multilingual-cased on ja at /home/ryoryon66/.pyenv/versions/3.9.8/lib/python3.9/site-packages/bert_score/rescale_baseline/ja/bert-base-multilingual-cased.tsv\n",
      "/tmp/ipykernel_28939/1749957329.py:18: FutureWarning: The frame.append method is deprecated and will be removed from pandas in a future version. Use pandas.concat instead.\n",
      "  score_df = score_df.append({\n"
     ]
    },
    {
     "name": "stdout",
     "output_type": "stream",
     "text": [
      "QA20CAPR-0145 さいたま市にホームを置くJリーグチーム・レッズの正式なクラブ名称は何でしょう? レッズランドクラブです。\n",
      "\n",
      "sampled: ['レッズランドです。', '浦和レッズです。', 'レッズランドです。', 'レッズランド FC (レッズランドフットボールクラブ)です。', 'レッズランド FC浦和 埼玉県営サッカー場']\n",
      "r_sentences\n",
      "['レッズランドクラブです']\n",
      "レッズランドクラブです\n"
     ]
    },
    {
     "name": "stderr",
     "output_type": "stream",
     "text": [
      "Some weights of the model checkpoint at bert-base-multilingual-cased were not used when initializing BertModel: ['cls.predictions.transform.dense.weight', 'cls.seq_relationship.weight', 'cls.predictions.transform.LayerNorm.weight', 'cls.predictions.bias', 'cls.seq_relationship.bias', 'cls.predictions.transform.dense.bias', 'cls.predictions.transform.LayerNorm.bias']\n",
      "- This IS expected if you are initializing BertModel from the checkpoint of a model trained on another task or with another architecture (e.g. initializing a BertForSequenceClassification model from a BertForPreTraining model).\n",
      "- This IS NOT expected if you are initializing BertModel from the checkpoint of a model that you expect to be exactly identical (initializing a BertForSequenceClassification model from a BertForSequenceClassification model).\n",
      "Warning: Baseline not Found for bert-base-multilingual-cased on ja at /home/ryoryon66/.pyenv/versions/3.9.8/lib/python3.9/site-packages/bert_score/rescale_baseline/ja/bert-base-multilingual-cased.tsv\n",
      "Some weights of the model checkpoint at bert-base-multilingual-cased were not used when initializing BertModel: ['cls.predictions.transform.dense.weight', 'cls.seq_relationship.weight', 'cls.predictions.transform.LayerNorm.weight', 'cls.predictions.bias', 'cls.seq_relationship.bias', 'cls.predictions.transform.dense.bias', 'cls.predictions.transform.LayerNorm.bias']\n",
      "- This IS expected if you are initializing BertModel from the checkpoint of a model trained on another task or with another architecture (e.g. initializing a BertForSequenceClassification model from a BertForPreTraining model).\n",
      "- This IS NOT expected if you are initializing BertModel from the checkpoint of a model that you expect to be exactly identical (initializing a BertForSequenceClassification model from a BertForSequenceClassification model).\n",
      "Warning: Baseline not Found for bert-base-multilingual-cased on ja at /home/ryoryon66/.pyenv/versions/3.9.8/lib/python3.9/site-packages/bert_score/rescale_baseline/ja/bert-base-multilingual-cased.tsv\n",
      "Some weights of the model checkpoint at bert-base-multilingual-cased were not used when initializing BertModel: ['cls.predictions.transform.dense.weight', 'cls.seq_relationship.weight', 'cls.predictions.transform.LayerNorm.weight', 'cls.predictions.bias', 'cls.seq_relationship.bias', 'cls.predictions.transform.dense.bias', 'cls.predictions.transform.LayerNorm.bias']\n",
      "- This IS expected if you are initializing BertModel from the checkpoint of a model trained on another task or with another architecture (e.g. initializing a BertForSequenceClassification model from a BertForPreTraining model).\n",
      "- This IS NOT expected if you are initializing BertModel from the checkpoint of a model that you expect to be exactly identical (initializing a BertForSequenceClassification model from a BertForSequenceClassification model).\n",
      "Warning: Baseline not Found for bert-base-multilingual-cased on ja at /home/ryoryon66/.pyenv/versions/3.9.8/lib/python3.9/site-packages/bert_score/rescale_baseline/ja/bert-base-multilingual-cased.tsv\n",
      "Some weights of the model checkpoint at bert-base-multilingual-cased were not used when initializing BertModel: ['cls.predictions.transform.dense.weight', 'cls.seq_relationship.weight', 'cls.predictions.transform.LayerNorm.weight', 'cls.predictions.bias', 'cls.seq_relationship.bias', 'cls.predictions.transform.dense.bias', 'cls.predictions.transform.LayerNorm.bias']\n",
      "- This IS expected if you are initializing BertModel from the checkpoint of a model trained on another task or with another architecture (e.g. initializing a BertForSequenceClassification model from a BertForPreTraining model).\n",
      "- This IS NOT expected if you are initializing BertModel from the checkpoint of a model that you expect to be exactly identical (initializing a BertForSequenceClassification model from a BertForSequenceClassification model).\n",
      "Warning: Baseline not Found for bert-base-multilingual-cased on ja at /home/ryoryon66/.pyenv/versions/3.9.8/lib/python3.9/site-packages/bert_score/rescale_baseline/ja/bert-base-multilingual-cased.tsv\n",
      "Some weights of the model checkpoint at bert-base-multilingual-cased were not used when initializing BertModel: ['cls.predictions.transform.dense.weight', 'cls.seq_relationship.weight', 'cls.predictions.transform.LayerNorm.weight', 'cls.predictions.bias', 'cls.seq_relationship.bias', 'cls.predictions.transform.dense.bias', 'cls.predictions.transform.LayerNorm.bias']\n",
      "- This IS expected if you are initializing BertModel from the checkpoint of a model trained on another task or with another architecture (e.g. initializing a BertForSequenceClassification model from a BertForPreTraining model).\n",
      "- This IS NOT expected if you are initializing BertModel from the checkpoint of a model that you expect to be exactly identical (initializing a BertForSequenceClassification model from a BertForSequenceClassification model).\n"
     ]
    },
    {
     "name": "stdout",
     "output_type": "stream",
     "text": [
      "hallucination pr_scores: [0.15323333740234374]\n",
      "hallucination re_scores: [0.17090350389480596]\n",
      "hallucination f1_scores: [0.1630601167678834]\n",
      "processing 73 / 100\n"
     ]
    },
    {
     "name": "stderr",
     "output_type": "stream",
     "text": [
      "Warning: Baseline not Found for bert-base-multilingual-cased on ja at /home/ryoryon66/.pyenv/versions/3.9.8/lib/python3.9/site-packages/bert_score/rescale_baseline/ja/bert-base-multilingual-cased.tsv\n",
      "/tmp/ipykernel_28939/1749957329.py:18: FutureWarning: The frame.append method is deprecated and will be removed from pandas in a future version. Use pandas.concat instead.\n",
      "  score_df = score_df.append({\n"
     ]
    },
    {
     "name": "stdout",
     "output_type": "stream",
     "text": [
      "QA20CAPR-0147 1971年放送の第1作では主人公の本郷猛を藤岡弘、が演じた、長く人気を誇る特撮ドラマシリーズは何でしょう? 仮面ライダー(1971-1973)。\n",
      "\n",
      "sampled: ['帰ってきたウルトラマン(1971)', '仮面ライダー(1971〜1973) 仮面ライダー(1972〜1973) 帰ってきたウルトラマン(1973〜1974)', '仮面ライダー(1971-1973) 仮面ライダー(1972-1974) 仮面ライダースーパー1(1974-1975) 仮面ライダーJ(1975-1978) 仮面ライダーアマゾン(1974-1979) 仮面ライダーストロンガー(1975-1976) 仮面ライダークウガ(1987-2001) 仮面ライダー電王(2007-2010) 仮面ライダーオーズ(2010-2014) 仮面ライダーフォーゼ(2011-2018) 仮面ライダージオウ(2018-2019) 仮面ライダービルド(2017-2018) 仮面ライダーセイバー(2019) 仮面ライダースペクター(2020) 仮面ライダーゼロワン(2021-2022) 仮面ライダーオーズジェネシス(2021-2022) 仮面ライダー電王クライマックスフォーム(2022-2023) 仮面ライダーレーザーZ(2022-2023) 仮面ライダージオウトリニティタイムジャッカー(2022-2025', '仮面ライダー 1971年のテレビ番組。主演は藤岡弘、。 仮面ライダーシリーズの起源である。 藤岡弘、は1975年に『仮面ライダー』の第2作にも主演した。', '仮面ライダー(1972年) 仮面ライダー龍騎(1996年)']\n",
      "r_sentences\n",
      "['仮面ライダー(1971-1973)']\n",
      "仮面ライダー(1971-1973)\n"
     ]
    },
    {
     "name": "stderr",
     "output_type": "stream",
     "text": [
      "Some weights of the model checkpoint at bert-base-multilingual-cased were not used when initializing BertModel: ['cls.predictions.transform.dense.weight', 'cls.seq_relationship.weight', 'cls.predictions.transform.LayerNorm.weight', 'cls.predictions.bias', 'cls.seq_relationship.bias', 'cls.predictions.transform.dense.bias', 'cls.predictions.transform.LayerNorm.bias']\n",
      "- This IS expected if you are initializing BertModel from the checkpoint of a model trained on another task or with another architecture (e.g. initializing a BertForSequenceClassification model from a BertForPreTraining model).\n",
      "- This IS NOT expected if you are initializing BertModel from the checkpoint of a model that you expect to be exactly identical (initializing a BertForSequenceClassification model from a BertForSequenceClassification model).\n",
      "Warning: Baseline not Found for bert-base-multilingual-cased on ja at /home/ryoryon66/.pyenv/versions/3.9.8/lib/python3.9/site-packages/bert_score/rescale_baseline/ja/bert-base-multilingual-cased.tsv\n",
      "Some weights of the model checkpoint at bert-base-multilingual-cased were not used when initializing BertModel: ['cls.predictions.transform.dense.weight', 'cls.seq_relationship.weight', 'cls.predictions.transform.LayerNorm.weight', 'cls.predictions.bias', 'cls.seq_relationship.bias', 'cls.predictions.transform.dense.bias', 'cls.predictions.transform.LayerNorm.bias']\n",
      "- This IS expected if you are initializing BertModel from the checkpoint of a model trained on another task or with another architecture (e.g. initializing a BertForSequenceClassification model from a BertForPreTraining model).\n",
      "- This IS NOT expected if you are initializing BertModel from the checkpoint of a model that you expect to be exactly identical (initializing a BertForSequenceClassification model from a BertForSequenceClassification model).\n",
      "Warning: Baseline not Found for bert-base-multilingual-cased on ja at /home/ryoryon66/.pyenv/versions/3.9.8/lib/python3.9/site-packages/bert_score/rescale_baseline/ja/bert-base-multilingual-cased.tsv\n",
      "Some weights of the model checkpoint at bert-base-multilingual-cased were not used when initializing BertModel: ['cls.predictions.transform.dense.weight', 'cls.seq_relationship.weight', 'cls.predictions.transform.LayerNorm.weight', 'cls.predictions.bias', 'cls.seq_relationship.bias', 'cls.predictions.transform.dense.bias', 'cls.predictions.transform.LayerNorm.bias']\n",
      "- This IS expected if you are initializing BertModel from the checkpoint of a model trained on another task or with another architecture (e.g. initializing a BertForSequenceClassification model from a BertForPreTraining model).\n",
      "- This IS NOT expected if you are initializing BertModel from the checkpoint of a model that you expect to be exactly identical (initializing a BertForSequenceClassification model from a BertForSequenceClassification model).\n",
      "Warning: Baseline not Found for bert-base-multilingual-cased on ja at /home/ryoryon66/.pyenv/versions/3.9.8/lib/python3.9/site-packages/bert_score/rescale_baseline/ja/bert-base-multilingual-cased.tsv\n",
      "Some weights of the model checkpoint at bert-base-multilingual-cased were not used when initializing BertModel: ['cls.predictions.transform.dense.weight', 'cls.seq_relationship.weight', 'cls.predictions.transform.LayerNorm.weight', 'cls.predictions.bias', 'cls.seq_relationship.bias', 'cls.predictions.transform.dense.bias', 'cls.predictions.transform.LayerNorm.bias']\n",
      "- This IS expected if you are initializing BertModel from the checkpoint of a model trained on another task or with another architecture (e.g. initializing a BertForSequenceClassification model from a BertForPreTraining model).\n",
      "- This IS NOT expected if you are initializing BertModel from the checkpoint of a model that you expect to be exactly identical (initializing a BertForSequenceClassification model from a BertForSequenceClassification model).\n",
      "Warning: Baseline not Found for bert-base-multilingual-cased on ja at /home/ryoryon66/.pyenv/versions/3.9.8/lib/python3.9/site-packages/bert_score/rescale_baseline/ja/bert-base-multilingual-cased.tsv\n",
      "Some weights of the model checkpoint at bert-base-multilingual-cased were not used when initializing BertModel: ['cls.predictions.transform.dense.weight', 'cls.seq_relationship.weight', 'cls.predictions.transform.LayerNorm.weight', 'cls.predictions.bias', 'cls.seq_relationship.bias', 'cls.predictions.transform.dense.bias', 'cls.predictions.transform.LayerNorm.bias']\n",
      "- This IS expected if you are initializing BertModel from the checkpoint of a model trained on another task or with another architecture (e.g. initializing a BertForSequenceClassification model from a BertForPreTraining model).\n",
      "- This IS NOT expected if you are initializing BertModel from the checkpoint of a model that you expect to be exactly identical (initializing a BertForSequenceClassification model from a BertForSequenceClassification model).\n"
     ]
    },
    {
     "name": "stdout",
     "output_type": "stream",
     "text": [
      "hallucination pr_scores: [0.18274849653244024]\n",
      "hallucination re_scores: [0.23569840192794794]\n",
      "hallucination f1_scores: [0.21085190773010262]\n",
      "processing 74 / 100\n"
     ]
    },
    {
     "name": "stderr",
     "output_type": "stream",
     "text": [
      "Warning: Baseline not Found for bert-base-multilingual-cased on ja at /home/ryoryon66/.pyenv/versions/3.9.8/lib/python3.9/site-packages/bert_score/rescale_baseline/ja/bert-base-multilingual-cased.tsv\n",
      "/tmp/ipykernel_28939/1749957329.py:18: FutureWarning: The frame.append method is deprecated and will be removed from pandas in a future version. Use pandas.concat instead.\n",
      "  score_df = score_df.append({\n"
     ]
    },
    {
     "name": "stdout",
     "output_type": "stream",
     "text": [
      "QA20CAPR-0149 ネルソン・マンデラらが撤廃運動に尽力したことで知られる、南アフリカの人種隔離政策を何というでしょう? アパルトヘイト制度\n",
      "sampled: ['アパルトヘイト', 'アパルトヘイト制度', 'アパルトヘイト制度', 'アパルトヘイト制度', 'アパルトヘイト制度']\n",
      "r_sentences\n",
      "['アパルトヘイト制度']\n",
      "アパルトヘイト制度\n"
     ]
    },
    {
     "name": "stderr",
     "output_type": "stream",
     "text": [
      "Some weights of the model checkpoint at bert-base-multilingual-cased were not used when initializing BertModel: ['cls.predictions.transform.dense.weight', 'cls.seq_relationship.weight', 'cls.predictions.transform.LayerNorm.weight', 'cls.predictions.bias', 'cls.seq_relationship.bias', 'cls.predictions.transform.dense.bias', 'cls.predictions.transform.LayerNorm.bias']\n",
      "- This IS expected if you are initializing BertModel from the checkpoint of a model trained on another task or with another architecture (e.g. initializing a BertForSequenceClassification model from a BertForPreTraining model).\n",
      "- This IS NOT expected if you are initializing BertModel from the checkpoint of a model that you expect to be exactly identical (initializing a BertForSequenceClassification model from a BertForSequenceClassification model).\n",
      "Warning: Baseline not Found for bert-base-multilingual-cased on ja at /home/ryoryon66/.pyenv/versions/3.9.8/lib/python3.9/site-packages/bert_score/rescale_baseline/ja/bert-base-multilingual-cased.tsv\n",
      "Some weights of the model checkpoint at bert-base-multilingual-cased were not used when initializing BertModel: ['cls.predictions.transform.dense.weight', 'cls.seq_relationship.weight', 'cls.predictions.transform.LayerNorm.weight', 'cls.predictions.bias', 'cls.seq_relationship.bias', 'cls.predictions.transform.dense.bias', 'cls.predictions.transform.LayerNorm.bias']\n",
      "- This IS expected if you are initializing BertModel from the checkpoint of a model trained on another task or with another architecture (e.g. initializing a BertForSequenceClassification model from a BertForPreTraining model).\n",
      "- This IS NOT expected if you are initializing BertModel from the checkpoint of a model that you expect to be exactly identical (initializing a BertForSequenceClassification model from a BertForSequenceClassification model).\n",
      "Warning: Baseline not Found for bert-base-multilingual-cased on ja at /home/ryoryon66/.pyenv/versions/3.9.8/lib/python3.9/site-packages/bert_score/rescale_baseline/ja/bert-base-multilingual-cased.tsv\n",
      "Some weights of the model checkpoint at bert-base-multilingual-cased were not used when initializing BertModel: ['cls.predictions.transform.dense.weight', 'cls.seq_relationship.weight', 'cls.predictions.transform.LayerNorm.weight', 'cls.predictions.bias', 'cls.seq_relationship.bias', 'cls.predictions.transform.dense.bias', 'cls.predictions.transform.LayerNorm.bias']\n",
      "- This IS expected if you are initializing BertModel from the checkpoint of a model trained on another task or with another architecture (e.g. initializing a BertForSequenceClassification model from a BertForPreTraining model).\n",
      "- This IS NOT expected if you are initializing BertModel from the checkpoint of a model that you expect to be exactly identical (initializing a BertForSequenceClassification model from a BertForSequenceClassification model).\n",
      "Warning: Baseline not Found for bert-base-multilingual-cased on ja at /home/ryoryon66/.pyenv/versions/3.9.8/lib/python3.9/site-packages/bert_score/rescale_baseline/ja/bert-base-multilingual-cased.tsv\n",
      "Some weights of the model checkpoint at bert-base-multilingual-cased were not used when initializing BertModel: ['cls.predictions.transform.dense.weight', 'cls.seq_relationship.weight', 'cls.predictions.transform.LayerNorm.weight', 'cls.predictions.bias', 'cls.seq_relationship.bias', 'cls.predictions.transform.dense.bias', 'cls.predictions.transform.LayerNorm.bias']\n",
      "- This IS expected if you are initializing BertModel from the checkpoint of a model trained on another task or with another architecture (e.g. initializing a BertForSequenceClassification model from a BertForPreTraining model).\n",
      "- This IS NOT expected if you are initializing BertModel from the checkpoint of a model that you expect to be exactly identical (initializing a BertForSequenceClassification model from a BertForSequenceClassification model).\n",
      "Warning: Baseline not Found for bert-base-multilingual-cased on ja at /home/ryoryon66/.pyenv/versions/3.9.8/lib/python3.9/site-packages/bert_score/rescale_baseline/ja/bert-base-multilingual-cased.tsv\n",
      "Some weights of the model checkpoint at bert-base-multilingual-cased were not used when initializing BertModel: ['cls.predictions.transform.dense.weight', 'cls.seq_relationship.weight', 'cls.predictions.transform.LayerNorm.weight', 'cls.predictions.bias', 'cls.seq_relationship.bias', 'cls.predictions.transform.dense.bias', 'cls.predictions.transform.LayerNorm.bias']\n",
      "- This IS expected if you are initializing BertModel from the checkpoint of a model trained on another task or with another architecture (e.g. initializing a BertForSequenceClassification model from a BertForPreTraining model).\n",
      "- This IS NOT expected if you are initializing BertModel from the checkpoint of a model that you expect to be exactly identical (initializing a BertForSequenceClassification model from a BertForSequenceClassification model).\n"
     ]
    },
    {
     "name": "stdout",
     "output_type": "stream",
     "text": [
      "hallucination pr_scores: [0.02527668476104733]\n",
      "hallucination re_scores: [0.014929533004760798]\n",
      "hallucination f1_scores: [0.02025189399719235]\n",
      "processing 75 / 100\n"
     ]
    },
    {
     "name": "stderr",
     "output_type": "stream",
     "text": [
      "Warning: Baseline not Found for bert-base-multilingual-cased on ja at /home/ryoryon66/.pyenv/versions/3.9.8/lib/python3.9/site-packages/bert_score/rescale_baseline/ja/bert-base-multilingual-cased.tsv\n",
      "/tmp/ipykernel_28939/1749957329.py:18: FutureWarning: The frame.append method is deprecated and will be removed from pandas in a future version. Use pandas.concat instead.\n",
      "  score_df = score_df.append({\n"
     ]
    },
    {
     "name": "stdout",
     "output_type": "stream",
     "text": [
      "QA20CAPR-0151 パソコンのキーボードの上部についている、「F1」「F2」などと書かれているキーの総称は何でしょう? ファンクションキーです。\n",
      "\n",
      "sampled: ['ファンクションキーと呼ばれています。これらのキーを押すことによって、さまざまな機能を実行できます。たとえば、コンピューターやソフトウェアプログラムにログインしたり、ファイルやフォルダを開いたりすることができます。', 'ファンクションキーです。これらのキーを押すことで、さまざまな機能が実行されます。たとえば、画面上のさまざまなコントロールに移動したり、ファイルやプログラムを選択したりできます。また、タイピング中に簡単にアクセスできるように、押すだけで音が鳴ったり、点滅したりするボタンも備わっています。', 'ファンクションキーと呼ばれています。これらのキーは、主に入力作業を簡単にするためのものです。多くのコンピュータでは、キーボードの上部に1つずつあります。また、ゲームやタイピングなどの高度な機能を実行するためにも使用されます。', 'ファンクションキーです。F1、F2などのキーは、コンピュータやソフトウェアプログラムでさまざまな機能を実行するために使用されます。これらのキーを押すことによって、画面上で作業したり、ファイルを行ったりすることができます。', 'ファンクションキーです。これらは、キーボード上で多くの重要な機能を実行するために使用されます。通常、1つのキーに3つの機能が割り当てられています。これらのキーには、F1、F2、F3などがあり、それぞれに独自の役割があります。F3は通常、Windows、macOS、Linuxなどのオペレーティングシステムで使用されています。']\n",
      "r_sentences\n",
      "['ファンクションキーです']\n",
      "ファンクションキーです\n"
     ]
    },
    {
     "name": "stderr",
     "output_type": "stream",
     "text": [
      "Some weights of the model checkpoint at bert-base-multilingual-cased were not used when initializing BertModel: ['cls.predictions.transform.dense.weight', 'cls.seq_relationship.weight', 'cls.predictions.transform.LayerNorm.weight', 'cls.predictions.bias', 'cls.seq_relationship.bias', 'cls.predictions.transform.dense.bias', 'cls.predictions.transform.LayerNorm.bias']\n",
      "- This IS expected if you are initializing BertModel from the checkpoint of a model trained on another task or with another architecture (e.g. initializing a BertForSequenceClassification model from a BertForPreTraining model).\n",
      "- This IS NOT expected if you are initializing BertModel from the checkpoint of a model that you expect to be exactly identical (initializing a BertForSequenceClassification model from a BertForSequenceClassification model).\n",
      "Warning: Baseline not Found for bert-base-multilingual-cased on ja at /home/ryoryon66/.pyenv/versions/3.9.8/lib/python3.9/site-packages/bert_score/rescale_baseline/ja/bert-base-multilingual-cased.tsv\n",
      "Some weights of the model checkpoint at bert-base-multilingual-cased were not used when initializing BertModel: ['cls.predictions.transform.dense.weight', 'cls.seq_relationship.weight', 'cls.predictions.transform.LayerNorm.weight', 'cls.predictions.bias', 'cls.seq_relationship.bias', 'cls.predictions.transform.dense.bias', 'cls.predictions.transform.LayerNorm.bias']\n",
      "- This IS expected if you are initializing BertModel from the checkpoint of a model trained on another task or with another architecture (e.g. initializing a BertForSequenceClassification model from a BertForPreTraining model).\n",
      "- This IS NOT expected if you are initializing BertModel from the checkpoint of a model that you expect to be exactly identical (initializing a BertForSequenceClassification model from a BertForSequenceClassification model).\n",
      "Warning: Baseline not Found for bert-base-multilingual-cased on ja at /home/ryoryon66/.pyenv/versions/3.9.8/lib/python3.9/site-packages/bert_score/rescale_baseline/ja/bert-base-multilingual-cased.tsv\n",
      "Some weights of the model checkpoint at bert-base-multilingual-cased were not used when initializing BertModel: ['cls.predictions.transform.dense.weight', 'cls.seq_relationship.weight', 'cls.predictions.transform.LayerNorm.weight', 'cls.predictions.bias', 'cls.seq_relationship.bias', 'cls.predictions.transform.dense.bias', 'cls.predictions.transform.LayerNorm.bias']\n",
      "- This IS expected if you are initializing BertModel from the checkpoint of a model trained on another task or with another architecture (e.g. initializing a BertForSequenceClassification model from a BertForPreTraining model).\n",
      "- This IS NOT expected if you are initializing BertModel from the checkpoint of a model that you expect to be exactly identical (initializing a BertForSequenceClassification model from a BertForSequenceClassification model).\n",
      "Warning: Baseline not Found for bert-base-multilingual-cased on ja at /home/ryoryon66/.pyenv/versions/3.9.8/lib/python3.9/site-packages/bert_score/rescale_baseline/ja/bert-base-multilingual-cased.tsv\n",
      "Some weights of the model checkpoint at bert-base-multilingual-cased were not used when initializing BertModel: ['cls.predictions.transform.dense.weight', 'cls.seq_relationship.weight', 'cls.predictions.transform.LayerNorm.weight', 'cls.predictions.bias', 'cls.seq_relationship.bias', 'cls.predictions.transform.dense.bias', 'cls.predictions.transform.LayerNorm.bias']\n",
      "- This IS expected if you are initializing BertModel from the checkpoint of a model trained on another task or with another architecture (e.g. initializing a BertForSequenceClassification model from a BertForPreTraining model).\n",
      "- This IS NOT expected if you are initializing BertModel from the checkpoint of a model that you expect to be exactly identical (initializing a BertForSequenceClassification model from a BertForSequenceClassification model).\n",
      "Warning: Baseline not Found for bert-base-multilingual-cased on ja at /home/ryoryon66/.pyenv/versions/3.9.8/lib/python3.9/site-packages/bert_score/rescale_baseline/ja/bert-base-multilingual-cased.tsv\n",
      "Some weights of the model checkpoint at bert-base-multilingual-cased were not used when initializing BertModel: ['cls.predictions.transform.dense.weight', 'cls.seq_relationship.weight', 'cls.predictions.transform.LayerNorm.weight', 'cls.predictions.bias', 'cls.seq_relationship.bias', 'cls.predictions.transform.dense.bias', 'cls.predictions.transform.LayerNorm.bias']\n",
      "- This IS expected if you are initializing BertModel from the checkpoint of a model trained on another task or with another architecture (e.g. initializing a BertForSequenceClassification model from a BertForPreTraining model).\n",
      "- This IS NOT expected if you are initializing BertModel from the checkpoint of a model that you expect to be exactly identical (initializing a BertForSequenceClassification model from a BertForSequenceClassification model).\n"
     ]
    },
    {
     "name": "stdout",
     "output_type": "stream",
     "text": [
      "hallucination pr_scores: [0.039157032966613825]\n",
      "hallucination re_scores: [0.07043194770812994]\n",
      "hallucination f1_scores: [0.05550284385681148]\n",
      "processing 76 / 100\n"
     ]
    },
    {
     "name": "stderr",
     "output_type": "stream",
     "text": [
      "Warning: Baseline not Found for bert-base-multilingual-cased on ja at /home/ryoryon66/.pyenv/versions/3.9.8/lib/python3.9/site-packages/bert_score/rescale_baseline/ja/bert-base-multilingual-cased.tsv\n",
      "/tmp/ipykernel_28939/1749957329.py:18: FutureWarning: The frame.append method is deprecated and will be removed from pandas in a future version. Use pandas.concat instead.\n",
      "  score_df = score_df.append({\n"
     ]
    },
    {
     "name": "stdout",
     "output_type": "stream",
     "text": [
      "QA20CAPR-0153 野球の成績のひとつで、ピッチャーが9回投げた時の自責点の平均を表す数値は何でしょう? 3点です。\n",
      "\n",
      "sampled: ['25.5%です。', '20です。', '3です。', '奪三振数です。', '3/4です。']\n",
      "r_sentences\n",
      "['3点です']\n",
      "3点です\n"
     ]
    },
    {
     "name": "stderr",
     "output_type": "stream",
     "text": [
      "Some weights of the model checkpoint at bert-base-multilingual-cased were not used when initializing BertModel: ['cls.predictions.transform.dense.weight', 'cls.seq_relationship.weight', 'cls.predictions.transform.LayerNorm.weight', 'cls.predictions.bias', 'cls.seq_relationship.bias', 'cls.predictions.transform.dense.bias', 'cls.predictions.transform.LayerNorm.bias']\n",
      "- This IS expected if you are initializing BertModel from the checkpoint of a model trained on another task or with another architecture (e.g. initializing a BertForSequenceClassification model from a BertForPreTraining model).\n",
      "- This IS NOT expected if you are initializing BertModel from the checkpoint of a model that you expect to be exactly identical (initializing a BertForSequenceClassification model from a BertForSequenceClassification model).\n",
      "Warning: Baseline not Found for bert-base-multilingual-cased on ja at /home/ryoryon66/.pyenv/versions/3.9.8/lib/python3.9/site-packages/bert_score/rescale_baseline/ja/bert-base-multilingual-cased.tsv\n",
      "Some weights of the model checkpoint at bert-base-multilingual-cased were not used when initializing BertModel: ['cls.predictions.transform.dense.weight', 'cls.seq_relationship.weight', 'cls.predictions.transform.LayerNorm.weight', 'cls.predictions.bias', 'cls.seq_relationship.bias', 'cls.predictions.transform.dense.bias', 'cls.predictions.transform.LayerNorm.bias']\n",
      "- This IS expected if you are initializing BertModel from the checkpoint of a model trained on another task or with another architecture (e.g. initializing a BertForSequenceClassification model from a BertForPreTraining model).\n",
      "- This IS NOT expected if you are initializing BertModel from the checkpoint of a model that you expect to be exactly identical (initializing a BertForSequenceClassification model from a BertForSequenceClassification model).\n",
      "Warning: Baseline not Found for bert-base-multilingual-cased on ja at /home/ryoryon66/.pyenv/versions/3.9.8/lib/python3.9/site-packages/bert_score/rescale_baseline/ja/bert-base-multilingual-cased.tsv\n",
      "Some weights of the model checkpoint at bert-base-multilingual-cased were not used when initializing BertModel: ['cls.predictions.transform.dense.weight', 'cls.seq_relationship.weight', 'cls.predictions.transform.LayerNorm.weight', 'cls.predictions.bias', 'cls.seq_relationship.bias', 'cls.predictions.transform.dense.bias', 'cls.predictions.transform.LayerNorm.bias']\n",
      "- This IS expected if you are initializing BertModel from the checkpoint of a model trained on another task or with another architecture (e.g. initializing a BertForSequenceClassification model from a BertForPreTraining model).\n",
      "- This IS NOT expected if you are initializing BertModel from the checkpoint of a model that you expect to be exactly identical (initializing a BertForSequenceClassification model from a BertForSequenceClassification model).\n",
      "Warning: Baseline not Found for bert-base-multilingual-cased on ja at /home/ryoryon66/.pyenv/versions/3.9.8/lib/python3.9/site-packages/bert_score/rescale_baseline/ja/bert-base-multilingual-cased.tsv\n",
      "Some weights of the model checkpoint at bert-base-multilingual-cased were not used when initializing BertModel: ['cls.predictions.transform.dense.weight', 'cls.seq_relationship.weight', 'cls.predictions.transform.LayerNorm.weight', 'cls.predictions.bias', 'cls.seq_relationship.bias', 'cls.predictions.transform.dense.bias', 'cls.predictions.transform.LayerNorm.bias']\n",
      "- This IS expected if you are initializing BertModel from the checkpoint of a model trained on another task or with another architecture (e.g. initializing a BertForSequenceClassification model from a BertForPreTraining model).\n",
      "- This IS NOT expected if you are initializing BertModel from the checkpoint of a model that you expect to be exactly identical (initializing a BertForSequenceClassification model from a BertForSequenceClassification model).\n",
      "Warning: Baseline not Found for bert-base-multilingual-cased on ja at /home/ryoryon66/.pyenv/versions/3.9.8/lib/python3.9/site-packages/bert_score/rescale_baseline/ja/bert-base-multilingual-cased.tsv\n",
      "Some weights of the model checkpoint at bert-base-multilingual-cased were not used when initializing BertModel: ['cls.predictions.transform.dense.weight', 'cls.seq_relationship.weight', 'cls.predictions.transform.LayerNorm.weight', 'cls.predictions.bias', 'cls.seq_relationship.bias', 'cls.predictions.transform.dense.bias', 'cls.predictions.transform.LayerNorm.bias']\n",
      "- This IS expected if you are initializing BertModel from the checkpoint of a model trained on another task or with another architecture (e.g. initializing a BertForSequenceClassification model from a BertForPreTraining model).\n",
      "- This IS NOT expected if you are initializing BertModel from the checkpoint of a model that you expect to be exactly identical (initializing a BertForSequenceClassification model from a BertForSequenceClassification model).\n"
     ]
    },
    {
     "name": "stdout",
     "output_type": "stream",
     "text": [
      "hallucination pr_scores: [0.1397884011268615]\n",
      "hallucination re_scores: [0.14077615737915042]\n",
      "hallucination f1_scores: [0.14084583520889282]\n",
      "processing 77 / 100\n"
     ]
    },
    {
     "name": "stderr",
     "output_type": "stream",
     "text": [
      "Warning: Baseline not Found for bert-base-multilingual-cased on ja at /home/ryoryon66/.pyenv/versions/3.9.8/lib/python3.9/site-packages/bert_score/rescale_baseline/ja/bert-base-multilingual-cased.tsv\n",
      "/tmp/ipykernel_28939/1749957329.py:18: FutureWarning: The frame.append method is deprecated and will be removed from pandas in a future version. Use pandas.concat instead.\n",
      "  score_df = score_df.append({\n"
     ]
    },
    {
     "name": "stdout",
     "output_type": "stream",
     "text": [
      "QA20CAPR-0155 戊辰戦争の際に旧幕府軍が立てこもり、現在は函館市を代表する観光地となっている、星形の城郭は何でしょう? 五稜郭公園です。\n",
      "\n",
      "sampled: ['五稜郭(ごりょうかく)は、北海道函館市にある日本式洋式の城塞です。函館港を見下ろす丘陵地帯に築かれています。1868年、新政府軍は五稜郭に進軍し、激しい戦いの末に落城しました。現在、五稜郭は国の特別史跡に指定されています。', '五稜郭', '五稜郭公園です。', '五稜郭公園 五稜郭とは、函館の市街地内にある日本式の城塞で、国の特別史跡に指定されています。この要塞は、明治維新前後の一連の戦いの中心となりました。1868年5月23日に降伏した新政府軍は、約1万6千人の兵士を五稜郭に配置しましたが、最終的には徹底的な抗戦の末、降伏を余儀なくされました。五稜郭は、日本の近代化における重要な転換点であり、その後の日本政府の政策や方針にも影響を与えました。', '五稜郭(ごりょうかく)。']\n",
      "r_sentences\n",
      "['五稜郭公園です']\n",
      "五稜郭公園です\n"
     ]
    },
    {
     "name": "stderr",
     "output_type": "stream",
     "text": [
      "Some weights of the model checkpoint at bert-base-multilingual-cased were not used when initializing BertModel: ['cls.predictions.transform.dense.weight', 'cls.seq_relationship.weight', 'cls.predictions.transform.LayerNorm.weight', 'cls.predictions.bias', 'cls.seq_relationship.bias', 'cls.predictions.transform.dense.bias', 'cls.predictions.transform.LayerNorm.bias']\n",
      "- This IS expected if you are initializing BertModel from the checkpoint of a model trained on another task or with another architecture (e.g. initializing a BertForSequenceClassification model from a BertForPreTraining model).\n",
      "- This IS NOT expected if you are initializing BertModel from the checkpoint of a model that you expect to be exactly identical (initializing a BertForSequenceClassification model from a BertForSequenceClassification model).\n",
      "Warning: Baseline not Found for bert-base-multilingual-cased on ja at /home/ryoryon66/.pyenv/versions/3.9.8/lib/python3.9/site-packages/bert_score/rescale_baseline/ja/bert-base-multilingual-cased.tsv\n",
      "Some weights of the model checkpoint at bert-base-multilingual-cased were not used when initializing BertModel: ['cls.predictions.transform.dense.weight', 'cls.seq_relationship.weight', 'cls.predictions.transform.LayerNorm.weight', 'cls.predictions.bias', 'cls.seq_relationship.bias', 'cls.predictions.transform.dense.bias', 'cls.predictions.transform.LayerNorm.bias']\n",
      "- This IS expected if you are initializing BertModel from the checkpoint of a model trained on another task or with another architecture (e.g. initializing a BertForSequenceClassification model from a BertForPreTraining model).\n",
      "- This IS NOT expected if you are initializing BertModel from the checkpoint of a model that you expect to be exactly identical (initializing a BertForSequenceClassification model from a BertForSequenceClassification model).\n",
      "Warning: Baseline not Found for bert-base-multilingual-cased on ja at /home/ryoryon66/.pyenv/versions/3.9.8/lib/python3.9/site-packages/bert_score/rescale_baseline/ja/bert-base-multilingual-cased.tsv\n",
      "Some weights of the model checkpoint at bert-base-multilingual-cased were not used when initializing BertModel: ['cls.predictions.transform.dense.weight', 'cls.seq_relationship.weight', 'cls.predictions.transform.LayerNorm.weight', 'cls.predictions.bias', 'cls.seq_relationship.bias', 'cls.predictions.transform.dense.bias', 'cls.predictions.transform.LayerNorm.bias']\n",
      "- This IS expected if you are initializing BertModel from the checkpoint of a model trained on another task or with another architecture (e.g. initializing a BertForSequenceClassification model from a BertForPreTraining model).\n",
      "- This IS NOT expected if you are initializing BertModel from the checkpoint of a model that you expect to be exactly identical (initializing a BertForSequenceClassification model from a BertForSequenceClassification model).\n",
      "Warning: Baseline not Found for bert-base-multilingual-cased on ja at /home/ryoryon66/.pyenv/versions/3.9.8/lib/python3.9/site-packages/bert_score/rescale_baseline/ja/bert-base-multilingual-cased.tsv\n",
      "Some weights of the model checkpoint at bert-base-multilingual-cased were not used when initializing BertModel: ['cls.predictions.transform.dense.weight', 'cls.seq_relationship.weight', 'cls.predictions.transform.LayerNorm.weight', 'cls.predictions.bias', 'cls.seq_relationship.bias', 'cls.predictions.transform.dense.bias', 'cls.predictions.transform.LayerNorm.bias']\n",
      "- This IS expected if you are initializing BertModel from the checkpoint of a model trained on another task or with another architecture (e.g. initializing a BertForSequenceClassification model from a BertForPreTraining model).\n",
      "- This IS NOT expected if you are initializing BertModel from the checkpoint of a model that you expect to be exactly identical (initializing a BertForSequenceClassification model from a BertForSequenceClassification model).\n",
      "Warning: Baseline not Found for bert-base-multilingual-cased on ja at /home/ryoryon66/.pyenv/versions/3.9.8/lib/python3.9/site-packages/bert_score/rescale_baseline/ja/bert-base-multilingual-cased.tsv\n",
      "Some weights of the model checkpoint at bert-base-multilingual-cased were not used when initializing BertModel: ['cls.predictions.transform.dense.weight', 'cls.seq_relationship.weight', 'cls.predictions.transform.LayerNorm.weight', 'cls.predictions.bias', 'cls.seq_relationship.bias', 'cls.predictions.transform.dense.bias', 'cls.predictions.transform.LayerNorm.bias']\n",
      "- This IS expected if you are initializing BertModel from the checkpoint of a model trained on another task or with another architecture (e.g. initializing a BertForSequenceClassification model from a BertForPreTraining model).\n",
      "- This IS NOT expected if you are initializing BertModel from the checkpoint of a model that you expect to be exactly identical (initializing a BertForSequenceClassification model from a BertForSequenceClassification model).\n"
     ]
    },
    {
     "name": "stdout",
     "output_type": "stream",
     "text": [
      "hallucination pr_scores: [0.19118452072143552]\n",
      "hallucination re_scores: [0.22894686460494998]\n",
      "hallucination f1_scores: [0.21486393213272093]\n",
      "processing 78 / 100\n"
     ]
    },
    {
     "name": "stderr",
     "output_type": "stream",
     "text": [
      "Warning: Baseline not Found for bert-base-multilingual-cased on ja at /home/ryoryon66/.pyenv/versions/3.9.8/lib/python3.9/site-packages/bert_score/rescale_baseline/ja/bert-base-multilingual-cased.tsv\n",
      "/tmp/ipykernel_28939/1749957329.py:18: FutureWarning: The frame.append method is deprecated and will be removed from pandas in a future version. Use pandas.concat instead.\n",
      "  score_df = score_df.append({\n"
     ]
    },
    {
     "name": "stdout",
     "output_type": "stream",
     "text": [
      "QA20CAPR-0157 東京23区のうち、名前に「川」という漢字が使われるのは、荒川区、江戸川区とどこでしょう? 江東区です。\n",
      "\n",
      "sampled: ['江東デルタ地帯です。正解は、江戸川区、江東区、墨田区、台東区です。これらの地域はすべて、荒川、江戸川、中川によって形成された川沿いの地域にあります。', '江東区です。', '江東区です。', '江東区です。', '江東区です。']\n",
      "r_sentences\n",
      "['江東区です']\n",
      "江東区です\n"
     ]
    },
    {
     "name": "stderr",
     "output_type": "stream",
     "text": [
      "Some weights of the model checkpoint at bert-base-multilingual-cased were not used when initializing BertModel: ['cls.predictions.transform.dense.weight', 'cls.seq_relationship.weight', 'cls.predictions.transform.LayerNorm.weight', 'cls.predictions.bias', 'cls.seq_relationship.bias', 'cls.predictions.transform.dense.bias', 'cls.predictions.transform.LayerNorm.bias']\n",
      "- This IS expected if you are initializing BertModel from the checkpoint of a model trained on another task or with another architecture (e.g. initializing a BertForSequenceClassification model from a BertForPreTraining model).\n",
      "- This IS NOT expected if you are initializing BertModel from the checkpoint of a model that you expect to be exactly identical (initializing a BertForSequenceClassification model from a BertForSequenceClassification model).\n",
      "Warning: Baseline not Found for bert-base-multilingual-cased on ja at /home/ryoryon66/.pyenv/versions/3.9.8/lib/python3.9/site-packages/bert_score/rescale_baseline/ja/bert-base-multilingual-cased.tsv\n",
      "Some weights of the model checkpoint at bert-base-multilingual-cased were not used when initializing BertModel: ['cls.predictions.transform.dense.weight', 'cls.seq_relationship.weight', 'cls.predictions.transform.LayerNorm.weight', 'cls.predictions.bias', 'cls.seq_relationship.bias', 'cls.predictions.transform.dense.bias', 'cls.predictions.transform.LayerNorm.bias']\n",
      "- This IS expected if you are initializing BertModel from the checkpoint of a model trained on another task or with another architecture (e.g. initializing a BertForSequenceClassification model from a BertForPreTraining model).\n",
      "- This IS NOT expected if you are initializing BertModel from the checkpoint of a model that you expect to be exactly identical (initializing a BertForSequenceClassification model from a BertForSequenceClassification model).\n",
      "Warning: Baseline not Found for bert-base-multilingual-cased on ja at /home/ryoryon66/.pyenv/versions/3.9.8/lib/python3.9/site-packages/bert_score/rescale_baseline/ja/bert-base-multilingual-cased.tsv\n",
      "Some weights of the model checkpoint at bert-base-multilingual-cased were not used when initializing BertModel: ['cls.predictions.transform.dense.weight', 'cls.seq_relationship.weight', 'cls.predictions.transform.LayerNorm.weight', 'cls.predictions.bias', 'cls.seq_relationship.bias', 'cls.predictions.transform.dense.bias', 'cls.predictions.transform.LayerNorm.bias']\n",
      "- This IS expected if you are initializing BertModel from the checkpoint of a model trained on another task or with another architecture (e.g. initializing a BertForSequenceClassification model from a BertForPreTraining model).\n",
      "- This IS NOT expected if you are initializing BertModel from the checkpoint of a model that you expect to be exactly identical (initializing a BertForSequenceClassification model from a BertForSequenceClassification model).\n",
      "Warning: Baseline not Found for bert-base-multilingual-cased on ja at /home/ryoryon66/.pyenv/versions/3.9.8/lib/python3.9/site-packages/bert_score/rescale_baseline/ja/bert-base-multilingual-cased.tsv\n",
      "Some weights of the model checkpoint at bert-base-multilingual-cased were not used when initializing BertModel: ['cls.predictions.transform.dense.weight', 'cls.seq_relationship.weight', 'cls.predictions.transform.LayerNorm.weight', 'cls.predictions.bias', 'cls.seq_relationship.bias', 'cls.predictions.transform.dense.bias', 'cls.predictions.transform.LayerNorm.bias']\n",
      "- This IS expected if you are initializing BertModel from the checkpoint of a model trained on another task or with another architecture (e.g. initializing a BertForSequenceClassification model from a BertForPreTraining model).\n",
      "- This IS NOT expected if you are initializing BertModel from the checkpoint of a model that you expect to be exactly identical (initializing a BertForSequenceClassification model from a BertForSequenceClassification model).\n",
      "Warning: Baseline not Found for bert-base-multilingual-cased on ja at /home/ryoryon66/.pyenv/versions/3.9.8/lib/python3.9/site-packages/bert_score/rescale_baseline/ja/bert-base-multilingual-cased.tsv\n",
      "Some weights of the model checkpoint at bert-base-multilingual-cased were not used when initializing BertModel: ['cls.predictions.transform.dense.weight', 'cls.seq_relationship.weight', 'cls.predictions.transform.LayerNorm.weight', 'cls.predictions.bias', 'cls.seq_relationship.bias', 'cls.predictions.transform.dense.bias', 'cls.predictions.transform.LayerNorm.bias']\n",
      "- This IS expected if you are initializing BertModel from the checkpoint of a model trained on another task or with another architecture (e.g. initializing a BertForSequenceClassification model from a BertForPreTraining model).\n",
      "- This IS NOT expected if you are initializing BertModel from the checkpoint of a model that you expect to be exactly identical (initializing a BertForSequenceClassification model from a BertForSequenceClassification model).\n"
     ]
    },
    {
     "name": "stdout",
     "output_type": "stream",
     "text": [
      "hallucination pr_scores: [0.021737599372863736]\n",
      "hallucination re_scores: [0.040397548675537076]\n",
      "hallucination f1_scores: [0.03158285617828366]\n",
      "processing 79 / 100\n"
     ]
    },
    {
     "name": "stderr",
     "output_type": "stream",
     "text": [
      "Warning: Baseline not Found for bert-base-multilingual-cased on ja at /home/ryoryon66/.pyenv/versions/3.9.8/lib/python3.9/site-packages/bert_score/rescale_baseline/ja/bert-base-multilingual-cased.tsv\n",
      "/tmp/ipykernel_28939/1749957329.py:18: FutureWarning: The frame.append method is deprecated and will be removed from pandas in a future version. Use pandas.concat instead.\n",
      "  score_df = score_df.append({\n"
     ]
    },
    {
     "name": "stdout",
     "output_type": "stream",
     "text": [
      "QA20CAPR-0159 人間の体に最も多く含まれる金属である、原子番号20、元素記号Caの元素は何でしょう? マンガンです。\n",
      "\n",
      "sampled: ['鉄。', '鉄です。', '鉄です。', 'マンガンです。', '鉄です。']\n",
      "r_sentences\n",
      "['マンガンです']\n",
      "マンガンです\n"
     ]
    },
    {
     "name": "stderr",
     "output_type": "stream",
     "text": [
      "Some weights of the model checkpoint at bert-base-multilingual-cased were not used when initializing BertModel: ['cls.predictions.transform.dense.weight', 'cls.seq_relationship.weight', 'cls.predictions.transform.LayerNorm.weight', 'cls.predictions.bias', 'cls.seq_relationship.bias', 'cls.predictions.transform.dense.bias', 'cls.predictions.transform.LayerNorm.bias']\n",
      "- This IS expected if you are initializing BertModel from the checkpoint of a model trained on another task or with another architecture (e.g. initializing a BertForSequenceClassification model from a BertForPreTraining model).\n",
      "- This IS NOT expected if you are initializing BertModel from the checkpoint of a model that you expect to be exactly identical (initializing a BertForSequenceClassification model from a BertForSequenceClassification model).\n",
      "Warning: Baseline not Found for bert-base-multilingual-cased on ja at /home/ryoryon66/.pyenv/versions/3.9.8/lib/python3.9/site-packages/bert_score/rescale_baseline/ja/bert-base-multilingual-cased.tsv\n",
      "Some weights of the model checkpoint at bert-base-multilingual-cased were not used when initializing BertModel: ['cls.predictions.transform.dense.weight', 'cls.seq_relationship.weight', 'cls.predictions.transform.LayerNorm.weight', 'cls.predictions.bias', 'cls.seq_relationship.bias', 'cls.predictions.transform.dense.bias', 'cls.predictions.transform.LayerNorm.bias']\n",
      "- This IS expected if you are initializing BertModel from the checkpoint of a model trained on another task or with another architecture (e.g. initializing a BertForSequenceClassification model from a BertForPreTraining model).\n",
      "- This IS NOT expected if you are initializing BertModel from the checkpoint of a model that you expect to be exactly identical (initializing a BertForSequenceClassification model from a BertForSequenceClassification model).\n",
      "Warning: Baseline not Found for bert-base-multilingual-cased on ja at /home/ryoryon66/.pyenv/versions/3.9.8/lib/python3.9/site-packages/bert_score/rescale_baseline/ja/bert-base-multilingual-cased.tsv\n",
      "Some weights of the model checkpoint at bert-base-multilingual-cased were not used when initializing BertModel: ['cls.predictions.transform.dense.weight', 'cls.seq_relationship.weight', 'cls.predictions.transform.LayerNorm.weight', 'cls.predictions.bias', 'cls.seq_relationship.bias', 'cls.predictions.transform.dense.bias', 'cls.predictions.transform.LayerNorm.bias']\n",
      "- This IS expected if you are initializing BertModel from the checkpoint of a model trained on another task or with another architecture (e.g. initializing a BertForSequenceClassification model from a BertForPreTraining model).\n",
      "- This IS NOT expected if you are initializing BertModel from the checkpoint of a model that you expect to be exactly identical (initializing a BertForSequenceClassification model from a BertForSequenceClassification model).\n",
      "Warning: Baseline not Found for bert-base-multilingual-cased on ja at /home/ryoryon66/.pyenv/versions/3.9.8/lib/python3.9/site-packages/bert_score/rescale_baseline/ja/bert-base-multilingual-cased.tsv\n",
      "Some weights of the model checkpoint at bert-base-multilingual-cased were not used when initializing BertModel: ['cls.predictions.transform.dense.weight', 'cls.seq_relationship.weight', 'cls.predictions.transform.LayerNorm.weight', 'cls.predictions.bias', 'cls.seq_relationship.bias', 'cls.predictions.transform.dense.bias', 'cls.predictions.transform.LayerNorm.bias']\n",
      "- This IS expected if you are initializing BertModel from the checkpoint of a model trained on another task or with another architecture (e.g. initializing a BertForSequenceClassification model from a BertForPreTraining model).\n",
      "- This IS NOT expected if you are initializing BertModel from the checkpoint of a model that you expect to be exactly identical (initializing a BertForSequenceClassification model from a BertForSequenceClassification model).\n",
      "Warning: Baseline not Found for bert-base-multilingual-cased on ja at /home/ryoryon66/.pyenv/versions/3.9.8/lib/python3.9/site-packages/bert_score/rescale_baseline/ja/bert-base-multilingual-cased.tsv\n",
      "Some weights of the model checkpoint at bert-base-multilingual-cased were not used when initializing BertModel: ['cls.predictions.transform.dense.weight', 'cls.seq_relationship.weight', 'cls.predictions.transform.LayerNorm.weight', 'cls.predictions.bias', 'cls.seq_relationship.bias', 'cls.predictions.transform.dense.bias', 'cls.predictions.transform.LayerNorm.bias']\n",
      "- This IS expected if you are initializing BertModel from the checkpoint of a model trained on another task or with another architecture (e.g. initializing a BertForSequenceClassification model from a BertForPreTraining model).\n",
      "- This IS NOT expected if you are initializing BertModel from the checkpoint of a model that you expect to be exactly identical (initializing a BertForSequenceClassification model from a BertForSequenceClassification model).\n"
     ]
    },
    {
     "name": "stdout",
     "output_type": "stream",
     "text": [
      "hallucination pr_scores: [0.17888571023941044]\n",
      "hallucination re_scores: [0.13466663360595707]\n",
      "hallucination f1_scores: [0.15754573345184325]\n",
      "processing 80 / 100\n"
     ]
    },
    {
     "name": "stderr",
     "output_type": "stream",
     "text": [
      "Warning: Baseline not Found for bert-base-multilingual-cased on ja at /home/ryoryon66/.pyenv/versions/3.9.8/lib/python3.9/site-packages/bert_score/rescale_baseline/ja/bert-base-multilingual-cased.tsv\n",
      "/tmp/ipykernel_28939/1749957329.py:18: FutureWarning: The frame.append method is deprecated and will be removed from pandas in a future version. Use pandas.concat instead.\n",
      "  score_df = score_df.append({\n"
     ]
    },
    {
     "name": "stdout",
     "output_type": "stream",
     "text": [
      "QA20CAPR-0161 裁判官を裁判するために国会に設けられる裁判所のことを何というでしょう? 弾劾裁判所(Straight Commission)です。\n",
      "\n",
      "sampled: ['弾劾裁判所(Crown Tribunal)。弾劾裁判所とは、裁判官の法的義務や責任を損なったり無効化したりした場合に、政府によって弾劾されるための一連の機関です。弾劾裁判は、最高裁判所、控訴院、地方裁判所に設けられています。', '弾劾裁判所(Contrastate Court of Judgements)は、アメリカ全土の州や連邦政府によって設置されている弾劾裁判所です。弾劾裁判所は、下院によって行われる弾劾裁判よりも権限が弱く、上院による弾劾裁判の方がより強力な権限を持っています。弾劾裁判所は、最高裁判所に次いで重要な司法機関とされています。', '弾劾裁判所(こくれんさいばんしょ)といいます。', '弾劾裁判所。', '弾劾裁判所 最高裁判所は、憲法や判例によって制定された法律の解釈または適用について、最終的な判決を下します。最高裁判所には、多数の判事が在籍しています。最高裁判所は、憲法や判例によって制定された法律の解釈または適用について、最終的な判決を下します。']\n",
      "r_sentences\n",
      "['弾劾裁判所(Straight Commission)です']\n",
      "弾劾裁判所(Straight Commission)です\n"
     ]
    },
    {
     "name": "stderr",
     "output_type": "stream",
     "text": [
      "Some weights of the model checkpoint at bert-base-multilingual-cased were not used when initializing BertModel: ['cls.predictions.transform.dense.weight', 'cls.seq_relationship.weight', 'cls.predictions.transform.LayerNorm.weight', 'cls.predictions.bias', 'cls.seq_relationship.bias', 'cls.predictions.transform.dense.bias', 'cls.predictions.transform.LayerNorm.bias']\n",
      "- This IS expected if you are initializing BertModel from the checkpoint of a model trained on another task or with another architecture (e.g. initializing a BertForSequenceClassification model from a BertForPreTraining model).\n",
      "- This IS NOT expected if you are initializing BertModel from the checkpoint of a model that you expect to be exactly identical (initializing a BertForSequenceClassification model from a BertForSequenceClassification model).\n",
      "Warning: Baseline not Found for bert-base-multilingual-cased on ja at /home/ryoryon66/.pyenv/versions/3.9.8/lib/python3.9/site-packages/bert_score/rescale_baseline/ja/bert-base-multilingual-cased.tsv\n",
      "Some weights of the model checkpoint at bert-base-multilingual-cased were not used when initializing BertModel: ['cls.predictions.transform.dense.weight', 'cls.seq_relationship.weight', 'cls.predictions.transform.LayerNorm.weight', 'cls.predictions.bias', 'cls.seq_relationship.bias', 'cls.predictions.transform.dense.bias', 'cls.predictions.transform.LayerNorm.bias']\n",
      "- This IS expected if you are initializing BertModel from the checkpoint of a model trained on another task or with another architecture (e.g. initializing a BertForSequenceClassification model from a BertForPreTraining model).\n",
      "- This IS NOT expected if you are initializing BertModel from the checkpoint of a model that you expect to be exactly identical (initializing a BertForSequenceClassification model from a BertForSequenceClassification model).\n",
      "Warning: Baseline not Found for bert-base-multilingual-cased on ja at /home/ryoryon66/.pyenv/versions/3.9.8/lib/python3.9/site-packages/bert_score/rescale_baseline/ja/bert-base-multilingual-cased.tsv\n",
      "Some weights of the model checkpoint at bert-base-multilingual-cased were not used when initializing BertModel: ['cls.predictions.transform.dense.weight', 'cls.seq_relationship.weight', 'cls.predictions.transform.LayerNorm.weight', 'cls.predictions.bias', 'cls.seq_relationship.bias', 'cls.predictions.transform.dense.bias', 'cls.predictions.transform.LayerNorm.bias']\n",
      "- This IS expected if you are initializing BertModel from the checkpoint of a model trained on another task or with another architecture (e.g. initializing a BertForSequenceClassification model from a BertForPreTraining model).\n",
      "- This IS NOT expected if you are initializing BertModel from the checkpoint of a model that you expect to be exactly identical (initializing a BertForSequenceClassification model from a BertForSequenceClassification model).\n",
      "Warning: Baseline not Found for bert-base-multilingual-cased on ja at /home/ryoryon66/.pyenv/versions/3.9.8/lib/python3.9/site-packages/bert_score/rescale_baseline/ja/bert-base-multilingual-cased.tsv\n",
      "Some weights of the model checkpoint at bert-base-multilingual-cased were not used when initializing BertModel: ['cls.predictions.transform.dense.weight', 'cls.seq_relationship.weight', 'cls.predictions.transform.LayerNorm.weight', 'cls.predictions.bias', 'cls.seq_relationship.bias', 'cls.predictions.transform.dense.bias', 'cls.predictions.transform.LayerNorm.bias']\n",
      "- This IS expected if you are initializing BertModel from the checkpoint of a model trained on another task or with another architecture (e.g. initializing a BertForSequenceClassification model from a BertForPreTraining model).\n",
      "- This IS NOT expected if you are initializing BertModel from the checkpoint of a model that you expect to be exactly identical (initializing a BertForSequenceClassification model from a BertForSequenceClassification model).\n",
      "Warning: Baseline not Found for bert-base-multilingual-cased on ja at /home/ryoryon66/.pyenv/versions/3.9.8/lib/python3.9/site-packages/bert_score/rescale_baseline/ja/bert-base-multilingual-cased.tsv\n",
      "Some weights of the model checkpoint at bert-base-multilingual-cased were not used when initializing BertModel: ['cls.predictions.transform.dense.weight', 'cls.seq_relationship.weight', 'cls.predictions.transform.LayerNorm.weight', 'cls.predictions.bias', 'cls.seq_relationship.bias', 'cls.predictions.transform.dense.bias', 'cls.predictions.transform.LayerNorm.bias']\n",
      "- This IS expected if you are initializing BertModel from the checkpoint of a model trained on another task or with another architecture (e.g. initializing a BertForSequenceClassification model from a BertForPreTraining model).\n",
      "- This IS NOT expected if you are initializing BertModel from the checkpoint of a model that you expect to be exactly identical (initializing a BertForSequenceClassification model from a BertForSequenceClassification model).\n"
     ]
    },
    {
     "name": "stdout",
     "output_type": "stream",
     "text": [
      "hallucination pr_scores: [0.20934102535247812]\n",
      "hallucination re_scores: [0.23775817155838014]\n",
      "hallucination f1_scores: [0.22973300218582146]\n",
      "processing 81 / 100\n"
     ]
    },
    {
     "name": "stderr",
     "output_type": "stream",
     "text": [
      "Warning: Baseline not Found for bert-base-multilingual-cased on ja at /home/ryoryon66/.pyenv/versions/3.9.8/lib/python3.9/site-packages/bert_score/rescale_baseline/ja/bert-base-multilingual-cased.tsv\n",
      "/tmp/ipykernel_28939/1749957329.py:18: FutureWarning: The frame.append method is deprecated and will be removed from pandas in a future version. Use pandas.concat instead.\n",
      "  score_df = score_df.append({\n"
     ]
    },
    {
     "name": "stdout",
     "output_type": "stream",
     "text": [
      "QA20CAPR-0163 江戸時代の人物・ジョン万次郎の銅像が立っている、高知県にある四国最南端の岬は何でしょう? 足摺岬\n",
      "sampled: ['大海亀島', '佐田岬灯台', '足摺岬', '足摺岬', '足摺岬']\n",
      "r_sentences\n",
      "['足摺岬']\n",
      "足摺岬\n"
     ]
    },
    {
     "name": "stderr",
     "output_type": "stream",
     "text": [
      "Some weights of the model checkpoint at bert-base-multilingual-cased were not used when initializing BertModel: ['cls.predictions.transform.dense.weight', 'cls.seq_relationship.weight', 'cls.predictions.transform.LayerNorm.weight', 'cls.predictions.bias', 'cls.seq_relationship.bias', 'cls.predictions.transform.dense.bias', 'cls.predictions.transform.LayerNorm.bias']\n",
      "- This IS expected if you are initializing BertModel from the checkpoint of a model trained on another task or with another architecture (e.g. initializing a BertForSequenceClassification model from a BertForPreTraining model).\n",
      "- This IS NOT expected if you are initializing BertModel from the checkpoint of a model that you expect to be exactly identical (initializing a BertForSequenceClassification model from a BertForSequenceClassification model).\n",
      "Warning: Baseline not Found for bert-base-multilingual-cased on ja at /home/ryoryon66/.pyenv/versions/3.9.8/lib/python3.9/site-packages/bert_score/rescale_baseline/ja/bert-base-multilingual-cased.tsv\n",
      "Some weights of the model checkpoint at bert-base-multilingual-cased were not used when initializing BertModel: ['cls.predictions.transform.dense.weight', 'cls.seq_relationship.weight', 'cls.predictions.transform.LayerNorm.weight', 'cls.predictions.bias', 'cls.seq_relationship.bias', 'cls.predictions.transform.dense.bias', 'cls.predictions.transform.LayerNorm.bias']\n",
      "- This IS expected if you are initializing BertModel from the checkpoint of a model trained on another task or with another architecture (e.g. initializing a BertForSequenceClassification model from a BertForPreTraining model).\n",
      "- This IS NOT expected if you are initializing BertModel from the checkpoint of a model that you expect to be exactly identical (initializing a BertForSequenceClassification model from a BertForSequenceClassification model).\n",
      "Warning: Baseline not Found for bert-base-multilingual-cased on ja at /home/ryoryon66/.pyenv/versions/3.9.8/lib/python3.9/site-packages/bert_score/rescale_baseline/ja/bert-base-multilingual-cased.tsv\n",
      "Some weights of the model checkpoint at bert-base-multilingual-cased were not used when initializing BertModel: ['cls.predictions.transform.dense.weight', 'cls.seq_relationship.weight', 'cls.predictions.transform.LayerNorm.weight', 'cls.predictions.bias', 'cls.seq_relationship.bias', 'cls.predictions.transform.dense.bias', 'cls.predictions.transform.LayerNorm.bias']\n",
      "- This IS expected if you are initializing BertModel from the checkpoint of a model trained on another task or with another architecture (e.g. initializing a BertForSequenceClassification model from a BertForPreTraining model).\n",
      "- This IS NOT expected if you are initializing BertModel from the checkpoint of a model that you expect to be exactly identical (initializing a BertForSequenceClassification model from a BertForSequenceClassification model).\n",
      "Warning: Baseline not Found for bert-base-multilingual-cased on ja at /home/ryoryon66/.pyenv/versions/3.9.8/lib/python3.9/site-packages/bert_score/rescale_baseline/ja/bert-base-multilingual-cased.tsv\n",
      "Some weights of the model checkpoint at bert-base-multilingual-cased were not used when initializing BertModel: ['cls.predictions.transform.dense.weight', 'cls.seq_relationship.weight', 'cls.predictions.transform.LayerNorm.weight', 'cls.predictions.bias', 'cls.seq_relationship.bias', 'cls.predictions.transform.dense.bias', 'cls.predictions.transform.LayerNorm.bias']\n",
      "- This IS expected if you are initializing BertModel from the checkpoint of a model trained on another task or with another architecture (e.g. initializing a BertForSequenceClassification model from a BertForPreTraining model).\n",
      "- This IS NOT expected if you are initializing BertModel from the checkpoint of a model that you expect to be exactly identical (initializing a BertForSequenceClassification model from a BertForSequenceClassification model).\n",
      "Warning: Baseline not Found for bert-base-multilingual-cased on ja at /home/ryoryon66/.pyenv/versions/3.9.8/lib/python3.9/site-packages/bert_score/rescale_baseline/ja/bert-base-multilingual-cased.tsv\n",
      "Some weights of the model checkpoint at bert-base-multilingual-cased were not used when initializing BertModel: ['cls.predictions.transform.dense.weight', 'cls.seq_relationship.weight', 'cls.predictions.transform.LayerNorm.weight', 'cls.predictions.bias', 'cls.seq_relationship.bias', 'cls.predictions.transform.dense.bias', 'cls.predictions.transform.LayerNorm.bias']\n",
      "- This IS expected if you are initializing BertModel from the checkpoint of a model trained on another task or with another architecture (e.g. initializing a BertForSequenceClassification model from a BertForPreTraining model).\n",
      "- This IS NOT expected if you are initializing BertModel from the checkpoint of a model that you expect to be exactly identical (initializing a BertForSequenceClassification model from a BertForSequenceClassification model).\n"
     ]
    },
    {
     "name": "stdout",
     "output_type": "stream",
     "text": [
      "hallucination pr_scores: [0.07445214986801146]\n",
      "hallucination re_scores: [0.07865378856658928]\n",
      "hallucination f1_scores: [0.07657517194747926]\n",
      "processing 82 / 100\n"
     ]
    },
    {
     "name": "stderr",
     "output_type": "stream",
     "text": [
      "Warning: Baseline not Found for bert-base-multilingual-cased on ja at /home/ryoryon66/.pyenv/versions/3.9.8/lib/python3.9/site-packages/bert_score/rescale_baseline/ja/bert-base-multilingual-cased.tsv\n",
      "/tmp/ipykernel_28939/1749957329.py:18: FutureWarning: The frame.append method is deprecated and will be removed from pandas in a future version. Use pandas.concat instead.\n",
      "  score_df = score_df.append({\n"
     ]
    },
    {
     "name": "stdout",
     "output_type": "stream",
     "text": [
      "QA20CAPR-0165 ヒトの細胞が行う細胞分裂のうち、体細胞が行うのは体細胞分裂ですが、生殖細胞が行うのは何でしょう? 精子を作ること。\n",
      "\n",
      "sampled: ['複製です。', '卵子と精子による受精。', '卵子と精子の形成。', '胚発生です。', '精子と卵子です。']\n",
      "r_sentences\n",
      "['精子を作ること']\n",
      "精子を作ること\n"
     ]
    },
    {
     "name": "stderr",
     "output_type": "stream",
     "text": [
      "Some weights of the model checkpoint at bert-base-multilingual-cased were not used when initializing BertModel: ['cls.predictions.transform.dense.weight', 'cls.seq_relationship.weight', 'cls.predictions.transform.LayerNorm.weight', 'cls.predictions.bias', 'cls.seq_relationship.bias', 'cls.predictions.transform.dense.bias', 'cls.predictions.transform.LayerNorm.bias']\n",
      "- This IS expected if you are initializing BertModel from the checkpoint of a model trained on another task or with another architecture (e.g. initializing a BertForSequenceClassification model from a BertForPreTraining model).\n",
      "- This IS NOT expected if you are initializing BertModel from the checkpoint of a model that you expect to be exactly identical (initializing a BertForSequenceClassification model from a BertForSequenceClassification model).\n",
      "Warning: Baseline not Found for bert-base-multilingual-cased on ja at /home/ryoryon66/.pyenv/versions/3.9.8/lib/python3.9/site-packages/bert_score/rescale_baseline/ja/bert-base-multilingual-cased.tsv\n",
      "Some weights of the model checkpoint at bert-base-multilingual-cased were not used when initializing BertModel: ['cls.predictions.transform.dense.weight', 'cls.seq_relationship.weight', 'cls.predictions.transform.LayerNorm.weight', 'cls.predictions.bias', 'cls.seq_relationship.bias', 'cls.predictions.transform.dense.bias', 'cls.predictions.transform.LayerNorm.bias']\n",
      "- This IS expected if you are initializing BertModel from the checkpoint of a model trained on another task or with another architecture (e.g. initializing a BertForSequenceClassification model from a BertForPreTraining model).\n",
      "- This IS NOT expected if you are initializing BertModel from the checkpoint of a model that you expect to be exactly identical (initializing a BertForSequenceClassification model from a BertForSequenceClassification model).\n",
      "Warning: Baseline not Found for bert-base-multilingual-cased on ja at /home/ryoryon66/.pyenv/versions/3.9.8/lib/python3.9/site-packages/bert_score/rescale_baseline/ja/bert-base-multilingual-cased.tsv\n",
      "Some weights of the model checkpoint at bert-base-multilingual-cased were not used when initializing BertModel: ['cls.predictions.transform.dense.weight', 'cls.seq_relationship.weight', 'cls.predictions.transform.LayerNorm.weight', 'cls.predictions.bias', 'cls.seq_relationship.bias', 'cls.predictions.transform.dense.bias', 'cls.predictions.transform.LayerNorm.bias']\n",
      "- This IS expected if you are initializing BertModel from the checkpoint of a model trained on another task or with another architecture (e.g. initializing a BertForSequenceClassification model from a BertForPreTraining model).\n",
      "- This IS NOT expected if you are initializing BertModel from the checkpoint of a model that you expect to be exactly identical (initializing a BertForSequenceClassification model from a BertForSequenceClassification model).\n",
      "Warning: Baseline not Found for bert-base-multilingual-cased on ja at /home/ryoryon66/.pyenv/versions/3.9.8/lib/python3.9/site-packages/bert_score/rescale_baseline/ja/bert-base-multilingual-cased.tsv\n",
      "Some weights of the model checkpoint at bert-base-multilingual-cased were not used when initializing BertModel: ['cls.predictions.transform.dense.weight', 'cls.seq_relationship.weight', 'cls.predictions.transform.LayerNorm.weight', 'cls.predictions.bias', 'cls.seq_relationship.bias', 'cls.predictions.transform.dense.bias', 'cls.predictions.transform.LayerNorm.bias']\n",
      "- This IS expected if you are initializing BertModel from the checkpoint of a model trained on another task or with another architecture (e.g. initializing a BertForSequenceClassification model from a BertForPreTraining model).\n",
      "- This IS NOT expected if you are initializing BertModel from the checkpoint of a model that you expect to be exactly identical (initializing a BertForSequenceClassification model from a BertForSequenceClassification model).\n",
      "Warning: Baseline not Found for bert-base-multilingual-cased on ja at /home/ryoryon66/.pyenv/versions/3.9.8/lib/python3.9/site-packages/bert_score/rescale_baseline/ja/bert-base-multilingual-cased.tsv\n",
      "Some weights of the model checkpoint at bert-base-multilingual-cased were not used when initializing BertModel: ['cls.predictions.transform.dense.weight', 'cls.seq_relationship.weight', 'cls.predictions.transform.LayerNorm.weight', 'cls.predictions.bias', 'cls.seq_relationship.bias', 'cls.predictions.transform.dense.bias', 'cls.predictions.transform.LayerNorm.bias']\n",
      "- This IS expected if you are initializing BertModel from the checkpoint of a model trained on another task or with another architecture (e.g. initializing a BertForSequenceClassification model from a BertForPreTraining model).\n",
      "- This IS NOT expected if you are initializing BertModel from the checkpoint of a model that you expect to be exactly identical (initializing a BertForSequenceClassification model from a BertForSequenceClassification model).\n"
     ]
    },
    {
     "name": "stdout",
     "output_type": "stream",
     "text": [
      "hallucination pr_scores: [0.23165142536163327]\n",
      "hallucination re_scores: [0.21296540498733524]\n",
      "hallucination f1_scores: [0.22243618965148923]\n",
      "processing 83 / 100\n"
     ]
    },
    {
     "name": "stderr",
     "output_type": "stream",
     "text": [
      "Warning: Baseline not Found for bert-base-multilingual-cased on ja at /home/ryoryon66/.pyenv/versions/3.9.8/lib/python3.9/site-packages/bert_score/rescale_baseline/ja/bert-base-multilingual-cased.tsv\n",
      "/tmp/ipykernel_28939/1749957329.py:18: FutureWarning: The frame.append method is deprecated and will be removed from pandas in a future version. Use pandas.concat instead.\n",
      "  score_df = score_df.append({\n"
     ]
    },
    {
     "name": "stdout",
     "output_type": "stream",
     "text": [
      "QA20CAPR-0167 数学で、小文字では標準偏差を、大文字では合計を表すギリシャ文字は何でしょう? サイクリック・アベレージ・シンボル(SQR)\n",
      "sampled: ['ζ(ゼータ)です。', 'σ(シグマ)', 'σ(シグマ)', 'π(パイ)です。', 'π(パイ)です。']\n",
      "r_sentences\n",
      "['サイクリック・アベレージ・シンボル(SQR)']\n",
      "サイクリック・アベレージ・シンボル(SQR)\n"
     ]
    },
    {
     "name": "stderr",
     "output_type": "stream",
     "text": [
      "Some weights of the model checkpoint at bert-base-multilingual-cased were not used when initializing BertModel: ['cls.predictions.transform.dense.weight', 'cls.seq_relationship.weight', 'cls.predictions.transform.LayerNorm.weight', 'cls.predictions.bias', 'cls.seq_relationship.bias', 'cls.predictions.transform.dense.bias', 'cls.predictions.transform.LayerNorm.bias']\n",
      "- This IS expected if you are initializing BertModel from the checkpoint of a model trained on another task or with another architecture (e.g. initializing a BertForSequenceClassification model from a BertForPreTraining model).\n",
      "- This IS NOT expected if you are initializing BertModel from the checkpoint of a model that you expect to be exactly identical (initializing a BertForSequenceClassification model from a BertForSequenceClassification model).\n",
      "Warning: Baseline not Found for bert-base-multilingual-cased on ja at /home/ryoryon66/.pyenv/versions/3.9.8/lib/python3.9/site-packages/bert_score/rescale_baseline/ja/bert-base-multilingual-cased.tsv\n",
      "Some weights of the model checkpoint at bert-base-multilingual-cased were not used when initializing BertModel: ['cls.predictions.transform.dense.weight', 'cls.seq_relationship.weight', 'cls.predictions.transform.LayerNorm.weight', 'cls.predictions.bias', 'cls.seq_relationship.bias', 'cls.predictions.transform.dense.bias', 'cls.predictions.transform.LayerNorm.bias']\n",
      "- This IS expected if you are initializing BertModel from the checkpoint of a model trained on another task or with another architecture (e.g. initializing a BertForSequenceClassification model from a BertForPreTraining model).\n",
      "- This IS NOT expected if you are initializing BertModel from the checkpoint of a model that you expect to be exactly identical (initializing a BertForSequenceClassification model from a BertForSequenceClassification model).\n",
      "Warning: Baseline not Found for bert-base-multilingual-cased on ja at /home/ryoryon66/.pyenv/versions/3.9.8/lib/python3.9/site-packages/bert_score/rescale_baseline/ja/bert-base-multilingual-cased.tsv\n",
      "Some weights of the model checkpoint at bert-base-multilingual-cased were not used when initializing BertModel: ['cls.predictions.transform.dense.weight', 'cls.seq_relationship.weight', 'cls.predictions.transform.LayerNorm.weight', 'cls.predictions.bias', 'cls.seq_relationship.bias', 'cls.predictions.transform.dense.bias', 'cls.predictions.transform.LayerNorm.bias']\n",
      "- This IS expected if you are initializing BertModel from the checkpoint of a model trained on another task or with another architecture (e.g. initializing a BertForSequenceClassification model from a BertForPreTraining model).\n",
      "- This IS NOT expected if you are initializing BertModel from the checkpoint of a model that you expect to be exactly identical (initializing a BertForSequenceClassification model from a BertForSequenceClassification model).\n",
      "Warning: Baseline not Found for bert-base-multilingual-cased on ja at /home/ryoryon66/.pyenv/versions/3.9.8/lib/python3.9/site-packages/bert_score/rescale_baseline/ja/bert-base-multilingual-cased.tsv\n",
      "Some weights of the model checkpoint at bert-base-multilingual-cased were not used when initializing BertModel: ['cls.predictions.transform.dense.weight', 'cls.seq_relationship.weight', 'cls.predictions.transform.LayerNorm.weight', 'cls.predictions.bias', 'cls.seq_relationship.bias', 'cls.predictions.transform.dense.bias', 'cls.predictions.transform.LayerNorm.bias']\n",
      "- This IS expected if you are initializing BertModel from the checkpoint of a model trained on another task or with another architecture (e.g. initializing a BertForSequenceClassification model from a BertForPreTraining model).\n",
      "- This IS NOT expected if you are initializing BertModel from the checkpoint of a model that you expect to be exactly identical (initializing a BertForSequenceClassification model from a BertForSequenceClassification model).\n",
      "Warning: Baseline not Found for bert-base-multilingual-cased on ja at /home/ryoryon66/.pyenv/versions/3.9.8/lib/python3.9/site-packages/bert_score/rescale_baseline/ja/bert-base-multilingual-cased.tsv\n",
      "Some weights of the model checkpoint at bert-base-multilingual-cased were not used when initializing BertModel: ['cls.predictions.transform.dense.weight', 'cls.seq_relationship.weight', 'cls.predictions.transform.LayerNorm.weight', 'cls.predictions.bias', 'cls.seq_relationship.bias', 'cls.predictions.transform.dense.bias', 'cls.predictions.transform.LayerNorm.bias']\n",
      "- This IS expected if you are initializing BertModel from the checkpoint of a model trained on another task or with another architecture (e.g. initializing a BertForSequenceClassification model from a BertForPreTraining model).\n",
      "- This IS NOT expected if you are initializing BertModel from the checkpoint of a model that you expect to be exactly identical (initializing a BertForSequenceClassification model from a BertForSequenceClassification model).\n"
     ]
    },
    {
     "name": "stdout",
     "output_type": "stream",
     "text": [
      "hallucination pr_scores: [0.40932133197784415]\n",
      "hallucination re_scores: [0.3215394377708436]\n",
      "hallucination f1_scores: [0.3684833765029907]\n",
      "processing 84 / 100\n"
     ]
    },
    {
     "name": "stderr",
     "output_type": "stream",
     "text": [
      "Warning: Baseline not Found for bert-base-multilingual-cased on ja at /home/ryoryon66/.pyenv/versions/3.9.8/lib/python3.9/site-packages/bert_score/rescale_baseline/ja/bert-base-multilingual-cased.tsv\n",
      "/tmp/ipykernel_28939/1749957329.py:18: FutureWarning: The frame.append method is deprecated and will be removed from pandas in a future version. Use pandas.concat instead.\n",
      "  score_df = score_df.append({\n"
     ]
    },
    {
     "name": "stdout",
     "output_type": "stream",
     "text": [
      "QA20CAPR-0169 ネイザン・ロードやヴィクトリア・ピークなどの観光名所がある、1997年にイギリスから中国に返還された地域はどこでしょう? 香港です。\n",
      "\n",
      "sampled: ['香港島と九龍半島', '香港島', '香港', '香港 香港は1997年7月31日にイギリスから中国に返還されました。香港は、多くの素晴らしい観光地があり、人気の観光地です。', '香港']\n",
      "r_sentences\n",
      "['香港です']\n",
      "香港です\n"
     ]
    },
    {
     "name": "stderr",
     "output_type": "stream",
     "text": [
      "Some weights of the model checkpoint at bert-base-multilingual-cased were not used when initializing BertModel: ['cls.predictions.transform.dense.weight', 'cls.seq_relationship.weight', 'cls.predictions.transform.LayerNorm.weight', 'cls.predictions.bias', 'cls.seq_relationship.bias', 'cls.predictions.transform.dense.bias', 'cls.predictions.transform.LayerNorm.bias']\n",
      "- This IS expected if you are initializing BertModel from the checkpoint of a model trained on another task or with another architecture (e.g. initializing a BertForSequenceClassification model from a BertForPreTraining model).\n",
      "- This IS NOT expected if you are initializing BertModel from the checkpoint of a model that you expect to be exactly identical (initializing a BertForSequenceClassification model from a BertForSequenceClassification model).\n",
      "Warning: Baseline not Found for bert-base-multilingual-cased on ja at /home/ryoryon66/.pyenv/versions/3.9.8/lib/python3.9/site-packages/bert_score/rescale_baseline/ja/bert-base-multilingual-cased.tsv\n",
      "Some weights of the model checkpoint at bert-base-multilingual-cased were not used when initializing BertModel: ['cls.predictions.transform.dense.weight', 'cls.seq_relationship.weight', 'cls.predictions.transform.LayerNorm.weight', 'cls.predictions.bias', 'cls.seq_relationship.bias', 'cls.predictions.transform.dense.bias', 'cls.predictions.transform.LayerNorm.bias']\n",
      "- This IS expected if you are initializing BertModel from the checkpoint of a model trained on another task or with another architecture (e.g. initializing a BertForSequenceClassification model from a BertForPreTraining model).\n",
      "- This IS NOT expected if you are initializing BertModel from the checkpoint of a model that you expect to be exactly identical (initializing a BertForSequenceClassification model from a BertForSequenceClassification model).\n",
      "Warning: Baseline not Found for bert-base-multilingual-cased on ja at /home/ryoryon66/.pyenv/versions/3.9.8/lib/python3.9/site-packages/bert_score/rescale_baseline/ja/bert-base-multilingual-cased.tsv\n",
      "Some weights of the model checkpoint at bert-base-multilingual-cased were not used when initializing BertModel: ['cls.predictions.transform.dense.weight', 'cls.seq_relationship.weight', 'cls.predictions.transform.LayerNorm.weight', 'cls.predictions.bias', 'cls.seq_relationship.bias', 'cls.predictions.transform.dense.bias', 'cls.predictions.transform.LayerNorm.bias']\n",
      "- This IS expected if you are initializing BertModel from the checkpoint of a model trained on another task or with another architecture (e.g. initializing a BertForSequenceClassification model from a BertForPreTraining model).\n",
      "- This IS NOT expected if you are initializing BertModel from the checkpoint of a model that you expect to be exactly identical (initializing a BertForSequenceClassification model from a BertForSequenceClassification model).\n",
      "Warning: Baseline not Found for bert-base-multilingual-cased on ja at /home/ryoryon66/.pyenv/versions/3.9.8/lib/python3.9/site-packages/bert_score/rescale_baseline/ja/bert-base-multilingual-cased.tsv\n",
      "Some weights of the model checkpoint at bert-base-multilingual-cased were not used when initializing BertModel: ['cls.predictions.transform.dense.weight', 'cls.seq_relationship.weight', 'cls.predictions.transform.LayerNorm.weight', 'cls.predictions.bias', 'cls.seq_relationship.bias', 'cls.predictions.transform.dense.bias', 'cls.predictions.transform.LayerNorm.bias']\n",
      "- This IS expected if you are initializing BertModel from the checkpoint of a model trained on another task or with another architecture (e.g. initializing a BertForSequenceClassification model from a BertForPreTraining model).\n",
      "- This IS NOT expected if you are initializing BertModel from the checkpoint of a model that you expect to be exactly identical (initializing a BertForSequenceClassification model from a BertForSequenceClassification model).\n",
      "Warning: Baseline not Found for bert-base-multilingual-cased on ja at /home/ryoryon66/.pyenv/versions/3.9.8/lib/python3.9/site-packages/bert_score/rescale_baseline/ja/bert-base-multilingual-cased.tsv\n",
      "Some weights of the model checkpoint at bert-base-multilingual-cased were not used when initializing BertModel: ['cls.predictions.transform.dense.weight', 'cls.seq_relationship.weight', 'cls.predictions.transform.LayerNorm.weight', 'cls.predictions.bias', 'cls.seq_relationship.bias', 'cls.predictions.transform.dense.bias', 'cls.predictions.transform.LayerNorm.bias']\n",
      "- This IS expected if you are initializing BertModel from the checkpoint of a model trained on another task or with another architecture (e.g. initializing a BertForSequenceClassification model from a BertForPreTraining model).\n",
      "- This IS NOT expected if you are initializing BertModel from the checkpoint of a model that you expect to be exactly identical (initializing a BertForSequenceClassification model from a BertForSequenceClassification model).\n"
     ]
    },
    {
     "name": "stdout",
     "output_type": "stream",
     "text": [
      "hallucination pr_scores: [0.2357659220695496]\n",
      "hallucination re_scores: [0.23009610176086426]\n",
      "hallucination f1_scores: [0.23496125936508186]\n",
      "processing 85 / 100\n"
     ]
    },
    {
     "name": "stderr",
     "output_type": "stream",
     "text": [
      "Warning: Baseline not Found for bert-base-multilingual-cased on ja at /home/ryoryon66/.pyenv/versions/3.9.8/lib/python3.9/site-packages/bert_score/rescale_baseline/ja/bert-base-multilingual-cased.tsv\n",
      "/tmp/ipykernel_28939/1749957329.py:18: FutureWarning: The frame.append method is deprecated and will be removed from pandas in a future version. Use pandas.concat instead.\n",
      "  score_df = score_df.append({\n"
     ]
    },
    {
     "name": "stdout",
     "output_type": "stream",
     "text": [
      "QA20CAPR-0171 1979年に大阪・梅田に日本初のものがオープンした、客が箱型の簡易ベッドに入って就寝するタイプのホテルを何というでしょう? カプセルホテル」です。\n",
      "\n",
      "sampled: ['カプセルホテル」です。', 'グランヴィア」です。', 'カプセルホテル」と言います。', 'カプセルホテル」です。', 'インターコンチネンタルホテルズグループ 大阪マルビルホテル']\n",
      "r_sentences\n",
      "['カプセルホテル」です']\n",
      "カプセルホテル」です\n"
     ]
    },
    {
     "name": "stderr",
     "output_type": "stream",
     "text": [
      "Some weights of the model checkpoint at bert-base-multilingual-cased were not used when initializing BertModel: ['cls.predictions.transform.dense.weight', 'cls.seq_relationship.weight', 'cls.predictions.transform.LayerNorm.weight', 'cls.predictions.bias', 'cls.seq_relationship.bias', 'cls.predictions.transform.dense.bias', 'cls.predictions.transform.LayerNorm.bias']\n",
      "- This IS expected if you are initializing BertModel from the checkpoint of a model trained on another task or with another architecture (e.g. initializing a BertForSequenceClassification model from a BertForPreTraining model).\n",
      "- This IS NOT expected if you are initializing BertModel from the checkpoint of a model that you expect to be exactly identical (initializing a BertForSequenceClassification model from a BertForSequenceClassification model).\n",
      "Warning: Baseline not Found for bert-base-multilingual-cased on ja at /home/ryoryon66/.pyenv/versions/3.9.8/lib/python3.9/site-packages/bert_score/rescale_baseline/ja/bert-base-multilingual-cased.tsv\n",
      "Some weights of the model checkpoint at bert-base-multilingual-cased were not used when initializing BertModel: ['cls.predictions.transform.dense.weight', 'cls.seq_relationship.weight', 'cls.predictions.transform.LayerNorm.weight', 'cls.predictions.bias', 'cls.seq_relationship.bias', 'cls.predictions.transform.dense.bias', 'cls.predictions.transform.LayerNorm.bias']\n",
      "- This IS expected if you are initializing BertModel from the checkpoint of a model trained on another task or with another architecture (e.g. initializing a BertForSequenceClassification model from a BertForPreTraining model).\n",
      "- This IS NOT expected if you are initializing BertModel from the checkpoint of a model that you expect to be exactly identical (initializing a BertForSequenceClassification model from a BertForSequenceClassification model).\n",
      "Warning: Baseline not Found for bert-base-multilingual-cased on ja at /home/ryoryon66/.pyenv/versions/3.9.8/lib/python3.9/site-packages/bert_score/rescale_baseline/ja/bert-base-multilingual-cased.tsv\n",
      "Some weights of the model checkpoint at bert-base-multilingual-cased were not used when initializing BertModel: ['cls.predictions.transform.dense.weight', 'cls.seq_relationship.weight', 'cls.predictions.transform.LayerNorm.weight', 'cls.predictions.bias', 'cls.seq_relationship.bias', 'cls.predictions.transform.dense.bias', 'cls.predictions.transform.LayerNorm.bias']\n",
      "- This IS expected if you are initializing BertModel from the checkpoint of a model trained on another task or with another architecture (e.g. initializing a BertForSequenceClassification model from a BertForPreTraining model).\n",
      "- This IS NOT expected if you are initializing BertModel from the checkpoint of a model that you expect to be exactly identical (initializing a BertForSequenceClassification model from a BertForSequenceClassification model).\n",
      "Warning: Baseline not Found for bert-base-multilingual-cased on ja at /home/ryoryon66/.pyenv/versions/3.9.8/lib/python3.9/site-packages/bert_score/rescale_baseline/ja/bert-base-multilingual-cased.tsv\n",
      "Some weights of the model checkpoint at bert-base-multilingual-cased were not used when initializing BertModel: ['cls.predictions.transform.dense.weight', 'cls.seq_relationship.weight', 'cls.predictions.transform.LayerNorm.weight', 'cls.predictions.bias', 'cls.seq_relationship.bias', 'cls.predictions.transform.dense.bias', 'cls.predictions.transform.LayerNorm.bias']\n",
      "- This IS expected if you are initializing BertModel from the checkpoint of a model trained on another task or with another architecture (e.g. initializing a BertForSequenceClassification model from a BertForPreTraining model).\n",
      "- This IS NOT expected if you are initializing BertModel from the checkpoint of a model that you expect to be exactly identical (initializing a BertForSequenceClassification model from a BertForSequenceClassification model).\n",
      "Warning: Baseline not Found for bert-base-multilingual-cased on ja at /home/ryoryon66/.pyenv/versions/3.9.8/lib/python3.9/site-packages/bert_score/rescale_baseline/ja/bert-base-multilingual-cased.tsv\n",
      "Some weights of the model checkpoint at bert-base-multilingual-cased were not used when initializing BertModel: ['cls.predictions.transform.dense.weight', 'cls.seq_relationship.weight', 'cls.predictions.transform.LayerNorm.weight', 'cls.predictions.bias', 'cls.seq_relationship.bias', 'cls.predictions.transform.dense.bias', 'cls.predictions.transform.LayerNorm.bias']\n",
      "- This IS expected if you are initializing BertModel from the checkpoint of a model trained on another task or with another architecture (e.g. initializing a BertForSequenceClassification model from a BertForPreTraining model).\n",
      "- This IS NOT expected if you are initializing BertModel from the checkpoint of a model that you expect to be exactly identical (initializing a BertForSequenceClassification model from a BertForSequenceClassification model).\n"
     ]
    },
    {
     "name": "stdout",
     "output_type": "stream",
     "text": [
      "hallucination pr_scores: [0.11331599950790405]\n",
      "hallucination re_scores: [0.12645285129547118]\n",
      "hallucination f1_scores: [0.12011883258819583]\n",
      "processing 86 / 100\n"
     ]
    },
    {
     "name": "stderr",
     "output_type": "stream",
     "text": [
      "Warning: Baseline not Found for bert-base-multilingual-cased on ja at /home/ryoryon66/.pyenv/versions/3.9.8/lib/python3.9/site-packages/bert_score/rescale_baseline/ja/bert-base-multilingual-cased.tsv\n",
      "/tmp/ipykernel_28939/1749957329.py:18: FutureWarning: The frame.append method is deprecated and will be removed from pandas in a future version. Use pandas.concat instead.\n",
      "  score_df = score_df.append({\n"
     ]
    },
    {
     "name": "stdout",
     "output_type": "stream",
     "text": [
      "QA20CAPR-0173 英語では「マジック・スクエア」といわれる、タテ・ヨコ・ナナメの合計が同じ数になるように作られたパズルを何というでしょう? クロスワードパズル\n",
      "sampled: ['クロスワードパズル', 'クロスワードパズル', 'ジグソーパズル', 'ジグソーパズル', 'ジグソーパズル']\n",
      "r_sentences\n",
      "['クロスワードパズル']\n",
      "クロスワードパズル\n"
     ]
    },
    {
     "name": "stderr",
     "output_type": "stream",
     "text": [
      "Some weights of the model checkpoint at bert-base-multilingual-cased were not used when initializing BertModel: ['cls.predictions.transform.dense.weight', 'cls.seq_relationship.weight', 'cls.predictions.transform.LayerNorm.weight', 'cls.predictions.bias', 'cls.seq_relationship.bias', 'cls.predictions.transform.dense.bias', 'cls.predictions.transform.LayerNorm.bias']\n",
      "- This IS expected if you are initializing BertModel from the checkpoint of a model trained on another task or with another architecture (e.g. initializing a BertForSequenceClassification model from a BertForPreTraining model).\n",
      "- This IS NOT expected if you are initializing BertModel from the checkpoint of a model that you expect to be exactly identical (initializing a BertForSequenceClassification model from a BertForSequenceClassification model).\n",
      "Warning: Baseline not Found for bert-base-multilingual-cased on ja at /home/ryoryon66/.pyenv/versions/3.9.8/lib/python3.9/site-packages/bert_score/rescale_baseline/ja/bert-base-multilingual-cased.tsv\n",
      "Some weights of the model checkpoint at bert-base-multilingual-cased were not used when initializing BertModel: ['cls.predictions.transform.dense.weight', 'cls.seq_relationship.weight', 'cls.predictions.transform.LayerNorm.weight', 'cls.predictions.bias', 'cls.seq_relationship.bias', 'cls.predictions.transform.dense.bias', 'cls.predictions.transform.LayerNorm.bias']\n",
      "- This IS expected if you are initializing BertModel from the checkpoint of a model trained on another task or with another architecture (e.g. initializing a BertForSequenceClassification model from a BertForPreTraining model).\n",
      "- This IS NOT expected if you are initializing BertModel from the checkpoint of a model that you expect to be exactly identical (initializing a BertForSequenceClassification model from a BertForSequenceClassification model).\n",
      "Warning: Baseline not Found for bert-base-multilingual-cased on ja at /home/ryoryon66/.pyenv/versions/3.9.8/lib/python3.9/site-packages/bert_score/rescale_baseline/ja/bert-base-multilingual-cased.tsv\n",
      "Some weights of the model checkpoint at bert-base-multilingual-cased were not used when initializing BertModel: ['cls.predictions.transform.dense.weight', 'cls.seq_relationship.weight', 'cls.predictions.transform.LayerNorm.weight', 'cls.predictions.bias', 'cls.seq_relationship.bias', 'cls.predictions.transform.dense.bias', 'cls.predictions.transform.LayerNorm.bias']\n",
      "- This IS expected if you are initializing BertModel from the checkpoint of a model trained on another task or with another architecture (e.g. initializing a BertForSequenceClassification model from a BertForPreTraining model).\n",
      "- This IS NOT expected if you are initializing BertModel from the checkpoint of a model that you expect to be exactly identical (initializing a BertForSequenceClassification model from a BertForSequenceClassification model).\n",
      "Warning: Baseline not Found for bert-base-multilingual-cased on ja at /home/ryoryon66/.pyenv/versions/3.9.8/lib/python3.9/site-packages/bert_score/rescale_baseline/ja/bert-base-multilingual-cased.tsv\n",
      "Some weights of the model checkpoint at bert-base-multilingual-cased were not used when initializing BertModel: ['cls.predictions.transform.dense.weight', 'cls.seq_relationship.weight', 'cls.predictions.transform.LayerNorm.weight', 'cls.predictions.bias', 'cls.seq_relationship.bias', 'cls.predictions.transform.dense.bias', 'cls.predictions.transform.LayerNorm.bias']\n",
      "- This IS expected if you are initializing BertModel from the checkpoint of a model trained on another task or with another architecture (e.g. initializing a BertForSequenceClassification model from a BertForPreTraining model).\n",
      "- This IS NOT expected if you are initializing BertModel from the checkpoint of a model that you expect to be exactly identical (initializing a BertForSequenceClassification model from a BertForSequenceClassification model).\n",
      "Warning: Baseline not Found for bert-base-multilingual-cased on ja at /home/ryoryon66/.pyenv/versions/3.9.8/lib/python3.9/site-packages/bert_score/rescale_baseline/ja/bert-base-multilingual-cased.tsv\n",
      "Some weights of the model checkpoint at bert-base-multilingual-cased were not used when initializing BertModel: ['cls.predictions.transform.dense.weight', 'cls.seq_relationship.weight', 'cls.predictions.transform.LayerNorm.weight', 'cls.predictions.bias', 'cls.seq_relationship.bias', 'cls.predictions.transform.dense.bias', 'cls.predictions.transform.LayerNorm.bias']\n",
      "- This IS expected if you are initializing BertModel from the checkpoint of a model trained on another task or with another architecture (e.g. initializing a BertForSequenceClassification model from a BertForPreTraining model).\n",
      "- This IS NOT expected if you are initializing BertModel from the checkpoint of a model that you expect to be exactly identical (initializing a BertForSequenceClassification model from a BertForSequenceClassification model).\n"
     ]
    },
    {
     "name": "stdout",
     "output_type": "stream",
     "text": [
      "hallucination pr_scores: [0.07193895578384407]\n",
      "hallucination re_scores: [0.0854784607887269]\n",
      "hallucination f1_scores: [0.07879661321640027]\n",
      "processing 87 / 100\n"
     ]
    },
    {
     "name": "stderr",
     "output_type": "stream",
     "text": [
      "Warning: Baseline not Found for bert-base-multilingual-cased on ja at /home/ryoryon66/.pyenv/versions/3.9.8/lib/python3.9/site-packages/bert_score/rescale_baseline/ja/bert-base-multilingual-cased.tsv\n",
      "/tmp/ipykernel_28939/1749957329.py:18: FutureWarning: The frame.append method is deprecated and will be removed from pandas in a future version. Use pandas.concat instead.\n",
      "  score_df = score_df.append({\n"
     ]
    },
    {
     "name": "stdout",
     "output_type": "stream",
     "text": [
      "QA20CAPR-0175 お笑いコンビ・オリエンタルラジオを中心に結成された、ヒット曲『PERFECT HUMAN』で知られるダンス&ボーカルユニットは何でしょう? RADIO FISHです。\n",
      "\n",
      "sampled: ['RADIO FISH(レディオフィッシュ)です。', 'RADIO FISHです。', 'RADIO FISH', 'RADIO FISHです。', 'RADIO FISH(レディオフィッシュ)です。']\n",
      "r_sentences\n",
      "['RADIO FISHです']\n",
      "RADIO FISHです\n"
     ]
    },
    {
     "name": "stderr",
     "output_type": "stream",
     "text": [
      "Some weights of the model checkpoint at bert-base-multilingual-cased were not used when initializing BertModel: ['cls.predictions.transform.dense.weight', 'cls.seq_relationship.weight', 'cls.predictions.transform.LayerNorm.weight', 'cls.predictions.bias', 'cls.seq_relationship.bias', 'cls.predictions.transform.dense.bias', 'cls.predictions.transform.LayerNorm.bias']\n",
      "- This IS expected if you are initializing BertModel from the checkpoint of a model trained on another task or with another architecture (e.g. initializing a BertForSequenceClassification model from a BertForPreTraining model).\n",
      "- This IS NOT expected if you are initializing BertModel from the checkpoint of a model that you expect to be exactly identical (initializing a BertForSequenceClassification model from a BertForSequenceClassification model).\n",
      "Warning: Baseline not Found for bert-base-multilingual-cased on ja at /home/ryoryon66/.pyenv/versions/3.9.8/lib/python3.9/site-packages/bert_score/rescale_baseline/ja/bert-base-multilingual-cased.tsv\n",
      "Some weights of the model checkpoint at bert-base-multilingual-cased were not used when initializing BertModel: ['cls.predictions.transform.dense.weight', 'cls.seq_relationship.weight', 'cls.predictions.transform.LayerNorm.weight', 'cls.predictions.bias', 'cls.seq_relationship.bias', 'cls.predictions.transform.dense.bias', 'cls.predictions.transform.LayerNorm.bias']\n",
      "- This IS expected if you are initializing BertModel from the checkpoint of a model trained on another task or with another architecture (e.g. initializing a BertForSequenceClassification model from a BertForPreTraining model).\n",
      "- This IS NOT expected if you are initializing BertModel from the checkpoint of a model that you expect to be exactly identical (initializing a BertForSequenceClassification model from a BertForSequenceClassification model).\n",
      "Warning: Baseline not Found for bert-base-multilingual-cased on ja at /home/ryoryon66/.pyenv/versions/3.9.8/lib/python3.9/site-packages/bert_score/rescale_baseline/ja/bert-base-multilingual-cased.tsv\n",
      "Some weights of the model checkpoint at bert-base-multilingual-cased were not used when initializing BertModel: ['cls.predictions.transform.dense.weight', 'cls.seq_relationship.weight', 'cls.predictions.transform.LayerNorm.weight', 'cls.predictions.bias', 'cls.seq_relationship.bias', 'cls.predictions.transform.dense.bias', 'cls.predictions.transform.LayerNorm.bias']\n",
      "- This IS expected if you are initializing BertModel from the checkpoint of a model trained on another task or with another architecture (e.g. initializing a BertForSequenceClassification model from a BertForPreTraining model).\n",
      "- This IS NOT expected if you are initializing BertModel from the checkpoint of a model that you expect to be exactly identical (initializing a BertForSequenceClassification model from a BertForSequenceClassification model).\n",
      "Warning: Baseline not Found for bert-base-multilingual-cased on ja at /home/ryoryon66/.pyenv/versions/3.9.8/lib/python3.9/site-packages/bert_score/rescale_baseline/ja/bert-base-multilingual-cased.tsv\n",
      "Some weights of the model checkpoint at bert-base-multilingual-cased were not used when initializing BertModel: ['cls.predictions.transform.dense.weight', 'cls.seq_relationship.weight', 'cls.predictions.transform.LayerNorm.weight', 'cls.predictions.bias', 'cls.seq_relationship.bias', 'cls.predictions.transform.dense.bias', 'cls.predictions.transform.LayerNorm.bias']\n",
      "- This IS expected if you are initializing BertModel from the checkpoint of a model trained on another task or with another architecture (e.g. initializing a BertForSequenceClassification model from a BertForPreTraining model).\n",
      "- This IS NOT expected if you are initializing BertModel from the checkpoint of a model that you expect to be exactly identical (initializing a BertForSequenceClassification model from a BertForSequenceClassification model).\n",
      "Warning: Baseline not Found for bert-base-multilingual-cased on ja at /home/ryoryon66/.pyenv/versions/3.9.8/lib/python3.9/site-packages/bert_score/rescale_baseline/ja/bert-base-multilingual-cased.tsv\n",
      "Some weights of the model checkpoint at bert-base-multilingual-cased were not used when initializing BertModel: ['cls.predictions.transform.dense.weight', 'cls.seq_relationship.weight', 'cls.predictions.transform.LayerNorm.weight', 'cls.predictions.bias', 'cls.seq_relationship.bias', 'cls.predictions.transform.dense.bias', 'cls.predictions.transform.LayerNorm.bias']\n",
      "- This IS expected if you are initializing BertModel from the checkpoint of a model trained on another task or with another architecture (e.g. initializing a BertForSequenceClassification model from a BertForPreTraining model).\n",
      "- This IS NOT expected if you are initializing BertModel from the checkpoint of a model that you expect to be exactly identical (initializing a BertForSequenceClassification model from a BertForSequenceClassification model).\n"
     ]
    },
    {
     "name": "stdout",
     "output_type": "stream",
     "text": [
      "hallucination pr_scores: [0.07059094905853269]\n",
      "hallucination re_scores: [0.1155322313308716]\n",
      "hallucination f1_scores: [0.09609657526016238]\n",
      "processing 88 / 100\n"
     ]
    },
    {
     "name": "stderr",
     "output_type": "stream",
     "text": [
      "Warning: Baseline not Found for bert-base-multilingual-cased on ja at /home/ryoryon66/.pyenv/versions/3.9.8/lib/python3.9/site-packages/bert_score/rescale_baseline/ja/bert-base-multilingual-cased.tsv\n",
      "/tmp/ipykernel_28939/1749957329.py:18: FutureWarning: The frame.append method is deprecated and will be removed from pandas in a future version. Use pandas.concat instead.\n",
      "  score_df = score_df.append({\n"
     ]
    },
    {
     "name": "stdout",
     "output_type": "stream",
     "text": [
      "QA20CAPR-0177 体を切られても生き続けることから、「ハンザキ」という別名を持つ天然記念物は何でしょう? マンドリルの骨格標本です。\n",
      "\n",
      "sampled: ['ヤナギラン', 'ライチョウ', 'コウノトリのひな、コハクチョウ、ガンなどの鳥たちです。彼らは、体の一部を切られたり、巣から落ちたりしても、傷口や軟骨が修復され、ほぼ完全に回復します。それにより、損傷した組織を補修した後、再び繁殖することができます。', 'マングローブガニ', 'マングローブの森。']\n",
      "r_sentences\n",
      "['マンドリルの骨格標本です']\n",
      "マンドリルの骨格標本です\n"
     ]
    },
    {
     "name": "stderr",
     "output_type": "stream",
     "text": [
      "Some weights of the model checkpoint at bert-base-multilingual-cased were not used when initializing BertModel: ['cls.predictions.transform.dense.weight', 'cls.seq_relationship.weight', 'cls.predictions.transform.LayerNorm.weight', 'cls.predictions.bias', 'cls.seq_relationship.bias', 'cls.predictions.transform.dense.bias', 'cls.predictions.transform.LayerNorm.bias']\n",
      "- This IS expected if you are initializing BertModel from the checkpoint of a model trained on another task or with another architecture (e.g. initializing a BertForSequenceClassification model from a BertForPreTraining model).\n",
      "- This IS NOT expected if you are initializing BertModel from the checkpoint of a model that you expect to be exactly identical (initializing a BertForSequenceClassification model from a BertForSequenceClassification model).\n",
      "Warning: Baseline not Found for bert-base-multilingual-cased on ja at /home/ryoryon66/.pyenv/versions/3.9.8/lib/python3.9/site-packages/bert_score/rescale_baseline/ja/bert-base-multilingual-cased.tsv\n",
      "Some weights of the model checkpoint at bert-base-multilingual-cased were not used when initializing BertModel: ['cls.predictions.transform.dense.weight', 'cls.seq_relationship.weight', 'cls.predictions.transform.LayerNorm.weight', 'cls.predictions.bias', 'cls.seq_relationship.bias', 'cls.predictions.transform.dense.bias', 'cls.predictions.transform.LayerNorm.bias']\n",
      "- This IS expected if you are initializing BertModel from the checkpoint of a model trained on another task or with another architecture (e.g. initializing a BertForSequenceClassification model from a BertForPreTraining model).\n",
      "- This IS NOT expected if you are initializing BertModel from the checkpoint of a model that you expect to be exactly identical (initializing a BertForSequenceClassification model from a BertForSequenceClassification model).\n",
      "Warning: Baseline not Found for bert-base-multilingual-cased on ja at /home/ryoryon66/.pyenv/versions/3.9.8/lib/python3.9/site-packages/bert_score/rescale_baseline/ja/bert-base-multilingual-cased.tsv\n",
      "Some weights of the model checkpoint at bert-base-multilingual-cased were not used when initializing BertModel: ['cls.predictions.transform.dense.weight', 'cls.seq_relationship.weight', 'cls.predictions.transform.LayerNorm.weight', 'cls.predictions.bias', 'cls.seq_relationship.bias', 'cls.predictions.transform.dense.bias', 'cls.predictions.transform.LayerNorm.bias']\n",
      "- This IS expected if you are initializing BertModel from the checkpoint of a model trained on another task or with another architecture (e.g. initializing a BertForSequenceClassification model from a BertForPreTraining model).\n",
      "- This IS NOT expected if you are initializing BertModel from the checkpoint of a model that you expect to be exactly identical (initializing a BertForSequenceClassification model from a BertForSequenceClassification model).\n",
      "Warning: Baseline not Found for bert-base-multilingual-cased on ja at /home/ryoryon66/.pyenv/versions/3.9.8/lib/python3.9/site-packages/bert_score/rescale_baseline/ja/bert-base-multilingual-cased.tsv\n",
      "Some weights of the model checkpoint at bert-base-multilingual-cased were not used when initializing BertModel: ['cls.predictions.transform.dense.weight', 'cls.seq_relationship.weight', 'cls.predictions.transform.LayerNorm.weight', 'cls.predictions.bias', 'cls.seq_relationship.bias', 'cls.predictions.transform.dense.bias', 'cls.predictions.transform.LayerNorm.bias']\n",
      "- This IS expected if you are initializing BertModel from the checkpoint of a model trained on another task or with another architecture (e.g. initializing a BertForSequenceClassification model from a BertForPreTraining model).\n",
      "- This IS NOT expected if you are initializing BertModel from the checkpoint of a model that you expect to be exactly identical (initializing a BertForSequenceClassification model from a BertForSequenceClassification model).\n",
      "Warning: Baseline not Found for bert-base-multilingual-cased on ja at /home/ryoryon66/.pyenv/versions/3.9.8/lib/python3.9/site-packages/bert_score/rescale_baseline/ja/bert-base-multilingual-cased.tsv\n",
      "Some weights of the model checkpoint at bert-base-multilingual-cased were not used when initializing BertModel: ['cls.predictions.transform.dense.weight', 'cls.seq_relationship.weight', 'cls.predictions.transform.LayerNorm.weight', 'cls.predictions.bias', 'cls.seq_relationship.bias', 'cls.predictions.transform.dense.bias', 'cls.predictions.transform.LayerNorm.bias']\n",
      "- This IS expected if you are initializing BertModel from the checkpoint of a model trained on another task or with another architecture (e.g. initializing a BertForSequenceClassification model from a BertForPreTraining model).\n",
      "- This IS NOT expected if you are initializing BertModel from the checkpoint of a model that you expect to be exactly identical (initializing a BertForSequenceClassification model from a BertForSequenceClassification model).\n"
     ]
    },
    {
     "name": "stdout",
     "output_type": "stream",
     "text": [
      "hallucination pr_scores: [0.32054331302642813]\n",
      "hallucination re_scores: [0.3073986768722533]\n",
      "hallucination f1_scores: [0.3144965887069702]\n",
      "processing 89 / 100\n"
     ]
    },
    {
     "name": "stderr",
     "output_type": "stream",
     "text": [
      "Warning: Baseline not Found for bert-base-multilingual-cased on ja at /home/ryoryon66/.pyenv/versions/3.9.8/lib/python3.9/site-packages/bert_score/rescale_baseline/ja/bert-base-multilingual-cased.tsv\n",
      "/tmp/ipykernel_28939/1749957329.py:18: FutureWarning: The frame.append method is deprecated and will be removed from pandas in a future version. Use pandas.concat instead.\n",
      "  score_df = score_df.append({\n"
     ]
    },
    {
     "name": "stdout",
     "output_type": "stream",
     "text": [
      "QA20CAPR-0179 2008年に起こった世界的な金融危機のことを、きっかけとなったアメリカの投資銀行の名前から「何ショック」というでしょう? リーマン・ショック\n",
      "sampled: ['リーマン・ブラザーズ証券会社破綻事件', 'リーマン・ブラザーズ証券会社破綻、2008年。', 'サブプライムローン問題 2008年の世界的な金融危機は、アメリカに深刻な影響を与えました。住宅ローンの焦げ付きや不良債権が主要な原因となり、投資家たちは急激に貸し手からの資金を引き揚げ、金融市場全体が暴落しました。この金融危機により、経済と金融の中心であるニューヨーク証券取引所が閉鎖され、アメリカ全土に波及しました。', 'サブプライムローン問題 2008年の世界金融危機は、米国の投資銀行であるリーマン・ブラザーズが破綻したことによって起こりました。これにより、世界中の株式や債券市場が大暴落し、その後、金融危機は世界の多くの国々に広がりました。', 'リーマン・ブラザーズ・破綻(2008年)']\n",
      "r_sentences\n",
      "['リーマン・ショック']\n",
      "リーマン・ショック\n"
     ]
    },
    {
     "name": "stderr",
     "output_type": "stream",
     "text": [
      "Some weights of the model checkpoint at bert-base-multilingual-cased were not used when initializing BertModel: ['cls.predictions.transform.dense.weight', 'cls.seq_relationship.weight', 'cls.predictions.transform.LayerNorm.weight', 'cls.predictions.bias', 'cls.seq_relationship.bias', 'cls.predictions.transform.dense.bias', 'cls.predictions.transform.LayerNorm.bias']\n",
      "- This IS expected if you are initializing BertModel from the checkpoint of a model trained on another task or with another architecture (e.g. initializing a BertForSequenceClassification model from a BertForPreTraining model).\n",
      "- This IS NOT expected if you are initializing BertModel from the checkpoint of a model that you expect to be exactly identical (initializing a BertForSequenceClassification model from a BertForSequenceClassification model).\n",
      "Warning: Baseline not Found for bert-base-multilingual-cased on ja at /home/ryoryon66/.pyenv/versions/3.9.8/lib/python3.9/site-packages/bert_score/rescale_baseline/ja/bert-base-multilingual-cased.tsv\n",
      "Some weights of the model checkpoint at bert-base-multilingual-cased were not used when initializing BertModel: ['cls.predictions.transform.dense.weight', 'cls.seq_relationship.weight', 'cls.predictions.transform.LayerNorm.weight', 'cls.predictions.bias', 'cls.seq_relationship.bias', 'cls.predictions.transform.dense.bias', 'cls.predictions.transform.LayerNorm.bias']\n",
      "- This IS expected if you are initializing BertModel from the checkpoint of a model trained on another task or with another architecture (e.g. initializing a BertForSequenceClassification model from a BertForPreTraining model).\n",
      "- This IS NOT expected if you are initializing BertModel from the checkpoint of a model that you expect to be exactly identical (initializing a BertForSequenceClassification model from a BertForSequenceClassification model).\n",
      "Warning: Baseline not Found for bert-base-multilingual-cased on ja at /home/ryoryon66/.pyenv/versions/3.9.8/lib/python3.9/site-packages/bert_score/rescale_baseline/ja/bert-base-multilingual-cased.tsv\n",
      "Some weights of the model checkpoint at bert-base-multilingual-cased were not used when initializing BertModel: ['cls.predictions.transform.dense.weight', 'cls.seq_relationship.weight', 'cls.predictions.transform.LayerNorm.weight', 'cls.predictions.bias', 'cls.seq_relationship.bias', 'cls.predictions.transform.dense.bias', 'cls.predictions.transform.LayerNorm.bias']\n",
      "- This IS expected if you are initializing BertModel from the checkpoint of a model trained on another task or with another architecture (e.g. initializing a BertForSequenceClassification model from a BertForPreTraining model).\n",
      "- This IS NOT expected if you are initializing BertModel from the checkpoint of a model that you expect to be exactly identical (initializing a BertForSequenceClassification model from a BertForSequenceClassification model).\n",
      "Warning: Baseline not Found for bert-base-multilingual-cased on ja at /home/ryoryon66/.pyenv/versions/3.9.8/lib/python3.9/site-packages/bert_score/rescale_baseline/ja/bert-base-multilingual-cased.tsv\n",
      "Some weights of the model checkpoint at bert-base-multilingual-cased were not used when initializing BertModel: ['cls.predictions.transform.dense.weight', 'cls.seq_relationship.weight', 'cls.predictions.transform.LayerNorm.weight', 'cls.predictions.bias', 'cls.seq_relationship.bias', 'cls.predictions.transform.dense.bias', 'cls.predictions.transform.LayerNorm.bias']\n",
      "- This IS expected if you are initializing BertModel from the checkpoint of a model trained on another task or with another architecture (e.g. initializing a BertForSequenceClassification model from a BertForPreTraining model).\n",
      "- This IS NOT expected if you are initializing BertModel from the checkpoint of a model that you expect to be exactly identical (initializing a BertForSequenceClassification model from a BertForSequenceClassification model).\n",
      "Warning: Baseline not Found for bert-base-multilingual-cased on ja at /home/ryoryon66/.pyenv/versions/3.9.8/lib/python3.9/site-packages/bert_score/rescale_baseline/ja/bert-base-multilingual-cased.tsv\n",
      "Some weights of the model checkpoint at bert-base-multilingual-cased were not used when initializing BertModel: ['cls.predictions.transform.dense.weight', 'cls.seq_relationship.weight', 'cls.predictions.transform.LayerNorm.weight', 'cls.predictions.bias', 'cls.seq_relationship.bias', 'cls.predictions.transform.dense.bias', 'cls.predictions.transform.LayerNorm.bias']\n",
      "- This IS expected if you are initializing BertModel from the checkpoint of a model trained on another task or with another architecture (e.g. initializing a BertForSequenceClassification model from a BertForPreTraining model).\n",
      "- This IS NOT expected if you are initializing BertModel from the checkpoint of a model that you expect to be exactly identical (initializing a BertForSequenceClassification model from a BertForSequenceClassification model).\n"
     ]
    },
    {
     "name": "stdout",
     "output_type": "stream",
     "text": [
      "hallucination pr_scores: [0.22612656354904176]\n",
      "hallucination re_scores: [0.3268705725669861]\n",
      "hallucination f1_scores: [0.28013836145401005]\n",
      "processing 90 / 100\n"
     ]
    },
    {
     "name": "stderr",
     "output_type": "stream",
     "text": [
      "Warning: Baseline not Found for bert-base-multilingual-cased on ja at /home/ryoryon66/.pyenv/versions/3.9.8/lib/python3.9/site-packages/bert_score/rescale_baseline/ja/bert-base-multilingual-cased.tsv\n",
      "/tmp/ipykernel_28939/1749957329.py:18: FutureWarning: The frame.append method is deprecated and will be removed from pandas in a future version. Use pandas.concat instead.\n",
      "  score_df = score_df.append({\n"
     ]
    },
    {
     "name": "stdout",
     "output_type": "stream",
     "text": [
      "QA20CAPR-0181 オランダ語で「ロバ」という意味がある、絵を描くときにキャンバスを立てかける三脚の台を何というでしょう? スツール・デ・コルヌ・ロバ・スタンド・セット オランダ語で「ロバ」という意味がある、絵を描くときにキャンバスを立てかける三脚の台を何というでしょうか? スツール・デ・コルヌ・ロバ・スタンド・セットです。\n",
      "\n",
      "sampled: ['ロッキング・スタンド・アート・マンダーバウム', 'ロッキングチェア、スタンドアップ・キャビン、またはロッキングスツールなどがあります。', 'ブロックステッキスタンド オランダ語で「ロバ」という意味がある、絵を描くときにキャンバスを立てかける三脚の台をブロックステッキスタンドといいます。', 'ロッキング・チェア オランダ語で「ロバ」という意味がある、絵を描くときにキャンバスを立てかける三脚の台を何というでしょう? ロッキング・チェアです。', 'ライティング・スタンド(laying-stand)といいます。']\n",
      "r_sentences\n",
      "['スツール・デ・コルヌ・ロバ・スタンド・セット オランダ語で「ロバ」という意味がある、絵を描くときにキャンバスを立てかける三脚の台を何というでしょうか', ' スツール・デ・コルヌ・ロバ・スタンド・セットです']\n",
      "スツール・デ・コルヌ・ロバ・スタンド・セット オランダ語で「ロバ」という意味がある、絵を描くときにキャンバスを立てかける三脚の台を何というでしょうか\n"
     ]
    },
    {
     "name": "stderr",
     "output_type": "stream",
     "text": [
      "Some weights of the model checkpoint at bert-base-multilingual-cased were not used when initializing BertModel: ['cls.predictions.transform.dense.weight', 'cls.seq_relationship.weight', 'cls.predictions.transform.LayerNorm.weight', 'cls.predictions.bias', 'cls.seq_relationship.bias', 'cls.predictions.transform.dense.bias', 'cls.predictions.transform.LayerNorm.bias']\n",
      "- This IS expected if you are initializing BertModel from the checkpoint of a model trained on another task or with another architecture (e.g. initializing a BertForSequenceClassification model from a BertForPreTraining model).\n",
      "- This IS NOT expected if you are initializing BertModel from the checkpoint of a model that you expect to be exactly identical (initializing a BertForSequenceClassification model from a BertForSequenceClassification model).\n",
      "Warning: Baseline not Found for bert-base-multilingual-cased on ja at /home/ryoryon66/.pyenv/versions/3.9.8/lib/python3.9/site-packages/bert_score/rescale_baseline/ja/bert-base-multilingual-cased.tsv\n",
      "Some weights of the model checkpoint at bert-base-multilingual-cased were not used when initializing BertModel: ['cls.predictions.transform.dense.weight', 'cls.seq_relationship.weight', 'cls.predictions.transform.LayerNorm.weight', 'cls.predictions.bias', 'cls.seq_relationship.bias', 'cls.predictions.transform.dense.bias', 'cls.predictions.transform.LayerNorm.bias']\n",
      "- This IS expected if you are initializing BertModel from the checkpoint of a model trained on another task or with another architecture (e.g. initializing a BertForSequenceClassification model from a BertForPreTraining model).\n",
      "- This IS NOT expected if you are initializing BertModel from the checkpoint of a model that you expect to be exactly identical (initializing a BertForSequenceClassification model from a BertForSequenceClassification model).\n",
      "Warning: Baseline not Found for bert-base-multilingual-cased on ja at /home/ryoryon66/.pyenv/versions/3.9.8/lib/python3.9/site-packages/bert_score/rescale_baseline/ja/bert-base-multilingual-cased.tsv\n",
      "Some weights of the model checkpoint at bert-base-multilingual-cased were not used when initializing BertModel: ['cls.predictions.transform.dense.weight', 'cls.seq_relationship.weight', 'cls.predictions.transform.LayerNorm.weight', 'cls.predictions.bias', 'cls.seq_relationship.bias', 'cls.predictions.transform.dense.bias', 'cls.predictions.transform.LayerNorm.bias']\n",
      "- This IS expected if you are initializing BertModel from the checkpoint of a model trained on another task or with another architecture (e.g. initializing a BertForSequenceClassification model from a BertForPreTraining model).\n",
      "- This IS NOT expected if you are initializing BertModel from the checkpoint of a model that you expect to be exactly identical (initializing a BertForSequenceClassification model from a BertForSequenceClassification model).\n",
      "Warning: Baseline not Found for bert-base-multilingual-cased on ja at /home/ryoryon66/.pyenv/versions/3.9.8/lib/python3.9/site-packages/bert_score/rescale_baseline/ja/bert-base-multilingual-cased.tsv\n",
      "Some weights of the model checkpoint at bert-base-multilingual-cased were not used when initializing BertModel: ['cls.predictions.transform.dense.weight', 'cls.seq_relationship.weight', 'cls.predictions.transform.LayerNorm.weight', 'cls.predictions.bias', 'cls.seq_relationship.bias', 'cls.predictions.transform.dense.bias', 'cls.predictions.transform.LayerNorm.bias']\n",
      "- This IS expected if you are initializing BertModel from the checkpoint of a model trained on another task or with another architecture (e.g. initializing a BertForSequenceClassification model from a BertForPreTraining model).\n",
      "- This IS NOT expected if you are initializing BertModel from the checkpoint of a model that you expect to be exactly identical (initializing a BertForSequenceClassification model from a BertForSequenceClassification model).\n",
      "Warning: Baseline not Found for bert-base-multilingual-cased on ja at /home/ryoryon66/.pyenv/versions/3.9.8/lib/python3.9/site-packages/bert_score/rescale_baseline/ja/bert-base-multilingual-cased.tsv\n",
      "Some weights of the model checkpoint at bert-base-multilingual-cased were not used when initializing BertModel: ['cls.predictions.transform.dense.weight', 'cls.seq_relationship.weight', 'cls.predictions.transform.LayerNorm.weight', 'cls.predictions.bias', 'cls.seq_relationship.bias', 'cls.predictions.transform.dense.bias', 'cls.predictions.transform.LayerNorm.bias']\n",
      "- This IS expected if you are initializing BertModel from the checkpoint of a model trained on another task or with another architecture (e.g. initializing a BertForSequenceClassification model from a BertForPreTraining model).\n",
      "- This IS NOT expected if you are initializing BertModel from the checkpoint of a model that you expect to be exactly identical (initializing a BertForSequenceClassification model from a BertForSequenceClassification model).\n",
      "Warning: Baseline not Found for bert-base-multilingual-cased on ja at /home/ryoryon66/.pyenv/versions/3.9.8/lib/python3.9/site-packages/bert_score/rescale_baseline/ja/bert-base-multilingual-cased.tsv\n"
     ]
    },
    {
     "name": "stdout",
     "output_type": "stream",
     "text": [
      " スツール・デ・コルヌ・ロバ・スタンド・セットです\n"
     ]
    },
    {
     "name": "stderr",
     "output_type": "stream",
     "text": [
      "Some weights of the model checkpoint at bert-base-multilingual-cased were not used when initializing BertModel: ['cls.predictions.transform.dense.weight', 'cls.seq_relationship.weight', 'cls.predictions.transform.LayerNorm.weight', 'cls.predictions.bias', 'cls.seq_relationship.bias', 'cls.predictions.transform.dense.bias', 'cls.predictions.transform.LayerNorm.bias']\n",
      "- This IS expected if you are initializing BertModel from the checkpoint of a model trained on another task or with another architecture (e.g. initializing a BertForSequenceClassification model from a BertForPreTraining model).\n",
      "- This IS NOT expected if you are initializing BertModel from the checkpoint of a model that you expect to be exactly identical (initializing a BertForSequenceClassification model from a BertForSequenceClassification model).\n",
      "Warning: Baseline not Found for bert-base-multilingual-cased on ja at /home/ryoryon66/.pyenv/versions/3.9.8/lib/python3.9/site-packages/bert_score/rescale_baseline/ja/bert-base-multilingual-cased.tsv\n",
      "Some weights of the model checkpoint at bert-base-multilingual-cased were not used when initializing BertModel: ['cls.predictions.transform.dense.weight', 'cls.seq_relationship.weight', 'cls.predictions.transform.LayerNorm.weight', 'cls.predictions.bias', 'cls.seq_relationship.bias', 'cls.predictions.transform.dense.bias', 'cls.predictions.transform.LayerNorm.bias']\n",
      "- This IS expected if you are initializing BertModel from the checkpoint of a model trained on another task or with another architecture (e.g. initializing a BertForSequenceClassification model from a BertForPreTraining model).\n",
      "- This IS NOT expected if you are initializing BertModel from the checkpoint of a model that you expect to be exactly identical (initializing a BertForSequenceClassification model from a BertForSequenceClassification model).\n",
      "Warning: Baseline not Found for bert-base-multilingual-cased on ja at /home/ryoryon66/.pyenv/versions/3.9.8/lib/python3.9/site-packages/bert_score/rescale_baseline/ja/bert-base-multilingual-cased.tsv\n",
      "Some weights of the model checkpoint at bert-base-multilingual-cased were not used when initializing BertModel: ['cls.predictions.transform.dense.weight', 'cls.seq_relationship.weight', 'cls.predictions.transform.LayerNorm.weight', 'cls.predictions.bias', 'cls.seq_relationship.bias', 'cls.predictions.transform.dense.bias', 'cls.predictions.transform.LayerNorm.bias']\n",
      "- This IS expected if you are initializing BertModel from the checkpoint of a model trained on another task or with another architecture (e.g. initializing a BertForSequenceClassification model from a BertForPreTraining model).\n",
      "- This IS NOT expected if you are initializing BertModel from the checkpoint of a model that you expect to be exactly identical (initializing a BertForSequenceClassification model from a BertForSequenceClassification model).\n",
      "Warning: Baseline not Found for bert-base-multilingual-cased on ja at /home/ryoryon66/.pyenv/versions/3.9.8/lib/python3.9/site-packages/bert_score/rescale_baseline/ja/bert-base-multilingual-cased.tsv\n",
      "Some weights of the model checkpoint at bert-base-multilingual-cased were not used when initializing BertModel: ['cls.predictions.transform.dense.weight', 'cls.seq_relationship.weight', 'cls.predictions.transform.LayerNorm.weight', 'cls.predictions.bias', 'cls.seq_relationship.bias', 'cls.predictions.transform.dense.bias', 'cls.predictions.transform.LayerNorm.bias']\n",
      "- This IS expected if you are initializing BertModel from the checkpoint of a model trained on another task or with another architecture (e.g. initializing a BertForSequenceClassification model from a BertForPreTraining model).\n",
      "- This IS NOT expected if you are initializing BertModel from the checkpoint of a model that you expect to be exactly identical (initializing a BertForSequenceClassification model from a BertForSequenceClassification model).\n",
      "Warning: Baseline not Found for bert-base-multilingual-cased on ja at /home/ryoryon66/.pyenv/versions/3.9.8/lib/python3.9/site-packages/bert_score/rescale_baseline/ja/bert-base-multilingual-cased.tsv\n",
      "Some weights of the model checkpoint at bert-base-multilingual-cased were not used when initializing BertModel: ['cls.predictions.transform.dense.weight', 'cls.seq_relationship.weight', 'cls.predictions.transform.LayerNorm.weight', 'cls.predictions.bias', 'cls.seq_relationship.bias', 'cls.predictions.transform.dense.bias', 'cls.predictions.transform.LayerNorm.bias']\n",
      "- This IS expected if you are initializing BertModel from the checkpoint of a model trained on another task or with another architecture (e.g. initializing a BertForSequenceClassification model from a BertForPreTraining model).\n",
      "- This IS NOT expected if you are initializing BertModel from the checkpoint of a model that you expect to be exactly identical (initializing a BertForSequenceClassification model from a BertForSequenceClassification model).\n"
     ]
    },
    {
     "name": "stdout",
     "output_type": "stream",
     "text": [
      "hallucination pr_scores: [0.28409017324447633, 0.278328549861908]\n",
      "hallucination re_scores: [0.2311078786849975, 0.29405248165130604]\n",
      "hallucination f1_scores: [0.25894290208816534, 0.28683551549911507]\n",
      "processing 91 / 100\n"
     ]
    },
    {
     "name": "stderr",
     "output_type": "stream",
     "text": [
      "Warning: Baseline not Found for bert-base-multilingual-cased on ja at /home/ryoryon66/.pyenv/versions/3.9.8/lib/python3.9/site-packages/bert_score/rescale_baseline/ja/bert-base-multilingual-cased.tsv\n",
      "/tmp/ipykernel_28939/1749957329.py:18: FutureWarning: The frame.append method is deprecated and will be removed from pandas in a future version. Use pandas.concat instead.\n",
      "  score_df = score_df.append({\n"
     ]
    },
    {
     "name": "stdout",
     "output_type": "stream",
     "text": [
      "QA20CAPR-0183 宮本武蔵と佐々木小次郎が戦った巌流島、平家滅亡の地・壇ノ浦といえば、山口県の何市にある景勝地でしょう? 下関市\n",
      "sampled: ['下関市', '下関市 九州地方 宮本武蔵と佐々木小次郎が戦った巌流島、平家滅亡の地・壇ノ浦とは、山口県下関市にある景勝地です。', '長門峡', '長門峡', '下関市']\n",
      "r_sentences\n",
      "['下関市']\n",
      "下関市\n"
     ]
    },
    {
     "name": "stderr",
     "output_type": "stream",
     "text": [
      "Some weights of the model checkpoint at bert-base-multilingual-cased were not used when initializing BertModel: ['cls.predictions.transform.dense.weight', 'cls.seq_relationship.weight', 'cls.predictions.transform.LayerNorm.weight', 'cls.predictions.bias', 'cls.seq_relationship.bias', 'cls.predictions.transform.dense.bias', 'cls.predictions.transform.LayerNorm.bias']\n",
      "- This IS expected if you are initializing BertModel from the checkpoint of a model trained on another task or with another architecture (e.g. initializing a BertForSequenceClassification model from a BertForPreTraining model).\n",
      "- This IS NOT expected if you are initializing BertModel from the checkpoint of a model that you expect to be exactly identical (initializing a BertForSequenceClassification model from a BertForSequenceClassification model).\n",
      "Warning: Baseline not Found for bert-base-multilingual-cased on ja at /home/ryoryon66/.pyenv/versions/3.9.8/lib/python3.9/site-packages/bert_score/rescale_baseline/ja/bert-base-multilingual-cased.tsv\n",
      "Some weights of the model checkpoint at bert-base-multilingual-cased were not used when initializing BertModel: ['cls.predictions.transform.dense.weight', 'cls.seq_relationship.weight', 'cls.predictions.transform.LayerNorm.weight', 'cls.predictions.bias', 'cls.seq_relationship.bias', 'cls.predictions.transform.dense.bias', 'cls.predictions.transform.LayerNorm.bias']\n",
      "- This IS expected if you are initializing BertModel from the checkpoint of a model trained on another task or with another architecture (e.g. initializing a BertForSequenceClassification model from a BertForPreTraining model).\n",
      "- This IS NOT expected if you are initializing BertModel from the checkpoint of a model that you expect to be exactly identical (initializing a BertForSequenceClassification model from a BertForSequenceClassification model).\n",
      "Warning: Baseline not Found for bert-base-multilingual-cased on ja at /home/ryoryon66/.pyenv/versions/3.9.8/lib/python3.9/site-packages/bert_score/rescale_baseline/ja/bert-base-multilingual-cased.tsv\n",
      "Some weights of the model checkpoint at bert-base-multilingual-cased were not used when initializing BertModel: ['cls.predictions.transform.dense.weight', 'cls.seq_relationship.weight', 'cls.predictions.transform.LayerNorm.weight', 'cls.predictions.bias', 'cls.seq_relationship.bias', 'cls.predictions.transform.dense.bias', 'cls.predictions.transform.LayerNorm.bias']\n",
      "- This IS expected if you are initializing BertModel from the checkpoint of a model trained on another task or with another architecture (e.g. initializing a BertForSequenceClassification model from a BertForPreTraining model).\n",
      "- This IS NOT expected if you are initializing BertModel from the checkpoint of a model that you expect to be exactly identical (initializing a BertForSequenceClassification model from a BertForSequenceClassification model).\n",
      "Warning: Baseline not Found for bert-base-multilingual-cased on ja at /home/ryoryon66/.pyenv/versions/3.9.8/lib/python3.9/site-packages/bert_score/rescale_baseline/ja/bert-base-multilingual-cased.tsv\n",
      "Some weights of the model checkpoint at bert-base-multilingual-cased were not used when initializing BertModel: ['cls.predictions.transform.dense.weight', 'cls.seq_relationship.weight', 'cls.predictions.transform.LayerNorm.weight', 'cls.predictions.bias', 'cls.seq_relationship.bias', 'cls.predictions.transform.dense.bias', 'cls.predictions.transform.LayerNorm.bias']\n",
      "- This IS expected if you are initializing BertModel from the checkpoint of a model trained on another task or with another architecture (e.g. initializing a BertForSequenceClassification model from a BertForPreTraining model).\n",
      "- This IS NOT expected if you are initializing BertModel from the checkpoint of a model that you expect to be exactly identical (initializing a BertForSequenceClassification model from a BertForSequenceClassification model).\n",
      "Warning: Baseline not Found for bert-base-multilingual-cased on ja at /home/ryoryon66/.pyenv/versions/3.9.8/lib/python3.9/site-packages/bert_score/rescale_baseline/ja/bert-base-multilingual-cased.tsv\n",
      "Some weights of the model checkpoint at bert-base-multilingual-cased were not used when initializing BertModel: ['cls.predictions.transform.dense.weight', 'cls.seq_relationship.weight', 'cls.predictions.transform.LayerNorm.weight', 'cls.predictions.bias', 'cls.seq_relationship.bias', 'cls.predictions.transform.dense.bias', 'cls.predictions.transform.LayerNorm.bias']\n",
      "- This IS expected if you are initializing BertModel from the checkpoint of a model trained on another task or with another architecture (e.g. initializing a BertForSequenceClassification model from a BertForPreTraining model).\n",
      "- This IS NOT expected if you are initializing BertModel from the checkpoint of a model that you expect to be exactly identical (initializing a BertForSequenceClassification model from a BertForSequenceClassification model).\n"
     ]
    },
    {
     "name": "stdout",
     "output_type": "stream",
     "text": [
      "hallucination pr_scores: [0.1492562890052796]\n",
      "hallucination re_scores: [0.19414167404174815]\n",
      "hallucination f1_scores: [0.17533041238784802]\n",
      "processing 92 / 100\n"
     ]
    },
    {
     "name": "stderr",
     "output_type": "stream",
     "text": [
      "Warning: Baseline not Found for bert-base-multilingual-cased on ja at /home/ryoryon66/.pyenv/versions/3.9.8/lib/python3.9/site-packages/bert_score/rescale_baseline/ja/bert-base-multilingual-cased.tsv\n",
      "/tmp/ipykernel_28939/1749957329.py:18: FutureWarning: The frame.append method is deprecated and will be removed from pandas in a future version. Use pandas.concat instead.\n",
      "  score_df = score_df.append({\n"
     ]
    },
    {
     "name": "stdout",
     "output_type": "stream",
     "text": [
      "QA20CAPR-0185 正式名称を「チャンピオンプレス」という、男性のチリチリにした髪型のことを一般には「何パーマ」というでしょう? チリチリパーマネントヘアスタイル\n",
      "sampled: ['モヒカン刈りです。', 'チリパーマ チリパーマとは、チリチリした髪型のことです。チリチリした髪型には、髪がカールしたり、逆立ったりすることが多くあります。チリチリした髪型の最も一般的なタイプには、天然パーマネントや人工パーマネントがあります。チリチリした髪型は、一般的にヘアスタイルのトレンドとされています。', 'チリパーマ。', 'チリチリした髪型 チリチリした髪型には、チリチリした質感とカールが特徴的なチリチリした髪型があります。チリチリした髪型の一般的な外観やイメージは、赤毛や金髪、時には明るい色合いが特徴です。チリチリした髪型の主なスタイルには、ストレートヘア、ウェーブヘア、ショートカットがあります。', 'チリチリパーマネント']\n",
      "r_sentences\n",
      "['チリチリパーマネントヘアスタイル']\n",
      "チリチリパーマネントヘアスタイル\n"
     ]
    },
    {
     "name": "stderr",
     "output_type": "stream",
     "text": [
      "Some weights of the model checkpoint at bert-base-multilingual-cased were not used when initializing BertModel: ['cls.predictions.transform.dense.weight', 'cls.seq_relationship.weight', 'cls.predictions.transform.LayerNorm.weight', 'cls.predictions.bias', 'cls.seq_relationship.bias', 'cls.predictions.transform.dense.bias', 'cls.predictions.transform.LayerNorm.bias']\n",
      "- This IS expected if you are initializing BertModel from the checkpoint of a model trained on another task or with another architecture (e.g. initializing a BertForSequenceClassification model from a BertForPreTraining model).\n",
      "- This IS NOT expected if you are initializing BertModel from the checkpoint of a model that you expect to be exactly identical (initializing a BertForSequenceClassification model from a BertForSequenceClassification model).\n",
      "Warning: Baseline not Found for bert-base-multilingual-cased on ja at /home/ryoryon66/.pyenv/versions/3.9.8/lib/python3.9/site-packages/bert_score/rescale_baseline/ja/bert-base-multilingual-cased.tsv\n",
      "Some weights of the model checkpoint at bert-base-multilingual-cased were not used when initializing BertModel: ['cls.predictions.transform.dense.weight', 'cls.seq_relationship.weight', 'cls.predictions.transform.LayerNorm.weight', 'cls.predictions.bias', 'cls.seq_relationship.bias', 'cls.predictions.transform.dense.bias', 'cls.predictions.transform.LayerNorm.bias']\n",
      "- This IS expected if you are initializing BertModel from the checkpoint of a model trained on another task or with another architecture (e.g. initializing a BertForSequenceClassification model from a BertForPreTraining model).\n",
      "- This IS NOT expected if you are initializing BertModel from the checkpoint of a model that you expect to be exactly identical (initializing a BertForSequenceClassification model from a BertForSequenceClassification model).\n",
      "Warning: Baseline not Found for bert-base-multilingual-cased on ja at /home/ryoryon66/.pyenv/versions/3.9.8/lib/python3.9/site-packages/bert_score/rescale_baseline/ja/bert-base-multilingual-cased.tsv\n",
      "Some weights of the model checkpoint at bert-base-multilingual-cased were not used when initializing BertModel: ['cls.predictions.transform.dense.weight', 'cls.seq_relationship.weight', 'cls.predictions.transform.LayerNorm.weight', 'cls.predictions.bias', 'cls.seq_relationship.bias', 'cls.predictions.transform.dense.bias', 'cls.predictions.transform.LayerNorm.bias']\n",
      "- This IS expected if you are initializing BertModel from the checkpoint of a model trained on another task or with another architecture (e.g. initializing a BertForSequenceClassification model from a BertForPreTraining model).\n",
      "- This IS NOT expected if you are initializing BertModel from the checkpoint of a model that you expect to be exactly identical (initializing a BertForSequenceClassification model from a BertForSequenceClassification model).\n",
      "Warning: Baseline not Found for bert-base-multilingual-cased on ja at /home/ryoryon66/.pyenv/versions/3.9.8/lib/python3.9/site-packages/bert_score/rescale_baseline/ja/bert-base-multilingual-cased.tsv\n",
      "Some weights of the model checkpoint at bert-base-multilingual-cased were not used when initializing BertModel: ['cls.predictions.transform.dense.weight', 'cls.seq_relationship.weight', 'cls.predictions.transform.LayerNorm.weight', 'cls.predictions.bias', 'cls.seq_relationship.bias', 'cls.predictions.transform.dense.bias', 'cls.predictions.transform.LayerNorm.bias']\n",
      "- This IS expected if you are initializing BertModel from the checkpoint of a model trained on another task or with another architecture (e.g. initializing a BertForSequenceClassification model from a BertForPreTraining model).\n",
      "- This IS NOT expected if you are initializing BertModel from the checkpoint of a model that you expect to be exactly identical (initializing a BertForSequenceClassification model from a BertForSequenceClassification model).\n",
      "Warning: Baseline not Found for bert-base-multilingual-cased on ja at /home/ryoryon66/.pyenv/versions/3.9.8/lib/python3.9/site-packages/bert_score/rescale_baseline/ja/bert-base-multilingual-cased.tsv\n",
      "Some weights of the model checkpoint at bert-base-multilingual-cased were not used when initializing BertModel: ['cls.predictions.transform.dense.weight', 'cls.seq_relationship.weight', 'cls.predictions.transform.LayerNorm.weight', 'cls.predictions.bias', 'cls.seq_relationship.bias', 'cls.predictions.transform.dense.bias', 'cls.predictions.transform.LayerNorm.bias']\n",
      "- This IS expected if you are initializing BertModel from the checkpoint of a model trained on another task or with another architecture (e.g. initializing a BertForSequenceClassification model from a BertForPreTraining model).\n",
      "- This IS NOT expected if you are initializing BertModel from the checkpoint of a model that you expect to be exactly identical (initializing a BertForSequenceClassification model from a BertForSequenceClassification model).\n"
     ]
    },
    {
     "name": "stdout",
     "output_type": "stream",
     "text": [
      "hallucination pr_scores: [0.22767353057861328]\n",
      "hallucination re_scores: [0.21667947769165044]\n",
      "hallucination f1_scores: [0.22363564968109131]\n",
      "processing 93 / 100\n"
     ]
    },
    {
     "name": "stderr",
     "output_type": "stream",
     "text": [
      "Warning: Baseline not Found for bert-base-multilingual-cased on ja at /home/ryoryon66/.pyenv/versions/3.9.8/lib/python3.9/site-packages/bert_score/rescale_baseline/ja/bert-base-multilingual-cased.tsv\n",
      "/tmp/ipykernel_28939/1749957329.py:18: FutureWarning: The frame.append method is deprecated and will be removed from pandas in a future version. Use pandas.concat instead.\n",
      "  score_df = score_df.append({\n"
     ]
    },
    {
     "name": "stdout",
     "output_type": "stream",
     "text": [
      "QA20CAPR-0187 フォークダンスの定番『マイム・マイム』は、もともとどこの国の曲でしょう? メキシコです。\n",
      "\n",
      "sampled: ['ドイツです。この曲は、19世紀後半にドイツの民謡から生まれました。', '日本。', 'ドイツ・ロマンチック・フォークダンス曲。 この曲は、1920年代にドイツの作曲家カール・アマデウス・ハルトマンによって作曲されました。歌詞は、ドイツ人の移民が故郷に残した貧しい妻への愛を謳っています。この楽曲は、ドイツを始め、イギリス、デンマークなど、多くの国々で演奏されています。', 'アイルランド民謡です。', 'アイルランド']\n",
      "r_sentences\n",
      "['メキシコです']\n",
      "メキシコです\n"
     ]
    },
    {
     "name": "stderr",
     "output_type": "stream",
     "text": [
      "Some weights of the model checkpoint at bert-base-multilingual-cased were not used when initializing BertModel: ['cls.predictions.transform.dense.weight', 'cls.seq_relationship.weight', 'cls.predictions.transform.LayerNorm.weight', 'cls.predictions.bias', 'cls.seq_relationship.bias', 'cls.predictions.transform.dense.bias', 'cls.predictions.transform.LayerNorm.bias']\n",
      "- This IS expected if you are initializing BertModel from the checkpoint of a model trained on another task or with another architecture (e.g. initializing a BertForSequenceClassification model from a BertForPreTraining model).\n",
      "- This IS NOT expected if you are initializing BertModel from the checkpoint of a model that you expect to be exactly identical (initializing a BertForSequenceClassification model from a BertForSequenceClassification model).\n",
      "Warning: Baseline not Found for bert-base-multilingual-cased on ja at /home/ryoryon66/.pyenv/versions/3.9.8/lib/python3.9/site-packages/bert_score/rescale_baseline/ja/bert-base-multilingual-cased.tsv\n",
      "Some weights of the model checkpoint at bert-base-multilingual-cased were not used when initializing BertModel: ['cls.predictions.transform.dense.weight', 'cls.seq_relationship.weight', 'cls.predictions.transform.LayerNorm.weight', 'cls.predictions.bias', 'cls.seq_relationship.bias', 'cls.predictions.transform.dense.bias', 'cls.predictions.transform.LayerNorm.bias']\n",
      "- This IS expected if you are initializing BertModel from the checkpoint of a model trained on another task or with another architecture (e.g. initializing a BertForSequenceClassification model from a BertForPreTraining model).\n",
      "- This IS NOT expected if you are initializing BertModel from the checkpoint of a model that you expect to be exactly identical (initializing a BertForSequenceClassification model from a BertForSequenceClassification model).\n",
      "Warning: Baseline not Found for bert-base-multilingual-cased on ja at /home/ryoryon66/.pyenv/versions/3.9.8/lib/python3.9/site-packages/bert_score/rescale_baseline/ja/bert-base-multilingual-cased.tsv\n",
      "Some weights of the model checkpoint at bert-base-multilingual-cased were not used when initializing BertModel: ['cls.predictions.transform.dense.weight', 'cls.seq_relationship.weight', 'cls.predictions.transform.LayerNorm.weight', 'cls.predictions.bias', 'cls.seq_relationship.bias', 'cls.predictions.transform.dense.bias', 'cls.predictions.transform.LayerNorm.bias']\n",
      "- This IS expected if you are initializing BertModel from the checkpoint of a model trained on another task or with another architecture (e.g. initializing a BertForSequenceClassification model from a BertForPreTraining model).\n",
      "- This IS NOT expected if you are initializing BertModel from the checkpoint of a model that you expect to be exactly identical (initializing a BertForSequenceClassification model from a BertForSequenceClassification model).\n",
      "Warning: Baseline not Found for bert-base-multilingual-cased on ja at /home/ryoryon66/.pyenv/versions/3.9.8/lib/python3.9/site-packages/bert_score/rescale_baseline/ja/bert-base-multilingual-cased.tsv\n",
      "Some weights of the model checkpoint at bert-base-multilingual-cased were not used when initializing BertModel: ['cls.predictions.transform.dense.weight', 'cls.seq_relationship.weight', 'cls.predictions.transform.LayerNorm.weight', 'cls.predictions.bias', 'cls.seq_relationship.bias', 'cls.predictions.transform.dense.bias', 'cls.predictions.transform.LayerNorm.bias']\n",
      "- This IS expected if you are initializing BertModel from the checkpoint of a model trained on another task or with another architecture (e.g. initializing a BertForSequenceClassification model from a BertForPreTraining model).\n",
      "- This IS NOT expected if you are initializing BertModel from the checkpoint of a model that you expect to be exactly identical (initializing a BertForSequenceClassification model from a BertForSequenceClassification model).\n",
      "Warning: Baseline not Found for bert-base-multilingual-cased on ja at /home/ryoryon66/.pyenv/versions/3.9.8/lib/python3.9/site-packages/bert_score/rescale_baseline/ja/bert-base-multilingual-cased.tsv\n",
      "Some weights of the model checkpoint at bert-base-multilingual-cased were not used when initializing BertModel: ['cls.predictions.transform.dense.weight', 'cls.seq_relationship.weight', 'cls.predictions.transform.LayerNorm.weight', 'cls.predictions.bias', 'cls.seq_relationship.bias', 'cls.predictions.transform.dense.bias', 'cls.predictions.transform.LayerNorm.bias']\n",
      "- This IS expected if you are initializing BertModel from the checkpoint of a model trained on another task or with another architecture (e.g. initializing a BertForSequenceClassification model from a BertForPreTraining model).\n",
      "- This IS NOT expected if you are initializing BertModel from the checkpoint of a model that you expect to be exactly identical (initializing a BertForSequenceClassification model from a BertForSequenceClassification model).\n"
     ]
    },
    {
     "name": "stdout",
     "output_type": "stream",
     "text": [
      "hallucination pr_scores: [0.3117050170898437]\n",
      "hallucination re_scores: [0.2810756206512452]\n",
      "hallucination f1_scores: [0.29732228517532355]\n",
      "processing 94 / 100\n"
     ]
    },
    {
     "name": "stderr",
     "output_type": "stream",
     "text": [
      "Warning: Baseline not Found for bert-base-multilingual-cased on ja at /home/ryoryon66/.pyenv/versions/3.9.8/lib/python3.9/site-packages/bert_score/rescale_baseline/ja/bert-base-multilingual-cased.tsv\n",
      "/tmp/ipykernel_28939/1749957329.py:18: FutureWarning: The frame.append method is deprecated and will be removed from pandas in a future version. Use pandas.concat instead.\n",
      "  score_df = score_df.append({\n"
     ]
    },
    {
     "name": "stdout",
     "output_type": "stream",
     "text": [
      "QA20CAPR-0189 イタリアの都市ヴェローナを舞台に、モンタギュー家とキャピュレット家に生まれた男女の悲恋を描いた、シェイクスピアの悲劇は何でしょう? ロミオとジュリエット\n",
      "sampled: ['ロミオとジュリエット イタリアのヴェローナは、イタリアの中部に位置する地方都市です。この劇は、モンタギュー家とキャピュレット家の対立に焦点を当てています。モンタギュー家はイタリア貴族であり、キャピュレット家はフランスの貴族です。両家は15世紀に結婚し、やがて激しい闘争に巻き込まれます。モンタギュー家はロミオという若者に出会い、愛し合います。一方、キャピュレット家は美しい美女ジュリエットに出会い、激しく嫉妬します。最終的に、モンタギュー家は敗北し、ロミオは処刑されてしまいます。', 'ロミオとジュリエット', 'ロミオとジュリエット', 'ロミオとジュリエット', 'ロミオとジュリエット」です。']\n",
      "r_sentences\n",
      "['ロミオとジュリエット']\n",
      "ロミオとジュリエット\n"
     ]
    },
    {
     "name": "stderr",
     "output_type": "stream",
     "text": [
      "Some weights of the model checkpoint at bert-base-multilingual-cased were not used when initializing BertModel: ['cls.predictions.transform.dense.weight', 'cls.seq_relationship.weight', 'cls.predictions.transform.LayerNorm.weight', 'cls.predictions.bias', 'cls.seq_relationship.bias', 'cls.predictions.transform.dense.bias', 'cls.predictions.transform.LayerNorm.bias']\n",
      "- This IS expected if you are initializing BertModel from the checkpoint of a model trained on another task or with another architecture (e.g. initializing a BertForSequenceClassification model from a BertForPreTraining model).\n",
      "- This IS NOT expected if you are initializing BertModel from the checkpoint of a model that you expect to be exactly identical (initializing a BertForSequenceClassification model from a BertForSequenceClassification model).\n",
      "Warning: Baseline not Found for bert-base-multilingual-cased on ja at /home/ryoryon66/.pyenv/versions/3.9.8/lib/python3.9/site-packages/bert_score/rescale_baseline/ja/bert-base-multilingual-cased.tsv\n",
      "Some weights of the model checkpoint at bert-base-multilingual-cased were not used when initializing BertModel: ['cls.predictions.transform.dense.weight', 'cls.seq_relationship.weight', 'cls.predictions.transform.LayerNorm.weight', 'cls.predictions.bias', 'cls.seq_relationship.bias', 'cls.predictions.transform.dense.bias', 'cls.predictions.transform.LayerNorm.bias']\n",
      "- This IS expected if you are initializing BertModel from the checkpoint of a model trained on another task or with another architecture (e.g. initializing a BertForSequenceClassification model from a BertForPreTraining model).\n",
      "- This IS NOT expected if you are initializing BertModel from the checkpoint of a model that you expect to be exactly identical (initializing a BertForSequenceClassification model from a BertForSequenceClassification model).\n",
      "Warning: Baseline not Found for bert-base-multilingual-cased on ja at /home/ryoryon66/.pyenv/versions/3.9.8/lib/python3.9/site-packages/bert_score/rescale_baseline/ja/bert-base-multilingual-cased.tsv\n",
      "Some weights of the model checkpoint at bert-base-multilingual-cased were not used when initializing BertModel: ['cls.predictions.transform.dense.weight', 'cls.seq_relationship.weight', 'cls.predictions.transform.LayerNorm.weight', 'cls.predictions.bias', 'cls.seq_relationship.bias', 'cls.predictions.transform.dense.bias', 'cls.predictions.transform.LayerNorm.bias']\n",
      "- This IS expected if you are initializing BertModel from the checkpoint of a model trained on another task or with another architecture (e.g. initializing a BertForSequenceClassification model from a BertForPreTraining model).\n",
      "- This IS NOT expected if you are initializing BertModel from the checkpoint of a model that you expect to be exactly identical (initializing a BertForSequenceClassification model from a BertForSequenceClassification model).\n",
      "Warning: Baseline not Found for bert-base-multilingual-cased on ja at /home/ryoryon66/.pyenv/versions/3.9.8/lib/python3.9/site-packages/bert_score/rescale_baseline/ja/bert-base-multilingual-cased.tsv\n",
      "Some weights of the model checkpoint at bert-base-multilingual-cased were not used when initializing BertModel: ['cls.predictions.transform.dense.weight', 'cls.seq_relationship.weight', 'cls.predictions.transform.LayerNorm.weight', 'cls.predictions.bias', 'cls.seq_relationship.bias', 'cls.predictions.transform.dense.bias', 'cls.predictions.transform.LayerNorm.bias']\n",
      "- This IS expected if you are initializing BertModel from the checkpoint of a model trained on another task or with another architecture (e.g. initializing a BertForSequenceClassification model from a BertForPreTraining model).\n",
      "- This IS NOT expected if you are initializing BertModel from the checkpoint of a model that you expect to be exactly identical (initializing a BertForSequenceClassification model from a BertForSequenceClassification model).\n",
      "Warning: Baseline not Found for bert-base-multilingual-cased on ja at /home/ryoryon66/.pyenv/versions/3.9.8/lib/python3.9/site-packages/bert_score/rescale_baseline/ja/bert-base-multilingual-cased.tsv\n",
      "Some weights of the model checkpoint at bert-base-multilingual-cased were not used when initializing BertModel: ['cls.predictions.transform.dense.weight', 'cls.seq_relationship.weight', 'cls.predictions.transform.LayerNorm.weight', 'cls.predictions.bias', 'cls.seq_relationship.bias', 'cls.predictions.transform.dense.bias', 'cls.predictions.transform.LayerNorm.bias']\n",
      "- This IS expected if you are initializing BertModel from the checkpoint of a model trained on another task or with another architecture (e.g. initializing a BertForSequenceClassification model from a BertForPreTraining model).\n",
      "- This IS NOT expected if you are initializing BertModel from the checkpoint of a model that you expect to be exactly identical (initializing a BertForSequenceClassification model from a BertForSequenceClassification model).\n"
     ]
    },
    {
     "name": "stdout",
     "output_type": "stream",
     "text": [
      "hallucination pr_scores: [0.04969471693038943]\n",
      "hallucination re_scores: [0.0983352065086365]\n",
      "hallucination f1_scores: [0.07642612457275383]\n",
      "processing 95 / 100\n"
     ]
    },
    {
     "name": "stderr",
     "output_type": "stream",
     "text": [
      "Warning: Baseline not Found for bert-base-multilingual-cased on ja at /home/ryoryon66/.pyenv/versions/3.9.8/lib/python3.9/site-packages/bert_score/rescale_baseline/ja/bert-base-multilingual-cased.tsv\n",
      "/tmp/ipykernel_28939/1749957329.py:18: FutureWarning: The frame.append method is deprecated and will be removed from pandas in a future version. Use pandas.concat instead.\n",
      "  score_df = score_df.append({\n"
     ]
    },
    {
     "name": "stdout",
     "output_type": "stream",
     "text": [
      "QA20CAPR-0191 1853年から56年までウクライナ地方を中心として起こった、白衣の天使・ナイチンゲールが活躍したことでも知られる戦争は何でしょう? クリミア戦争\n",
      "sampled: ['クリミア戦争', 'クリミア戦争', 'クリミア戦争', 'クリミア戦争', 'クリミア戦争']\n",
      "r_sentences\n",
      "['クリミア戦争']\n",
      "クリミア戦争\n"
     ]
    },
    {
     "name": "stderr",
     "output_type": "stream",
     "text": [
      "Some weights of the model checkpoint at bert-base-multilingual-cased were not used when initializing BertModel: ['cls.predictions.transform.dense.weight', 'cls.seq_relationship.weight', 'cls.predictions.transform.LayerNorm.weight', 'cls.predictions.bias', 'cls.seq_relationship.bias', 'cls.predictions.transform.dense.bias', 'cls.predictions.transform.LayerNorm.bias']\n",
      "- This IS expected if you are initializing BertModel from the checkpoint of a model trained on another task or with another architecture (e.g. initializing a BertForSequenceClassification model from a BertForPreTraining model).\n",
      "- This IS NOT expected if you are initializing BertModel from the checkpoint of a model that you expect to be exactly identical (initializing a BertForSequenceClassification model from a BertForSequenceClassification model).\n",
      "Warning: Baseline not Found for bert-base-multilingual-cased on ja at /home/ryoryon66/.pyenv/versions/3.9.8/lib/python3.9/site-packages/bert_score/rescale_baseline/ja/bert-base-multilingual-cased.tsv\n",
      "Some weights of the model checkpoint at bert-base-multilingual-cased were not used when initializing BertModel: ['cls.predictions.transform.dense.weight', 'cls.seq_relationship.weight', 'cls.predictions.transform.LayerNorm.weight', 'cls.predictions.bias', 'cls.seq_relationship.bias', 'cls.predictions.transform.dense.bias', 'cls.predictions.transform.LayerNorm.bias']\n",
      "- This IS expected if you are initializing BertModel from the checkpoint of a model trained on another task or with another architecture (e.g. initializing a BertForSequenceClassification model from a BertForPreTraining model).\n",
      "- This IS NOT expected if you are initializing BertModel from the checkpoint of a model that you expect to be exactly identical (initializing a BertForSequenceClassification model from a BertForSequenceClassification model).\n",
      "Warning: Baseline not Found for bert-base-multilingual-cased on ja at /home/ryoryon66/.pyenv/versions/3.9.8/lib/python3.9/site-packages/bert_score/rescale_baseline/ja/bert-base-multilingual-cased.tsv\n",
      "Some weights of the model checkpoint at bert-base-multilingual-cased were not used when initializing BertModel: ['cls.predictions.transform.dense.weight', 'cls.seq_relationship.weight', 'cls.predictions.transform.LayerNorm.weight', 'cls.predictions.bias', 'cls.seq_relationship.bias', 'cls.predictions.transform.dense.bias', 'cls.predictions.transform.LayerNorm.bias']\n",
      "- This IS expected if you are initializing BertModel from the checkpoint of a model trained on another task or with another architecture (e.g. initializing a BertForSequenceClassification model from a BertForPreTraining model).\n",
      "- This IS NOT expected if you are initializing BertModel from the checkpoint of a model that you expect to be exactly identical (initializing a BertForSequenceClassification model from a BertForSequenceClassification model).\n",
      "Warning: Baseline not Found for bert-base-multilingual-cased on ja at /home/ryoryon66/.pyenv/versions/3.9.8/lib/python3.9/site-packages/bert_score/rescale_baseline/ja/bert-base-multilingual-cased.tsv\n",
      "Some weights of the model checkpoint at bert-base-multilingual-cased were not used when initializing BertModel: ['cls.predictions.transform.dense.weight', 'cls.seq_relationship.weight', 'cls.predictions.transform.LayerNorm.weight', 'cls.predictions.bias', 'cls.seq_relationship.bias', 'cls.predictions.transform.dense.bias', 'cls.predictions.transform.LayerNorm.bias']\n",
      "- This IS expected if you are initializing BertModel from the checkpoint of a model trained on another task or with another architecture (e.g. initializing a BertForSequenceClassification model from a BertForPreTraining model).\n",
      "- This IS NOT expected if you are initializing BertModel from the checkpoint of a model that you expect to be exactly identical (initializing a BertForSequenceClassification model from a BertForSequenceClassification model).\n",
      "Warning: Baseline not Found for bert-base-multilingual-cased on ja at /home/ryoryon66/.pyenv/versions/3.9.8/lib/python3.9/site-packages/bert_score/rescale_baseline/ja/bert-base-multilingual-cased.tsv\n",
      "Some weights of the model checkpoint at bert-base-multilingual-cased were not used when initializing BertModel: ['cls.predictions.transform.dense.weight', 'cls.seq_relationship.weight', 'cls.predictions.transform.LayerNorm.weight', 'cls.predictions.bias', 'cls.seq_relationship.bias', 'cls.predictions.transform.dense.bias', 'cls.predictions.transform.LayerNorm.bias']\n",
      "- This IS expected if you are initializing BertModel from the checkpoint of a model trained on another task or with another architecture (e.g. initializing a BertForSequenceClassification model from a BertForPreTraining model).\n",
      "- This IS NOT expected if you are initializing BertModel from the checkpoint of a model that you expect to be exactly identical (initializing a BertForSequenceClassification model from a BertForSequenceClassification model).\n"
     ]
    },
    {
     "name": "stdout",
     "output_type": "stream",
     "text": [
      "hallucination pr_scores: [5.551115123125783e-17]\n",
      "hallucination re_scores: [5.551115123125783e-17]\n",
      "hallucination f1_scores: [5.551115123125783e-17]\n",
      "processing 96 / 100\n"
     ]
    },
    {
     "name": "stderr",
     "output_type": "stream",
     "text": [
      "Warning: Baseline not Found for bert-base-multilingual-cased on ja at /home/ryoryon66/.pyenv/versions/3.9.8/lib/python3.9/site-packages/bert_score/rescale_baseline/ja/bert-base-multilingual-cased.tsv\n",
      "/tmp/ipykernel_28939/1749957329.py:18: FutureWarning: The frame.append method is deprecated and will be removed from pandas in a future version. Use pandas.concat instead.\n",
      "  score_df = score_df.append({\n"
     ]
    },
    {
     "name": "stdout",
     "output_type": "stream",
     "text": [
      "QA20CAPR-0193 JRAでは使える色は4色までと決められている、競馬の騎手がレースで着用する服を何というでしょう? ジョッキーベスト\n",
      "sampled: ['パンツスーツ', 'ベスト」です。', 'ジョッキーズ・スーツ。', 'ジョッキーベスト', 'ジョッキーシューズ']\n",
      "r_sentences\n",
      "['ジョッキーベスト']\n",
      "ジョッキーベスト\n"
     ]
    },
    {
     "name": "stderr",
     "output_type": "stream",
     "text": [
      "Some weights of the model checkpoint at bert-base-multilingual-cased were not used when initializing BertModel: ['cls.predictions.transform.dense.weight', 'cls.seq_relationship.weight', 'cls.predictions.transform.LayerNorm.weight', 'cls.predictions.bias', 'cls.seq_relationship.bias', 'cls.predictions.transform.dense.bias', 'cls.predictions.transform.LayerNorm.bias']\n",
      "- This IS expected if you are initializing BertModel from the checkpoint of a model trained on another task or with another architecture (e.g. initializing a BertForSequenceClassification model from a BertForPreTraining model).\n",
      "- This IS NOT expected if you are initializing BertModel from the checkpoint of a model that you expect to be exactly identical (initializing a BertForSequenceClassification model from a BertForSequenceClassification model).\n",
      "Warning: Baseline not Found for bert-base-multilingual-cased on ja at /home/ryoryon66/.pyenv/versions/3.9.8/lib/python3.9/site-packages/bert_score/rescale_baseline/ja/bert-base-multilingual-cased.tsv\n",
      "Some weights of the model checkpoint at bert-base-multilingual-cased were not used when initializing BertModel: ['cls.predictions.transform.dense.weight', 'cls.seq_relationship.weight', 'cls.predictions.transform.LayerNorm.weight', 'cls.predictions.bias', 'cls.seq_relationship.bias', 'cls.predictions.transform.dense.bias', 'cls.predictions.transform.LayerNorm.bias']\n",
      "- This IS expected if you are initializing BertModel from the checkpoint of a model trained on another task or with another architecture (e.g. initializing a BertForSequenceClassification model from a BertForPreTraining model).\n",
      "- This IS NOT expected if you are initializing BertModel from the checkpoint of a model that you expect to be exactly identical (initializing a BertForSequenceClassification model from a BertForSequenceClassification model).\n",
      "Warning: Baseline not Found for bert-base-multilingual-cased on ja at /home/ryoryon66/.pyenv/versions/3.9.8/lib/python3.9/site-packages/bert_score/rescale_baseline/ja/bert-base-multilingual-cased.tsv\n",
      "Some weights of the model checkpoint at bert-base-multilingual-cased were not used when initializing BertModel: ['cls.predictions.transform.dense.weight', 'cls.seq_relationship.weight', 'cls.predictions.transform.LayerNorm.weight', 'cls.predictions.bias', 'cls.seq_relationship.bias', 'cls.predictions.transform.dense.bias', 'cls.predictions.transform.LayerNorm.bias']\n",
      "- This IS expected if you are initializing BertModel from the checkpoint of a model trained on another task or with another architecture (e.g. initializing a BertForSequenceClassification model from a BertForPreTraining model).\n",
      "- This IS NOT expected if you are initializing BertModel from the checkpoint of a model that you expect to be exactly identical (initializing a BertForSequenceClassification model from a BertForSequenceClassification model).\n",
      "Warning: Baseline not Found for bert-base-multilingual-cased on ja at /home/ryoryon66/.pyenv/versions/3.9.8/lib/python3.9/site-packages/bert_score/rescale_baseline/ja/bert-base-multilingual-cased.tsv\n",
      "Some weights of the model checkpoint at bert-base-multilingual-cased were not used when initializing BertModel: ['cls.predictions.transform.dense.weight', 'cls.seq_relationship.weight', 'cls.predictions.transform.LayerNorm.weight', 'cls.predictions.bias', 'cls.seq_relationship.bias', 'cls.predictions.transform.dense.bias', 'cls.predictions.transform.LayerNorm.bias']\n",
      "- This IS expected if you are initializing BertModel from the checkpoint of a model trained on another task or with another architecture (e.g. initializing a BertForSequenceClassification model from a BertForPreTraining model).\n",
      "- This IS NOT expected if you are initializing BertModel from the checkpoint of a model that you expect to be exactly identical (initializing a BertForSequenceClassification model from a BertForSequenceClassification model).\n",
      "Warning: Baseline not Found for bert-base-multilingual-cased on ja at /home/ryoryon66/.pyenv/versions/3.9.8/lib/python3.9/site-packages/bert_score/rescale_baseline/ja/bert-base-multilingual-cased.tsv\n",
      "Some weights of the model checkpoint at bert-base-multilingual-cased were not used when initializing BertModel: ['cls.predictions.transform.dense.weight', 'cls.seq_relationship.weight', 'cls.predictions.transform.LayerNorm.weight', 'cls.predictions.bias', 'cls.seq_relationship.bias', 'cls.predictions.transform.dense.bias', 'cls.predictions.transform.LayerNorm.bias']\n",
      "- This IS expected if you are initializing BertModel from the checkpoint of a model trained on another task or with another architecture (e.g. initializing a BertForSequenceClassification model from a BertForPreTraining model).\n",
      "- This IS NOT expected if you are initializing BertModel from the checkpoint of a model that you expect to be exactly identical (initializing a BertForSequenceClassification model from a BertForSequenceClassification model).\n"
     ]
    },
    {
     "name": "stdout",
     "output_type": "stream",
     "text": [
      "hallucination pr_scores: [0.13986426591873172]\n",
      "hallucination re_scores: [0.159848415851593]\n",
      "hallucination f1_scores: [0.1500673294067382]\n",
      "processing 97 / 100\n"
     ]
    },
    {
     "name": "stderr",
     "output_type": "stream",
     "text": [
      "Warning: Baseline not Found for bert-base-multilingual-cased on ja at /home/ryoryon66/.pyenv/versions/3.9.8/lib/python3.9/site-packages/bert_score/rescale_baseline/ja/bert-base-multilingual-cased.tsv\n",
      "/tmp/ipykernel_28939/1749957329.py:18: FutureWarning: The frame.append method is deprecated and will be removed from pandas in a future version. Use pandas.concat instead.\n",
      "  score_df = score_df.append({\n"
     ]
    },
    {
     "name": "stdout",
     "output_type": "stream",
     "text": [
      "QA20CAPR-0195 日本人では1974年に佐藤栄作元首相が受賞した、ノーベル賞の中では唯一学問以外のことが対象となっている賞は何でしょう? 経済学メダル\n",
      "sampled: ['ライシャワー東アジア研究所による「ライシャワー・アジア研究賞」です。 受賞者には、中国の大学における日本研究の推進、および中国と日本の関係の促進に寄与した功績に対して、栄誉が与えられます。', 'ライシャワー・メダル(帰化したアメリカ人に与えられる)。', '経済学賞。', 'ユネスコ平和賞。', 'ライプニッツメダル。']\n",
      "r_sentences\n",
      "['経済学メダル']\n",
      "経済学メダル\n"
     ]
    },
    {
     "name": "stderr",
     "output_type": "stream",
     "text": [
      "Some weights of the model checkpoint at bert-base-multilingual-cased were not used when initializing BertModel: ['cls.predictions.transform.dense.weight', 'cls.seq_relationship.weight', 'cls.predictions.transform.LayerNorm.weight', 'cls.predictions.bias', 'cls.seq_relationship.bias', 'cls.predictions.transform.dense.bias', 'cls.predictions.transform.LayerNorm.bias']\n",
      "- This IS expected if you are initializing BertModel from the checkpoint of a model trained on another task or with another architecture (e.g. initializing a BertForSequenceClassification model from a BertForPreTraining model).\n",
      "- This IS NOT expected if you are initializing BertModel from the checkpoint of a model that you expect to be exactly identical (initializing a BertForSequenceClassification model from a BertForSequenceClassification model).\n",
      "Warning: Baseline not Found for bert-base-multilingual-cased on ja at /home/ryoryon66/.pyenv/versions/3.9.8/lib/python3.9/site-packages/bert_score/rescale_baseline/ja/bert-base-multilingual-cased.tsv\n",
      "Some weights of the model checkpoint at bert-base-multilingual-cased were not used when initializing BertModel: ['cls.predictions.transform.dense.weight', 'cls.seq_relationship.weight', 'cls.predictions.transform.LayerNorm.weight', 'cls.predictions.bias', 'cls.seq_relationship.bias', 'cls.predictions.transform.dense.bias', 'cls.predictions.transform.LayerNorm.bias']\n",
      "- This IS expected if you are initializing BertModel from the checkpoint of a model trained on another task or with another architecture (e.g. initializing a BertForSequenceClassification model from a BertForPreTraining model).\n",
      "- This IS NOT expected if you are initializing BertModel from the checkpoint of a model that you expect to be exactly identical (initializing a BertForSequenceClassification model from a BertForSequenceClassification model).\n",
      "Warning: Baseline not Found for bert-base-multilingual-cased on ja at /home/ryoryon66/.pyenv/versions/3.9.8/lib/python3.9/site-packages/bert_score/rescale_baseline/ja/bert-base-multilingual-cased.tsv\n",
      "Some weights of the model checkpoint at bert-base-multilingual-cased were not used when initializing BertModel: ['cls.predictions.transform.dense.weight', 'cls.seq_relationship.weight', 'cls.predictions.transform.LayerNorm.weight', 'cls.predictions.bias', 'cls.seq_relationship.bias', 'cls.predictions.transform.dense.bias', 'cls.predictions.transform.LayerNorm.bias']\n",
      "- This IS expected if you are initializing BertModel from the checkpoint of a model trained on another task or with another architecture (e.g. initializing a BertForSequenceClassification model from a BertForPreTraining model).\n",
      "- This IS NOT expected if you are initializing BertModel from the checkpoint of a model that you expect to be exactly identical (initializing a BertForSequenceClassification model from a BertForSequenceClassification model).\n",
      "Warning: Baseline not Found for bert-base-multilingual-cased on ja at /home/ryoryon66/.pyenv/versions/3.9.8/lib/python3.9/site-packages/bert_score/rescale_baseline/ja/bert-base-multilingual-cased.tsv\n",
      "Some weights of the model checkpoint at bert-base-multilingual-cased were not used when initializing BertModel: ['cls.predictions.transform.dense.weight', 'cls.seq_relationship.weight', 'cls.predictions.transform.LayerNorm.weight', 'cls.predictions.bias', 'cls.seq_relationship.bias', 'cls.predictions.transform.dense.bias', 'cls.predictions.transform.LayerNorm.bias']\n",
      "- This IS expected if you are initializing BertModel from the checkpoint of a model trained on another task or with another architecture (e.g. initializing a BertForSequenceClassification model from a BertForPreTraining model).\n",
      "- This IS NOT expected if you are initializing BertModel from the checkpoint of a model that you expect to be exactly identical (initializing a BertForSequenceClassification model from a BertForSequenceClassification model).\n",
      "Warning: Baseline not Found for bert-base-multilingual-cased on ja at /home/ryoryon66/.pyenv/versions/3.9.8/lib/python3.9/site-packages/bert_score/rescale_baseline/ja/bert-base-multilingual-cased.tsv\n",
      "Some weights of the model checkpoint at bert-base-multilingual-cased were not used when initializing BertModel: ['cls.predictions.transform.dense.weight', 'cls.seq_relationship.weight', 'cls.predictions.transform.LayerNorm.weight', 'cls.predictions.bias', 'cls.seq_relationship.bias', 'cls.predictions.transform.dense.bias', 'cls.predictions.transform.LayerNorm.bias']\n",
      "- This IS expected if you are initializing BertModel from the checkpoint of a model trained on another task or with another architecture (e.g. initializing a BertForSequenceClassification model from a BertForPreTraining model).\n",
      "- This IS NOT expected if you are initializing BertModel from the checkpoint of a model that you expect to be exactly identical (initializing a BertForSequenceClassification model from a BertForSequenceClassification model).\n"
     ]
    },
    {
     "name": "stdout",
     "output_type": "stream",
     "text": [
      "hallucination pr_scores: [0.235014545917511]\n",
      "hallucination re_scores: [0.2689949274063111]\n",
      "hallucination f1_scores: [0.2529024481773377]\n",
      "processing 98 / 100\n"
     ]
    },
    {
     "name": "stderr",
     "output_type": "stream",
     "text": [
      "Warning: Baseline not Found for bert-base-multilingual-cased on ja at /home/ryoryon66/.pyenv/versions/3.9.8/lib/python3.9/site-packages/bert_score/rescale_baseline/ja/bert-base-multilingual-cased.tsv\n",
      "/tmp/ipykernel_28939/1749957329.py:18: FutureWarning: The frame.append method is deprecated and will be removed from pandas in a future version. Use pandas.concat instead.\n",
      "  score_df = score_df.append({\n"
     ]
    },
    {
     "name": "stdout",
     "output_type": "stream",
     "text": [
      "QA20CAPR-0197 もともとは競馬で1番の馬の場所に棒を立てていたことに由来する、モータースポーツで予選最高位だった選手が獲得できる最前列のスタート位置を何というでしょう? ポールポジション(決勝)\n",
      "sampled: ['グリッドポジション', 'グリッド・スタート位置', 'スーパースターゲートまたはグリッドウォークボックスと呼ばれます。', 'ポールポジション', 'スターティンググリッド(starting grid)と呼びます。']\n",
      "r_sentences\n",
      "['ポールポジション(決勝)']\n",
      "ポールポジション(決勝)\n"
     ]
    },
    {
     "name": "stderr",
     "output_type": "stream",
     "text": [
      "Some weights of the model checkpoint at bert-base-multilingual-cased were not used when initializing BertModel: ['cls.predictions.transform.dense.weight', 'cls.seq_relationship.weight', 'cls.predictions.transform.LayerNorm.weight', 'cls.predictions.bias', 'cls.seq_relationship.bias', 'cls.predictions.transform.dense.bias', 'cls.predictions.transform.LayerNorm.bias']\n",
      "- This IS expected if you are initializing BertModel from the checkpoint of a model trained on another task or with another architecture (e.g. initializing a BertForSequenceClassification model from a BertForPreTraining model).\n",
      "- This IS NOT expected if you are initializing BertModel from the checkpoint of a model that you expect to be exactly identical (initializing a BertForSequenceClassification model from a BertForSequenceClassification model).\n",
      "Warning: Baseline not Found for bert-base-multilingual-cased on ja at /home/ryoryon66/.pyenv/versions/3.9.8/lib/python3.9/site-packages/bert_score/rescale_baseline/ja/bert-base-multilingual-cased.tsv\n",
      "Some weights of the model checkpoint at bert-base-multilingual-cased were not used when initializing BertModel: ['cls.predictions.transform.dense.weight', 'cls.seq_relationship.weight', 'cls.predictions.transform.LayerNorm.weight', 'cls.predictions.bias', 'cls.seq_relationship.bias', 'cls.predictions.transform.dense.bias', 'cls.predictions.transform.LayerNorm.bias']\n",
      "- This IS expected if you are initializing BertModel from the checkpoint of a model trained on another task or with another architecture (e.g. initializing a BertForSequenceClassification model from a BertForPreTraining model).\n",
      "- This IS NOT expected if you are initializing BertModel from the checkpoint of a model that you expect to be exactly identical (initializing a BertForSequenceClassification model from a BertForSequenceClassification model).\n",
      "Warning: Baseline not Found for bert-base-multilingual-cased on ja at /home/ryoryon66/.pyenv/versions/3.9.8/lib/python3.9/site-packages/bert_score/rescale_baseline/ja/bert-base-multilingual-cased.tsv\n",
      "Some weights of the model checkpoint at bert-base-multilingual-cased were not used when initializing BertModel: ['cls.predictions.transform.dense.weight', 'cls.seq_relationship.weight', 'cls.predictions.transform.LayerNorm.weight', 'cls.predictions.bias', 'cls.seq_relationship.bias', 'cls.predictions.transform.dense.bias', 'cls.predictions.transform.LayerNorm.bias']\n",
      "- This IS expected if you are initializing BertModel from the checkpoint of a model trained on another task or with another architecture (e.g. initializing a BertForSequenceClassification model from a BertForPreTraining model).\n",
      "- This IS NOT expected if you are initializing BertModel from the checkpoint of a model that you expect to be exactly identical (initializing a BertForSequenceClassification model from a BertForSequenceClassification model).\n",
      "Warning: Baseline not Found for bert-base-multilingual-cased on ja at /home/ryoryon66/.pyenv/versions/3.9.8/lib/python3.9/site-packages/bert_score/rescale_baseline/ja/bert-base-multilingual-cased.tsv\n",
      "Some weights of the model checkpoint at bert-base-multilingual-cased were not used when initializing BertModel: ['cls.predictions.transform.dense.weight', 'cls.seq_relationship.weight', 'cls.predictions.transform.LayerNorm.weight', 'cls.predictions.bias', 'cls.seq_relationship.bias', 'cls.predictions.transform.dense.bias', 'cls.predictions.transform.LayerNorm.bias']\n",
      "- This IS expected if you are initializing BertModel from the checkpoint of a model trained on another task or with another architecture (e.g. initializing a BertForSequenceClassification model from a BertForPreTraining model).\n",
      "- This IS NOT expected if you are initializing BertModel from the checkpoint of a model that you expect to be exactly identical (initializing a BertForSequenceClassification model from a BertForSequenceClassification model).\n",
      "Warning: Baseline not Found for bert-base-multilingual-cased on ja at /home/ryoryon66/.pyenv/versions/3.9.8/lib/python3.9/site-packages/bert_score/rescale_baseline/ja/bert-base-multilingual-cased.tsv\n",
      "Some weights of the model checkpoint at bert-base-multilingual-cased were not used when initializing BertModel: ['cls.predictions.transform.dense.weight', 'cls.seq_relationship.weight', 'cls.predictions.transform.LayerNorm.weight', 'cls.predictions.bias', 'cls.seq_relationship.bias', 'cls.predictions.transform.dense.bias', 'cls.predictions.transform.LayerNorm.bias']\n",
      "- This IS expected if you are initializing BertModel from the checkpoint of a model trained on another task or with another architecture (e.g. initializing a BertForSequenceClassification model from a BertForPreTraining model).\n",
      "- This IS NOT expected if you are initializing BertModel from the checkpoint of a model that you expect to be exactly identical (initializing a BertForSequenceClassification model from a BertForSequenceClassification model).\n"
     ]
    },
    {
     "name": "stdout",
     "output_type": "stream",
     "text": [
      "hallucination pr_scores: [0.2837721228599549]\n",
      "hallucination re_scores: [0.285929787158966]\n",
      "hallucination f1_scores: [0.2855604767799377]\n",
      "processing 99 / 100\n"
     ]
    },
    {
     "name": "stderr",
     "output_type": "stream",
     "text": [
      "Warning: Baseline not Found for bert-base-multilingual-cased on ja at /home/ryoryon66/.pyenv/versions/3.9.8/lib/python3.9/site-packages/bert_score/rescale_baseline/ja/bert-base-multilingual-cased.tsv\n",
      "/tmp/ipykernel_28939/1749957329.py:18: FutureWarning: The frame.append method is deprecated and will be removed from pandas in a future version. Use pandas.concat instead.\n",
      "  score_df = score_df.append({\n"
     ]
    },
    {
     "name": "stdout",
     "output_type": "stream",
     "text": [
      "QA20CAPR-0199 「ラティーノ」と呼ばれることもある、スペイン語を母国語とする中南米などからアメリカに移住してきた移民及びその子孫のことを何というでしょう? メキシコ系アメリカ人(メヒコ系アメリカ人)\n",
      "sampled: ['メキシコ系アメリカ人(Mexican American)', '日系人アメリカ人と呼ばれることもあります。', 'メキシコ系アメリカ人', 'ペルー移民(ペルー・コロンビアなど)、メキシコ移民(メキシコ・キューバなど)、ブラジル移民(ブラジル・ペルーなど)、フィリピン移民(フィリピン・キューバなど)。', '日系人 アメリカに移民した人々は、ハワイやメキシコなど、日本からの移民と共に移住してきた日本人や日系アメリカ人も含まれます。']\n",
      "r_sentences\n",
      "['メキシコ系アメリカ人(メヒコ系アメリカ人)']\n",
      "メキシコ系アメリカ人(メヒコ系アメリカ人)\n"
     ]
    },
    {
     "name": "stderr",
     "output_type": "stream",
     "text": [
      "Some weights of the model checkpoint at bert-base-multilingual-cased were not used when initializing BertModel: ['cls.predictions.transform.dense.weight', 'cls.seq_relationship.weight', 'cls.predictions.transform.LayerNorm.weight', 'cls.predictions.bias', 'cls.seq_relationship.bias', 'cls.predictions.transform.dense.bias', 'cls.predictions.transform.LayerNorm.bias']\n",
      "- This IS expected if you are initializing BertModel from the checkpoint of a model trained on another task or with another architecture (e.g. initializing a BertForSequenceClassification model from a BertForPreTraining model).\n",
      "- This IS NOT expected if you are initializing BertModel from the checkpoint of a model that you expect to be exactly identical (initializing a BertForSequenceClassification model from a BertForSequenceClassification model).\n",
      "Warning: Baseline not Found for bert-base-multilingual-cased on ja at /home/ryoryon66/.pyenv/versions/3.9.8/lib/python3.9/site-packages/bert_score/rescale_baseline/ja/bert-base-multilingual-cased.tsv\n",
      "Some weights of the model checkpoint at bert-base-multilingual-cased were not used when initializing BertModel: ['cls.predictions.transform.dense.weight', 'cls.seq_relationship.weight', 'cls.predictions.transform.LayerNorm.weight', 'cls.predictions.bias', 'cls.seq_relationship.bias', 'cls.predictions.transform.dense.bias', 'cls.predictions.transform.LayerNorm.bias']\n",
      "- This IS expected if you are initializing BertModel from the checkpoint of a model trained on another task or with another architecture (e.g. initializing a BertForSequenceClassification model from a BertForPreTraining model).\n",
      "- This IS NOT expected if you are initializing BertModel from the checkpoint of a model that you expect to be exactly identical (initializing a BertForSequenceClassification model from a BertForSequenceClassification model).\n",
      "Warning: Baseline not Found for bert-base-multilingual-cased on ja at /home/ryoryon66/.pyenv/versions/3.9.8/lib/python3.9/site-packages/bert_score/rescale_baseline/ja/bert-base-multilingual-cased.tsv\n",
      "Some weights of the model checkpoint at bert-base-multilingual-cased were not used when initializing BertModel: ['cls.predictions.transform.dense.weight', 'cls.seq_relationship.weight', 'cls.predictions.transform.LayerNorm.weight', 'cls.predictions.bias', 'cls.seq_relationship.bias', 'cls.predictions.transform.dense.bias', 'cls.predictions.transform.LayerNorm.bias']\n",
      "- This IS expected if you are initializing BertModel from the checkpoint of a model trained on another task or with another architecture (e.g. initializing a BertForSequenceClassification model from a BertForPreTraining model).\n",
      "- This IS NOT expected if you are initializing BertModel from the checkpoint of a model that you expect to be exactly identical (initializing a BertForSequenceClassification model from a BertForSequenceClassification model).\n",
      "Warning: Baseline not Found for bert-base-multilingual-cased on ja at /home/ryoryon66/.pyenv/versions/3.9.8/lib/python3.9/site-packages/bert_score/rescale_baseline/ja/bert-base-multilingual-cased.tsv\n",
      "Some weights of the model checkpoint at bert-base-multilingual-cased were not used when initializing BertModel: ['cls.predictions.transform.dense.weight', 'cls.seq_relationship.weight', 'cls.predictions.transform.LayerNorm.weight', 'cls.predictions.bias', 'cls.seq_relationship.bias', 'cls.predictions.transform.dense.bias', 'cls.predictions.transform.LayerNorm.bias']\n",
      "- This IS expected if you are initializing BertModel from the checkpoint of a model trained on another task or with another architecture (e.g. initializing a BertForSequenceClassification model from a BertForPreTraining model).\n",
      "- This IS NOT expected if you are initializing BertModel from the checkpoint of a model that you expect to be exactly identical (initializing a BertForSequenceClassification model from a BertForSequenceClassification model).\n",
      "Warning: Baseline not Found for bert-base-multilingual-cased on ja at /home/ryoryon66/.pyenv/versions/3.9.8/lib/python3.9/site-packages/bert_score/rescale_baseline/ja/bert-base-multilingual-cased.tsv\n",
      "Some weights of the model checkpoint at bert-base-multilingual-cased were not used when initializing BertModel: ['cls.predictions.transform.dense.weight', 'cls.seq_relationship.weight', 'cls.predictions.transform.LayerNorm.weight', 'cls.predictions.bias', 'cls.seq_relationship.bias', 'cls.predictions.transform.dense.bias', 'cls.predictions.transform.LayerNorm.bias']\n",
      "- This IS expected if you are initializing BertModel from the checkpoint of a model trained on another task or with another architecture (e.g. initializing a BertForSequenceClassification model from a BertForPreTraining model).\n",
      "- This IS NOT expected if you are initializing BertModel from the checkpoint of a model that you expect to be exactly identical (initializing a BertForSequenceClassification model from a BertForSequenceClassification model).\n"
     ]
    },
    {
     "name": "stdout",
     "output_type": "stream",
     "text": [
      "hallucination pr_scores: [0.21333646774291995]\n",
      "hallucination re_scores: [0.22132219076156617]\n",
      "hallucination f1_scores: [0.21850081682205208]\n"
     ]
    },
    {
     "name": "stderr",
     "output_type": "stream",
     "text": [
      "Warning: Baseline not Found for bert-base-multilingual-cased on ja at /home/ryoryon66/.pyenv/versions/3.9.8/lib/python3.9/site-packages/bert_score/rescale_baseline/ja/bert-base-multilingual-cased.tsv\n",
      "/tmp/ipykernel_28939/1749957329.py:18: FutureWarning: The frame.append method is deprecated and will be removed from pandas in a future version. Use pandas.concat instead.\n",
      "  score_df = score_df.append({\n"
     ]
    }
   ],
   "source": [
    "score_df = pd.DataFrame(columns=['qid','pr_score','re_score','f1_score'])\n",
    "\n",
    "\n",
    "\n",
    "for i in range(num_questions): \n",
    "\n",
    "    logger.info(\"processing {} / {}\".format(i,num_questions))\n",
    "    \n",
    "    qid = annotated_df.iloc[i]['qid']\n",
    "    query = annotated_df.iloc[i]['question']\n",
    "    output = annotated_df.iloc[i]['generated_answer']\n",
    "    \n",
    "    print(qid,query,output)\n",
    "    \n",
    "    pr_scores,re_scores,f1_scores = get_hallucination_score(query,output)\n",
    "    \n",
    "    \n",
    "    score_df = score_df.append({\n",
    "            'qid':qid,\n",
    "            'pr_score':\",\".join([str(x) for x in pr_scores]), \n",
    "            're_score':\",\".join([str(x) for x in re_scores]), \n",
    "            'f1_score':\",\".join([str(x) for x in f1_scores]),\n",
    "        },\n",
    "        ignore_index=True)\n",
    "    \n",
    "    \n",
    "\n"
   ]
  },
  {
   "cell_type": "code",
   "execution_count": 6,
   "metadata": {},
   "outputs": [
    {
     "name": "stdout",
     "output_type": "stream",
     "text": [
      "done\n"
     ]
    }
   ],
   "source": [
    "logger.info(\"done\") "
   ]
  },
  {
   "cell_type": "code",
   "execution_count": 7,
   "metadata": {},
   "outputs": [],
   "source": [
    "result_df = pd.merge(annotated_df,score_df,on='qid')\n"
   ]
  },
  {
   "cell_type": "code",
   "execution_count": 8,
   "metadata": {},
   "outputs": [
    {
     "data": {
      "text/html": [
       "<div>\n",
       "<style scoped>\n",
       "    .dataframe tbody tr th:only-of-type {\n",
       "        vertical-align: middle;\n",
       "    }\n",
       "\n",
       "    .dataframe tbody tr th {\n",
       "        vertical-align: top;\n",
       "    }\n",
       "\n",
       "    .dataframe thead th {\n",
       "        text-align: right;\n",
       "    }\n",
       "</style>\n",
       "<table border=\"1\" class=\"dataframe\">\n",
       "  <thead>\n",
       "    <tr style=\"text-align: right;\">\n",
       "      <th></th>\n",
       "      <th>qid</th>\n",
       "      <th>question</th>\n",
       "      <th>answer</th>\n",
       "      <th>generated_answer</th>\n",
       "      <th>factuality</th>\n",
       "      <th>faithfulness</th>\n",
       "      <th>collapsed</th>\n",
       "      <th>Unnamed: 7</th>\n",
       "      <th>備考</th>\n",
       "      <th>pr_score</th>\n",
       "      <th>re_score</th>\n",
       "      <th>f1_score</th>\n",
       "    </tr>\n",
       "  </thead>\n",
       "  <tbody>\n",
       "    <tr>\n",
       "      <th>0</th>\n",
       "      <td>QA20CAPR-0001</td>\n",
       "      <td>和名をハダカカメガイといい、実は巻き貝の一種とされている、その姿から「流氷の天使」と呼ばれる...</td>\n",
       "      <td>クリオネ</td>\n",
       "      <td>マンタレイ</td>\n",
       "      <td>0</td>\n",
       "      <td>1</td>\n",
       "      <td>NaN</td>\n",
       "      <td>NaN</td>\n",
       "      <td>NaN</td>\n",
       "      <td>0.2779397964477539</td>\n",
       "      <td>0.3075794219970703</td>\n",
       "      <td>0.29431746006011966</td>\n",
       "    </tr>\n",
       "    <tr>\n",
       "      <th>1</th>\n",
       "      <td>QA20CAPR-0003</td>\n",
       "      <td>作家のルスティケロが、マルコ・ポーロから聞いた話をまとめた作品といえば何でしょう?</td>\n",
       "      <td>東方見聞録</td>\n",
       "      <td>黄金の島 イタリア ヴェネツィア マルコ・ポーロは、1453年から1547年までヴェネツィア...</td>\n",
       "      <td>0,0,0,0</td>\n",
       "      <td>1,1,1,1</td>\n",
       "      <td>NaN</td>\n",
       "      <td>NaN</td>\n",
       "      <td>NaN</td>\n",
       "      <td>0.34653526544570923,0.26607000827789296,0.2897...</td>\n",
       "      <td>0.2877379298210145,0.23800286054611205,0.24998...</td>\n",
       "      <td>0.32035247087478647,0.2599305272102356,0.27316...</td>\n",
       "    </tr>\n",
       "    <tr>\n",
       "      <th>2</th>\n",
       "      <td>QA20CAPR-0005</td>\n",
       "      <td>『騎士団長殺し』『1Q84』『ノルウェイの森』といった小説の作者は誰でしょう?</td>\n",
       "      <td>村上春樹</td>\n",
       "      <td>村上春樹</td>\n",
       "      <td>1</td>\n",
       "      <td>1</td>\n",
       "      <td>NaN</td>\n",
       "      <td>NaN</td>\n",
       "      <td>NaN</td>\n",
       "      <td>0.033839106559753473</td>\n",
       "      <td>0.08103141784667972</td>\n",
       "      <td>0.06134070158004762</td>\n",
       "    </tr>\n",
       "    <tr>\n",
       "      <th>3</th>\n",
       "      <td>QA20CAPR-0007</td>\n",
       "      <td>サッカーで、コーナーキックやフリーキックのようにボールを止めた状態から始めるプレーのことを何...</td>\n",
       "      <td>セットプレー</td>\n",
       "      <td>ゴールキック(goal kick)といいます。\\n</td>\n",
       "      <td>0</td>\n",
       "      <td>1</td>\n",
       "      <td>NaN</td>\n",
       "      <td>NaN</td>\n",
       "      <td>NaN</td>\n",
       "      <td>0.22520406246185293</td>\n",
       "      <td>0.2134673714637757</td>\n",
       "      <td>0.22019673585891736</td>\n",
       "    </tr>\n",
       "    <tr>\n",
       "      <th>4</th>\n",
       "      <td>QA20CAPR-0009</td>\n",
       "      <td>今から約140億年前に起こったとされる、宇宙の始まりの大爆発のことを何というでしょう?</td>\n",
       "      <td>ビッグバン</td>\n",
       "      <td>ビッグバン」といいます。\\n</td>\n",
       "      <td>1</td>\n",
       "      <td>1</td>\n",
       "      <td>NaN</td>\n",
       "      <td>NaN</td>\n",
       "      <td>NaN</td>\n",
       "      <td>0.2448107600212098</td>\n",
       "      <td>0.13099884986877441</td>\n",
       "      <td>0.19189232587814323</td>\n",
       "    </tr>\n",
       "    <tr>\n",
       "      <th>...</th>\n",
       "      <td>...</td>\n",
       "      <td>...</td>\n",
       "      <td>...</td>\n",
       "      <td>...</td>\n",
       "      <td>...</td>\n",
       "      <td>...</td>\n",
       "      <td>...</td>\n",
       "      <td>...</td>\n",
       "      <td>...</td>\n",
       "      <td>...</td>\n",
       "      <td>...</td>\n",
       "      <td>...</td>\n",
       "    </tr>\n",
       "    <tr>\n",
       "      <th>95</th>\n",
       "      <td>QA20CAPR-0191</td>\n",
       "      <td>1853年から56年までウクライナ地方を中心として起こった、白衣の天使・ナイチンゲールが活躍...</td>\n",
       "      <td>クリミア戦争</td>\n",
       "      <td>クリミア戦争</td>\n",
       "      <td>1</td>\n",
       "      <td>NaN</td>\n",
       "      <td>NaN</td>\n",
       "      <td>NaN</td>\n",
       "      <td>NaN</td>\n",
       "      <td>5.551115123125783e-17</td>\n",
       "      <td>5.551115123125783e-17</td>\n",
       "      <td>5.551115123125783e-17</td>\n",
       "    </tr>\n",
       "    <tr>\n",
       "      <th>96</th>\n",
       "      <td>QA20CAPR-0193</td>\n",
       "      <td>JRAでは使える色は4色までと決められている、競馬の騎手がレースで着用する服を何というでしょう?</td>\n",
       "      <td>勝負服 (競馬)</td>\n",
       "      <td>ジョッキーベスト</td>\n",
       "      <td>0</td>\n",
       "      <td>NaN</td>\n",
       "      <td>NaN</td>\n",
       "      <td>NaN</td>\n",
       "      <td>NaN</td>\n",
       "      <td>0.13986426591873172</td>\n",
       "      <td>0.159848415851593</td>\n",
       "      <td>0.1500673294067382</td>\n",
       "    </tr>\n",
       "    <tr>\n",
       "      <th>97</th>\n",
       "      <td>QA20CAPR-0195</td>\n",
       "      <td>日本人では1974年に佐藤栄作元首相が受賞した、ノーベル賞の中では唯一学問以外のことが対象と...</td>\n",
       "      <td>ノーベル平和賞</td>\n",
       "      <td>経済学メダル</td>\n",
       "      <td>0</td>\n",
       "      <td>NaN</td>\n",
       "      <td>NaN</td>\n",
       "      <td>NaN</td>\n",
       "      <td>NaN</td>\n",
       "      <td>0.235014545917511</td>\n",
       "      <td>0.2689949274063111</td>\n",
       "      <td>0.2529024481773377</td>\n",
       "    </tr>\n",
       "    <tr>\n",
       "      <th>98</th>\n",
       "      <td>QA20CAPR-0197</td>\n",
       "      <td>もともとは競馬で1番の馬の場所に棒を立てていたことに由来する、モータースポーツで予選最高位だ...</td>\n",
       "      <td>ポールポジション</td>\n",
       "      <td>ポールポジション(決勝)</td>\n",
       "      <td>1</td>\n",
       "      <td>NaN</td>\n",
       "      <td>NaN</td>\n",
       "      <td>NaN</td>\n",
       "      <td>NaN</td>\n",
       "      <td>0.2837721228599549</td>\n",
       "      <td>0.285929787158966</td>\n",
       "      <td>0.2855604767799377</td>\n",
       "    </tr>\n",
       "    <tr>\n",
       "      <th>99</th>\n",
       "      <td>QA20CAPR-0199</td>\n",
       "      <td>「ラティーノ」と呼ばれることもある、スペイン語を母国語とする中南米などからアメリカに移住して...</td>\n",
       "      <td>ヒスパニック</td>\n",
       "      <td>メキシコ系アメリカ人(メヒコ系アメリカ人)</td>\n",
       "      <td>0</td>\n",
       "      <td>NaN</td>\n",
       "      <td>NaN</td>\n",
       "      <td>NaN</td>\n",
       "      <td>NaN</td>\n",
       "      <td>0.21333646774291995</td>\n",
       "      <td>0.22132219076156617</td>\n",
       "      <td>0.21850081682205208</td>\n",
       "    </tr>\n",
       "  </tbody>\n",
       "</table>\n",
       "<p>100 rows × 12 columns</p>\n",
       "</div>"
      ],
      "text/plain": [
       "              qid                                           question  \\\n",
       "0   QA20CAPR-0001  和名をハダカカメガイといい、実は巻き貝の一種とされている、その姿から「流氷の天使」と呼ばれる...   \n",
       "1   QA20CAPR-0003          作家のルスティケロが、マルコ・ポーロから聞いた話をまとめた作品といえば何でしょう?   \n",
       "2   QA20CAPR-0005            『騎士団長殺し』『1Q84』『ノルウェイの森』といった小説の作者は誰でしょう?   \n",
       "3   QA20CAPR-0007  サッカーで、コーナーキックやフリーキックのようにボールを止めた状態から始めるプレーのことを何...   \n",
       "4   QA20CAPR-0009        今から約140億年前に起こったとされる、宇宙の始まりの大爆発のことを何というでしょう?   \n",
       "..            ...                                                ...   \n",
       "95  QA20CAPR-0191  1853年から56年までウクライナ地方を中心として起こった、白衣の天使・ナイチンゲールが活躍...   \n",
       "96  QA20CAPR-0193   JRAでは使える色は4色までと決められている、競馬の騎手がレースで着用する服を何というでしょう?   \n",
       "97  QA20CAPR-0195  日本人では1974年に佐藤栄作元首相が受賞した、ノーベル賞の中では唯一学問以外のことが対象と...   \n",
       "98  QA20CAPR-0197  もともとは競馬で1番の馬の場所に棒を立てていたことに由来する、モータースポーツで予選最高位だ...   \n",
       "99  QA20CAPR-0199  「ラティーノ」と呼ばれることもある、スペイン語を母国語とする中南米などからアメリカに移住して...   \n",
       "\n",
       "      answer                                   generated_answer factuality  \\\n",
       "0       クリオネ                                              マンタレイ          0   \n",
       "1      東方見聞録  黄金の島 イタリア ヴェネツィア マルコ・ポーロは、1453年から1547年までヴェネツィア...    0,0,0,0   \n",
       "2       村上春樹                                               村上春樹          1   \n",
       "3     セットプレー                          ゴールキック(goal kick)といいます。\\n          0   \n",
       "4      ビッグバン                                     ビッグバン」といいます。\\n          1   \n",
       "..       ...                                                ...        ...   \n",
       "95    クリミア戦争                                             クリミア戦争          1   \n",
       "96  勝負服 (競馬)                                           ジョッキーベスト          0   \n",
       "97   ノーベル平和賞                                             経済学メダル          0   \n",
       "98  ポールポジション                                       ポールポジション(決勝)          1   \n",
       "99    ヒスパニック                              メキシコ系アメリカ人(メヒコ系アメリカ人)          0   \n",
       "\n",
       "   faithfulness  collapsed Unnamed: 7   備考  \\\n",
       "0             1        NaN        NaN  NaN   \n",
       "1       1,1,1,1        NaN        NaN  NaN   \n",
       "2             1        NaN        NaN  NaN   \n",
       "3             1        NaN        NaN  NaN   \n",
       "4             1        NaN        NaN  NaN   \n",
       "..          ...        ...        ...  ...   \n",
       "95          NaN        NaN        NaN  NaN   \n",
       "96          NaN        NaN        NaN  NaN   \n",
       "97          NaN        NaN        NaN  NaN   \n",
       "98          NaN        NaN        NaN  NaN   \n",
       "99          NaN        NaN        NaN  NaN   \n",
       "\n",
       "                                             pr_score  \\\n",
       "0                                  0.2779397964477539   \n",
       "1   0.34653526544570923,0.26607000827789296,0.2897...   \n",
       "2                                0.033839106559753473   \n",
       "3                                 0.22520406246185293   \n",
       "4                                  0.2448107600212098   \n",
       "..                                                ...   \n",
       "95                              5.551115123125783e-17   \n",
       "96                                0.13986426591873172   \n",
       "97                                  0.235014545917511   \n",
       "98                                 0.2837721228599549   \n",
       "99                                0.21333646774291995   \n",
       "\n",
       "                                             re_score  \\\n",
       "0                                  0.3075794219970703   \n",
       "1   0.2877379298210145,0.23800286054611205,0.24998...   \n",
       "2                                 0.08103141784667972   \n",
       "3                                  0.2134673714637757   \n",
       "4                                 0.13099884986877441   \n",
       "..                                                ...   \n",
       "95                              5.551115123125783e-17   \n",
       "96                                  0.159848415851593   \n",
       "97                                 0.2689949274063111   \n",
       "98                                  0.285929787158966   \n",
       "99                                0.22132219076156617   \n",
       "\n",
       "                                             f1_score  \n",
       "0                                 0.29431746006011966  \n",
       "1   0.32035247087478647,0.2599305272102356,0.27316...  \n",
       "2                                 0.06134070158004762  \n",
       "3                                 0.22019673585891736  \n",
       "4                                 0.19189232587814323  \n",
       "..                                                ...  \n",
       "95                              5.551115123125783e-17  \n",
       "96                                 0.1500673294067382  \n",
       "97                                 0.2529024481773377  \n",
       "98                                 0.2855604767799377  \n",
       "99                                0.21850081682205208  \n",
       "\n",
       "[100 rows x 12 columns]"
      ]
     },
     "metadata": {},
     "output_type": "display_data"
    }
   ],
   "source": [
    "display(result_df)"
   ]
  },
  {
   "cell_type": "code",
   "execution_count": 9,
   "metadata": {},
   "outputs": [],
   "source": [
    "result_df.to_csv(DATA_DIR + 'df_JAQKE_selfcheck.csv',index=False)"
   ]
  },
  {
   "cell_type": "code",
   "execution_count": 10,
   "metadata": {},
   "outputs": [],
   "source": [
    "result_df = pd.read_csv(DATA_DIR + 'df_JAQKE_selfcheck.csv')\n",
    "\n",
    "def extract_label_and_scores():\n",
    "    \n",
    "    df = result_df.copy()    \n",
    "\n",
    "    df  = df[['qid','factuality','pr_score','re_score','f1_score']]\n",
    "    \n",
    "    label_and_scores = {\n",
    "        'label':[],\n",
    "        'pr':[],\n",
    "        're':[],\n",
    "        'f1':[]\n",
    "    }\n",
    "    \n",
    "    for i in range(df.shape[0]):\n",
    "        labels = df.iloc[i]['factuality'].split(',')\n",
    "        pr_scores = df.iloc[i]['pr_score'].split(',')\n",
    "        re_scores = df.iloc[i]['re_score'].split(',')\n",
    "        f1_scores = df.iloc[i]['f1_score'].split(',')\n",
    "        \n",
    "        labels = [1 - int(x) for x in labels]\n",
    "        pr_scores = [float(x) for x in pr_scores]\n",
    "        re_scores = [float(x) for x in re_scores]\n",
    "        f1_scores = [float(x) for x in f1_scores]\n",
    "        \n",
    "        assert len(labels) == len(pr_scores), f\"labels: {labels}, pr_scores: {pr_scores},i: {i}\"\n",
    "        \n",
    "        label_and_scores['label'].extend(labels)\n",
    "        label_and_scores['pr'].extend(pr_scores)\n",
    "        label_and_scores['re'].extend(re_scores)\n",
    "        label_and_scores['f1'].extend(f1_scores)\n",
    "        \n",
    "\n",
    "    return label_and_scores"
   ]
  },
  {
   "cell_type": "code",
   "execution_count": 11,
   "metadata": {},
   "outputs": [
    {
     "data": {
      "text/plain": [
       "{'label': [1,\n",
       "  1,\n",
       "  1,\n",
       "  1,\n",
       "  1,\n",
       "  0,\n",
       "  1,\n",
       "  0,\n",
       "  1,\n",
       "  0,\n",
       "  0,\n",
       "  1,\n",
       "  1,\n",
       "  0,\n",
       "  1,\n",
       "  1,\n",
       "  1,\n",
       "  1,\n",
       "  0,\n",
       "  1,\n",
       "  0,\n",
       "  0,\n",
       "  1,\n",
       "  0,\n",
       "  1,\n",
       "  1,\n",
       "  1,\n",
       "  0,\n",
       "  0,\n",
       "  0,\n",
       "  0,\n",
       "  0,\n",
       "  1,\n",
       "  1,\n",
       "  0,\n",
       "  0,\n",
       "  1,\n",
       "  1,\n",
       "  1,\n",
       "  1,\n",
       "  1,\n",
       "  1,\n",
       "  0,\n",
       "  0,\n",
       "  0,\n",
       "  0,\n",
       "  0,\n",
       "  1,\n",
       "  1,\n",
       "  1,\n",
       "  1,\n",
       "  1,\n",
       "  1,\n",
       "  0,\n",
       "  0,\n",
       "  0,\n",
       "  1,\n",
       "  1,\n",
       "  1,\n",
       "  1,\n",
       "  1,\n",
       "  1,\n",
       "  1,\n",
       "  0,\n",
       "  1,\n",
       "  0,\n",
       "  1,\n",
       "  1,\n",
       "  1,\n",
       "  1,\n",
       "  0,\n",
       "  0,\n",
       "  1,\n",
       "  1,\n",
       "  1,\n",
       "  0,\n",
       "  1,\n",
       "  1,\n",
       "  0,\n",
       "  1,\n",
       "  1,\n",
       "  1,\n",
       "  1,\n",
       "  0,\n",
       "  0,\n",
       "  0,\n",
       "  0,\n",
       "  0,\n",
       "  1,\n",
       "  1,\n",
       "  1,\n",
       "  0,\n",
       "  0,\n",
       "  1,\n",
       "  1,\n",
       "  0,\n",
       "  0,\n",
       "  0,\n",
       "  1,\n",
       "  0,\n",
       "  1,\n",
       "  1,\n",
       "  0,\n",
       "  0,\n",
       "  1,\n",
       "  1,\n",
       "  0,\n",
       "  0,\n",
       "  1,\n",
       "  0,\n",
       "  1,\n",
       "  0,\n",
       "  1,\n",
       "  1,\n",
       "  0,\n",
       "  1,\n",
       "  1,\n",
       "  0,\n",
       "  0,\n",
       "  1,\n",
       "  1,\n",
       "  0,\n",
       "  1],\n",
       " 'pr': [0.2779397964477539,\n",
       "  0.34653526544570923,\n",
       "  0.26607000827789296,\n",
       "  0.2897722482681274,\n",
       "  0.24167813062667853,\n",
       "  0.033839106559753473,\n",
       "  0.22520406246185293,\n",
       "  0.2448107600212098,\n",
       "  0.2747790336608886,\n",
       "  0.2598912596702576,\n",
       "  0.05069062709808353,\n",
       "  0.084438693523407,\n",
       "  0.2816828608512879,\n",
       "  0.1725177764892579,\n",
       "  0.10443842411041254,\n",
       "  0.24970996379852298,\n",
       "  0.24017518758773804,\n",
       "  0.10573343038558958,\n",
       "  5.551115123125783e-17,\n",
       "  0.36991282701492295,\n",
       "  0.41930632591247563,\n",
       "  0.37214604616165176,\n",
       "  0.10742352008819583,\n",
       "  5.551115123125783e-17,\n",
       "  0.22791568040847782,\n",
       "  0.14503794908523565,\n",
       "  0.21807621717452996,\n",
       "  0.22292176485061652,\n",
       "  0.24037840366363522,\n",
       "  0.3165364623069763,\n",
       "  0.04228882789611821,\n",
       "  0.1681323885917663,\n",
       "  0.07180464267730707,\n",
       "  0.17410219907760624,\n",
       "  0.11856901645660411,\n",
       "  5.551115123125783e-17,\n",
       "  0.2595452666282654,\n",
       "  0.17529840469360347,\n",
       "  0.09998610019683835,\n",
       "  0.28585047721862794,\n",
       "  0.32575815916061396,\n",
       "  0.313018274307251,\n",
       "  0.00950992107391363,\n",
       "  0.18408354520797726,\n",
       "  0.07514259815216062,\n",
       "  0.2560921549797057,\n",
       "  0.07694578170776373,\n",
       "  0.12387843132019047,\n",
       "  0.1384706974029542,\n",
       "  0.16518871784210218,\n",
       "  0.23444340229034435,\n",
       "  0.10022029876708974,\n",
       "  0.3798628807067871,\n",
       "  0.33065884113311783,\n",
       "  0.36093140840530397,\n",
       "  0.32919124364852903,\n",
       "  0.3941161751747132,\n",
       "  0.4200373172760011,\n",
       "  0.2849180102348328,\n",
       "  0.2643771886825561,\n",
       "  0.2809919118881226,\n",
       "  0.24217966794967638,\n",
       "  0.33957345485687257,\n",
       "  0.2430195927619933,\n",
       "  0.2738929986953734,\n",
       "  0.3345237612724305,\n",
       "  0.30075148344039915,\n",
       "  0.31173281669616704,\n",
       "  0.31173281669616704,\n",
       "  0.31732212305068974,\n",
       "  0.15418421030044552,\n",
       "  0.026775872707367004,\n",
       "  0.28715850114822394,\n",
       "  0.14267153739929203,\n",
       "  0.18215379714965818,\n",
       "  0.013638544082641674,\n",
       "  0.2506858944892882,\n",
       "  0.31881289482116704,\n",
       "  0.17604898214340206,\n",
       "  0.36771287918090806,\n",
       "  0.36012831926345823,\n",
       "  0.36390211582183835,\n",
       "  0.2959853172302246,\n",
       "  0.3355030536651613,\n",
       "  0.35482709407806395,\n",
       "  0.36125704050064084,\n",
       "  0.13086279630661016,\n",
       "  0.030249428749084484,\n",
       "  0.30857323408126824,\n",
       "  0.1738813996315003,\n",
       "  0.31223961114883414,\n",
       "  0.18456311225891114,\n",
       "  0.06780568361282358,\n",
       "  0.24419069290161138,\n",
       "  0.15323333740234374,\n",
       "  0.18274849653244024,\n",
       "  0.02527668476104733,\n",
       "  0.039157032966613825,\n",
       "  0.1397884011268615,\n",
       "  0.19118452072143552,\n",
       "  0.021737599372863736,\n",
       "  0.17888571023941044,\n",
       "  0.20934102535247812,\n",
       "  0.07445214986801146,\n",
       "  0.23165142536163327,\n",
       "  0.40932133197784415,\n",
       "  0.2357659220695496,\n",
       "  0.11331599950790405,\n",
       "  0.07193895578384407,\n",
       "  0.07059094905853269,\n",
       "  0.32054331302642813,\n",
       "  0.22612656354904176,\n",
       "  0.28409017324447633,\n",
       "  0.278328549861908,\n",
       "  0.1492562890052796,\n",
       "  0.22767353057861328,\n",
       "  0.3117050170898437,\n",
       "  0.04969471693038943,\n",
       "  5.551115123125783e-17,\n",
       "  0.13986426591873172,\n",
       "  0.235014545917511,\n",
       "  0.2837721228599549,\n",
       "  0.21333646774291995],\n",
       " 're': [0.3075794219970703,\n",
       "  0.2877379298210145,\n",
       "  0.23800286054611205,\n",
       "  0.24998383522033696,\n",
       "  0.2871047377586365,\n",
       "  0.08103141784667972,\n",
       "  0.2134673714637757,\n",
       "  0.13099884986877441,\n",
       "  0.29435046911239626,\n",
       "  0.2727479219436646,\n",
       "  0.11047371625900274,\n",
       "  0.0935177564620972,\n",
       "  0.3493590593338012,\n",
       "  0.08292698860168449,\n",
       "  0.13145835399627676,\n",
       "  0.22423733472824095,\n",
       "  0.26398138999938964,\n",
       "  0.08174444437026973,\n",
       "  5.551115123125783e-17,\n",
       "  0.3173640727996825,\n",
       "  0.41366995573043824,\n",
       "  0.3895036220550536,\n",
       "  0.1089617490768433,\n",
       "  5.551115123125783e-17,\n",
       "  0.33349267244338987,\n",
       "  0.16332474946975706,\n",
       "  0.19067571163177485,\n",
       "  0.24785747528076169,\n",
       "  0.24457405805587762,\n",
       "  0.30928332805633557,\n",
       "  0.02014900445938106,\n",
       "  0.26273028850555413,\n",
       "  0.08630871772766119,\n",
       "  0.2019834399223327,\n",
       "  0.07162456512451176,\n",
       "  5.551115123125783e-17,\n",
       "  0.261905312538147,\n",
       "  0.2577724695205688,\n",
       "  0.11109496355056758,\n",
       "  0.29759300947189327,\n",
       "  0.2629891872406006,\n",
       "  0.2859824895858765,\n",
       "  0.00950992107391363,\n",
       "  0.21424531936645513,\n",
       "  0.1282379865646363,\n",
       "  0.1767877101898192,\n",
       "  0.039364337921142634,\n",
       "  0.11539740562438969,\n",
       "  0.09233906269073483,\n",
       "  0.09312437772750867,\n",
       "  0.14554816484451286,\n",
       "  0.11475235223770139,\n",
       "  0.3438011646270751,\n",
       "  0.3533708810806273,\n",
       "  0.3417816281318665,\n",
       "  0.30847353935241706,\n",
       "  0.22861356735229488,\n",
       "  0.27922432422637944,\n",
       "  0.3037759065628051,\n",
       "  0.34059957265853874,\n",
       "  0.27361696958541865,\n",
       "  0.2835741519927978,\n",
       "  0.29727958440780633,\n",
       "  0.2962910413742066,\n",
       "  0.2825714349746704,\n",
       "  0.332557773590088,\n",
       "  0.3189383506774902,\n",
       "  0.3231645584106446,\n",
       "  0.3231645584106446,\n",
       "  0.30618427991867064,\n",
       "  0.18140872716903683,\n",
       "  0.0435245037078858,\n",
       "  0.20957686901092534,\n",
       "  0.15410596132278448,\n",
       "  0.23425968885421755,\n",
       "  0.030466365814209057,\n",
       "  0.27433063983917233,\n",
       "  0.3696353316307067,\n",
       "  0.27255109548568723,\n",
       "  0.30170385837554936,\n",
       "  0.2854831218719483,\n",
       "  0.3008697271347045,\n",
       "  0.2716074585914611,\n",
       "  0.35782071352005,\n",
       "  0.35343154668807997,\n",
       "  0.36293184757232655,\n",
       "  0.09862209558486937,\n",
       "  0.01567580699920651,\n",
       "  0.30306740999221804,\n",
       "  0.17446775436401363,\n",
       "  0.32296924591064463,\n",
       "  0.20300624370574938,\n",
       "  0.1450913667678833,\n",
       "  0.21772650480270378,\n",
       "  0.17090350389480596,\n",
       "  0.23569840192794794,\n",
       "  0.014929533004760798,\n",
       "  0.07043194770812994,\n",
       "  0.14077615737915042,\n",
       "  0.22894686460494998,\n",
       "  0.040397548675537076,\n",
       "  0.13466663360595707,\n",
       "  0.23775817155838014,\n",
       "  0.07865378856658928,\n",
       "  0.21296540498733524,\n",
       "  0.3215394377708436,\n",
       "  0.23009610176086426,\n",
       "  0.12645285129547118,\n",
       "  0.0854784607887269,\n",
       "  0.1155322313308716,\n",
       "  0.3073986768722533,\n",
       "  0.3268705725669861,\n",
       "  0.2311078786849975,\n",
       "  0.29405248165130604,\n",
       "  0.19414167404174815,\n",
       "  0.21667947769165044,\n",
       "  0.2810756206512452,\n",
       "  0.0983352065086365,\n",
       "  5.551115123125783e-17,\n",
       "  0.159848415851593,\n",
       "  0.2689949274063111,\n",
       "  0.285929787158966,\n",
       "  0.22132219076156617],\n",
       " 'f1': [0.29431746006011966,\n",
       "  0.32035247087478647,\n",
       "  0.2599305272102356,\n",
       "  0.2731657147407531,\n",
       "  0.269773757457733,\n",
       "  0.06134070158004762,\n",
       "  0.22019673585891736,\n",
       "  0.19189232587814323,\n",
       "  0.2855098605155945,\n",
       "  0.2664884924888611,\n",
       "  0.08255188465118418,\n",
       "  0.08901854753494248,\n",
       "  0.32335325479507443,\n",
       "  0.1300228238105774,\n",
       "  0.11895749568939201,\n",
       "  0.23789663314819337,\n",
       "  0.25775074958801275,\n",
       "  0.09462858438491811,\n",
       "  5.551115123125783e-17,\n",
       "  0.34512037038803095,\n",
       "  0.41775279045104985,\n",
       "  0.3828537225723267,\n",
       "  0.10836244821548449,\n",
       "  5.551115123125783e-17,\n",
       "  0.2862091660499572,\n",
       "  0.15439997911453235,\n",
       "  0.20537655353546141,\n",
       "  0.2403533339500426,\n",
       "  0.24333283901214608,\n",
       "  0.31337627172470084,\n",
       "  0.03194496631622312,\n",
       "  0.2183173656463623,\n",
       "  0.07923303842544543,\n",
       "  0.18889418840408323,\n",
       "  0.09618798494338987,\n",
       "  5.551115123125783e-17,\n",
       "  0.26120475530624393,\n",
       "  0.22079513072967524,\n",
       "  0.10644763708114618,\n",
       "  0.29801561832427986,\n",
       "  0.29637117385864264,\n",
       "  0.3002526521682739,\n",
       "  0.00950992107391363,\n",
       "  0.20041875839233395,\n",
       "  0.10897978544235226,\n",
       "  0.2221969962120057,\n",
       "  0.05918796062469475,\n",
       "  0.11969052553176882,\n",
       "  0.11662687063217164,\n",
       "  0.13245760202407836,\n",
       "  0.19302548170089728,\n",
       "  0.10767441987991327,\n",
       "  0.36347995996475235,\n",
       "  0.3454631567001343,\n",
       "  0.3530328750610352,\n",
       "  0.32250541448593134,\n",
       "  0.32287969589233406,\n",
       "  0.3577367305755616,\n",
       "  0.3018128156661987,\n",
       "  0.3211744308471679,\n",
       "  0.28676825761795044,\n",
       "  0.2679847955703736,\n",
       "  0.31965247392654417,\n",
       "  0.27583128213882446,\n",
       "  0.2791130423545838,\n",
       "  0.33383318185806277,\n",
       "  0.31052113771438594,\n",
       "  0.31794608831405646,\n",
       "  0.31794608831405646,\n",
       "  0.3125342965126038,\n",
       "  0.16832739114761347,\n",
       "  0.03557559251785286,\n",
       "  0.2505556821823121,\n",
       "  0.1493249654769898,\n",
       "  0.211255419254303,\n",
       "  0.022450292110443193,\n",
       "  0.26279345750808714,\n",
       "  0.3463394999504089,\n",
       "  0.23031504154205332,\n",
       "  0.3374200701713562,\n",
       "  0.326937997341156,\n",
       "  0.33537100553512567,\n",
       "  0.2879136800765992,\n",
       "  0.3479202389717103,\n",
       "  0.35634120702743527,\n",
       "  0.36429531574249274,\n",
       "  0.11521681547164911,\n",
       "  0.02326254844665515,\n",
       "  0.30591703653335567,\n",
       "  0.1750856399536133,\n",
       "  0.31796712875366206,\n",
       "  0.1951848983764648,\n",
       "  0.10864211320877087,\n",
       "  0.23157961368560778,\n",
       "  0.1630601167678834,\n",
       "  0.21085190773010262,\n",
       "  0.02025189399719235,\n",
       "  0.05550284385681148,\n",
       "  0.14084583520889282,\n",
       "  0.21486393213272093,\n",
       "  0.03158285617828366,\n",
       "  0.15754573345184325,\n",
       "  0.22973300218582146,\n",
       "  0.07657517194747926,\n",
       "  0.22243618965148923,\n",
       "  0.3684833765029907,\n",
       "  0.23496125936508186,\n",
       "  0.12011883258819583,\n",
       "  0.07879661321640027,\n",
       "  0.09609657526016238,\n",
       "  0.3144965887069702,\n",
       "  0.28013836145401005,\n",
       "  0.25894290208816534,\n",
       "  0.28683551549911507,\n",
       "  0.17533041238784802,\n",
       "  0.22363564968109131,\n",
       "  0.29732228517532355,\n",
       "  0.07642612457275383,\n",
       "  5.551115123125783e-17,\n",
       "  0.1500673294067382,\n",
       "  0.2529024481773377,\n",
       "  0.2855604767799377,\n",
       "  0.21850081682205208]}"
      ]
     },
     "execution_count": 11,
     "metadata": {},
     "output_type": "execute_result"
    }
   ],
   "source": [
    "extract_label_and_scores()"
   ]
  },
  {
   "cell_type": "code",
   "execution_count": 12,
   "metadata": {},
   "outputs": [
    {
     "data": {
      "text/plain": [
       "{'pr': 0.6797385620915033, 're': 0.6315359477124183, 'f1': 0.6633986928104575}"
      ]
     },
     "execution_count": 12,
     "metadata": {},
     "output_type": "execute_result"
    }
   ],
   "source": [
    "# AUC scoreを計算   \n",
    "from sklearn.metrics import roc_auc_score\n",
    "\n",
    "label_and_scores = extract_label_and_scores()\n",
    "\n",
    "aucs = {\n",
    "    'pr':roc_auc_score(label_and_scores['label'],label_and_scores['pr']),\n",
    "    're':roc_auc_score(label_and_scores['label'],label_and_scores['re']),\n",
    "    'f1':roc_auc_score(label_and_scores['label'],label_and_scores['f1']),\n",
    "}\n",
    "\n",
    "aucs\n"
   ]
  },
  {
   "cell_type": "code",
   "execution_count": 13,
   "metadata": {},
   "outputs": [
    {
     "data": {
      "application/javascript": "/* Put everything inside the global mpl namespace */\n/* global mpl */\nwindow.mpl = {};\n\nmpl.get_websocket_type = function () {\n    if (typeof WebSocket !== 'undefined') {\n        return WebSocket;\n    } else if (typeof MozWebSocket !== 'undefined') {\n        return MozWebSocket;\n    } else {\n        alert(\n            'Your browser does not have WebSocket support. ' +\n                'Please try Chrome, Safari or Firefox ≥ 6. ' +\n                'Firefox 4 and 5 are also supported but you ' +\n                'have to enable WebSockets in about:config.'\n        );\n    }\n};\n\nmpl.figure = function (figure_id, websocket, ondownload, parent_element) {\n    this.id = figure_id;\n\n    this.ws = websocket;\n\n    this.supports_binary = this.ws.binaryType !== undefined;\n\n    if (!this.supports_binary) {\n        var warnings = document.getElementById('mpl-warnings');\n        if (warnings) {\n            warnings.style.display = 'block';\n            warnings.textContent =\n                'This browser does not support binary websocket messages. ' +\n                'Performance may be slow.';\n        }\n    }\n\n    this.imageObj = new Image();\n\n    this.context = undefined;\n    this.message = undefined;\n    this.canvas = undefined;\n    this.rubberband_canvas = undefined;\n    this.rubberband_context = undefined;\n    this.format_dropdown = undefined;\n\n    this.image_mode = 'full';\n\n    this.root = document.createElement('div');\n    this.root.setAttribute('style', 'display: inline-block');\n    this._root_extra_style(this.root);\n\n    parent_element.appendChild(this.root);\n\n    this._init_header(this);\n    this._init_canvas(this);\n    this._init_toolbar(this);\n\n    var fig = this;\n\n    this.waiting = false;\n\n    this.ws.onopen = function () {\n        fig.send_message('supports_binary', { value: fig.supports_binary });\n        fig.send_message('send_image_mode', {});\n        if (fig.ratio !== 1) {\n            fig.send_message('set_device_pixel_ratio', {\n                device_pixel_ratio: fig.ratio,\n            });\n        }\n        fig.send_message('refresh', {});\n    };\n\n    this.imageObj.onload = function () {\n        if (fig.image_mode === 'full') {\n            // Full images could contain transparency (where diff images\n            // almost always do), so we need to clear the canvas so that\n            // there is no ghosting.\n            fig.context.clearRect(0, 0, fig.canvas.width, fig.canvas.height);\n        }\n        fig.context.drawImage(fig.imageObj, 0, 0);\n    };\n\n    this.imageObj.onunload = function () {\n        fig.ws.close();\n    };\n\n    this.ws.onmessage = this._make_on_message_function(this);\n\n    this.ondownload = ondownload;\n};\n\nmpl.figure.prototype._init_header = function () {\n    var titlebar = document.createElement('div');\n    titlebar.classList =\n        'ui-dialog-titlebar ui-widget-header ui-corner-all ui-helper-clearfix';\n    var titletext = document.createElement('div');\n    titletext.classList = 'ui-dialog-title';\n    titletext.setAttribute(\n        'style',\n        'width: 100%; text-align: center; padding: 3px;'\n    );\n    titlebar.appendChild(titletext);\n    this.root.appendChild(titlebar);\n    this.header = titletext;\n};\n\nmpl.figure.prototype._canvas_extra_style = function (_canvas_div) {};\n\nmpl.figure.prototype._root_extra_style = function (_canvas_div) {};\n\nmpl.figure.prototype._init_canvas = function () {\n    var fig = this;\n\n    var canvas_div = (this.canvas_div = document.createElement('div'));\n    canvas_div.setAttribute('tabindex', '0');\n    canvas_div.setAttribute(\n        'style',\n        'border: 1px solid #ddd;' +\n            'box-sizing: content-box;' +\n            'clear: both;' +\n            'min-height: 1px;' +\n            'min-width: 1px;' +\n            'outline: 0;' +\n            'overflow: hidden;' +\n            'position: relative;' +\n            'resize: both;' +\n            'z-index: 2;'\n    );\n\n    function on_keyboard_event_closure(name) {\n        return function (event) {\n            return fig.key_event(event, name);\n        };\n    }\n\n    canvas_div.addEventListener(\n        'keydown',\n        on_keyboard_event_closure('key_press')\n    );\n    canvas_div.addEventListener(\n        'keyup',\n        on_keyboard_event_closure('key_release')\n    );\n\n    this._canvas_extra_style(canvas_div);\n    this.root.appendChild(canvas_div);\n\n    var canvas = (this.canvas = document.createElement('canvas'));\n    canvas.classList.add('mpl-canvas');\n    canvas.setAttribute(\n        'style',\n        'box-sizing: content-box;' +\n            'pointer-events: none;' +\n            'position: relative;' +\n            'z-index: 0;'\n    );\n\n    this.context = canvas.getContext('2d');\n\n    var backingStore =\n        this.context.backingStorePixelRatio ||\n        this.context.webkitBackingStorePixelRatio ||\n        this.context.mozBackingStorePixelRatio ||\n        this.context.msBackingStorePixelRatio ||\n        this.context.oBackingStorePixelRatio ||\n        this.context.backingStorePixelRatio ||\n        1;\n\n    this.ratio = (window.devicePixelRatio || 1) / backingStore;\n\n    var rubberband_canvas = (this.rubberband_canvas = document.createElement(\n        'canvas'\n    ));\n    rubberband_canvas.setAttribute(\n        'style',\n        'box-sizing: content-box;' +\n            'left: 0;' +\n            'pointer-events: none;' +\n            'position: absolute;' +\n            'top: 0;' +\n            'z-index: 1;'\n    );\n\n    // Apply a ponyfill if ResizeObserver is not implemented by browser.\n    if (this.ResizeObserver === undefined) {\n        if (window.ResizeObserver !== undefined) {\n            this.ResizeObserver = window.ResizeObserver;\n        } else {\n            var obs = _JSXTOOLS_RESIZE_OBSERVER({});\n            this.ResizeObserver = obs.ResizeObserver;\n        }\n    }\n\n    this.resizeObserverInstance = new this.ResizeObserver(function (entries) {\n        var nentries = entries.length;\n        for (var i = 0; i < nentries; i++) {\n            var entry = entries[i];\n            var width, height;\n            if (entry.contentBoxSize) {\n                if (entry.contentBoxSize instanceof Array) {\n                    // Chrome 84 implements new version of spec.\n                    width = entry.contentBoxSize[0].inlineSize;\n                    height = entry.contentBoxSize[0].blockSize;\n                } else {\n                    // Firefox implements old version of spec.\n                    width = entry.contentBoxSize.inlineSize;\n                    height = entry.contentBoxSize.blockSize;\n                }\n            } else {\n                // Chrome <84 implements even older version of spec.\n                width = entry.contentRect.width;\n                height = entry.contentRect.height;\n            }\n\n            // Keep the size of the canvas and rubber band canvas in sync with\n            // the canvas container.\n            if (entry.devicePixelContentBoxSize) {\n                // Chrome 84 implements new version of spec.\n                canvas.setAttribute(\n                    'width',\n                    entry.devicePixelContentBoxSize[0].inlineSize\n                );\n                canvas.setAttribute(\n                    'height',\n                    entry.devicePixelContentBoxSize[0].blockSize\n                );\n            } else {\n                canvas.setAttribute('width', width * fig.ratio);\n                canvas.setAttribute('height', height * fig.ratio);\n            }\n            /* This rescales the canvas back to display pixels, so that it\n             * appears correct on HiDPI screens. */\n            canvas.style.width = width + 'px';\n            canvas.style.height = height + 'px';\n\n            rubberband_canvas.setAttribute('width', width);\n            rubberband_canvas.setAttribute('height', height);\n\n            // And update the size in Python. We ignore the initial 0/0 size\n            // that occurs as the element is placed into the DOM, which should\n            // otherwise not happen due to the minimum size styling.\n            if (fig.ws.readyState == 1 && width != 0 && height != 0) {\n                fig.request_resize(width, height);\n            }\n        }\n    });\n    this.resizeObserverInstance.observe(canvas_div);\n\n    function on_mouse_event_closure(name) {\n        /* User Agent sniffing is bad, but WebKit is busted:\n         * https://bugs.webkit.org/show_bug.cgi?id=144526\n         * https://bugs.webkit.org/show_bug.cgi?id=181818\n         * The worst that happens here is that they get an extra browser\n         * selection when dragging, if this check fails to catch them.\n         */\n        var UA = navigator.userAgent;\n        var isWebKit = /AppleWebKit/.test(UA) && !/Chrome/.test(UA);\n        if(isWebKit) {\n            return function (event) {\n                /* This prevents the web browser from automatically changing to\n                 * the text insertion cursor when the button is pressed. We\n                 * want to control all of the cursor setting manually through\n                 * the 'cursor' event from matplotlib */\n                event.preventDefault()\n                return fig.mouse_event(event, name);\n            };\n        } else {\n            return function (event) {\n                return fig.mouse_event(event, name);\n            };\n        }\n    }\n\n    canvas_div.addEventListener(\n        'mousedown',\n        on_mouse_event_closure('button_press')\n    );\n    canvas_div.addEventListener(\n        'mouseup',\n        on_mouse_event_closure('button_release')\n    );\n    canvas_div.addEventListener(\n        'dblclick',\n        on_mouse_event_closure('dblclick')\n    );\n    // Throttle sequential mouse events to 1 every 20ms.\n    canvas_div.addEventListener(\n        'mousemove',\n        on_mouse_event_closure('motion_notify')\n    );\n\n    canvas_div.addEventListener(\n        'mouseenter',\n        on_mouse_event_closure('figure_enter')\n    );\n    canvas_div.addEventListener(\n        'mouseleave',\n        on_mouse_event_closure('figure_leave')\n    );\n\n    canvas_div.addEventListener('wheel', function (event) {\n        if (event.deltaY < 0) {\n            event.step = 1;\n        } else {\n            event.step = -1;\n        }\n        on_mouse_event_closure('scroll')(event);\n    });\n\n    canvas_div.appendChild(canvas);\n    canvas_div.appendChild(rubberband_canvas);\n\n    this.rubberband_context = rubberband_canvas.getContext('2d');\n    this.rubberband_context.strokeStyle = '#000000';\n\n    this._resize_canvas = function (width, height, forward) {\n        if (forward) {\n            canvas_div.style.width = width + 'px';\n            canvas_div.style.height = height + 'px';\n        }\n    };\n\n    // Disable right mouse context menu.\n    canvas_div.addEventListener('contextmenu', function (_e) {\n        event.preventDefault();\n        return false;\n    });\n\n    function set_focus() {\n        canvas.focus();\n        canvas_div.focus();\n    }\n\n    window.setTimeout(set_focus, 100);\n};\n\nmpl.figure.prototype._init_toolbar = function () {\n    var fig = this;\n\n    var toolbar = document.createElement('div');\n    toolbar.classList = 'mpl-toolbar';\n    this.root.appendChild(toolbar);\n\n    function on_click_closure(name) {\n        return function (_event) {\n            return fig.toolbar_button_onclick(name);\n        };\n    }\n\n    function on_mouseover_closure(tooltip) {\n        return function (event) {\n            if (!event.currentTarget.disabled) {\n                return fig.toolbar_button_onmouseover(tooltip);\n            }\n        };\n    }\n\n    fig.buttons = {};\n    var buttonGroup = document.createElement('div');\n    buttonGroup.classList = 'mpl-button-group';\n    for (var toolbar_ind in mpl.toolbar_items) {\n        var name = mpl.toolbar_items[toolbar_ind][0];\n        var tooltip = mpl.toolbar_items[toolbar_ind][1];\n        var image = mpl.toolbar_items[toolbar_ind][2];\n        var method_name = mpl.toolbar_items[toolbar_ind][3];\n\n        if (!name) {\n            /* Instead of a spacer, we start a new button group. */\n            if (buttonGroup.hasChildNodes()) {\n                toolbar.appendChild(buttonGroup);\n            }\n            buttonGroup = document.createElement('div');\n            buttonGroup.classList = 'mpl-button-group';\n            continue;\n        }\n\n        var button = (fig.buttons[name] = document.createElement('button'));\n        button.classList = 'mpl-widget';\n        button.setAttribute('role', 'button');\n        button.setAttribute('aria-disabled', 'false');\n        button.addEventListener('click', on_click_closure(method_name));\n        button.addEventListener('mouseover', on_mouseover_closure(tooltip));\n\n        var icon_img = document.createElement('img');\n        icon_img.src = '_images/' + image + '.png';\n        icon_img.srcset = '_images/' + image + '_large.png 2x';\n        icon_img.alt = tooltip;\n        button.appendChild(icon_img);\n\n        buttonGroup.appendChild(button);\n    }\n\n    if (buttonGroup.hasChildNodes()) {\n        toolbar.appendChild(buttonGroup);\n    }\n\n    var fmt_picker = document.createElement('select');\n    fmt_picker.classList = 'mpl-widget';\n    toolbar.appendChild(fmt_picker);\n    this.format_dropdown = fmt_picker;\n\n    for (var ind in mpl.extensions) {\n        var fmt = mpl.extensions[ind];\n        var option = document.createElement('option');\n        option.selected = fmt === mpl.default_extension;\n        option.innerHTML = fmt;\n        fmt_picker.appendChild(option);\n    }\n\n    var status_bar = document.createElement('span');\n    status_bar.classList = 'mpl-message';\n    toolbar.appendChild(status_bar);\n    this.message = status_bar;\n};\n\nmpl.figure.prototype.request_resize = function (x_pixels, y_pixels) {\n    // Request matplotlib to resize the figure. Matplotlib will then trigger a resize in the client,\n    // which will in turn request a refresh of the image.\n    this.send_message('resize', { width: x_pixels, height: y_pixels });\n};\n\nmpl.figure.prototype.send_message = function (type, properties) {\n    properties['type'] = type;\n    properties['figure_id'] = this.id;\n    this.ws.send(JSON.stringify(properties));\n};\n\nmpl.figure.prototype.send_draw_message = function () {\n    if (!this.waiting) {\n        this.waiting = true;\n        this.ws.send(JSON.stringify({ type: 'draw', figure_id: this.id }));\n    }\n};\n\nmpl.figure.prototype.handle_save = function (fig, _msg) {\n    var format_dropdown = fig.format_dropdown;\n    var format = format_dropdown.options[format_dropdown.selectedIndex].value;\n    fig.ondownload(fig, format);\n};\n\nmpl.figure.prototype.handle_resize = function (fig, msg) {\n    var size = msg['size'];\n    if (size[0] !== fig.canvas.width || size[1] !== fig.canvas.height) {\n        fig._resize_canvas(size[0], size[1], msg['forward']);\n        fig.send_message('refresh', {});\n    }\n};\n\nmpl.figure.prototype.handle_rubberband = function (fig, msg) {\n    var x0 = msg['x0'] / fig.ratio;\n    var y0 = (fig.canvas.height - msg['y0']) / fig.ratio;\n    var x1 = msg['x1'] / fig.ratio;\n    var y1 = (fig.canvas.height - msg['y1']) / fig.ratio;\n    x0 = Math.floor(x0) + 0.5;\n    y0 = Math.floor(y0) + 0.5;\n    x1 = Math.floor(x1) + 0.5;\n    y1 = Math.floor(y1) + 0.5;\n    var min_x = Math.min(x0, x1);\n    var min_y = Math.min(y0, y1);\n    var width = Math.abs(x1 - x0);\n    var height = Math.abs(y1 - y0);\n\n    fig.rubberband_context.clearRect(\n        0,\n        0,\n        fig.canvas.width / fig.ratio,\n        fig.canvas.height / fig.ratio\n    );\n\n    fig.rubberband_context.strokeRect(min_x, min_y, width, height);\n};\n\nmpl.figure.prototype.handle_figure_label = function (fig, msg) {\n    // Updates the figure title.\n    fig.header.textContent = msg['label'];\n};\n\nmpl.figure.prototype.handle_cursor = function (fig, msg) {\n    fig.canvas_div.style.cursor = msg['cursor'];\n};\n\nmpl.figure.prototype.handle_message = function (fig, msg) {\n    fig.message.textContent = msg['message'];\n};\n\nmpl.figure.prototype.handle_draw = function (fig, _msg) {\n    // Request the server to send over a new figure.\n    fig.send_draw_message();\n};\n\nmpl.figure.prototype.handle_image_mode = function (fig, msg) {\n    fig.image_mode = msg['mode'];\n};\n\nmpl.figure.prototype.handle_history_buttons = function (fig, msg) {\n    for (var key in msg) {\n        if (!(key in fig.buttons)) {\n            continue;\n        }\n        fig.buttons[key].disabled = !msg[key];\n        fig.buttons[key].setAttribute('aria-disabled', !msg[key]);\n    }\n};\n\nmpl.figure.prototype.handle_navigate_mode = function (fig, msg) {\n    if (msg['mode'] === 'PAN') {\n        fig.buttons['Pan'].classList.add('active');\n        fig.buttons['Zoom'].classList.remove('active');\n    } else if (msg['mode'] === 'ZOOM') {\n        fig.buttons['Pan'].classList.remove('active');\n        fig.buttons['Zoom'].classList.add('active');\n    } else {\n        fig.buttons['Pan'].classList.remove('active');\n        fig.buttons['Zoom'].classList.remove('active');\n    }\n};\n\nmpl.figure.prototype.updated_canvas_event = function () {\n    // Called whenever the canvas gets updated.\n    this.send_message('ack', {});\n};\n\n// A function to construct a web socket function for onmessage handling.\n// Called in the figure constructor.\nmpl.figure.prototype._make_on_message_function = function (fig) {\n    return function socket_on_message(evt) {\n        if (evt.data instanceof Blob) {\n            var img = evt.data;\n            if (img.type !== 'image/png') {\n                /* FIXME: We get \"Resource interpreted as Image but\n                 * transferred with MIME type text/plain:\" errors on\n                 * Chrome.  But how to set the MIME type?  It doesn't seem\n                 * to be part of the websocket stream */\n                img.type = 'image/png';\n            }\n\n            /* Free the memory for the previous frames */\n            if (fig.imageObj.src) {\n                (window.URL || window.webkitURL).revokeObjectURL(\n                    fig.imageObj.src\n                );\n            }\n\n            fig.imageObj.src = (window.URL || window.webkitURL).createObjectURL(\n                img\n            );\n            fig.updated_canvas_event();\n            fig.waiting = false;\n            return;\n        } else if (\n            typeof evt.data === 'string' &&\n            evt.data.slice(0, 21) === 'data:image/png;base64'\n        ) {\n            fig.imageObj.src = evt.data;\n            fig.updated_canvas_event();\n            fig.waiting = false;\n            return;\n        }\n\n        var msg = JSON.parse(evt.data);\n        var msg_type = msg['type'];\n\n        // Call the  \"handle_{type}\" callback, which takes\n        // the figure and JSON message as its only arguments.\n        try {\n            var callback = fig['handle_' + msg_type];\n        } catch (e) {\n            console.log(\n                \"No handler for the '\" + msg_type + \"' message type: \",\n                msg\n            );\n            return;\n        }\n\n        if (callback) {\n            try {\n                // console.log(\"Handling '\" + msg_type + \"' message: \", msg);\n                callback(fig, msg);\n            } catch (e) {\n                console.log(\n                    \"Exception inside the 'handler_\" + msg_type + \"' callback:\",\n                    e,\n                    e.stack,\n                    msg\n                );\n            }\n        }\n    };\n};\n\n\n/*\n * return a copy of an object with only non-object keys\n * we need this to avoid circular references\n * https://stackoverflow.com/a/24161582/3208463\n */\nfunction simpleKeys(original) {\n    return Object.keys(original).reduce(function (obj, key) {\n        if (typeof original[key] !== 'object') {\n            obj[key] = original[key];\n        }\n        return obj;\n    }, {});\n}\n\nmpl.figure.prototype.mouse_event = function (event, name) {\n    if (name === 'button_press') {\n        this.canvas.focus();\n        this.canvas_div.focus();\n    }\n\n    // from https://stackoverflow.com/q/1114465\n    var boundingRect = this.canvas.getBoundingClientRect();\n    var x = (event.clientX - boundingRect.left) * this.ratio;\n    var y = (event.clientY - boundingRect.top) * this.ratio;\n\n    this.send_message(name, {\n        x: x,\n        y: y,\n        button: event.button,\n        step: event.step,\n        guiEvent: simpleKeys(event),\n    });\n\n    return false;\n};\n\nmpl.figure.prototype._key_event_extra = function (_event, _name) {\n    // Handle any extra behaviour associated with a key event\n};\n\nmpl.figure.prototype.key_event = function (event, name) {\n    // Prevent repeat events\n    if (name === 'key_press') {\n        if (event.key === this._key) {\n            return;\n        } else {\n            this._key = event.key;\n        }\n    }\n    if (name === 'key_release') {\n        this._key = null;\n    }\n\n    var value = '';\n    if (event.ctrlKey && event.key !== 'Control') {\n        value += 'ctrl+';\n    }\n    else if (event.altKey && event.key !== 'Alt') {\n        value += 'alt+';\n    }\n    else if (event.shiftKey && event.key !== 'Shift') {\n        value += 'shift+';\n    }\n\n    value += 'k' + event.key;\n\n    this._key_event_extra(event, name);\n\n    this.send_message(name, { key: value, guiEvent: simpleKeys(event) });\n    return false;\n};\n\nmpl.figure.prototype.toolbar_button_onclick = function (name) {\n    if (name === 'download') {\n        this.handle_save(this, null);\n    } else {\n        this.send_message('toolbar_button', { name: name });\n    }\n};\n\nmpl.figure.prototype.toolbar_button_onmouseover = function (tooltip) {\n    this.message.textContent = tooltip;\n};\n\n///////////////// REMAINING CONTENT GENERATED BY embed_js.py /////////////////\n// prettier-ignore\nvar _JSXTOOLS_RESIZE_OBSERVER=function(A){var t,i=new WeakMap,n=new WeakMap,a=new WeakMap,r=new WeakMap,o=new Set;function s(e){if(!(this instanceof s))throw new TypeError(\"Constructor requires 'new' operator\");i.set(this,e)}function h(){throw new TypeError(\"Function is not a constructor\")}function c(e,t,i,n){e=0 in arguments?Number(arguments[0]):0,t=1 in arguments?Number(arguments[1]):0,i=2 in arguments?Number(arguments[2]):0,n=3 in arguments?Number(arguments[3]):0,this.right=(this.x=this.left=e)+(this.width=i),this.bottom=(this.y=this.top=t)+(this.height=n),Object.freeze(this)}function d(){t=requestAnimationFrame(d);var s=new WeakMap,p=new Set;o.forEach((function(t){r.get(t).forEach((function(i){var r=t instanceof window.SVGElement,o=a.get(t),d=r?0:parseFloat(o.paddingTop),f=r?0:parseFloat(o.paddingRight),l=r?0:parseFloat(o.paddingBottom),u=r?0:parseFloat(o.paddingLeft),g=r?0:parseFloat(o.borderTopWidth),m=r?0:parseFloat(o.borderRightWidth),w=r?0:parseFloat(o.borderBottomWidth),b=u+f,F=d+l,v=(r?0:parseFloat(o.borderLeftWidth))+m,W=g+w,y=r?0:t.offsetHeight-W-t.clientHeight,E=r?0:t.offsetWidth-v-t.clientWidth,R=b+v,z=F+W,M=r?t.width:parseFloat(o.width)-R-E,O=r?t.height:parseFloat(o.height)-z-y;if(n.has(t)){var k=n.get(t);if(k[0]===M&&k[1]===O)return}n.set(t,[M,O]);var S=Object.create(h.prototype);S.target=t,S.contentRect=new c(u,d,M,O),s.has(i)||(s.set(i,[]),p.add(i)),s.get(i).push(S)}))})),p.forEach((function(e){i.get(e).call(e,s.get(e),e)}))}return s.prototype.observe=function(i){if(i instanceof window.Element){r.has(i)||(r.set(i,new Set),o.add(i),a.set(i,window.getComputedStyle(i)));var n=r.get(i);n.has(this)||n.add(this),cancelAnimationFrame(t),t=requestAnimationFrame(d)}},s.prototype.unobserve=function(i){if(i instanceof window.Element&&r.has(i)){var n=r.get(i);n.has(this)&&(n.delete(this),n.size||(r.delete(i),o.delete(i))),n.size||r.delete(i),o.size||cancelAnimationFrame(t)}},A.DOMRectReadOnly=c,A.ResizeObserver=s,A.ResizeObserverEntry=h,A}; // eslint-disable-line\nmpl.toolbar_items = [[\"Home\", \"Reset original view\", \"fa fa-home\", \"home\"], [\"Back\", \"Back to previous view\", \"fa fa-arrow-left\", \"back\"], [\"Forward\", \"Forward to next view\", \"fa fa-arrow-right\", \"forward\"], [\"\", \"\", \"\", \"\"], [\"Pan\", \"Left button pans, Right button zooms\\nx/y fixes axis, CTRL fixes aspect\", \"fa fa-arrows\", \"pan\"], [\"Zoom\", \"Zoom to rectangle\\nx/y fixes axis\", \"fa fa-square-o\", \"zoom\"], [\"\", \"\", \"\", \"\"], [\"Download\", \"Download plot\", \"fa fa-floppy-o\", \"download\"]];\n\nmpl.extensions = [\"eps\", \"jpeg\", \"pgf\", \"pdf\", \"png\", \"ps\", \"raw\", \"svg\", \"tif\", \"webp\"];\n\nmpl.default_extension = \"png\";/* global mpl */\n\nvar comm_websocket_adapter = function (comm) {\n    // Create a \"websocket\"-like object which calls the given IPython comm\n    // object with the appropriate methods. Currently this is a non binary\n    // socket, so there is still some room for performance tuning.\n    var ws = {};\n\n    ws.binaryType = comm.kernel.ws.binaryType;\n    ws.readyState = comm.kernel.ws.readyState;\n    function updateReadyState(_event) {\n        if (comm.kernel.ws) {\n            ws.readyState = comm.kernel.ws.readyState;\n        } else {\n            ws.readyState = 3; // Closed state.\n        }\n    }\n    comm.kernel.ws.addEventListener('open', updateReadyState);\n    comm.kernel.ws.addEventListener('close', updateReadyState);\n    comm.kernel.ws.addEventListener('error', updateReadyState);\n\n    ws.close = function () {\n        comm.close();\n    };\n    ws.send = function (m) {\n        //console.log('sending', m);\n        comm.send(m);\n    };\n    // Register the callback with on_msg.\n    comm.on_msg(function (msg) {\n        //console.log('receiving', msg['content']['data'], msg);\n        var data = msg['content']['data'];\n        if (data['blob'] !== undefined) {\n            data = {\n                data: new Blob(msg['buffers'], { type: data['blob'] }),\n            };\n        }\n        // Pass the mpl event to the overridden (by mpl) onmessage function.\n        ws.onmessage(data);\n    });\n    return ws;\n};\n\nmpl.mpl_figure_comm = function (comm, msg) {\n    // This is the function which gets called when the mpl process\n    // starts-up an IPython Comm through the \"matplotlib\" channel.\n\n    var id = msg.content.data.id;\n    // Get hold of the div created by the display call when the Comm\n    // socket was opened in Python.\n    var element = document.getElementById(id);\n    var ws_proxy = comm_websocket_adapter(comm);\n\n    function ondownload(figure, _format) {\n        window.open(figure.canvas.toDataURL());\n    }\n\n    var fig = new mpl.figure(id, ws_proxy, ondownload, element);\n\n    // Call onopen now - mpl needs it, as it is assuming we've passed it a real\n    // web socket which is closed, not our websocket->open comm proxy.\n    ws_proxy.onopen();\n\n    fig.parent_element = element;\n    fig.cell_info = mpl.find_output_cell(\"<div id='\" + id + \"'></div>\");\n    if (!fig.cell_info) {\n        console.error('Failed to find cell for figure', id, fig);\n        return;\n    }\n    fig.cell_info[0].output_area.element.on(\n        'cleared',\n        { fig: fig },\n        fig._remove_fig_handler\n    );\n};\n\nmpl.figure.prototype.handle_close = function (fig, msg) {\n    var width = fig.canvas.width / fig.ratio;\n    fig.cell_info[0].output_area.element.off(\n        'cleared',\n        fig._remove_fig_handler\n    );\n    fig.resizeObserverInstance.unobserve(fig.canvas_div);\n\n    // Update the output cell to use the data from the current canvas.\n    fig.push_to_output();\n    var dataURL = fig.canvas.toDataURL();\n    // Re-enable the keyboard manager in IPython - without this line, in FF,\n    // the notebook keyboard shortcuts fail.\n    IPython.keyboard_manager.enable();\n    fig.parent_element.innerHTML =\n        '<img src=\"' + dataURL + '\" width=\"' + width + '\">';\n    fig.close_ws(fig, msg);\n};\n\nmpl.figure.prototype.close_ws = function (fig, msg) {\n    fig.send_message('closing', msg);\n    // fig.ws.close()\n};\n\nmpl.figure.prototype.push_to_output = function (_remove_interactive) {\n    // Turn the data on the canvas into data in the output cell.\n    var width = this.canvas.width / this.ratio;\n    var dataURL = this.canvas.toDataURL();\n    this.cell_info[1]['text/html'] =\n        '<img src=\"' + dataURL + '\" width=\"' + width + '\">';\n};\n\nmpl.figure.prototype.updated_canvas_event = function () {\n    // Tell IPython that the notebook contents must change.\n    IPython.notebook.set_dirty(true);\n    this.send_message('ack', {});\n    var fig = this;\n    // Wait a second, then push the new image to the DOM so\n    // that it is saved nicely (might be nice to debounce this).\n    setTimeout(function () {\n        fig.push_to_output();\n    }, 1000);\n};\n\nmpl.figure.prototype._init_toolbar = function () {\n    var fig = this;\n\n    var toolbar = document.createElement('div');\n    toolbar.classList = 'btn-toolbar';\n    this.root.appendChild(toolbar);\n\n    function on_click_closure(name) {\n        return function (_event) {\n            return fig.toolbar_button_onclick(name);\n        };\n    }\n\n    function on_mouseover_closure(tooltip) {\n        return function (event) {\n            if (!event.currentTarget.disabled) {\n                return fig.toolbar_button_onmouseover(tooltip);\n            }\n        };\n    }\n\n    fig.buttons = {};\n    var buttonGroup = document.createElement('div');\n    buttonGroup.classList = 'btn-group';\n    var button;\n    for (var toolbar_ind in mpl.toolbar_items) {\n        var name = mpl.toolbar_items[toolbar_ind][0];\n        var tooltip = mpl.toolbar_items[toolbar_ind][1];\n        var image = mpl.toolbar_items[toolbar_ind][2];\n        var method_name = mpl.toolbar_items[toolbar_ind][3];\n\n        if (!name) {\n            /* Instead of a spacer, we start a new button group. */\n            if (buttonGroup.hasChildNodes()) {\n                toolbar.appendChild(buttonGroup);\n            }\n            buttonGroup = document.createElement('div');\n            buttonGroup.classList = 'btn-group';\n            continue;\n        }\n\n        button = fig.buttons[name] = document.createElement('button');\n        button.classList = 'btn btn-default';\n        button.href = '#';\n        button.title = name;\n        button.innerHTML = '<i class=\"fa ' + image + ' fa-lg\"></i>';\n        button.addEventListener('click', on_click_closure(method_name));\n        button.addEventListener('mouseover', on_mouseover_closure(tooltip));\n        buttonGroup.appendChild(button);\n    }\n\n    if (buttonGroup.hasChildNodes()) {\n        toolbar.appendChild(buttonGroup);\n    }\n\n    // Add the status bar.\n    var status_bar = document.createElement('span');\n    status_bar.classList = 'mpl-message pull-right';\n    toolbar.appendChild(status_bar);\n    this.message = status_bar;\n\n    // Add the close button to the window.\n    var buttongrp = document.createElement('div');\n    buttongrp.classList = 'btn-group inline pull-right';\n    button = document.createElement('button');\n    button.classList = 'btn btn-mini btn-primary';\n    button.href = '#';\n    button.title = 'Stop Interaction';\n    button.innerHTML = '<i class=\"fa fa-power-off icon-remove icon-large\"></i>';\n    button.addEventListener('click', function (_evt) {\n        fig.handle_close(fig, {});\n    });\n    button.addEventListener(\n        'mouseover',\n        on_mouseover_closure('Stop Interaction')\n    );\n    buttongrp.appendChild(button);\n    var titlebar = this.root.querySelector('.ui-dialog-titlebar');\n    titlebar.insertBefore(buttongrp, titlebar.firstChild);\n};\n\nmpl.figure.prototype._remove_fig_handler = function (event) {\n    var fig = event.data.fig;\n    if (event.target !== this) {\n        // Ignore bubbled events from children.\n        return;\n    }\n    fig.close_ws(fig, {});\n};\n\nmpl.figure.prototype._root_extra_style = function (el) {\n    el.style.boxSizing = 'content-box'; // override notebook setting of border-box.\n};\n\nmpl.figure.prototype._canvas_extra_style = function (el) {\n    // this is important to make the div 'focusable\n    el.setAttribute('tabindex', 0);\n    // reach out to IPython and tell the keyboard manager to turn it's self\n    // off when our div gets focus\n\n    // location in version 3\n    if (IPython.notebook.keyboard_manager) {\n        IPython.notebook.keyboard_manager.register_events(el);\n    } else {\n        // location in version 2\n        IPython.keyboard_manager.register_events(el);\n    }\n};\n\nmpl.figure.prototype._key_event_extra = function (event, _name) {\n    // Check for shift+enter\n    if (event.shiftKey && event.which === 13) {\n        this.canvas_div.blur();\n        // select the cell after this one\n        var index = IPython.notebook.find_cell_index(this.cell_info[0]);\n        IPython.notebook.select(index + 1);\n    }\n};\n\nmpl.figure.prototype.handle_save = function (fig, _msg) {\n    fig.ondownload(fig, null);\n};\n\nmpl.find_output_cell = function (html_output) {\n    // Return the cell and output element which can be found *uniquely* in the notebook.\n    // Note - this is a bit hacky, but it is done because the \"notebook_saving.Notebook\"\n    // IPython event is triggered only after the cells have been serialised, which for\n    // our purposes (turning an active figure into a static one), is too late.\n    var cells = IPython.notebook.get_cells();\n    var ncells = cells.length;\n    for (var i = 0; i < ncells; i++) {\n        var cell = cells[i];\n        if (cell.cell_type === 'code') {\n            for (var j = 0; j < cell.output_area.outputs.length; j++) {\n                var data = cell.output_area.outputs[j];\n                if (data.data) {\n                    // IPython >= 3 moved mimebundle to data attribute of output\n                    data = data.data;\n                }\n                if (data['text/html'] === html_output) {\n                    return [cell, data, j];\n                }\n            }\n        }\n    }\n};\n\n// Register the function which deals with the matplotlib target/channel.\n// The kernel may be null if the page has been refreshed.\nif (IPython.notebook.kernel !== null) {\n    IPython.notebook.kernel.comm_manager.register_target(\n        'matplotlib',\n        mpl.mpl_figure_comm\n    );\n}\n",
      "text/plain": [
       "<IPython.core.display.Javascript object>"
      ]
     },
     "metadata": {},
     "output_type": "display_data"
    },
    {
     "data": {
      "text/html": [
       "<div id='d8cc75ba-5bae-42f7-91a6-b2d3603d9360'></div>"
      ],
      "text/plain": [
       "<IPython.core.display.HTML object>"
      ]
     },
     "metadata": {},
     "output_type": "display_data"
    },
    {
     "data": {
      "application/javascript": "/* Put everything inside the global mpl namespace */\n/* global mpl */\nwindow.mpl = {};\n\nmpl.get_websocket_type = function () {\n    if (typeof WebSocket !== 'undefined') {\n        return WebSocket;\n    } else if (typeof MozWebSocket !== 'undefined') {\n        return MozWebSocket;\n    } else {\n        alert(\n            'Your browser does not have WebSocket support. ' +\n                'Please try Chrome, Safari or Firefox ≥ 6. ' +\n                'Firefox 4 and 5 are also supported but you ' +\n                'have to enable WebSockets in about:config.'\n        );\n    }\n};\n\nmpl.figure = function (figure_id, websocket, ondownload, parent_element) {\n    this.id = figure_id;\n\n    this.ws = websocket;\n\n    this.supports_binary = this.ws.binaryType !== undefined;\n\n    if (!this.supports_binary) {\n        var warnings = document.getElementById('mpl-warnings');\n        if (warnings) {\n            warnings.style.display = 'block';\n            warnings.textContent =\n                'This browser does not support binary websocket messages. ' +\n                'Performance may be slow.';\n        }\n    }\n\n    this.imageObj = new Image();\n\n    this.context = undefined;\n    this.message = undefined;\n    this.canvas = undefined;\n    this.rubberband_canvas = undefined;\n    this.rubberband_context = undefined;\n    this.format_dropdown = undefined;\n\n    this.image_mode = 'full';\n\n    this.root = document.createElement('div');\n    this.root.setAttribute('style', 'display: inline-block');\n    this._root_extra_style(this.root);\n\n    parent_element.appendChild(this.root);\n\n    this._init_header(this);\n    this._init_canvas(this);\n    this._init_toolbar(this);\n\n    var fig = this;\n\n    this.waiting = false;\n\n    this.ws.onopen = function () {\n        fig.send_message('supports_binary', { value: fig.supports_binary });\n        fig.send_message('send_image_mode', {});\n        if (fig.ratio !== 1) {\n            fig.send_message('set_device_pixel_ratio', {\n                device_pixel_ratio: fig.ratio,\n            });\n        }\n        fig.send_message('refresh', {});\n    };\n\n    this.imageObj.onload = function () {\n        if (fig.image_mode === 'full') {\n            // Full images could contain transparency (where diff images\n            // almost always do), so we need to clear the canvas so that\n            // there is no ghosting.\n            fig.context.clearRect(0, 0, fig.canvas.width, fig.canvas.height);\n        }\n        fig.context.drawImage(fig.imageObj, 0, 0);\n    };\n\n    this.imageObj.onunload = function () {\n        fig.ws.close();\n    };\n\n    this.ws.onmessage = this._make_on_message_function(this);\n\n    this.ondownload = ondownload;\n};\n\nmpl.figure.prototype._init_header = function () {\n    var titlebar = document.createElement('div');\n    titlebar.classList =\n        'ui-dialog-titlebar ui-widget-header ui-corner-all ui-helper-clearfix';\n    var titletext = document.createElement('div');\n    titletext.classList = 'ui-dialog-title';\n    titletext.setAttribute(\n        'style',\n        'width: 100%; text-align: center; padding: 3px;'\n    );\n    titlebar.appendChild(titletext);\n    this.root.appendChild(titlebar);\n    this.header = titletext;\n};\n\nmpl.figure.prototype._canvas_extra_style = function (_canvas_div) {};\n\nmpl.figure.prototype._root_extra_style = function (_canvas_div) {};\n\nmpl.figure.prototype._init_canvas = function () {\n    var fig = this;\n\n    var canvas_div = (this.canvas_div = document.createElement('div'));\n    canvas_div.setAttribute('tabindex', '0');\n    canvas_div.setAttribute(\n        'style',\n        'border: 1px solid #ddd;' +\n            'box-sizing: content-box;' +\n            'clear: both;' +\n            'min-height: 1px;' +\n            'min-width: 1px;' +\n            'outline: 0;' +\n            'overflow: hidden;' +\n            'position: relative;' +\n            'resize: both;' +\n            'z-index: 2;'\n    );\n\n    function on_keyboard_event_closure(name) {\n        return function (event) {\n            return fig.key_event(event, name);\n        };\n    }\n\n    canvas_div.addEventListener(\n        'keydown',\n        on_keyboard_event_closure('key_press')\n    );\n    canvas_div.addEventListener(\n        'keyup',\n        on_keyboard_event_closure('key_release')\n    );\n\n    this._canvas_extra_style(canvas_div);\n    this.root.appendChild(canvas_div);\n\n    var canvas = (this.canvas = document.createElement('canvas'));\n    canvas.classList.add('mpl-canvas');\n    canvas.setAttribute(\n        'style',\n        'box-sizing: content-box;' +\n            'pointer-events: none;' +\n            'position: relative;' +\n            'z-index: 0;'\n    );\n\n    this.context = canvas.getContext('2d');\n\n    var backingStore =\n        this.context.backingStorePixelRatio ||\n        this.context.webkitBackingStorePixelRatio ||\n        this.context.mozBackingStorePixelRatio ||\n        this.context.msBackingStorePixelRatio ||\n        this.context.oBackingStorePixelRatio ||\n        this.context.backingStorePixelRatio ||\n        1;\n\n    this.ratio = (window.devicePixelRatio || 1) / backingStore;\n\n    var rubberband_canvas = (this.rubberband_canvas = document.createElement(\n        'canvas'\n    ));\n    rubberband_canvas.setAttribute(\n        'style',\n        'box-sizing: content-box;' +\n            'left: 0;' +\n            'pointer-events: none;' +\n            'position: absolute;' +\n            'top: 0;' +\n            'z-index: 1;'\n    );\n\n    // Apply a ponyfill if ResizeObserver is not implemented by browser.\n    if (this.ResizeObserver === undefined) {\n        if (window.ResizeObserver !== undefined) {\n            this.ResizeObserver = window.ResizeObserver;\n        } else {\n            var obs = _JSXTOOLS_RESIZE_OBSERVER({});\n            this.ResizeObserver = obs.ResizeObserver;\n        }\n    }\n\n    this.resizeObserverInstance = new this.ResizeObserver(function (entries) {\n        var nentries = entries.length;\n        for (var i = 0; i < nentries; i++) {\n            var entry = entries[i];\n            var width, height;\n            if (entry.contentBoxSize) {\n                if (entry.contentBoxSize instanceof Array) {\n                    // Chrome 84 implements new version of spec.\n                    width = entry.contentBoxSize[0].inlineSize;\n                    height = entry.contentBoxSize[0].blockSize;\n                } else {\n                    // Firefox implements old version of spec.\n                    width = entry.contentBoxSize.inlineSize;\n                    height = entry.contentBoxSize.blockSize;\n                }\n            } else {\n                // Chrome <84 implements even older version of spec.\n                width = entry.contentRect.width;\n                height = entry.contentRect.height;\n            }\n\n            // Keep the size of the canvas and rubber band canvas in sync with\n            // the canvas container.\n            if (entry.devicePixelContentBoxSize) {\n                // Chrome 84 implements new version of spec.\n                canvas.setAttribute(\n                    'width',\n                    entry.devicePixelContentBoxSize[0].inlineSize\n                );\n                canvas.setAttribute(\n                    'height',\n                    entry.devicePixelContentBoxSize[0].blockSize\n                );\n            } else {\n                canvas.setAttribute('width', width * fig.ratio);\n                canvas.setAttribute('height', height * fig.ratio);\n            }\n            /* This rescales the canvas back to display pixels, so that it\n             * appears correct on HiDPI screens. */\n            canvas.style.width = width + 'px';\n            canvas.style.height = height + 'px';\n\n            rubberband_canvas.setAttribute('width', width);\n            rubberband_canvas.setAttribute('height', height);\n\n            // And update the size in Python. We ignore the initial 0/0 size\n            // that occurs as the element is placed into the DOM, which should\n            // otherwise not happen due to the minimum size styling.\n            if (fig.ws.readyState == 1 && width != 0 && height != 0) {\n                fig.request_resize(width, height);\n            }\n        }\n    });\n    this.resizeObserverInstance.observe(canvas_div);\n\n    function on_mouse_event_closure(name) {\n        /* User Agent sniffing is bad, but WebKit is busted:\n         * https://bugs.webkit.org/show_bug.cgi?id=144526\n         * https://bugs.webkit.org/show_bug.cgi?id=181818\n         * The worst that happens here is that they get an extra browser\n         * selection when dragging, if this check fails to catch them.\n         */\n        var UA = navigator.userAgent;\n        var isWebKit = /AppleWebKit/.test(UA) && !/Chrome/.test(UA);\n        if(isWebKit) {\n            return function (event) {\n                /* This prevents the web browser from automatically changing to\n                 * the text insertion cursor when the button is pressed. We\n                 * want to control all of the cursor setting manually through\n                 * the 'cursor' event from matplotlib */\n                event.preventDefault()\n                return fig.mouse_event(event, name);\n            };\n        } else {\n            return function (event) {\n                return fig.mouse_event(event, name);\n            };\n        }\n    }\n\n    canvas_div.addEventListener(\n        'mousedown',\n        on_mouse_event_closure('button_press')\n    );\n    canvas_div.addEventListener(\n        'mouseup',\n        on_mouse_event_closure('button_release')\n    );\n    canvas_div.addEventListener(\n        'dblclick',\n        on_mouse_event_closure('dblclick')\n    );\n    // Throttle sequential mouse events to 1 every 20ms.\n    canvas_div.addEventListener(\n        'mousemove',\n        on_mouse_event_closure('motion_notify')\n    );\n\n    canvas_div.addEventListener(\n        'mouseenter',\n        on_mouse_event_closure('figure_enter')\n    );\n    canvas_div.addEventListener(\n        'mouseleave',\n        on_mouse_event_closure('figure_leave')\n    );\n\n    canvas_div.addEventListener('wheel', function (event) {\n        if (event.deltaY < 0) {\n            event.step = 1;\n        } else {\n            event.step = -1;\n        }\n        on_mouse_event_closure('scroll')(event);\n    });\n\n    canvas_div.appendChild(canvas);\n    canvas_div.appendChild(rubberband_canvas);\n\n    this.rubberband_context = rubberband_canvas.getContext('2d');\n    this.rubberband_context.strokeStyle = '#000000';\n\n    this._resize_canvas = function (width, height, forward) {\n        if (forward) {\n            canvas_div.style.width = width + 'px';\n            canvas_div.style.height = height + 'px';\n        }\n    };\n\n    // Disable right mouse context menu.\n    canvas_div.addEventListener('contextmenu', function (_e) {\n        event.preventDefault();\n        return false;\n    });\n\n    function set_focus() {\n        canvas.focus();\n        canvas_div.focus();\n    }\n\n    window.setTimeout(set_focus, 100);\n};\n\nmpl.figure.prototype._init_toolbar = function () {\n    var fig = this;\n\n    var toolbar = document.createElement('div');\n    toolbar.classList = 'mpl-toolbar';\n    this.root.appendChild(toolbar);\n\n    function on_click_closure(name) {\n        return function (_event) {\n            return fig.toolbar_button_onclick(name);\n        };\n    }\n\n    function on_mouseover_closure(tooltip) {\n        return function (event) {\n            if (!event.currentTarget.disabled) {\n                return fig.toolbar_button_onmouseover(tooltip);\n            }\n        };\n    }\n\n    fig.buttons = {};\n    var buttonGroup = document.createElement('div');\n    buttonGroup.classList = 'mpl-button-group';\n    for (var toolbar_ind in mpl.toolbar_items) {\n        var name = mpl.toolbar_items[toolbar_ind][0];\n        var tooltip = mpl.toolbar_items[toolbar_ind][1];\n        var image = mpl.toolbar_items[toolbar_ind][2];\n        var method_name = mpl.toolbar_items[toolbar_ind][3];\n\n        if (!name) {\n            /* Instead of a spacer, we start a new button group. */\n            if (buttonGroup.hasChildNodes()) {\n                toolbar.appendChild(buttonGroup);\n            }\n            buttonGroup = document.createElement('div');\n            buttonGroup.classList = 'mpl-button-group';\n            continue;\n        }\n\n        var button = (fig.buttons[name] = document.createElement('button'));\n        button.classList = 'mpl-widget';\n        button.setAttribute('role', 'button');\n        button.setAttribute('aria-disabled', 'false');\n        button.addEventListener('click', on_click_closure(method_name));\n        button.addEventListener('mouseover', on_mouseover_closure(tooltip));\n\n        var icon_img = document.createElement('img');\n        icon_img.src = '_images/' + image + '.png';\n        icon_img.srcset = '_images/' + image + '_large.png 2x';\n        icon_img.alt = tooltip;\n        button.appendChild(icon_img);\n\n        buttonGroup.appendChild(button);\n    }\n\n    if (buttonGroup.hasChildNodes()) {\n        toolbar.appendChild(buttonGroup);\n    }\n\n    var fmt_picker = document.createElement('select');\n    fmt_picker.classList = 'mpl-widget';\n    toolbar.appendChild(fmt_picker);\n    this.format_dropdown = fmt_picker;\n\n    for (var ind in mpl.extensions) {\n        var fmt = mpl.extensions[ind];\n        var option = document.createElement('option');\n        option.selected = fmt === mpl.default_extension;\n        option.innerHTML = fmt;\n        fmt_picker.appendChild(option);\n    }\n\n    var status_bar = document.createElement('span');\n    status_bar.classList = 'mpl-message';\n    toolbar.appendChild(status_bar);\n    this.message = status_bar;\n};\n\nmpl.figure.prototype.request_resize = function (x_pixels, y_pixels) {\n    // Request matplotlib to resize the figure. Matplotlib will then trigger a resize in the client,\n    // which will in turn request a refresh of the image.\n    this.send_message('resize', { width: x_pixels, height: y_pixels });\n};\n\nmpl.figure.prototype.send_message = function (type, properties) {\n    properties['type'] = type;\n    properties['figure_id'] = this.id;\n    this.ws.send(JSON.stringify(properties));\n};\n\nmpl.figure.prototype.send_draw_message = function () {\n    if (!this.waiting) {\n        this.waiting = true;\n        this.ws.send(JSON.stringify({ type: 'draw', figure_id: this.id }));\n    }\n};\n\nmpl.figure.prototype.handle_save = function (fig, _msg) {\n    var format_dropdown = fig.format_dropdown;\n    var format = format_dropdown.options[format_dropdown.selectedIndex].value;\n    fig.ondownload(fig, format);\n};\n\nmpl.figure.prototype.handle_resize = function (fig, msg) {\n    var size = msg['size'];\n    if (size[0] !== fig.canvas.width || size[1] !== fig.canvas.height) {\n        fig._resize_canvas(size[0], size[1], msg['forward']);\n        fig.send_message('refresh', {});\n    }\n};\n\nmpl.figure.prototype.handle_rubberband = function (fig, msg) {\n    var x0 = msg['x0'] / fig.ratio;\n    var y0 = (fig.canvas.height - msg['y0']) / fig.ratio;\n    var x1 = msg['x1'] / fig.ratio;\n    var y1 = (fig.canvas.height - msg['y1']) / fig.ratio;\n    x0 = Math.floor(x0) + 0.5;\n    y0 = Math.floor(y0) + 0.5;\n    x1 = Math.floor(x1) + 0.5;\n    y1 = Math.floor(y1) + 0.5;\n    var min_x = Math.min(x0, x1);\n    var min_y = Math.min(y0, y1);\n    var width = Math.abs(x1 - x0);\n    var height = Math.abs(y1 - y0);\n\n    fig.rubberband_context.clearRect(\n        0,\n        0,\n        fig.canvas.width / fig.ratio,\n        fig.canvas.height / fig.ratio\n    );\n\n    fig.rubberband_context.strokeRect(min_x, min_y, width, height);\n};\n\nmpl.figure.prototype.handle_figure_label = function (fig, msg) {\n    // Updates the figure title.\n    fig.header.textContent = msg['label'];\n};\n\nmpl.figure.prototype.handle_cursor = function (fig, msg) {\n    fig.canvas_div.style.cursor = msg['cursor'];\n};\n\nmpl.figure.prototype.handle_message = function (fig, msg) {\n    fig.message.textContent = msg['message'];\n};\n\nmpl.figure.prototype.handle_draw = function (fig, _msg) {\n    // Request the server to send over a new figure.\n    fig.send_draw_message();\n};\n\nmpl.figure.prototype.handle_image_mode = function (fig, msg) {\n    fig.image_mode = msg['mode'];\n};\n\nmpl.figure.prototype.handle_history_buttons = function (fig, msg) {\n    for (var key in msg) {\n        if (!(key in fig.buttons)) {\n            continue;\n        }\n        fig.buttons[key].disabled = !msg[key];\n        fig.buttons[key].setAttribute('aria-disabled', !msg[key]);\n    }\n};\n\nmpl.figure.prototype.handle_navigate_mode = function (fig, msg) {\n    if (msg['mode'] === 'PAN') {\n        fig.buttons['Pan'].classList.add('active');\n        fig.buttons['Zoom'].classList.remove('active');\n    } else if (msg['mode'] === 'ZOOM') {\n        fig.buttons['Pan'].classList.remove('active');\n        fig.buttons['Zoom'].classList.add('active');\n    } else {\n        fig.buttons['Pan'].classList.remove('active');\n        fig.buttons['Zoom'].classList.remove('active');\n    }\n};\n\nmpl.figure.prototype.updated_canvas_event = function () {\n    // Called whenever the canvas gets updated.\n    this.send_message('ack', {});\n};\n\n// A function to construct a web socket function for onmessage handling.\n// Called in the figure constructor.\nmpl.figure.prototype._make_on_message_function = function (fig) {\n    return function socket_on_message(evt) {\n        if (evt.data instanceof Blob) {\n            var img = evt.data;\n            if (img.type !== 'image/png') {\n                /* FIXME: We get \"Resource interpreted as Image but\n                 * transferred with MIME type text/plain:\" errors on\n                 * Chrome.  But how to set the MIME type?  It doesn't seem\n                 * to be part of the websocket stream */\n                img.type = 'image/png';\n            }\n\n            /* Free the memory for the previous frames */\n            if (fig.imageObj.src) {\n                (window.URL || window.webkitURL).revokeObjectURL(\n                    fig.imageObj.src\n                );\n            }\n\n            fig.imageObj.src = (window.URL || window.webkitURL).createObjectURL(\n                img\n            );\n            fig.updated_canvas_event();\n            fig.waiting = false;\n            return;\n        } else if (\n            typeof evt.data === 'string' &&\n            evt.data.slice(0, 21) === 'data:image/png;base64'\n        ) {\n            fig.imageObj.src = evt.data;\n            fig.updated_canvas_event();\n            fig.waiting = false;\n            return;\n        }\n\n        var msg = JSON.parse(evt.data);\n        var msg_type = msg['type'];\n\n        // Call the  \"handle_{type}\" callback, which takes\n        // the figure and JSON message as its only arguments.\n        try {\n            var callback = fig['handle_' + msg_type];\n        } catch (e) {\n            console.log(\n                \"No handler for the '\" + msg_type + \"' message type: \",\n                msg\n            );\n            return;\n        }\n\n        if (callback) {\n            try {\n                // console.log(\"Handling '\" + msg_type + \"' message: \", msg);\n                callback(fig, msg);\n            } catch (e) {\n                console.log(\n                    \"Exception inside the 'handler_\" + msg_type + \"' callback:\",\n                    e,\n                    e.stack,\n                    msg\n                );\n            }\n        }\n    };\n};\n\n\n/*\n * return a copy of an object with only non-object keys\n * we need this to avoid circular references\n * https://stackoverflow.com/a/24161582/3208463\n */\nfunction simpleKeys(original) {\n    return Object.keys(original).reduce(function (obj, key) {\n        if (typeof original[key] !== 'object') {\n            obj[key] = original[key];\n        }\n        return obj;\n    }, {});\n}\n\nmpl.figure.prototype.mouse_event = function (event, name) {\n    if (name === 'button_press') {\n        this.canvas.focus();\n        this.canvas_div.focus();\n    }\n\n    // from https://stackoverflow.com/q/1114465\n    var boundingRect = this.canvas.getBoundingClientRect();\n    var x = (event.clientX - boundingRect.left) * this.ratio;\n    var y = (event.clientY - boundingRect.top) * this.ratio;\n\n    this.send_message(name, {\n        x: x,\n        y: y,\n        button: event.button,\n        step: event.step,\n        guiEvent: simpleKeys(event),\n    });\n\n    return false;\n};\n\nmpl.figure.prototype._key_event_extra = function (_event, _name) {\n    // Handle any extra behaviour associated with a key event\n};\n\nmpl.figure.prototype.key_event = function (event, name) {\n    // Prevent repeat events\n    if (name === 'key_press') {\n        if (event.key === this._key) {\n            return;\n        } else {\n            this._key = event.key;\n        }\n    }\n    if (name === 'key_release') {\n        this._key = null;\n    }\n\n    var value = '';\n    if (event.ctrlKey && event.key !== 'Control') {\n        value += 'ctrl+';\n    }\n    else if (event.altKey && event.key !== 'Alt') {\n        value += 'alt+';\n    }\n    else if (event.shiftKey && event.key !== 'Shift') {\n        value += 'shift+';\n    }\n\n    value += 'k' + event.key;\n\n    this._key_event_extra(event, name);\n\n    this.send_message(name, { key: value, guiEvent: simpleKeys(event) });\n    return false;\n};\n\nmpl.figure.prototype.toolbar_button_onclick = function (name) {\n    if (name === 'download') {\n        this.handle_save(this, null);\n    } else {\n        this.send_message('toolbar_button', { name: name });\n    }\n};\n\nmpl.figure.prototype.toolbar_button_onmouseover = function (tooltip) {\n    this.message.textContent = tooltip;\n};\n\n///////////////// REMAINING CONTENT GENERATED BY embed_js.py /////////////////\n// prettier-ignore\nvar _JSXTOOLS_RESIZE_OBSERVER=function(A){var t,i=new WeakMap,n=new WeakMap,a=new WeakMap,r=new WeakMap,o=new Set;function s(e){if(!(this instanceof s))throw new TypeError(\"Constructor requires 'new' operator\");i.set(this,e)}function h(){throw new TypeError(\"Function is not a constructor\")}function c(e,t,i,n){e=0 in arguments?Number(arguments[0]):0,t=1 in arguments?Number(arguments[1]):0,i=2 in arguments?Number(arguments[2]):0,n=3 in arguments?Number(arguments[3]):0,this.right=(this.x=this.left=e)+(this.width=i),this.bottom=(this.y=this.top=t)+(this.height=n),Object.freeze(this)}function d(){t=requestAnimationFrame(d);var s=new WeakMap,p=new Set;o.forEach((function(t){r.get(t).forEach((function(i){var r=t instanceof window.SVGElement,o=a.get(t),d=r?0:parseFloat(o.paddingTop),f=r?0:parseFloat(o.paddingRight),l=r?0:parseFloat(o.paddingBottom),u=r?0:parseFloat(o.paddingLeft),g=r?0:parseFloat(o.borderTopWidth),m=r?0:parseFloat(o.borderRightWidth),w=r?0:parseFloat(o.borderBottomWidth),b=u+f,F=d+l,v=(r?0:parseFloat(o.borderLeftWidth))+m,W=g+w,y=r?0:t.offsetHeight-W-t.clientHeight,E=r?0:t.offsetWidth-v-t.clientWidth,R=b+v,z=F+W,M=r?t.width:parseFloat(o.width)-R-E,O=r?t.height:parseFloat(o.height)-z-y;if(n.has(t)){var k=n.get(t);if(k[0]===M&&k[1]===O)return}n.set(t,[M,O]);var S=Object.create(h.prototype);S.target=t,S.contentRect=new c(u,d,M,O),s.has(i)||(s.set(i,[]),p.add(i)),s.get(i).push(S)}))})),p.forEach((function(e){i.get(e).call(e,s.get(e),e)}))}return s.prototype.observe=function(i){if(i instanceof window.Element){r.has(i)||(r.set(i,new Set),o.add(i),a.set(i,window.getComputedStyle(i)));var n=r.get(i);n.has(this)||n.add(this),cancelAnimationFrame(t),t=requestAnimationFrame(d)}},s.prototype.unobserve=function(i){if(i instanceof window.Element&&r.has(i)){var n=r.get(i);n.has(this)&&(n.delete(this),n.size||(r.delete(i),o.delete(i))),n.size||r.delete(i),o.size||cancelAnimationFrame(t)}},A.DOMRectReadOnly=c,A.ResizeObserver=s,A.ResizeObserverEntry=h,A}; // eslint-disable-line\nmpl.toolbar_items = [[\"Home\", \"Reset original view\", \"fa fa-home\", \"home\"], [\"Back\", \"Back to previous view\", \"fa fa-arrow-left\", \"back\"], [\"Forward\", \"Forward to next view\", \"fa fa-arrow-right\", \"forward\"], [\"\", \"\", \"\", \"\"], [\"Pan\", \"Left button pans, Right button zooms\\nx/y fixes axis, CTRL fixes aspect\", \"fa fa-arrows\", \"pan\"], [\"Zoom\", \"Zoom to rectangle\\nx/y fixes axis\", \"fa fa-square-o\", \"zoom\"], [\"\", \"\", \"\", \"\"], [\"Download\", \"Download plot\", \"fa fa-floppy-o\", \"download\"]];\n\nmpl.extensions = [\"eps\", \"jpeg\", \"pgf\", \"pdf\", \"png\", \"ps\", \"raw\", \"svg\", \"tif\", \"webp\"];\n\nmpl.default_extension = \"png\";/* global mpl */\n\nvar comm_websocket_adapter = function (comm) {\n    // Create a \"websocket\"-like object which calls the given IPython comm\n    // object with the appropriate methods. Currently this is a non binary\n    // socket, so there is still some room for performance tuning.\n    var ws = {};\n\n    ws.binaryType = comm.kernel.ws.binaryType;\n    ws.readyState = comm.kernel.ws.readyState;\n    function updateReadyState(_event) {\n        if (comm.kernel.ws) {\n            ws.readyState = comm.kernel.ws.readyState;\n        } else {\n            ws.readyState = 3; // Closed state.\n        }\n    }\n    comm.kernel.ws.addEventListener('open', updateReadyState);\n    comm.kernel.ws.addEventListener('close', updateReadyState);\n    comm.kernel.ws.addEventListener('error', updateReadyState);\n\n    ws.close = function () {\n        comm.close();\n    };\n    ws.send = function (m) {\n        //console.log('sending', m);\n        comm.send(m);\n    };\n    // Register the callback with on_msg.\n    comm.on_msg(function (msg) {\n        //console.log('receiving', msg['content']['data'], msg);\n        var data = msg['content']['data'];\n        if (data['blob'] !== undefined) {\n            data = {\n                data: new Blob(msg['buffers'], { type: data['blob'] }),\n            };\n        }\n        // Pass the mpl event to the overridden (by mpl) onmessage function.\n        ws.onmessage(data);\n    });\n    return ws;\n};\n\nmpl.mpl_figure_comm = function (comm, msg) {\n    // This is the function which gets called when the mpl process\n    // starts-up an IPython Comm through the \"matplotlib\" channel.\n\n    var id = msg.content.data.id;\n    // Get hold of the div created by the display call when the Comm\n    // socket was opened in Python.\n    var element = document.getElementById(id);\n    var ws_proxy = comm_websocket_adapter(comm);\n\n    function ondownload(figure, _format) {\n        window.open(figure.canvas.toDataURL());\n    }\n\n    var fig = new mpl.figure(id, ws_proxy, ondownload, element);\n\n    // Call onopen now - mpl needs it, as it is assuming we've passed it a real\n    // web socket which is closed, not our websocket->open comm proxy.\n    ws_proxy.onopen();\n\n    fig.parent_element = element;\n    fig.cell_info = mpl.find_output_cell(\"<div id='\" + id + \"'></div>\");\n    if (!fig.cell_info) {\n        console.error('Failed to find cell for figure', id, fig);\n        return;\n    }\n    fig.cell_info[0].output_area.element.on(\n        'cleared',\n        { fig: fig },\n        fig._remove_fig_handler\n    );\n};\n\nmpl.figure.prototype.handle_close = function (fig, msg) {\n    var width = fig.canvas.width / fig.ratio;\n    fig.cell_info[0].output_area.element.off(\n        'cleared',\n        fig._remove_fig_handler\n    );\n    fig.resizeObserverInstance.unobserve(fig.canvas_div);\n\n    // Update the output cell to use the data from the current canvas.\n    fig.push_to_output();\n    var dataURL = fig.canvas.toDataURL();\n    // Re-enable the keyboard manager in IPython - without this line, in FF,\n    // the notebook keyboard shortcuts fail.\n    IPython.keyboard_manager.enable();\n    fig.parent_element.innerHTML =\n        '<img src=\"' + dataURL + '\" width=\"' + width + '\">';\n    fig.close_ws(fig, msg);\n};\n\nmpl.figure.prototype.close_ws = function (fig, msg) {\n    fig.send_message('closing', msg);\n    // fig.ws.close()\n};\n\nmpl.figure.prototype.push_to_output = function (_remove_interactive) {\n    // Turn the data on the canvas into data in the output cell.\n    var width = this.canvas.width / this.ratio;\n    var dataURL = this.canvas.toDataURL();\n    this.cell_info[1]['text/html'] =\n        '<img src=\"' + dataURL + '\" width=\"' + width + '\">';\n};\n\nmpl.figure.prototype.updated_canvas_event = function () {\n    // Tell IPython that the notebook contents must change.\n    IPython.notebook.set_dirty(true);\n    this.send_message('ack', {});\n    var fig = this;\n    // Wait a second, then push the new image to the DOM so\n    // that it is saved nicely (might be nice to debounce this).\n    setTimeout(function () {\n        fig.push_to_output();\n    }, 1000);\n};\n\nmpl.figure.prototype._init_toolbar = function () {\n    var fig = this;\n\n    var toolbar = document.createElement('div');\n    toolbar.classList = 'btn-toolbar';\n    this.root.appendChild(toolbar);\n\n    function on_click_closure(name) {\n        return function (_event) {\n            return fig.toolbar_button_onclick(name);\n        };\n    }\n\n    function on_mouseover_closure(tooltip) {\n        return function (event) {\n            if (!event.currentTarget.disabled) {\n                return fig.toolbar_button_onmouseover(tooltip);\n            }\n        };\n    }\n\n    fig.buttons = {};\n    var buttonGroup = document.createElement('div');\n    buttonGroup.classList = 'btn-group';\n    var button;\n    for (var toolbar_ind in mpl.toolbar_items) {\n        var name = mpl.toolbar_items[toolbar_ind][0];\n        var tooltip = mpl.toolbar_items[toolbar_ind][1];\n        var image = mpl.toolbar_items[toolbar_ind][2];\n        var method_name = mpl.toolbar_items[toolbar_ind][3];\n\n        if (!name) {\n            /* Instead of a spacer, we start a new button group. */\n            if (buttonGroup.hasChildNodes()) {\n                toolbar.appendChild(buttonGroup);\n            }\n            buttonGroup = document.createElement('div');\n            buttonGroup.classList = 'btn-group';\n            continue;\n        }\n\n        button = fig.buttons[name] = document.createElement('button');\n        button.classList = 'btn btn-default';\n        button.href = '#';\n        button.title = name;\n        button.innerHTML = '<i class=\"fa ' + image + ' fa-lg\"></i>';\n        button.addEventListener('click', on_click_closure(method_name));\n        button.addEventListener('mouseover', on_mouseover_closure(tooltip));\n        buttonGroup.appendChild(button);\n    }\n\n    if (buttonGroup.hasChildNodes()) {\n        toolbar.appendChild(buttonGroup);\n    }\n\n    // Add the status bar.\n    var status_bar = document.createElement('span');\n    status_bar.classList = 'mpl-message pull-right';\n    toolbar.appendChild(status_bar);\n    this.message = status_bar;\n\n    // Add the close button to the window.\n    var buttongrp = document.createElement('div');\n    buttongrp.classList = 'btn-group inline pull-right';\n    button = document.createElement('button');\n    button.classList = 'btn btn-mini btn-primary';\n    button.href = '#';\n    button.title = 'Stop Interaction';\n    button.innerHTML = '<i class=\"fa fa-power-off icon-remove icon-large\"></i>';\n    button.addEventListener('click', function (_evt) {\n        fig.handle_close(fig, {});\n    });\n    button.addEventListener(\n        'mouseover',\n        on_mouseover_closure('Stop Interaction')\n    );\n    buttongrp.appendChild(button);\n    var titlebar = this.root.querySelector('.ui-dialog-titlebar');\n    titlebar.insertBefore(buttongrp, titlebar.firstChild);\n};\n\nmpl.figure.prototype._remove_fig_handler = function (event) {\n    var fig = event.data.fig;\n    if (event.target !== this) {\n        // Ignore bubbled events from children.\n        return;\n    }\n    fig.close_ws(fig, {});\n};\n\nmpl.figure.prototype._root_extra_style = function (el) {\n    el.style.boxSizing = 'content-box'; // override notebook setting of border-box.\n};\n\nmpl.figure.prototype._canvas_extra_style = function (el) {\n    // this is important to make the div 'focusable\n    el.setAttribute('tabindex', 0);\n    // reach out to IPython and tell the keyboard manager to turn it's self\n    // off when our div gets focus\n\n    // location in version 3\n    if (IPython.notebook.keyboard_manager) {\n        IPython.notebook.keyboard_manager.register_events(el);\n    } else {\n        // location in version 2\n        IPython.keyboard_manager.register_events(el);\n    }\n};\n\nmpl.figure.prototype._key_event_extra = function (event, _name) {\n    // Check for shift+enter\n    if (event.shiftKey && event.which === 13) {\n        this.canvas_div.blur();\n        // select the cell after this one\n        var index = IPython.notebook.find_cell_index(this.cell_info[0]);\n        IPython.notebook.select(index + 1);\n    }\n};\n\nmpl.figure.prototype.handle_save = function (fig, _msg) {\n    fig.ondownload(fig, null);\n};\n\nmpl.find_output_cell = function (html_output) {\n    // Return the cell and output element which can be found *uniquely* in the notebook.\n    // Note - this is a bit hacky, but it is done because the \"notebook_saving.Notebook\"\n    // IPython event is triggered only after the cells have been serialised, which for\n    // our purposes (turning an active figure into a static one), is too late.\n    var cells = IPython.notebook.get_cells();\n    var ncells = cells.length;\n    for (var i = 0; i < ncells; i++) {\n        var cell = cells[i];\n        if (cell.cell_type === 'code') {\n            for (var j = 0; j < cell.output_area.outputs.length; j++) {\n                var data = cell.output_area.outputs[j];\n                if (data.data) {\n                    // IPython >= 3 moved mimebundle to data attribute of output\n                    data = data.data;\n                }\n                if (data['text/html'] === html_output) {\n                    return [cell, data, j];\n                }\n            }\n        }\n    }\n};\n\n// Register the function which deals with the matplotlib target/channel.\n// The kernel may be null if the page has been refreshed.\nif (IPython.notebook.kernel !== null) {\n    IPython.notebook.kernel.comm_manager.register_target(\n        'matplotlib',\n        mpl.mpl_figure_comm\n    );\n}\n",
      "text/plain": [
       "<IPython.core.display.Javascript object>"
      ]
     },
     "metadata": {},
     "output_type": "display_data"
    },
    {
     "data": {
      "text/html": [
       "<div id='4142d24d-6d6f-439c-906f-0c589a41595d'></div>"
      ],
      "text/plain": [
       "<IPython.core.display.HTML object>"
      ]
     },
     "metadata": {},
     "output_type": "display_data"
    }
   ],
   "source": [
    "# PR curveを計算\n",
    "from sklearn.metrics import precision_recall_curve\n",
    "import matplotlib.pyplot as plt\n",
    "%matplotlib notebook\n",
    "\n",
    "label_and_scores = extract_label_and_scores()\n",
    "\n",
    "pr_curve = precision_recall_curve(label_and_scores['label'],label_and_scores['pr'])\n",
    "re_curve = precision_recall_curve(label_and_scores['label'],label_and_scores['re'])\n",
    "f1_curve = precision_recall_curve(label_and_scores['label'],label_and_scores['f1'])\n",
    "\n",
    "plt.plot(pr_curve[1],pr_curve[0],label='pr')\n",
    "plt.plot(re_curve[1],re_curve[0],label='re')\n",
    "plt.plot(f1_curve[1],f1_curve[0],label='f1')\n",
    "plt.legend()\n",
    "plt.xlabel('recall')\n",
    "plt.ylabel('precision')\n",
    "plt.show()\n",
    "plt.savefig('pr_curve.png')\n",
    "\n",
    "# roc curveを計算\n",
    "from sklearn.metrics import roc_curve\n",
    "import matplotlib.pyplot as plt\n",
    "%matplotlib notebook\n",
    "\n",
    "label_and_scores = extract_label_and_scores()\n",
    "\n",
    "pr_curve = roc_curve(label_and_scores['label'],label_and_scores['pr'])\n",
    "re_curve = roc_curve(label_and_scores['label'],label_and_scores['re'])\n",
    "f1_curve = roc_curve(label_and_scores['label'],label_and_scores['f1'])\n",
    "\n",
    "plt.plot(pr_curve[1],pr_curve[0],label='pr')\n",
    "plt.plot(re_curve[1],re_curve[0],label='re')\n",
    "plt.plot(f1_curve[1],f1_curve[0],label='f1')\n",
    "plt.legend()\n",
    "plt.xlabel('recall') \n",
    "plt.ylabel('precision')\n",
    "plt.show()\n",
    "\n",
    "plt.savefig('roc_curve.png')\n",
    "\n",
    "\n",
    "\n",
    "\n",
    "\n",
    "    \n",
    "\n"
   ]
  },
  {
   "cell_type": "code",
   "execution_count": 14,
   "metadata": {},
   "outputs": [
    {
     "name": "stdout",
     "output_type": "stream",
     "text": [
      "acc for th = 0.2\n"
     ]
    },
    {
     "data": {
      "text/plain": [
       "{'pr': 0.6585365853658537, 're': 0.6341463414634146, 'f1': 0.6341463414634146}"
      ]
     },
     "execution_count": 14,
     "metadata": {},
     "output_type": "execute_result"
    }
   ],
   "source": [
    "# 閾値を適当に設定して、accuracyを計算\n",
    "th = 0.20\n",
    "\n",
    "\n",
    "correct_num = {\n",
    "    'pr':0,\n",
    "    're':0,\n",
    "    'f1':0,\n",
    "}\n",
    "\n",
    "for i in range(len(label_and_scores['label'])):\n",
    "    label = label_and_scores['label'][i]\n",
    "    pr = label_and_scores['pr'][i]\n",
    "    re = label_and_scores['re'][i]\n",
    "    f1 = label_and_scores['f1'][i]\n",
    "    \n",
    "    if pr > th and label == 1:\n",
    "        correct_num['pr'] += 1\n",
    "    elif pr <= th and label == 0:\n",
    "        correct_num['pr'] += 1\n",
    "        \n",
    "    if re > th and label == 1:\n",
    "        correct_num['re'] += 1\n",
    "    elif re <= th and label == 0:\n",
    "        correct_num['re'] += 1\n",
    "        \n",
    "    if f1 > th and label == 1:\n",
    "        correct_num['f1'] += 1\n",
    "    elif f1 <= th and label == 0:\n",
    "        correct_num['f1'] += 1\n",
    "\n",
    "\n",
    "print(\"acc for th = {}\".format(th))\n",
    "accs = {\n",
    "    'pr':correct_num['pr'] / len(label_and_scores['label']),\n",
    "    're':correct_num['re'] / len(label_and_scores['label']),\n",
    "    'f1':correct_num['f1'] / len(label_and_scores['label']),\n",
    "}\n",
    "\n",
    "accs"
   ]
  },
  {
   "cell_type": "code",
   "execution_count": null,
   "metadata": {},
   "outputs": [],
   "source": []
  }
 ],
 "metadata": {
  "kernelspec": {
   "display_name": "Python 3",
   "language": "python",
   "name": "python3"
  },
  "language_info": {
   "codemirror_mode": {
    "name": "ipython",
    "version": 3
   },
   "file_extension": ".py",
   "mimetype": "text/x-python",
   "name": "python",
   "nbconvert_exporter": "python",
   "pygments_lexer": "ipython3",
   "version": "3.9.8"
  }
 },
 "nbformat": 4,
 "nbformat_minor": 2
}
