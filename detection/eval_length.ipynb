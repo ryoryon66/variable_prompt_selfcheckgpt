{
 "cells": [
  {
   "cell_type": "code",
   "execution_count": 1,
   "metadata": {},
   "outputs": [
    {
     "data": {
      "text/plain": [
       "['../data_sampled/hiragana/random_query_temperature_0.01_sample_n_30_random_str_length_0_11_22_02_12_28.csv',\n",
       " '../data_sampled/hiragana/random_query_temperature_0.01_sample_n_30_random_str_length_120_hiragana_12_28_09_29_11.csv',\n",
       " '../data_sampled/hiragana/random_query_temperature_0.01_sample_n_30_random_str_length_200_hiragana_01_10_04_32_07.csv',\n",
       " '../data_sampled/hiragana/random_query_temperature_0.01_sample_n_30_random_str_length_280_hiragana_12_28_19_56_16.csv',\n",
       " '../data_sampled/hiragana/random_query_temperature_0.01_sample_n_30_random_str_length_30_hiragana_12_27_07_54_26.csv',\n",
       " '../data_sampled/hiragana/random_query_temperature_0.01_sample_n_30_random_str_length_400_hiragana_12_30_08_17_24.csv',\n",
       " '../data_sampled/hiragana/random_query_temperature_0.01_sample_n_30_random_str_length_600_hiragana_01_10_13_28_28.csv',\n",
       " '../data_sampled/hiragana/random_query_temperature_0.01_sample_n_30_random_str_length_60_hiragana_12_27_16_23_11.csv',\n",
       " '../data_sampled/hiragana/random_query_temperature_0.01_sample_n_30_random_str_length_80_hiragana_01_15_17_23_05.csv']"
      ]
     },
     "execution_count": 1,
     "metadata": {},
     "output_type": "execute_result"
    }
   ],
   "source": [
    "import glob \n",
    "import os\n",
    "from tkinter import CHAR\n",
    "\n",
    "CHAR_KIND = \"hiragana\"\n",
    "\n",
    "samples_paths = glob.glob(f\"../data_sampled/{CHAR_KIND}/*\")\n",
    "samples_paths.sort()\n",
    "samples_paths\n",
    "# os.path.basename(samples_paths[0]) "
   ]
  },
  {
   "cell_type": "code",
   "execution_count": 2,
   "metadata": {},
   "outputs": [],
   "source": [
    "ANNOTATED_PATH = \"../construct_dataset/df_JAQKET_qa_annot1.csv\"\n",
    "SAMPLES_PATHS = samples_paths\n",
    "NUM_SAMPLES = 30"
   ]
  },
  {
   "cell_type": "code",
   "execution_count": 3,
   "metadata": {},
   "outputs": [
    {
     "name": "stdout",
     "output_type": "stream",
     "text": [
      "Some weights of the model checkpoint at bert-base-multilingual-cased were not used when initializing BertModel: ['cls.predictions.transform.dense.weight', 'cls.predictions.transform.LayerNorm.weight', 'cls.predictions.transform.LayerNorm.bias', 'cls.predictions.bias', 'cls.predictions.transform.dense.bias', 'cls.seq_relationship.weight', 'cls.seq_relationship.bias']\n",
      "- This IS expected if you are initializing BertModel from the checkpoint of a model trained on another task or with another architecture (e.g. initializing a BertForSequenceClassification model from a BertForPreTraining model).\n",
      "- This IS NOT expected if you are initializing BertModel from the checkpoint of a model that you expect to be exactly identical (initializing a BertForSequenceClassification model from a BertForSequenceClassification model).\n",
      "100%|█████████████████████████████████████████| 200/200 [01:13<00:00,  2.73it/s]\n",
      "the auc-roc is {'pr': 0.490364277320799, 're': 0.4893360752056405, 'f1': 0.4888366627497063, 'ave': 0.48854289071680373, 'random': 0.44541715628672146}\n",
      "Some weights of the model checkpoint at bert-base-multilingual-cased were not used when initializing BertModel: ['cls.predictions.transform.dense.weight', 'cls.predictions.transform.dense.bias', 'cls.predictions.transform.LayerNorm.weight', 'cls.seq_relationship.bias', 'cls.predictions.transform.LayerNorm.bias', 'cls.seq_relationship.weight', 'cls.predictions.bias']\n",
      "- This IS expected if you are initializing BertModel from the checkpoint of a model trained on another task or with another architecture (e.g. initializing a BertForSequenceClassification model from a BertForPreTraining model).\n",
      "- This IS NOT expected if you are initializing BertModel from the checkpoint of a model that you expect to be exactly identical (initializing a BertForSequenceClassification model from a BertForSequenceClassification model).\n",
      "100%|█████████████████████████████████████████| 200/200 [01:12<00:00,  2.76it/s]\n",
      "the auc-roc is {'pr': 0.6789659224441833, 're': 0.7028202115158637, 'f1': 0.6903055229142185, 'ave': 0.6926556991774383, 'random': 0.5064042303172738}\n",
      "Some weights of the model checkpoint at bert-base-multilingual-cased were not used when initializing BertModel: ['cls.predictions.transform.LayerNorm.weight', 'cls.predictions.transform.dense.bias', 'cls.predictions.bias', 'cls.predictions.transform.dense.weight', 'cls.seq_relationship.bias', 'cls.seq_relationship.weight', 'cls.predictions.transform.LayerNorm.bias']\n",
      "- This IS expected if you are initializing BertModel from the checkpoint of a model trained on another task or with another architecture (e.g. initializing a BertForSequenceClassification model from a BertForPreTraining model).\n",
      "- This IS NOT expected if you are initializing BertModel from the checkpoint of a model that you expect to be exactly identical (initializing a BertForSequenceClassification model from a BertForSequenceClassification model).\n",
      "100%|█████████████████████████████████████████| 200/200 [01:11<00:00,  2.81it/s]\n",
      "the auc-roc is {'pr': 0.6793184488836663, 're': 0.6943008225616921, 'f1': 0.6897767332549941, 'ave': 0.6908930669800235, 'random': 0.5136310223266746}\n",
      "Some weights of the model checkpoint at bert-base-multilingual-cased were not used when initializing BertModel: ['cls.seq_relationship.bias', 'cls.seq_relationship.weight', 'cls.predictions.transform.LayerNorm.weight', 'cls.predictions.transform.dense.weight', 'cls.predictions.transform.LayerNorm.bias', 'cls.predictions.bias', 'cls.predictions.transform.dense.bias']\n",
      "- This IS expected if you are initializing BertModel from the checkpoint of a model trained on another task or with another architecture (e.g. initializing a BertForSequenceClassification model from a BertForPreTraining model).\n",
      "- This IS NOT expected if you are initializing BertModel from the checkpoint of a model that you expect to be exactly identical (initializing a BertForSequenceClassification model from a BertForSequenceClassification model).\n",
      "100%|█████████████████████████████████████████| 200/200 [01:11<00:00,  2.79it/s]\n",
      "the auc-roc is {'pr': 0.677497062279671, 're': 0.6942420681551116, 'f1': 0.6846650998824911, 'ave': 0.6863689776733255, 'random': 0.48995299647473556}\n",
      "Some weights of the model checkpoint at bert-base-multilingual-cased were not used when initializing BertModel: ['cls.predictions.bias', 'cls.predictions.transform.dense.bias', 'cls.seq_relationship.bias', 'cls.predictions.transform.LayerNorm.bias', 'cls.seq_relationship.weight', 'cls.predictions.transform.LayerNorm.weight', 'cls.predictions.transform.dense.weight']\n",
      "- This IS expected if you are initializing BertModel from the checkpoint of a model trained on another task or with another architecture (e.g. initializing a BertForSequenceClassification model from a BertForPreTraining model).\n",
      "- This IS NOT expected if you are initializing BertModel from the checkpoint of a model that you expect to be exactly identical (initializing a BertForSequenceClassification model from a BertForSequenceClassification model).\n",
      "100%|█████████████████████████████████████████| 200/200 [01:15<00:00,  2.66it/s]\n",
      "the auc-roc is {'pr': 0.6717978848413632, 're': 0.7045828437132785, 'f1': 0.6868977673325499, 'ave': 0.6890716803760282, 'random': 0.5018801410105758}\n",
      "Some weights of the model checkpoint at bert-base-multilingual-cased were not used when initializing BertModel: ['cls.seq_relationship.weight', 'cls.predictions.transform.dense.bias', 'cls.predictions.transform.LayerNorm.bias', 'cls.predictions.transform.LayerNorm.weight', 'cls.seq_relationship.bias', 'cls.predictions.transform.dense.weight', 'cls.predictions.bias']\n",
      "- This IS expected if you are initializing BertModel from the checkpoint of a model trained on another task or with another architecture (e.g. initializing a BertForSequenceClassification model from a BertForPreTraining model).\n",
      "- This IS NOT expected if you are initializing BertModel from the checkpoint of a model that you expect to be exactly identical (initializing a BertForSequenceClassification model from a BertForSequenceClassification model).\n",
      "100%|█████████████████████████████████████████| 200/200 [01:11<00:00,  2.82it/s]\n",
      "the auc-roc is {'pr': 0.675969447708578, 're': 0.6834312573443009, 'f1': 0.6776145710928319, 'ave': 0.6806110458284371, 'random': 0.5473560517038778}\n",
      "Some weights of the model checkpoint at bert-base-multilingual-cased were not used when initializing BertModel: ['cls.predictions.transform.LayerNorm.weight', 'cls.predictions.transform.dense.bias', 'cls.predictions.bias', 'cls.predictions.transform.dense.weight', 'cls.predictions.transform.LayerNorm.bias', 'cls.seq_relationship.weight', 'cls.seq_relationship.bias']\n",
      "- This IS expected if you are initializing BertModel from the checkpoint of a model trained on another task or with another architecture (e.g. initializing a BertForSequenceClassification model from a BertForPreTraining model).\n",
      "- This IS NOT expected if you are initializing BertModel from the checkpoint of a model that you expect to be exactly identical (initializing a BertForSequenceClassification model from a BertForSequenceClassification model).\n",
      "100%|█████████████████████████████████████████| 200/200 [01:11<00:00,  2.78it/s]\n",
      "the auc-roc is {'pr': 0.6857226792009401, 're': 0.6862514688601644, 'f1': 0.6844888366627496, 'ave': 0.686662749706228, 'random': 0.5405405405405406}\n",
      "Some weights of the model checkpoint at bert-base-multilingual-cased were not used when initializing BertModel: ['cls.seq_relationship.bias', 'cls.predictions.transform.dense.bias', 'cls.predictions.bias', 'cls.seq_relationship.weight', 'cls.predictions.transform.LayerNorm.weight', 'cls.predictions.transform.LayerNorm.bias', 'cls.predictions.transform.dense.weight']\n",
      "- This IS expected if you are initializing BertModel from the checkpoint of a model trained on another task or with another architecture (e.g. initializing a BertForSequenceClassification model from a BertForPreTraining model).\n",
      "- This IS NOT expected if you are initializing BertModel from the checkpoint of a model that you expect to be exactly identical (initializing a BertForSequenceClassification model from a BertForSequenceClassification model).\n",
      "100%|█████████████████████████████████████████| 200/200 [01:12<00:00,  2.75it/s]\n",
      "the auc-roc is {'pr': 0.6843419506462985, 're': 0.707256169212691, 'f1': 0.6976792009400704, 'ave': 0.6999118683901293, 'random': 0.5420094007050529}\n",
      "Some weights of the model checkpoint at bert-base-multilingual-cased were not used when initializing BertModel: ['cls.predictions.bias', 'cls.predictions.transform.dense.bias', 'cls.predictions.transform.dense.weight', 'cls.predictions.transform.LayerNorm.weight', 'cls.predictions.transform.LayerNorm.bias', 'cls.seq_relationship.weight', 'cls.seq_relationship.bias']\n",
      "- This IS expected if you are initializing BertModel from the checkpoint of a model trained on another task or with another architecture (e.g. initializing a BertForSequenceClassification model from a BertForPreTraining model).\n",
      "- This IS NOT expected if you are initializing BertModel from the checkpoint of a model that you expect to be exactly identical (initializing a BertForSequenceClassification model from a BertForSequenceClassification model).\n",
      "100%|█████████████████████████████████████████| 200/200 [01:16<00:00,  2.60it/s]\n",
      "the auc-roc is {'pr': 0.6833725029377203, 're': 0.7075205640423031, 'f1': 0.6975910693301998, 'ave': 0.6991186839012927, 'random': 0.48366627497062276}\n"
     ]
    }
   ],
   "source": [
    "\n",
    "\n",
    "\n",
    "for i, SAMPLES_PATH in enumerate(SAMPLES_PATHS):\n",
    "    name = os.path.basename(SAMPLES_PATH).replace(\".csv\", \"\")\n",
    "    OUTPUT_PATH = f\"../scoring_results/{CHAR_KIND}/{name}_results.csv\"\n",
    "    \n",
    "    !python run_detection.py \\\n",
    "        --annotated {ANNOTATED_PATH} \\\n",
    "        --samples {SAMPLES_PATH}\\\n",
    "        --num_samples {NUM_SAMPLES} \\\n",
    "        --output {OUTPUT_PATH}"
   ]
  },
  {
   "cell_type": "code",
   "execution_count": null,
   "metadata": {},
   "outputs": [],
   "source": []
  }
 ],
 "metadata": {
  "kernelspec": {
   "display_name": "Python 3",
   "language": "python",
   "name": "python3"
  },
  "language_info": {
   "codemirror_mode": {
    "name": "ipython",
    "version": 3
   },
   "file_extension": ".py",
   "mimetype": "text/x-python",
   "name": "python",
   "nbconvert_exporter": "python",
   "pygments_lexer": "ipython3",
   "version": "3.9.8"
  }
 },
 "nbformat": 4,
 "nbformat_minor": 2
}
