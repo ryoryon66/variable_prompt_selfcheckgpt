{
 "cells": [
  {
   "cell_type": "code",
   "execution_count": null,
   "metadata": {},
   "outputs": [],
   "source": [
    "import glob \n",
    "import os\n",
    "\n",
    "\n",
    "\n",
    "samples_paths = glob.glob(f\"../data_sampled/BT/BT_query_samples.csv\")\n",
    "samples_paths.sort()\n",
    "samples_paths\n",
    "# os.path.basename(samples_paths[0]) "
   ]
  },
  {
   "cell_type": "code",
   "execution_count": null,
   "metadata": {},
   "outputs": [],
   "source": [
    "ANNOTATED_PATH = \"../construct_dataset/df_JAQKET_qa_annot1.csv\"\n",
    "SAMPLES_PATH = samples_paths[0]\n"
   ]
  },
  {
   "cell_type": "code",
   "execution_count": null,
   "metadata": {},
   "outputs": [],
   "source": [
    "for i, num_samples in enumerate(range(1, 10)):\n",
    "    name = os.path.basename(SAMPLES_PATH).replace(\".csv\", \"\")\n",
    "    OUTPUT_PATH = f\"../scoring_results/BT/{name}_used_samples_{num_samples}.csv\"\n",
    "    \n",
    "    print(f\"Running {name} with {num_samples} samples\")\n",
    "    \n",
    "    !python run_detection.py \\\n",
    "        --annotated {ANNOTATED_PATH} \\\n",
    "        --samples {SAMPLES_PATH}\\\n",
    "        --num_samples {num_samples} \\\n",
    "        --output {OUTPUT_PATH}"
   ]
  }
 ],
 "metadata": {
  "kernelspec": {
   "display_name": "Python 3",
   "language": "python",
   "name": "python3"
  },
  "language_info": {
   "codemirror_mode": {
    "name": "ipython",
    "version": 3
   },
   "file_extension": ".py",
   "mimetype": "text/x-python",
   "name": "python",
   "nbconvert_exporter": "python",
   "pygments_lexer": "ipython3",
   "version": "3.9.8"
  }
 },
 "nbformat": 4,
 "nbformat_minor": 2
}
