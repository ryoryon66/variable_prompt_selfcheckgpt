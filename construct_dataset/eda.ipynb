{
 "cells": [
  {
   "cell_type": "code",
   "execution_count": 1,
   "metadata": {},
   "outputs": [],
   "source": [
    "import pandas as pd \n",
    "import numpy as np\n",
    "\n",
    "df = pd.read_csv('./df_JAQKET_qa_annot1.csv')"
   ]
  },
  {
   "cell_type": "code",
   "execution_count": 2,
   "metadata": {},
   "outputs": [],
   "source": [
    "labels = []\n",
    "for i in range(len(df)):\n",
    "    labels_ = df[\"factuality\"][i].split(\",\")\n",
    "    labels.extend(labels_)\n",
    "labels = np.fromiter(labels, dtype=int)"
   ]
  },
  {
   "cell_type": "code",
   "execution_count": 3,
   "metadata": {},
   "outputs": [
    {
     "name": "stdout",
     "output_type": "stream",
     "text": [
      "0.4372623574144487 0.5627376425855514 263\n"
     ]
    }
   ],
   "source": [
    "factual_ratio = labels[labels == 1].sum() / len(labels) \n",
    "hallucination_ratio = (1-labels[labels == 0]).sum() / len(labels)\n",
    "count = len(labels)\n",
    "print(factual_ratio, hallucination_ratio, count)"
   ]
  },
  {
   "cell_type": "code",
   "execution_count": 4,
   "metadata": {},
   "outputs": [
    {
     "name": "stdout",
     "output_type": "stream",
     "text": [
      "115 148\n"
     ]
    }
   ],
   "source": [
    "num_factual = labels[labels == 1].sum()\n",
    "num_hallucination = (1-labels[labels == 0]).sum()\n",
    "print(num_factual, num_hallucination)"
   ]
  },
  {
   "cell_type": "code",
   "execution_count": null,
   "metadata": {},
   "outputs": [],
   "source": []
  }
 ],
 "metadata": {
  "kernelspec": {
   "display_name": "Python 3",
   "language": "python",
   "name": "python3"
  },
  "language_info": {
   "codemirror_mode": {
    "name": "ipython",
    "version": 3
   },
   "file_extension": ".py",
   "mimetype": "text/x-python",
   "name": "python",
   "nbconvert_exporter": "python",
   "pygments_lexer": "ipython3",
   "version": "3.9.8"
  }
 },
 "nbformat": 4,
 "nbformat_minor": 2
}
