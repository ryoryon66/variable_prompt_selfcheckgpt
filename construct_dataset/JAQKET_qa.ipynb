{
 "cells": [
  {
   "cell_type": "code",
   "execution_count": 1,
   "metadata": {},
   "outputs": [
    {
     "name": "stdout",
     "output_type": "stream",
     "text": [
      "\n",
      "===================================BUG REPORT===================================\n",
      "Welcome to bitsandbytes. For bug reports, please run\n",
      "\n",
      "python -m bitsandbytes\n",
      "\n",
      " and submit this information together with your error trace to: https://github.com/TimDettmers/bitsandbytes/issues\n",
      "================================================================================\n",
      "bin /home/ryoryon66/.pyenv/versions/3.9.8/lib/python3.9/site-packages/bitsandbytes/libbitsandbytes_cpu.so\n",
      "CUDA SETUP: WARNING! libcuda.so not found! Do you have a CUDA driver installed? If you are on a cluster, make sure you are on a CUDA machine!\n",
      "CUDA SETUP: CUDA runtime path found: /usr/local/cuda/lib64/libcudart.so\n",
      "CUDA SETUP: Loading binary /home/ryoryon66/.pyenv/versions/3.9.8/lib/python3.9/site-packages/bitsandbytes/libbitsandbytes_cpu.so...\n"
     ]
    },
    {
     "name": "stderr",
     "output_type": "stream",
     "text": [
      "/home/ryoryon66/.pyenv/versions/3.9.8/lib/python3.9/site-packages/bitsandbytes/cuda_setup/main.py:149: UserWarning: WARNING: No GPU detected! Check your CUDA paths. Proceeding to load CPU-only library...\n",
      "  warn(msg)\n"
     ]
    }
   ],
   "source": [
    "import sys \n",
    "sys.path.append('../')\n",
    "from utils.llm import LLM\n",
    "import tqdm\n",
    "\n",
    "llm = LLM()"
   ]
  },
  {
   "cell_type": "code",
   "execution_count": 2,
   "metadata": {},
   "outputs": [
    {
     "name": "stdout",
     "output_type": "stream",
     "text": [
      "ファンクションキーです。 F1、F2などのキーを押すと、画面に表示されるさまざまな機能を呼び出すことができます。\n"
     ]
    }
   ],
   "source": [
    "query = \"パソコンのキーボードの上部についている、「F1」「F2」などと書かれているキーの総称は何でしょう?\"\n",
    "answer = llm.generate(query)\n",
    "print(answer)"
   ]
  },
  {
   "cell_type": "code",
   "execution_count": 3,
   "metadata": {},
   "outputs": [
    {
     "name": "stdout",
     "output_type": "stream",
     "text": [
      "[{'answer': 'クリオネ',\n",
      "  'qid': 'QA20CAPR-0001',\n",
      "  'question': '和名をハダカカメガイといい、実は巻き貝の一種とされている、その姿から「流氷の天使」と呼ばれる動物は何でしょう?'},\n",
      " {'answer': '東方見聞録',\n",
      "  'qid': 'QA20CAPR-0003',\n",
      "  'question': '作家のルスティケロが、マルコ・ポーロから聞いた話をまとめた作品といえば何でしょう?'}]\n"
     ]
    }
   ],
   "source": [
    "import pprint\n",
    "from load_JAQKET import load_jaqket\n",
    "\n",
    "dataset = load_jaqket(n_samples=250)\n",
    "pprint.pprint(dataset[:2])"
   ]
  },
  {
   "cell_type": "code",
   "execution_count": 4,
   "metadata": {},
   "outputs": [
    {
     "name": "stderr",
     "output_type": "stream",
     "text": [
      "100%|██████████| 250/250 [11:37<00:00,  2.79s/it]\n"
     ]
    }
   ],
   "source": [
    "import pandas as pd\n",
    "import tqdm \n",
    "\n",
    "df = pd.DataFrame(dataset)\n",
    "# colとしてgenerated_answerを追加\n",
    "df[\"generated_answer\"] = None\n",
    "\n",
    "for d in tqdm.tqdm(dataset):\n",
    "    question = d[\"question\"]\n",
    "    generated_answer = llm.generate(question, temperture=0.01)\n",
    "\n",
    "    df.loc[df[\"qid\"] == d[\"qid\"], \"generated_answer\"] = generated_answer\n"
   ]
  },
  {
   "cell_type": "code",
   "execution_count": 5,
   "metadata": {},
   "outputs": [
    {
     "data": {
      "text/html": [
       "<div>\n",
       "<style scoped>\n",
       "    .dataframe tbody tr th:only-of-type {\n",
       "        vertical-align: middle;\n",
       "    }\n",
       "\n",
       "    .dataframe tbody tr th {\n",
       "        vertical-align: top;\n",
       "    }\n",
       "\n",
       "    .dataframe thead th {\n",
       "        text-align: right;\n",
       "    }\n",
       "</style>\n",
       "<table border=\"1\" class=\"dataframe\">\n",
       "  <thead>\n",
       "    <tr style=\"text-align: right;\">\n",
       "      <th></th>\n",
       "      <th>qid</th>\n",
       "      <th>question</th>\n",
       "      <th>answer</th>\n",
       "      <th>generated_answer</th>\n",
       "    </tr>\n",
       "  </thead>\n",
       "  <tbody>\n",
       "    <tr>\n",
       "      <th>0</th>\n",
       "      <td>QA20CAPR-0001</td>\n",
       "      <td>和名をハダカカメガイといい、実は巻き貝の一種とされている、その姿から「流氷の天使」と呼ばれる...</td>\n",
       "      <td>クリオネ</td>\n",
       "      <td>マンタ</td>\n",
       "    </tr>\n",
       "    <tr>\n",
       "      <th>1</th>\n",
       "      <td>QA20CAPR-0003</td>\n",
       "      <td>作家のルスティケロが、マルコ・ポーロから聞いた話をまとめた作品といえば何でしょう?</td>\n",
       "      <td>東方見聞録</td>\n",
       "      <td>『東方見聞録』です。</td>\n",
       "    </tr>\n",
       "    <tr>\n",
       "      <th>2</th>\n",
       "      <td>QA20CAPR-0005</td>\n",
       "      <td>『騎士団長殺し』『1Q84』『ノルウェイの森』といった小説の作者は誰でしょう?</td>\n",
       "      <td>村上春樹</td>\n",
       "      <td>村上春樹</td>\n",
       "    </tr>\n",
       "    <tr>\n",
       "      <th>3</th>\n",
       "      <td>QA20CAPR-0007</td>\n",
       "      <td>サッカーで、コーナーキックやフリーキックのようにボールを止めた状態から始めるプレーのことを何...</td>\n",
       "      <td>セットプレー</td>\n",
       "      <td>ゴールキック(Goal Kick)といいます。</td>\n",
       "    </tr>\n",
       "    <tr>\n",
       "      <th>4</th>\n",
       "      <td>QA20CAPR-0009</td>\n",
       "      <td>今から約140億年前に起こったとされる、宇宙の始まりの大爆発のことを何というでしょう?</td>\n",
       "      <td>ビッグバン</td>\n",
       "      <td>ビッグバン</td>\n",
       "    </tr>\n",
       "    <tr>\n",
       "      <th>...</th>\n",
       "      <td>...</td>\n",
       "      <td>...</td>\n",
       "      <td>...</td>\n",
       "      <td>...</td>\n",
       "    </tr>\n",
       "    <tr>\n",
       "      <th>245</th>\n",
       "      <td>QA20CAPR-0495</td>\n",
       "      <td>その職は北条氏が独占した、鎌倉幕府において将軍を補佐する役職を何というでしょう?</td>\n",
       "      <td>執権</td>\n",
       "      <td>執権職(しっけんしょく)。</td>\n",
       "    </tr>\n",
       "    <tr>\n",
       "      <th>246</th>\n",
       "      <td>QA20CAPR-0497</td>\n",
       "      <td>リーフデ号に乗って日本に漂着し、徳川家康に外交顧問として仕えたイギリスの航海士は誰でしょう?</td>\n",
       "      <td>ウィリアム・アダムス</td>\n",
       "      <td>ジョン・アダムズ</td>\n",
       "    </tr>\n",
       "    <tr>\n",
       "      <th>247</th>\n",
       "      <td>QA20CAPR-0499</td>\n",
       "      <td>全メソポタミアの統一に成功したバビロン第一王朝の王で、「目には目を、歯には歯を」で有名な法典...</td>\n",
       "      <td>ハンムラビ</td>\n",
       "      <td>ハンムラビ法典</td>\n",
       "    </tr>\n",
       "    <tr>\n",
       "      <th>248</th>\n",
       "      <td>QA20CAPR-0501</td>\n",
       "      <td>フランス語で「千枚の葉」という意味がある、薄いパイとカスタードクリームを何枚も重ねたフランス...</td>\n",
       "      <td>ミルフィーユ</td>\n",
       "      <td>フォレ・ノワール</td>\n",
       "    </tr>\n",
       "    <tr>\n",
       "      <th>249</th>\n",
       "      <td>QA20CAPR-0503</td>\n",
       "      <td>「東証株価指数」などというときの「東証」とは何ということばの略でしょう?</td>\n",
       "      <td>東京証券取引所</td>\n",
       "      <td>東京証券取引所の略です。</td>\n",
       "    </tr>\n",
       "  </tbody>\n",
       "</table>\n",
       "<p>250 rows × 4 columns</p>\n",
       "</div>"
      ],
      "text/plain": [
       "               qid                                           question  \\\n",
       "0    QA20CAPR-0001  和名をハダカカメガイといい、実は巻き貝の一種とされている、その姿から「流氷の天使」と呼ばれる...   \n",
       "1    QA20CAPR-0003          作家のルスティケロが、マルコ・ポーロから聞いた話をまとめた作品といえば何でしょう?   \n",
       "2    QA20CAPR-0005            『騎士団長殺し』『1Q84』『ノルウェイの森』といった小説の作者は誰でしょう?   \n",
       "3    QA20CAPR-0007  サッカーで、コーナーキックやフリーキックのようにボールを止めた状態から始めるプレーのことを何...   \n",
       "4    QA20CAPR-0009        今から約140億年前に起こったとされる、宇宙の始まりの大爆発のことを何というでしょう?   \n",
       "..             ...                                                ...   \n",
       "245  QA20CAPR-0495           その職は北条氏が独占した、鎌倉幕府において将軍を補佐する役職を何というでしょう?   \n",
       "246  QA20CAPR-0497     リーフデ号に乗って日本に漂着し、徳川家康に外交顧問として仕えたイギリスの航海士は誰でしょう?   \n",
       "247  QA20CAPR-0499  全メソポタミアの統一に成功したバビロン第一王朝の王で、「目には目を、歯には歯を」で有名な法典...   \n",
       "248  QA20CAPR-0501  フランス語で「千枚の葉」という意味がある、薄いパイとカスタードクリームを何枚も重ねたフランス...   \n",
       "249  QA20CAPR-0503               「東証株価指数」などというときの「東証」とは何ということばの略でしょう?   \n",
       "\n",
       "         answer         generated_answer  \n",
       "0          クリオネ                      マンタ  \n",
       "1         東方見聞録               『東方見聞録』です。  \n",
       "2          村上春樹                     村上春樹  \n",
       "3        セットプレー  ゴールキック(Goal Kick)といいます。  \n",
       "4         ビッグバン                    ビッグバン  \n",
       "..          ...                      ...  \n",
       "245          執権            執権職(しっけんしょく)。  \n",
       "246  ウィリアム・アダムス                 ジョン・アダムズ  \n",
       "247       ハンムラビ                  ハンムラビ法典  \n",
       "248      ミルフィーユ                 フォレ・ノワール  \n",
       "249     東京証券取引所             東京証券取引所の略です。  \n",
       "\n",
       "[250 rows x 4 columns]"
      ]
     },
     "execution_count": 5,
     "metadata": {},
     "output_type": "execute_result"
    }
   ],
   "source": [
    "df"
   ]
  },
  {
   "cell_type": "code",
   "execution_count": 6,
   "metadata": {},
   "outputs": [],
   "source": [
    "df = df.dropna(subset=[\"generated_answer\"])"
   ]
  },
  {
   "cell_type": "code",
   "execution_count": 7,
   "metadata": {},
   "outputs": [],
   "source": [
    "# dfを保存\n",
    "df.to_csv(\"df_JAQKET_qa.csv\", index=False)"
   ]
  },
  {
   "cell_type": "code",
   "execution_count": 1,
   "metadata": {},
   "outputs": [
    {
     "name": "stderr",
     "output_type": "stream",
     "text": [
      "Some weights of the model checkpoint at bert-base-multilingual-cased were not used when initializing BertModel: ['cls.predictions.transform.LayerNorm.bias', 'cls.seq_relationship.bias', 'cls.predictions.bias', 'cls.predictions.transform.dense.weight', 'cls.seq_relationship.weight', 'cls.predictions.transform.dense.bias', 'cls.predictions.transform.LayerNorm.weight']\n",
      "- This IS expected if you are initializing BertModel from the checkpoint of a model trained on another task or with another architecture (e.g. initializing a BertForSequenceClassification model from a BertForPreTraining model).\n",
      "- This IS NOT expected if you are initializing BertModel from the checkpoint of a model that you expect to be exactly identical (initializing a BertForSequenceClassification model from a BertForSequenceClassification model).\n",
      "The tokenizer class you load from this checkpoint is not the same type as the class this function is called from. It may result in unexpected tokenization. \n",
      "The tokenizer class you load from this checkpoint is 'BertJapaneseTokenizer'. \n",
      "The class this function is called from is 'BertTokenizer'.\n",
      "Some weights of the model checkpoint at cl-tohoku/bert-base-japanese were not used when initializing BertModel: ['cls.predictions.transform.LayerNorm.bias', 'cls.seq_relationship.bias', 'cls.predictions.bias', 'cls.predictions.decoder.weight', 'cls.predictions.transform.dense.weight', 'cls.seq_relationship.weight', 'cls.predictions.transform.dense.bias', 'cls.predictions.transform.LayerNorm.weight']\n",
      "- This IS expected if you are initializing BertModel from the checkpoint of a model trained on another task or with another architecture (e.g. initializing a BertForSequenceClassification model from a BertForPreTraining model).\n",
      "- This IS NOT expected if you are initializing BertModel from the checkpoint of a model that you expect to be exactly identical (initializing a BertForSequenceClassification model from a BertForSequenceClassification model).\n"
     ]
    }
   ],
   "source": [
    "import pandas as pd\n",
    "import sys \n",
    "sys.path.append('../')\n",
    "from utils.scoring import sentence_splitter\n",
    "\n",
    "df = pd.read_csv(\"df_JAQKET_qa.csv\")"
   ]
  },
  {
   "cell_type": "code",
   "execution_count": 2,
   "metadata": {},
   "outputs": [],
   "source": [
    "df[\"num_sentences\"] = df[\"generated_answer\"].apply(lambda x: len(sentence_splitter(x)))"
   ]
  },
  {
   "cell_type": "code",
   "execution_count": 3,
   "metadata": {},
   "outputs": [
    {
     "data": {
      "text/html": [
       "<div>\n",
       "<style scoped>\n",
       "    .dataframe tbody tr th:only-of-type {\n",
       "        vertical-align: middle;\n",
       "    }\n",
       "\n",
       "    .dataframe tbody tr th {\n",
       "        vertical-align: top;\n",
       "    }\n",
       "\n",
       "    .dataframe thead th {\n",
       "        text-align: right;\n",
       "    }\n",
       "</style>\n",
       "<table border=\"1\" class=\"dataframe\">\n",
       "  <thead>\n",
       "    <tr style=\"text-align: right;\">\n",
       "      <th></th>\n",
       "      <th>qid</th>\n",
       "      <th>question</th>\n",
       "      <th>answer</th>\n",
       "      <th>generated_answer</th>\n",
       "      <th>num_sentences</th>\n",
       "    </tr>\n",
       "  </thead>\n",
       "  <tbody>\n",
       "    <tr>\n",
       "      <th>0</th>\n",
       "      <td>QA20CAPR-0001</td>\n",
       "      <td>和名をハダカカメガイといい、実は巻き貝の一種とされている、その姿から「流氷の天使」と呼ばれる...</td>\n",
       "      <td>クリオネ</td>\n",
       "      <td>マンタ</td>\n",
       "      <td>1</td>\n",
       "    </tr>\n",
       "    <tr>\n",
       "      <th>1</th>\n",
       "      <td>QA20CAPR-0003</td>\n",
       "      <td>作家のルスティケロが、マルコ・ポーロから聞いた話をまとめた作品といえば何でしょう?</td>\n",
       "      <td>東方見聞録</td>\n",
       "      <td>『東方見聞録』です。</td>\n",
       "      <td>1</td>\n",
       "    </tr>\n",
       "    <tr>\n",
       "      <th>2</th>\n",
       "      <td>QA20CAPR-0005</td>\n",
       "      <td>『騎士団長殺し』『1Q84』『ノルウェイの森』といった小説の作者は誰でしょう?</td>\n",
       "      <td>村上春樹</td>\n",
       "      <td>村上春樹</td>\n",
       "      <td>1</td>\n",
       "    </tr>\n",
       "    <tr>\n",
       "      <th>3</th>\n",
       "      <td>QA20CAPR-0007</td>\n",
       "      <td>サッカーで、コーナーキックやフリーキックのようにボールを止めた状態から始めるプレーのことを何...</td>\n",
       "      <td>セットプレー</td>\n",
       "      <td>ゴールキック(Goal Kick)といいます。</td>\n",
       "      <td>1</td>\n",
       "    </tr>\n",
       "    <tr>\n",
       "      <th>4</th>\n",
       "      <td>QA20CAPR-0009</td>\n",
       "      <td>今から約140億年前に起こったとされる、宇宙の始まりの大爆発のことを何というでしょう?</td>\n",
       "      <td>ビッグバン</td>\n",
       "      <td>ビッグバン</td>\n",
       "      <td>1</td>\n",
       "    </tr>\n",
       "  </tbody>\n",
       "</table>\n",
       "</div>"
      ],
      "text/plain": [
       "             qid                                           question  answer  \\\n",
       "0  QA20CAPR-0001  和名をハダカカメガイといい、実は巻き貝の一種とされている、その姿から「流氷の天使」と呼ばれる...    クリオネ   \n",
       "1  QA20CAPR-0003          作家のルスティケロが、マルコ・ポーロから聞いた話をまとめた作品といえば何でしょう?   東方見聞録   \n",
       "2  QA20CAPR-0005            『騎士団長殺し』『1Q84』『ノルウェイの森』といった小説の作者は誰でしょう?    村上春樹   \n",
       "3  QA20CAPR-0007  サッカーで、コーナーキックやフリーキックのようにボールを止めた状態から始めるプレーのことを何...  セットプレー   \n",
       "4  QA20CAPR-0009        今から約140億年前に起こったとされる、宇宙の始まりの大爆発のことを何というでしょう?   ビッグバン   \n",
       "\n",
       "          generated_answer  num_sentences  \n",
       "0                      マンタ              1  \n",
       "1               『東方見聞録』です。              1  \n",
       "2                     村上春樹              1  \n",
       "3  ゴールキック(Goal Kick)といいます。              1  \n",
       "4                    ビッグバン              1  "
      ]
     },
     "execution_count": 3,
     "metadata": {},
     "output_type": "execute_result"
    }
   ],
   "source": [
    "df.head()"
   ]
  },
  {
   "cell_type": "code",
   "execution_count": 4,
   "metadata": {},
   "outputs": [
    {
     "data": {
      "text/html": [
       "<div>\n",
       "<style scoped>\n",
       "    .dataframe tbody tr th:only-of-type {\n",
       "        vertical-align: middle;\n",
       "    }\n",
       "\n",
       "    .dataframe tbody tr th {\n",
       "        vertical-align: top;\n",
       "    }\n",
       "\n",
       "    .dataframe thead th {\n",
       "        text-align: right;\n",
       "    }\n",
       "</style>\n",
       "<table border=\"1\" class=\"dataframe\">\n",
       "  <thead>\n",
       "    <tr style=\"text-align: right;\">\n",
       "      <th></th>\n",
       "      <th>num_sentences</th>\n",
       "    </tr>\n",
       "  </thead>\n",
       "  <tbody>\n",
       "    <tr>\n",
       "      <th>count</th>\n",
       "      <td>250.000000</td>\n",
       "    </tr>\n",
       "    <tr>\n",
       "      <th>mean</th>\n",
       "      <td>1.328000</td>\n",
       "    </tr>\n",
       "    <tr>\n",
       "      <th>std</th>\n",
       "      <td>0.833785</td>\n",
       "    </tr>\n",
       "    <tr>\n",
       "      <th>min</th>\n",
       "      <td>1.000000</td>\n",
       "    </tr>\n",
       "    <tr>\n",
       "      <th>25%</th>\n",
       "      <td>1.000000</td>\n",
       "    </tr>\n",
       "    <tr>\n",
       "      <th>50%</th>\n",
       "      <td>1.000000</td>\n",
       "    </tr>\n",
       "    <tr>\n",
       "      <th>75%</th>\n",
       "      <td>1.000000</td>\n",
       "    </tr>\n",
       "    <tr>\n",
       "      <th>max</th>\n",
       "      <td>6.000000</td>\n",
       "    </tr>\n",
       "  </tbody>\n",
       "</table>\n",
       "</div>"
      ],
      "text/plain": [
       "       num_sentences\n",
       "count     250.000000\n",
       "mean        1.328000\n",
       "std         0.833785\n",
       "min         1.000000\n",
       "25%         1.000000\n",
       "50%         1.000000\n",
       "75%         1.000000\n",
       "max         6.000000"
      ]
     },
     "execution_count": 4,
     "metadata": {},
     "output_type": "execute_result"
    }
   ],
   "source": [
    "df.describe()"
   ]
  },
  {
   "cell_type": "code",
   "execution_count": 10,
   "metadata": {},
   "outputs": [],
   "source": [
    "df.to_csv(\"df_JAQKET_qa.csv\", index=False)"
   ]
  },
  {
   "cell_type": "code",
   "execution_count": null,
   "metadata": {},
   "outputs": [],
   "source": []
  }
 ],
 "metadata": {
  "kernelspec": {
   "display_name": "Python 3",
   "language": "python",
   "name": "python3"
  },
  "language_info": {
   "codemirror_mode": {
    "name": "ipython",
    "version": 3
   },
   "file_extension": ".py",
   "mimetype": "text/x-python",
   "name": "python",
   "nbconvert_exporter": "python",
   "pygments_lexer": "ipython3",
   "version": "3.9.8"
  },
  "orig_nbformat": 4
 },
 "nbformat": 4,
 "nbformat_minor": 2
}
